{
 "cells": [
  {
   "cell_type": "markdown",
   "metadata": {},
   "source": [
    "# Library"
   ]
  },
  {
   "cell_type": "code",
   "execution_count": null,
   "metadata": {
    "colab": {
     "base_uri": "https://localhost:8080/"
    },
    "execution": {
     "iopub.execute_input": "2022-01-15T10:25:01.795688Z",
     "iopub.status.busy": "2022-01-15T10:25:01.794986Z",
     "iopub.status.idle": "2022-01-15T10:25:13.001673Z",
     "shell.execute_reply": "2022-01-15T10:25:13.000732Z",
     "shell.execute_reply.started": "2022-01-15T10:25:01.795591Z"
    },
    "id": "EP8Uk0lzPGqi",
    "outputId": "ad1df7bc-7aca-4d40-a0d9-ec000f9298a2",
    "trusted": true
   },
   "outputs": [
    {
     "name": "stdout",
     "output_type": "stream",
     "text": [
      "\u001b[K     |████████████████████████████████| 1.7 MB 4.3 MB/s \n",
      "\u001b[K     |████████████████████████████████| 21.8 MB 1.4 MB/s \n",
      "\u001b[K     |████████████████████████████████| 102 kB 49.1 MB/s \n",
      "\u001b[K     |████████████████████████████████| 376 kB 80.9 MB/s \n",
      "\u001b[K     |████████████████████████████████| 97 kB 8.4 MB/s \n",
      "\u001b[K     |████████████████████████████████| 142 kB 70.0 MB/s \n",
      "\u001b[K     |████████████████████████████████| 180 kB 77.7 MB/s \n",
      "\u001b[K     |████████████████████████████████| 63 kB 2.2 MB/s \n",
      "\u001b[?25h  Building wheel for subprocess32 (setup.py) ... \u001b[?25l\u001b[?25hdone\n",
      "  Building wheel for pathtools (setup.py) ... \u001b[?25l\u001b[?25hdone\n"
     ]
    }
   ],
   "source": [
    "! pip install wandb opencv-python-headless==4.1.2.30 albumentations torch-summary timm==0.5.4 einops joblib icecream  -qq -U"
   ]
  },
  {
   "cell_type": "code",
   "execution_count": null,
   "metadata": {
    "execution": {
     "iopub.execute_input": "2022-01-15T10:25:13.004437Z",
     "iopub.status.busy": "2022-01-15T10:25:13.004166Z",
     "iopub.status.idle": "2022-01-15T10:25:17.843442Z",
     "shell.execute_reply": "2022-01-15T10:25:17.842685Z",
     "shell.execute_reply.started": "2022-01-15T10:25:13.004400Z"
    },
    "id": "V8YpfugSPGqk",
    "trusted": true
   },
   "outputs": [],
   "source": [
    "from sklearn.metrics import f1_score\n",
    "from glob import glob\n",
    "import pathlib\n",
    "from pathlib import Path\n",
    "from torchsummary import summary\n",
    "import torch\n",
    "import torch.nn as nn\n",
    "import torch.nn.functional as F\n",
    "from torch.utils.data import Dataset, DataLoader\n",
    "import pandas as pd\n",
    "from pprint import pprint\n",
    "import urllib.request\n",
    "import csv\n",
    "import numpy as np\n",
    "from einops import rearrange, reduce, repeat\n",
    "from torch.cuda import amp\n",
    "from tqdm import tqdm\n",
    "import wandb\n",
    "import time\n",
    "import copy\n",
    "from collections import defaultdict\n",
    "from sklearn.metrics import mean_squared_error\n",
    "import joblib\n",
    "import gc\n",
    "import os\n",
    "from icecream import ic\n",
    "from sklearn.model_selection import train_test_split\n",
    "import gc\n",
    "import cv2\n",
    "import copy\n",
    "import time\n",
    "import random\n",
    "from PIL import Image\n",
    "\n",
    "# For data manipulation\n",
    "import numpy as np\n",
    "import pandas as pd\n",
    "\n",
    "# Pytorch Imports\n",
    "import torch\n",
    "import torch.nn as nn\n",
    "import torch.optim as optim\n",
    "from torch.optim import lr_scheduler\n",
    "from torch.utils.data import Dataset, DataLoader\n",
    "from torch.cuda import amp\n",
    "\n",
    "# Utils\n",
    "import joblib\n",
    "from tqdm import tqdm\n",
    "from collections import defaultdict\n",
    "\n",
    "# Sklearn Imports\n",
    "from sklearn.metrics import mean_squared_error\n",
    "from sklearn.model_selection import StratifiedKFold, KFold\n",
    "\n",
    "import timm\n",
    "\n",
    "import json\n",
    "\n",
    "# Albumentations for augmentations\n",
    "import albumentations as A\n",
    "from albumentations.pytorch import ToTensorV2\n",
    "\n",
    "# For colored terminal text\n",
    "from colorama import Fore, Back, Style\n",
    "c_ = Fore.CYAN\n",
    "sr_ = Style.RESET_ALL\n",
    "\n",
    "import warnings\n",
    "warnings.filterwarnings(\"ignore\")\n",
    "\n",
    "# For descriptive error messages\n",
    "os.environ['CUDA_LAUNCH_BLOCKING'] = \"1\"\n",
    "\n",
    "\n",
    "from sklearn.metrics import f1_score"
   ]
  },
  {
   "cell_type": "markdown",
   "metadata": {
    "id": "EVCBodi-PGql"
   },
   "source": [
    "# ENV"
   ]
  },
  {
   "cell_type": "code",
   "execution_count": null,
   "metadata": {
    "execution": {
     "iopub.execute_input": "2022-01-15T10:25:17.845495Z",
     "iopub.status.busy": "2022-01-15T10:25:17.845230Z",
     "iopub.status.idle": "2022-01-15T10:25:17.893347Z",
     "shell.execute_reply": "2022-01-15T10:25:17.892018Z",
     "shell.execute_reply.started": "2022-01-15T10:25:17.845458Z"
    },
    "id": "fbOZOG8UPGqm",
    "trusted": true
   },
   "outputs": [],
   "source": [
    "\n",
    "# ENV = 'COLAB'\n",
    "ENV = 'KAGGLE'\n",
    "# ENV = 'SYSTEM'\n",
    "\n",
    "# Option for Mixed Precision\n",
    "# FP16 = True\n",
    "FP16 = False\n",
    "\n",
    "\n",
    "CONFIG = dict(\n",
    "    nickname = 'data',\n",
    "    seed=42,\n",
    "    backbone='tf_efficientnet_b4_ns',\n",
    "    embedder=None,\n",
    "    train_batch_size=8,\n",
    "    valid_batch_size=16,\n",
    "    img_size=512,\n",
    "    num_epochs=50,\n",
    "    early_stopping = False,\n",
    "    early_stopping_step = 5,\n",
    "    learning_rate=1e-4,\n",
    "    scheduler='CosineAnnealingLR',\n",
    "    min_lr=1e-6,\n",
    "    T_max=100,\n",
    "    num_classes = 25,\n",
    "    weight_decay=1e-6,\n",
    "    device=torch.device(\"cuda:0\" if torch.cuda.is_available() else \"cpu\"),\n",
    "    competition='lg',\n",
    "    _wandb_kernel='deb'\n",
    ")\n",
    "\n",
    "\n",
    "device = torch.device(\"cuda\" if torch.cuda.is_available() else \"cpu\")\n"
   ]
  },
  {
   "cell_type": "markdown",
   "metadata": {
    "id": "M6BJH0gaPGqn"
   },
   "source": [
    "# SET SEED "
   ]
  },
  {
   "cell_type": "code",
   "execution_count": null,
   "metadata": {
    "execution": {
     "iopub.execute_input": "2022-01-15T10:25:17.896790Z",
     "iopub.status.busy": "2022-01-15T10:25:17.896189Z",
     "iopub.status.idle": "2022-01-15T10:25:17.909599Z",
     "shell.execute_reply": "2022-01-15T10:25:17.908786Z",
     "shell.execute_reply.started": "2022-01-15T10:25:17.896748Z"
    },
    "id": "Vj7acIAIPGqn",
    "trusted": true
   },
   "outputs": [],
   "source": [
    "def set_seed(seed=42):\n",
    "    '''Sets the seed of the entire notebook so results are the same every time we run.\n",
    "    This is for REPRODUCIBILITY.'''\n",
    "    np.random.seed(seed)\n",
    "    random.seed(seed)\n",
    "    torch.manual_seed(seed)\n",
    "    torch.cuda.manual_seed(seed)\n",
    "    # When running on the CuDNN backend, two further options must be set\n",
    "    torch.backends.cudnn.deterministic = True\n",
    "    torch.backends.cudnn.benchmark = False\n",
    "    # Set a fixed value for the hash seed\n",
    "    os.environ['PYTHONHASHSEED'] = str(seed)\n",
    "\n",
    "\n",
    "set_seed(CONFIG['seed'])\n"
   ]
  },
  {
   "cell_type": "markdown",
   "metadata": {
    "id": "0KA00McmPGqo"
   },
   "source": [
    "# Read the Data\n"
   ]
  },
  {
   "cell_type": "code",
   "execution_count": null,
   "metadata": {
    "colab": {
     "base_uri": "https://localhost:8080/",
     "height": 88
    },
    "execution": {
     "iopub.execute_input": "2022-01-15T10:25:17.911360Z",
     "iopub.status.busy": "2022-01-15T10:25:17.910859Z",
     "iopub.status.idle": "2022-01-15T10:28:30.802857Z",
     "shell.execute_reply": "2022-01-15T10:28:30.801968Z",
     "shell.execute_reply.started": "2022-01-15T10:25:17.911319Z"
    },
    "id": "jKC4FDfyPGqp",
    "outputId": "2f8fa75e-de42-46a9-9c38-3d8179fe3e9f",
    "trusted": true
   },
   "outputs": [
    {
     "data": {
      "text/html": [
       "Finishing last run (ID:2g7lsew4) before initializing another..."
      ],
      "text/plain": [
       "<IPython.core.display.HTML object>"
      ]
     },
     "metadata": {},
     "output_type": "display_data"
    },
    {
     "data": {
      "text/html": [
       "Successfully finished last run (ID:2g7lsew4). Initializing new run:<br/>"
      ],
      "text/plain": [
       "<IPython.core.display.HTML object>"
      ]
     },
     "metadata": {},
     "output_type": "display_data"
    },
    {
     "data": {
      "text/html": [
       "\n",
       "                    Resuming run <strong><a href=\"https://wandb.ai/jiwon7258/lg/runs/2g7lsew4\" target=\"_blank\">effortless-energy-48</a></strong> to <a href=\"https://wandb.ai/jiwon7258/lg\" target=\"_blank\">Weights & Biases</a> (<a href=\"https://docs.wandb.com/integrations/jupyter.html\" target=\"_blank\">docs</a>).<br/>\n",
       "\n",
       "                "
      ],
      "text/plain": [
       "<IPython.core.display.HTML object>"
      ]
     },
     "metadata": {},
     "output_type": "display_data"
    },
    {
     "name": "stderr",
     "output_type": "stream",
     "text": [
      "Done. 0:0:0\n"
     ]
    }
   ],
   "source": [
    "import wandb\n",
    "run = wandb.init(project=\"lg\", entity=\"jiwon7258\",\n",
    "                  job_type='data')\n",
    "dataset = wandb.run.use_artifact(\n",
    "    'jiwon7258/lg/lg_train:v0', type='dataset')\n",
    "\n",
    "run.name = 'train_csv.zip'\n",
    "\n",
    "# Download the artifact's contents\n",
    "dataset_dir = dataset.download()\n",
    "dataset_dir = Path(dataset_dir)\n"
   ]
  },
  {
   "cell_type": "code",
   "execution_count": null,
   "metadata": {
    "execution": {
     "iopub.execute_input": "2022-01-15T10:28:30.804754Z",
     "iopub.status.busy": "2022-01-15T10:28:30.804383Z",
     "iopub.status.idle": "2022-01-15T10:28:30.809944Z",
     "shell.execute_reply": "2022-01-15T10:28:30.809259Z",
     "shell.execute_reply.started": "2022-01-15T10:28:30.804698Z"
    },
    "id": "ca-5DetEPGqq",
    "trusted": true
   },
   "outputs": [],
   "source": [
    "TRAIN_PATH = dataset_dir\n",
    "# TEST_PATH = dataset_dir / 'test'"
   ]
  },
  {
   "cell_type": "markdown",
   "metadata": {
    "id": "lF_SM2DGPGqs"
   },
   "source": [
    "# Dataset"
   ]
  },
  {
   "cell_type": "code",
   "execution_count": null,
   "metadata": {
    "execution": {
     "iopub.execute_input": "2022-01-15T10:28:30.825534Z",
     "iopub.status.busy": "2022-01-15T10:28:30.824486Z",
     "iopub.status.idle": "2022-01-15T10:28:31.525603Z",
     "shell.execute_reply": "2022-01-15T10:28:31.524866Z",
     "shell.execute_reply.started": "2022-01-15T10:28:30.825498Z"
    },
    "id": "XW2BnvG6PGqs",
    "trusted": true
   },
   "outputs": [],
   "source": [
    "train_csv = sorted(glob(str(TRAIN_PATH / '*/*.csv')))\n",
    "train_jpg = sorted(glob(str(TRAIN_PATH / '*/*.jpg')))\n",
    "train_json = sorted(glob(str(TRAIN_PATH / '*/*.json')))\n",
    "\n",
    "import zipfile\n",
    "import os\n",
    "\n",
    "csvZip = zipfile.Zipfile('./train_csv.zip')\n",
    "for csv_path in train_csv :\n",
    "    csvZip.write()\n",
    "    \n",
    "csvZip.close()"
   ]
  }
 ],
 "metadata": {
  "language_info": {
   "name": "python"
  },
  "orig_nbformat": 4
 },
 "nbformat": 4,
 "nbformat_minor": 2
}
