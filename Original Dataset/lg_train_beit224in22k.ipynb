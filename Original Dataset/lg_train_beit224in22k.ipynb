{
  "cells": [
    {
      "cell_type": "markdown",
      "metadata": {
        "id": "XQuUKAHnPGqb"
      },
      "source": [
        "# Library"
      ]
    },
    {
      "cell_type": "code",
      "execution_count": 1,
      "metadata": {
        "colab": {
          "base_uri": "https://localhost:8080/"
        },
        "execution": {
          "iopub.execute_input": "2022-01-15T10:25:01.795688Z",
          "iopub.status.busy": "2022-01-15T10:25:01.794986Z",
          "iopub.status.idle": "2022-01-15T10:25:13.001673Z",
          "shell.execute_reply": "2022-01-15T10:25:13.000732Z",
          "shell.execute_reply.started": "2022-01-15T10:25:01.795591Z"
        },
        "id": "EP8Uk0lzPGqi",
        "outputId": "e020e1f0-3a1a-4e38-a980-dd8e78bde8ef",
        "trusted": true
      },
      "outputs": [
        {
          "output_type": "stream",
          "name": "stdout",
          "text": [
            "\u001b[K     |████████████████████████████████| 1.7 MB 13.2 MB/s \n",
            "\u001b[K     |████████████████████████████████| 21.8 MB 1.5 MB/s \n",
            "\u001b[K     |████████████████████████████████| 102 kB 49.7 MB/s \n",
            "\u001b[K     |████████████████████████████████| 431 kB 55.2 MB/s \n",
            "\u001b[K     |████████████████████████████████| 180 kB 48.2 MB/s \n",
            "\u001b[K     |████████████████████████████████| 97 kB 5.9 MB/s \n",
            "\u001b[K     |████████████████████████████████| 142 kB 48.1 MB/s \n",
            "\u001b[K     |████████████████████████████████| 63 kB 1.7 MB/s \n",
            "\u001b[?25h  Building wheel for subprocess32 (setup.py) ... \u001b[?25l\u001b[?25hdone\n",
            "  Building wheel for pathtools (setup.py) ... \u001b[?25l\u001b[?25hdone\n"
          ]
        }
      ],
      "source": [
        "! pip install wandb opencv-python-headless==4.1.2.30 albumentations torch-summary timm==0.5.4 einops joblib icecream  -qq -U"
      ]
    },
    {
      "cell_type": "code",
      "execution_count": 2,
      "metadata": {
        "execution": {
          "iopub.execute_input": "2022-01-15T10:25:13.004437Z",
          "iopub.status.busy": "2022-01-15T10:25:13.004166Z",
          "iopub.status.idle": "2022-01-15T10:25:17.843442Z",
          "shell.execute_reply": "2022-01-15T10:25:17.842685Z",
          "shell.execute_reply.started": "2022-01-15T10:25:13.004400Z"
        },
        "id": "V8YpfugSPGqk",
        "trusted": true
      },
      "outputs": [],
      "source": [
        "from sklearn.metrics import f1_score\n",
        "from glob import glob\n",
        "import pathlib\n",
        "from pathlib import Path\n",
        "from torchsummary import summary\n",
        "import torch\n",
        "import torch.nn as nn\n",
        "import torch.nn.functional as F\n",
        "from torch.utils.data import Dataset, DataLoader\n",
        "import pandas as pd\n",
        "from pprint import pprint\n",
        "import urllib.request\n",
        "import csv\n",
        "import numpy as np\n",
        "from einops import rearrange, reduce, repeat\n",
        "from torch.cuda import amp\n",
        "from tqdm import tqdm\n",
        "import wandb\n",
        "import time\n",
        "import copy\n",
        "from collections import defaultdict\n",
        "from sklearn.metrics import mean_squared_error\n",
        "import joblib\n",
        "import gc\n",
        "import os\n",
        "from icecream import ic\n",
        "from sklearn.model_selection import train_test_split\n",
        "import gc\n",
        "import cv2\n",
        "import copy\n",
        "import time\n",
        "import random\n",
        "from PIL import Image\n",
        "\n",
        "# For data manipulation\n",
        "import numpy as np\n",
        "import pandas as pd\n",
        "\n",
        "# Pytorch Imports\n",
        "import torch\n",
        "import torch.nn as nn\n",
        "import torch.optim as optim\n",
        "from torch.optim import lr_scheduler\n",
        "from torch.utils.data import Dataset, DataLoader\n",
        "from torch.cuda import amp\n",
        "\n",
        "# Utils\n",
        "import joblib\n",
        "from tqdm import tqdm\n",
        "from collections import defaultdict\n",
        "\n",
        "# Sklearn Imports\n",
        "from sklearn.metrics import mean_squared_error\n",
        "from sklearn.model_selection import StratifiedKFold, KFold\n",
        "\n",
        "import timm\n",
        "\n",
        "import json\n",
        "\n",
        "# Albumentations for augmentations\n",
        "import albumentations as A\n",
        "from albumentations.pytorch import ToTensorV2\n",
        "\n",
        "# For colored terminal text\n",
        "from colorama import Fore, Back, Style\n",
        "c_ = Fore.CYAN\n",
        "sr_ = Style.RESET_ALL\n",
        "\n",
        "import warnings\n",
        "warnings.filterwarnings(\"ignore\")\n",
        "\n",
        "# For descriptive error messages\n",
        "os.environ['CUDA_LAUNCH_BLOCKING'] = \"1\"\n",
        "\n",
        "\n",
        "from sklearn.metrics import f1_score"
      ]
    },
    {
      "cell_type": "markdown",
      "metadata": {
        "id": "EVCBodi-PGql"
      },
      "source": [
        "# ENV"
      ]
    },
    {
      "cell_type": "code",
      "execution_count": 3,
      "metadata": {
        "execution": {
          "iopub.execute_input": "2022-01-15T10:25:17.845495Z",
          "iopub.status.busy": "2022-01-15T10:25:17.845230Z",
          "iopub.status.idle": "2022-01-15T10:25:17.893347Z",
          "shell.execute_reply": "2022-01-15T10:25:17.892018Z",
          "shell.execute_reply.started": "2022-01-15T10:25:17.845458Z"
        },
        "id": "fbOZOG8UPGqm",
        "trusted": true
      },
      "outputs": [],
      "source": [
        "\n",
        "# ENV = 'COLAB'\n",
        "ENV = 'KAGGLE'\n",
        "# ENV = 'SYSTEM'\n",
        "\n",
        "# Option for Mixed Precision\n",
        "# FP16 = True\n",
        "FP16 = False\n",
        "\n",
        "\n",
        "CONFIG = dict(\n",
        "    nickname = 'BEiT 224 in22k',\n",
        "    seed=42,\n",
        "    backbone='beit_base_patch16_224_in22k',\n",
        "    embedder=None,\n",
        "    train_batch_size=8,\n",
        "    valid_batch_size=16,\n",
        "    img_size=224,\n",
        "    num_epochs=50,\n",
        "    early_stopping = False,\n",
        "    early_stopping_step = 5,\n",
        "    learning_rate=1e-4,\n",
        "    scheduler='CosineAnnealingLR',\n",
        "    min_lr=1e-6,\n",
        "    T_max=100,\n",
        "    num_classes = 25,\n",
        "    weight_decay=1e-6,\n",
        "    device=torch.device(\"cuda:0\" if torch.cuda.is_available() else \"cpu\"),\n",
        "    competition='lg',\n",
        "    _wandb_kernel='deb'\n",
        ")\n",
        "\n",
        "\n",
        "device = torch.device(\"cuda\" if torch.cuda.is_available() else \"cpu\")\n"
      ]
    },
    {
      "cell_type": "markdown",
      "metadata": {
        "id": "M6BJH0gaPGqn"
      },
      "source": [
        "# SET SEED "
      ]
    },
    {
      "cell_type": "code",
      "execution_count": 4,
      "metadata": {
        "execution": {
          "iopub.execute_input": "2022-01-15T10:25:17.896790Z",
          "iopub.status.busy": "2022-01-15T10:25:17.896189Z",
          "iopub.status.idle": "2022-01-15T10:25:17.909599Z",
          "shell.execute_reply": "2022-01-15T10:25:17.908786Z",
          "shell.execute_reply.started": "2022-01-15T10:25:17.896748Z"
        },
        "id": "Vj7acIAIPGqn",
        "trusted": true
      },
      "outputs": [],
      "source": [
        "def set_seed(seed=42):\n",
        "    '''Sets the seed of the entire notebook so results are the same every time we run.\n",
        "    This is for REPRODUCIBILITY.'''\n",
        "    np.random.seed(seed)\n",
        "    random.seed(seed)\n",
        "    torch.manual_seed(seed)\n",
        "    torch.cuda.manual_seed(seed)\n",
        "    # When running on the CuDNN backend, two further options must be set\n",
        "    torch.backends.cudnn.deterministic = True\n",
        "    torch.backends.cudnn.benchmark = False\n",
        "    # Set a fixed value for the hash seed\n",
        "    os.environ['PYTHONHASHSEED'] = str(seed)\n",
        "\n",
        "\n",
        "set_seed(CONFIG['seed'])\n"
      ]
    },
    {
      "cell_type": "markdown",
      "metadata": {
        "id": "0KA00McmPGqo"
      },
      "source": [
        "# Read the Data\n"
      ]
    },
    {
      "cell_type": "code",
      "execution_count": 5,
      "metadata": {
        "colab": {
          "base_uri": "https://localhost:8080/",
          "height": 127
        },
        "execution": {
          "iopub.execute_input": "2022-01-15T10:25:17.911360Z",
          "iopub.status.busy": "2022-01-15T10:25:17.910859Z",
          "iopub.status.idle": "2022-01-15T10:28:30.802857Z",
          "shell.execute_reply": "2022-01-15T10:28:30.801968Z",
          "shell.execute_reply.started": "2022-01-15T10:25:17.911319Z"
        },
        "id": "jKC4FDfyPGqp",
        "outputId": "977b64d2-70b5-486e-daf3-c4e3ce8dc09f",
        "trusted": true
      },
      "outputs": [
        {
          "output_type": "display_data",
          "data": {
            "application/javascript": [
              "\n",
              "        window._wandbApiKey = new Promise((resolve, reject) => {\n",
              "            function loadScript(url) {\n",
              "            return new Promise(function(resolve, reject) {\n",
              "                let newScript = document.createElement(\"script\");\n",
              "                newScript.onerror = reject;\n",
              "                newScript.onload = resolve;\n",
              "                document.body.appendChild(newScript);\n",
              "                newScript.src = url;\n",
              "            });\n",
              "            }\n",
              "            loadScript(\"https://cdn.jsdelivr.net/npm/postmate/build/postmate.min.js\").then(() => {\n",
              "            const iframe = document.createElement('iframe')\n",
              "            iframe.style.cssText = \"width:0;height:0;border:none\"\n",
              "            document.body.appendChild(iframe)\n",
              "            const handshake = new Postmate({\n",
              "                container: iframe,\n",
              "                url: 'https://wandb.ai/authorize'\n",
              "            });\n",
              "            const timeout = setTimeout(() => reject(\"Couldn't auto authenticate\"), 5000)\n",
              "            handshake.then(function(child) {\n",
              "                child.on('authorize', data => {\n",
              "                    clearTimeout(timeout)\n",
              "                    resolve(data)\n",
              "                });\n",
              "            });\n",
              "            })\n",
              "        });\n",
              "    "
            ],
            "text/plain": [
              "<IPython.core.display.Javascript object>"
            ]
          },
          "metadata": {}
        },
        {
          "output_type": "stream",
          "name": "stderr",
          "text": [
            "\u001b[34m\u001b[1mwandb\u001b[0m: You can find your API key in your browser here: https://wandb.ai/authorize\n"
          ]
        },
        {
          "name": "stdout",
          "output_type": "stream",
          "text": [
            "wandb: Paste an API key from your profile and hit enter, or press ctrl+c to quit: ··········\n"
          ]
        },
        {
          "output_type": "stream",
          "name": "stderr",
          "text": [
            "\u001b[34m\u001b[1mwandb\u001b[0m: Appending key for api.wandb.ai to your netrc file: /root/.netrc\n"
          ]
        },
        {
          "output_type": "display_data",
          "data": {
            "text/html": [
              "\n",
              "                    Syncing run <strong><a href=\"https://wandb.ai/jiwon7258/lg/runs/1u03kks6\" target=\"_blank\">icy-grass-69</a></strong> to <a href=\"https://wandb.ai/jiwon7258/lg\" target=\"_blank\">Weights & Biases</a> (<a href=\"https://docs.wandb.com/integrations/jupyter.html\" target=\"_blank\">docs</a>).<br/>\n",
              "\n",
              "                "
            ],
            "text/plain": [
              "<IPython.core.display.HTML object>"
            ]
          },
          "metadata": {}
        },
        {
          "output_type": "stream",
          "name": "stderr",
          "text": [
            "\u001b[34m\u001b[1mwandb\u001b[0m: Downloading large artifact lg_train:v0, 918.24MB. 17301 files... Done. 0:0:0\n"
          ]
        }
      ],
      "source": [
        "import wandb\n",
        "run = wandb.init(project=\"lg\", entity=\"jiwon7258\",\n",
        "                 config=CONFIG, job_type='train', resume=True)\n",
        "dataset = wandb.run.use_artifact(\n",
        "    'jiwon7258/lg/lg_train:v0', type='dataset')\n",
        "\n",
        "run.name = CONFIG['nickname']\n",
        "\n",
        "# Download the artifact's contents\n",
        "dataset_dir = dataset.download()\n",
        "dataset_dir = Path(dataset_dir)\n"
      ]
    },
    {
      "cell_type": "code",
      "execution_count": 6,
      "metadata": {
        "execution": {
          "iopub.execute_input": "2022-01-15T10:28:30.804754Z",
          "iopub.status.busy": "2022-01-15T10:28:30.804383Z",
          "iopub.status.idle": "2022-01-15T10:28:30.809944Z",
          "shell.execute_reply": "2022-01-15T10:28:30.809259Z",
          "shell.execute_reply.started": "2022-01-15T10:28:30.804698Z"
        },
        "id": "ca-5DetEPGqq",
        "trusted": true
      },
      "outputs": [],
      "source": [
        "TRAIN_PATH = dataset_dir\n",
        "# TEST_PATH = dataset_dir / 'test'"
      ]
    },
    {
      "cell_type": "markdown",
      "metadata": {
        "id": "n-8x5P--PGqr"
      },
      "source": [
        "# Augmentations"
      ]
    },
    {
      "cell_type": "code",
      "execution_count": 7,
      "metadata": {
        "execution": {
          "iopub.execute_input": "2022-01-15T10:28:30.813928Z",
          "iopub.status.busy": "2022-01-15T10:28:30.811190Z",
          "iopub.status.idle": "2022-01-15T10:28:30.822155Z",
          "shell.execute_reply": "2022-01-15T10:28:30.821435Z",
          "shell.execute_reply.started": "2022-01-15T10:28:30.813872Z"
        },
        "id": "Qetw9jGjPGqr",
        "trusted": true
      },
      "outputs": [],
      "source": [
        "data_transforms = {\n",
        "    \"train\": A.Compose([\n",
        "        A.Resize(CONFIG['img_size'], CONFIG['img_size']),\n",
        "        A.ShiftScaleRotate(shift_limit=0.1, scale_limit=0.1,\n",
        "                           rotate_limit=35, p=0.5),\n",
        "        A.RGBShift(r_shift_limit=15, g_shift_limit=15,\n",
        "                   b_shift_limit=15, p=0.5),\n",
        "        A.RandomBrightnessContrast(p=0.5),\n",
        "        A.HorizontalFlip(p=0.5),\n",
        "        A.VerticalFlip(p=0.5),\n",
        "        A.Normalize(),\n",
        "        ToTensorV2()], p=1.),\n",
        "\n",
        "    \"valid\": A.Compose([\n",
        "        A.Resize(CONFIG['img_size'], CONFIG['img_size']),\n",
        "        A.Normalize(),\n",
        "        ToTensorV2()], p=1.)\n",
        "}\n"
      ]
    },
    {
      "cell_type": "markdown",
      "metadata": {
        "id": "lF_SM2DGPGqs"
      },
      "source": [
        "# Dataset"
      ]
    },
    {
      "cell_type": "code",
      "execution_count": 8,
      "metadata": {
        "execution": {
          "iopub.execute_input": "2022-01-15T10:28:30.825534Z",
          "iopub.status.busy": "2022-01-15T10:28:30.824486Z",
          "iopub.status.idle": "2022-01-15T10:28:31.525603Z",
          "shell.execute_reply": "2022-01-15T10:28:31.524866Z",
          "shell.execute_reply.started": "2022-01-15T10:28:30.825498Z"
        },
        "id": "XW2BnvG6PGqs",
        "trusted": true
      },
      "outputs": [],
      "source": [
        "train_csv = sorted(glob(str(TRAIN_PATH / '*/*.csv')))\n",
        "train_jpg = sorted(glob(str(TRAIN_PATH / '*/*.jpg')))\n",
        "train_json = sorted(glob(str(TRAIN_PATH / '*/*.json')))\n",
        "\n",
        "\n",
        "crops = []\n",
        "diseases = []\n",
        "risks = []\n",
        "labels = []\n",
        "\n",
        "for i in range(len(train_json)):\n",
        "    with open(train_json[i], 'r') as f:\n",
        "        sample = json.load(f)\n",
        "        crop = sample['annotations']['crop']\n",
        "        disease = sample['annotations']['disease']\n",
        "        risk = sample['annotations']['risk']\n",
        "        label=f\"{crop}_{disease}_{risk}\"\n",
        "    \n",
        "        crops.append(crop)\n",
        "        diseases.append(disease)\n",
        "        risks.append(risk)\n",
        "        labels.append(label)\n",
        "        \n",
        "label_unique = sorted(np.unique(labels))\n",
        "label_unique = {key:value for key,value in zip(label_unique, range(len(label_unique)))}\n",
        "\n",
        "train_labels = [label_unique[k] for k in labels] # len = train_len"
      ]
    },
    {
      "cell_type": "code",
      "execution_count": 9,
      "metadata": {
        "id": "AIQNMAQ_PGqt"
      },
      "outputs": [],
      "source": [
        "train_jpg = np.array(train_jpg)\n",
        "train_labels = np.array(train_labels)"
      ]
    },
    {
      "cell_type": "code",
      "execution_count": 10,
      "metadata": {
        "execution": {
          "iopub.execute_input": "2022-01-15T10:28:31.562715Z",
          "iopub.status.busy": "2022-01-15T10:28:31.562438Z",
          "iopub.status.idle": "2022-01-15T10:28:31.587681Z",
          "shell.execute_reply": "2022-01-15T10:28:31.586382Z",
          "shell.execute_reply.started": "2022-01-15T10:28:31.562681Z"
        },
        "id": "40-6mAVePGqt",
        "trusted": true
      },
      "outputs": [],
      "source": [
        "class CustomDataset(Dataset):\n",
        "    def __init__(self, train_img, train_label, transforms=None):\n",
        "        self.imgs = train_img\n",
        "        self.labels = train_label\n",
        "        self.transforms = transforms\n",
        "        \n",
        "    def __len__(self):\n",
        "        return len(self.imgs)\n",
        "    \n",
        "    def __getitem__(self, index):\n",
        "        img_path = self.imgs[index]\n",
        "        img = cv2.imread(img_path)\n",
        "        img = cv2.cvtColor(img, cv2.COLOR_BGR2RGB)\n",
        "        target = self.labels[index]\n",
        "        \n",
        "        if self.transforms:\n",
        "            img = self.transforms(image=img)[\"image\"]\n",
        "            \n",
        "        return img, target\n",
        "    \n",
        "# trainDataset = CustomDataset(X_train, y_train, transforms = data_transforms['train'])\n",
        "# trainDataloader = DataLoader(\n",
        "#     trainDataset, batch_size=CONFIG['train_batch_size'], shuffle=True)\n",
        "\n",
        "# validDataset = CustomDataset(X_val, y_val, transforms = data_transforms['valid'])\n",
        "# validDataloader = DataLoader(validDataset, batch_size = CONFIG['valid_batch_size'], shuffle = True)"
      ]
    },
    {
      "cell_type": "code",
      "execution_count": 11,
      "metadata": {
        "id": "TucH1uf_PGqu"
      },
      "outputs": [],
      "source": [
        "from sklearn.model_selection import StratifiedKFold\n",
        "train_datasets = []\n",
        "valid_datasets = []\n",
        "train_dataloaders = []\n",
        "valid_dataloaders = []\n",
        "\n",
        "skf = StratifiedKFold(n_splits = 5)\n",
        "\n",
        "for step, (train_index, val_index) in enumerate(skf.split(X = train_jpg, y= train_labels)):\n",
        "    X_train = train_jpg[train_index]\n",
        "    y_train = train_labels[train_index]\n",
        "    X_val = train_jpg[val_index]\n",
        "    y_val = train_labels[val_index]\n",
        "    train_datasets.append(CustomDataset(\n",
        "        X_train, y_train, transforms=data_transforms['train']))\n",
        "    valid_datasets.append(CustomDataset(\n",
        "        X_val, y_val, transforms=data_transforms['valid']))\n",
        "    train_dataloaders.append(DataLoader(\n",
        "        train_datasets[step], batch_size=CONFIG['train_batch_size'], shuffle=True)\n",
        "    )\n",
        "    valid_dataloaders.append(\n",
        "        DataLoader(\n",
        "            valid_datasets[step], batch_size=CONFIG['valid_batch_size'], shuffle=True)\n",
        "    )\n"
      ]
    },
    {
      "cell_type": "markdown",
      "metadata": {
        "id": "qquyNic-PGqu"
      },
      "source": [
        "# Model"
      ]
    },
    {
      "cell_type": "code",
      "execution_count": 12,
      "metadata": {
        "colab": {
          "base_uri": "https://localhost:8080/",
          "height": 75
        },
        "execution": {
          "iopub.execute_input": "2022-01-15T10:28:31.595710Z",
          "iopub.status.busy": "2022-01-15T10:28:31.592703Z",
          "iopub.status.idle": "2022-01-15T10:29:04.375344Z",
          "shell.execute_reply": "2022-01-15T10:29:04.374595Z",
          "shell.execute_reply.started": "2022-01-15T10:28:31.595662Z"
        },
        "id": "EeRw9VshPGqv",
        "outputId": "920f747a-c549-44e7-d7fa-fee3824c49c3",
        "trusted": true
      },
      "outputs": [
        {
          "output_type": "stream",
          "name": "stderr",
          "text": [
            "Downloading: \"https://unilm.blob.core.windows.net/beit/beit_base_patch16_224_pt22k_ft22k.pth\" to /root/.cache/torch/hub/checkpoints/beit_base_patch16_224_pt22k_ft22k.pth\n"
          ]
        },
        {
          "output_type": "execute_result",
          "data": {
            "application/vnd.google.colaboratory.intrinsic+json": {
              "type": "string"
            },
            "text/plain": [
              "''"
            ]
          },
          "metadata": {},
          "execution_count": 12
        }
      ],
      "source": [
        "class Model(nn.Module):\n",
        "    def __init__(self, backbone, embedder, pretrained=True):\n",
        "        super(Model, self).__init__()\n",
        "        self.backbone = timm.create_model(backbone, pretrained=pretrained)\n",
        "        self.backbone.reset_classifier(0)\n",
        "        self.n_features = self.backbone.num_features\n",
        "        self.fc = nn.Linear(self.n_features, CONFIG['num_classes'])\n",
        "\n",
        "    def forward(self, images):\n",
        "        # features = (bs, embedding_size)\n",
        "        features = self.backbone(images)\n",
        "        # outputs  = (bs, num_classes)\n",
        "        # if isinstance(features, tuple):\n",
        "        #   features = features[0]\n",
        "        output = self.fc(features)\n",
        "        return output\n",
        "\n",
        "\n",
        "model = Model(CONFIG['backbone'], CONFIG['embedder'], pretrained = True)\n",
        "model.to(CONFIG['device'])\n",
        ";"
      ]
    },
    {
      "cell_type": "code",
      "execution_count": 13,
      "metadata": {
        "execution": {
          "iopub.execute_input": "2022-01-15T10:29:04.376696Z",
          "iopub.status.busy": "2022-01-15T10:29:04.376445Z",
          "iopub.status.idle": "2022-01-15T10:29:04.383964Z",
          "shell.execute_reply": "2022-01-15T10:29:04.383287Z",
          "shell.execute_reply.started": "2022-01-15T10:29:04.376660Z"
        },
        "id": "5yml5ZPPPGqv",
        "trusted": true
      },
      "outputs": [],
      "source": [
        "optimizer = torch.optim.Adam(\n",
        "    params=model.parameters(), lr=CONFIG['learning_rate'], weight_decay=CONFIG['weight_decay'])\n"
      ]
    },
    {
      "cell_type": "code",
      "execution_count": 14,
      "metadata": {
        "execution": {
          "iopub.execute_input": "2022-01-15T10:29:04.385682Z",
          "iopub.status.busy": "2022-01-15T10:29:04.385257Z",
          "iopub.status.idle": "2022-01-15T10:29:05.537793Z",
          "shell.execute_reply": "2022-01-15T10:29:05.536741Z",
          "shell.execute_reply.started": "2022-01-15T10:29:04.385649Z"
        },
        "id": "iIKSttnGPGqv",
        "trusted": true
      },
      "outputs": [],
      "source": [
        "def criterion(logits: torch.tensor, targets: torch.tensor):\n",
        "    return nn.CrossEntropyLoss()(logits.view(-1,CONFIG['num_classes']), targets.view(-1))"
      ]
    },
    {
      "cell_type": "markdown",
      "metadata": {
        "id": "a0omce9FPGqw"
      },
      "source": [
        "   # Training Function"
      ]
    },
    {
      "cell_type": "code",
      "execution_count": 15,
      "metadata": {
        "execution": {
          "iopub.execute_input": "2022-01-15T10:33:47.356814Z",
          "iopub.status.busy": "2022-01-15T10:33:47.356540Z",
          "iopub.status.idle": "2022-01-15T10:33:47.375626Z",
          "shell.execute_reply": "2022-01-15T10:33:47.373734Z",
          "shell.execute_reply.started": "2022-01-15T10:33:47.356781Z"
        },
        "id": "aC6ChxxqPGqw",
        "trusted": true
      },
      "outputs": [],
      "source": [
        "def train_one_epoch(model, optimizer, scheduler, dataloader, device, epoch):\n",
        "    # train 모드로 변경\n",
        "    model.train()\n",
        "\n",
        "    # for the Mixed Precision\n",
        "    # Pytorch 예제 : https://pytorch.org/docs/stable/notes/amp_examples.html#amp-examples\n",
        "    if(FP16):\n",
        "        scaler = amp.GradScaler()\n",
        "\n",
        "    dataset_size = 0\n",
        "    running_loss = 0\n",
        "    step_acc = 0\n",
        "    accuracy = 0\n",
        "    f1 = 0\n",
        "\n",
        "    bar = tqdm(enumerate(dataloader), total=len(dataloader))\n",
        "\n",
        "    for step, (img, target) in bar:\n",
        "        img = img.to(device)\n",
        "        target = target.to(device)\n",
        "\n",
        "        batch_size = img.shape[0]\n",
        "\n",
        "        if(FP16):\n",
        "            with amp.autocast(enabled=True):\n",
        "                logits = model(img)\n",
        "                loss = criterion(logits, target)\n",
        "\n",
        "                # loss를 Scale\n",
        "                # Scaled Grdients를 계산(call)하기 위해 scaled loss를 backward()\n",
        "                scaler.scale(loss).backward()\n",
        "                # scaler.step() first unscales the gradients of the optimizer's assigned params.\n",
        "                # If these gradients do not contain infs or NaNs, optimizer.step() is then called,\n",
        "                # otherwise, optimizer.step() is skipped.\n",
        "                scaler.step(optimizer)\n",
        "\n",
        "                # Updates the scale for next iteration.\n",
        "                scaler.update()\n",
        "\n",
        "        else:\n",
        "            logits = model(img)\n",
        "            loss = criterion(logits, target)\n",
        "\n",
        "            loss.backward()\n",
        "            torch.nn.utils.clip_grad_norm_(model.parameters(), 1)\n",
        "            optimizer.step()\n",
        "\n",
        "        # logits (bs, seq_len, VOCAB_SIZE)\n",
        "        # trg_output (bs, seq_len)\n",
        "\n",
        "        # zero the parameter gradients\n",
        "        optimizer.zero_grad()\n",
        "\n",
        "        # change learning rate by Scheduler\n",
        "        if scheduler is not None:\n",
        "            scheduler.step()\n",
        "\n",
        "        # loss.item()은 loss를 Python Float으로 반환\n",
        "        # loss.item()은 batch data의 average loss이므로, sum of loss를 구하기 위해 batch_size를 곱해준다\n",
        "        running_loss += loss.item() * batch_size\n",
        "        dataset_size += batch_size\n",
        "        \n",
        "        # logits\n",
        "        logits = logits.detach().cpu()\n",
        "\n",
        "        # acc, f1\n",
        "        output = np.argmax(torch.softmax(logits, dim = -1), axis = -1)\n",
        "        step_acc = np.mean(\n",
        "            output.view(-1).numpy() == target.view(-1).detach().cpu().numpy())\n",
        "        step_f1 = f1_score(output.view(-1).numpy(),\n",
        "                           target.view(-1).detach().cpu().numpy(),average='macro')\n",
        "        accuracy += step_acc\n",
        "        f1 += step_f1\n",
        "\n",
        "        # loss\n",
        "        train_loss = running_loss / dataset_size\n",
        "\n",
        "        bar.set_postfix(\n",
        "            Epoch=epoch, Train_Loss=train_loss, LR=optimizer.param_groups[0][\"lr\"], accuracy=accuracy / np.float(\n",
        "                step+1), f1 = f1 / np.float(step+1)\n",
        "        )\n",
        "\n",
        "        # break\n",
        "\n",
        "    accuracy /= len(dataloader)\n",
        "    f1 /= len(dataloader)\n",
        "    # Garbage Collector\n",
        "    gc.collect()\n",
        "\n",
        "    return train_loss, accuracy, f1\n"
      ]
    },
    {
      "cell_type": "markdown",
      "metadata": {
        "id": "csIOYVOxPGqx"
      },
      "source": [
        "   # Validation Function"
      ]
    },
    {
      "cell_type": "code",
      "execution_count": 16,
      "metadata": {
        "execution": {
          "iopub.execute_input": "2022-01-15T10:33:47.378229Z",
          "iopub.status.busy": "2022-01-15T10:33:47.377682Z",
          "iopub.status.idle": "2022-01-15T10:33:47.393570Z",
          "shell.execute_reply": "2022-01-15T10:33:47.392783Z",
          "shell.execute_reply.started": "2022-01-15T10:33:47.378191Z"
        },
        "id": "QLhONiwOPGqx",
        "trusted": true
      },
      "outputs": [],
      "source": [
        "@torch.no_grad()\n",
        "def valid_one_epoch(model, dataloader, device, epoch):\n",
        "    model.eval()\n",
        "\n",
        "    dataset_size = 0\n",
        "    running_loss = 0\n",
        "    accuracy = 0\n",
        "    f1 = 0\n",
        "\n",
        "\n",
        "    bar = tqdm(enumerate(dataloader), total=len(dataloader))\n",
        "\n",
        "    for step, (img, target) in bar:\n",
        "        img = img.to(device)\n",
        "        target = target.to(device)\n",
        "\n",
        "        batch_size = img.shape[0]\n",
        "\n",
        "        logits = model(img)\n",
        "        loss = criterion(logits, target)\n",
        "\n",
        "        running_loss += loss.item() * batch_size\n",
        "        dataset_size += batch_size\n",
        "\n",
        "        # 실시간으로 정보를 표시하기 위한 epoch loss\n",
        "        val_loss = running_loss / dataset_size\n",
        "\n",
        "        # logits\n",
        "        logits = logits.detach().cpu()\n",
        "        \n",
        "        output = np.argmax(torch.softmax(logits, dim=-1), axis=-1)\n",
        "        step_acc = np.mean(\n",
        "            output.view(-1).numpy() == target.view(-1).detach().cpu().numpy())\n",
        "        step_f1 = f1_score(output.view(-1).numpy(),\n",
        "                           target.view(-1).detach().cpu().numpy(), average='macro')\n",
        "        accuracy += step_acc\n",
        "        f1 += step_f1\n",
        "\n",
        "\n",
        "        bar.set_postfix(\n",
        "            Epoch=epoch, Valid_Loss=val_loss, LR=optimizer.param_groups[0][\"lr\"], accuracy=accuracy / np.float(\n",
        "                step+1), f1 = f1 / np.float(step+1)\n",
        "        )\n",
        "\n",
        "        # break\n",
        "\n",
        "    accuracy /= len(dataloader)\n",
        "    f1 /= len(dataloader)\n",
        "\n",
        "    gc.collect()\n",
        "\n",
        "    return val_loss, accuracy, f1\n"
      ]
    },
    {
      "cell_type": "code",
      "execution_count": 17,
      "metadata": {
        "execution": {
          "iopub.execute_input": "2022-01-15T10:33:47.395930Z",
          "iopub.status.busy": "2022-01-15T10:33:47.395337Z",
          "iopub.status.idle": "2022-01-15T10:33:47.415192Z",
          "shell.execute_reply": "2022-01-15T10:33:47.414280Z",
          "shell.execute_reply.started": "2022-01-15T10:33:47.395894Z"
        },
        "id": "jZfZNPdfPGqx",
        "trusted": true
      },
      "outputs": [],
      "source": [
        "START_EPOCH = 0\n",
        "\n",
        "\n",
        "def run_training(\n",
        "    model,\n",
        "    optimizer,\n",
        "    scheduler,\n",
        "    device,\n",
        "    num_epochs,\n",
        "    metric_prefix=\"\",\n",
        "    file_prefix=\"\",\n",
        "    early_stopping=True,\n",
        "    early_stopping_step=10,\n",
        "):\n",
        "    # To automatically log graidents\n",
        "    wandb.watch(model, log_freq=100)\n",
        "\n",
        "    if torch.cuda.is_available():\n",
        "        print(\"[INFO] Using GPU:{}\\n\".format(torch.cuda.get_device_name()))\n",
        "\n",
        "    start = time.time()\n",
        "    best_model_wts = copy.deepcopy(model.state_dict())\n",
        "    best_loss = np.inf\n",
        "    history = defaultdict(list)\n",
        "    early_stop_counter = 0\n",
        "    global START_EPOCH\n",
        "\n",
        "    # num_epochs만큼, train과 val을 실행한다\n",
        "    for epoch in range(START_EPOCH, START_EPOCH + num_epochs):\n",
        "        gc.collect()\n",
        "\n",
        "        fold_num = 5\n",
        "        fold = epoch % fold_num\n",
        "\n",
        "        # for fold in range(fold_num) :\n",
        "\n",
        "        trainDataloader = train_dataloaders[fold]\n",
        "        validDataloader = valid_dataloaders[fold]\n",
        "\n",
        "        # train_train_loss_list = []\n",
        "        # train_accuracy_list = []\n",
        "        # train_f1_list = []\n",
        "        # val_loss_list = []\n",
        "        # val_accuracy_list= []\n",
        "        # val_f1_list = []\n",
        "\n",
        "        train_train_loss, train_accuracy, train_f1 = train_one_epoch(\n",
        "            model,\n",
        "            optimizer,\n",
        "            scheduler,\n",
        "            dataloader=trainDataloader,\n",
        "            device=device,\n",
        "            epoch=epoch,\n",
        "        )\n",
        "\n",
        "        val_loss, val_accuracy, val_f1 = valid_one_epoch(\n",
        "            model, validDataloader, device=device, epoch=epoch\n",
        "        )\n",
        "\n",
        "        #     train_train_loss_list.append(train_train_loss)\n",
        "        #     train_accuracy_list.append(train_accuracy)\n",
        "        #     train_f1_list.append(train_f1)\n",
        "        #     val_loss_list.append(val_loss)\n",
        "        #     val_accuracy_list.append(val_accuracy)\n",
        "        #     val_f1_list.append(val_f1)\n",
        "\n",
        "        # train_train_loss = np.mean(train_train_loss_list)\n",
        "        # train_accuracy = np.mean(train_accuracy_list)\n",
        "        # train_f1 = np.mean(train_f1_list)\n",
        "        # val_loss = np.mean(val_loss_list)\n",
        "        # val_accuracy = np.mean(val_accuracy_list)\n",
        "        # val_f1 = np.mean(val_f1_list)\n",
        "\n",
        "        history[f\"{metric_prefix}Train Loss\"].append(train_train_loss)\n",
        "        history[f\"{metric_prefix}Train Accuracy\"].append(train_accuracy)\n",
        "        history[f\"{metric_prefix}Train F1\"].append(train_f1)\n",
        "        history[f\"{metric_prefix}Valid Loss\"].append(val_loss)\n",
        "        history[f\"{metric_prefix}Valid Accuracy\"].append(val_accuracy)\n",
        "        history[f\"{metric_prefix}Valid F1\"].append(val_f1)\n",
        "\n",
        "        # Log the metrics\n",
        "        wandb.log(\n",
        "            {\n",
        "                f\"{metric_prefix}Train Loss\": train_train_loss,\n",
        "                f\"{metric_prefix}Valid Loss\": val_loss,\n",
        "                f\"{metric_prefix}Train Accuracy\": train_accuracy,\n",
        "                f\"{metric_prefix}Valid Accuracy\": val_accuracy,\n",
        "                f\"{metric_prefix}Train F1\": train_f1,\n",
        "                f\"{metric_prefix}Valid F1\": val_f1,\n",
        "            }\n",
        "        )\n",
        "\n",
        "        print(f\"Valid Loss : {val_loss}\")\n",
        "\n",
        "        torch.save(model.state_dict(), 'last.bin')\n",
        "        wandb.save('last.bin')\n",
        "\n",
        "        # deep copy the model\n",
        "        if val_loss <= best_loss:\n",
        "            early_stop_counter = 0\n",
        "\n",
        "            print(\n",
        "                f\"Validation Loss improved( {best_loss} ---> {val_loss}  )\"\n",
        "            )\n",
        "\n",
        "            # Update Best Loss\n",
        "            best_loss = val_loss\n",
        "\n",
        "            # Update Best Model Weight\n",
        "            # run.summary['Best RMSE'] = best_loss\n",
        "            best_model_wts = copy.deepcopy(model.state_dict())\n",
        "\n",
        "            PATH = \"{}epoch{:.0f}_Loss{:.4f}.bin\".format(\n",
        "                file_prefix, epoch, best_loss)\n",
        "            torch.save(model.state_dict(), PATH)\n",
        "            torch.save(model.state_dict(),\n",
        "                       f\"{file_prefix}best_{epoch}epoch.bin\")\n",
        "            # Save a model file from the current directory\n",
        "            wandb.save(PATH)\n",
        "\n",
        "            print(f\"Model Saved\")\n",
        "\n",
        "        elif early_stopping:\n",
        "            early_stop_counter += 1\n",
        "            if early_stop_counter > early_stopping_step:\n",
        "                break\n",
        "\n",
        "        START_EPOCH = epoch + 1\n",
        "        # break\n",
        "\n",
        "    end = time.time()\n",
        "    time_elapsed = end - start\n",
        "    print(\n",
        "        \"Training complete in {:.0f}h {:.0f}m {:.0f}s\".format(\n",
        "            time_elapsed // 3600,\n",
        "            (time_elapsed % 3600) // 60,\n",
        "            (time_elapsed % 3600) % 60,\n",
        "        )\n",
        "    )\n",
        "    print(\"Best Loss: {:.4f}\".format(best_loss))\n",
        "\n",
        "    # load best model weights\n",
        "    model.load_state_dict(best_model_wts)\n",
        "\n",
        "    return model, history\n"
      ]
    },
    {
      "cell_type": "code",
      "execution_count": 18,
      "metadata": {
        "execution": {
          "iopub.execute_input": "2022-01-15T10:33:47.416354Z",
          "iopub.status.busy": "2022-01-15T10:33:47.416056Z",
          "iopub.status.idle": "2022-01-15T10:33:48.692352Z",
          "shell.execute_reply": "2022-01-15T10:33:48.691550Z",
          "shell.execute_reply.started": "2022-01-15T10:33:47.416328Z"
        },
        "id": "eX2s0GMOPGqy",
        "trusted": true
      },
      "outputs": [],
      "source": [
        "# wandb.restore('epoch3_Loss0.1026.bin', 'jiwon7258/lg/2mzc3731', root='./')\n",
        "# model.load_state_dict(torch.load('epoch3_Loss0.1026.bin',\n",
        "#                       map_location=CONFIG['device']))\n"
      ]
    },
    {
      "cell_type": "markdown",
      "metadata": {
        "id": "AdVDFxn6PGqy"
      },
      "source": [
        "# Fast Start : 10 epoch"
      ]
    },
    {
      "cell_type": "code",
      "execution_count": 19,
      "metadata": {
        "id": "vMfEjYQFPGqz"
      },
      "outputs": [],
      "source": [
        "for param in model.backbone.named_parameters():\n",
        "    param[1].requires_grad = False"
      ]
    },
    {
      "cell_type": "code",
      "execution_count": 20,
      "metadata": {
        "colab": {
          "base_uri": "https://localhost:8080/"
        },
        "execution": {
          "iopub.execute_input": "2022-01-15T10:33:48.694521Z",
          "iopub.status.busy": "2022-01-15T10:33:48.694198Z"
        },
        "id": "DEZO7sK4PGqz",
        "outputId": "7f6af09b-594c-4f1e-c532-70ce547208a6",
        "trusted": true
      },
      "outputs": [
        {
          "output_type": "stream",
          "name": "stdout",
          "text": [
            "[INFO] Using GPU:Tesla P100-PCIE-16GB\n",
            "\n"
          ]
        },
        {
          "output_type": "stream",
          "name": "stderr",
          "text": [
            "100%|██████████| 577/577 [01:26<00:00,  6.65it/s, Epoch=0, LR=8.76e-5, Train_Loss=2.39, accuracy=0.387, f1=0.245]\n",
            "100%|██████████| 73/73 [00:17<00:00,  4.11it/s, Epoch=0, LR=8.76e-5, Valid_Loss=1.81, accuracy=0.532, f1=0.311]\n"
          ]
        },
        {
          "output_type": "stream",
          "name": "stdout",
          "text": [
            "Valid Loss : 1.8113709434066323\n",
            "Validation Loss improved( inf ---> 1.8113709434066323  )\n",
            "Model Saved\n"
          ]
        },
        {
          "output_type": "stream",
          "name": "stderr",
          "text": [
            "100%|██████████| 577/577 [01:31<00:00,  6.29it/s, Epoch=1, LR=5.67e-5, Train_Loss=1.75, accuracy=0.541, f1=0.378]\n",
            "100%|██████████| 73/73 [00:18<00:00,  3.90it/s, Epoch=1, LR=5.67e-5, Valid_Loss=1.4, accuracy=0.616, f1=0.393]\n"
          ]
        },
        {
          "output_type": "stream",
          "name": "stdout",
          "text": [
            "Valid Loss : 1.4017175464944163\n",
            "Validation Loss improved( 1.8113709434066323 ---> 1.4017175464944163  )\n",
            "Model Saved\n"
          ]
        },
        {
          "output_type": "stream",
          "name": "stderr",
          "text": [
            "100%|██████████| 577/577 [01:28<00:00,  6.51it/s, Epoch=2, LR=2.27e-5, Train_Loss=1.5, accuracy=0.605, f1=0.439]\n",
            "100%|██████████| 73/73 [00:17<00:00,  4.10it/s, Epoch=2, LR=2.27e-5, Valid_Loss=1.21, accuracy=0.665, f1=0.465]\n"
          ]
        },
        {
          "output_type": "stream",
          "name": "stdout",
          "text": [
            "Valid Loss : 1.2146024025737567\n",
            "Validation Loss improved( 1.4017175464944163 ---> 1.2146024025737567  )\n",
            "Model Saved\n"
          ]
        },
        {
          "output_type": "stream",
          "name": "stderr",
          "text": [
            "100%|██████████| 577/577 [01:28<00:00,  6.53it/s, Epoch=3, LR=2.56e-6, Train_Loss=1.35, accuracy=0.639, f1=0.481]\n",
            "100%|██████████| 73/73 [00:17<00:00,  4.09it/s, Epoch=3, LR=2.56e-6, Valid_Loss=1.06, accuracy=0.735, f1=0.549]\n"
          ]
        },
        {
          "output_type": "stream",
          "name": "stdout",
          "text": [
            "Valid Loss : 1.0571924845549923\n",
            "Validation Loss improved( 1.2146024025737567 ---> 1.0571924845549923  )\n",
            "Model Saved\n"
          ]
        },
        {
          "output_type": "stream",
          "name": "stderr",
          "text": [
            "100%|██████████| 577/577 [01:29<00:00,  6.47it/s, Epoch=4, LR=6.4e-6, Train_Loss=1.25, accuracy=0.662, f1=0.506]\n",
            "100%|██████████| 73/73 [00:17<00:00,  4.11it/s, Epoch=4, LR=6.4e-6, Valid_Loss=1, accuracy=0.722, f1=0.525]\n"
          ]
        },
        {
          "output_type": "stream",
          "name": "stdout",
          "text": [
            "Valid Loss : 0.9999679840862079\n",
            "Validation Loss improved( 1.0571924845549923 ---> 0.9999679840862079  )\n",
            "Model Saved\n"
          ]
        },
        {
          "output_type": "stream",
          "name": "stderr",
          "text": [
            "100%|██████████| 577/577 [01:28<00:00,  6.54it/s, Epoch=5, LR=3.23e-5, Train_Loss=1.17, accuracy=0.684, f1=0.532]\n",
            "100%|██████████| 73/73 [00:17<00:00,  4.12it/s, Epoch=5, LR=3.23e-5, Valid_Loss=0.889, accuracy=0.759, f1=0.582]\n"
          ]
        },
        {
          "output_type": "stream",
          "name": "stdout",
          "text": [
            "Valid Loss : 0.8885941447583601\n",
            "Validation Loss improved( 0.9999679840862079 ---> 0.8885941447583601  )\n",
            "Model Saved\n"
          ]
        },
        {
          "output_type": "stream",
          "name": "stderr",
          "text": [
            "100%|██████████| 577/577 [01:28<00:00,  6.50it/s, Epoch=6, LR=6.73e-5, Train_Loss=1.11, accuracy=0.696, f1=0.546]\n",
            "100%|██████████| 73/73 [00:17<00:00,  4.08it/s, Epoch=6, LR=6.73e-5, Valid_Loss=0.826, accuracy=0.775, f1=0.604]\n"
          ]
        },
        {
          "output_type": "stream",
          "name": "stdout",
          "text": [
            "Valid Loss : 0.8262378823535075\n",
            "Validation Loss improved( 0.8885941447583601 ---> 0.8262378823535075  )\n",
            "Model Saved\n"
          ]
        },
        {
          "output_type": "stream",
          "name": "stderr",
          "text": [
            "100%|██████████| 577/577 [01:28<00:00,  6.50it/s, Epoch=7, LR=9.39e-5, Train_Loss=1.05, accuracy=0.708, f1=0.56]\n",
            "100%|██████████| 73/73 [00:17<00:00,  4.08it/s, Epoch=7, LR=9.39e-5, Valid_Loss=0.802, accuracy=0.767, f1=0.603]\n"
          ]
        },
        {
          "output_type": "stream",
          "name": "stdout",
          "text": [
            "Valid Loss : 0.8015876318823226\n",
            "Validation Loss improved( 0.8262378823535075 ---> 0.8015876318823226  )\n",
            "Model Saved\n"
          ]
        },
        {
          "output_type": "stream",
          "name": "stderr",
          "text": [
            "100%|██████████| 577/577 [01:28<00:00,  6.51it/s, Epoch=8, LR=9.88e-5, Train_Loss=1.03, accuracy=0.704, f1=0.556]\n",
            "100%|██████████| 73/73 [00:17<00:00,  4.09it/s, Epoch=8, LR=9.88e-5, Valid_Loss=0.73, accuracy=0.804, f1=0.642]\n"
          ]
        },
        {
          "output_type": "stream",
          "name": "stdout",
          "text": [
            "Valid Loss : 0.7303761985905772\n",
            "Validation Loss improved( 0.8015876318823226 ---> 0.7303761985905772  )\n",
            "Model Saved\n"
          ]
        },
        {
          "output_type": "stream",
          "name": "stderr",
          "text": [
            "100%|██████████| 577/577 [01:28<00:00,  6.50it/s, Epoch=9, LR=7.96e-5, Train_Loss=0.986, accuracy=0.725, f1=0.581]\n",
            "100%|██████████| 73/73 [00:17<00:00,  4.09it/s, Epoch=9, LR=7.96e-5, Valid_Loss=0.738, accuracy=0.802, f1=0.654]\n"
          ]
        },
        {
          "output_type": "stream",
          "name": "stdout",
          "text": [
            "Valid Loss : 0.7381006251545648\n",
            "Training complete in 0h 18m 38s\n",
            "Best Loss: 0.7304\n"
          ]
        }
      ],
      "source": [
        "run_training(\n",
        "    model=model,\n",
        "    optimizer=optimizer,\n",
        "    scheduler=torch.optim.lr_scheduler.CosineAnnealingLR(\n",
        "        optimizer=optimizer, T_max=CONFIG['T_max'], eta_min=CONFIG['min_lr']),\n",
        "    device=device,\n",
        "    num_epochs=10,\n",
        "    metric_prefix=\"\",\n",
        "    file_prefix=\"\",\n",
        "    early_stopping=CONFIG['early_stopping'],\n",
        "    early_stopping_step=CONFIG['early_stopping_step'],\n",
        ");\n"
      ]
    },
    {
      "cell_type": "markdown",
      "metadata": {
        "id": "pDi14R3uPGqz"
      },
      "source": [
        "# Reduced LR (1e-5 ~ 1e-6) : 50epochs (~60)"
      ]
    },
    {
      "cell_type": "code",
      "execution_count": 21,
      "metadata": {
        "id": "L5G3qhmFPGqz"
      },
      "outputs": [],
      "source": [
        "optimizer = torch.optim.Adam(\n",
        "    params=model.parameters(), lr=1e-5, weight_decay=CONFIG['weight_decay'])"
      ]
    },
    {
      "cell_type": "code",
      "execution_count": 22,
      "metadata": {
        "id": "Ae1QgOXSPGqz"
      },
      "outputs": [],
      "source": [
        "for param in model.backbone.named_parameters():\n",
        "    param[1].requires_grad = True\n"
      ]
    },
    {
      "cell_type": "code",
      "execution_count": 23,
      "metadata": {
        "id": "E6_1Vw5aWNYz"
      },
      "outputs": [],
      "source": [
        "# START_EPOCH=3"
      ]
    },
    {
      "cell_type": "code",
      "execution_count": 24,
      "metadata": {
        "colab": {
          "base_uri": "https://localhost:8080/"
        },
        "id": "dKXcxeLEPGq0",
        "outputId": "118cf172-2ce9-4e49-8d37-4415fe5befad"
      },
      "outputs": [
        {
          "output_type": "stream",
          "name": "stdout",
          "text": [
            "[INFO] Using GPU:Tesla P100-PCIE-16GB\n",
            "\n"
          ]
        },
        {
          "output_type": "stream",
          "name": "stderr",
          "text": [
            "100%|██████████| 577/577 [03:31<00:00,  2.73it/s, Epoch=10, LR=8.88e-6, Train_Loss=0.512, accuracy=0.837, f1=0.724]\n",
            "100%|██████████| 73/73 [00:17<00:00,  4.12it/s, Epoch=10, LR=8.88e-6, Valid_Loss=0.322, accuracy=0.892, f1=0.774]\n"
          ]
        },
        {
          "output_type": "stream",
          "name": "stdout",
          "text": [
            "Valid Loss : 0.3217257613306494\n",
            "Validation Loss improved( inf ---> 0.3217257613306494  )\n",
            "Model Saved\n"
          ]
        },
        {
          "output_type": "stream",
          "name": "stderr",
          "text": [
            "100%|██████████| 577/577 [03:32<00:00,  2.71it/s, Epoch=11, LR=6.06e-6, Train_Loss=0.294, accuracy=0.899, f1=0.812]\n",
            "100%|██████████| 73/73 [00:17<00:00,  4.06it/s, Epoch=11, LR=6.06e-6, Valid_Loss=0.195, accuracy=0.934, f1=0.843]\n"
          ]
        },
        {
          "output_type": "stream",
          "name": "stdout",
          "text": [
            "Valid Loss : 0.19454379475948302\n",
            "Validation Loss improved( 0.3217257613306494 ---> 0.19454379475948302  )\n",
            "Model Saved\n"
          ]
        },
        {
          "output_type": "stream",
          "name": "stderr",
          "text": [
            "100%|██████████| 577/577 [03:33<00:00,  2.71it/s, Epoch=12, LR=2.97e-6, Train_Loss=0.208, accuracy=0.928, f1=0.863]\n",
            "100%|██████████| 73/73 [00:17<00:00,  4.10it/s, Epoch=12, LR=2.97e-6, Valid_Loss=0.135, accuracy=0.951, f1=0.883]\n"
          ]
        },
        {
          "output_type": "stream",
          "name": "stdout",
          "text": [
            "Valid Loss : 0.13472708773937364\n",
            "Validation Loss improved( 0.19454379475948302 ---> 0.13472708773937364  )\n",
            "Model Saved\n"
          ]
        },
        {
          "output_type": "stream",
          "name": "stderr",
          "text": [
            "100%|██████████| 577/577 [03:32<00:00,  2.72it/s, Epoch=13, LR=1.14e-6, Train_Loss=0.152, accuracy=0.947, f1=0.897]\n",
            "100%|██████████| 73/73 [00:17<00:00,  4.09it/s, Epoch=13, LR=1.14e-6, Valid_Loss=0.0913, accuracy=0.969, f1=0.916]\n"
          ]
        },
        {
          "output_type": "stream",
          "name": "stdout",
          "text": [
            "Valid Loss : 0.09126368712016736\n",
            "Validation Loss improved( 0.13472708773937364 ---> 0.09126368712016736  )\n",
            "Model Saved\n"
          ]
        },
        {
          "output_type": "stream",
          "name": "stderr",
          "text": [
            "100%|██████████| 577/577 [03:32<00:00,  2.71it/s, Epoch=14, LR=1.49e-6, Train_Loss=0.119, accuracy=0.957, f1=0.911]\n",
            "100%|██████████| 73/73 [00:17<00:00,  4.06it/s, Epoch=14, LR=1.49e-6, Valid_Loss=0.0861, accuracy=0.966, f1=0.919]\n"
          ]
        },
        {
          "output_type": "stream",
          "name": "stdout",
          "text": [
            "Valid Loss : 0.08611465217476971\n",
            "Validation Loss improved( 0.09126368712016736 ---> 0.08611465217476971  )\n",
            "Model Saved\n"
          ]
        },
        {
          "output_type": "stream",
          "name": "stderr",
          "text": [
            "100%|██████████| 577/577 [03:33<00:00,  2.71it/s, Epoch=15, LR=3.84e-6, Train_Loss=0.0993, accuracy=0.962, f1=0.921]\n",
            "100%|██████████| 73/73 [00:17<00:00,  4.12it/s, Epoch=15, LR=3.84e-6, Valid_Loss=0.0624, accuracy=0.98, f1=0.946]\n"
          ]
        },
        {
          "output_type": "stream",
          "name": "stdout",
          "text": [
            "Valid Loss : 0.0623513181569568\n",
            "Validation Loss improved( 0.08611465217476971 ---> 0.0623513181569568  )\n",
            "Model Saved\n"
          ]
        },
        {
          "output_type": "stream",
          "name": "stderr",
          "text": [
            "100%|██████████| 577/577 [03:33<00:00,  2.70it/s, Epoch=16, LR=7.02e-6, Train_Loss=0.087, accuracy=0.967, f1=0.931]\n",
            "100%|██████████| 73/73 [00:17<00:00,  4.09it/s, Epoch=16, LR=7.02e-6, Valid_Loss=0.0654, accuracy=0.974, f1=0.929]\n"
          ]
        },
        {
          "output_type": "stream",
          "name": "stdout",
          "text": [
            "Valid Loss : 0.06539354639925204\n"
          ]
        },
        {
          "output_type": "stream",
          "name": "stderr",
          "text": [
            "100%|██████████| 577/577 [03:32<00:00,  2.71it/s, Epoch=17, LR=9.44e-6, Train_Loss=0.0733, accuracy=0.975, f1=0.947]\n",
            "100%|██████████| 73/73 [00:17<00:00,  4.08it/s, Epoch=17, LR=9.44e-6, Valid_Loss=0.0549, accuracy=0.982, f1=0.953]\n"
          ]
        },
        {
          "output_type": "stream",
          "name": "stdout",
          "text": [
            "Valid Loss : 0.05487073176444364\n",
            "Validation Loss improved( 0.0623513181569568 ---> 0.05487073176444364  )\n",
            "Model Saved\n"
          ]
        },
        {
          "output_type": "stream",
          "name": "stderr",
          "text": [
            "100%|██████████| 577/577 [03:33<00:00,  2.70it/s, Epoch=18, LR=9.89e-6, Train_Loss=0.0603, accuracy=0.977, f1=0.952]\n",
            "100%|██████████| 73/73 [00:17<00:00,  4.10it/s, Epoch=18, LR=9.89e-6, Valid_Loss=0.0894, accuracy=0.97, f1=0.924]\n"
          ]
        },
        {
          "output_type": "stream",
          "name": "stdout",
          "text": [
            "Valid Loss : 0.0893640659372092\n"
          ]
        },
        {
          "output_type": "stream",
          "name": "stderr",
          "text": [
            "100%|██████████| 577/577 [03:32<00:00,  2.71it/s, Epoch=19, LR=8.15e-6, Train_Loss=0.0628, accuracy=0.978, f1=0.955]\n",
            "100%|██████████| 73/73 [00:18<00:00,  4.04it/s, Epoch=19, LR=8.15e-6, Valid_Loss=0.0346, accuracy=0.989, f1=0.971]\n"
          ]
        },
        {
          "output_type": "stream",
          "name": "stdout",
          "text": [
            "Valid Loss : 0.03462866305021978\n",
            "Validation Loss improved( 0.05487073176444364 ---> 0.03462866305021978  )\n",
            "Model Saved\n"
          ]
        },
        {
          "output_type": "stream",
          "name": "stderr",
          "text": [
            "100%|██████████| 577/577 [03:33<00:00,  2.70it/s, Epoch=20, LR=5.08e-6, Train_Loss=0.0506, accuracy=0.982, f1=0.963]\n",
            "100%|██████████| 73/73 [00:17<00:00,  4.07it/s, Epoch=20, LR=5.08e-6, Valid_Loss=0.0191, accuracy=0.993, f1=0.98]\n"
          ]
        },
        {
          "output_type": "stream",
          "name": "stdout",
          "text": [
            "Valid Loss : 0.0191366850471417\n",
            "Validation Loss improved( 0.03462866305021978 ---> 0.0191366850471417  )\n",
            "Model Saved\n"
          ]
        },
        {
          "output_type": "stream",
          "name": "stderr",
          "text": [
            "100%|██████████| 577/577 [03:33<00:00,  2.70it/s, Epoch=21, LR=2.22e-6, Train_Loss=0.0472, accuracy=0.985, f1=0.968]\n",
            "100%|██████████| 73/73 [00:17<00:00,  4.08it/s, Epoch=21, LR=2.22e-6, Valid_Loss=0.0331, accuracy=0.991, f1=0.977]\n"
          ]
        },
        {
          "output_type": "stream",
          "name": "stdout",
          "text": [
            "Valid Loss : 0.03312692375739865\n"
          ]
        },
        {
          "output_type": "stream",
          "name": "stderr",
          "text": [
            "100%|██████████| 577/577 [03:33<00:00,  2.71it/s, Epoch=22, LR=1e-6, Train_Loss=0.0386, accuracy=0.989, f1=0.975]\n",
            "100%|██████████| 73/73 [00:17<00:00,  4.10it/s, Epoch=22, LR=1e-6, Valid_Loss=0.0244, accuracy=0.991, f1=0.978]\n"
          ]
        },
        {
          "output_type": "stream",
          "name": "stdout",
          "text": [
            "Valid Loss : 0.024408119596806572\n"
          ]
        },
        {
          "output_type": "stream",
          "name": "stderr",
          "text": [
            "100%|██████████| 577/577 [03:32<00:00,  2.71it/s, Epoch=23, LR=2.03e-6, Train_Loss=0.0352, accuracy=0.986, f1=0.971]\n",
            "100%|██████████| 73/73 [00:17<00:00,  4.08it/s, Epoch=23, LR=2.03e-6, Valid_Loss=0.013, accuracy=0.995, f1=0.988]\n"
          ]
        },
        {
          "output_type": "stream",
          "name": "stdout",
          "text": [
            "Valid Loss : 0.013007138941172895\n",
            "Validation Loss improved( 0.0191366850471417 ---> 0.013007138941172895  )\n",
            "Model Saved\n"
          ]
        },
        {
          "output_type": "stream",
          "name": "stderr",
          "text": [
            "100%|██████████| 577/577 [03:34<00:00,  2.69it/s, Epoch=24, LR=4.8e-6, Train_Loss=0.0352, accuracy=0.989, f1=0.975]\n",
            "100%|██████████| 73/73 [00:17<00:00,  4.07it/s, Epoch=24, LR=4.8e-6, Valid_Loss=0.0166, accuracy=0.992, f1=0.98]\n"
          ]
        },
        {
          "output_type": "stream",
          "name": "stdout",
          "text": [
            "Valid Loss : 0.016592377744862472\n"
          ]
        },
        {
          "output_type": "stream",
          "name": "stderr",
          "text": [
            "100%|██████████| 577/577 [03:32<00:00,  2.71it/s, Epoch=25, LR=7.91e-6, Train_Loss=0.0307, accuracy=0.989, f1=0.975]\n",
            "100%|██████████| 73/73 [00:17<00:00,  4.10it/s, Epoch=25, LR=7.91e-6, Valid_Loss=0.0113, accuracy=0.998, f1=0.995]\n"
          ]
        },
        {
          "output_type": "stream",
          "name": "stdout",
          "text": [
            "Valid Loss : 0.011264854829092195\n",
            "Validation Loss improved( 0.013007138941172895 ---> 0.011264854829092195  )\n",
            "Model Saved\n"
          ]
        },
        {
          "output_type": "stream",
          "name": "stderr",
          "text": [
            "100%|██████████| 577/577 [03:33<00:00,  2.70it/s, Epoch=26, LR=9.82e-6, Train_Loss=0.0226, accuracy=0.992, f1=0.982]\n",
            "100%|██████████| 73/73 [00:17<00:00,  4.10it/s, Epoch=26, LR=9.82e-6, Valid_Loss=0.0112, accuracy=0.995, f1=0.988]\n"
          ]
        },
        {
          "output_type": "stream",
          "name": "stdout",
          "text": [
            "Valid Loss : 0.011228679909188853\n",
            "Validation Loss improved( 0.011264854829092195 ---> 0.011228679909188853  )\n",
            "Model Saved\n"
          ]
        },
        {
          "output_type": "stream",
          "name": "stderr",
          "text": [
            "100%|██████████| 577/577 [03:32<00:00,  2.71it/s, Epoch=27, LR=9.57e-6, Train_Loss=0.0227, accuracy=0.991, f1=0.982]\n",
            "100%|██████████| 73/73 [00:17<00:00,  4.12it/s, Epoch=27, LR=9.57e-6, Valid_Loss=0.0104, accuracy=0.994, f1=0.989]\n"
          ]
        },
        {
          "output_type": "stream",
          "name": "stdout",
          "text": [
            "Valid Loss : 0.01040499508485265\n",
            "Validation Loss improved( 0.011228679909188853 ---> 0.01040499508485265  )\n",
            "Model Saved\n"
          ]
        },
        {
          "output_type": "stream",
          "name": "stderr",
          "text": [
            "100%|██████████| 577/577 [03:33<00:00,  2.71it/s, Epoch=28, LR=7.29e-6, Train_Loss=0.0199, accuracy=0.993, f1=0.985]\n",
            "100%|██████████| 73/73 [00:17<00:00,  4.11it/s, Epoch=28, LR=7.29e-6, Valid_Loss=0.00459, accuracy=0.998, f1=0.995]\n"
          ]
        },
        {
          "output_type": "stream",
          "name": "stdout",
          "text": [
            "Valid Loss : 0.004589949013407479\n",
            "Validation Loss improved( 0.01040499508485265 ---> 0.004589949013407479  )\n",
            "Model Saved\n"
          ]
        },
        {
          "output_type": "stream",
          "name": "stderr",
          "text": [
            "100%|██████████| 577/577 [03:33<00:00,  2.70it/s, Epoch=29, LR=4.11e-6, Train_Loss=0.0146, accuracy=0.995, f1=0.989]\n",
            "100%|██████████| 73/73 [00:17<00:00,  4.06it/s, Epoch=29, LR=4.11e-6, Valid_Loss=0.00237, accuracy=0.999, f1=0.999]\n"
          ]
        },
        {
          "output_type": "stream",
          "name": "stdout",
          "text": [
            "Valid Loss : 0.0023688295129683564\n",
            "Validation Loss improved( 0.004589949013407479 ---> 0.0023688295129683564  )\n",
            "Model Saved\n"
          ]
        },
        {
          "output_type": "stream",
          "name": "stderr",
          "text": [
            "100%|██████████| 577/577 [03:33<00:00,  2.70it/s, Epoch=30, LR=1.63e-6, Train_Loss=0.0151, accuracy=0.995, f1=0.989]\n",
            "100%|██████████| 73/73 [00:17<00:00,  4.13it/s, Epoch=30, LR=1.63e-6, Valid_Loss=0.006, accuracy=0.998, f1=0.997]\n"
          ]
        },
        {
          "output_type": "stream",
          "name": "stdout",
          "text": [
            "Valid Loss : 0.00599544918295452\n"
          ]
        },
        {
          "output_type": "stream",
          "name": "stderr",
          "text": [
            "100%|██████████| 577/577 [03:32<00:00,  2.72it/s, Epoch=31, LR=1.08e-6, Train_Loss=0.0174, accuracy=0.995, f1=0.989]\n",
            "100%|██████████| 73/73 [00:17<00:00,  4.10it/s, Epoch=31, LR=1.08e-6, Valid_Loss=0.00508, accuracy=0.998, f1=0.996]\n"
          ]
        },
        {
          "output_type": "stream",
          "name": "stdout",
          "text": [
            "Valid Loss : 0.005076255401532696\n"
          ]
        },
        {
          "output_type": "stream",
          "name": "stderr",
          "text": [
            "100%|██████████| 577/577 [03:32<00:00,  2.71it/s, Epoch=32, LR=2.74e-6, Train_Loss=0.0174, accuracy=0.995, f1=0.988]\n",
            "100%|██████████| 73/73 [00:17<00:00,  4.08it/s, Epoch=32, LR=2.74e-6, Valid_Loss=0.00397, accuracy=0.999, f1=0.998]\n"
          ]
        },
        {
          "output_type": "stream",
          "name": "stdout",
          "text": [
            "Valid Loss : 0.003973823239649145\n"
          ]
        },
        {
          "output_type": "stream",
          "name": "stderr",
          "text": [
            "100%|██████████| 577/577 [03:33<00:00,  2.71it/s, Epoch=33, LR=5.78e-6, Train_Loss=0.00917, accuracy=0.997, f1=0.995]\n",
            "100%|██████████| 73/73 [00:17<00:00,  4.11it/s, Epoch=33, LR=5.78e-6, Valid_Loss=0.00192, accuracy=0.999, f1=0.997]\n"
          ]
        },
        {
          "output_type": "stream",
          "name": "stdout",
          "text": [
            "Valid Loss : 0.001923687078034437\n",
            "Validation Loss improved( 0.0023688295129683564 ---> 0.001923687078034437  )\n",
            "Model Saved\n"
          ]
        },
        {
          "output_type": "stream",
          "name": "stderr",
          "text": [
            "100%|██████████| 577/577 [03:33<00:00,  2.70it/s, Epoch=34, LR=8.68e-6, Train_Loss=0.0134, accuracy=0.996, f1=0.991]\n",
            "100%|██████████| 73/73 [00:17<00:00,  4.11it/s, Epoch=34, LR=8.68e-6, Valid_Loss=0.00507, accuracy=0.999, f1=0.997]\n"
          ]
        },
        {
          "output_type": "stream",
          "name": "stdout",
          "text": [
            "Valid Loss : 0.005070347238051278\n"
          ]
        },
        {
          "output_type": "stream",
          "name": "stderr",
          "text": [
            "100%|██████████| 577/577 [03:32<00:00,  2.71it/s, Epoch=35, LR=9.99e-6, Train_Loss=0.00765, accuracy=0.997, f1=0.994]\n",
            "100%|██████████| 73/73 [00:17<00:00,  4.10it/s, Epoch=35, LR=9.99e-6, Valid_Loss=0.00158, accuracy=0.999, f1=0.998]\n"
          ]
        },
        {
          "output_type": "stream",
          "name": "stdout",
          "text": [
            "Valid Loss : 0.00158095816158315\n",
            "Validation Loss improved( 0.001923687078034437 ---> 0.00158095816158315  )\n",
            "Model Saved\n"
          ]
        },
        {
          "output_type": "stream",
          "name": "stderr",
          "text": [
            "100%|██████████| 577/577 [03:33<00:00,  2.70it/s, Epoch=36, LR=9.06e-6, Train_Loss=0.0146, accuracy=0.995, f1=0.991]\n",
            "100%|██████████| 73/73 [00:17<00:00,  4.07it/s, Epoch=36, LR=9.06e-6, Valid_Loss=0.000468, accuracy=1, f1=1]\n"
          ]
        },
        {
          "output_type": "stream",
          "name": "stdout",
          "text": [
            "Valid Loss : 0.00046832370520721715\n",
            "Validation Loss improved( 0.00158095816158315 ---> 0.00046832370520721715  )\n",
            "Model Saved\n"
          ]
        },
        {
          "output_type": "stream",
          "name": "stderr",
          "text": [
            "100%|██████████| 577/577 [03:33<00:00,  2.70it/s, Epoch=37, LR=6.34e-6, Train_Loss=0.00931, accuracy=0.998, f1=0.997]\n",
            "100%|██████████| 73/73 [00:17<00:00,  4.09it/s, Epoch=37, LR=6.34e-6, Valid_Loss=8.4e-5, accuracy=1, f1=1]\n"
          ]
        },
        {
          "output_type": "stream",
          "name": "stdout",
          "text": [
            "Valid Loss : 8.403138977687294e-05\n",
            "Validation Loss improved( 0.00046832370520721715 ---> 8.403138977687294e-05  )\n",
            "Model Saved\n"
          ]
        },
        {
          "output_type": "stream",
          "name": "stderr",
          "text": [
            "100%|██████████| 577/577 [03:33<00:00,  2.70it/s, Epoch=38, LR=3.21e-6, Train_Loss=0.00862, accuracy=0.997, f1=0.993]\n",
            "100%|██████████| 73/73 [00:18<00:00,  4.05it/s, Epoch=38, LR=3.21e-6, Valid_Loss=0.000222, accuracy=1, f1=1]\n"
          ]
        },
        {
          "output_type": "stream",
          "name": "stdout",
          "text": [
            "Valid Loss : 0.0002222036015795538\n"
          ]
        },
        {
          "output_type": "stream",
          "name": "stderr",
          "text": [
            "100%|██████████| 577/577 [03:32<00:00,  2.71it/s, Epoch=39, LR=1.22e-6, Train_Loss=0.0127, accuracy=0.997, f1=0.993]\n",
            "100%|██████████| 73/73 [00:17<00:00,  4.10it/s, Epoch=39, LR=1.22e-6, Valid_Loss=0.00433, accuracy=0.999, f1=0.998]\n"
          ]
        },
        {
          "output_type": "stream",
          "name": "stdout",
          "text": [
            "Valid Loss : 0.004330208096478991\n"
          ]
        },
        {
          "output_type": "stream",
          "name": "stderr",
          "text": [
            "100%|██████████| 577/577 [03:33<00:00,  2.70it/s, Epoch=40, LR=1.37e-6, Train_Loss=0.00976, accuracy=0.997, f1=0.994]\n",
            "100%|██████████| 73/73 [00:17<00:00,  4.10it/s, Epoch=40, LR=1.37e-6, Valid_Loss=0.00229, accuracy=0.999, f1=0.996]\n"
          ]
        },
        {
          "output_type": "stream",
          "name": "stdout",
          "text": [
            "Valid Loss : 0.002291378714184929\n"
          ]
        },
        {
          "output_type": "stream",
          "name": "stderr",
          "text": [
            "100%|██████████| 577/577 [03:33<00:00,  2.71it/s, Epoch=41, LR=3.58e-6, Train_Loss=0.00897, accuracy=0.998, f1=0.996]\n",
            "100%|██████████| 73/73 [00:17<00:00,  4.06it/s, Epoch=41, LR=3.58e-6, Valid_Loss=0.0112, accuracy=0.998, f1=0.996]\n"
          ]
        },
        {
          "output_type": "stream",
          "name": "stdout",
          "text": [
            "Valid Loss : 0.011239966385259545\n"
          ]
        },
        {
          "output_type": "stream",
          "name": "stderr",
          "text": [
            "100%|██████████| 577/577 [03:33<00:00,  2.70it/s, Epoch=42, LR=6.76e-6, Train_Loss=0.00739, accuracy=0.998, f1=0.996]\n",
            "100%|██████████| 73/73 [00:17<00:00,  4.07it/s, Epoch=42, LR=6.76e-6, Valid_Loss=0.00347, accuracy=0.999, f1=0.998]\n"
          ]
        },
        {
          "output_type": "stream",
          "name": "stdout",
          "text": [
            "Valid Loss : 0.0034676394619247977\n"
          ]
        },
        {
          "output_type": "stream",
          "name": "stderr",
          "text": [
            "100%|██████████| 577/577 [03:33<00:00,  2.70it/s, Epoch=43, LR=9.3e-6, Train_Loss=0.007, accuracy=0.998, f1=0.995]\n",
            "100%|██████████| 73/73 [00:17<00:00,  4.10it/s, Epoch=43, LR=9.3e-6, Valid_Loss=0.00217, accuracy=0.998, f1=0.995]\n"
          ]
        },
        {
          "output_type": "stream",
          "name": "stdout",
          "text": [
            "Valid Loss : 0.002168353585859107\n"
          ]
        },
        {
          "output_type": "stream",
          "name": "stderr",
          "text": [
            "100%|██████████| 577/577 [03:32<00:00,  2.71it/s, Epoch=44, LR=9.94e-6, Train_Loss=0.00757, accuracy=0.998, f1=0.996]\n",
            "100%|██████████| 73/73 [00:17<00:00,  4.08it/s, Epoch=44, LR=9.94e-6, Valid_Loss=0.00311, accuracy=0.998, f1=0.993]\n"
          ]
        },
        {
          "output_type": "stream",
          "name": "stdout",
          "text": [
            "Valid Loss : 0.003105276160048798\n"
          ]
        },
        {
          "output_type": "stream",
          "name": "stderr",
          "text": [
            "100%|██████████| 577/577 [03:33<00:00,  2.70it/s, Epoch=45, LR=8.37e-6, Train_Loss=0.015, accuracy=0.996, f1=0.993]\n",
            "100%|██████████| 73/73 [00:17<00:00,  4.08it/s, Epoch=45, LR=8.37e-6, Valid_Loss=2.35e-5, accuracy=1, f1=1]\n"
          ]
        },
        {
          "output_type": "stream",
          "name": "stdout",
          "text": [
            "Valid Loss : 2.3525116055843903e-05\n",
            "Validation Loss improved( 8.403138977687294e-05 ---> 2.3525116055843903e-05  )\n",
            "Model Saved\n"
          ]
        },
        {
          "output_type": "stream",
          "name": "stderr",
          "text": [
            "100%|██████████| 577/577 [03:34<00:00,  2.70it/s, Epoch=46, LR=5.36e-6, Train_Loss=0.0154, accuracy=0.996, f1=0.993]\n",
            "100%|██████████| 73/73 [00:17<00:00,  4.06it/s, Epoch=46, LR=5.36e-6, Valid_Loss=5.32e-5, accuracy=1, f1=1]\n"
          ]
        },
        {
          "output_type": "stream",
          "name": "stdout",
          "text": [
            "Valid Loss : 5.3243997351795455e-05\n"
          ]
        },
        {
          "output_type": "stream",
          "name": "stderr",
          "text": [
            "100%|██████████| 577/577 [03:33<00:00,  2.70it/s, Epoch=47, LR=2.42e-6, Train_Loss=0.00511, accuracy=0.998, f1=0.997]\n",
            "100%|██████████| 73/73 [00:17<00:00,  4.07it/s, Epoch=47, LR=2.42e-6, Valid_Loss=4.89e-5, accuracy=1, f1=1]\n"
          ]
        },
        {
          "output_type": "stream",
          "name": "stdout",
          "text": [
            "Valid Loss : 4.885214592479602e-05\n"
          ]
        },
        {
          "output_type": "stream",
          "name": "stderr",
          "text": [
            "100%|██████████| 577/577 [03:33<00:00,  2.70it/s, Epoch=48, LR=1.02e-6, Train_Loss=0.00481, accuracy=0.998, f1=0.996]\n",
            "100%|██████████| 73/73 [00:17<00:00,  4.08it/s, Epoch=48, LR=1.02e-6, Valid_Loss=5.36e-5, accuracy=1, f1=1]\n"
          ]
        },
        {
          "output_type": "stream",
          "name": "stdout",
          "text": [
            "Valid Loss : 5.3623909323754625e-05\n"
          ]
        },
        {
          "output_type": "stream",
          "name": "stderr",
          "text": [
            "100%|██████████| 577/577 [03:33<00:00,  2.71it/s, Epoch=49, LR=1.86e-6, Train_Loss=0.0176, accuracy=0.995, f1=0.99]\n",
            "100%|██████████| 73/73 [00:17<00:00,  4.06it/s, Epoch=49, LR=1.86e-6, Valid_Loss=0.00149, accuracy=0.999, f1=0.998]\n"
          ]
        },
        {
          "output_type": "stream",
          "name": "stdout",
          "text": [
            "Valid Loss : 0.001488578301155681\n"
          ]
        },
        {
          "output_type": "stream",
          "name": "stderr",
          "text": [
            "100%|██████████| 577/577 [03:33<00:00,  2.70it/s, Epoch=50, LR=4.52e-6, Train_Loss=0.0078, accuracy=0.997, f1=0.993]\n",
            "100%|██████████| 73/73 [00:17<00:00,  4.07it/s, Epoch=50, LR=4.52e-6, Valid_Loss=0.000258, accuracy=1, f1=1]\n"
          ]
        },
        {
          "output_type": "stream",
          "name": "stdout",
          "text": [
            "Valid Loss : 0.0002578216462487104\n"
          ]
        },
        {
          "output_type": "stream",
          "name": "stderr",
          "text": [
            "100%|██████████| 577/577 [03:33<00:00,  2.70it/s, Epoch=51, LR=7.67e-6, Train_Loss=0.00801, accuracy=0.998, f1=0.995]\n",
            "100%|██████████| 73/73 [00:18<00:00,  4.05it/s, Epoch=51, LR=7.67e-6, Valid_Loss=0.0153, accuracy=0.997, f1=0.992]\n"
          ]
        },
        {
          "output_type": "stream",
          "name": "stdout",
          "text": [
            "Valid Loss : 0.015252053557007168\n"
          ]
        },
        {
          "output_type": "stream",
          "name": "stderr",
          "text": [
            "100%|██████████| 577/577 [03:33<00:00,  2.70it/s, Epoch=52, LR=9.73e-6, Train_Loss=0.0144, accuracy=0.997, f1=0.993]\n",
            "100%|██████████| 73/73 [00:17<00:00,  4.06it/s, Epoch=52, LR=9.73e-6, Valid_Loss=0.00508, accuracy=0.999, f1=0.998]\n"
          ]
        },
        {
          "output_type": "stream",
          "name": "stdout",
          "text": [
            "Valid Loss : 0.005080828317941718\n"
          ]
        },
        {
          "output_type": "stream",
          "name": "stderr",
          "text": [
            "100%|██████████| 577/577 [03:33<00:00,  2.70it/s, Epoch=53, LR=9.68e-6, Train_Loss=0.00529, accuracy=0.998, f1=0.997]\n",
            "100%|██████████| 73/73 [00:17<00:00,  4.08it/s, Epoch=53, LR=9.68e-6, Valid_Loss=7.99e-5, accuracy=1, f1=1]\n"
          ]
        },
        {
          "output_type": "stream",
          "name": "stdout",
          "text": [
            "Valid Loss : 7.992474331332506e-05\n"
          ]
        },
        {
          "output_type": "stream",
          "name": "stderr",
          "text": [
            "100%|██████████| 577/577 [03:34<00:00,  2.70it/s, Epoch=54, LR=7.54e-6, Train_Loss=0.00553, accuracy=0.999, f1=0.997]\n",
            "100%|██████████| 73/73 [00:18<00:00,  4.04it/s, Epoch=54, LR=7.54e-6, Valid_Loss=0.00571, accuracy=0.997, f1=0.994]\n"
          ]
        },
        {
          "output_type": "stream",
          "name": "stdout",
          "text": [
            "Valid Loss : 0.005714325926991291\n"
          ]
        },
        {
          "output_type": "stream",
          "name": "stderr",
          "text": [
            "100%|██████████| 577/577 [03:33<00:00,  2.70it/s, Epoch=55, LR=4.38e-6, Train_Loss=0.0117, accuracy=0.997, f1=0.992]\n",
            "100%|██████████| 73/73 [00:17<00:00,  4.08it/s, Epoch=55, LR=4.38e-6, Valid_Loss=1.68e-5, accuracy=1, f1=1]\n"
          ]
        },
        {
          "output_type": "stream",
          "name": "stdout",
          "text": [
            "Valid Loss : 1.677868719925156e-05\n",
            "Validation Loss improved( 2.3525116055843903e-05 ---> 1.677868719925156e-05  )\n",
            "Model Saved\n"
          ]
        },
        {
          "output_type": "stream",
          "name": "stderr",
          "text": [
            "100%|██████████| 577/577 [03:35<00:00,  2.67it/s, Epoch=56, LR=1.78e-6, Train_Loss=0.00762, accuracy=0.998, f1=0.997]\n",
            "100%|██████████| 73/73 [00:18<00:00,  4.04it/s, Epoch=56, LR=1.78e-6, Valid_Loss=5.93e-5, accuracy=1, f1=1]\n"
          ]
        },
        {
          "output_type": "stream",
          "name": "stdout",
          "text": [
            "Valid Loss : 5.9253846042373085e-05\n"
          ]
        },
        {
          "output_type": "stream",
          "name": "stderr",
          "text": [
            "100%|██████████| 577/577 [03:33<00:00,  2.71it/s, Epoch=57, LR=1.04e-6, Train_Loss=0.0089, accuracy=0.998, f1=0.997]\n",
            "100%|██████████| 73/73 [00:17<00:00,  4.09it/s, Epoch=57, LR=1.04e-6, Valid_Loss=0.00793, accuracy=0.999, f1=0.997]\n"
          ]
        },
        {
          "output_type": "stream",
          "name": "stdout",
          "text": [
            "Valid Loss : 0.007934271850344357\n"
          ]
        },
        {
          "output_type": "stream",
          "name": "stderr",
          "text": [
            "100%|██████████| 577/577 [03:33<00:00,  2.70it/s, Epoch=58, LR=2.52e-6, Train_Loss=0.0123, accuracy=0.996, f1=0.992]\n",
            "100%|██████████| 73/73 [00:17<00:00,  4.08it/s, Epoch=58, LR=2.52e-6, Valid_Loss=0.0118, accuracy=0.996, f1=0.987]\n"
          ]
        },
        {
          "output_type": "stream",
          "name": "stdout",
          "text": [
            "Valid Loss : 0.011762693562600452\n"
          ]
        },
        {
          "output_type": "stream",
          "name": "stderr",
          "text": [
            "100%|██████████| 577/577 [03:33<00:00,  2.70it/s, Epoch=59, LR=5.5e-6, Train_Loss=0.00814, accuracy=0.998, f1=0.996]\n",
            "100%|██████████| 73/73 [00:17<00:00,  4.06it/s, Epoch=59, LR=5.5e-6, Valid_Loss=0.0176, accuracy=0.985, f1=0.981]\n"
          ]
        },
        {
          "output_type": "stream",
          "name": "stdout",
          "text": [
            "Valid Loss : 0.01760747180647987\n",
            "Training complete in 3h 15m 20s\n",
            "Best Loss: 0.0000\n"
          ]
        }
      ],
      "source": [
        "run_training(\n",
        "    model=model,\n",
        "    optimizer=optimizer,\n",
        "    scheduler=torch.optim.lr_scheduler.CosineAnnealingLR(\n",
        "        optimizer=optimizer, T_max=CONFIG['T_max'], eta_min=CONFIG['min_lr']),\n",
        "    # scheduler=None,\n",
        "    device=device,\n",
        "    num_epochs=CONFIG['num_epochs'],\n",
        "    metric_prefix=\"\",\n",
        "    file_prefix=\"\",\n",
        "    early_stopping=CONFIG['early_stopping'],\n",
        "    early_stopping_step=CONFIG['early_stopping_step'],\n",
        ");\n"
      ]
    }
  ],
  "metadata": {
    "accelerator": "GPU",
    "colab": {
      "collapsed_sections": [],
      "name": "lg_train_beit224in22k.ipynb",
      "provenance": []
    },
    "kernelspec": {
      "display_name": "Python 3",
      "language": "python",
      "name": "python3"
    },
    "language_info": {
      "codemirror_mode": {
        "name": "ipython",
        "version": 3
      },
      "file_extension": ".py",
      "mimetype": "text/x-python",
      "name": "python",
      "nbconvert_exporter": "python",
      "pygments_lexer": "ipython3",
      "version": "3.9.7"
    }
  },
  "nbformat": 4,
  "nbformat_minor": 0
}