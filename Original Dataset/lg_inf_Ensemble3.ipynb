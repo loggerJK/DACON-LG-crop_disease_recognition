{
  "cells": [
    {
      "cell_type": "code",
      "execution_count": 1,
      "metadata": {
        "colab": {
          "base_uri": "https://localhost:8080/"
        },
        "execution": {
          "iopub.execute_input": "2022-01-15T12:46:47.007667Z",
          "iopub.status.busy": "2022-01-15T12:46:47.007157Z",
          "iopub.status.idle": "2022-01-15T12:47:02.666730Z",
          "shell.execute_reply": "2022-01-15T12:47:02.665532Z",
          "shell.execute_reply.started": "2022-01-15T12:46:47.007577Z"
        },
        "id": "rta_-XDLrKRm",
        "outputId": "fb5cbdf3-5c66-4e33-8464-d00c18370fd3",
        "trusted": true
      },
      "outputs": [
        {
          "output_type": "stream",
          "name": "stdout",
          "text": [
            "\u001b[K     |████████████████████████████████| 1.7 MB 9.6 MB/s \n",
            "\u001b[K     |████████████████████████████████| 21.8 MB 1.3 MB/s \n",
            "\u001b[K     |████████████████████████████████| 102 kB 76.8 MB/s \n",
            "\u001b[K     |████████████████████████████████| 431 kB 69.7 MB/s \n",
            "\u001b[K     |████████████████████████████████| 180 kB 56.9 MB/s \n",
            "\u001b[K     |████████████████████████████████| 97 kB 9.2 MB/s \n",
            "\u001b[K     |████████████████████████████████| 142 kB 52.4 MB/s \n",
            "\u001b[K     |████████████████████████████████| 63 kB 2.2 MB/s \n",
            "\u001b[?25h  Building wheel for subprocess32 (setup.py) ... \u001b[?25l\u001b[?25hdone\n",
            "  Building wheel for pathtools (setup.py) ... \u001b[?25l\u001b[?25hdone\n"
          ]
        }
      ],
      "source": [
        "! pip install wandb opencv-python-headless==4.1.2.30 albumentations torch-summary timm==0.5.4 einops joblib icecream  -qq -U"
      ]
    },
    {
      "cell_type": "code",
      "execution_count": 2,
      "metadata": {
        "execution": {
          "iopub.execute_input": "2022-01-15T12:47:02.669199Z",
          "iopub.status.busy": "2022-01-15T12:47:02.668915Z",
          "iopub.status.idle": "2022-01-15T12:47:07.445802Z",
          "shell.execute_reply": "2022-01-15T12:47:07.444763Z",
          "shell.execute_reply.started": "2022-01-15T12:47:02.669163Z"
        },
        "id": "CCC9pGxmrKRr",
        "trusted": true
      },
      "outputs": [],
      "source": [
        "import warnings\n",
        "from glob import glob\n",
        "import pathlib\n",
        "from pathlib import Path\n",
        "from torchsummary import summary\n",
        "import torch\n",
        "import torch.nn as nn\n",
        "import torch.nn.functional as F\n",
        "from torch.utils.data import Dataset, DataLoader\n",
        "import pandas as pd\n",
        "from pprint import pprint\n",
        "import urllib.request\n",
        "import csv\n",
        "import numpy as np\n",
        "from einops import rearrange, reduce, repeat\n",
        "from torch.cuda import amp\n",
        "from tqdm import tqdm\n",
        "import wandb\n",
        "import time\n",
        "import copy\n",
        "from collections import defaultdict\n",
        "from sklearn.metrics import mean_squared_error\n",
        "import joblib\n",
        "import gc\n",
        "import os\n",
        "from icecream import ic\n",
        "from sklearn.model_selection import train_test_split\n",
        "import gc\n",
        "import cv2\n",
        "import copy\n",
        "import time\n",
        "import random\n",
        "from PIL import Image\n",
        "\n",
        "# For data manipulation\n",
        "import numpy as np\n",
        "import pandas as pd\n",
        "from einops import rearrange, repeat\n",
        "from scipy import stats\n",
        "\n",
        "# Pytorch Imports\n",
        "import torch\n",
        "import torch.nn as nn\n",
        "import torch.optim as optim\n",
        "from torch.optim import lr_scheduler\n",
        "from torch.utils.data import Dataset, DataLoader\n",
        "from torch.cuda import amp\n",
        "\n",
        "# Utils\n",
        "import joblib\n",
        "from tqdm import tqdm\n",
        "from collections import defaultdict\n",
        "import matplotlib.pyplot as plt\n",
        "\n",
        "# Sklearn Imports\n",
        "from sklearn.metrics import mean_squared_error\n",
        "from sklearn.model_selection import StratifiedKFold, KFold\n",
        "\n",
        "import timm\n",
        "\n",
        "import json\n",
        "\n",
        "# Albumentations for augmentations\n",
        "import albumentations as A\n",
        "from albumentations.pytorch import ToTensorV2\n",
        "\n",
        "# For colored terminal text\n",
        "from colorama import Fore, Back, Style\n",
        "c_ = Fore.CYAN\n",
        "sr_ = Style.RESET_ALL\n",
        "\n",
        "warnings.filterwarnings(\"ignore\")\n",
        "\n",
        "# For descriptive error messages\n",
        "os.environ['CUDA_LAUNCH_BLOCKING'] = \"1\"\n"
      ]
    },
    {
      "cell_type": "markdown",
      "metadata": {
        "id": "ysa5y6bZMuyq"
      },
      "source": [
        "# ENV"
      ]
    },
    {
      "cell_type": "code",
      "execution_count": 3,
      "metadata": {
        "execution": {
          "iopub.execute_input": "2022-01-15T12:47:07.447472Z",
          "iopub.status.busy": "2022-01-15T12:47:07.447211Z",
          "iopub.status.idle": "2022-01-15T12:47:07.457019Z",
          "shell.execute_reply": "2022-01-15T12:47:07.455591Z",
          "shell.execute_reply.started": "2022-01-15T12:47:07.447437Z"
        },
        "id": "_XeMSpQNrKRt",
        "trusted": true
      },
      "outputs": [],
      "source": [
        "# Option for Mixed Precision\n",
        "# FP16 = True\n",
        "FP16 = False\n",
        "\n",
        "\n",
        "CONFIG = dict(\n",
        "    seed=42,\n",
        "    backbone=None,\n",
        "    embedder=None,\n",
        "    train_batch_size=8,\n",
        "    valid_batch_size=16,\n",
        "    img_size=384,\n",
        "    num_epochs=5,\n",
        "    early_stopping=True,\n",
        "    early_stopping_step=10,\n",
        "    learning_rate=1e-4,\n",
        "    scheduler='CosineAnnealingLR',\n",
        "    min_lr=1e-6,\n",
        "    T_max=100,\n",
        "    num_classes=25,\n",
        "    weight_decay=1e-6,\n",
        "    device=torch.device(\"cuda:0\" if torch.cuda.is_available() else \"cpu\"),\n",
        "    competition='lg',\n",
        "    _wandb_kernel='deb'\n",
        ")\n",
        "\n",
        "\n",
        "device = torch.device(\"cuda\" if torch.cuda.is_available() else \"cpu\")\n"
      ]
    },
    {
      "cell_type": "code",
      "execution_count": 4,
      "metadata": {
        "execution": {
          "iopub.execute_input": "2022-01-15T12:47:07.459867Z",
          "iopub.status.busy": "2022-01-15T12:47:07.458923Z",
          "iopub.status.idle": "2022-01-15T12:47:07.475078Z",
          "shell.execute_reply": "2022-01-15T12:47:07.474266Z",
          "shell.execute_reply.started": "2022-01-15T12:47:07.459827Z"
        },
        "id": "dcP2gaN8rKRu",
        "trusted": true
      },
      "outputs": [],
      "source": [
        "def set_seed(seed=42):\n",
        "    '''Sets the seed of the entire notebook so results are the same every time we run.\n",
        "    This is for REPRODUCIBILITY.'''\n",
        "    np.random.seed(seed)\n",
        "    random.seed(seed)\n",
        "    torch.manual_seed(seed)\n",
        "    torch.cuda.manual_seed(seed)\n",
        "    # When running on the CuDNN backend, two further options must be set\n",
        "    torch.backends.cudnn.deterministic = True\n",
        "    torch.backends.cudnn.benchmark = False\n",
        "    # Set a fixed value for the hash seed\n",
        "    os.environ['PYTHONHASHSEED'] = str(seed)\n",
        "\n",
        "\n",
        "set_seed(CONFIG['seed'])\n"
      ]
    },
    {
      "cell_type": "code",
      "execution_count": 5,
      "metadata": {
        "colab": {
          "base_uri": "https://localhost:8080/",
          "height": 90
        },
        "execution": {
          "iopub.execute_input": "2022-01-15T12:47:44.198246Z",
          "iopub.status.busy": "2022-01-15T12:47:44.197954Z",
          "iopub.status.idle": "2022-01-15T13:02:57.916054Z",
          "shell.execute_reply": "2022-01-15T13:02:57.913033Z",
          "shell.execute_reply.started": "2022-01-15T12:47:44.198217Z"
        },
        "id": "KZMUcAF9rKRu",
        "outputId": "3e7d2be9-4a60-4f6f-8e3d-d15ef575afca",
        "trusted": true
      },
      "outputs": [
        {
          "output_type": "display_data",
          "data": {
            "application/javascript": [
              "\n",
              "        window._wandbApiKey = new Promise((resolve, reject) => {\n",
              "            function loadScript(url) {\n",
              "            return new Promise(function(resolve, reject) {\n",
              "                let newScript = document.createElement(\"script\");\n",
              "                newScript.onerror = reject;\n",
              "                newScript.onload = resolve;\n",
              "                document.body.appendChild(newScript);\n",
              "                newScript.src = url;\n",
              "            });\n",
              "            }\n",
              "            loadScript(\"https://cdn.jsdelivr.net/npm/postmate/build/postmate.min.js\").then(() => {\n",
              "            const iframe = document.createElement('iframe')\n",
              "            iframe.style.cssText = \"width:0;height:0;border:none\"\n",
              "            document.body.appendChild(iframe)\n",
              "            const handshake = new Postmate({\n",
              "                container: iframe,\n",
              "                url: 'https://wandb.ai/authorize'\n",
              "            });\n",
              "            const timeout = setTimeout(() => reject(\"Couldn't auto authenticate\"), 5000)\n",
              "            handshake.then(function(child) {\n",
              "                child.on('authorize', data => {\n",
              "                    clearTimeout(timeout)\n",
              "                    resolve(data)\n",
              "                });\n",
              "            });\n",
              "            })\n",
              "        });\n",
              "    "
            ],
            "text/plain": [
              "<IPython.core.display.Javascript object>"
            ]
          },
          "metadata": {}
        },
        {
          "output_type": "stream",
          "name": "stderr",
          "text": [
            "\u001b[34m\u001b[1mwandb\u001b[0m: Appending key for api.wandb.ai to your netrc file: /root/.netrc\n"
          ]
        },
        {
          "output_type": "display_data",
          "data": {
            "text/html": [
              "\n",
              "                    Syncing run <strong><a href=\"https://wandb.ai/jiwon7258/lg/runs/36esjuke\" target=\"_blank\">daily-plasma-81</a></strong> to <a href=\"https://wandb.ai/jiwon7258/lg\" target=\"_blank\">Weights & Biases</a> (<a href=\"https://docs.wandb.com/integrations/jupyter.html\" target=\"_blank\">docs</a>).<br/>\n",
              "\n",
              "                "
            ],
            "text/plain": [
              "<IPython.core.display.HTML object>"
            ]
          },
          "metadata": {}
        },
        {
          "output_type": "stream",
          "name": "stderr",
          "text": [
            "\u001b[34m\u001b[1mwandb\u001b[0m: Downloading large artifact lg:v1, 9188.81MB. 121115 files... Done. 0:0:0\n"
          ]
        }
      ],
      "source": [
        "import wandb\n",
        "\n",
        "\n",
        "run = wandb.init(project=\"lg\",\n",
        "                 entity=\"jiwon7258\",\n",
        "                 config=CONFIG,\n",
        "                 job_type='inf',\n",
        "                #  id='1l0lpdqx',\n",
        "                #  resume='must'\n",
        ")\n",
        "\n",
        "\n",
        "dataset = wandb.run.use_artifact(\n",
        "    'jiwon7258/lg/lg:v1', type='dataset')\n",
        "\n",
        "run.name = 'Ensemble 3'\n",
        "\n",
        "# Download the artifact's contents\n",
        "dataset_dir = dataset.download()\n",
        "dataset_dir = Path(dataset_dir)\n"
      ]
    },
    {
      "cell_type": "markdown",
      "metadata": {
        "id": "4rF6wAN4rKRv"
      },
      "source": [
        "# Augmentation"
      ]
    },
    {
      "cell_type": "code",
      "execution_count": 6,
      "metadata": {
        "execution": {
          "iopub.execute_input": "2022-01-15T13:02:57.925334Z",
          "iopub.status.busy": "2022-01-15T13:02:57.922597Z",
          "iopub.status.idle": "2022-01-15T13:02:57.942778Z",
          "shell.execute_reply": "2022-01-15T13:02:57.941700Z",
          "shell.execute_reply.started": "2022-01-15T13:02:57.925266Z"
        },
        "id": "oYgDFfbOrKRx",
        "trusted": true
      },
      "outputs": [],
      "source": [
        "data_transforms = {\n",
        "    \"train\": A.Compose([\n",
        "        A.Resize(CONFIG['img_size'], CONFIG['img_size']),\n",
        "        A.ShiftScaleRotate(shift_limit=0.05, scale_limit=0.05,\n",
        "                           rotate_limit=15, p=0.5),\n",
        "        A.RGBShift(r_shift_limit=15, g_shift_limit=15,\n",
        "                   b_shift_limit=15, p=0.5),\n",
        "        A.RandomBrightnessContrast(p=0.5),\n",
        "        A.HorizontalFlip(p=0.5),\n",
        "        A.VerticalFlip(p=0.5),\n",
        "        A.Normalize(),\n",
        "        ToTensorV2(),\n",
        "        ], p=1.),\n",
        "}\n",
        "data_transforms_valid = {\n",
        "    224: A.Compose([\n",
        "        A.Resize(224, 224),\n",
        "        A.Normalize(),\n",
        "        ToTensorV2()], p=1.),\n",
        "\n",
        "\n",
        "    384: A.Compose([\n",
        "        A.Resize(384, 384),\n",
        "        A.Normalize(),\n",
        "        ToTensorV2()], p=1.),\n",
        "\n",
        "\n",
        "    512: A.Compose([\n",
        "        A.Resize(512, 512),\n",
        "        A.Normalize(),\n",
        "        ToTensorV2()], p=1.)\n",
        "}\n"
      ]
    },
    {
      "cell_type": "markdown",
      "metadata": {
        "id": "SmOlqkaWrKRz"
      },
      "source": [
        "# Dataset Dataloader"
      ]
    },
    {
      "cell_type": "code",
      "execution_count": 7,
      "metadata": {
        "execution": {
          "iopub.execute_input": "2022-01-15T13:02:57.944980Z",
          "iopub.status.busy": "2022-01-15T13:02:57.944646Z",
          "iopub.status.idle": "2022-01-15T13:02:57.955419Z",
          "shell.execute_reply": "2022-01-15T13:02:57.954212Z",
          "shell.execute_reply.started": "2022-01-15T13:02:57.944931Z"
        },
        "id": "j9-4OTy8rKR0",
        "trusted": true
      },
      "outputs": [],
      "source": [
        "# dataset_dir = Path('./')\n",
        "TEST_PATH =  dataset_dir / 'test'"
      ]
    },
    {
      "cell_type": "code",
      "execution_count": 8,
      "metadata": {
        "execution": {
          "iopub.execute_input": "2022-01-15T13:02:57.958800Z",
          "iopub.status.busy": "2022-01-15T13:02:57.958261Z",
          "iopub.status.idle": "2022-01-15T13:03:01.431853Z",
          "shell.execute_reply": "2022-01-15T13:03:01.431262Z",
          "shell.execute_reply.started": "2022-01-15T13:02:57.958753Z"
        },
        "id": "z-rfoE1VrKR1",
        "trusted": true
      },
      "outputs": [],
      "source": [
        "test_csv = sorted(glob(str(TEST_PATH / '*/*.csv')))\n",
        "test_jpg = sorted(glob(str(TEST_PATH / '*/*.jpg')))"
      ]
    },
    {
      "cell_type": "code",
      "execution_count": 9,
      "metadata": {
        "execution": {
          "iopub.execute_input": "2022-01-15T13:06:38.257482Z",
          "iopub.status.busy": "2022-01-15T13:06:38.257175Z",
          "iopub.status.idle": "2022-01-15T13:06:38.267537Z",
          "shell.execute_reply": "2022-01-15T13:06:38.266470Z",
          "shell.execute_reply.started": "2022-01-15T13:06:38.257447Z"
        },
        "id": "8YsRdyfvrKR1",
        "trusted": true
      },
      "outputs": [],
      "source": [
        "# # TTA\n",
        "# class TestDataset(Dataset):\n",
        "#     def __init__ (self, N, test_imgs, transforms = None):\n",
        "#         self.N = N\n",
        "#         self.test_imgs = test_imgs\n",
        "#         self.transforms = transforms\n",
        "\n",
        "\n",
        "#     def __len__ (self):\n",
        "#         return len(self.test_imgs)\n",
        "\n",
        "#     def __getitem__(self, index):\n",
        "#         img_path = self.test_imgs[index]\n",
        "#         img_code = (Path(img_path)).parent.stem\n",
        "#         img = cv2.imread(img_path)\n",
        "#         img = cv2.cvtColor(img, cv2.COLOR_BGR2RGB)\n",
        "        \n",
        "#         imgs = [self.transforms(image=img)['image'] for _ in range(self.N)]\n",
        "#         imgs = np.concatenate(imgs, axis = 0)\n",
        "#         imgs = rearrange(imgs, '(new1 bs) h w -> new1 bs h w', new1=self.N)\n",
        "\n",
        "#         return imgs, img_code\n",
        "\n",
        "# testDataset = TestDataset(8, test_jpg, transforms = data_transforms['train'])\n",
        "# testDataloader = DataLoader(\n",
        "#     testDataset, batch_size=CONFIG['valid_batch_size'], shuffle=False)\n"
      ]
    },
    {
      "cell_type": "code",
      "execution_count": 10,
      "metadata": {
        "id": "GZdAhiO3rKR2"
      },
      "outputs": [],
      "source": [
        "class TestDataset(Dataset):\n",
        "    def __init__(self, test_imgs, transforms=None):\n",
        "        self.test_imgs = test_imgs\n",
        "        self.transforms = transforms\n",
        "\n",
        "    def __len__(self):\n",
        "        return len(self.test_imgs)\n",
        "\n",
        "    def __getitem__(self, index):\n",
        "        img_path = self.test_imgs[index]\n",
        "        img_code = (Path(img_path)).parent.stem\n",
        "        img = cv2.imread(img_path)\n",
        "        img = cv2.cvtColor(img, cv2.COLOR_BGR2RGB)\n",
        "\n",
        "        img_list = [transform(image=img)['image'] for transform in self.transforms.values()]\n",
        "        \n",
        "\n",
        "        return img_list, img_code\n",
        "\n",
        "# 384\n",
        "testDataset = TestDataset(test_jpg, transforms=data_transforms_valid)\n",
        "testDataloader = DataLoader(\n",
        "    testDataset, batch_size=CONFIG['valid_batch_size'], shuffle=False)\n"
      ]
    },
    {
      "cell_type": "code",
      "execution_count": 11,
      "metadata": {
        "execution": {
          "iopub.execute_input": "2022-01-15T13:07:04.778647Z",
          "iopub.status.busy": "2022-01-15T13:07:04.778336Z",
          "iopub.status.idle": "2022-01-15T13:07:04.800418Z",
          "shell.execute_reply": "2022-01-15T13:07:04.799737Z",
          "shell.execute_reply.started": "2022-01-15T13:07:04.778613Z"
        },
        "id": "yzyKYsi7rKR2",
        "trusted": true
      },
      "outputs": [],
      "source": [
        "# for imgs, img_code in testDataset :\n",
        "#     fig, axes = plt.subplots(1,8, figsize = (40,20))\n",
        "#     for i in range(8):\n",
        "#         img = imgs[i, :, :, :]\n",
        "#         axes[i].imshow(img.reshape(384,384,3))\n",
        "#     break"
      ]
    },
    {
      "cell_type": "code",
      "execution_count": 12,
      "metadata": {
        "colab": {
          "base_uri": "https://localhost:8080/"
        },
        "id": "6tj6gB23rKR3",
        "outputId": "b5f0e21a-8f46-4a8b-873e-3ee604875782"
      },
      "outputs": [
        {
          "output_type": "stream",
          "name": "stdout",
          "text": [
            "torch.Size([16, 3, 224, 224])\n",
            "torch.Size([16, 3, 384, 384])\n",
            "torch.Size([16, 3, 512, 512])\n",
            "<class 'tuple'>\n"
          ]
        }
      ],
      "source": [
        "for img_list, img_code in testDataloader:\n",
        "    for i in range(len(img_list)):\n",
        "        print(img_list[i].shape)\n",
        "    print(type(img_code))\n",
        "    break\n"
      ]
    },
    {
      "cell_type": "markdown",
      "metadata": {
        "id": "OkE-L-9BrKR3"
      },
      "source": [
        "# Key Value Dict"
      ]
    },
    {
      "cell_type": "code",
      "execution_count": 13,
      "metadata": {
        "execution": {
          "iopub.execute_input": "2022-01-15T13:07:08.956085Z",
          "iopub.status.busy": "2022-01-15T13:07:08.955767Z",
          "iopub.status.idle": "2022-01-15T13:07:09.858750Z",
          "shell.execute_reply": "2022-01-15T13:07:09.857847Z",
          "shell.execute_reply.started": "2022-01-15T13:07:08.956047Z"
        },
        "id": "tMbZPaF5rKR4",
        "trusted": true
      },
      "outputs": [],
      "source": [
        "wandb.restore('class_dict', run_path='jiwon7258/lg/1lkvc6n0', root='./')\n",
        "class_dict = joblib.load('class_dict')"
      ]
    },
    {
      "cell_type": "markdown",
      "metadata": {
        "id": "vgPxm-evrKR4"
      },
      "source": [
        "# MODELS"
      ]
    },
    {
      "cell_type": "markdown",
      "metadata": {
        "id": "3vIqZ-eprKR4"
      },
      "source": [
        "## EfficientNet V2 M"
      ]
    },
    {
      "cell_type": "code",
      "execution_count": 14,
      "metadata": {
        "execution": {
          "iopub.execute_input": "2022-01-15T13:12:22.229683Z",
          "iopub.status.busy": "2022-01-15T13:12:22.228637Z",
          "iopub.status.idle": "2022-01-15T13:12:24.139623Z",
          "shell.execute_reply": "2022-01-15T13:12:24.138999Z",
          "shell.execute_reply.started": "2022-01-15T13:12:22.229634Z"
        },
        "id": "bcdXMKymrKR5",
        "trusted": true,
        "colab": {
          "base_uri": "https://localhost:8080/",
          "height": 36
        },
        "outputId": "989dd570-d91c-4e0c-8e27-ddc68b7ae721"
      },
      "outputs": [
        {
          "output_type": "execute_result",
          "data": {
            "application/vnd.google.colaboratory.intrinsic+json": {
              "type": "string"
            },
            "text/plain": [
              "''"
            ]
          },
          "metadata": {},
          "execution_count": 14
        }
      ],
      "source": [
        "class Effnet(nn.Module):\n",
        "    def __init__(self, backbone, embedder, pretrained=True):\n",
        "        super().__init__()\n",
        "        self.backbone = timm.create_model(backbone, pretrained=pretrained)\n",
        "        self.backbone.reset_classifier(0)\n",
        "        self.n_features = 1280\n",
        "        self.fc = nn.Linear(self.n_features, CONFIG['num_classes'])\n",
        "\n",
        "    def forward(self, images):\n",
        "        # features = (bs, embedding_size)\n",
        "        features = self.backbone(images)\n",
        "        # outputs  = (bs, num_classes)\n",
        "        output = self.fc(features)\n",
        "        return output\n",
        "\n",
        "\n",
        "effnet = Effnet('tf_efficientnetv2_m',None, pretrained=False)\n",
        "effent = effnet.to(CONFIG['device'])\n",
        ";"
      ]
    },
    {
      "cell_type": "code",
      "execution_count": 15,
      "metadata": {
        "colab": {
          "base_uri": "https://localhost:8080/"
        },
        "execution": {
          "iopub.execute_input": "2022-01-15T13:12:24.141942Z",
          "iopub.status.busy": "2022-01-15T13:12:24.141470Z",
          "iopub.status.idle": "2022-01-15T13:12:26.297276Z",
          "shell.execute_reply": "2022-01-15T13:12:26.296415Z",
          "shell.execute_reply.started": "2022-01-15T13:12:24.141898Z"
        },
        "id": "KcgQHp76rKR5",
        "outputId": "ea98582a-46cd-4601-8088-75e3ed752249",
        "trusted": true
      },
      "outputs": [
        {
          "output_type": "execute_result",
          "data": {
            "text/plain": [
              "<All keys matched successfully>"
            ]
          },
          "metadata": {},
          "execution_count": 15
        }
      ],
      "source": [
        "wandb.restore('epoch3_Loss0.0760.bin', 'jiwon7258/lg/koxrlhhf', root='./')\n",
        "effnet.load_state_dict(torch.load('epoch3_Loss0.0760.bin',\n",
        "                      map_location=CONFIG['device']))\n"
      ]
    },
    {
      "cell_type": "markdown",
      "metadata": {
        "id": "nsOQWdHqrKR5"
      },
      "source": [
        "## Swin B "
      ]
    },
    {
      "cell_type": "code",
      "execution_count": 16,
      "metadata": {
        "colab": {
          "base_uri": "https://localhost:8080/",
          "height": 36
        },
        "id": "r4glrKmmrKR5",
        "outputId": "f59fd90b-3151-455d-a751-8dcdb4415e6f"
      },
      "outputs": [
        {
          "output_type": "execute_result",
          "data": {
            "application/vnd.google.colaboratory.intrinsic+json": {
              "type": "string"
            },
            "text/plain": [
              "''"
            ]
          },
          "metadata": {},
          "execution_count": 16
        }
      ],
      "source": [
        "class Swin(nn.Module):\n",
        "    def __init__(self, backbone, embedder, pretrained=True):\n",
        "        super(Swin, self).__init__()\n",
        "        self.backbone = timm.create_model(backbone, pretrained=pretrained)\n",
        "        self.n_features = self.backbone.head.in_features\n",
        "        self.backbone.reset_classifier(0)\n",
        "        self.fc = nn.Linear(self.n_features, CONFIG['num_classes'])\n",
        "\n",
        "    def forward(self, images):\n",
        "        # features = (bs, embedding_size)\n",
        "        features = self.backbone(images)\n",
        "        # outputs  = (bs, num_classes)\n",
        "        output = self.fc(features)\n",
        "        return output\n",
        "\n",
        "\n",
        "swin = Swin('swin_base_patch4_window12_384',\n",
        "            None, pretrained=False)\n",
        "swin.to(CONFIG['device'])\n",
        ";"
      ]
    },
    {
      "cell_type": "code",
      "execution_count": 17,
      "metadata": {
        "colab": {
          "base_uri": "https://localhost:8080/"
        },
        "id": "RWtGjfeCrKR6",
        "outputId": "6a1837bd-24aa-4d13-b9a0-7a689d6a1069"
      },
      "outputs": [
        {
          "output_type": "execute_result",
          "data": {
            "text/plain": [
              "<All keys matched successfully>"
            ]
          },
          "metadata": {},
          "execution_count": 17
        }
      ],
      "source": [
        "wandb.restore('epoch3_Loss0.1026.bin', 'jiwon7258/lg/2mzc3731', root='./')\n",
        "swin.load_state_dict(torch.load('epoch3_Loss0.1026.bin',\n",
        "                      map_location=CONFIG['device']))\n"
      ]
    },
    {
      "cell_type": "markdown",
      "metadata": {
        "id": "VdxMNIHErKR6"
      },
      "source": [
        "## DeiT"
      ]
    },
    {
      "cell_type": "code",
      "execution_count": 18,
      "metadata": {
        "colab": {
          "base_uri": "https://localhost:8080/",
          "height": 36
        },
        "id": "ksIqg6-BrKR6",
        "outputId": "97e9647f-3f96-4821-dc2f-78aba9650722"
      },
      "outputs": [
        {
          "output_type": "execute_result",
          "data": {
            "application/vnd.google.colaboratory.intrinsic+json": {
              "type": "string"
            },
            "text/plain": [
              "''"
            ]
          },
          "metadata": {},
          "execution_count": 18
        }
      ],
      "source": [
        "class Deit(nn.Module):\n",
        "    def __init__(self, backbone, embedder, pretrained=True):\n",
        "        super(Deit, self).__init__()\n",
        "        self.backbone = timm.create_model(backbone, pretrained=pretrained)\n",
        "        self.backbone.reset_classifier(0)\n",
        "        self.n_features = 768\n",
        "        self.fc = nn.Linear(self.n_features, CONFIG['num_classes'])\n",
        "\n",
        "    def forward(self, images):\n",
        "        # features = (bs, embedding_size)\n",
        "        features = self.backbone(images)\n",
        "        # outputs  = (bs, num_classes)\n",
        "        if isinstance(features, tuple):\n",
        "          features = features[0]\n",
        "        output = self.fc(features)\n",
        "        return output\n",
        "\n",
        "\n",
        "deit = Deit('deit_base_distilled_patch16_384',\n",
        "            None, pretrained=False)\n",
        "deit.to(CONFIG['device'])\n",
        ";"
      ]
    },
    {
      "cell_type": "code",
      "execution_count": 19,
      "metadata": {
        "colab": {
          "base_uri": "https://localhost:8080/"
        },
        "id": "HdkIJzBIrKR7",
        "outputId": "1322458b-0514-40bf-e00f-c45a4c1652aa"
      },
      "outputs": [
        {
          "output_type": "execute_result",
          "data": {
            "text/plain": [
              "<All keys matched successfully>"
            ]
          },
          "metadata": {},
          "execution_count": 19
        }
      ],
      "source": [
        "wandb.restore('epoch13_Loss0.0081.bin', 'jiwon7258/lg/2g7lsew4', root='./')\n",
        "deit.load_state_dict(torch.load(\n",
        "    'epoch13_Loss0.0081.bin', map_location=CONFIG['device']))\n"
      ]
    },
    {
      "cell_type": "markdown",
      "metadata": {
        "id": "WSaGNEnbrKR7"
      },
      "source": [
        "## EfficientNet B4 NS 512"
      ]
    },
    {
      "cell_type": "code",
      "execution_count": 20,
      "metadata": {
        "colab": {
          "base_uri": "https://localhost:8080/",
          "height": 36
        },
        "id": "G9yr5bz3rKR7",
        "outputId": "efe22de7-cf14-4819-b490-fd4eeb2da675"
      },
      "outputs": [
        {
          "output_type": "execute_result",
          "data": {
            "application/vnd.google.colaboratory.intrinsic+json": {
              "type": "string"
            },
            "text/plain": [
              "''"
            ]
          },
          "metadata": {},
          "execution_count": 20
        }
      ],
      "source": [
        "class Noisy(nn.Module):\n",
        "    def __init__(self, backbone, embedder, pretrained=True):\n",
        "        super(Noisy, self).__init__()\n",
        "        self.backbone = timm.create_model(backbone, pretrained=pretrained)\n",
        "        self.backbone.reset_classifier(0)\n",
        "        self.n_features = 1792\n",
        "        self.fc = nn.Linear(self.n_features, CONFIG['num_classes'])\n",
        "\n",
        "    def forward(self, images):\n",
        "        # features = (bs, embedding_size)\n",
        "        features = self.backbone(images)\n",
        "        # outputs  = (bs, num_classes)\n",
        "        # if isinstance(features, tuple):\n",
        "        #   features = features[0]\n",
        "        output = self.fc(features)\n",
        "        return output\n",
        "\n",
        "\n",
        "b4ns512 = Noisy('tf_efficientnet_b4_ns', None, pretrained=False)\n",
        "b4ns512.to(CONFIG['device'])\n",
        ";"
      ]
    },
    {
      "cell_type": "code",
      "execution_count": 21,
      "metadata": {
        "colab": {
          "base_uri": "https://localhost:8080/"
        },
        "id": "SJs8BxrtrKR7",
        "outputId": "991af334-c428-4c62-b1ff-fb38da550d41"
      },
      "outputs": [
        {
          "output_type": "execute_result",
          "data": {
            "text/plain": [
              "<All keys matched successfully>"
            ]
          },
          "metadata": {},
          "execution_count": 21
        }
      ],
      "source": [
        "wandb.restore('epoch71_Loss0.0003.bin', 'jiwon7258/lg/1v3ffaqb', root='./')\n",
        "b4ns512.load_state_dict(torch.load(\n",
        "    'epoch71_Loss0.0003.bin', map_location=CONFIG['device']))\n"
      ]
    },
    {
      "cell_type": "markdown",
      "metadata": {
        "id": "pZpfOOYDMuzI"
      },
      "source": [
        "## CoAtNet Mini 224"
      ]
    },
    {
      "cell_type": "code",
      "execution_count": 23,
      "metadata": {
        "colab": {
          "base_uri": "https://localhost:8080/",
          "height": 36
        },
        "id": "2jBgOrefMuzR",
        "outputId": "bd0c1fdc-73e3-41dc-f12b-4df590b0449a"
      },
      "outputs": [
        {
          "output_type": "execute_result",
          "data": {
            "application/vnd.google.colaboratory.intrinsic+json": {
              "type": "string"
            },
            "text/plain": [
              "''"
            ]
          },
          "metadata": {},
          "execution_count": 23
        }
      ],
      "source": [
        "class Coat(nn.Module):\n",
        "    def __init__(self, backbone, embedder, pretrained=True):\n",
        "        super(Coat, self).__init__()\n",
        "        self.backbone = timm.create_model(backbone, pretrained=pretrained)\n",
        "        self.backbone.reset_classifier(0)\n",
        "        self.n_features = self.backbone.num_features\n",
        "        self.fc = nn.Linear(self.n_features, CONFIG['num_classes'])\n",
        "\n",
        "    def forward(self, images):\n",
        "        # features = (bs, embedding_size)\n",
        "        features = self.backbone(images)\n",
        "        # outputs  = (bs, num_classes)\n",
        "        # if isinstance(features, tuple):\n",
        "        #   features = features[0]\n",
        "        output = self.fc(features)\n",
        "        return output\n",
        "\n",
        "\n",
        "coatmini224 = Coat('coat_mini', None, pretrained=False)\n",
        "coatmini224.to(CONFIG['device'])\n",
        ";"
      ]
    },
    {
      "cell_type": "code",
      "execution_count": 24,
      "metadata": {
        "colab": {
          "base_uri": "https://localhost:8080/"
        },
        "id": "ZHlamfeSMuzS",
        "outputId": "3190a81e-abf7-4b32-bbf4-2a67bccc1949"
      },
      "outputs": [
        {
          "output_type": "execute_result",
          "data": {
            "text/plain": [
              "<All keys matched successfully>"
            ]
          },
          "metadata": {},
          "execution_count": 24
        }
      ],
      "source": [
        "wandb.restore('epoch45_Loss0.0005.bin', 'jiwon7258/lg/jlca032j', root='./')\n",
        "coatmini224.load_state_dict(torch.load(\n",
        "    'epoch45_Loss0.0005.bin', map_location=CONFIG['device']))\n"
      ]
    },
    {
      "cell_type": "markdown",
      "metadata": {
        "id": "3O6euLuJMuzS"
      },
      "source": [
        "## BEiT 224 in 22k"
      ]
    },
    {
      "cell_type": "code",
      "execution_count": 25,
      "metadata": {
        "colab": {
          "base_uri": "https://localhost:8080/"
        },
        "id": "_U5IdomCMuzS",
        "outputId": "3a2fd459-ab18-4dae-af0f-3e6a176170d3"
      },
      "outputs": [
        {
          "output_type": "execute_result",
          "data": {
            "text/plain": [
              "Beit(\n",
              "  (backbone): Beit(\n",
              "    (patch_embed): PatchEmbed(\n",
              "      (proj): Conv2d(3, 768, kernel_size=(16, 16), stride=(16, 16))\n",
              "      (norm): Identity()\n",
              "    )\n",
              "    (pos_drop): Dropout(p=0.0, inplace=False)\n",
              "    (blocks): ModuleList(\n",
              "      (0): Block(\n",
              "        (norm1): LayerNorm((768,), eps=1e-06, elementwise_affine=True)\n",
              "        (attn): Attention(\n",
              "          (qkv): Linear(in_features=768, out_features=2304, bias=False)\n",
              "          (attn_drop): Dropout(p=0.0, inplace=False)\n",
              "          (proj): Linear(in_features=768, out_features=768, bias=True)\n",
              "          (proj_drop): Dropout(p=0.0, inplace=False)\n",
              "        )\n",
              "        (drop_path): Identity()\n",
              "        (norm2): LayerNorm((768,), eps=1e-06, elementwise_affine=True)\n",
              "        (mlp): Mlp(\n",
              "          (fc1): Linear(in_features=768, out_features=3072, bias=True)\n",
              "          (act): GELU()\n",
              "          (drop1): Dropout(p=0.0, inplace=False)\n",
              "          (fc2): Linear(in_features=3072, out_features=768, bias=True)\n",
              "          (drop2): Dropout(p=0.0, inplace=False)\n",
              "        )\n",
              "      )\n",
              "      (1): Block(\n",
              "        (norm1): LayerNorm((768,), eps=1e-06, elementwise_affine=True)\n",
              "        (attn): Attention(\n",
              "          (qkv): Linear(in_features=768, out_features=2304, bias=False)\n",
              "          (attn_drop): Dropout(p=0.0, inplace=False)\n",
              "          (proj): Linear(in_features=768, out_features=768, bias=True)\n",
              "          (proj_drop): Dropout(p=0.0, inplace=False)\n",
              "        )\n",
              "        (drop_path): Identity()\n",
              "        (norm2): LayerNorm((768,), eps=1e-06, elementwise_affine=True)\n",
              "        (mlp): Mlp(\n",
              "          (fc1): Linear(in_features=768, out_features=3072, bias=True)\n",
              "          (act): GELU()\n",
              "          (drop1): Dropout(p=0.0, inplace=False)\n",
              "          (fc2): Linear(in_features=3072, out_features=768, bias=True)\n",
              "          (drop2): Dropout(p=0.0, inplace=False)\n",
              "        )\n",
              "      )\n",
              "      (2): Block(\n",
              "        (norm1): LayerNorm((768,), eps=1e-06, elementwise_affine=True)\n",
              "        (attn): Attention(\n",
              "          (qkv): Linear(in_features=768, out_features=2304, bias=False)\n",
              "          (attn_drop): Dropout(p=0.0, inplace=False)\n",
              "          (proj): Linear(in_features=768, out_features=768, bias=True)\n",
              "          (proj_drop): Dropout(p=0.0, inplace=False)\n",
              "        )\n",
              "        (drop_path): Identity()\n",
              "        (norm2): LayerNorm((768,), eps=1e-06, elementwise_affine=True)\n",
              "        (mlp): Mlp(\n",
              "          (fc1): Linear(in_features=768, out_features=3072, bias=True)\n",
              "          (act): GELU()\n",
              "          (drop1): Dropout(p=0.0, inplace=False)\n",
              "          (fc2): Linear(in_features=3072, out_features=768, bias=True)\n",
              "          (drop2): Dropout(p=0.0, inplace=False)\n",
              "        )\n",
              "      )\n",
              "      (3): Block(\n",
              "        (norm1): LayerNorm((768,), eps=1e-06, elementwise_affine=True)\n",
              "        (attn): Attention(\n",
              "          (qkv): Linear(in_features=768, out_features=2304, bias=False)\n",
              "          (attn_drop): Dropout(p=0.0, inplace=False)\n",
              "          (proj): Linear(in_features=768, out_features=768, bias=True)\n",
              "          (proj_drop): Dropout(p=0.0, inplace=False)\n",
              "        )\n",
              "        (drop_path): Identity()\n",
              "        (norm2): LayerNorm((768,), eps=1e-06, elementwise_affine=True)\n",
              "        (mlp): Mlp(\n",
              "          (fc1): Linear(in_features=768, out_features=3072, bias=True)\n",
              "          (act): GELU()\n",
              "          (drop1): Dropout(p=0.0, inplace=False)\n",
              "          (fc2): Linear(in_features=3072, out_features=768, bias=True)\n",
              "          (drop2): Dropout(p=0.0, inplace=False)\n",
              "        )\n",
              "      )\n",
              "      (4): Block(\n",
              "        (norm1): LayerNorm((768,), eps=1e-06, elementwise_affine=True)\n",
              "        (attn): Attention(\n",
              "          (qkv): Linear(in_features=768, out_features=2304, bias=False)\n",
              "          (attn_drop): Dropout(p=0.0, inplace=False)\n",
              "          (proj): Linear(in_features=768, out_features=768, bias=True)\n",
              "          (proj_drop): Dropout(p=0.0, inplace=False)\n",
              "        )\n",
              "        (drop_path): Identity()\n",
              "        (norm2): LayerNorm((768,), eps=1e-06, elementwise_affine=True)\n",
              "        (mlp): Mlp(\n",
              "          (fc1): Linear(in_features=768, out_features=3072, bias=True)\n",
              "          (act): GELU()\n",
              "          (drop1): Dropout(p=0.0, inplace=False)\n",
              "          (fc2): Linear(in_features=3072, out_features=768, bias=True)\n",
              "          (drop2): Dropout(p=0.0, inplace=False)\n",
              "        )\n",
              "      )\n",
              "      (5): Block(\n",
              "        (norm1): LayerNorm((768,), eps=1e-06, elementwise_affine=True)\n",
              "        (attn): Attention(\n",
              "          (qkv): Linear(in_features=768, out_features=2304, bias=False)\n",
              "          (attn_drop): Dropout(p=0.0, inplace=False)\n",
              "          (proj): Linear(in_features=768, out_features=768, bias=True)\n",
              "          (proj_drop): Dropout(p=0.0, inplace=False)\n",
              "        )\n",
              "        (drop_path): Identity()\n",
              "        (norm2): LayerNorm((768,), eps=1e-06, elementwise_affine=True)\n",
              "        (mlp): Mlp(\n",
              "          (fc1): Linear(in_features=768, out_features=3072, bias=True)\n",
              "          (act): GELU()\n",
              "          (drop1): Dropout(p=0.0, inplace=False)\n",
              "          (fc2): Linear(in_features=3072, out_features=768, bias=True)\n",
              "          (drop2): Dropout(p=0.0, inplace=False)\n",
              "        )\n",
              "      )\n",
              "      (6): Block(\n",
              "        (norm1): LayerNorm((768,), eps=1e-06, elementwise_affine=True)\n",
              "        (attn): Attention(\n",
              "          (qkv): Linear(in_features=768, out_features=2304, bias=False)\n",
              "          (attn_drop): Dropout(p=0.0, inplace=False)\n",
              "          (proj): Linear(in_features=768, out_features=768, bias=True)\n",
              "          (proj_drop): Dropout(p=0.0, inplace=False)\n",
              "        )\n",
              "        (drop_path): Identity()\n",
              "        (norm2): LayerNorm((768,), eps=1e-06, elementwise_affine=True)\n",
              "        (mlp): Mlp(\n",
              "          (fc1): Linear(in_features=768, out_features=3072, bias=True)\n",
              "          (act): GELU()\n",
              "          (drop1): Dropout(p=0.0, inplace=False)\n",
              "          (fc2): Linear(in_features=3072, out_features=768, bias=True)\n",
              "          (drop2): Dropout(p=0.0, inplace=False)\n",
              "        )\n",
              "      )\n",
              "      (7): Block(\n",
              "        (norm1): LayerNorm((768,), eps=1e-06, elementwise_affine=True)\n",
              "        (attn): Attention(\n",
              "          (qkv): Linear(in_features=768, out_features=2304, bias=False)\n",
              "          (attn_drop): Dropout(p=0.0, inplace=False)\n",
              "          (proj): Linear(in_features=768, out_features=768, bias=True)\n",
              "          (proj_drop): Dropout(p=0.0, inplace=False)\n",
              "        )\n",
              "        (drop_path): Identity()\n",
              "        (norm2): LayerNorm((768,), eps=1e-06, elementwise_affine=True)\n",
              "        (mlp): Mlp(\n",
              "          (fc1): Linear(in_features=768, out_features=3072, bias=True)\n",
              "          (act): GELU()\n",
              "          (drop1): Dropout(p=0.0, inplace=False)\n",
              "          (fc2): Linear(in_features=3072, out_features=768, bias=True)\n",
              "          (drop2): Dropout(p=0.0, inplace=False)\n",
              "        )\n",
              "      )\n",
              "      (8): Block(\n",
              "        (norm1): LayerNorm((768,), eps=1e-06, elementwise_affine=True)\n",
              "        (attn): Attention(\n",
              "          (qkv): Linear(in_features=768, out_features=2304, bias=False)\n",
              "          (attn_drop): Dropout(p=0.0, inplace=False)\n",
              "          (proj): Linear(in_features=768, out_features=768, bias=True)\n",
              "          (proj_drop): Dropout(p=0.0, inplace=False)\n",
              "        )\n",
              "        (drop_path): Identity()\n",
              "        (norm2): LayerNorm((768,), eps=1e-06, elementwise_affine=True)\n",
              "        (mlp): Mlp(\n",
              "          (fc1): Linear(in_features=768, out_features=3072, bias=True)\n",
              "          (act): GELU()\n",
              "          (drop1): Dropout(p=0.0, inplace=False)\n",
              "          (fc2): Linear(in_features=3072, out_features=768, bias=True)\n",
              "          (drop2): Dropout(p=0.0, inplace=False)\n",
              "        )\n",
              "      )\n",
              "      (9): Block(\n",
              "        (norm1): LayerNorm((768,), eps=1e-06, elementwise_affine=True)\n",
              "        (attn): Attention(\n",
              "          (qkv): Linear(in_features=768, out_features=2304, bias=False)\n",
              "          (attn_drop): Dropout(p=0.0, inplace=False)\n",
              "          (proj): Linear(in_features=768, out_features=768, bias=True)\n",
              "          (proj_drop): Dropout(p=0.0, inplace=False)\n",
              "        )\n",
              "        (drop_path): Identity()\n",
              "        (norm2): LayerNorm((768,), eps=1e-06, elementwise_affine=True)\n",
              "        (mlp): Mlp(\n",
              "          (fc1): Linear(in_features=768, out_features=3072, bias=True)\n",
              "          (act): GELU()\n",
              "          (drop1): Dropout(p=0.0, inplace=False)\n",
              "          (fc2): Linear(in_features=3072, out_features=768, bias=True)\n",
              "          (drop2): Dropout(p=0.0, inplace=False)\n",
              "        )\n",
              "      )\n",
              "      (10): Block(\n",
              "        (norm1): LayerNorm((768,), eps=1e-06, elementwise_affine=True)\n",
              "        (attn): Attention(\n",
              "          (qkv): Linear(in_features=768, out_features=2304, bias=False)\n",
              "          (attn_drop): Dropout(p=0.0, inplace=False)\n",
              "          (proj): Linear(in_features=768, out_features=768, bias=True)\n",
              "          (proj_drop): Dropout(p=0.0, inplace=False)\n",
              "        )\n",
              "        (drop_path): Identity()\n",
              "        (norm2): LayerNorm((768,), eps=1e-06, elementwise_affine=True)\n",
              "        (mlp): Mlp(\n",
              "          (fc1): Linear(in_features=768, out_features=3072, bias=True)\n",
              "          (act): GELU()\n",
              "          (drop1): Dropout(p=0.0, inplace=False)\n",
              "          (fc2): Linear(in_features=3072, out_features=768, bias=True)\n",
              "          (drop2): Dropout(p=0.0, inplace=False)\n",
              "        )\n",
              "      )\n",
              "      (11): Block(\n",
              "        (norm1): LayerNorm((768,), eps=1e-06, elementwise_affine=True)\n",
              "        (attn): Attention(\n",
              "          (qkv): Linear(in_features=768, out_features=2304, bias=False)\n",
              "          (attn_drop): Dropout(p=0.0, inplace=False)\n",
              "          (proj): Linear(in_features=768, out_features=768, bias=True)\n",
              "          (proj_drop): Dropout(p=0.0, inplace=False)\n",
              "        )\n",
              "        (drop_path): Identity()\n",
              "        (norm2): LayerNorm((768,), eps=1e-06, elementwise_affine=True)\n",
              "        (mlp): Mlp(\n",
              "          (fc1): Linear(in_features=768, out_features=3072, bias=True)\n",
              "          (act): GELU()\n",
              "          (drop1): Dropout(p=0.0, inplace=False)\n",
              "          (fc2): Linear(in_features=3072, out_features=768, bias=True)\n",
              "          (drop2): Dropout(p=0.0, inplace=False)\n",
              "        )\n",
              "      )\n",
              "    )\n",
              "    (norm): Identity()\n",
              "    (fc_norm): LayerNorm((768,), eps=1e-06, elementwise_affine=True)\n",
              "    (head): Identity()\n",
              "  )\n",
              "  (fc): Linear(in_features=768, out_features=25, bias=True)\n",
              ")"
            ]
          },
          "metadata": {},
          "execution_count": 25
        }
      ],
      "source": [
        "class Beit(nn.Module):\n",
        "    def __init__(self, backbone, embedder, pretrained=True):\n",
        "        super(Beit, self).__init__()\n",
        "        self.backbone = timm.create_model(backbone, pretrained=pretrained)\n",
        "        self.backbone.reset_classifier(0)\n",
        "        self.n_features = self.backbone.num_features\n",
        "        self.fc = nn.Linear(self.n_features, CONFIG['num_classes'])\n",
        "\n",
        "    def forward(self, images):\n",
        "        # features = (bs, embedding_size)\n",
        "        features = self.backbone(images)\n",
        "        # outputs  = (bs, num_classes)\n",
        "        # if isinstance(features, tuple):\n",
        "        #   features = features[0]\n",
        "        output = self.fc(features)\n",
        "        return output\n",
        "\n",
        "\n",
        "beit224 = Beit('beit_base_patch16_224_in22k',\n",
        "            None,\n",
        "             pretrained=False)\n",
        "beit224.to(CONFIG['device'])\n"
      ]
    },
    {
      "cell_type": "code",
      "execution_count": 26,
      "metadata": {
        "colab": {
          "base_uri": "https://localhost:8080/"
        },
        "id": "tmjO69rTMuzT",
        "outputId": "ae6b3936-f2c1-44a6-a7cc-ea9426289f49"
      },
      "outputs": [
        {
          "output_type": "execute_result",
          "data": {
            "text/plain": [
              "<All keys matched successfully>"
            ]
          },
          "metadata": {},
          "execution_count": 26
        }
      ],
      "source": [
        "wandb.restore('epoch55_Loss0.0000.bin', 'jiwon7258/lg/1u03kks6', root='./')\n",
        "beit224.load_state_dict(torch.load(\n",
        "    'epoch55_Loss0.0000.bin', map_location=CONFIG['device']))\n"
      ]
    },
    {
      "cell_type": "markdown",
      "metadata": {
        "id": "yOreA5NBMuzU"
      },
      "source": [
        "## CaiT S24 224"
      ]
    },
    {
      "cell_type": "code",
      "execution_count": 28,
      "metadata": {
        "colab": {
          "base_uri": "https://localhost:8080/"
        },
        "id": "bN2tUs23MuzU",
        "outputId": "52eca8fa-d38f-419f-a6dc-daa275f86d71"
      },
      "outputs": [
        {
          "output_type": "execute_result",
          "data": {
            "text/plain": [
              "Cait(\n",
              "  (backbone): Cait(\n",
              "    (patch_embed): PatchEmbed(\n",
              "      (proj): Conv2d(3, 384, kernel_size=(16, 16), stride=(16, 16))\n",
              "      (norm): Identity()\n",
              "    )\n",
              "    (pos_drop): Dropout(p=0.0, inplace=False)\n",
              "    (blocks): ModuleList(\n",
              "      (0): LayerScaleBlock(\n",
              "        (norm1): LayerNorm((384,), eps=1e-06, elementwise_affine=True)\n",
              "        (attn): TalkingHeadAttn(\n",
              "          (qkv): Linear(in_features=384, out_features=1152, bias=True)\n",
              "          (attn_drop): Dropout(p=0.0, inplace=False)\n",
              "          (proj): Linear(in_features=384, out_features=384, bias=True)\n",
              "          (proj_l): Linear(in_features=8, out_features=8, bias=True)\n",
              "          (proj_w): Linear(in_features=8, out_features=8, bias=True)\n",
              "          (proj_drop): Dropout(p=0.0, inplace=False)\n",
              "        )\n",
              "        (drop_path): Identity()\n",
              "        (norm2): LayerNorm((384,), eps=1e-06, elementwise_affine=True)\n",
              "        (mlp): Mlp(\n",
              "          (fc1): Linear(in_features=384, out_features=1536, bias=True)\n",
              "          (act): GELU()\n",
              "          (drop1): Dropout(p=0.0, inplace=False)\n",
              "          (fc2): Linear(in_features=1536, out_features=384, bias=True)\n",
              "          (drop2): Dropout(p=0.0, inplace=False)\n",
              "        )\n",
              "      )\n",
              "      (1): LayerScaleBlock(\n",
              "        (norm1): LayerNorm((384,), eps=1e-06, elementwise_affine=True)\n",
              "        (attn): TalkingHeadAttn(\n",
              "          (qkv): Linear(in_features=384, out_features=1152, bias=True)\n",
              "          (attn_drop): Dropout(p=0.0, inplace=False)\n",
              "          (proj): Linear(in_features=384, out_features=384, bias=True)\n",
              "          (proj_l): Linear(in_features=8, out_features=8, bias=True)\n",
              "          (proj_w): Linear(in_features=8, out_features=8, bias=True)\n",
              "          (proj_drop): Dropout(p=0.0, inplace=False)\n",
              "        )\n",
              "        (drop_path): Identity()\n",
              "        (norm2): LayerNorm((384,), eps=1e-06, elementwise_affine=True)\n",
              "        (mlp): Mlp(\n",
              "          (fc1): Linear(in_features=384, out_features=1536, bias=True)\n",
              "          (act): GELU()\n",
              "          (drop1): Dropout(p=0.0, inplace=False)\n",
              "          (fc2): Linear(in_features=1536, out_features=384, bias=True)\n",
              "          (drop2): Dropout(p=0.0, inplace=False)\n",
              "        )\n",
              "      )\n",
              "      (2): LayerScaleBlock(\n",
              "        (norm1): LayerNorm((384,), eps=1e-06, elementwise_affine=True)\n",
              "        (attn): TalkingHeadAttn(\n",
              "          (qkv): Linear(in_features=384, out_features=1152, bias=True)\n",
              "          (attn_drop): Dropout(p=0.0, inplace=False)\n",
              "          (proj): Linear(in_features=384, out_features=384, bias=True)\n",
              "          (proj_l): Linear(in_features=8, out_features=8, bias=True)\n",
              "          (proj_w): Linear(in_features=8, out_features=8, bias=True)\n",
              "          (proj_drop): Dropout(p=0.0, inplace=False)\n",
              "        )\n",
              "        (drop_path): Identity()\n",
              "        (norm2): LayerNorm((384,), eps=1e-06, elementwise_affine=True)\n",
              "        (mlp): Mlp(\n",
              "          (fc1): Linear(in_features=384, out_features=1536, bias=True)\n",
              "          (act): GELU()\n",
              "          (drop1): Dropout(p=0.0, inplace=False)\n",
              "          (fc2): Linear(in_features=1536, out_features=384, bias=True)\n",
              "          (drop2): Dropout(p=0.0, inplace=False)\n",
              "        )\n",
              "      )\n",
              "      (3): LayerScaleBlock(\n",
              "        (norm1): LayerNorm((384,), eps=1e-06, elementwise_affine=True)\n",
              "        (attn): TalkingHeadAttn(\n",
              "          (qkv): Linear(in_features=384, out_features=1152, bias=True)\n",
              "          (attn_drop): Dropout(p=0.0, inplace=False)\n",
              "          (proj): Linear(in_features=384, out_features=384, bias=True)\n",
              "          (proj_l): Linear(in_features=8, out_features=8, bias=True)\n",
              "          (proj_w): Linear(in_features=8, out_features=8, bias=True)\n",
              "          (proj_drop): Dropout(p=0.0, inplace=False)\n",
              "        )\n",
              "        (drop_path): Identity()\n",
              "        (norm2): LayerNorm((384,), eps=1e-06, elementwise_affine=True)\n",
              "        (mlp): Mlp(\n",
              "          (fc1): Linear(in_features=384, out_features=1536, bias=True)\n",
              "          (act): GELU()\n",
              "          (drop1): Dropout(p=0.0, inplace=False)\n",
              "          (fc2): Linear(in_features=1536, out_features=384, bias=True)\n",
              "          (drop2): Dropout(p=0.0, inplace=False)\n",
              "        )\n",
              "      )\n",
              "      (4): LayerScaleBlock(\n",
              "        (norm1): LayerNorm((384,), eps=1e-06, elementwise_affine=True)\n",
              "        (attn): TalkingHeadAttn(\n",
              "          (qkv): Linear(in_features=384, out_features=1152, bias=True)\n",
              "          (attn_drop): Dropout(p=0.0, inplace=False)\n",
              "          (proj): Linear(in_features=384, out_features=384, bias=True)\n",
              "          (proj_l): Linear(in_features=8, out_features=8, bias=True)\n",
              "          (proj_w): Linear(in_features=8, out_features=8, bias=True)\n",
              "          (proj_drop): Dropout(p=0.0, inplace=False)\n",
              "        )\n",
              "        (drop_path): Identity()\n",
              "        (norm2): LayerNorm((384,), eps=1e-06, elementwise_affine=True)\n",
              "        (mlp): Mlp(\n",
              "          (fc1): Linear(in_features=384, out_features=1536, bias=True)\n",
              "          (act): GELU()\n",
              "          (drop1): Dropout(p=0.0, inplace=False)\n",
              "          (fc2): Linear(in_features=1536, out_features=384, bias=True)\n",
              "          (drop2): Dropout(p=0.0, inplace=False)\n",
              "        )\n",
              "      )\n",
              "      (5): LayerScaleBlock(\n",
              "        (norm1): LayerNorm((384,), eps=1e-06, elementwise_affine=True)\n",
              "        (attn): TalkingHeadAttn(\n",
              "          (qkv): Linear(in_features=384, out_features=1152, bias=True)\n",
              "          (attn_drop): Dropout(p=0.0, inplace=False)\n",
              "          (proj): Linear(in_features=384, out_features=384, bias=True)\n",
              "          (proj_l): Linear(in_features=8, out_features=8, bias=True)\n",
              "          (proj_w): Linear(in_features=8, out_features=8, bias=True)\n",
              "          (proj_drop): Dropout(p=0.0, inplace=False)\n",
              "        )\n",
              "        (drop_path): Identity()\n",
              "        (norm2): LayerNorm((384,), eps=1e-06, elementwise_affine=True)\n",
              "        (mlp): Mlp(\n",
              "          (fc1): Linear(in_features=384, out_features=1536, bias=True)\n",
              "          (act): GELU()\n",
              "          (drop1): Dropout(p=0.0, inplace=False)\n",
              "          (fc2): Linear(in_features=1536, out_features=384, bias=True)\n",
              "          (drop2): Dropout(p=0.0, inplace=False)\n",
              "        )\n",
              "      )\n",
              "      (6): LayerScaleBlock(\n",
              "        (norm1): LayerNorm((384,), eps=1e-06, elementwise_affine=True)\n",
              "        (attn): TalkingHeadAttn(\n",
              "          (qkv): Linear(in_features=384, out_features=1152, bias=True)\n",
              "          (attn_drop): Dropout(p=0.0, inplace=False)\n",
              "          (proj): Linear(in_features=384, out_features=384, bias=True)\n",
              "          (proj_l): Linear(in_features=8, out_features=8, bias=True)\n",
              "          (proj_w): Linear(in_features=8, out_features=8, bias=True)\n",
              "          (proj_drop): Dropout(p=0.0, inplace=False)\n",
              "        )\n",
              "        (drop_path): Identity()\n",
              "        (norm2): LayerNorm((384,), eps=1e-06, elementwise_affine=True)\n",
              "        (mlp): Mlp(\n",
              "          (fc1): Linear(in_features=384, out_features=1536, bias=True)\n",
              "          (act): GELU()\n",
              "          (drop1): Dropout(p=0.0, inplace=False)\n",
              "          (fc2): Linear(in_features=1536, out_features=384, bias=True)\n",
              "          (drop2): Dropout(p=0.0, inplace=False)\n",
              "        )\n",
              "      )\n",
              "      (7): LayerScaleBlock(\n",
              "        (norm1): LayerNorm((384,), eps=1e-06, elementwise_affine=True)\n",
              "        (attn): TalkingHeadAttn(\n",
              "          (qkv): Linear(in_features=384, out_features=1152, bias=True)\n",
              "          (attn_drop): Dropout(p=0.0, inplace=False)\n",
              "          (proj): Linear(in_features=384, out_features=384, bias=True)\n",
              "          (proj_l): Linear(in_features=8, out_features=8, bias=True)\n",
              "          (proj_w): Linear(in_features=8, out_features=8, bias=True)\n",
              "          (proj_drop): Dropout(p=0.0, inplace=False)\n",
              "        )\n",
              "        (drop_path): Identity()\n",
              "        (norm2): LayerNorm((384,), eps=1e-06, elementwise_affine=True)\n",
              "        (mlp): Mlp(\n",
              "          (fc1): Linear(in_features=384, out_features=1536, bias=True)\n",
              "          (act): GELU()\n",
              "          (drop1): Dropout(p=0.0, inplace=False)\n",
              "          (fc2): Linear(in_features=1536, out_features=384, bias=True)\n",
              "          (drop2): Dropout(p=0.0, inplace=False)\n",
              "        )\n",
              "      )\n",
              "      (8): LayerScaleBlock(\n",
              "        (norm1): LayerNorm((384,), eps=1e-06, elementwise_affine=True)\n",
              "        (attn): TalkingHeadAttn(\n",
              "          (qkv): Linear(in_features=384, out_features=1152, bias=True)\n",
              "          (attn_drop): Dropout(p=0.0, inplace=False)\n",
              "          (proj): Linear(in_features=384, out_features=384, bias=True)\n",
              "          (proj_l): Linear(in_features=8, out_features=8, bias=True)\n",
              "          (proj_w): Linear(in_features=8, out_features=8, bias=True)\n",
              "          (proj_drop): Dropout(p=0.0, inplace=False)\n",
              "        )\n",
              "        (drop_path): Identity()\n",
              "        (norm2): LayerNorm((384,), eps=1e-06, elementwise_affine=True)\n",
              "        (mlp): Mlp(\n",
              "          (fc1): Linear(in_features=384, out_features=1536, bias=True)\n",
              "          (act): GELU()\n",
              "          (drop1): Dropout(p=0.0, inplace=False)\n",
              "          (fc2): Linear(in_features=1536, out_features=384, bias=True)\n",
              "          (drop2): Dropout(p=0.0, inplace=False)\n",
              "        )\n",
              "      )\n",
              "      (9): LayerScaleBlock(\n",
              "        (norm1): LayerNorm((384,), eps=1e-06, elementwise_affine=True)\n",
              "        (attn): TalkingHeadAttn(\n",
              "          (qkv): Linear(in_features=384, out_features=1152, bias=True)\n",
              "          (attn_drop): Dropout(p=0.0, inplace=False)\n",
              "          (proj): Linear(in_features=384, out_features=384, bias=True)\n",
              "          (proj_l): Linear(in_features=8, out_features=8, bias=True)\n",
              "          (proj_w): Linear(in_features=8, out_features=8, bias=True)\n",
              "          (proj_drop): Dropout(p=0.0, inplace=False)\n",
              "        )\n",
              "        (drop_path): Identity()\n",
              "        (norm2): LayerNorm((384,), eps=1e-06, elementwise_affine=True)\n",
              "        (mlp): Mlp(\n",
              "          (fc1): Linear(in_features=384, out_features=1536, bias=True)\n",
              "          (act): GELU()\n",
              "          (drop1): Dropout(p=0.0, inplace=False)\n",
              "          (fc2): Linear(in_features=1536, out_features=384, bias=True)\n",
              "          (drop2): Dropout(p=0.0, inplace=False)\n",
              "        )\n",
              "      )\n",
              "      (10): LayerScaleBlock(\n",
              "        (norm1): LayerNorm((384,), eps=1e-06, elementwise_affine=True)\n",
              "        (attn): TalkingHeadAttn(\n",
              "          (qkv): Linear(in_features=384, out_features=1152, bias=True)\n",
              "          (attn_drop): Dropout(p=0.0, inplace=False)\n",
              "          (proj): Linear(in_features=384, out_features=384, bias=True)\n",
              "          (proj_l): Linear(in_features=8, out_features=8, bias=True)\n",
              "          (proj_w): Linear(in_features=8, out_features=8, bias=True)\n",
              "          (proj_drop): Dropout(p=0.0, inplace=False)\n",
              "        )\n",
              "        (drop_path): Identity()\n",
              "        (norm2): LayerNorm((384,), eps=1e-06, elementwise_affine=True)\n",
              "        (mlp): Mlp(\n",
              "          (fc1): Linear(in_features=384, out_features=1536, bias=True)\n",
              "          (act): GELU()\n",
              "          (drop1): Dropout(p=0.0, inplace=False)\n",
              "          (fc2): Linear(in_features=1536, out_features=384, bias=True)\n",
              "          (drop2): Dropout(p=0.0, inplace=False)\n",
              "        )\n",
              "      )\n",
              "      (11): LayerScaleBlock(\n",
              "        (norm1): LayerNorm((384,), eps=1e-06, elementwise_affine=True)\n",
              "        (attn): TalkingHeadAttn(\n",
              "          (qkv): Linear(in_features=384, out_features=1152, bias=True)\n",
              "          (attn_drop): Dropout(p=0.0, inplace=False)\n",
              "          (proj): Linear(in_features=384, out_features=384, bias=True)\n",
              "          (proj_l): Linear(in_features=8, out_features=8, bias=True)\n",
              "          (proj_w): Linear(in_features=8, out_features=8, bias=True)\n",
              "          (proj_drop): Dropout(p=0.0, inplace=False)\n",
              "        )\n",
              "        (drop_path): Identity()\n",
              "        (norm2): LayerNorm((384,), eps=1e-06, elementwise_affine=True)\n",
              "        (mlp): Mlp(\n",
              "          (fc1): Linear(in_features=384, out_features=1536, bias=True)\n",
              "          (act): GELU()\n",
              "          (drop1): Dropout(p=0.0, inplace=False)\n",
              "          (fc2): Linear(in_features=1536, out_features=384, bias=True)\n",
              "          (drop2): Dropout(p=0.0, inplace=False)\n",
              "        )\n",
              "      )\n",
              "      (12): LayerScaleBlock(\n",
              "        (norm1): LayerNorm((384,), eps=1e-06, elementwise_affine=True)\n",
              "        (attn): TalkingHeadAttn(\n",
              "          (qkv): Linear(in_features=384, out_features=1152, bias=True)\n",
              "          (attn_drop): Dropout(p=0.0, inplace=False)\n",
              "          (proj): Linear(in_features=384, out_features=384, bias=True)\n",
              "          (proj_l): Linear(in_features=8, out_features=8, bias=True)\n",
              "          (proj_w): Linear(in_features=8, out_features=8, bias=True)\n",
              "          (proj_drop): Dropout(p=0.0, inplace=False)\n",
              "        )\n",
              "        (drop_path): Identity()\n",
              "        (norm2): LayerNorm((384,), eps=1e-06, elementwise_affine=True)\n",
              "        (mlp): Mlp(\n",
              "          (fc1): Linear(in_features=384, out_features=1536, bias=True)\n",
              "          (act): GELU()\n",
              "          (drop1): Dropout(p=0.0, inplace=False)\n",
              "          (fc2): Linear(in_features=1536, out_features=384, bias=True)\n",
              "          (drop2): Dropout(p=0.0, inplace=False)\n",
              "        )\n",
              "      )\n",
              "      (13): LayerScaleBlock(\n",
              "        (norm1): LayerNorm((384,), eps=1e-06, elementwise_affine=True)\n",
              "        (attn): TalkingHeadAttn(\n",
              "          (qkv): Linear(in_features=384, out_features=1152, bias=True)\n",
              "          (attn_drop): Dropout(p=0.0, inplace=False)\n",
              "          (proj): Linear(in_features=384, out_features=384, bias=True)\n",
              "          (proj_l): Linear(in_features=8, out_features=8, bias=True)\n",
              "          (proj_w): Linear(in_features=8, out_features=8, bias=True)\n",
              "          (proj_drop): Dropout(p=0.0, inplace=False)\n",
              "        )\n",
              "        (drop_path): Identity()\n",
              "        (norm2): LayerNorm((384,), eps=1e-06, elementwise_affine=True)\n",
              "        (mlp): Mlp(\n",
              "          (fc1): Linear(in_features=384, out_features=1536, bias=True)\n",
              "          (act): GELU()\n",
              "          (drop1): Dropout(p=0.0, inplace=False)\n",
              "          (fc2): Linear(in_features=1536, out_features=384, bias=True)\n",
              "          (drop2): Dropout(p=0.0, inplace=False)\n",
              "        )\n",
              "      )\n",
              "      (14): LayerScaleBlock(\n",
              "        (norm1): LayerNorm((384,), eps=1e-06, elementwise_affine=True)\n",
              "        (attn): TalkingHeadAttn(\n",
              "          (qkv): Linear(in_features=384, out_features=1152, bias=True)\n",
              "          (attn_drop): Dropout(p=0.0, inplace=False)\n",
              "          (proj): Linear(in_features=384, out_features=384, bias=True)\n",
              "          (proj_l): Linear(in_features=8, out_features=8, bias=True)\n",
              "          (proj_w): Linear(in_features=8, out_features=8, bias=True)\n",
              "          (proj_drop): Dropout(p=0.0, inplace=False)\n",
              "        )\n",
              "        (drop_path): Identity()\n",
              "        (norm2): LayerNorm((384,), eps=1e-06, elementwise_affine=True)\n",
              "        (mlp): Mlp(\n",
              "          (fc1): Linear(in_features=384, out_features=1536, bias=True)\n",
              "          (act): GELU()\n",
              "          (drop1): Dropout(p=0.0, inplace=False)\n",
              "          (fc2): Linear(in_features=1536, out_features=384, bias=True)\n",
              "          (drop2): Dropout(p=0.0, inplace=False)\n",
              "        )\n",
              "      )\n",
              "      (15): LayerScaleBlock(\n",
              "        (norm1): LayerNorm((384,), eps=1e-06, elementwise_affine=True)\n",
              "        (attn): TalkingHeadAttn(\n",
              "          (qkv): Linear(in_features=384, out_features=1152, bias=True)\n",
              "          (attn_drop): Dropout(p=0.0, inplace=False)\n",
              "          (proj): Linear(in_features=384, out_features=384, bias=True)\n",
              "          (proj_l): Linear(in_features=8, out_features=8, bias=True)\n",
              "          (proj_w): Linear(in_features=8, out_features=8, bias=True)\n",
              "          (proj_drop): Dropout(p=0.0, inplace=False)\n",
              "        )\n",
              "        (drop_path): Identity()\n",
              "        (norm2): LayerNorm((384,), eps=1e-06, elementwise_affine=True)\n",
              "        (mlp): Mlp(\n",
              "          (fc1): Linear(in_features=384, out_features=1536, bias=True)\n",
              "          (act): GELU()\n",
              "          (drop1): Dropout(p=0.0, inplace=False)\n",
              "          (fc2): Linear(in_features=1536, out_features=384, bias=True)\n",
              "          (drop2): Dropout(p=0.0, inplace=False)\n",
              "        )\n",
              "      )\n",
              "      (16): LayerScaleBlock(\n",
              "        (norm1): LayerNorm((384,), eps=1e-06, elementwise_affine=True)\n",
              "        (attn): TalkingHeadAttn(\n",
              "          (qkv): Linear(in_features=384, out_features=1152, bias=True)\n",
              "          (attn_drop): Dropout(p=0.0, inplace=False)\n",
              "          (proj): Linear(in_features=384, out_features=384, bias=True)\n",
              "          (proj_l): Linear(in_features=8, out_features=8, bias=True)\n",
              "          (proj_w): Linear(in_features=8, out_features=8, bias=True)\n",
              "          (proj_drop): Dropout(p=0.0, inplace=False)\n",
              "        )\n",
              "        (drop_path): Identity()\n",
              "        (norm2): LayerNorm((384,), eps=1e-06, elementwise_affine=True)\n",
              "        (mlp): Mlp(\n",
              "          (fc1): Linear(in_features=384, out_features=1536, bias=True)\n",
              "          (act): GELU()\n",
              "          (drop1): Dropout(p=0.0, inplace=False)\n",
              "          (fc2): Linear(in_features=1536, out_features=384, bias=True)\n",
              "          (drop2): Dropout(p=0.0, inplace=False)\n",
              "        )\n",
              "      )\n",
              "      (17): LayerScaleBlock(\n",
              "        (norm1): LayerNorm((384,), eps=1e-06, elementwise_affine=True)\n",
              "        (attn): TalkingHeadAttn(\n",
              "          (qkv): Linear(in_features=384, out_features=1152, bias=True)\n",
              "          (attn_drop): Dropout(p=0.0, inplace=False)\n",
              "          (proj): Linear(in_features=384, out_features=384, bias=True)\n",
              "          (proj_l): Linear(in_features=8, out_features=8, bias=True)\n",
              "          (proj_w): Linear(in_features=8, out_features=8, bias=True)\n",
              "          (proj_drop): Dropout(p=0.0, inplace=False)\n",
              "        )\n",
              "        (drop_path): Identity()\n",
              "        (norm2): LayerNorm((384,), eps=1e-06, elementwise_affine=True)\n",
              "        (mlp): Mlp(\n",
              "          (fc1): Linear(in_features=384, out_features=1536, bias=True)\n",
              "          (act): GELU()\n",
              "          (drop1): Dropout(p=0.0, inplace=False)\n",
              "          (fc2): Linear(in_features=1536, out_features=384, bias=True)\n",
              "          (drop2): Dropout(p=0.0, inplace=False)\n",
              "        )\n",
              "      )\n",
              "      (18): LayerScaleBlock(\n",
              "        (norm1): LayerNorm((384,), eps=1e-06, elementwise_affine=True)\n",
              "        (attn): TalkingHeadAttn(\n",
              "          (qkv): Linear(in_features=384, out_features=1152, bias=True)\n",
              "          (attn_drop): Dropout(p=0.0, inplace=False)\n",
              "          (proj): Linear(in_features=384, out_features=384, bias=True)\n",
              "          (proj_l): Linear(in_features=8, out_features=8, bias=True)\n",
              "          (proj_w): Linear(in_features=8, out_features=8, bias=True)\n",
              "          (proj_drop): Dropout(p=0.0, inplace=False)\n",
              "        )\n",
              "        (drop_path): Identity()\n",
              "        (norm2): LayerNorm((384,), eps=1e-06, elementwise_affine=True)\n",
              "        (mlp): Mlp(\n",
              "          (fc1): Linear(in_features=384, out_features=1536, bias=True)\n",
              "          (act): GELU()\n",
              "          (drop1): Dropout(p=0.0, inplace=False)\n",
              "          (fc2): Linear(in_features=1536, out_features=384, bias=True)\n",
              "          (drop2): Dropout(p=0.0, inplace=False)\n",
              "        )\n",
              "      )\n",
              "      (19): LayerScaleBlock(\n",
              "        (norm1): LayerNorm((384,), eps=1e-06, elementwise_affine=True)\n",
              "        (attn): TalkingHeadAttn(\n",
              "          (qkv): Linear(in_features=384, out_features=1152, bias=True)\n",
              "          (attn_drop): Dropout(p=0.0, inplace=False)\n",
              "          (proj): Linear(in_features=384, out_features=384, bias=True)\n",
              "          (proj_l): Linear(in_features=8, out_features=8, bias=True)\n",
              "          (proj_w): Linear(in_features=8, out_features=8, bias=True)\n",
              "          (proj_drop): Dropout(p=0.0, inplace=False)\n",
              "        )\n",
              "        (drop_path): Identity()\n",
              "        (norm2): LayerNorm((384,), eps=1e-06, elementwise_affine=True)\n",
              "        (mlp): Mlp(\n",
              "          (fc1): Linear(in_features=384, out_features=1536, bias=True)\n",
              "          (act): GELU()\n",
              "          (drop1): Dropout(p=0.0, inplace=False)\n",
              "          (fc2): Linear(in_features=1536, out_features=384, bias=True)\n",
              "          (drop2): Dropout(p=0.0, inplace=False)\n",
              "        )\n",
              "      )\n",
              "      (20): LayerScaleBlock(\n",
              "        (norm1): LayerNorm((384,), eps=1e-06, elementwise_affine=True)\n",
              "        (attn): TalkingHeadAttn(\n",
              "          (qkv): Linear(in_features=384, out_features=1152, bias=True)\n",
              "          (attn_drop): Dropout(p=0.0, inplace=False)\n",
              "          (proj): Linear(in_features=384, out_features=384, bias=True)\n",
              "          (proj_l): Linear(in_features=8, out_features=8, bias=True)\n",
              "          (proj_w): Linear(in_features=8, out_features=8, bias=True)\n",
              "          (proj_drop): Dropout(p=0.0, inplace=False)\n",
              "        )\n",
              "        (drop_path): Identity()\n",
              "        (norm2): LayerNorm((384,), eps=1e-06, elementwise_affine=True)\n",
              "        (mlp): Mlp(\n",
              "          (fc1): Linear(in_features=384, out_features=1536, bias=True)\n",
              "          (act): GELU()\n",
              "          (drop1): Dropout(p=0.0, inplace=False)\n",
              "          (fc2): Linear(in_features=1536, out_features=384, bias=True)\n",
              "          (drop2): Dropout(p=0.0, inplace=False)\n",
              "        )\n",
              "      )\n",
              "      (21): LayerScaleBlock(\n",
              "        (norm1): LayerNorm((384,), eps=1e-06, elementwise_affine=True)\n",
              "        (attn): TalkingHeadAttn(\n",
              "          (qkv): Linear(in_features=384, out_features=1152, bias=True)\n",
              "          (attn_drop): Dropout(p=0.0, inplace=False)\n",
              "          (proj): Linear(in_features=384, out_features=384, bias=True)\n",
              "          (proj_l): Linear(in_features=8, out_features=8, bias=True)\n",
              "          (proj_w): Linear(in_features=8, out_features=8, bias=True)\n",
              "          (proj_drop): Dropout(p=0.0, inplace=False)\n",
              "        )\n",
              "        (drop_path): Identity()\n",
              "        (norm2): LayerNorm((384,), eps=1e-06, elementwise_affine=True)\n",
              "        (mlp): Mlp(\n",
              "          (fc1): Linear(in_features=384, out_features=1536, bias=True)\n",
              "          (act): GELU()\n",
              "          (drop1): Dropout(p=0.0, inplace=False)\n",
              "          (fc2): Linear(in_features=1536, out_features=384, bias=True)\n",
              "          (drop2): Dropout(p=0.0, inplace=False)\n",
              "        )\n",
              "      )\n",
              "      (22): LayerScaleBlock(\n",
              "        (norm1): LayerNorm((384,), eps=1e-06, elementwise_affine=True)\n",
              "        (attn): TalkingHeadAttn(\n",
              "          (qkv): Linear(in_features=384, out_features=1152, bias=True)\n",
              "          (attn_drop): Dropout(p=0.0, inplace=False)\n",
              "          (proj): Linear(in_features=384, out_features=384, bias=True)\n",
              "          (proj_l): Linear(in_features=8, out_features=8, bias=True)\n",
              "          (proj_w): Linear(in_features=8, out_features=8, bias=True)\n",
              "          (proj_drop): Dropout(p=0.0, inplace=False)\n",
              "        )\n",
              "        (drop_path): Identity()\n",
              "        (norm2): LayerNorm((384,), eps=1e-06, elementwise_affine=True)\n",
              "        (mlp): Mlp(\n",
              "          (fc1): Linear(in_features=384, out_features=1536, bias=True)\n",
              "          (act): GELU()\n",
              "          (drop1): Dropout(p=0.0, inplace=False)\n",
              "          (fc2): Linear(in_features=1536, out_features=384, bias=True)\n",
              "          (drop2): Dropout(p=0.0, inplace=False)\n",
              "        )\n",
              "      )\n",
              "      (23): LayerScaleBlock(\n",
              "        (norm1): LayerNorm((384,), eps=1e-06, elementwise_affine=True)\n",
              "        (attn): TalkingHeadAttn(\n",
              "          (qkv): Linear(in_features=384, out_features=1152, bias=True)\n",
              "          (attn_drop): Dropout(p=0.0, inplace=False)\n",
              "          (proj): Linear(in_features=384, out_features=384, bias=True)\n",
              "          (proj_l): Linear(in_features=8, out_features=8, bias=True)\n",
              "          (proj_w): Linear(in_features=8, out_features=8, bias=True)\n",
              "          (proj_drop): Dropout(p=0.0, inplace=False)\n",
              "        )\n",
              "        (drop_path): Identity()\n",
              "        (norm2): LayerNorm((384,), eps=1e-06, elementwise_affine=True)\n",
              "        (mlp): Mlp(\n",
              "          (fc1): Linear(in_features=384, out_features=1536, bias=True)\n",
              "          (act): GELU()\n",
              "          (drop1): Dropout(p=0.0, inplace=False)\n",
              "          (fc2): Linear(in_features=1536, out_features=384, bias=True)\n",
              "          (drop2): Dropout(p=0.0, inplace=False)\n",
              "        )\n",
              "      )\n",
              "    )\n",
              "    (blocks_token_only): ModuleList(\n",
              "      (0): LayerScaleBlockClassAttn(\n",
              "        (norm1): LayerNorm((384,), eps=1e-06, elementwise_affine=True)\n",
              "        (attn): ClassAttn(\n",
              "          (q): Linear(in_features=384, out_features=384, bias=True)\n",
              "          (k): Linear(in_features=384, out_features=384, bias=True)\n",
              "          (v): Linear(in_features=384, out_features=384, bias=True)\n",
              "          (attn_drop): Dropout(p=0.0, inplace=False)\n",
              "          (proj): Linear(in_features=384, out_features=384, bias=True)\n",
              "          (proj_drop): Dropout(p=0.0, inplace=False)\n",
              "        )\n",
              "        (drop_path): Identity()\n",
              "        (norm2): LayerNorm((384,), eps=1e-06, elementwise_affine=True)\n",
              "        (mlp): Mlp(\n",
              "          (fc1): Linear(in_features=384, out_features=1536, bias=True)\n",
              "          (act): GELU()\n",
              "          (drop1): Dropout(p=0.0, inplace=False)\n",
              "          (fc2): Linear(in_features=1536, out_features=384, bias=True)\n",
              "          (drop2): Dropout(p=0.0, inplace=False)\n",
              "        )\n",
              "      )\n",
              "      (1): LayerScaleBlockClassAttn(\n",
              "        (norm1): LayerNorm((384,), eps=1e-06, elementwise_affine=True)\n",
              "        (attn): ClassAttn(\n",
              "          (q): Linear(in_features=384, out_features=384, bias=True)\n",
              "          (k): Linear(in_features=384, out_features=384, bias=True)\n",
              "          (v): Linear(in_features=384, out_features=384, bias=True)\n",
              "          (attn_drop): Dropout(p=0.0, inplace=False)\n",
              "          (proj): Linear(in_features=384, out_features=384, bias=True)\n",
              "          (proj_drop): Dropout(p=0.0, inplace=False)\n",
              "        )\n",
              "        (drop_path): Identity()\n",
              "        (norm2): LayerNorm((384,), eps=1e-06, elementwise_affine=True)\n",
              "        (mlp): Mlp(\n",
              "          (fc1): Linear(in_features=384, out_features=1536, bias=True)\n",
              "          (act): GELU()\n",
              "          (drop1): Dropout(p=0.0, inplace=False)\n",
              "          (fc2): Linear(in_features=1536, out_features=384, bias=True)\n",
              "          (drop2): Dropout(p=0.0, inplace=False)\n",
              "        )\n",
              "      )\n",
              "    )\n",
              "    (norm): LayerNorm((384,), eps=1e-06, elementwise_affine=True)\n",
              "    (head): Identity()\n",
              "  )\n",
              "  (fc): Linear(in_features=384, out_features=25, bias=True)\n",
              ")"
            ]
          },
          "metadata": {},
          "execution_count": 28
        }
      ],
      "source": [
        "class Cait(nn.Module):\n",
        "    def __init__(self, backbone, embedder, pretrained=True):\n",
        "        super(Cait, self).__init__()\n",
        "        self.backbone = timm.create_model(backbone, pretrained=pretrained)\n",
        "        self.backbone.reset_classifier(0)\n",
        "        self.n_features = self.backbone.num_features\n",
        "        self.fc = nn.Linear(self.n_features, CONFIG['num_classes'])\n",
        "\n",
        "    def forward(self, images):\n",
        "        # features = (bs, embedding_size)\n",
        "        features = self.backbone(images)\n",
        "        # outputs  = (bs, num_classes)\n",
        "        # if isinstance(features, tuple):\n",
        "        #   features = features[0]\n",
        "        output = self.fc(features)\n",
        "        return output\n",
        "\n",
        "\n",
        "cait224 = Cait('cait_s24_224',\n",
        "            None,\n",
        "            pretrained=False)\n",
        "cait224.to(CONFIG['device'])\n"
      ]
    },
    {
      "cell_type": "code",
      "execution_count": 29,
      "metadata": {
        "colab": {
          "base_uri": "https://localhost:8080/"
        },
        "id": "gidBPV8CMuzV",
        "outputId": "e06b1e65-c191-486f-a7b1-d20e479ab22a"
      },
      "outputs": [
        {
          "output_type": "execute_result",
          "data": {
            "text/plain": [
              "<All keys matched successfully>"
            ]
          },
          "metadata": {},
          "execution_count": 29
        }
      ],
      "source": [
        "wandb.restore('epoch40_Loss0.0000.bin', 'jiwon7258/lg/2nrf8f1s', root='./')\n",
        "cait224.load_state_dict(torch.load(\n",
        "    'epoch40_Loss0.0000.bin', map_location=CONFIG['device']))\n"
      ]
    },
    {
      "cell_type": "markdown",
      "metadata": {
        "id": "Wrj-hjzIMuzW"
      },
      "source": [
        "## Swin S 224"
      ]
    },
    {
      "cell_type": "code",
      "execution_count": 30,
      "metadata": {
        "id": "rvT1LFLEMuzW"
      },
      "outputs": [],
      "source": [
        "class SwinS(nn.Module):\n",
        "    def __init__(self, backbone, embedder, pretrained=True):\n",
        "        super(SwinS, self).__init__()\n",
        "        self.backbone = timm.create_model(backbone, pretrained=pretrained)\n",
        "        self.backbone.reset_classifier(0)\n",
        "        self.n_features = self.backbone.num_features\n",
        "        self.fc = nn.Linear(self.n_features, CONFIG['num_classes'])\n",
        "\n",
        "    def forward(self, images):\n",
        "        # features = (bs, embedding_size)\n",
        "        features = self.backbone(images)\n",
        "        # outputs  = (bs, num_classes)\n",
        "        # if isinstance(features, tuple):\n",
        "        #   features = features[0]\n",
        "        output = self.fc(features)\n",
        "        return output\n",
        "\n",
        "\n",
        "swinS224 = SwinS('swin_small_patch4_window7_224', None, pretrained=False)\n",
        "swinS224.to(CONFIG['device']);\n"
      ]
    },
    {
      "cell_type": "code",
      "execution_count": 31,
      "metadata": {
        "colab": {
          "base_uri": "https://localhost:8080/"
        },
        "id": "_gr-S379MuzX",
        "outputId": "dc458d93-e130-4da3-d49d-fc6dcb48d59a"
      },
      "outputs": [
        {
          "output_type": "execute_result",
          "data": {
            "text/plain": [
              "<All keys matched successfully>"
            ]
          },
          "metadata": {},
          "execution_count": 31
        }
      ],
      "source": [
        "MODEL_NAME = 'last.bin'\n",
        "RUN_PATH = 'jiwon7258/lg/1hwwknlq'\n",
        "wandb.restore(MODEL_NAME, RUN_PATH, root='./')\n",
        "swinS224.load_state_dict(torch.load(\n",
        "    MODEL_NAME, map_location=CONFIG['device']))\n"
      ]
    },
    {
      "cell_type": "markdown",
      "metadata": {
        "id": "0yb0wA5bMuzX"
      },
      "source": [
        "## ConvNext Small 224"
      ]
    },
    {
      "cell_type": "code",
      "execution_count": 32,
      "metadata": {
        "colab": {
          "base_uri": "https://localhost:8080/"
        },
        "id": "g0d2uydeMuzX",
        "outputId": "7346fd8b-f171-414d-9e75-a3c8430a2627"
      },
      "outputs": [
        {
          "output_type": "execute_result",
          "data": {
            "text/plain": [
              "ConvnextS(\n",
              "  (backbone): ConvNeXt(\n",
              "    (stem): Sequential(\n",
              "      (0): Conv2d(3, 96, kernel_size=(4, 4), stride=(4, 4))\n",
              "      (1): LayerNorm2d((96,), eps=1e-06, elementwise_affine=True)\n",
              "    )\n",
              "    (stages): Sequential(\n",
              "      (0): ConvNeXtStage(\n",
              "        (downsample): Identity()\n",
              "        (blocks): Sequential(\n",
              "          (0): ConvNeXtBlock(\n",
              "            (conv_dw): Conv2d(96, 96, kernel_size=(7, 7), stride=(1, 1), padding=(3, 3), groups=96)\n",
              "            (norm): LayerNorm((96,), eps=1e-06, elementwise_affine=True)\n",
              "            (mlp): Mlp(\n",
              "              (fc1): Linear(in_features=96, out_features=384, bias=True)\n",
              "              (act): GELU()\n",
              "              (drop1): Dropout(p=0.0, inplace=False)\n",
              "              (fc2): Linear(in_features=384, out_features=96, bias=True)\n",
              "              (drop2): Dropout(p=0.0, inplace=False)\n",
              "            )\n",
              "            (drop_path): Identity()\n",
              "          )\n",
              "          (1): ConvNeXtBlock(\n",
              "            (conv_dw): Conv2d(96, 96, kernel_size=(7, 7), stride=(1, 1), padding=(3, 3), groups=96)\n",
              "            (norm): LayerNorm((96,), eps=1e-06, elementwise_affine=True)\n",
              "            (mlp): Mlp(\n",
              "              (fc1): Linear(in_features=96, out_features=384, bias=True)\n",
              "              (act): GELU()\n",
              "              (drop1): Dropout(p=0.0, inplace=False)\n",
              "              (fc2): Linear(in_features=384, out_features=96, bias=True)\n",
              "              (drop2): Dropout(p=0.0, inplace=False)\n",
              "            )\n",
              "            (drop_path): Identity()\n",
              "          )\n",
              "          (2): ConvNeXtBlock(\n",
              "            (conv_dw): Conv2d(96, 96, kernel_size=(7, 7), stride=(1, 1), padding=(3, 3), groups=96)\n",
              "            (norm): LayerNorm((96,), eps=1e-06, elementwise_affine=True)\n",
              "            (mlp): Mlp(\n",
              "              (fc1): Linear(in_features=96, out_features=384, bias=True)\n",
              "              (act): GELU()\n",
              "              (drop1): Dropout(p=0.0, inplace=False)\n",
              "              (fc2): Linear(in_features=384, out_features=96, bias=True)\n",
              "              (drop2): Dropout(p=0.0, inplace=False)\n",
              "            )\n",
              "            (drop_path): Identity()\n",
              "          )\n",
              "        )\n",
              "      )\n",
              "      (1): ConvNeXtStage(\n",
              "        (downsample): Sequential(\n",
              "          (0): LayerNorm2d((96,), eps=1e-06, elementwise_affine=True)\n",
              "          (1): Conv2d(96, 192, kernel_size=(2, 2), stride=(2, 2))\n",
              "        )\n",
              "        (blocks): Sequential(\n",
              "          (0): ConvNeXtBlock(\n",
              "            (conv_dw): Conv2d(192, 192, kernel_size=(7, 7), stride=(1, 1), padding=(3, 3), groups=192)\n",
              "            (norm): LayerNorm((192,), eps=1e-06, elementwise_affine=True)\n",
              "            (mlp): Mlp(\n",
              "              (fc1): Linear(in_features=192, out_features=768, bias=True)\n",
              "              (act): GELU()\n",
              "              (drop1): Dropout(p=0.0, inplace=False)\n",
              "              (fc2): Linear(in_features=768, out_features=192, bias=True)\n",
              "              (drop2): Dropout(p=0.0, inplace=False)\n",
              "            )\n",
              "            (drop_path): Identity()\n",
              "          )\n",
              "          (1): ConvNeXtBlock(\n",
              "            (conv_dw): Conv2d(192, 192, kernel_size=(7, 7), stride=(1, 1), padding=(3, 3), groups=192)\n",
              "            (norm): LayerNorm((192,), eps=1e-06, elementwise_affine=True)\n",
              "            (mlp): Mlp(\n",
              "              (fc1): Linear(in_features=192, out_features=768, bias=True)\n",
              "              (act): GELU()\n",
              "              (drop1): Dropout(p=0.0, inplace=False)\n",
              "              (fc2): Linear(in_features=768, out_features=192, bias=True)\n",
              "              (drop2): Dropout(p=0.0, inplace=False)\n",
              "            )\n",
              "            (drop_path): Identity()\n",
              "          )\n",
              "          (2): ConvNeXtBlock(\n",
              "            (conv_dw): Conv2d(192, 192, kernel_size=(7, 7), stride=(1, 1), padding=(3, 3), groups=192)\n",
              "            (norm): LayerNorm((192,), eps=1e-06, elementwise_affine=True)\n",
              "            (mlp): Mlp(\n",
              "              (fc1): Linear(in_features=192, out_features=768, bias=True)\n",
              "              (act): GELU()\n",
              "              (drop1): Dropout(p=0.0, inplace=False)\n",
              "              (fc2): Linear(in_features=768, out_features=192, bias=True)\n",
              "              (drop2): Dropout(p=0.0, inplace=False)\n",
              "            )\n",
              "            (drop_path): Identity()\n",
              "          )\n",
              "        )\n",
              "      )\n",
              "      (2): ConvNeXtStage(\n",
              "        (downsample): Sequential(\n",
              "          (0): LayerNorm2d((192,), eps=1e-06, elementwise_affine=True)\n",
              "          (1): Conv2d(192, 384, kernel_size=(2, 2), stride=(2, 2))\n",
              "        )\n",
              "        (blocks): Sequential(\n",
              "          (0): ConvNeXtBlock(\n",
              "            (conv_dw): Conv2d(384, 384, kernel_size=(7, 7), stride=(1, 1), padding=(3, 3), groups=384)\n",
              "            (norm): LayerNorm((384,), eps=1e-06, elementwise_affine=True)\n",
              "            (mlp): Mlp(\n",
              "              (fc1): Linear(in_features=384, out_features=1536, bias=True)\n",
              "              (act): GELU()\n",
              "              (drop1): Dropout(p=0.0, inplace=False)\n",
              "              (fc2): Linear(in_features=1536, out_features=384, bias=True)\n",
              "              (drop2): Dropout(p=0.0, inplace=False)\n",
              "            )\n",
              "            (drop_path): Identity()\n",
              "          )\n",
              "          (1): ConvNeXtBlock(\n",
              "            (conv_dw): Conv2d(384, 384, kernel_size=(7, 7), stride=(1, 1), padding=(3, 3), groups=384)\n",
              "            (norm): LayerNorm((384,), eps=1e-06, elementwise_affine=True)\n",
              "            (mlp): Mlp(\n",
              "              (fc1): Linear(in_features=384, out_features=1536, bias=True)\n",
              "              (act): GELU()\n",
              "              (drop1): Dropout(p=0.0, inplace=False)\n",
              "              (fc2): Linear(in_features=1536, out_features=384, bias=True)\n",
              "              (drop2): Dropout(p=0.0, inplace=False)\n",
              "            )\n",
              "            (drop_path): Identity()\n",
              "          )\n",
              "          (2): ConvNeXtBlock(\n",
              "            (conv_dw): Conv2d(384, 384, kernel_size=(7, 7), stride=(1, 1), padding=(3, 3), groups=384)\n",
              "            (norm): LayerNorm((384,), eps=1e-06, elementwise_affine=True)\n",
              "            (mlp): Mlp(\n",
              "              (fc1): Linear(in_features=384, out_features=1536, bias=True)\n",
              "              (act): GELU()\n",
              "              (drop1): Dropout(p=0.0, inplace=False)\n",
              "              (fc2): Linear(in_features=1536, out_features=384, bias=True)\n",
              "              (drop2): Dropout(p=0.0, inplace=False)\n",
              "            )\n",
              "            (drop_path): Identity()\n",
              "          )\n",
              "          (3): ConvNeXtBlock(\n",
              "            (conv_dw): Conv2d(384, 384, kernel_size=(7, 7), stride=(1, 1), padding=(3, 3), groups=384)\n",
              "            (norm): LayerNorm((384,), eps=1e-06, elementwise_affine=True)\n",
              "            (mlp): Mlp(\n",
              "              (fc1): Linear(in_features=384, out_features=1536, bias=True)\n",
              "              (act): GELU()\n",
              "              (drop1): Dropout(p=0.0, inplace=False)\n",
              "              (fc2): Linear(in_features=1536, out_features=384, bias=True)\n",
              "              (drop2): Dropout(p=0.0, inplace=False)\n",
              "            )\n",
              "            (drop_path): Identity()\n",
              "          )\n",
              "          (4): ConvNeXtBlock(\n",
              "            (conv_dw): Conv2d(384, 384, kernel_size=(7, 7), stride=(1, 1), padding=(3, 3), groups=384)\n",
              "            (norm): LayerNorm((384,), eps=1e-06, elementwise_affine=True)\n",
              "            (mlp): Mlp(\n",
              "              (fc1): Linear(in_features=384, out_features=1536, bias=True)\n",
              "              (act): GELU()\n",
              "              (drop1): Dropout(p=0.0, inplace=False)\n",
              "              (fc2): Linear(in_features=1536, out_features=384, bias=True)\n",
              "              (drop2): Dropout(p=0.0, inplace=False)\n",
              "            )\n",
              "            (drop_path): Identity()\n",
              "          )\n",
              "          (5): ConvNeXtBlock(\n",
              "            (conv_dw): Conv2d(384, 384, kernel_size=(7, 7), stride=(1, 1), padding=(3, 3), groups=384)\n",
              "            (norm): LayerNorm((384,), eps=1e-06, elementwise_affine=True)\n",
              "            (mlp): Mlp(\n",
              "              (fc1): Linear(in_features=384, out_features=1536, bias=True)\n",
              "              (act): GELU()\n",
              "              (drop1): Dropout(p=0.0, inplace=False)\n",
              "              (fc2): Linear(in_features=1536, out_features=384, bias=True)\n",
              "              (drop2): Dropout(p=0.0, inplace=False)\n",
              "            )\n",
              "            (drop_path): Identity()\n",
              "          )\n",
              "          (6): ConvNeXtBlock(\n",
              "            (conv_dw): Conv2d(384, 384, kernel_size=(7, 7), stride=(1, 1), padding=(3, 3), groups=384)\n",
              "            (norm): LayerNorm((384,), eps=1e-06, elementwise_affine=True)\n",
              "            (mlp): Mlp(\n",
              "              (fc1): Linear(in_features=384, out_features=1536, bias=True)\n",
              "              (act): GELU()\n",
              "              (drop1): Dropout(p=0.0, inplace=False)\n",
              "              (fc2): Linear(in_features=1536, out_features=384, bias=True)\n",
              "              (drop2): Dropout(p=0.0, inplace=False)\n",
              "            )\n",
              "            (drop_path): Identity()\n",
              "          )\n",
              "          (7): ConvNeXtBlock(\n",
              "            (conv_dw): Conv2d(384, 384, kernel_size=(7, 7), stride=(1, 1), padding=(3, 3), groups=384)\n",
              "            (norm): LayerNorm((384,), eps=1e-06, elementwise_affine=True)\n",
              "            (mlp): Mlp(\n",
              "              (fc1): Linear(in_features=384, out_features=1536, bias=True)\n",
              "              (act): GELU()\n",
              "              (drop1): Dropout(p=0.0, inplace=False)\n",
              "              (fc2): Linear(in_features=1536, out_features=384, bias=True)\n",
              "              (drop2): Dropout(p=0.0, inplace=False)\n",
              "            )\n",
              "            (drop_path): Identity()\n",
              "          )\n",
              "          (8): ConvNeXtBlock(\n",
              "            (conv_dw): Conv2d(384, 384, kernel_size=(7, 7), stride=(1, 1), padding=(3, 3), groups=384)\n",
              "            (norm): LayerNorm((384,), eps=1e-06, elementwise_affine=True)\n",
              "            (mlp): Mlp(\n",
              "              (fc1): Linear(in_features=384, out_features=1536, bias=True)\n",
              "              (act): GELU()\n",
              "              (drop1): Dropout(p=0.0, inplace=False)\n",
              "              (fc2): Linear(in_features=1536, out_features=384, bias=True)\n",
              "              (drop2): Dropout(p=0.0, inplace=False)\n",
              "            )\n",
              "            (drop_path): Identity()\n",
              "          )\n",
              "          (9): ConvNeXtBlock(\n",
              "            (conv_dw): Conv2d(384, 384, kernel_size=(7, 7), stride=(1, 1), padding=(3, 3), groups=384)\n",
              "            (norm): LayerNorm((384,), eps=1e-06, elementwise_affine=True)\n",
              "            (mlp): Mlp(\n",
              "              (fc1): Linear(in_features=384, out_features=1536, bias=True)\n",
              "              (act): GELU()\n",
              "              (drop1): Dropout(p=0.0, inplace=False)\n",
              "              (fc2): Linear(in_features=1536, out_features=384, bias=True)\n",
              "              (drop2): Dropout(p=0.0, inplace=False)\n",
              "            )\n",
              "            (drop_path): Identity()\n",
              "          )\n",
              "          (10): ConvNeXtBlock(\n",
              "            (conv_dw): Conv2d(384, 384, kernel_size=(7, 7), stride=(1, 1), padding=(3, 3), groups=384)\n",
              "            (norm): LayerNorm((384,), eps=1e-06, elementwise_affine=True)\n",
              "            (mlp): Mlp(\n",
              "              (fc1): Linear(in_features=384, out_features=1536, bias=True)\n",
              "              (act): GELU()\n",
              "              (drop1): Dropout(p=0.0, inplace=False)\n",
              "              (fc2): Linear(in_features=1536, out_features=384, bias=True)\n",
              "              (drop2): Dropout(p=0.0, inplace=False)\n",
              "            )\n",
              "            (drop_path): Identity()\n",
              "          )\n",
              "          (11): ConvNeXtBlock(\n",
              "            (conv_dw): Conv2d(384, 384, kernel_size=(7, 7), stride=(1, 1), padding=(3, 3), groups=384)\n",
              "            (norm): LayerNorm((384,), eps=1e-06, elementwise_affine=True)\n",
              "            (mlp): Mlp(\n",
              "              (fc1): Linear(in_features=384, out_features=1536, bias=True)\n",
              "              (act): GELU()\n",
              "              (drop1): Dropout(p=0.0, inplace=False)\n",
              "              (fc2): Linear(in_features=1536, out_features=384, bias=True)\n",
              "              (drop2): Dropout(p=0.0, inplace=False)\n",
              "            )\n",
              "            (drop_path): Identity()\n",
              "          )\n",
              "          (12): ConvNeXtBlock(\n",
              "            (conv_dw): Conv2d(384, 384, kernel_size=(7, 7), stride=(1, 1), padding=(3, 3), groups=384)\n",
              "            (norm): LayerNorm((384,), eps=1e-06, elementwise_affine=True)\n",
              "            (mlp): Mlp(\n",
              "              (fc1): Linear(in_features=384, out_features=1536, bias=True)\n",
              "              (act): GELU()\n",
              "              (drop1): Dropout(p=0.0, inplace=False)\n",
              "              (fc2): Linear(in_features=1536, out_features=384, bias=True)\n",
              "              (drop2): Dropout(p=0.0, inplace=False)\n",
              "            )\n",
              "            (drop_path): Identity()\n",
              "          )\n",
              "          (13): ConvNeXtBlock(\n",
              "            (conv_dw): Conv2d(384, 384, kernel_size=(7, 7), stride=(1, 1), padding=(3, 3), groups=384)\n",
              "            (norm): LayerNorm((384,), eps=1e-06, elementwise_affine=True)\n",
              "            (mlp): Mlp(\n",
              "              (fc1): Linear(in_features=384, out_features=1536, bias=True)\n",
              "              (act): GELU()\n",
              "              (drop1): Dropout(p=0.0, inplace=False)\n",
              "              (fc2): Linear(in_features=1536, out_features=384, bias=True)\n",
              "              (drop2): Dropout(p=0.0, inplace=False)\n",
              "            )\n",
              "            (drop_path): Identity()\n",
              "          )\n",
              "          (14): ConvNeXtBlock(\n",
              "            (conv_dw): Conv2d(384, 384, kernel_size=(7, 7), stride=(1, 1), padding=(3, 3), groups=384)\n",
              "            (norm): LayerNorm((384,), eps=1e-06, elementwise_affine=True)\n",
              "            (mlp): Mlp(\n",
              "              (fc1): Linear(in_features=384, out_features=1536, bias=True)\n",
              "              (act): GELU()\n",
              "              (drop1): Dropout(p=0.0, inplace=False)\n",
              "              (fc2): Linear(in_features=1536, out_features=384, bias=True)\n",
              "              (drop2): Dropout(p=0.0, inplace=False)\n",
              "            )\n",
              "            (drop_path): Identity()\n",
              "          )\n",
              "          (15): ConvNeXtBlock(\n",
              "            (conv_dw): Conv2d(384, 384, kernel_size=(7, 7), stride=(1, 1), padding=(3, 3), groups=384)\n",
              "            (norm): LayerNorm((384,), eps=1e-06, elementwise_affine=True)\n",
              "            (mlp): Mlp(\n",
              "              (fc1): Linear(in_features=384, out_features=1536, bias=True)\n",
              "              (act): GELU()\n",
              "              (drop1): Dropout(p=0.0, inplace=False)\n",
              "              (fc2): Linear(in_features=1536, out_features=384, bias=True)\n",
              "              (drop2): Dropout(p=0.0, inplace=False)\n",
              "            )\n",
              "            (drop_path): Identity()\n",
              "          )\n",
              "          (16): ConvNeXtBlock(\n",
              "            (conv_dw): Conv2d(384, 384, kernel_size=(7, 7), stride=(1, 1), padding=(3, 3), groups=384)\n",
              "            (norm): LayerNorm((384,), eps=1e-06, elementwise_affine=True)\n",
              "            (mlp): Mlp(\n",
              "              (fc1): Linear(in_features=384, out_features=1536, bias=True)\n",
              "              (act): GELU()\n",
              "              (drop1): Dropout(p=0.0, inplace=False)\n",
              "              (fc2): Linear(in_features=1536, out_features=384, bias=True)\n",
              "              (drop2): Dropout(p=0.0, inplace=False)\n",
              "            )\n",
              "            (drop_path): Identity()\n",
              "          )\n",
              "          (17): ConvNeXtBlock(\n",
              "            (conv_dw): Conv2d(384, 384, kernel_size=(7, 7), stride=(1, 1), padding=(3, 3), groups=384)\n",
              "            (norm): LayerNorm((384,), eps=1e-06, elementwise_affine=True)\n",
              "            (mlp): Mlp(\n",
              "              (fc1): Linear(in_features=384, out_features=1536, bias=True)\n",
              "              (act): GELU()\n",
              "              (drop1): Dropout(p=0.0, inplace=False)\n",
              "              (fc2): Linear(in_features=1536, out_features=384, bias=True)\n",
              "              (drop2): Dropout(p=0.0, inplace=False)\n",
              "            )\n",
              "            (drop_path): Identity()\n",
              "          )\n",
              "          (18): ConvNeXtBlock(\n",
              "            (conv_dw): Conv2d(384, 384, kernel_size=(7, 7), stride=(1, 1), padding=(3, 3), groups=384)\n",
              "            (norm): LayerNorm((384,), eps=1e-06, elementwise_affine=True)\n",
              "            (mlp): Mlp(\n",
              "              (fc1): Linear(in_features=384, out_features=1536, bias=True)\n",
              "              (act): GELU()\n",
              "              (drop1): Dropout(p=0.0, inplace=False)\n",
              "              (fc2): Linear(in_features=1536, out_features=384, bias=True)\n",
              "              (drop2): Dropout(p=0.0, inplace=False)\n",
              "            )\n",
              "            (drop_path): Identity()\n",
              "          )\n",
              "          (19): ConvNeXtBlock(\n",
              "            (conv_dw): Conv2d(384, 384, kernel_size=(7, 7), stride=(1, 1), padding=(3, 3), groups=384)\n",
              "            (norm): LayerNorm((384,), eps=1e-06, elementwise_affine=True)\n",
              "            (mlp): Mlp(\n",
              "              (fc1): Linear(in_features=384, out_features=1536, bias=True)\n",
              "              (act): GELU()\n",
              "              (drop1): Dropout(p=0.0, inplace=False)\n",
              "              (fc2): Linear(in_features=1536, out_features=384, bias=True)\n",
              "              (drop2): Dropout(p=0.0, inplace=False)\n",
              "            )\n",
              "            (drop_path): Identity()\n",
              "          )\n",
              "          (20): ConvNeXtBlock(\n",
              "            (conv_dw): Conv2d(384, 384, kernel_size=(7, 7), stride=(1, 1), padding=(3, 3), groups=384)\n",
              "            (norm): LayerNorm((384,), eps=1e-06, elementwise_affine=True)\n",
              "            (mlp): Mlp(\n",
              "              (fc1): Linear(in_features=384, out_features=1536, bias=True)\n",
              "              (act): GELU()\n",
              "              (drop1): Dropout(p=0.0, inplace=False)\n",
              "              (fc2): Linear(in_features=1536, out_features=384, bias=True)\n",
              "              (drop2): Dropout(p=0.0, inplace=False)\n",
              "            )\n",
              "            (drop_path): Identity()\n",
              "          )\n",
              "          (21): ConvNeXtBlock(\n",
              "            (conv_dw): Conv2d(384, 384, kernel_size=(7, 7), stride=(1, 1), padding=(3, 3), groups=384)\n",
              "            (norm): LayerNorm((384,), eps=1e-06, elementwise_affine=True)\n",
              "            (mlp): Mlp(\n",
              "              (fc1): Linear(in_features=384, out_features=1536, bias=True)\n",
              "              (act): GELU()\n",
              "              (drop1): Dropout(p=0.0, inplace=False)\n",
              "              (fc2): Linear(in_features=1536, out_features=384, bias=True)\n",
              "              (drop2): Dropout(p=0.0, inplace=False)\n",
              "            )\n",
              "            (drop_path): Identity()\n",
              "          )\n",
              "          (22): ConvNeXtBlock(\n",
              "            (conv_dw): Conv2d(384, 384, kernel_size=(7, 7), stride=(1, 1), padding=(3, 3), groups=384)\n",
              "            (norm): LayerNorm((384,), eps=1e-06, elementwise_affine=True)\n",
              "            (mlp): Mlp(\n",
              "              (fc1): Linear(in_features=384, out_features=1536, bias=True)\n",
              "              (act): GELU()\n",
              "              (drop1): Dropout(p=0.0, inplace=False)\n",
              "              (fc2): Linear(in_features=1536, out_features=384, bias=True)\n",
              "              (drop2): Dropout(p=0.0, inplace=False)\n",
              "            )\n",
              "            (drop_path): Identity()\n",
              "          )\n",
              "          (23): ConvNeXtBlock(\n",
              "            (conv_dw): Conv2d(384, 384, kernel_size=(7, 7), stride=(1, 1), padding=(3, 3), groups=384)\n",
              "            (norm): LayerNorm((384,), eps=1e-06, elementwise_affine=True)\n",
              "            (mlp): Mlp(\n",
              "              (fc1): Linear(in_features=384, out_features=1536, bias=True)\n",
              "              (act): GELU()\n",
              "              (drop1): Dropout(p=0.0, inplace=False)\n",
              "              (fc2): Linear(in_features=1536, out_features=384, bias=True)\n",
              "              (drop2): Dropout(p=0.0, inplace=False)\n",
              "            )\n",
              "            (drop_path): Identity()\n",
              "          )\n",
              "          (24): ConvNeXtBlock(\n",
              "            (conv_dw): Conv2d(384, 384, kernel_size=(7, 7), stride=(1, 1), padding=(3, 3), groups=384)\n",
              "            (norm): LayerNorm((384,), eps=1e-06, elementwise_affine=True)\n",
              "            (mlp): Mlp(\n",
              "              (fc1): Linear(in_features=384, out_features=1536, bias=True)\n",
              "              (act): GELU()\n",
              "              (drop1): Dropout(p=0.0, inplace=False)\n",
              "              (fc2): Linear(in_features=1536, out_features=384, bias=True)\n",
              "              (drop2): Dropout(p=0.0, inplace=False)\n",
              "            )\n",
              "            (drop_path): Identity()\n",
              "          )\n",
              "          (25): ConvNeXtBlock(\n",
              "            (conv_dw): Conv2d(384, 384, kernel_size=(7, 7), stride=(1, 1), padding=(3, 3), groups=384)\n",
              "            (norm): LayerNorm((384,), eps=1e-06, elementwise_affine=True)\n",
              "            (mlp): Mlp(\n",
              "              (fc1): Linear(in_features=384, out_features=1536, bias=True)\n",
              "              (act): GELU()\n",
              "              (drop1): Dropout(p=0.0, inplace=False)\n",
              "              (fc2): Linear(in_features=1536, out_features=384, bias=True)\n",
              "              (drop2): Dropout(p=0.0, inplace=False)\n",
              "            )\n",
              "            (drop_path): Identity()\n",
              "          )\n",
              "          (26): ConvNeXtBlock(\n",
              "            (conv_dw): Conv2d(384, 384, kernel_size=(7, 7), stride=(1, 1), padding=(3, 3), groups=384)\n",
              "            (norm): LayerNorm((384,), eps=1e-06, elementwise_affine=True)\n",
              "            (mlp): Mlp(\n",
              "              (fc1): Linear(in_features=384, out_features=1536, bias=True)\n",
              "              (act): GELU()\n",
              "              (drop1): Dropout(p=0.0, inplace=False)\n",
              "              (fc2): Linear(in_features=1536, out_features=384, bias=True)\n",
              "              (drop2): Dropout(p=0.0, inplace=False)\n",
              "            )\n",
              "            (drop_path): Identity()\n",
              "          )\n",
              "        )\n",
              "      )\n",
              "      (3): ConvNeXtStage(\n",
              "        (downsample): Sequential(\n",
              "          (0): LayerNorm2d((384,), eps=1e-06, elementwise_affine=True)\n",
              "          (1): Conv2d(384, 768, kernel_size=(2, 2), stride=(2, 2))\n",
              "        )\n",
              "        (blocks): Sequential(\n",
              "          (0): ConvNeXtBlock(\n",
              "            (conv_dw): Conv2d(768, 768, kernel_size=(7, 7), stride=(1, 1), padding=(3, 3), groups=768)\n",
              "            (norm): LayerNorm((768,), eps=1e-06, elementwise_affine=True)\n",
              "            (mlp): Mlp(\n",
              "              (fc1): Linear(in_features=768, out_features=3072, bias=True)\n",
              "              (act): GELU()\n",
              "              (drop1): Dropout(p=0.0, inplace=False)\n",
              "              (fc2): Linear(in_features=3072, out_features=768, bias=True)\n",
              "              (drop2): Dropout(p=0.0, inplace=False)\n",
              "            )\n",
              "            (drop_path): Identity()\n",
              "          )\n",
              "          (1): ConvNeXtBlock(\n",
              "            (conv_dw): Conv2d(768, 768, kernel_size=(7, 7), stride=(1, 1), padding=(3, 3), groups=768)\n",
              "            (norm): LayerNorm((768,), eps=1e-06, elementwise_affine=True)\n",
              "            (mlp): Mlp(\n",
              "              (fc1): Linear(in_features=768, out_features=3072, bias=True)\n",
              "              (act): GELU()\n",
              "              (drop1): Dropout(p=0.0, inplace=False)\n",
              "              (fc2): Linear(in_features=3072, out_features=768, bias=True)\n",
              "              (drop2): Dropout(p=0.0, inplace=False)\n",
              "            )\n",
              "            (drop_path): Identity()\n",
              "          )\n",
              "          (2): ConvNeXtBlock(\n",
              "            (conv_dw): Conv2d(768, 768, kernel_size=(7, 7), stride=(1, 1), padding=(3, 3), groups=768)\n",
              "            (norm): LayerNorm((768,), eps=1e-06, elementwise_affine=True)\n",
              "            (mlp): Mlp(\n",
              "              (fc1): Linear(in_features=768, out_features=3072, bias=True)\n",
              "              (act): GELU()\n",
              "              (drop1): Dropout(p=0.0, inplace=False)\n",
              "              (fc2): Linear(in_features=3072, out_features=768, bias=True)\n",
              "              (drop2): Dropout(p=0.0, inplace=False)\n",
              "            )\n",
              "            (drop_path): Identity()\n",
              "          )\n",
              "        )\n",
              "      )\n",
              "    )\n",
              "    (norm_pre): Identity()\n",
              "    (head): Sequential(\n",
              "      (global_pool): SelectAdaptivePool2d (pool_type=avg, flatten=Identity())\n",
              "      (norm): LayerNorm2d((768,), eps=1e-06, elementwise_affine=True)\n",
              "      (flatten): Flatten(start_dim=1, end_dim=-1)\n",
              "      (drop): Dropout(p=0.0, inplace=False)\n",
              "      (fc): Identity()\n",
              "    )\n",
              "  )\n",
              "  (fc): Linear(in_features=768, out_features=25, bias=True)\n",
              ")"
            ]
          },
          "metadata": {},
          "execution_count": 32
        }
      ],
      "source": [
        "class ConvnextS(nn.Module):\n",
        "    def __init__(self, backbone, embedder, pretrained=True):\n",
        "        super(ConvnextS, self).__init__()\n",
        "        self.backbone = timm.create_model(backbone, pretrained=pretrained)\n",
        "        self.backbone.reset_classifier(0)\n",
        "        self.n_features = self.backbone.num_features\n",
        "        self.fc = nn.Linear(self.n_features, CONFIG['num_classes'])\n",
        "\n",
        "    def forward(self, images):\n",
        "        # features = (bs, embedding_size)\n",
        "        features = self.backbone(images)\n",
        "        # outputs  = (bs, num_classes)\n",
        "        # if isinstance(features, tuple):\n",
        "        #   features = features[0]\n",
        "        output = self.fc(features)\n",
        "        return output\n",
        "\n",
        "\n",
        "convnextS224 = ConvnextS('convnext_small', None, pretrained=False)\n",
        "convnextS224.to(CONFIG['device'])\n"
      ]
    },
    {
      "cell_type": "code",
      "execution_count": 33,
      "metadata": {
        "colab": {
          "base_uri": "https://localhost:8080/"
        },
        "id": "wWcAI_L5MuzY",
        "outputId": "2f4fe843-f2f3-48e6-9235-310f13015891"
      },
      "outputs": [
        {
          "output_type": "execute_result",
          "data": {
            "text/plain": [
              "<All keys matched successfully>"
            ]
          },
          "metadata": {},
          "execution_count": 33
        }
      ],
      "source": [
        "MODEL_NAME = 'epoch73_Loss0.0001.bin'\n",
        "RUN_PATH = 'jiwon7258/lg/3v4h59j7'\n",
        "wandb.restore(MODEL_NAME, RUN_PATH, root='./')\n",
        "convnextS224.load_state_dict(torch.load(\n",
        "    MODEL_NAME, map_location=CONFIG['device']))\n"
      ]
    },
    {
      "cell_type": "code",
      "execution_count": 34,
      "metadata": {
        "id": "7KAeBA4trKR7"
      },
      "outputs": [],
      "source": [
        "models = {\n",
        "    224 : [],\n",
        "    384 : [],\n",
        "    512 : [],\n",
        "}\n",
        "models[224].append(coatmini224)\n",
        "models[224].append(convnextS224)\n",
        "models[224].append(swinS224)\n",
        "models[224].append(cait224)\n",
        "models[224].append(beit224)\n",
        "models[384].append(effnet)\n",
        "models[384].append(swin)\n",
        "models[384].append(deit)\n",
        "models[512].append(b4ns512)"
      ]
    },
    {
      "cell_type": "code",
      "execution_count": 35,
      "metadata": {
        "id": "PsIBf2G4rKR8"
      },
      "outputs": [],
      "source": [
        "# # TTA\n",
        "# img_code_list = []\n",
        "# outputs = []\n",
        "# with torch.no_grad():\n",
        "#     model.eval()\n",
        "\n",
        "#     bar = tqdm(enumerate(testDataloader), total=len(testDataloader))\n",
        "\n",
        "#     for step, (imgs, img_codes) in bar:\n",
        "#         # imgs : (bs, N, C, H, W), torch.Tensor\n",
        "#         # img_codes (bs, N), list(str)\n",
        "#         imgs = imgs.to(CONFIG['device'])\n",
        "#         imgs = rearrange(imgs, 'bs N C H W -> (bs N) C H W')\n",
        "#         logits = model(imgs)\n",
        "#         # logits : ( (bs * N), num_classes)\n",
        "#         logits = logits.detach().cpu()\n",
        "#         logits = rearrange(\n",
        "#             logits, '(bs N) num_classes -> bs N num_classes', bs=CONFIG['valid_batch_size'])\n",
        "#         output = np.argmax(torch.softmax(logits, dim=-1), axis=-1)\n",
        "#         output = np.array(output)\n",
        "#         # (bs, N)\n",
        "#         output = stats.mode(output, axis=1)[0].reshape(-1)\n",
        "#         # (bs)\n",
        "#         output = [class_dict[i] for i in output]\n",
        "\n",
        "#         print(img_codes)\n",
        "#         print(output)\n",
        "\n",
        "#         img_code_list.extend(img_codes)\n",
        "#         outputs.extend(output)\n"
      ]
    },
    {
      "cell_type": "markdown",
      "metadata": {
        "id": "kQxfwOQiMuzZ"
      },
      "source": [
        "# Inference"
      ]
    },
    {
      "cell_type": "code",
      "execution_count": null,
      "metadata": {
        "colab": {
          "base_uri": "https://localhost:8080/"
        },
        "execution": {
          "iopub.execute_input": "2022-01-15T13:12:26.298661Z",
          "iopub.status.busy": "2022-01-15T13:12:26.298450Z",
          "iopub.status.idle": "2022-01-15T13:12:52.540238Z",
          "shell.execute_reply": "2022-01-15T13:12:52.539260Z",
          "shell.execute_reply.started": "2022-01-15T13:12:26.298635Z"
        },
        "id": "HL-JTnnLrKR8",
        "outputId": "8705c731-114c-41a5-9366-6b69928409f9",
        "trusted": true
      },
      "outputs": [
        {
          "output_type": "stream",
          "name": "stderr",
          "text": [
            "\r  0%|          | 0/3245 [00:00<?, ?it/s]"
          ]
        }
      ],
      "source": [
        "# no TTA\n",
        "with torch.no_grad():\n",
        "\n",
        "    for model_list in models.values():\n",
        "        for model in model_list :\n",
        "            model.eval()\n",
        "\n",
        "    img_code_list = []\n",
        "    outputs = []\n",
        "        \n",
        "    bar = tqdm(enumerate(testDataloader), total=len(testDataloader))\n",
        "\n",
        "    for step, (img_list, img_code) in bar:\n",
        "        # img : list of (bs, C, H, W)\n",
        "        # img_code : (bs)\n",
        "        \n",
        "        probs_list = []\n",
        "        # list of (bs, num_classes)\n",
        "\n",
        "        for i, model_list in enumerate(models.values()):\n",
        "            img= img_list[i]\n",
        "            img = img.to(device)\n",
        "            batch_size = img.shape[0]\n",
        "        \n",
        "            for model in model_list:\n",
        "                logits = model(img)\n",
        "                logits = logits.cpu()\n",
        "                # (bs, num_classes)\n",
        "                # 모델들마다 logit들의 값의 크기가 다를 수 있으므로, softmax를 이용해 정규화하는 작업이 필요하다\n",
        "                prob = torch.softmax(logits, dim = -1)\n",
        "                # (bs, num_classes)\n",
        "                probs_list.append(prob)\n",
        "            \n",
        "        probs_list = torch.stack(probs_list)\n",
        "        # (num_model, bs, num_clases)\n",
        "        probs = torch.sum(probs_list, dim = 0)\n",
        "        # (bs, num_classes)\n",
        "\n",
        "        output = np.argmax(torch.softmax(probs, dim=-1), axis=-1) # torch.Tensor, (bs,)\n",
        "        output = np.array(output)\n",
        "        output = [class_dict[i] for i in output]\n",
        "\n",
        "        img_code_list.extend(img_code)\n",
        "        outputs.extend(output)\n",
        "\n",
        "        assert len(img_code_list) == len(outputs)\n",
        "\n",
        "\n"
      ]
    },
    {
      "cell_type": "code",
      "execution_count": null,
      "metadata": {
        "execution": {
          "iopub.status.busy": "2022-01-15T13:12:52.541065Z",
          "iopub.status.idle": "2022-01-15T13:12:52.542062Z",
          "shell.execute_reply": "2022-01-15T13:12:52.541760Z",
          "shell.execute_reply.started": "2022-01-15T13:12:52.541726Z"
        },
        "id": "wRvZmcZ2rKR8",
        "trusted": true
      },
      "outputs": [],
      "source": [
        "result = pd.DataFrame()\n",
        "result['image'] = img_code_list\n",
        "result['label'] = outputs\n",
        "SUBMIT_FILE_NAME = 'submit_effnetv2m_swin_deit_b4ns512_coatmini224_beit224in22k_cait224_swinS224_convnextS224.csv'\n",
        "result.to_csv(SUBMIT_FILE_NAME,index= False, index_label=False)"
      ]
    },
    {
      "cell_type": "code",
      "execution_count": null,
      "metadata": {
        "id": "JoeOAnxBrKR8"
      },
      "outputs": [],
      "source": [
        "wandb.save(SUBMIT_FILE_NAME)\n"
      ]
    }
  ],
  "metadata": {
    "accelerator": "GPU",
    "colab": {
      "collapsed_sections": [],
      "name": "lg_inf_Ensemble3.ipynb",
      "provenance": [],
      "toc_visible": true
    },
    "kernelspec": {
      "display_name": "Python 3",
      "language": "python",
      "name": "python3"
    },
    "language_info": {
      "codemirror_mode": {
        "name": "ipython",
        "version": 3
      },
      "file_extension": ".py",
      "mimetype": "text/x-python",
      "name": "python",
      "nbconvert_exporter": "python",
      "pygments_lexer": "ipython3",
      "version": "3.9.7"
    }
  },
  "nbformat": 4,
  "nbformat_minor": 0
}