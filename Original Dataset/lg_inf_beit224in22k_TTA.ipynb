{
  "cells": [
    {
      "cell_type": "code",
      "execution_count": null,
      "metadata": {
        "execution": {
          "iopub.execute_input": "2022-01-15T12:46:47.007667Z",
          "iopub.status.busy": "2022-01-15T12:46:47.007157Z",
          "iopub.status.idle": "2022-01-15T12:47:02.666730Z",
          "shell.execute_reply": "2022-01-15T12:47:02.665532Z",
          "shell.execute_reply.started": "2022-01-15T12:46:47.007577Z"
        },
        "id": "0SZrePiJwgZH",
        "trusted": true,
        "colab": {
          "base_uri": "https://localhost:8080/"
        },
        "outputId": "20c2f189-fcd1-4a81-ac6d-7424d310640d"
      },
      "outputs": [
        {
          "output_type": "stream",
          "name": "stdout",
          "text": [
            "\u001b[K     |████████████████████████████████| 1.7 MB 5.2 MB/s \n",
            "\u001b[K     |████████████████████████████████| 21.8 MB 1.5 MB/s \n",
            "\u001b[K     |████████████████████████████████| 102 kB 49.8 MB/s \n",
            "\u001b[K     |████████████████████████████████| 431 kB 50.5 MB/s \n",
            "\u001b[K     |████████████████████████████████| 142 kB 45.7 MB/s \n",
            "\u001b[K     |████████████████████████████████| 180 kB 51.9 MB/s \n",
            "\u001b[K     |████████████████████████████████| 97 kB 7.0 MB/s \n",
            "\u001b[K     |████████████████████████████████| 63 kB 1.7 MB/s \n",
            "\u001b[?25h  Building wheel for subprocess32 (setup.py) ... \u001b[?25l\u001b[?25hdone\n",
            "  Building wheel for pathtools (setup.py) ... \u001b[?25l\u001b[?25hdone\n"
          ]
        }
      ],
      "source": [
        "! pip install wandb opencv-python-headless==4.1.2.30 albumentations torch-summary timm==0.5.4 einops joblib icecream  -qq -U"
      ]
    },
    {
      "cell_type": "code",
      "execution_count": null,
      "metadata": {
        "execution": {
          "iopub.execute_input": "2022-01-15T12:47:02.669199Z",
          "iopub.status.busy": "2022-01-15T12:47:02.668915Z",
          "iopub.status.idle": "2022-01-15T12:47:07.445802Z",
          "shell.execute_reply": "2022-01-15T12:47:07.444763Z",
          "shell.execute_reply.started": "2022-01-15T12:47:02.669163Z"
        },
        "id": "dJYP3XQtwgZN",
        "trusted": true
      },
      "outputs": [],
      "source": [
        "import warnings\n",
        "from glob import glob\n",
        "import pathlib\n",
        "from pathlib import Path\n",
        "from torchsummary import summary\n",
        "import torch\n",
        "import torch.nn as nn\n",
        "import torch.nn.functional as F\n",
        "from torch.utils.data import Dataset, DataLoader\n",
        "import pandas as pd\n",
        "from pprint import pprint\n",
        "import urllib.request\n",
        "import csv\n",
        "import numpy as np\n",
        "from einops import rearrange, reduce, repeat\n",
        "from torch.cuda import amp\n",
        "from tqdm import tqdm\n",
        "import wandb\n",
        "import time\n",
        "import copy\n",
        "from collections import defaultdict\n",
        "from sklearn.metrics import mean_squared_error\n",
        "import joblib\n",
        "import gc\n",
        "import os\n",
        "from icecream import ic\n",
        "from sklearn.model_selection import train_test_split\n",
        "import gc\n",
        "import cv2\n",
        "import copy\n",
        "import time\n",
        "import random\n",
        "from PIL import Image\n",
        "\n",
        "# For data manipulation\n",
        "import numpy as np\n",
        "import pandas as pd\n",
        "from einops import rearrange, repeat\n",
        "from scipy import stats\n",
        "\n",
        "# Pytorch Imports\n",
        "import torch\n",
        "import torch.nn as nn\n",
        "import torch.optim as optim\n",
        "from torch.optim import lr_scheduler\n",
        "from torch.utils.data import Dataset, DataLoader\n",
        "from torch.cuda import amp\n",
        "\n",
        "# Utils\n",
        "import joblib\n",
        "from tqdm import tqdm\n",
        "from collections import defaultdict\n",
        "import matplotlib.pyplot as plt\n",
        "\n",
        "# Sklearn Imports\n",
        "from sklearn.metrics import mean_squared_error\n",
        "from sklearn.model_selection import StratifiedKFold, KFold\n",
        "\n",
        "import timm\n",
        "\n",
        "import json\n",
        "\n",
        "# Albumentations for augmentations\n",
        "import albumentations as A\n",
        "from albumentations.pytorch import ToTensorV2\n",
        "\n",
        "# For colored terminal text\n",
        "from colorama import Fore, Back, Style\n",
        "c_ = Fore.CYAN\n",
        "sr_ = Style.RESET_ALL\n",
        "\n",
        "warnings.filterwarnings(\"ignore\")\n",
        "\n",
        "# For descriptive error messages\n",
        "os.environ['CUDA_LAUNCH_BLOCKING'] = \"1\"\n"
      ]
    },
    {
      "cell_type": "code",
      "execution_count": null,
      "metadata": {
        "execution": {
          "iopub.execute_input": "2022-01-15T12:47:07.447472Z",
          "iopub.status.busy": "2022-01-15T12:47:07.447211Z",
          "iopub.status.idle": "2022-01-15T12:47:07.457019Z",
          "shell.execute_reply": "2022-01-15T12:47:07.455591Z",
          "shell.execute_reply.started": "2022-01-15T12:47:07.447437Z"
        },
        "id": "SvKMLBHywgZP",
        "trusted": true
      },
      "outputs": [],
      "source": [
        "\n",
        "# ENV = 'COLAB'\n",
        "ENV = 'KAGGLE'\n",
        "# ENV = 'SYSTEM'\n",
        "\n",
        "# Option for Mixed Precision\n",
        "# FP16 = True\n",
        "FP16 = False\n",
        "\n",
        "\n",
        "CONFIG = dict(\n",
        "    nickname='BEiT 224 in22k',\n",
        "    seed=42,\n",
        "    backbone='beit_base_patch16_224_in22k',\n",
        "    embedder=None,\n",
        "    train_batch_size=8,\n",
        "    valid_batch_size=16,\n",
        "    img_size=224,\n",
        "    num_epochs=50,\n",
        "    early_stopping=False,\n",
        "    early_stopping_step=5,\n",
        "    learning_rate=1e-4,\n",
        "    scheduler='CosineAnnealingLR',\n",
        "    min_lr=1e-6,\n",
        "    T_max=100,\n",
        "    num_classes=25,\n",
        "    weight_decay=1e-6,\n",
        "    device=torch.device(\"cuda:0\" if torch.cuda.is_available() else \"cpu\"),\n",
        "    competition='lg',\n",
        "    _wandb_kernel='deb'\n",
        ")\n",
        "\n",
        "\n",
        "device = torch.device(\"cuda\" if torch.cuda.is_available() else \"cpu\")\n"
      ]
    },
    {
      "cell_type": "code",
      "execution_count": null,
      "metadata": {
        "execution": {
          "iopub.execute_input": "2022-01-15T12:47:07.459867Z",
          "iopub.status.busy": "2022-01-15T12:47:07.458923Z",
          "iopub.status.idle": "2022-01-15T12:47:07.475078Z",
          "shell.execute_reply": "2022-01-15T12:47:07.474266Z",
          "shell.execute_reply.started": "2022-01-15T12:47:07.459827Z"
        },
        "id": "UalTZYYowgZQ",
        "trusted": true
      },
      "outputs": [],
      "source": [
        "def set_seed(seed=42):\n",
        "    '''Sets the seed of the entire notebook so results are the same every time we run.\n",
        "    This is for REPRODUCIBILITY.'''\n",
        "    np.random.seed(seed)\n",
        "    random.seed(seed)\n",
        "    torch.manual_seed(seed)\n",
        "    torch.cuda.manual_seed(seed)\n",
        "    # When running on the CuDNN backend, two further options must be set\n",
        "    torch.backends.cudnn.deterministic = True\n",
        "    torch.backends.cudnn.benchmark = False\n",
        "    # Set a fixed value for the hash seed\n",
        "    os.environ['PYTHONHASHSEED'] = str(seed)\n",
        "\n",
        "\n",
        "set_seed(CONFIG['seed'])\n"
      ]
    },
    {
      "cell_type": "code",
      "execution_count": null,
      "metadata": {
        "colab": {
          "base_uri": "https://localhost:8080/",
          "height": 196,
          "referenced_widgets": [
            "eab71c4f8c1942998d0c61fd80650b01",
            "e9b1717882314e6a9f0c502a2a48f3d7",
            "45d4677bccd94f629f792fd775158ca3",
            "2f0b70453dd24e1a84e087be23e3f90f",
            "ec27a041e9754ec38102db1a3e3e252e",
            "36100a90c12d41049a7bb28f7c798611",
            "53a4bb6fc5a44ec2912c93702f98a4a3",
            "42c7cbbdcf7a4597aaba06b15c33344b"
          ]
        },
        "execution": {
          "iopub.execute_input": "2022-01-15T12:47:44.198246Z",
          "iopub.status.busy": "2022-01-15T12:47:44.197954Z",
          "iopub.status.idle": "2022-01-15T13:02:57.916054Z",
          "shell.execute_reply": "2022-01-15T13:02:57.913033Z",
          "shell.execute_reply.started": "2022-01-15T12:47:44.198217Z"
        },
        "id": "7ijQFDYwwgZR",
        "outputId": "91b98c14-c61f-445f-8b6d-0b2847ad5623",
        "trusted": true
      },
      "outputs": [
        {
          "output_type": "display_data",
          "data": {
            "text/html": [
              "Finishing last run (ID:2qihtjog) before initializing another..."
            ],
            "text/plain": [
              "<IPython.core.display.HTML object>"
            ]
          },
          "metadata": {}
        },
        {
          "output_type": "display_data",
          "data": {
            "text/html": [
              "<br/>Waiting for W&B process to finish, PID 153... <strong style=\"color:green\">(success).</strong>"
            ],
            "text/plain": [
              "<IPython.core.display.HTML object>"
            ]
          },
          "metadata": {}
        },
        {
          "output_type": "display_data",
          "data": {
            "application/vnd.jupyter.widget-view+json": {
              "model_id": "eab71c4f8c1942998d0c61fd80650b01",
              "version_minor": 0,
              "version_major": 2
            },
            "text/plain": [
              "VBox(children=(Label(value=' 0.38MB of 0.38MB uploaded (0.00MB deduped)\\r'), FloatProgress(value=1.0, max=1.0)…"
            ]
          },
          "metadata": {}
        },
        {
          "output_type": "display_data",
          "data": {
            "text/html": [
              "<style>\n",
              "    table.wandb td:nth-child(1) { padding: 0 10px; text-align: right }\n",
              "    .wandb-row { display: flex; flex-direction: row; flex-wrap: wrap; width: 100% }\n",
              "    .wandb-col { display: flex; flex-direction: column; flex-basis: 100%; flex: 1; padding: 10px; }\n",
              "    </style>\n",
              "<div class=\"wandb-row\"><div class=\"wandb-col\">\n",
              "</div><div class=\"wandb-col\">\n",
              "</div></div>\n",
              "Synced 5 W&B file(s), 0 media file(s), 12 artifact file(s) and 1 other file(s)\n",
              "<br/>Synced <strong style=\"color:#cdcd00\">sleek-eon-91</strong>: <a href=\"https://wandb.ai/jiwon7258/lg/runs/2qihtjog\" target=\"_blank\">https://wandb.ai/jiwon7258/lg/runs/2qihtjog</a><br/>\n",
              "Find logs at: <code>./wandb/run-20220123_111028-2qihtjog/logs</code><br/>\n"
            ],
            "text/plain": [
              "<IPython.core.display.HTML object>"
            ]
          },
          "metadata": {}
        },
        {
          "output_type": "display_data",
          "data": {
            "text/html": [
              "Successfully finished last run (ID:2qihtjog). Initializing new run:<br/>"
            ],
            "text/plain": [
              "<IPython.core.display.HTML object>"
            ]
          },
          "metadata": {}
        },
        {
          "output_type": "display_data",
          "data": {
            "text/html": [
              "\n",
              "                    Resuming run <strong><a href=\"https://wandb.ai/jiwon7258/lg/runs/2qihtjog\" target=\"_blank\">BEiT 224 in22k TTA</a></strong> to <a href=\"https://wandb.ai/jiwon7258/lg\" target=\"_blank\">Weights & Biases</a> (<a href=\"https://docs.wandb.com/integrations/jupyter.html\" target=\"_blank\">docs</a>).<br/>\n",
              "\n",
              "                "
            ],
            "text/plain": [
              "<IPython.core.display.HTML object>"
            ]
          },
          "metadata": {}
        },
        {
          "output_type": "stream",
          "name": "stderr",
          "text": [
            "\u001b[34m\u001b[1mwandb\u001b[0m: Downloading large artifact lg:v1, 9188.81MB. 121115 files... Done. 0:0:0\n"
          ]
        }
      ],
      "source": [
        "import wandb\n",
        "run = wandb.init(project=\"lg\",\n",
        "                 entity=\"jiwon7258\",\n",
        "                 config=CONFIG,\n",
        "                 job_type='inf',\n",
        "                 id = '2qihtjog',\n",
        "                 resume = 'must',\n",
        "                 )\n",
        "\n",
        "run.name = CONFIG['nickname']\n",
        "\n",
        "dataset = wandb.run.use_artifact(\n",
        "    'jiwon7258/lg/lg:v1', type='dataset')\n",
        "\n",
        "\n",
        "# Download the artifact's contents\n",
        "dataset_dir = dataset.download()\n",
        "dataset_dir = Path(dataset_dir)\n"
      ]
    },
    {
      "cell_type": "markdown",
      "metadata": {
        "id": "6IrGkD7fwgZT"
      },
      "source": [
        "# Augmentation"
      ]
    },
    {
      "cell_type": "code",
      "execution_count": null,
      "metadata": {
        "execution": {
          "iopub.execute_input": "2022-01-15T13:02:57.925334Z",
          "iopub.status.busy": "2022-01-15T13:02:57.922597Z",
          "iopub.status.idle": "2022-01-15T13:02:57.942778Z",
          "shell.execute_reply": "2022-01-15T13:02:57.941700Z",
          "shell.execute_reply.started": "2022-01-15T13:02:57.925266Z"
        },
        "id": "8LLzIcj-wgZV",
        "trusted": true
      },
      "outputs": [],
      "source": [
        "data_transforms = {\n",
        "    \"train\": A.Compose([\n",
        "        A.Resize(CONFIG['img_size'], CONFIG['img_size']),\n",
        "        A.ShiftScaleRotate(shift_limit=0.05, scale_limit=0.05,\n",
        "                           rotate_limit=15, p=0.5),\n",
        "        A.RGBShift(r_shift_limit=15, g_shift_limit=15,\n",
        "                   b_shift_limit=15, p=0.5),\n",
        "        A.RandomBrightnessContrast(p=0.5),\n",
        "        A.HorizontalFlip(p=0.5),\n",
        "        A.VerticalFlip(p=0.5),\n",
        "        A.Normalize(),\n",
        "        ToTensorV2(),\n",
        "        ], p=1.),\n",
        "\n",
        "    \"valid\": A.Compose([\n",
        "        A.Resize(CONFIG['img_size'], CONFIG['img_size']),\n",
        "        A.Normalize(),\n",
        "        ToTensorV2()], p=1.),\n",
        "\n",
        "}\n",
        "\n",
        "data_transforms_test = {\n",
        "    \"valid\": A.Compose([\n",
        "        A.Resize(CONFIG['img_size'], CONFIG['img_size']),\n",
        "        A.Normalize(),\n",
        "        ToTensorV2()], p=1.),\n",
        "\n",
        "    \"test1\": A.Compose([\n",
        "        A.VerticalFlip(p=1),\n",
        "        A.Resize(CONFIG['img_size'], CONFIG['img_size']),\n",
        "        A.Normalize(),\n",
        "        ToTensorV2()], p=1.),\n",
        "\n",
        "    \"test2\": A.Compose([\n",
        "        A.HorizontalFlip(p=1),\n",
        "        A.Resize(CONFIG['img_size'], CONFIG['img_size']),\n",
        "        A.Normalize(),\n",
        "        ToTensorV2()], p=1.),\n",
        "\n",
        "    \"test3\": A.Compose([\n",
        "        A.HorizontalFlip(p=1),\n",
        "        A.VerticalFlip(p=1),\n",
        "        A.Resize(CONFIG['img_size'], CONFIG['img_size']),\n",
        "        A.Normalize(),\n",
        "        ToTensorV2()], p=1.),\n",
        "\n",
        "}\n"
      ]
    },
    {
      "cell_type": "markdown",
      "metadata": {
        "id": "edBJjnzEwgZY"
      },
      "source": [
        "# Dataset Dataloader"
      ]
    },
    {
      "cell_type": "code",
      "execution_count": null,
      "metadata": {
        "execution": {
          "iopub.execute_input": "2022-01-15T13:02:57.944980Z",
          "iopub.status.busy": "2022-01-15T13:02:57.944646Z",
          "iopub.status.idle": "2022-01-15T13:02:57.955419Z",
          "shell.execute_reply": "2022-01-15T13:02:57.954212Z",
          "shell.execute_reply.started": "2022-01-15T13:02:57.944931Z"
        },
        "id": "lGX-xi2twgZY",
        "trusted": true
      },
      "outputs": [],
      "source": [
        "TEST_PATH =  dataset_dir / 'test'"
      ]
    },
    {
      "cell_type": "code",
      "execution_count": null,
      "metadata": {
        "execution": {
          "iopub.execute_input": "2022-01-15T13:02:57.958800Z",
          "iopub.status.busy": "2022-01-15T13:02:57.958261Z",
          "iopub.status.idle": "2022-01-15T13:03:01.431853Z",
          "shell.execute_reply": "2022-01-15T13:03:01.431262Z",
          "shell.execute_reply.started": "2022-01-15T13:02:57.958753Z"
        },
        "id": "kybc5IG4wgZZ",
        "trusted": true
      },
      "outputs": [],
      "source": [
        "test_csv = sorted(glob(str(TEST_PATH / '*/*.csv')))\n",
        "test_jpg = sorted(glob(str(TEST_PATH / '*/*.jpg')))"
      ]
    },
    {
      "cell_type": "code",
      "execution_count": null,
      "metadata": {
        "execution": {
          "iopub.execute_input": "2022-01-15T13:06:38.257482Z",
          "iopub.status.busy": "2022-01-15T13:06:38.257175Z",
          "iopub.status.idle": "2022-01-15T13:06:38.267537Z",
          "shell.execute_reply": "2022-01-15T13:06:38.266470Z",
          "shell.execute_reply.started": "2022-01-15T13:06:38.257447Z"
        },
        "id": "OXK5c6WPwgZa",
        "trusted": true
      },
      "outputs": [],
      "source": [
        "class TestDataset(Dataset):\n",
        "    def __init__ (self, N, test_imgs, transforms = None):\n",
        "        self.N = N\n",
        "        self.test_imgs = test_imgs\n",
        "        self.transforms = transforms\n",
        "\n",
        "\n",
        "    def __len__ (self):\n",
        "        return len(self.test_imgs)\n",
        "\n",
        "    def __getitem__(self, index):\n",
        "        img_path = self.test_imgs[index]\n",
        "        img_code = (Path(img_path)).parent.stem\n",
        "        img = cv2.imread(img_path)\n",
        "        img = cv2.cvtColor(img, cv2.COLOR_BGR2RGB)\n",
        "\n",
        "        imgs = []\n",
        "        for transform in self.transforms.values():\n",
        "          imgs.append(transform(image=img)['image'])\n",
        "\n",
        "        imgs = np.concatenate(imgs, axis = 0)\n",
        "        imgs = rearrange(imgs, '(new1 c) h w -> new1 c h w', new1=self.N)\n",
        "\n",
        "        return imgs, img_code\n",
        "\n",
        "testDataset = TestDataset(4, test_jpg, transforms = data_transforms_test)\n",
        "testDataloader = DataLoader(\n",
        "    testDataset, batch_size=CONFIG['valid_batch_size'], shuffle=False)\n"
      ]
    },
    {
      "cell_type": "code",
      "execution_count": null,
      "metadata": {
        "id": "4ebyqQRgkWLt"
      },
      "outputs": [],
      "source": [
        "# # no TTA\n",
        "# class TestDataset(Dataset):\n",
        "#     def __init__(self, N, test_imgs, transforms=None):\n",
        "#         self.N = N\n",
        "#         self.test_imgs = test_imgs\n",
        "#         self.transforms = transforms\n",
        "\n",
        "#     def __len__(self):\n",
        "#         return len(self.test_imgs)\n",
        "\n",
        "#     def __getitem__(self, index):\n",
        "#         img_path = self.test_imgs[index]\n",
        "#         img_code = (Path(img_path)).parent.stem\n",
        "#         img = cv2.imread(img_path)\n",
        "#         img = cv2.cvtColor(img, cv2.COLOR_BGR2RGB)\n",
        "#         img = self.transforms(image=img)['image']\n",
        "\n",
        "#         return img, img_code\n",
        "\n",
        "\n",
        "# testDataset = TestDataset(0, test_jpg, transforms=data_transforms['valid'])\n",
        "# testDataloader = DataLoader(\n",
        "#     testDataset, batch_size=CONFIG['valid_batch_size'], shuffle=False)\n"
      ]
    },
    {
      "cell_type": "code",
      "execution_count": null,
      "metadata": {
        "execution": {
          "iopub.execute_input": "2022-01-15T13:07:04.778647Z",
          "iopub.status.busy": "2022-01-15T13:07:04.778336Z",
          "iopub.status.idle": "2022-01-15T13:07:04.800418Z",
          "shell.execute_reply": "2022-01-15T13:07:04.799737Z",
          "shell.execute_reply.started": "2022-01-15T13:07:04.778613Z"
        },
        "id": "ZyFNJcSqwgZa",
        "trusted": true
      },
      "outputs": [],
      "source": [
        "# for imgs, img_code in testDataset :\n",
        "#     fig, axes = plt.subplots(1,8, figsize = (40,20))\n",
        "#     for i in range(8):\n",
        "#         img = imgs[i, :, :, :]\n",
        "#         axes[i].imshow(img.reshape(384,384,3))\n",
        "#     break"
      ]
    },
    {
      "cell_type": "code",
      "execution_count": null,
      "metadata": {
        "id": "7-nqH0BXwgZb"
      },
      "outputs": [],
      "source": [
        "# for img, img_code in testDataloader:\n",
        "#     print(type(img))\n",
        "#     print(img.shape)\n",
        "#     print(img_code)\n",
        "#     print(type(img_code))\n",
        "#     break\n"
      ]
    },
    {
      "cell_type": "markdown",
      "metadata": {
        "id": "_0--IgLMwgZc"
      },
      "source": [
        "# Key Value Dict"
      ]
    },
    {
      "cell_type": "code",
      "execution_count": null,
      "metadata": {
        "execution": {
          "iopub.execute_input": "2022-01-15T13:07:08.956085Z",
          "iopub.status.busy": "2022-01-15T13:07:08.955767Z",
          "iopub.status.idle": "2022-01-15T13:07:09.858750Z",
          "shell.execute_reply": "2022-01-15T13:07:09.857847Z",
          "shell.execute_reply.started": "2022-01-15T13:07:08.956047Z"
        },
        "id": "rF4vyI0RwgZc",
        "trusted": true
      },
      "outputs": [],
      "source": [
        "wandb.restore('class_dict', run_path='jiwon7258/lg/1lkvc6n0', root='./')\n",
        "class_dict = joblib.load('class_dict')"
      ]
    },
    {
      "cell_type": "markdown",
      "metadata": {
        "id": "F0BkrrYjwgZd"
      },
      "source": [
        "# Model"
      ]
    },
    {
      "cell_type": "code",
      "execution_count": null,
      "metadata": {
        "colab": {
          "base_uri": "https://localhost:8080/"
        },
        "execution": {
          "iopub.execute_input": "2022-01-15T13:12:22.229683Z",
          "iopub.status.busy": "2022-01-15T13:12:22.228637Z",
          "iopub.status.idle": "2022-01-15T13:12:24.139623Z",
          "shell.execute_reply": "2022-01-15T13:12:24.138999Z",
          "shell.execute_reply.started": "2022-01-15T13:12:22.229634Z"
        },
        "id": "awKMcDUpwgZd",
        "outputId": "8ccadf29-b551-4a55-f235-2b95eadbbe3a",
        "trusted": true
      },
      "outputs": [
        {
          "output_type": "execute_result",
          "data": {
            "text/plain": [
              "Model(\n",
              "  (backbone): Beit(\n",
              "    (patch_embed): PatchEmbed(\n",
              "      (proj): Conv2d(3, 768, kernel_size=(16, 16), stride=(16, 16))\n",
              "      (norm): Identity()\n",
              "    )\n",
              "    (pos_drop): Dropout(p=0.0, inplace=False)\n",
              "    (blocks): ModuleList(\n",
              "      (0): Block(\n",
              "        (norm1): LayerNorm((768,), eps=1e-06, elementwise_affine=True)\n",
              "        (attn): Attention(\n",
              "          (qkv): Linear(in_features=768, out_features=2304, bias=False)\n",
              "          (attn_drop): Dropout(p=0.0, inplace=False)\n",
              "          (proj): Linear(in_features=768, out_features=768, bias=True)\n",
              "          (proj_drop): Dropout(p=0.0, inplace=False)\n",
              "        )\n",
              "        (drop_path): Identity()\n",
              "        (norm2): LayerNorm((768,), eps=1e-06, elementwise_affine=True)\n",
              "        (mlp): Mlp(\n",
              "          (fc1): Linear(in_features=768, out_features=3072, bias=True)\n",
              "          (act): GELU()\n",
              "          (drop1): Dropout(p=0.0, inplace=False)\n",
              "          (fc2): Linear(in_features=3072, out_features=768, bias=True)\n",
              "          (drop2): Dropout(p=0.0, inplace=False)\n",
              "        )\n",
              "      )\n",
              "      (1): Block(\n",
              "        (norm1): LayerNorm((768,), eps=1e-06, elementwise_affine=True)\n",
              "        (attn): Attention(\n",
              "          (qkv): Linear(in_features=768, out_features=2304, bias=False)\n",
              "          (attn_drop): Dropout(p=0.0, inplace=False)\n",
              "          (proj): Linear(in_features=768, out_features=768, bias=True)\n",
              "          (proj_drop): Dropout(p=0.0, inplace=False)\n",
              "        )\n",
              "        (drop_path): Identity()\n",
              "        (norm2): LayerNorm((768,), eps=1e-06, elementwise_affine=True)\n",
              "        (mlp): Mlp(\n",
              "          (fc1): Linear(in_features=768, out_features=3072, bias=True)\n",
              "          (act): GELU()\n",
              "          (drop1): Dropout(p=0.0, inplace=False)\n",
              "          (fc2): Linear(in_features=3072, out_features=768, bias=True)\n",
              "          (drop2): Dropout(p=0.0, inplace=False)\n",
              "        )\n",
              "      )\n",
              "      (2): Block(\n",
              "        (norm1): LayerNorm((768,), eps=1e-06, elementwise_affine=True)\n",
              "        (attn): Attention(\n",
              "          (qkv): Linear(in_features=768, out_features=2304, bias=False)\n",
              "          (attn_drop): Dropout(p=0.0, inplace=False)\n",
              "          (proj): Linear(in_features=768, out_features=768, bias=True)\n",
              "          (proj_drop): Dropout(p=0.0, inplace=False)\n",
              "        )\n",
              "        (drop_path): Identity()\n",
              "        (norm2): LayerNorm((768,), eps=1e-06, elementwise_affine=True)\n",
              "        (mlp): Mlp(\n",
              "          (fc1): Linear(in_features=768, out_features=3072, bias=True)\n",
              "          (act): GELU()\n",
              "          (drop1): Dropout(p=0.0, inplace=False)\n",
              "          (fc2): Linear(in_features=3072, out_features=768, bias=True)\n",
              "          (drop2): Dropout(p=0.0, inplace=False)\n",
              "        )\n",
              "      )\n",
              "      (3): Block(\n",
              "        (norm1): LayerNorm((768,), eps=1e-06, elementwise_affine=True)\n",
              "        (attn): Attention(\n",
              "          (qkv): Linear(in_features=768, out_features=2304, bias=False)\n",
              "          (attn_drop): Dropout(p=0.0, inplace=False)\n",
              "          (proj): Linear(in_features=768, out_features=768, bias=True)\n",
              "          (proj_drop): Dropout(p=0.0, inplace=False)\n",
              "        )\n",
              "        (drop_path): Identity()\n",
              "        (norm2): LayerNorm((768,), eps=1e-06, elementwise_affine=True)\n",
              "        (mlp): Mlp(\n",
              "          (fc1): Linear(in_features=768, out_features=3072, bias=True)\n",
              "          (act): GELU()\n",
              "          (drop1): Dropout(p=0.0, inplace=False)\n",
              "          (fc2): Linear(in_features=3072, out_features=768, bias=True)\n",
              "          (drop2): Dropout(p=0.0, inplace=False)\n",
              "        )\n",
              "      )\n",
              "      (4): Block(\n",
              "        (norm1): LayerNorm((768,), eps=1e-06, elementwise_affine=True)\n",
              "        (attn): Attention(\n",
              "          (qkv): Linear(in_features=768, out_features=2304, bias=False)\n",
              "          (attn_drop): Dropout(p=0.0, inplace=False)\n",
              "          (proj): Linear(in_features=768, out_features=768, bias=True)\n",
              "          (proj_drop): Dropout(p=0.0, inplace=False)\n",
              "        )\n",
              "        (drop_path): Identity()\n",
              "        (norm2): LayerNorm((768,), eps=1e-06, elementwise_affine=True)\n",
              "        (mlp): Mlp(\n",
              "          (fc1): Linear(in_features=768, out_features=3072, bias=True)\n",
              "          (act): GELU()\n",
              "          (drop1): Dropout(p=0.0, inplace=False)\n",
              "          (fc2): Linear(in_features=3072, out_features=768, bias=True)\n",
              "          (drop2): Dropout(p=0.0, inplace=False)\n",
              "        )\n",
              "      )\n",
              "      (5): Block(\n",
              "        (norm1): LayerNorm((768,), eps=1e-06, elementwise_affine=True)\n",
              "        (attn): Attention(\n",
              "          (qkv): Linear(in_features=768, out_features=2304, bias=False)\n",
              "          (attn_drop): Dropout(p=0.0, inplace=False)\n",
              "          (proj): Linear(in_features=768, out_features=768, bias=True)\n",
              "          (proj_drop): Dropout(p=0.0, inplace=False)\n",
              "        )\n",
              "        (drop_path): Identity()\n",
              "        (norm2): LayerNorm((768,), eps=1e-06, elementwise_affine=True)\n",
              "        (mlp): Mlp(\n",
              "          (fc1): Linear(in_features=768, out_features=3072, bias=True)\n",
              "          (act): GELU()\n",
              "          (drop1): Dropout(p=0.0, inplace=False)\n",
              "          (fc2): Linear(in_features=3072, out_features=768, bias=True)\n",
              "          (drop2): Dropout(p=0.0, inplace=False)\n",
              "        )\n",
              "      )\n",
              "      (6): Block(\n",
              "        (norm1): LayerNorm((768,), eps=1e-06, elementwise_affine=True)\n",
              "        (attn): Attention(\n",
              "          (qkv): Linear(in_features=768, out_features=2304, bias=False)\n",
              "          (attn_drop): Dropout(p=0.0, inplace=False)\n",
              "          (proj): Linear(in_features=768, out_features=768, bias=True)\n",
              "          (proj_drop): Dropout(p=0.0, inplace=False)\n",
              "        )\n",
              "        (drop_path): Identity()\n",
              "        (norm2): LayerNorm((768,), eps=1e-06, elementwise_affine=True)\n",
              "        (mlp): Mlp(\n",
              "          (fc1): Linear(in_features=768, out_features=3072, bias=True)\n",
              "          (act): GELU()\n",
              "          (drop1): Dropout(p=0.0, inplace=False)\n",
              "          (fc2): Linear(in_features=3072, out_features=768, bias=True)\n",
              "          (drop2): Dropout(p=0.0, inplace=False)\n",
              "        )\n",
              "      )\n",
              "      (7): Block(\n",
              "        (norm1): LayerNorm((768,), eps=1e-06, elementwise_affine=True)\n",
              "        (attn): Attention(\n",
              "          (qkv): Linear(in_features=768, out_features=2304, bias=False)\n",
              "          (attn_drop): Dropout(p=0.0, inplace=False)\n",
              "          (proj): Linear(in_features=768, out_features=768, bias=True)\n",
              "          (proj_drop): Dropout(p=0.0, inplace=False)\n",
              "        )\n",
              "        (drop_path): Identity()\n",
              "        (norm2): LayerNorm((768,), eps=1e-06, elementwise_affine=True)\n",
              "        (mlp): Mlp(\n",
              "          (fc1): Linear(in_features=768, out_features=3072, bias=True)\n",
              "          (act): GELU()\n",
              "          (drop1): Dropout(p=0.0, inplace=False)\n",
              "          (fc2): Linear(in_features=3072, out_features=768, bias=True)\n",
              "          (drop2): Dropout(p=0.0, inplace=False)\n",
              "        )\n",
              "      )\n",
              "      (8): Block(\n",
              "        (norm1): LayerNorm((768,), eps=1e-06, elementwise_affine=True)\n",
              "        (attn): Attention(\n",
              "          (qkv): Linear(in_features=768, out_features=2304, bias=False)\n",
              "          (attn_drop): Dropout(p=0.0, inplace=False)\n",
              "          (proj): Linear(in_features=768, out_features=768, bias=True)\n",
              "          (proj_drop): Dropout(p=0.0, inplace=False)\n",
              "        )\n",
              "        (drop_path): Identity()\n",
              "        (norm2): LayerNorm((768,), eps=1e-06, elementwise_affine=True)\n",
              "        (mlp): Mlp(\n",
              "          (fc1): Linear(in_features=768, out_features=3072, bias=True)\n",
              "          (act): GELU()\n",
              "          (drop1): Dropout(p=0.0, inplace=False)\n",
              "          (fc2): Linear(in_features=3072, out_features=768, bias=True)\n",
              "          (drop2): Dropout(p=0.0, inplace=False)\n",
              "        )\n",
              "      )\n",
              "      (9): Block(\n",
              "        (norm1): LayerNorm((768,), eps=1e-06, elementwise_affine=True)\n",
              "        (attn): Attention(\n",
              "          (qkv): Linear(in_features=768, out_features=2304, bias=False)\n",
              "          (attn_drop): Dropout(p=0.0, inplace=False)\n",
              "          (proj): Linear(in_features=768, out_features=768, bias=True)\n",
              "          (proj_drop): Dropout(p=0.0, inplace=False)\n",
              "        )\n",
              "        (drop_path): Identity()\n",
              "        (norm2): LayerNorm((768,), eps=1e-06, elementwise_affine=True)\n",
              "        (mlp): Mlp(\n",
              "          (fc1): Linear(in_features=768, out_features=3072, bias=True)\n",
              "          (act): GELU()\n",
              "          (drop1): Dropout(p=0.0, inplace=False)\n",
              "          (fc2): Linear(in_features=3072, out_features=768, bias=True)\n",
              "          (drop2): Dropout(p=0.0, inplace=False)\n",
              "        )\n",
              "      )\n",
              "      (10): Block(\n",
              "        (norm1): LayerNorm((768,), eps=1e-06, elementwise_affine=True)\n",
              "        (attn): Attention(\n",
              "          (qkv): Linear(in_features=768, out_features=2304, bias=False)\n",
              "          (attn_drop): Dropout(p=0.0, inplace=False)\n",
              "          (proj): Linear(in_features=768, out_features=768, bias=True)\n",
              "          (proj_drop): Dropout(p=0.0, inplace=False)\n",
              "        )\n",
              "        (drop_path): Identity()\n",
              "        (norm2): LayerNorm((768,), eps=1e-06, elementwise_affine=True)\n",
              "        (mlp): Mlp(\n",
              "          (fc1): Linear(in_features=768, out_features=3072, bias=True)\n",
              "          (act): GELU()\n",
              "          (drop1): Dropout(p=0.0, inplace=False)\n",
              "          (fc2): Linear(in_features=3072, out_features=768, bias=True)\n",
              "          (drop2): Dropout(p=0.0, inplace=False)\n",
              "        )\n",
              "      )\n",
              "      (11): Block(\n",
              "        (norm1): LayerNorm((768,), eps=1e-06, elementwise_affine=True)\n",
              "        (attn): Attention(\n",
              "          (qkv): Linear(in_features=768, out_features=2304, bias=False)\n",
              "          (attn_drop): Dropout(p=0.0, inplace=False)\n",
              "          (proj): Linear(in_features=768, out_features=768, bias=True)\n",
              "          (proj_drop): Dropout(p=0.0, inplace=False)\n",
              "        )\n",
              "        (drop_path): Identity()\n",
              "        (norm2): LayerNorm((768,), eps=1e-06, elementwise_affine=True)\n",
              "        (mlp): Mlp(\n",
              "          (fc1): Linear(in_features=768, out_features=3072, bias=True)\n",
              "          (act): GELU()\n",
              "          (drop1): Dropout(p=0.0, inplace=False)\n",
              "          (fc2): Linear(in_features=3072, out_features=768, bias=True)\n",
              "          (drop2): Dropout(p=0.0, inplace=False)\n",
              "        )\n",
              "      )\n",
              "    )\n",
              "    (norm): Identity()\n",
              "    (fc_norm): LayerNorm((768,), eps=1e-06, elementwise_affine=True)\n",
              "    (head): Identity()\n",
              "  )\n",
              "  (fc): Linear(in_features=768, out_features=25, bias=True)\n",
              ")"
            ]
          },
          "metadata": {},
          "execution_count": 34
        }
      ],
      "source": [
        "class Model(nn.Module):\n",
        "    def __init__(self, backbone, embedder, pretrained=True):\n",
        "        super(Model, self).__init__()\n",
        "        self.backbone = timm.create_model(backbone, pretrained=pretrained)\n",
        "        self.backbone.reset_classifier(0)\n",
        "        self.n_features = self.backbone.num_features\n",
        "        self.fc = nn.Linear(self.n_features, CONFIG['num_classes'])\n",
        "\n",
        "    def forward(self, images):\n",
        "        # features = (bs, embedding_size)\n",
        "        features = self.backbone(images)\n",
        "        # outputs  = (bs, num_classes)\n",
        "        # if isinstance(features, tuple):\n",
        "        #   features = features[0]\n",
        "        output = self.fc(features)\n",
        "        return output\n",
        "\n",
        "\n",
        "model = Model(CONFIG['backbone'], CONFIG['embedder'], pretrained=True)\n",
        "model.to(CONFIG['device'])\n"
      ]
    },
    {
      "cell_type": "code",
      "execution_count": null,
      "metadata": {
        "colab": {
          "base_uri": "https://localhost:8080/"
        },
        "execution": {
          "iopub.execute_input": "2022-01-15T13:12:24.141942Z",
          "iopub.status.busy": "2022-01-15T13:12:24.141470Z",
          "iopub.status.idle": "2022-01-15T13:12:26.297276Z",
          "shell.execute_reply": "2022-01-15T13:12:26.296415Z",
          "shell.execute_reply.started": "2022-01-15T13:12:24.141898Z"
        },
        "id": "7LEzVWK3wgZd",
        "outputId": "905e0a85-d5ba-4110-ee71-8a66468fe751",
        "trusted": true
      },
      "outputs": [
        {
          "output_type": "execute_result",
          "data": {
            "text/plain": [
              "<All keys matched successfully>"
            ]
          },
          "metadata": {},
          "execution_count": 35
        }
      ],
      "source": [
        "MODEL_NAME = 'epoch55_Loss0.0000.bin'\n",
        "RUN_PATH = 'jiwon7258/lg/1u03kks6'\n",
        "wandb.restore(MODEL_NAME, RUN_PATH, root='./')\n",
        "model.load_state_dict(torch.load(\n",
        "    MODEL_NAME, map_location=CONFIG['device']))\n"
      ]
    },
    {
      "cell_type": "markdown",
      "source": [
        "# Inference"
      ],
      "metadata": {
        "id": "O9SRJdtxwSlP"
      }
    },
    {
      "cell_type": "code",
      "execution_count": null,
      "metadata": {
        "colab": {
          "base_uri": "https://localhost:8080/"
        },
        "id": "qQ00yKomwgZe",
        "outputId": "cfeef472-694f-4250-eb2f-d7e6acbc7193"
      },
      "outputs": [
        {
          "output_type": "stream",
          "name": "stderr",
          "text": [
            "100%|██████████| 3245/3245 [38:10<00:00,  1.42it/s]\n"
          ]
        }
      ],
      "source": [
        "# TTA\n",
        "img_code_list = []\n",
        "outputs = []\n",
        "with torch.no_grad():\n",
        "    model.eval()\n",
        "\n",
        "\n",
        "    bar = tqdm(enumerate(testDataloader), total=len(testDataloader))\n",
        "\n",
        "    for step, (imgs, img_codes) in bar :\n",
        "        # imgs : (bs, N, C, H, W), torch.Tensor\n",
        "        # img_codes (bs), list(str)\n",
        "        batch_size = imgs.shape[0]\n",
        "        imgs = imgs.to(CONFIG['device'])\n",
        "        imgs = rearrange(imgs, 'bs N C H W -> (bs N) C H W')\n",
        "        logits = model(imgs)\n",
        "        # logits : ( (bs * N), num_classes)\n",
        "        logits = logits.detach().cpu()\n",
        "        logits = rearrange(logits, '(bs N) num_classes -> bs N num_classes', bs = batch_size)\n",
        "        output = np.argmax(torch.softmax(logits, dim=-1), axis=-1)\n",
        "        output = np.array(output)\n",
        "        # (bs, N)\n",
        "        output = stats.mode(output, axis=1)[0].reshape(-1)\n",
        "        # (bs) \n",
        "        output = [class_dict[i] for i in output]\n",
        "\n",
        "        # print(img_codes)\n",
        "        # print(output)\n",
        "        \n",
        "        img_code_list.extend(img_codes)\n",
        "        outputs.extend(output)\n",
        "\n",
        "        assert len(img_code_list) == len(outputs)\n",
        "\n"
      ]
    },
    {
      "cell_type": "code",
      "execution_count": null,
      "metadata": {
        "execution": {
          "iopub.execute_input": "2022-01-15T13:12:26.298661Z",
          "iopub.status.busy": "2022-01-15T13:12:26.298450Z",
          "iopub.status.idle": "2022-01-15T13:12:52.540238Z",
          "shell.execute_reply": "2022-01-15T13:12:52.539260Z",
          "shell.execute_reply.started": "2022-01-15T13:12:26.298635Z"
        },
        "id": "jEfc7YD4wgZe",
        "trusted": true
      },
      "outputs": [],
      "source": [
        "# # no TTA\n",
        "# with torch.no_grad():\n",
        "#     model.eval()\n",
        "\n",
        "#     img_code_list = []\n",
        "#     outputs = []\n",
        "#     bar = tqdm(enumerate(testDataloader), total=len(testDataloader))\n",
        "\n",
        "#     for step, (img, img_code) in bar:\n",
        "#         img = img.to(device)\n",
        "#         logits = model(img)\n",
        "#         # (bs, num_classes)\n",
        "\n",
        "#         logits = logits.detach().cpu()\n",
        "#         output = np.argmax(torch.softmax(logits, dim=-1), axis=-1)\n",
        "#         output = np.array(output)\n",
        "#         output = [class_dict[i] for i in output]\n",
        "\n",
        "#         img_code_list.extend(img_code)\n",
        "#         outputs.extend(output)\n"
      ]
    },
    {
      "cell_type": "code",
      "execution_count": null,
      "metadata": {
        "execution": {
          "iopub.status.busy": "2022-01-15T13:12:52.541065Z",
          "iopub.status.idle": "2022-01-15T13:12:52.542062Z",
          "shell.execute_reply": "2022-01-15T13:12:52.541760Z",
          "shell.execute_reply.started": "2022-01-15T13:12:52.541726Z"
        },
        "id": "pJHXEPPYwgZe",
        "trusted": true
      },
      "outputs": [],
      "source": [
        "result = pd.DataFrame()\n",
        "result['image'] = img_code_list\n",
        "result['label'] = outputs\n",
        "result.to_csv(f'submit_{CONFIG[\"nickname\"]}_{MODEL_NAME}_TTA.csv',index= False, index_label=False)"
      ]
    },
    {
      "cell_type": "code",
      "execution_count": null,
      "metadata": {
        "colab": {
          "base_uri": "https://localhost:8080/"
        },
        "id": "IzASrSsuC4Nf",
        "outputId": "91b3ab31-873a-49dc-8cc5-2c6845fe85b8"
      },
      "outputs": [
        {
          "output_type": "execute_result",
          "data": {
            "text/plain": [
              "51906"
            ]
          },
          "metadata": {},
          "execution_count": 43
        }
      ],
      "source": [
        "len(result)"
      ]
    },
    {
      "cell_type": "code",
      "execution_count": null,
      "metadata": {
        "id": "9umXTC3a1VZg",
        "colab": {
          "base_uri": "https://localhost:8080/"
        },
        "outputId": "3933dfc1-6efc-4755-84eb-d22dd672ff63"
      },
      "outputs": [
        {
          "output_type": "execute_result",
          "data": {
            "text/plain": [
              "['/content/wandb/run-20220123_114559-2qihtjog/files/submit_BEiT 224 in22k_epoch55_Loss0.0000.bin_TTA.csv']"
            ]
          },
          "metadata": {},
          "execution_count": 44
        }
      ],
      "source": [
        "wandb.save(f'submit_{CONFIG[\"nickname\"]}_{MODEL_NAME}_TTA.csv')\n"
      ]
    },
    {
      "cell_type": "code",
      "execution_count": null,
      "metadata": {
        "id": "Ef6NmU-v0A7r",
        "colab": {
          "base_uri": "https://localhost:8080/"
        },
        "outputId": "378b3985-6b31-4d3d-94f0-d33b582cd5fa"
      },
      "outputs": [
        {
          "output_type": "execute_result",
          "data": {
            "text/plain": [
              "765"
            ]
          },
          "metadata": {},
          "execution_count": 45
        }
      ],
      "source": [
        "torch.cuda.empty_cache()\n",
        "import gc; gc.collect()"
      ]
    }
  ],
  "metadata": {
    "accelerator": "GPU",
    "colab": {
      "collapsed_sections": [],
      "name": "lg_inf_beit224in22k TTA.ipynb",
      "provenance": [],
      "toc_visible": true
    },
    "kernelspec": {
      "display_name": "Python 3",
      "language": "python",
      "name": "python3"
    },
    "language_info": {
      "codemirror_mode": {
        "name": "ipython",
        "version": 3
      },
      "file_extension": ".py",
      "mimetype": "text/x-python",
      "name": "python",
      "nbconvert_exporter": "python",
      "pygments_lexer": "ipython3",
      "version": "3.9.7"
    },
    "widgets": {
      "application/vnd.jupyter.widget-state+json": {
        "eab71c4f8c1942998d0c61fd80650b01": {
          "model_module": "@jupyter-widgets/controls",
          "model_name": "VBoxModel",
          "model_module_version": "1.5.0",
          "state": {
            "_view_name": "VBoxView",
            "_dom_classes": [],
            "_model_name": "VBoxModel",
            "_view_module": "@jupyter-widgets/controls",
            "_model_module_version": "1.5.0",
            "_view_count": null,
            "_view_module_version": "1.5.0",
            "box_style": "",
            "layout": "IPY_MODEL_e9b1717882314e6a9f0c502a2a48f3d7",
            "_model_module": "@jupyter-widgets/controls",
            "children": [
              "IPY_MODEL_45d4677bccd94f629f792fd775158ca3",
              "IPY_MODEL_2f0b70453dd24e1a84e087be23e3f90f"
            ]
          }
        },
        "e9b1717882314e6a9f0c502a2a48f3d7": {
          "model_module": "@jupyter-widgets/base",
          "model_name": "LayoutModel",
          "model_module_version": "1.2.0",
          "state": {
            "_view_name": "LayoutView",
            "grid_template_rows": null,
            "right": null,
            "justify_content": null,
            "_view_module": "@jupyter-widgets/base",
            "overflow": null,
            "_model_module_version": "1.2.0",
            "_view_count": null,
            "flex_flow": null,
            "width": null,
            "min_width": null,
            "border": null,
            "align_items": null,
            "bottom": null,
            "_model_module": "@jupyter-widgets/base",
            "top": null,
            "grid_column": null,
            "overflow_y": null,
            "overflow_x": null,
            "grid_auto_flow": null,
            "grid_area": null,
            "grid_template_columns": null,
            "flex": null,
            "_model_name": "LayoutModel",
            "justify_items": null,
            "grid_row": null,
            "max_height": null,
            "align_content": null,
            "visibility": null,
            "align_self": null,
            "height": null,
            "min_height": null,
            "padding": null,
            "grid_auto_rows": null,
            "grid_gap": null,
            "max_width": null,
            "order": null,
            "_view_module_version": "1.2.0",
            "grid_template_areas": null,
            "object_position": null,
            "object_fit": null,
            "grid_auto_columns": null,
            "margin": null,
            "display": null,
            "left": null
          }
        },
        "45d4677bccd94f629f792fd775158ca3": {
          "model_module": "@jupyter-widgets/controls",
          "model_name": "LabelModel",
          "model_module_version": "1.5.0",
          "state": {
            "_view_name": "LabelView",
            "style": "IPY_MODEL_ec27a041e9754ec38102db1a3e3e252e",
            "_dom_classes": [],
            "description": "",
            "_model_name": "LabelModel",
            "placeholder": "​",
            "_view_module": "@jupyter-widgets/controls",
            "_model_module_version": "1.5.0",
            "value": " 0.42MB of 0.42MB uploaded (0.00MB deduped)\r",
            "_view_count": null,
            "_view_module_version": "1.5.0",
            "description_tooltip": null,
            "_model_module": "@jupyter-widgets/controls",
            "layout": "IPY_MODEL_36100a90c12d41049a7bb28f7c798611"
          }
        },
        "2f0b70453dd24e1a84e087be23e3f90f": {
          "model_module": "@jupyter-widgets/controls",
          "model_name": "FloatProgressModel",
          "model_module_version": "1.5.0",
          "state": {
            "_view_name": "ProgressView",
            "style": "IPY_MODEL_53a4bb6fc5a44ec2912c93702f98a4a3",
            "_dom_classes": [],
            "description": "",
            "_model_name": "FloatProgressModel",
            "bar_style": "",
            "max": 1,
            "_view_module": "@jupyter-widgets/controls",
            "_model_module_version": "1.5.0",
            "value": 1,
            "_view_count": null,
            "_view_module_version": "1.5.0",
            "orientation": "horizontal",
            "min": 0,
            "description_tooltip": null,
            "_model_module": "@jupyter-widgets/controls",
            "layout": "IPY_MODEL_42c7cbbdcf7a4597aaba06b15c33344b"
          }
        },
        "ec27a041e9754ec38102db1a3e3e252e": {
          "model_module": "@jupyter-widgets/controls",
          "model_name": "DescriptionStyleModel",
          "model_module_version": "1.5.0",
          "state": {
            "_view_name": "StyleView",
            "_model_name": "DescriptionStyleModel",
            "description_width": "",
            "_view_module": "@jupyter-widgets/base",
            "_model_module_version": "1.5.0",
            "_view_count": null,
            "_view_module_version": "1.2.0",
            "_model_module": "@jupyter-widgets/controls"
          }
        },
        "36100a90c12d41049a7bb28f7c798611": {
          "model_module": "@jupyter-widgets/base",
          "model_name": "LayoutModel",
          "model_module_version": "1.2.0",
          "state": {
            "_view_name": "LayoutView",
            "grid_template_rows": null,
            "right": null,
            "justify_content": null,
            "_view_module": "@jupyter-widgets/base",
            "overflow": null,
            "_model_module_version": "1.2.0",
            "_view_count": null,
            "flex_flow": null,
            "width": null,
            "min_width": null,
            "border": null,
            "align_items": null,
            "bottom": null,
            "_model_module": "@jupyter-widgets/base",
            "top": null,
            "grid_column": null,
            "overflow_y": null,
            "overflow_x": null,
            "grid_auto_flow": null,
            "grid_area": null,
            "grid_template_columns": null,
            "flex": null,
            "_model_name": "LayoutModel",
            "justify_items": null,
            "grid_row": null,
            "max_height": null,
            "align_content": null,
            "visibility": null,
            "align_self": null,
            "height": null,
            "min_height": null,
            "padding": null,
            "grid_auto_rows": null,
            "grid_gap": null,
            "max_width": null,
            "order": null,
            "_view_module_version": "1.2.0",
            "grid_template_areas": null,
            "object_position": null,
            "object_fit": null,
            "grid_auto_columns": null,
            "margin": null,
            "display": null,
            "left": null
          }
        },
        "53a4bb6fc5a44ec2912c93702f98a4a3": {
          "model_module": "@jupyter-widgets/controls",
          "model_name": "ProgressStyleModel",
          "model_module_version": "1.5.0",
          "state": {
            "_view_name": "StyleView",
            "_model_name": "ProgressStyleModel",
            "description_width": "",
            "_view_module": "@jupyter-widgets/base",
            "_model_module_version": "1.5.0",
            "_view_count": null,
            "_view_module_version": "1.2.0",
            "bar_color": null,
            "_model_module": "@jupyter-widgets/controls"
          }
        },
        "42c7cbbdcf7a4597aaba06b15c33344b": {
          "model_module": "@jupyter-widgets/base",
          "model_name": "LayoutModel",
          "model_module_version": "1.2.0",
          "state": {
            "_view_name": "LayoutView",
            "grid_template_rows": null,
            "right": null,
            "justify_content": null,
            "_view_module": "@jupyter-widgets/base",
            "overflow": null,
            "_model_module_version": "1.2.0",
            "_view_count": null,
            "flex_flow": null,
            "width": null,
            "min_width": null,
            "border": null,
            "align_items": null,
            "bottom": null,
            "_model_module": "@jupyter-widgets/base",
            "top": null,
            "grid_column": null,
            "overflow_y": null,
            "overflow_x": null,
            "grid_auto_flow": null,
            "grid_area": null,
            "grid_template_columns": null,
            "flex": null,
            "_model_name": "LayoutModel",
            "justify_items": null,
            "grid_row": null,
            "max_height": null,
            "align_content": null,
            "visibility": null,
            "align_self": null,
            "height": null,
            "min_height": null,
            "padding": null,
            "grid_auto_rows": null,
            "grid_gap": null,
            "max_width": null,
            "order": null,
            "_view_module_version": "1.2.0",
            "grid_template_areas": null,
            "object_position": null,
            "object_fit": null,
            "grid_auto_columns": null,
            "margin": null,
            "display": null,
            "left": null
          }
        }
      }
    }
  },
  "nbformat": 4,
  "nbformat_minor": 0
}