{
  "cells": [
    {
      "cell_type": "code",
      "execution_count": 1,
      "metadata": {
        "execution": {
          "iopub.execute_input": "2022-01-15T12:46:47.007667Z",
          "iopub.status.busy": "2022-01-15T12:46:47.007157Z",
          "iopub.status.idle": "2022-01-15T12:47:02.666730Z",
          "shell.execute_reply": "2022-01-15T12:47:02.665532Z",
          "shell.execute_reply.started": "2022-01-15T12:46:47.007577Z"
        },
        "id": "0SZrePiJwgZH",
        "trusted": true
      },
      "outputs": [],
      "source": [
        "! pip install wandb opencv-python-headless==4.1.2.30 albumentations torch-summary timm==0.5.4 einops joblib icecream  -qq -U"
      ]
    },
    {
      "cell_type": "code",
      "execution_count": 2,
      "metadata": {
        "execution": {
          "iopub.execute_input": "2022-01-15T12:47:02.669199Z",
          "iopub.status.busy": "2022-01-15T12:47:02.668915Z",
          "iopub.status.idle": "2022-01-15T12:47:07.445802Z",
          "shell.execute_reply": "2022-01-15T12:47:07.444763Z",
          "shell.execute_reply.started": "2022-01-15T12:47:02.669163Z"
        },
        "id": "dJYP3XQtwgZN",
        "trusted": true
      },
      "outputs": [],
      "source": [
        "import warnings\n",
        "from glob import glob\n",
        "import pathlib\n",
        "from pathlib import Path\n",
        "from torchsummary import summary\n",
        "import torch\n",
        "import torch.nn as nn\n",
        "import torch.nn.functional as F\n",
        "from torch.utils.data import Dataset, DataLoader\n",
        "import pandas as pd\n",
        "from pprint import pprint\n",
        "import urllib.request\n",
        "import csv\n",
        "import numpy as np\n",
        "from einops import rearrange, reduce, repeat\n",
        "from torch.cuda import amp\n",
        "from tqdm import tqdm\n",
        "import wandb\n",
        "import time\n",
        "import copy\n",
        "from collections import defaultdict\n",
        "from sklearn.metrics import mean_squared_error\n",
        "import joblib\n",
        "import gc\n",
        "import os\n",
        "from icecream import ic\n",
        "from sklearn.model_selection import train_test_split\n",
        "import gc\n",
        "import cv2\n",
        "import copy\n",
        "import time\n",
        "import random\n",
        "from PIL import Image\n",
        "\n",
        "# For data manipulation\n",
        "import numpy as np\n",
        "import pandas as pd\n",
        "from einops import rearrange, repeat\n",
        "from scipy import stats\n",
        "\n",
        "# Pytorch Imports\n",
        "import torch\n",
        "import torch.nn as nn\n",
        "import torch.optim as optim\n",
        "from torch.optim import lr_scheduler\n",
        "from torch.utils.data import Dataset, DataLoader\n",
        "from torch.cuda import amp\n",
        "\n",
        "# Utils\n",
        "import joblib\n",
        "from tqdm import tqdm\n",
        "from collections import defaultdict\n",
        "import matplotlib.pyplot as plt\n",
        "\n",
        "# Sklearn Imports\n",
        "from sklearn.metrics import mean_squared_error\n",
        "from sklearn.model_selection import StratifiedKFold, KFold\n",
        "\n",
        "import timm\n",
        "\n",
        "import json\n",
        "\n",
        "# Albumentations for augmentations\n",
        "import albumentations as A\n",
        "from albumentations.pytorch import ToTensorV2\n",
        "\n",
        "# For colored terminal text\n",
        "from colorama import Fore, Back, Style\n",
        "c_ = Fore.CYAN\n",
        "sr_ = Style.RESET_ALL\n",
        "\n",
        "warnings.filterwarnings(\"ignore\")\n",
        "\n",
        "# For descriptive error messages\n",
        "os.environ['CUDA_LAUNCH_BLOCKING'] = \"1\"\n"
      ]
    },
    {
      "cell_type": "code",
      "execution_count": 3,
      "metadata": {
        "execution": {
          "iopub.execute_input": "2022-01-15T12:47:07.447472Z",
          "iopub.status.busy": "2022-01-15T12:47:07.447211Z",
          "iopub.status.idle": "2022-01-15T12:47:07.457019Z",
          "shell.execute_reply": "2022-01-15T12:47:07.455591Z",
          "shell.execute_reply.started": "2022-01-15T12:47:07.447437Z"
        },
        "id": "SvKMLBHywgZP",
        "trusted": true
      },
      "outputs": [],
      "source": [
        "\n",
        "# ENV = 'COLAB'\n",
        "ENV = 'KAGGLE'\n",
        "# ENV = 'SYSTEM'\n",
        "\n",
        "# Option for Mixed Precision\n",
        "# FP16 = True\n",
        "FP16 = False\n",
        "\n",
        "\n",
        "CONFIG = dict(\n",
        "    seed=42,\n",
        "    nickname='SwinB finecutmix',\n",
        "    note='finecutmix',\n",
        "    backbone='swin_base_patch4_window12_384',\n",
        "    embedder=None,\n",
        "    train_batch_size=8,\n",
        "    valid_batch_size=16,\n",
        "    img_size=384,\n",
        "    num_epochs=50,\n",
        "    early_stopping=False,\n",
        "    early_stopping_step=5,\n",
        "    learning_rate=1e-4,\n",
        "    scheduler='CosineAnnealingLR',\n",
        "    min_lr=1e-6,\n",
        "    T_max=100,\n",
        "    num_classes=25,\n",
        "    weight_decay=1e-6,\n",
        "    device=torch.device(\"cuda:0\" if torch.cuda.is_available() else \"cpu\"),\n",
        "    competition='lg',\n",
        "    _wandb_kernel='deb'\n",
        ")\n",
        "\n",
        "\n",
        "device = torch.device(\"cuda\" if torch.cuda.is_available() else \"cpu\")\n"
      ]
    },
    {
      "cell_type": "code",
      "execution_count": 4,
      "metadata": {
        "execution": {
          "iopub.execute_input": "2022-01-15T12:47:07.459867Z",
          "iopub.status.busy": "2022-01-15T12:47:07.458923Z",
          "iopub.status.idle": "2022-01-15T12:47:07.475078Z",
          "shell.execute_reply": "2022-01-15T12:47:07.474266Z",
          "shell.execute_reply.started": "2022-01-15T12:47:07.459827Z"
        },
        "id": "UalTZYYowgZQ",
        "trusted": true
      },
      "outputs": [],
      "source": [
        "def set_seed(seed=42):\n",
        "    '''Sets the seed of the entire notebook so results are the same every time we run.\n",
        "    This is for REPRODUCIBILITY.'''\n",
        "    np.random.seed(seed)\n",
        "    random.seed(seed)\n",
        "    torch.manual_seed(seed)\n",
        "    torch.cuda.manual_seed(seed)\n",
        "    # When running on the CuDNN backend, two further options must be set\n",
        "    torch.backends.cudnn.deterministic = True\n",
        "    torch.backends.cudnn.benchmark = False\n",
        "    # Set a fixed value for the hash seed\n",
        "    os.environ['PYTHONHASHSEED'] = str(seed)\n",
        "\n",
        "\n",
        "set_seed(CONFIG['seed'])\n"
      ]
    },
    {
      "cell_type": "code",
      "execution_count": 5,
      "metadata": {
        "colab": {
          "base_uri": "https://localhost:8080/",
          "height": 72
        },
        "execution": {
          "iopub.execute_input": "2022-01-15T12:47:44.198246Z",
          "iopub.status.busy": "2022-01-15T12:47:44.197954Z",
          "iopub.status.idle": "2022-01-15T13:02:57.916054Z",
          "shell.execute_reply": "2022-01-15T13:02:57.913033Z",
          "shell.execute_reply.started": "2022-01-15T12:47:44.198217Z"
        },
        "id": "7ijQFDYwwgZR",
        "outputId": "66bbda82-8a96-47e5-e70c-ffa8e1ffaded",
        "trusted": true
      },
      "outputs": [
        {
          "name": "stderr",
          "output_type": "stream",
          "text": [
            "\u001b[34m\u001b[1mwandb\u001b[0m: Currently logged in as: \u001b[33mjiwon7258\u001b[0m (use `wandb login --relogin` to force relogin)\n"
          ]
        },
        {
          "data": {
            "text/html": [
              "\n",
              "                    Syncing run <strong><a href=\"https://wandb.ai/jiwon7258/lg/runs/1t4oxzk5\" target=\"_blank\">stellar-valley-36</a></strong> to <a href=\"https://wandb.ai/jiwon7258/lg\" target=\"_blank\">Weights & Biases</a> (<a href=\"https://docs.wandb.com/integrations/jupyter.html\" target=\"_blank\">docs</a>).<br/>\n",
              "\n",
              "                "
            ],
            "text/plain": [
              "<IPython.core.display.HTML object>"
            ]
          },
          "metadata": {},
          "output_type": "display_data"
        },
        {
          "name": "stderr",
          "output_type": "stream",
          "text": [
            "\u001b[34m\u001b[1mwandb\u001b[0m: Downloading large artifact lg:v1, 9188.81MB. 121115 files... Done. 0:0:0\n"
          ]
        }
      ],
      "source": [
        "import wandb\n",
        "run = wandb.init(project=\"lg\",\n",
        "                 entity=\"jiwon7258\",\n",
        "                 config=CONFIG,\n",
        "                 job_type='inf'\n",
        "                 )\n",
        "\n",
        "run.name = CONFIG['nickname']\n",
        "\n",
        "dataset = wandb.run.use_artifact(\n",
        "    'jiwon7258/lg/lg:v1', type='dataset')\n",
        "\n",
        "\n",
        "# Download the artifact's contents\n",
        "dataset_dir = dataset.download()\n",
        "dataset_dir = Path(dataset_dir)\n"
      ]
    },
    {
      "cell_type": "markdown",
      "metadata": {
        "id": "6IrGkD7fwgZT"
      },
      "source": [
        "# Augmentation"
      ]
    },
    {
      "cell_type": "code",
      "execution_count": 6,
      "metadata": {
        "execution": {
          "iopub.execute_input": "2022-01-15T13:02:57.925334Z",
          "iopub.status.busy": "2022-01-15T13:02:57.922597Z",
          "iopub.status.idle": "2022-01-15T13:02:57.942778Z",
          "shell.execute_reply": "2022-01-15T13:02:57.941700Z",
          "shell.execute_reply.started": "2022-01-15T13:02:57.925266Z"
        },
        "id": "8LLzIcj-wgZV",
        "trusted": true
      },
      "outputs": [],
      "source": [
        "data_transforms = {\n",
        "    \"train\": A.Compose([\n",
        "        A.Resize(CONFIG['img_size'], CONFIG['img_size']),\n",
        "        A.ShiftScaleRotate(shift_limit=0.05, scale_limit=0.05,\n",
        "                           rotate_limit=15, p=0.5),\n",
        "        A.RGBShift(r_shift_limit=15, g_shift_limit=15,\n",
        "                   b_shift_limit=15, p=0.5),\n",
        "        A.RandomBrightnessContrast(p=0.5),\n",
        "        A.HorizontalFlip(p=0.5),\n",
        "        A.VerticalFlip(p=0.5),\n",
        "        A.Normalize(),\n",
        "        ToTensorV2(),\n",
        "        ], p=1.),\n",
        "\n",
        "    \"valid\": A.Compose([\n",
        "        A.Resize(CONFIG['img_size'], CONFIG['img_size']),\n",
        "        A.Normalize(),\n",
        "        ToTensorV2()], p=1.)\n",
        "}\n"
      ]
    },
    {
      "cell_type": "markdown",
      "metadata": {
        "id": "edBJjnzEwgZY"
      },
      "source": [
        "# Dataset Dataloader"
      ]
    },
    {
      "cell_type": "code",
      "execution_count": 7,
      "metadata": {
        "execution": {
          "iopub.execute_input": "2022-01-15T13:02:57.944980Z",
          "iopub.status.busy": "2022-01-15T13:02:57.944646Z",
          "iopub.status.idle": "2022-01-15T13:02:57.955419Z",
          "shell.execute_reply": "2022-01-15T13:02:57.954212Z",
          "shell.execute_reply.started": "2022-01-15T13:02:57.944931Z"
        },
        "id": "lGX-xi2twgZY",
        "trusted": true
      },
      "outputs": [],
      "source": [
        "TEST_PATH =  dataset_dir / 'test'"
      ]
    },
    {
      "cell_type": "code",
      "execution_count": 8,
      "metadata": {
        "execution": {
          "iopub.execute_input": "2022-01-15T13:02:57.958800Z",
          "iopub.status.busy": "2022-01-15T13:02:57.958261Z",
          "iopub.status.idle": "2022-01-15T13:03:01.431853Z",
          "shell.execute_reply": "2022-01-15T13:03:01.431262Z",
          "shell.execute_reply.started": "2022-01-15T13:02:57.958753Z"
        },
        "id": "kybc5IG4wgZZ",
        "trusted": true
      },
      "outputs": [],
      "source": [
        "test_csv = sorted(glob(str(TEST_PATH / '*/*.csv')))\n",
        "test_jpg = sorted(glob(str(TEST_PATH / '*/*.jpg')))"
      ]
    },
    {
      "cell_type": "code",
      "execution_count": 9,
      "metadata": {
        "execution": {
          "iopub.execute_input": "2022-01-15T13:06:38.257482Z",
          "iopub.status.busy": "2022-01-15T13:06:38.257175Z",
          "iopub.status.idle": "2022-01-15T13:06:38.267537Z",
          "shell.execute_reply": "2022-01-15T13:06:38.266470Z",
          "shell.execute_reply.started": "2022-01-15T13:06:38.257447Z"
        },
        "id": "OXK5c6WPwgZa",
        "trusted": true
      },
      "outputs": [],
      "source": [
        "# class TestDataset(Dataset):\n",
        "#     def __init__ (self, N, test_imgs, transforms = None):\n",
        "#         self.N = N\n",
        "#         self.test_imgs = test_imgs\n",
        "#         self.transforms = transforms\n",
        "\n",
        "\n",
        "#     def __len__ (self):\n",
        "#         return len(self.test_imgs)\n",
        "\n",
        "#     def __getitem__(self, index):\n",
        "#         img_path = self.test_imgs[index]\n",
        "#         img_code = (Path(img_path)).parent.stem\n",
        "#         img = cv2.imread(img_path)\n",
        "#         img = cv2.cvtColor(img, cv2.COLOR_BGR2RGB)\n",
        "        \n",
        "#         imgs = [self.transforms(image=img)['image'] for _ in range(self.N)]\n",
        "#         imgs = np.concatenate(imgs, axis = 0)\n",
        "#         imgs = rearrange(imgs, '(new1 bs) h w -> new1 bs h w', new1=self.N)\n",
        "\n",
        "#         return imgs, img_code\n",
        "\n",
        "# testDataset = TestDataset(8, test_jpg, transforms = data_transforms['train'])\n",
        "# testDataloader = DataLoader(\n",
        "#     testDataset, batch_size=CONFIG['valid_batch_size'], shuffle=False)\n"
      ]
    },
    {
      "cell_type": "code",
      "execution_count": null,
      "metadata": {
        "id": "4ebyqQRgkWLt"
      },
      "outputs": [],
      "source": [
        "# no TTA\n",
        "class TestDataset(Dataset):\n",
        "    def __init__(self, N, test_imgs, transforms=None):\n",
        "        self.N = N\n",
        "        self.test_imgs = test_imgs\n",
        "        self.transforms = transforms\n",
        "\n",
        "    def __len__(self):\n",
        "        return len(self.test_imgs)\n",
        "\n",
        "    def __getitem__(self, index):\n",
        "        img_path = self.test_imgs[index]\n",
        "        img_code = (Path(img_path)).parent.stem\n",
        "        img = cv2.imread(img_path)\n",
        "        img = cv2.cvtColor(img, cv2.COLOR_BGR2RGB)\n",
        "        img = self.transforms(image=img)['image']\n",
        "\n",
        "        return img, img_code\n",
        "\n",
        "\n",
        "testDataset = TestDataset(0, test_jpg, transforms=data_transforms['valid'])\n",
        "testDataloader = DataLoader(\n",
        "    testDataset, batch_size=CONFIG['valid_batch_size'], shuffle=False)\n"
      ]
    },
    {
      "cell_type": "code",
      "execution_count": 10,
      "metadata": {
        "execution": {
          "iopub.execute_input": "2022-01-15T13:07:04.778647Z",
          "iopub.status.busy": "2022-01-15T13:07:04.778336Z",
          "iopub.status.idle": "2022-01-15T13:07:04.800418Z",
          "shell.execute_reply": "2022-01-15T13:07:04.799737Z",
          "shell.execute_reply.started": "2022-01-15T13:07:04.778613Z"
        },
        "id": "ZyFNJcSqwgZa",
        "trusted": true
      },
      "outputs": [],
      "source": [
        "# for imgs, img_code in testDataset :\n",
        "#     fig, axes = plt.subplots(1,8, figsize = (40,20))\n",
        "#     for i in range(8):\n",
        "#         img = imgs[i, :, :, :]\n",
        "#         axes[i].imshow(img.reshape(384,384,3))\n",
        "#     break"
      ]
    },
    {
      "cell_type": "code",
      "execution_count": 11,
      "metadata": {
        "colab": {
          "base_uri": "https://localhost:8080/"
        },
        "id": "7-nqH0BXwgZb",
        "outputId": "202f5911-768c-4b7c-b967-29766c6e85b1"
      },
      "outputs": [
        {
          "name": "stdout",
          "output_type": "stream",
          "text": [
            "<class 'torch.Tensor'>\n",
            "torch.Size([8, 8, 3, 384, 384])\n",
            "('10000', '10001', '10002', '10003', '10004', '10005', '10006', '10007')\n",
            "<class 'tuple'>\n"
          ]
        }
      ],
      "source": [
        "# for img, img_code in testDataloader:\n",
        "#     print(type(img))\n",
        "#     print(img.shape)\n",
        "#     print(img_code)\n",
        "#     print(type(img_code))\n",
        "#     break\n"
      ]
    },
    {
      "cell_type": "markdown",
      "metadata": {
        "id": "_0--IgLMwgZc"
      },
      "source": [
        "# Key Value Dict"
      ]
    },
    {
      "cell_type": "code",
      "execution_count": 12,
      "metadata": {
        "execution": {
          "iopub.execute_input": "2022-01-15T13:07:08.956085Z",
          "iopub.status.busy": "2022-01-15T13:07:08.955767Z",
          "iopub.status.idle": "2022-01-15T13:07:09.858750Z",
          "shell.execute_reply": "2022-01-15T13:07:09.857847Z",
          "shell.execute_reply.started": "2022-01-15T13:07:08.956047Z"
        },
        "id": "rF4vyI0RwgZc",
        "trusted": true
      },
      "outputs": [],
      "source": [
        "wandb.restore('class_dict', run_path='jiwon7258/lg/1lkvc6n0', root='./')\n",
        "class_dict = joblib.load('class_dict')"
      ]
    },
    {
      "cell_type": "markdown",
      "metadata": {
        "id": "F0BkrrYjwgZd"
      },
      "source": [
        "# Model"
      ]
    },
    {
      "cell_type": "code",
      "execution_count": 13,
      "metadata": {
        "colab": {
          "base_uri": "https://localhost:8080/",
          "height": 36
        },
        "execution": {
          "iopub.execute_input": "2022-01-15T13:12:22.229683Z",
          "iopub.status.busy": "2022-01-15T13:12:22.228637Z",
          "iopub.status.idle": "2022-01-15T13:12:24.139623Z",
          "shell.execute_reply": "2022-01-15T13:12:24.138999Z",
          "shell.execute_reply.started": "2022-01-15T13:12:22.229634Z"
        },
        "id": "awKMcDUpwgZd",
        "outputId": "211f388c-09ec-40b1-fc98-03d6289b20f5",
        "trusted": true
      },
      "outputs": [
        {
          "data": {
            "application/vnd.google.colaboratory.intrinsic+json": {
              "type": "string"
            },
            "text/plain": [
              "''"
            ]
          },
          "execution_count": 13,
          "metadata": {},
          "output_type": "execute_result"
        }
      ],
      "source": [
        "class Model(nn.Module):\n",
        "    def __init__(self, backbone, embedder, pretrained=True):\n",
        "        super(Model, self).__init__()\n",
        "        self.backbone = timm.create_model(backbone, pretrained=pretrained)\n",
        "        self.backbone.reset_classifier(0)\n",
        "        self.n_features = self.backbone.num_features\n",
        "        self.fc = nn.Linear(self.n_features, CONFIG['num_classes'])\n",
        "\n",
        "    def forward(self, images):\n",
        "        # features = (bs, embedding_size)\n",
        "        features = self.backbone(images)\n",
        "        # outputs  = (bs, num_classes)\n",
        "        # if isinstance(features, tuple):\n",
        "        #   features = features[0]\n",
        "        output = self.fc(features)\n",
        "        return output\n",
        "\n",
        "\n",
        "model = Model(CONFIG['backbone'], CONFIG['embedder'], pretrained=True)\n",
        "model.to(CONFIG['device'])\n"
      ]
    },
    {
      "cell_type": "code",
      "execution_count": 14,
      "metadata": {
        "colab": {
          "base_uri": "https://localhost:8080/"
        },
        "execution": {
          "iopub.execute_input": "2022-01-15T13:12:24.141942Z",
          "iopub.status.busy": "2022-01-15T13:12:24.141470Z",
          "iopub.status.idle": "2022-01-15T13:12:26.297276Z",
          "shell.execute_reply": "2022-01-15T13:12:26.296415Z",
          "shell.execute_reply.started": "2022-01-15T13:12:24.141898Z"
        },
        "id": "7LEzVWK3wgZd",
        "outputId": "0db3a277-d402-4ae5-94ce-b7dff7241e52",
        "trusted": true
      },
      "outputs": [
        {
          "data": {
            "text/plain": [
              "<All keys matched successfully>"
            ]
          },
          "execution_count": 14,
          "metadata": {},
          "output_type": "execute_result"
        }
      ],
      "source": [
        "MODEL_NAME = 'epoch125_Loss0.0002.bin'\n",
        "RUN_PATH = 'jiwon7258/lg/1ycjalgj'\n",
        "wandb.restore(MODEL_NAME, RUN_PATH, root='./')\n",
        "model.load_state_dict(torch.load(\n",
        "    MODEL_NAME, map_location=CONFIG['device']))\n"
      ]
    },
    {
      "cell_type": "code",
      "execution_count": null,
      "metadata": {
        "colab": {
          "base_uri": "https://localhost:8080/",
          "height": 430
        },
        "id": "qQ00yKomwgZe",
        "outputId": "b9d9e154-f799-476f-95f0-05cc2b1cf0a7"
      },
      "outputs": [],
      "source": [
        "# # TTA\n",
        "# img_code_list = []\n",
        "# outputs = []\n",
        "# with torch.no_grad():\n",
        "#     model.eval()\n",
        "\n",
        "\n",
        "#     bar = tqdm(enumerate(testDataloader), total=len(testDataloader))\n",
        "\n",
        "#     for step, (imgs, img_codes) in bar :\n",
        "#         # imgs : (bs, N, C, H, W), torch.Tensor\n",
        "#         # img_codes (bs, N), list(str)\n",
        "#         batch_size = imgs.shape[0]\n",
        "#         imgs = imgs.to(CONFIG['device'])\n",
        "#         imgs = rearrange(imgs, 'bs N C H W -> (bs N) C H W')\n",
        "#         logits = model(imgs)\n",
        "#         # logits : ( (bs * N), num_classes)\n",
        "#         logits = logits.detach().cpu()\n",
        "#         logits = rearrange(logits, '(bs N) num_classes -> bs N num_classes', bs = batch_size)\n",
        "#         output = np.argmax(torch.softmax(logits, dim=-1), axis=-1)\n",
        "#         output = np.array(output)\n",
        "#         # (bs, N)\n",
        "#         output = stats.mode(output, axis=1)[0].reshape(-1)\n",
        "#         # (bs) \n",
        "#         output = [class_dict[i] for i in output]\n",
        "\n",
        "#         # print(img_codes)\n",
        "#         # print(output)\n",
        "        \n",
        "#         img_code_list.extend(img_codes)\n",
        "#         outputs.extend(output)\n",
        "\n",
        "#         assert len(img_code_list) == len(outputs)\n",
        "\n"
      ]
    },
    {
      "cell_type": "code",
      "execution_count": 16,
      "metadata": {
        "execution": {
          "iopub.execute_input": "2022-01-15T13:12:26.298661Z",
          "iopub.status.busy": "2022-01-15T13:12:26.298450Z",
          "iopub.status.idle": "2022-01-15T13:12:52.540238Z",
          "shell.execute_reply": "2022-01-15T13:12:52.539260Z",
          "shell.execute_reply.started": "2022-01-15T13:12:26.298635Z"
        },
        "id": "jEfc7YD4wgZe",
        "trusted": true
      },
      "outputs": [],
      "source": [
        "# no TTA\n",
        "with torch.no_grad():\n",
        "    model.eval()\n",
        "\n",
        "    img_code_list = []\n",
        "    outputs = []\n",
        "    bar = tqdm(enumerate(testDataloader), total=len(testDataloader))\n",
        "\n",
        "    for step, (img, img_code) in bar:\n",
        "        img = img.to(device)\n",
        "        logits = model(img)\n",
        "        # (bs, num_classes)\n",
        "\n",
        "        logits = logits.detach().cpu()\n",
        "        output = np.argmax(torch.softmax(logits, dim=-1), axis=-1)\n",
        "        output = np.array(output)\n",
        "        output = [class_dict[i] for i in output]\n",
        "\n",
        "        img_code_list.extend(img_code)\n",
        "        outputs.extend(output)\n"
      ]
    },
    {
      "cell_type": "code",
      "execution_count": null,
      "metadata": {
        "execution": {
          "iopub.status.busy": "2022-01-15T13:12:52.541065Z",
          "iopub.status.idle": "2022-01-15T13:12:52.542062Z",
          "shell.execute_reply": "2022-01-15T13:12:52.541760Z",
          "shell.execute_reply.started": "2022-01-15T13:12:52.541726Z"
        },
        "id": "pJHXEPPYwgZe",
        "trusted": true
      },
      "outputs": [],
      "source": [
        "result = pd.DataFrame()\n",
        "result['image'] = img_code_list\n",
        "result['label'] = outputs\n",
        "result.to_csv(f'submit_{CONFIG[\"nickname\"]}_{MODEL_NAME}.csv',index= False, index_label=False)"
      ]
    },
    {
      "cell_type": "code",
      "execution_count": 20,
      "metadata": {
        "colab": {
          "base_uri": "https://localhost:8080/"
        },
        "id": "IzASrSsuC4Nf",
        "outputId": "dddceac0-9e2d-4782-fd56-f34e7d6348a4"
      },
      "outputs": [
        {
          "data": {
            "text/plain": [
              "51906"
            ]
          },
          "execution_count": 20,
          "metadata": {},
          "output_type": "execute_result"
        }
      ],
      "source": [
        "len(result)"
      ]
    },
    {
      "cell_type": "code",
      "execution_count": null,
      "metadata": {
        "id": "9umXTC3a1VZg"
      },
      "outputs": [],
      "source": [
        "wandb.save(f'submit_{CONFIG[\"nickname\"]}_{MODEL_NAME}.csv')\n"
      ]
    },
    {
      "cell_type": "code",
      "execution_count": null,
      "metadata": {
        "id": "Ef6NmU-v0A7r"
      },
      "outputs": [],
      "source": [
        "torch.cuda.empty_cache()\n",
        "import gc; gc.collect()"
      ]
    }
  ],
  "metadata": {
    "accelerator": "GPU",
    "colab": {
      "collapsed_sections": [],
      "name": "lg-inf-swin.ipynb",
      "provenance": [],
      "toc_visible": true
    },
    "kernelspec": {
      "display_name": "Python 3",
      "language": "python",
      "name": "python3"
    },
    "language_info": {
      "codemirror_mode": {
        "name": "ipython",
        "version": 3
      },
      "file_extension": ".py",
      "mimetype": "text/x-python",
      "name": "python",
      "nbconvert_exporter": "python",
      "pygments_lexer": "ipython3",
      "version": "3.9.7"
    }
  },
  "nbformat": 4,
  "nbformat_minor": 0
}
