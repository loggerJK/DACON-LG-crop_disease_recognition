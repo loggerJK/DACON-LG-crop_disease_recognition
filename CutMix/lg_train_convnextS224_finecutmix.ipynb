{
  "cells": [
    {
      "cell_type": "markdown",
      "metadata": {
        "id": "XQuUKAHnPGqb"
      },
      "source": [
        "# Library"
      ]
    },
    {
      "cell_type": "code",
      "execution_count": null,
      "metadata": {
        "execution": {
          "iopub.execute_input": "2022-01-15T10:25:01.795688Z",
          "iopub.status.busy": "2022-01-15T10:25:01.794986Z",
          "iopub.status.idle": "2022-01-15T10:25:13.001673Z",
          "shell.execute_reply": "2022-01-15T10:25:13.000732Z",
          "shell.execute_reply.started": "2022-01-15T10:25:01.795591Z"
        },
        "id": "EP8Uk0lzPGqi",
        "trusted": true
      },
      "outputs": [],
      "source": [
        "! pip install wandb opencv-python-headless==4.1.2.30 albumentations torch-summary timm==0.5.4 einops joblib icecream  -qq -U"
      ]
    },
    {
      "cell_type": "code",
      "execution_count": null,
      "metadata": {
        "execution": {
          "iopub.execute_input": "2022-01-15T10:25:13.004437Z",
          "iopub.status.busy": "2022-01-15T10:25:13.004166Z",
          "iopub.status.idle": "2022-01-15T10:25:17.843442Z",
          "shell.execute_reply": "2022-01-15T10:25:17.842685Z",
          "shell.execute_reply.started": "2022-01-15T10:25:13.004400Z"
        },
        "id": "V8YpfugSPGqk",
        "trusted": true
      },
      "outputs": [],
      "source": [
        "from sklearn.metrics import f1_score\n",
        "from glob import glob\n",
        "import pathlib\n",
        "from pathlib import Path\n",
        "from torchsummary import summary\n",
        "import torch\n",
        "import torch.nn as nn\n",
        "import torch.nn.functional as F\n",
        "from torch.utils.data import Dataset, DataLoader\n",
        "import pandas as pd\n",
        "from pprint import pprint\n",
        "import urllib.request\n",
        "import csv\n",
        "import numpy as np\n",
        "from einops import rearrange, reduce, repeat\n",
        "from torch.cuda import amp\n",
        "from tqdm import tqdm\n",
        "import wandb\n",
        "import time\n",
        "import copy\n",
        "from collections import defaultdict\n",
        "from sklearn.metrics import mean_squared_error\n",
        "import joblib\n",
        "import gc\n",
        "import os\n",
        "from icecream import ic\n",
        "from sklearn.model_selection import train_test_split\n",
        "import gc\n",
        "import cv2\n",
        "import copy\n",
        "import time\n",
        "import random\n",
        "from PIL import Image\n",
        "\n",
        "# For data manipulation\n",
        "import numpy as np\n",
        "import pandas as pd\n",
        "\n",
        "# Pytorch Imports\n",
        "import torch\n",
        "import torch.nn as nn\n",
        "import torch.optim as optim\n",
        "from torch.optim import lr_scheduler\n",
        "from torch.utils.data import Dataset, DataLoader\n",
        "from torch.cuda import amp\n",
        "\n",
        "# Utils\n",
        "import joblib\n",
        "from tqdm import tqdm\n",
        "from collections import defaultdict\n",
        "\n",
        "# Sklearn Imports\n",
        "from sklearn.metrics import mean_squared_error\n",
        "from sklearn.model_selection import StratifiedKFold, KFold\n",
        "\n",
        "import timm\n",
        "\n",
        "import json\n",
        "\n",
        "# Albumentations for augmentations\n",
        "import albumentations as A\n",
        "from albumentations.pytorch import ToTensorV2\n",
        "\n",
        "# For colored terminal text\n",
        "from colorama import Fore, Back, Style\n",
        "c_ = Fore.CYAN\n",
        "sr_ = Style.RESET_ALL\n",
        "\n",
        "import warnings\n",
        "warnings.filterwarnings(\"ignore\")\n",
        "\n",
        "# For descriptive error messages\n",
        "os.environ['CUDA_LAUNCH_BLOCKING'] = \"1\"\n",
        "\n",
        "\n",
        "from sklearn.metrics import f1_score"
      ]
    },
    {
      "cell_type": "markdown",
      "metadata": {
        "id": "EVCBodi-PGql"
      },
      "source": [
        "# ENV"
      ]
    },
    {
      "cell_type": "code",
      "execution_count": null,
      "metadata": {
        "execution": {
          "iopub.execute_input": "2022-01-15T10:25:17.845495Z",
          "iopub.status.busy": "2022-01-15T10:25:17.845230Z",
          "iopub.status.idle": "2022-01-15T10:25:17.893347Z",
          "shell.execute_reply": "2022-01-15T10:25:17.892018Z",
          "shell.execute_reply.started": "2022-01-15T10:25:17.845458Z"
        },
        "id": "fbOZOG8UPGqm",
        "trusted": true
      },
      "outputs": [],
      "source": [
        "\n",
        "# ENV = 'COLAB'\n",
        "ENV = 'KAGGLE'\n",
        "# ENV = 'SYSTEM'\n",
        "\n",
        "# Option for Mixed Precision\n",
        "# FP16 = True\n",
        "FP16 = False\n",
        "\n",
        "\n",
        "CONFIG = dict(\n",
        "    nickname='convnext_small finecutmix',\n",
        "    seed=42,\n",
        "    backbone='convnext_small',\n",
        "    embedder=None,\n",
        "    train_batch_size=32,\n",
        "    valid_batch_size=16,\n",
        "    img_size=224,\n",
        "    num_epochs=50,\n",
        "    early_stopping=False,\n",
        "    early_stopping_step=5,\n",
        "    learning_rate=1e-4,\n",
        "    scheduler='CosineAnnealingLR',\n",
        "    min_lr=1e-6,\n",
        "    T_max=100,\n",
        "    num_classes=25,\n",
        "    weight_decay=1e-6,\n",
        "    device=torch.device(\"cuda:0\" if torch.cuda.is_available() else \"cpu\"),\n",
        "    competition='lg',\n",
        "    _wandb_kernel='deb'\n",
        ")\n",
        "\n",
        "\n",
        "device = torch.device(\"cuda\" if torch.cuda.is_available() else \"cpu\")\n"
      ]
    },
    {
      "cell_type": "markdown",
      "metadata": {
        "id": "M6BJH0gaPGqn"
      },
      "source": [
        "# SET SEED "
      ]
    },
    {
      "cell_type": "code",
      "execution_count": null,
      "metadata": {
        "execution": {
          "iopub.execute_input": "2022-01-15T10:25:17.896790Z",
          "iopub.status.busy": "2022-01-15T10:25:17.896189Z",
          "iopub.status.idle": "2022-01-15T10:25:17.909599Z",
          "shell.execute_reply": "2022-01-15T10:25:17.908786Z",
          "shell.execute_reply.started": "2022-01-15T10:25:17.896748Z"
        },
        "id": "Vj7acIAIPGqn",
        "trusted": true
      },
      "outputs": [],
      "source": [
        "def set_seed(seed=42):\n",
        "    '''Sets the seed of the entire notebook so results are the same every time we run.\n",
        "    This is for REPRODUCIBILITY.'''\n",
        "    np.random.seed(seed)\n",
        "    random.seed(seed)\n",
        "    torch.manual_seed(seed)\n",
        "    torch.cuda.manual_seed(seed)\n",
        "    # When running on the CuDNN backend, two further options must be set\n",
        "    torch.backends.cudnn.deterministic = True\n",
        "    torch.backends.cudnn.benchmark = False\n",
        "    # Set a fixed value for the hash seed\n",
        "    os.environ['PYTHONHASHSEED'] = str(seed)\n",
        "\n",
        "\n",
        "set_seed(CONFIG['seed'])\n"
      ]
    },
    {
      "cell_type": "markdown",
      "metadata": {
        "id": "0KA00McmPGqo"
      },
      "source": [
        "# Read the Data\n"
      ]
    },
    {
      "cell_type": "code",
      "execution_count": null,
      "metadata": {
        "colab": {
          "base_uri": "https://localhost:8080/",
          "height": 446,
          "referenced_widgets": [
            "4cfbbc6aed2e4036b50091e614c70acd",
            "05f69f538d2b4c63a5ffa609137eb5cb",
            "5b4ea7a3ce684c9a8444d4eb4761460b",
            "aaf252401ff74396bd10ab3da075b808",
            "e30de8b9e0f048a69dfe7d56cc1b328d",
            "15a99c9a09244115b24de021bd8a2d2e",
            "73e7dde889c643f18916ec5ba25eae68",
            "c1e3a909d3324016acc61922c92fd078"
          ]
        },
        "execution": {
          "iopub.execute_input": "2022-01-15T10:25:17.911360Z",
          "iopub.status.busy": "2022-01-15T10:25:17.910859Z",
          "iopub.status.idle": "2022-01-15T10:28:30.802857Z",
          "shell.execute_reply": "2022-01-15T10:28:30.801968Z",
          "shell.execute_reply.started": "2022-01-15T10:25:17.911319Z"
        },
        "id": "jKC4FDfyPGqp",
        "outputId": "fd5d147f-98ae-4fa8-cfaf-fb0e4faa23f2",
        "trusted": true
      },
      "outputs": [
        {
          "data": {
            "text/html": [
              "Finishing last run (ID:2ow4king) before initializing another..."
            ],
            "text/plain": [
              "<IPython.core.display.HTML object>"
            ]
          },
          "metadata": {},
          "output_type": "display_data"
        },
        {
          "data": {
            "text/html": [
              "<br/>Waiting for W&B process to finish, PID 195... <strong style=\"color:green\">(success).</strong>"
            ],
            "text/plain": [
              "<IPython.core.display.HTML object>"
            ]
          },
          "metadata": {},
          "output_type": "display_data"
        },
        {
          "data": {
            "application/vnd.jupyter.widget-view+json": {
              "model_id": "4cfbbc6aed2e4036b50091e614c70acd",
              "version_major": 2,
              "version_minor": 0
            },
            "text/plain": [
              "VBox(children=(Label(value=' 3.03MB of 3.03MB uploaded (0.00MB deduped)\\r'), FloatProgress(value=1.0, max=1.0)…"
            ]
          },
          "metadata": {},
          "output_type": "display_data"
        },
        {
          "data": {
            "text/html": [
              "<style>\n",
              "    table.wandb td:nth-child(1) { padding: 0 10px; text-align: right }\n",
              "    .wandb-row { display: flex; flex-direction: row; flex-wrap: wrap; width: 100% }\n",
              "    .wandb-col { display: flex; flex-direction: column; flex-basis: 100%; flex: 1; padding: 10px; }\n",
              "    </style>\n",
              "<div class=\"wandb-row\"><div class=\"wandb-col\">\n",
              "</div><div class=\"wandb-col\">\n",
              "<h3>Run summary:</h3><br/><table class=\"wandb\"><tr><td>Train Accuracy</td><td>0.83018</td></tr><tr><td>Train F1</td><td>0.77674</td></tr><tr><td>Train Loss</td><td>0.61756</td></tr><tr><td>Valid Accuracy</td><td>1</td></tr><tr><td>Valid F1</td><td>1</td></tr><tr><td>Valid Loss</td><td>0.00512</td></tr></table>\n",
              "</div></div>\n",
              "Synced 3 W&B file(s), 0 media file(s), 17 artifact file(s) and 1 other file(s)\n",
              "<br/>Synced <strong style=\"color:#cdcd00\">convnext_small finecutmix</strong>: <a href=\"https://wandb.ai/jiwon7258/lg/runs/2ow4king\" target=\"_blank\">https://wandb.ai/jiwon7258/lg/runs/2ow4king</a><br/>\n",
              "Find logs at: <code>./wandb/run-20220131_224952-2ow4king/logs</code><br/>\n"
            ],
            "text/plain": [
              "<IPython.core.display.HTML object>"
            ]
          },
          "metadata": {},
          "output_type": "display_data"
        },
        {
          "data": {
            "text/html": [
              "Successfully finished last run (ID:2ow4king). Initializing new run:<br/>"
            ],
            "text/plain": [
              "<IPython.core.display.HTML object>"
            ]
          },
          "metadata": {},
          "output_type": "display_data"
        },
        {
          "data": {
            "text/html": [
              "\n",
              "                    Resuming run <strong><a href=\"https://wandb.ai/jiwon7258/lg/runs/2ow4king\" target=\"_blank\">convnext_small finecutmix</a></strong> to <a href=\"https://wandb.ai/jiwon7258/lg\" target=\"_blank\">Weights & Biases</a> (<a href=\"https://docs.wandb.com/integrations/jupyter.html\" target=\"_blank\">docs</a>).<br/>\n",
              "\n",
              "                "
            ],
            "text/plain": [
              "<IPython.core.display.HTML object>"
            ]
          },
          "metadata": {},
          "output_type": "display_data"
        },
        {
          "name": "stderr",
          "output_type": "stream",
          "text": [
            "\u001b[34m\u001b[1mwandb\u001b[0m: Downloading large artifact lg_train:v0, 918.24MB. 17301 files... Done. 0:0:0\n"
          ]
        }
      ],
      "source": [
        "import wandb\n",
        "run = wandb.init(project=\"lg\",\n",
        "                 entity=\"jiwon7258\",\n",
        "                 config=CONFIG,\n",
        "                 job_type='train',\n",
        "                 id='2ow4king',\n",
        "                 resume='must',\n",
        "                 )\n",
        "dataset = wandb.run.use_artifact(\n",
        "    'jiwon7258/lg/lg_train:v0', type='dataset')\n",
        "\n",
        "run.name = CONFIG['nickname']\n",
        "\n",
        "# Download the artifact's contents\n",
        "dataset_dir = dataset.download()\n",
        "dataset_dir = Path(dataset_dir)\n"
      ]
    },
    {
      "cell_type": "code",
      "execution_count": null,
      "metadata": {
        "execution": {
          "iopub.execute_input": "2022-01-15T10:28:30.804754Z",
          "iopub.status.busy": "2022-01-15T10:28:30.804383Z",
          "iopub.status.idle": "2022-01-15T10:28:30.809944Z",
          "shell.execute_reply": "2022-01-15T10:28:30.809259Z",
          "shell.execute_reply.started": "2022-01-15T10:28:30.804698Z"
        },
        "id": "ca-5DetEPGqq",
        "trusted": true
      },
      "outputs": [],
      "source": [
        "TRAIN_PATH = dataset_dir\n",
        "# TEST_PATH = dataset_dir / 'test'"
      ]
    },
    {
      "cell_type": "markdown",
      "metadata": {
        "id": "n-8x5P--PGqr"
      },
      "source": [
        "# Augmentations"
      ]
    },
    {
      "cell_type": "code",
      "execution_count": null,
      "metadata": {
        "execution": {
          "iopub.execute_input": "2022-01-15T10:28:30.813928Z",
          "iopub.status.busy": "2022-01-15T10:28:30.811190Z",
          "iopub.status.idle": "2022-01-15T10:28:30.822155Z",
          "shell.execute_reply": "2022-01-15T10:28:30.821435Z",
          "shell.execute_reply.started": "2022-01-15T10:28:30.813872Z"
        },
        "id": "Qetw9jGjPGqr",
        "trusted": true
      },
      "outputs": [],
      "source": [
        "data_transforms = {\n",
        "    \"train\": A.Compose([\n",
        "        A.Resize(CONFIG['img_size'], CONFIG['img_size']),\n",
        "        A.ShiftScaleRotate(shift_limit=0.1, scale_limit=0.1,\n",
        "                           rotate_limit=90, p=0.5),\n",
        "        A.RGBShift(r_shift_limit=15, g_shift_limit=15,\n",
        "                   b_shift_limit=15, p=0.5),\n",
        "        A.RandomBrightnessContrast(p=0.5),\n",
        "        A.HorizontalFlip(p=0.5),\n",
        "        A.VerticalFlip(p=0.5),\n",
        "        A.Normalize(),\n",
        "        ToTensorV2()], p=1.),\n",
        "\n",
        "    \"valid\": A.Compose([\n",
        "        A.Resize(CONFIG['img_size'], CONFIG['img_size']),\n",
        "        A.Normalize(),\n",
        "        ToTensorV2()], p=1.)\n",
        "}\n"
      ]
    },
    {
      "cell_type": "markdown",
      "metadata": {
        "id": "lF_SM2DGPGqs"
      },
      "source": [
        "# Dataset"
      ]
    },
    {
      "cell_type": "code",
      "execution_count": null,
      "metadata": {
        "execution": {
          "iopub.execute_input": "2022-01-15T10:28:30.825534Z",
          "iopub.status.busy": "2022-01-15T10:28:30.824486Z",
          "iopub.status.idle": "2022-01-15T10:28:31.525603Z",
          "shell.execute_reply": "2022-01-15T10:28:31.524866Z",
          "shell.execute_reply.started": "2022-01-15T10:28:30.825498Z"
        },
        "id": "XW2BnvG6PGqs",
        "trusted": true
      },
      "outputs": [],
      "source": [
        "train_csv = sorted(glob(str(TRAIN_PATH / '*/*.csv')))\n",
        "train_jpg = sorted(glob(str(TRAIN_PATH / '*/*.jpg')))\n",
        "train_json = sorted(glob(str(TRAIN_PATH / '*/*.json')))\n",
        "\n",
        "\n",
        "crops = []\n",
        "diseases = []\n",
        "risks = []\n",
        "labels = []\n",
        "\n",
        "for i in range(len(train_json)):\n",
        "    with open(train_json[i], 'r') as f:\n",
        "        sample = json.load(f)\n",
        "        crop = sample['annotations']['crop']\n",
        "        disease = sample['annotations']['disease']\n",
        "        risk = sample['annotations']['risk']\n",
        "        label=f\"{crop}_{disease}_{risk}\"\n",
        "    \n",
        "        crops.append(crop)\n",
        "        diseases.append(disease)\n",
        "        risks.append(risk)\n",
        "        labels.append(label)\n",
        "        \n",
        "label_unique = sorted(np.unique(labels))\n",
        "label_unique = {key:value for key,value in zip(label_unique, range(len(label_unique)))}\n",
        "\n",
        "train_labels = [label_unique[k] for k in labels] # len = train_len"
      ]
    },
    {
      "cell_type": "code",
      "execution_count": null,
      "metadata": {
        "id": "AIQNMAQ_PGqt"
      },
      "outputs": [],
      "source": [
        "train_jpg = np.array(train_jpg)\n",
        "train_labels = np.array(train_labels)"
      ]
    },
    {
      "cell_type": "code",
      "execution_count": null,
      "metadata": {
        "execution": {
          "iopub.execute_input": "2022-01-15T10:28:31.562715Z",
          "iopub.status.busy": "2022-01-15T10:28:31.562438Z",
          "iopub.status.idle": "2022-01-15T10:28:31.587681Z",
          "shell.execute_reply": "2022-01-15T10:28:31.586382Z",
          "shell.execute_reply.started": "2022-01-15T10:28:31.562681Z"
        },
        "id": "40-6mAVePGqt",
        "trusted": true
      },
      "outputs": [],
      "source": [
        "class CustomDataset(Dataset):\n",
        "    def __init__(self, train_img, train_label, transforms=None):\n",
        "        self.imgs = train_img\n",
        "        self.labels = train_label\n",
        "        self.transforms = transforms\n",
        "        \n",
        "    def __len__(self):\n",
        "        return len(self.imgs)\n",
        "    \n",
        "    def __getitem__(self, index):\n",
        "        img_path = self.imgs[index]\n",
        "        img = cv2.imread(img_path)\n",
        "        img = cv2.cvtColor(img, cv2.COLOR_BGR2RGB)\n",
        "        target = self.labels[index]\n",
        "        \n",
        "        if self.transforms:\n",
        "            img = self.transforms(image=img)[\"image\"]\n",
        "            \n",
        "        return img, target\n",
        "    \n",
        "# trainDataset = CustomDataset(X_train, y_train, transforms = data_transforms['train'])\n",
        "# trainDataloader = DataLoader(\n",
        "#     trainDataset, batch_size=CONFIG['train_batch_size'], shuffle=True)\n",
        "\n",
        "# validDataset = CustomDataset(X_val, y_val, transforms = data_transforms['valid'])\n",
        "# validDataloader = DataLoader(validDataset, batch_size = CONFIG['valid_batch_size'], shuffle = True)"
      ]
    },
    {
      "cell_type": "code",
      "execution_count": null,
      "metadata": {
        "id": "TucH1uf_PGqu"
      },
      "outputs": [],
      "source": [
        "from sklearn.model_selection import StratifiedKFold\n",
        "train_datasets = []\n",
        "valid_datasets = []\n",
        "train_dataloaders = []\n",
        "valid_dataloaders = []\n",
        "\n",
        "skf = StratifiedKFold(n_splits = 5)\n",
        "\n",
        "for step, (train_index, val_index) in enumerate(skf.split(X = train_jpg, y= train_labels)):\n",
        "    X_train = train_jpg[train_index]\n",
        "    y_train = train_labels[train_index]\n",
        "    X_val = train_jpg[val_index]\n",
        "    y_val = train_labels[val_index]\n",
        "    train_datasets.append(CustomDataset(\n",
        "        X_train, y_train, transforms=data_transforms['train']))\n",
        "    valid_datasets.append(CustomDataset(\n",
        "        X_val, y_val, transforms=data_transforms['valid']))\n",
        "    train_dataloaders.append(DataLoader(\n",
        "        train_datasets[step], batch_size=CONFIG['train_batch_size'], shuffle=True)\n",
        "    )\n",
        "    valid_dataloaders.append(\n",
        "        DataLoader(\n",
        "            valid_datasets[step], batch_size=CONFIG['valid_batch_size'], shuffle=True)\n",
        "    )\n"
      ]
    },
    {
      "cell_type": "markdown",
      "metadata": {
        "id": "qquyNic-PGqu"
      },
      "source": [
        "# Model"
      ]
    },
    {
      "cell_type": "code",
      "execution_count": null,
      "metadata": {
        "execution": {
          "iopub.execute_input": "2022-01-15T10:28:31.595710Z",
          "iopub.status.busy": "2022-01-15T10:28:31.592703Z",
          "iopub.status.idle": "2022-01-15T10:29:04.375344Z",
          "shell.execute_reply": "2022-01-15T10:29:04.374595Z",
          "shell.execute_reply.started": "2022-01-15T10:28:31.595662Z"
        },
        "id": "EeRw9VshPGqv",
        "trusted": true
      },
      "outputs": [],
      "source": [
        "class Model(nn.Module):\n",
        "    def __init__(self, backbone, embedder, pretrained=True):\n",
        "        super(Model, self).__init__()\n",
        "        self.backbone = timm.create_model(backbone, pretrained=pretrained)\n",
        "        self.backbone.reset_classifier(0)\n",
        "        self.n_features = self.backbone.num_features\n",
        "        self.fc = nn.Linear(self.n_features, CONFIG['num_classes'])\n",
        "\n",
        "    def forward(self, images):\n",
        "        # features = (bs, embedding_size)\n",
        "        features = self.backbone(images)\n",
        "        # outputs  = (bs, num_classes)\n",
        "        # if isinstance(features, tuple):\n",
        "        #   features = features[0]\n",
        "        output = self.fc(features)\n",
        "        return output\n",
        "\n",
        "\n",
        "model = Model(CONFIG['backbone'], CONFIG['embedder'], pretrained=True)\n",
        "model.to(CONFIG['device']);\n"
      ]
    },
    {
      "cell_type": "code",
      "execution_count": null,
      "metadata": {
        "execution": {
          "iopub.execute_input": "2022-01-15T10:29:04.376696Z",
          "iopub.status.busy": "2022-01-15T10:29:04.376445Z",
          "iopub.status.idle": "2022-01-15T10:29:04.383964Z",
          "shell.execute_reply": "2022-01-15T10:29:04.383287Z",
          "shell.execute_reply.started": "2022-01-15T10:29:04.376660Z"
        },
        "id": "5yml5ZPPPGqv",
        "trusted": true
      },
      "outputs": [],
      "source": [
        "optimizer = torch.optim.Adam(\n",
        "    params=model.parameters(), lr=CONFIG['learning_rate'], weight_decay=CONFIG['weight_decay'])\n"
      ]
    },
    {
      "cell_type": "code",
      "execution_count": null,
      "metadata": {
        "execution": {
          "iopub.execute_input": "2022-01-15T10:29:04.385682Z",
          "iopub.status.busy": "2022-01-15T10:29:04.385257Z",
          "iopub.status.idle": "2022-01-15T10:29:05.537793Z",
          "shell.execute_reply": "2022-01-15T10:29:05.536741Z",
          "shell.execute_reply.started": "2022-01-15T10:29:04.385649Z"
        },
        "id": "iIKSttnGPGqv",
        "trusted": true
      },
      "outputs": [],
      "source": [
        "def criterion(logits: torch.tensor, targets: torch.tensor):\n",
        "    return nn.CrossEntropyLoss()(logits.view(-1,CONFIG['num_classes']), targets.view(-1))"
      ]
    },
    {
      "cell_type": "markdown",
      "metadata": {
        "id": "0_zdYN3bJZ1E"
      },
      "source": [
        "# CutMix"
      ]
    },
    {
      "cell_type": "code",
      "execution_count": null,
      "metadata": {
        "id": "l8XzN0C2UfvH"
      },
      "outputs": [],
      "source": [
        "def cutmix(img, target):\n",
        "    \"\"\" \n",
        "    img : (bs, C, H, W)\n",
        "    target\n",
        "        - (bs,)\n",
        "        - integer scalar\n",
        "    \"\"\"\n",
        "    batch_size, C, H, W, = img.shape\n",
        "    # ic(img.shape)\n",
        "\n",
        "    img_a = img\n",
        "    target_a = target\n",
        "    img_b = img\n",
        "    target_b = target\n",
        "\n",
        "    mask = np.arange(batch_size)\n",
        "    mask = np.random.permutation(mask)\n",
        "    # ic(mask)\n",
        "    img_b = img_a[mask]\n",
        "    target_b = target_a[mask]\n",
        "    # ic(target, target_b)\n",
        "\n",
        "    lam = np.random.uniform(low=0.3, high=0.7)\n",
        "    r_x = np.random.uniform(low=0, high=W)\n",
        "    r_y = np.random.uniform(low=0, high=H)\n",
        "    r_w = W * np.sqrt(1 - lam)\n",
        "    r_h = H * np.sqrt(1 - lam)\n",
        "    ic(lam, r_x, r_y, r_w, r_h)\n",
        "    x1 = np.int(np.clip((r_x - r_w) / 2, 0, W))\n",
        "    x2 = np.int(np.clip((r_x + r_w) / 2, 0, W))\n",
        "    y1 = np.int(np.clip((r_y - r_h) / 2, 0, H))\n",
        "    y2 = np.int(np.clip((r_y + r_h) / 2, 0, H))\n",
        "    ic(x1, x2, y1, y2)\n",
        "\n",
        "    img_a[:, :, y1:y2, x1:x2] = img_b[:, :, y1:y2, x1:x2]\n",
        "\n",
        "    # Adjust lambda to exact ratio\n",
        "\n",
        "    lam = 1 - (x2 - x1) * (y2 - y1) / float(W * H)\n",
        "\n",
        "    return img_a, target_b, lam\n"
      ]
    },
    {
      "cell_type": "markdown",
      "metadata": {
        "id": "cTfsj-Y17H0C"
      },
      "source": [
        "   # Training Function"
      ]
    },
    {
      "cell_type": "code",
      "execution_count": null,
      "metadata": {
        "execution": {
          "iopub.execute_input": "2022-01-15T10:33:47.356814Z",
          "iopub.status.busy": "2022-01-15T10:33:47.356540Z",
          "iopub.status.idle": "2022-01-15T10:33:47.375626Z",
          "shell.execute_reply": "2022-01-15T10:33:47.373734Z",
          "shell.execute_reply.started": "2022-01-15T10:33:47.356781Z"
        },
        "id": "iCswmFhy7H0D",
        "trusted": true
      },
      "outputs": [],
      "source": [
        "class AverageMeter(object):\n",
        "    \"\"\"Computes and stores the average and current value\"\"\"\n",
        "\n",
        "    def __init__(self):\n",
        "        self.reset()\n",
        "\n",
        "    def reset(self):\n",
        "        self.val = 0\n",
        "        self.avg = 0\n",
        "        self.sum = 0\n",
        "        self.count = 0\n",
        "\n",
        "    def update(self, val, n=1):\n",
        "        self.val = val\n",
        "        self.sum += val * n\n",
        "        self.count += n\n",
        "        self.avg = self.sum / self.count\n",
        "\n",
        "\n",
        "def train_one_epoch(model, optimizer, scheduler, dataloader, device, epoch):\n",
        "    # train 모드로 변경\n",
        "    model.train()\n",
        "\n",
        "    # for the Mixed Precision\n",
        "    # Pytorch 예제 : https://pytorch.org/docs/stable/notes/amp_examples.html#amp-examples\n",
        "    if(FP16):\n",
        "        scaler = amp.GradScaler()\n",
        "\n",
        "    losses = AverageMeter()\n",
        "    accuracy = AverageMeter()\n",
        "    f1 = AverageMeter()\n",
        "\n",
        "    bar = tqdm(enumerate(dataloader), total=len(dataloader))\n",
        "\n",
        "    for step, (img, target) in bar:\n",
        "        img, target_b, lam = cutmix(img, target)\n",
        "\n",
        "        img = img.to(device)\n",
        "        target = target.to(device)\n",
        "        target_b = target_b.to(device)\n",
        "\n",
        "        batch_size = img.shape[0]\n",
        "\n",
        "        if(FP16):\n",
        "            with amp.autocast(enabled=True):\n",
        "                logits = model(img)\n",
        "                loss = criterion(logits, target) * lam + \\\n",
        "                    criterion(logits, target_b) * (1-lam)\n",
        "\n",
        "                # loss를 Scale\n",
        "                # Scaled Grdients를 계산(call)하기 위해 scaled loss를 backward()\n",
        "                scaler.scale(loss).backward()\n",
        "                # scaler.step() first unscales the gradients of the optimizer's assigned params.\n",
        "                # If these gradients do not contain infs or NaNs, optimizer.step() is then called,\n",
        "                # otherwise, optimizer.step() is skipped.\n",
        "                scaler.step(optimizer)\n",
        "\n",
        "                # Updates the scale for next iteration.\n",
        "                scaler.update()\n",
        "\n",
        "        else:\n",
        "            logits = model(img)\n",
        "            loss = criterion(logits, target) * lam + \\\n",
        "                criterion(logits, target_b) * (1-lam)\n",
        "\n",
        "            loss.backward()\n",
        "            torch.nn.utils.clip_grad_norm_(model.parameters(), 1)\n",
        "            optimizer.step()\n",
        "\n",
        "        # zero the parameter gradients\n",
        "        optimizer.zero_grad()\n",
        "\n",
        "        # change learning rate by Scheduler\n",
        "        if scheduler is not None:\n",
        "            scheduler.step()\n",
        "\n",
        "        # loss.item()은 loss를 Python Float으로 반환\n",
        "        losses.update(loss.item())\n",
        "\n",
        "        # logits\n",
        "        logits = logits.detach().cpu()\n",
        "\n",
        "        # acc, f1\n",
        "        probs = torch.softmax(logits, dim = -1)\n",
        "        output = np.argmax(probs, axis=-1)\n",
        "        output_b = np.argsort(probs)[:,-2]\n",
        "        if (lam >= 0.5):\n",
        "            step_acc = np.mean(\n",
        "                output.view(-1).numpy() == target.view(-1).detach().cpu().numpy())\n",
        "            step_f1 = f1_score(output.view(-1).numpy(),\n",
        "                               target.view(-1).detach().cpu().numpy(), average='macro')\n",
        "            step_acc_b = np.mean(\n",
        "                output_b.view(-1).numpy() == target_b.view(-1).detach().cpu().numpy())\n",
        "            step_f1_b = f1_score(output_b.view(-1).numpy(),\n",
        "                                 target_b.view(-1).detach().cpu().numpy(), average='macro')\n",
        "        else:\n",
        "            step_acc = np.mean(\n",
        "                output.view(-1).numpy() == target_b.view(-1).detach().cpu().numpy())\n",
        "            step_f1 = f1_score(output.view(-1).numpy(),\n",
        "                               target_b.view(-1).detach().cpu().numpy(), average='macro')\n",
        "            step_acc_b = np.mean(\n",
        "                output_b.view(-1).numpy() == target.view(-1).detach().cpu().numpy())\n",
        "            step_f1_b = f1_score(output_b.view(-1).numpy(),\n",
        "                                 target.view(-1).detach().cpu().numpy(), average='macro')\n",
        "\n",
        "                                 \n",
        "        step_acc = step_acc * lam + step_acc_b * (1-lam)\n",
        "        step_f1 = step_f1 * lam + step_f1_b * (1-lam)\n",
        "\n",
        "        accuracy.update(step_acc)\n",
        "        f1.update(step_f1)\n",
        "\n",
        "        # loss\n",
        "        train_loss = losses.avg\n",
        "        train_acc = accuracy.avg\n",
        "        train_f1 = f1.avg\n",
        "\n",
        "        bar.set_postfix(\n",
        "            Epoch=epoch, Train_Loss=train_loss, LR=optimizer.param_groups[\n",
        "                0][\"lr\"], accuracy=train_acc, f1=train_f1\n",
        "        )\n",
        "\n",
        "    # Garbage Collector\n",
        "    gc.collect()\n",
        "\n",
        "    return losses.avg, accuracy.avg, f1.avg\n"
      ]
    },
    {
      "cell_type": "markdown",
      "metadata": {
        "id": "C5PB19nv7H0D"
      },
      "source": [
        "   # Validation Function"
      ]
    },
    {
      "cell_type": "code",
      "execution_count": null,
      "metadata": {
        "execution": {
          "iopub.execute_input": "2022-01-15T10:33:47.378229Z",
          "iopub.status.busy": "2022-01-15T10:33:47.377682Z",
          "iopub.status.idle": "2022-01-15T10:33:47.393570Z",
          "shell.execute_reply": "2022-01-15T10:33:47.392783Z",
          "shell.execute_reply.started": "2022-01-15T10:33:47.378191Z"
        },
        "id": "aJRJrmiG7H0E",
        "trusted": true
      },
      "outputs": [],
      "source": [
        "@torch.no_grad()\n",
        "def valid_one_epoch(model, dataloader, device, epoch):\n",
        "    model.eval()\n",
        "\n",
        "    losses = AverageMeter()\n",
        "    accuracy = AverageMeter()\n",
        "    f1 = AverageMeter()\n",
        "\n",
        "    bar = tqdm(enumerate(dataloader), total=len(dataloader))\n",
        "\n",
        "    for step, (img, target) in bar:\n",
        "        img = img.to(device)\n",
        "        target = target.to(device)\n",
        "\n",
        "        batch_size = img.shape[0]\n",
        "\n",
        "        logits = model(img)\n",
        "        loss = criterion(logits, target)\n",
        "\n",
        "        # loss.item()은 loss를 Python Float으로 반환\n",
        "        losses.update(loss.item())\n",
        "\n",
        "        # logits\n",
        "        logits = logits.detach().cpu()\n",
        "\n",
        "        output = np.argmax(torch.softmax(logits, dim=-1), axis=-1)\n",
        "        step_acc = np.mean(\n",
        "            output.view(-1).numpy() == target.view(-1).detach().cpu().numpy())\n",
        "        step_f1 = f1_score(output.view(-1).numpy(),\n",
        "                           target.view(-1).detach().cpu().numpy(), average='macro')\n",
        "\n",
        "        accuracy.update(step_acc)\n",
        "        f1.update(step_f1)\n",
        "\n",
        "        # loss\n",
        "        val_loss = losses.avg\n",
        "        val_acc = accuracy.avg\n",
        "        val_f1 = f1.avg\n",
        "\n",
        "        bar.set_postfix(\n",
        "            Epoch=epoch, Valid_Loss=val_loss, LR=optimizer.param_groups[\n",
        "                0][\"lr\"], accuracy=val_acc, f1=val_f1\n",
        "        )\n",
        "\n",
        "    gc.collect()\n",
        "\n",
        "    return losses.avg, accuracy.avg, f1.avg\n"
      ]
    },
    {
      "cell_type": "code",
      "execution_count": null,
      "metadata": {
        "execution": {
          "iopub.execute_input": "2022-01-15T10:33:47.395930Z",
          "iopub.status.busy": "2022-01-15T10:33:47.395337Z",
          "iopub.status.idle": "2022-01-15T10:33:47.415192Z",
          "shell.execute_reply": "2022-01-15T10:33:47.414280Z",
          "shell.execute_reply.started": "2022-01-15T10:33:47.395894Z"
        },
        "id": "kZfD8q3s7H0E",
        "trusted": true
      },
      "outputs": [],
      "source": [
        "\n",
        "def run_training(\n",
        "    model,\n",
        "    optimizer,\n",
        "    scheduler,\n",
        "    device,\n",
        "    num_epochs,\n",
        "    metric_prefix=\"\",\n",
        "    file_prefix=\"\",\n",
        "    early_stopping=True,\n",
        "    early_stopping_step=10,\n",
        "    START_EPOCH = 0,\n",
        "):\n",
        "    # To automatically log graidents\n",
        "    wandb.watch(model, log_freq=100)\n",
        "\n",
        "    if torch.cuda.is_available():\n",
        "        print(\"[INFO] Using GPU:{}\\n\".format(torch.cuda.get_device_name()))\n",
        "\n",
        "    start = time.time()\n",
        "    best_model_wts = copy.deepcopy(model.state_dict())\n",
        "    best_loss = np.inf\n",
        "    history = defaultdict(list)\n",
        "    early_stop_counter = 0\n",
        "\n",
        "    # num_epochs만큼, train과 val을 실행한다\n",
        "    for epoch in range(START_EPOCH, START_EPOCH + num_epochs):\n",
        "        gc.collect()\n",
        "\n",
        "        fold_num = 5\n",
        "        fold = epoch % fold_num\n",
        "\n",
        "        # for fold in range(fold_num) :\n",
        "\n",
        "        trainDataloader = train_dataloaders[fold]\n",
        "        validDataloader = valid_dataloaders[fold]\n",
        "\n",
        "        train_train_loss, train_accuracy, train_f1 = train_one_epoch(\n",
        "            model,\n",
        "            optimizer,\n",
        "            scheduler,\n",
        "            dataloader=trainDataloader,\n",
        "            device=device,\n",
        "            epoch=epoch,\n",
        "        )\n",
        "\n",
        "        val_loss, val_accuracy, val_f1 = valid_one_epoch(\n",
        "            model, validDataloader, device=device, epoch=epoch\n",
        "        )\n",
        "\n",
        "\n",
        "        history[f\"{metric_prefix}Train Loss\"].append(train_train_loss)\n",
        "        history[f\"{metric_prefix}Train Accuracy\"].append(train_accuracy)\n",
        "        history[f\"{metric_prefix}Train F1\"].append(train_f1)\n",
        "        history[f\"{metric_prefix}Valid Loss\"].append(val_loss)\n",
        "        history[f\"{metric_prefix}Valid Accuracy\"].append(val_accuracy)\n",
        "        history[f\"{metric_prefix}Valid F1\"].append(val_f1)\n",
        "\n",
        "        # Log the metrics\n",
        "        wandb.log(\n",
        "            {\n",
        "                f\"{metric_prefix}Train Loss\": train_train_loss,\n",
        "                f\"{metric_prefix}Valid Loss\": val_loss,\n",
        "                f\"{metric_prefix}Train Accuracy\": train_accuracy,\n",
        "                f\"{metric_prefix}Valid Accuracy\": val_accuracy,\n",
        "                f\"{metric_prefix}Train F1\": train_f1,\n",
        "                f\"{metric_prefix}Valid F1\": val_f1,\n",
        "            }\n",
        "        )\n",
        "\n",
        "        print(f\"Valid Loss : {val_loss}\")\n",
        "\n",
        "        torch.save(model.state_dict(), f'{CONFIG[\"nickname\"]}last.bin')\n",
        "        wandb.save(f'{CONFIG[\"nickname\"]}last.bin')\n",
        "\n",
        "        # deep copy the model\n",
        "        if val_loss <= best_loss:\n",
        "            early_stop_counter = 0\n",
        "\n",
        "            print(\n",
        "                f\"Validation Loss improved( {best_loss} ---> {val_loss}  )\"\n",
        "            )\n",
        "\n",
        "            # Update Best Loss\n",
        "            best_loss = val_loss\n",
        "\n",
        "            # Update Best Model Weight\n",
        "            # run.summary['Best RMSE'] = best_loss\n",
        "            best_model_wts = copy.deepcopy(model.state_dict())\n",
        "\n",
        "            PATH = \"{}epoch{:.0f}_Loss{:.4f}.bin\".format(\n",
        "                file_prefix, epoch, best_loss)\n",
        "            torch.save(model.state_dict(), PATH)\n",
        "            # Save a model file from the current directory\n",
        "            wandb.save(PATH)\n",
        "\n",
        "            print(f\"Model Saved\")\n",
        "\n",
        "        elif early_stopping:\n",
        "            early_stop_counter += 1\n",
        "            if early_stop_counter > early_stopping_step:\n",
        "                break\n",
        "\n",
        "        START_EPOCH = epoch + 1\n",
        "        # break\n",
        "\n",
        "    end = time.time()\n",
        "    time_elapsed = end - start\n",
        "    print(\n",
        "        \"Training complete in {:.0f}h {:.0f}m {:.0f}s\".format(\n",
        "            time_elapsed // 3600,\n",
        "            (time_elapsed % 3600) // 60,\n",
        "            (time_elapsed % 3600) % 60,\n",
        "        )\n",
        "    )\n",
        "    print(\"Best Loss: {:.4f}\".format(best_loss))\n",
        "\n",
        "    return model, history\n"
      ]
    },
    {
      "cell_type": "code",
      "execution_count": null,
      "metadata": {
        "colab": {
          "base_uri": "https://localhost:8080/"
        },
        "execution": {
          "iopub.execute_input": "2022-01-15T10:33:47.416354Z",
          "iopub.status.busy": "2022-01-15T10:33:47.416056Z",
          "iopub.status.idle": "2022-01-15T10:33:48.692352Z",
          "shell.execute_reply": "2022-01-15T10:33:48.691550Z",
          "shell.execute_reply.started": "2022-01-15T10:33:47.416328Z"
        },
        "id": "eX2s0GMOPGqy",
        "outputId": "ac15d057-9ff3-438c-fad1-1a5ce4b06cae",
        "trusted": true
      },
      "outputs": [
        {
          "data": {
            "text/plain": [
              "<All keys matched successfully>"
            ]
          },
          "execution_count": 19,
          "metadata": {},
          "output_type": "execute_result"
        }
      ],
      "source": [
        "wandb.restore('epoch73_Loss0.0001.bin', 'jiwon7258/lg/3v4h59j7', root='./')\n",
        "model.load_state_dict(torch.load('epoch73_Loss0.0001.bin',\n",
        "                      map_location=CONFIG['device']))\n"
      ]
    },
    {
      "cell_type": "markdown",
      "metadata": {
        "id": "AdVDFxn6PGqy"
      },
      "source": [
        "# Fast Start : 5 epoch"
      ]
    },
    {
      "cell_type": "code",
      "execution_count": null,
      "metadata": {
        "id": "vMfEjYQFPGqz"
      },
      "outputs": [],
      "source": [
        "for param in model.backbone.named_parameters():\n",
        "    param[1].requires_grad = False"
      ]
    },
    {
      "cell_type": "code",
      "execution_count": null,
      "metadata": {
        "colab": {
          "base_uri": "https://localhost:8080/"
        },
        "execution": {
          "iopub.execute_input": "2022-01-15T10:33:48.694521Z",
          "iopub.status.busy": "2022-01-15T10:33:48.694198Z"
        },
        "id": "DEZO7sK4PGqz",
        "outputId": "68138996-b2d9-4564-829e-279b649cbd7b",
        "trusted": true
      },
      "outputs": [
        {
          "name": "stdout",
          "output_type": "stream",
          "text": [
            "[INFO] Using GPU:Tesla P100-PCIE-16GB\n",
            "\n"
          ]
        },
        {
          "name": "stderr",
          "output_type": "stream",
          "text": [
            "100%|██████████| 289/289 [01:04<00:00,  4.47it/s, Epoch=0, LR=3.93e-6, Train_Loss=1.52, accuracy=0.689, f1=0.59]\n",
            "100%|██████████| 73/73 [00:15<00:00,  4.82it/s, Epoch=0, LR=3.93e-6, Valid_Loss=0.000132, accuracy=1, f1=1]\n"
          ]
        },
        {
          "name": "stdout",
          "output_type": "stream",
          "text": [
            "Valid Loss : 0.00013201242111553918\n",
            "Validation Loss improved( inf ---> 0.00013201242111553918  )\n",
            "Model Saved\n"
          ]
        },
        {
          "name": "stderr",
          "output_type": "stream",
          "text": [
            "100%|██████████| 289/289 [01:06<00:00,  4.34it/s, Epoch=1, LR=8.86e-5, Train_Loss=1.33, accuracy=0.713, f1=0.63]\n",
            "100%|██████████| 73/73 [00:14<00:00,  4.92it/s, Epoch=1, LR=8.86e-5, Valid_Loss=0.000261, accuracy=1, f1=1]\n"
          ]
        },
        {
          "name": "stdout",
          "output_type": "stream",
          "text": [
            "Valid Loss : 0.00026107741045775147\n"
          ]
        },
        {
          "name": "stderr",
          "output_type": "stream",
          "text": [
            "100%|██████████| 289/289 [01:05<00:00,  4.42it/s, Epoch=2, LR=2.53e-5, Train_Loss=1.24, accuracy=0.713, f1=0.632]\n",
            "100%|██████████| 73/73 [00:14<00:00,  4.95it/s, Epoch=2, LR=2.53e-5, Valid_Loss=0.000816, accuracy=1, f1=1]\n"
          ]
        },
        {
          "name": "stdout",
          "output_type": "stream",
          "text": [
            "Valid Loss : 0.00081637861009381\n"
          ]
        },
        {
          "name": "stderr",
          "output_type": "stream",
          "text": [
            "100%|██████████| 289/289 [01:05<00:00,  4.42it/s, Epoch=3, LR=5.98e-5, Train_Loss=1.15, accuracy=0.712, f1=0.632]\n",
            "100%|██████████| 73/73 [00:14<00:00,  4.93it/s, Epoch=3, LR=5.98e-5, Valid_Loss=0.00173, accuracy=1, f1=1]\n"
          ]
        },
        {
          "name": "stdout",
          "output_type": "stream",
          "text": [
            "Valid Loss : 0.001733344968421104\n"
          ]
        },
        {
          "name": "stderr",
          "output_type": "stream",
          "text": [
            "100%|██████████| 289/289 [01:05<00:00,  4.43it/s, Epoch=4, LR=5.82e-5, Train_Loss=1.09, accuracy=0.723, f1=0.644]\n",
            "100%|██████████| 73/73 [00:14<00:00,  4.95it/s, Epoch=4, LR=5.82e-5, Valid_Loss=0.00465, accuracy=1, f1=1]\n"
          ]
        },
        {
          "name": "stdout",
          "output_type": "stream",
          "text": [
            "Valid Loss : 0.004652615048131612\n",
            "Training complete in 0h 6m 47s\n",
            "Best Loss: 0.0001\n"
          ]
        }
      ],
      "source": [
        "ic.disable()\n",
        "run_training(\n",
        "    model=model,\n",
        "    optimizer=optimizer,\n",
        "    scheduler=torch.optim.lr_scheduler.CosineAnnealingLR(\n",
        "        optimizer=optimizer, T_max=CONFIG['T_max'], eta_min=CONFIG['min_lr']),\n",
        "    device=device,\n",
        "    num_epochs=5,\n",
        "    metric_prefix=\"\",\n",
        "    file_prefix=\"\",\n",
        "    early_stopping=CONFIG['early_stopping'],\n",
        "    early_stopping_step=CONFIG['early_stopping_step'],\n",
        "    START_EPOCH=0,\n",
        ");\n"
      ]
    },
    {
      "cell_type": "markdown",
      "metadata": {
        "id": "pDi14R3uPGqz"
      },
      "source": [
        "# 100 epochs"
      ]
    },
    {
      "cell_type": "code",
      "execution_count": null,
      "metadata": {
        "id": "Ae1QgOXSPGqz"
      },
      "outputs": [],
      "source": [
        "for param in model.backbone.named_parameters():\n",
        "    param[1].requires_grad = True\n"
      ]
    },
    {
      "cell_type": "code",
      "execution_count": null,
      "metadata": {
        "id": "L5G3qhmFPGqz"
      },
      "outputs": [],
      "source": [
        "optimizer = torch.optim.Adam(\n",
        "    params=model.parameters(), lr=1e-6, weight_decay=CONFIG['weight_decay'])"
      ]
    },
    {
      "cell_type": "code",
      "execution_count": null,
      "metadata": {
        "colab": {
          "base_uri": "https://localhost:8080/"
        },
        "id": "dKXcxeLEPGq0",
        "outputId": "ed7a590c-aefd-422b-dda8-fa4d44f9cf97"
      },
      "outputs": [
        {
          "name": "stdout",
          "output_type": "stream",
          "text": [
            "[INFO] Using GPU:Tesla P100-PCIE-16GB\n",
            "\n"
          ]
        },
        {
          "name": "stderr",
          "output_type": "stream",
          "text": [
            "100%|██████████| 289/289 [03:06<00:00,  1.55it/s, Epoch=0, LR=1e-6, Train_Loss=0.987, accuracy=0.715, f1=0.634]\n",
            "100%|██████████| 73/73 [00:14<00:00,  4.95it/s, Epoch=0, LR=1e-6, Valid_Loss=0.0055, accuracy=1, f1=1]\n"
          ]
        },
        {
          "name": "stdout",
          "output_type": "stream",
          "text": [
            "Valid Loss : 0.005503387372200824\n",
            "Validation Loss improved( inf ---> 0.005503387372200824  )\n",
            "Model Saved\n"
          ]
        },
        {
          "name": "stderr",
          "output_type": "stream",
          "text": [
            "100%|██████████| 289/289 [03:10<00:00,  1.51it/s, Epoch=1, LR=1e-6, Train_Loss=0.921, accuracy=0.71, f1=0.629]\n",
            "100%|██████████| 73/73 [00:15<00:00,  4.83it/s, Epoch=1, LR=1e-6, Valid_Loss=0.00732, accuracy=1, f1=1]\n"
          ]
        },
        {
          "name": "stdout",
          "output_type": "stream",
          "text": [
            "Valid Loss : 0.0073220986834637925\n"
          ]
        },
        {
          "name": "stderr",
          "output_type": "stream",
          "text": [
            "100%|██████████| 289/289 [03:08<00:00,  1.54it/s, Epoch=2, LR=1e-6, Train_Loss=0.919, accuracy=0.691, f1=0.604]\n",
            "100%|██████████| 73/73 [00:14<00:00,  4.90it/s, Epoch=2, LR=1e-6, Valid_Loss=0.00807, accuracy=1, f1=1]\n"
          ]
        },
        {
          "name": "stdout",
          "output_type": "stream",
          "text": [
            "Valid Loss : 0.00806648347348179\n"
          ]
        },
        {
          "name": "stderr",
          "output_type": "stream",
          "text": [
            "100%|██████████| 289/289 [03:08<00:00,  1.53it/s, Epoch=3, LR=1e-6, Train_Loss=0.895, accuracy=0.705, f1=0.627]\n",
            "100%|██████████| 73/73 [00:15<00:00,  4.85it/s, Epoch=3, LR=1e-6, Valid_Loss=0.00807, accuracy=1, f1=1]\n"
          ]
        },
        {
          "name": "stdout",
          "output_type": "stream",
          "text": [
            "Valid Loss : 0.00807408781798735\n"
          ]
        },
        {
          "name": "stderr",
          "output_type": "stream",
          "text": [
            "100%|██████████| 289/289 [03:09<00:00,  1.53it/s, Epoch=4, LR=1e-6, Train_Loss=0.892, accuracy=0.693, f1=0.611]\n",
            "100%|██████████| 73/73 [00:14<00:00,  4.89it/s, Epoch=4, LR=1e-6, Valid_Loss=0.008, accuracy=1, f1=1]\n"
          ]
        },
        {
          "name": "stdout",
          "output_type": "stream",
          "text": [
            "Valid Loss : 0.007995505842750203\n"
          ]
        },
        {
          "name": "stderr",
          "output_type": "stream",
          "text": [
            "100%|██████████| 289/289 [03:09<00:00,  1.53it/s, Epoch=5, LR=1e-6, Train_Loss=0.886, accuracy=0.697, f1=0.617]\n",
            "100%|██████████| 73/73 [00:14<00:00,  4.87it/s, Epoch=5, LR=1e-6, Valid_Loss=0.00853, accuracy=1, f1=1]\n"
          ]
        },
        {
          "name": "stdout",
          "output_type": "stream",
          "text": [
            "Valid Loss : 0.008534790227215176\n"
          ]
        },
        {
          "name": "stderr",
          "output_type": "stream",
          "text": [
            "100%|██████████| 289/289 [03:08<00:00,  1.53it/s, Epoch=6, LR=1e-6, Train_Loss=0.873, accuracy=0.714, f1=0.632]\n",
            "100%|██████████| 73/73 [00:14<00:00,  4.88it/s, Epoch=6, LR=1e-6, Valid_Loss=0.00868, accuracy=1, f1=1]\n"
          ]
        },
        {
          "name": "stdout",
          "output_type": "stream",
          "text": [
            "Valid Loss : 0.008675283159142079\n"
          ]
        },
        {
          "name": "stderr",
          "output_type": "stream",
          "text": [
            "100%|██████████| 289/289 [03:08<00:00,  1.53it/s, Epoch=7, LR=1e-6, Train_Loss=0.869, accuracy=0.697, f1=0.615]\n",
            "100%|██████████| 73/73 [00:14<00:00,  4.91it/s, Epoch=7, LR=1e-6, Valid_Loss=0.0086, accuracy=1, f1=1]\n"
          ]
        },
        {
          "name": "stdout",
          "output_type": "stream",
          "text": [
            "Valid Loss : 0.008601473102167453\n"
          ]
        },
        {
          "name": "stderr",
          "output_type": "stream",
          "text": [
            "100%|██████████| 289/289 [03:08<00:00,  1.53it/s, Epoch=8, LR=1e-6, Train_Loss=0.863, accuracy=0.7, f1=0.618]\n",
            "100%|██████████| 73/73 [00:14<00:00,  4.87it/s, Epoch=8, LR=1e-6, Valid_Loss=0.00927, accuracy=1, f1=1]\n"
          ]
        },
        {
          "name": "stdout",
          "output_type": "stream",
          "text": [
            "Valid Loss : 0.00926689319759097\n"
          ]
        },
        {
          "name": "stderr",
          "output_type": "stream",
          "text": [
            "100%|██████████| 289/289 [03:08<00:00,  1.53it/s, Epoch=9, LR=1e-6, Train_Loss=0.843, accuracy=0.708, f1=0.631]\n",
            "100%|██████████| 73/73 [00:15<00:00,  4.86it/s, Epoch=9, LR=1e-6, Valid_Loss=0.00902, accuracy=1, f1=1]\n"
          ]
        },
        {
          "name": "stdout",
          "output_type": "stream",
          "text": [
            "Valid Loss : 0.00901887208631594\n"
          ]
        },
        {
          "name": "stderr",
          "output_type": "stream",
          "text": [
            "100%|██████████| 289/289 [03:08<00:00,  1.53it/s, Epoch=10, LR=1e-6, Train_Loss=0.841, accuracy=0.717, f1=0.634]\n",
            "100%|██████████| 73/73 [00:14<00:00,  4.89it/s, Epoch=10, LR=1e-6, Valid_Loss=0.00929, accuracy=1, f1=1]\n"
          ]
        },
        {
          "name": "stdout",
          "output_type": "stream",
          "text": [
            "Valid Loss : 0.009292614703666265\n"
          ]
        },
        {
          "name": "stderr",
          "output_type": "stream",
          "text": [
            "100%|██████████| 289/289 [03:08<00:00,  1.53it/s, Epoch=11, LR=1e-6, Train_Loss=0.839, accuracy=0.713, f1=0.634]\n",
            "100%|██████████| 73/73 [00:14<00:00,  4.89it/s, Epoch=11, LR=1e-6, Valid_Loss=0.00888, accuracy=1, f1=1]\n"
          ]
        },
        {
          "name": "stdout",
          "output_type": "stream",
          "text": [
            "Valid Loss : 0.008884673963670861\n"
          ]
        },
        {
          "name": "stderr",
          "output_type": "stream",
          "text": [
            "100%|██████████| 289/289 [03:08<00:00,  1.54it/s, Epoch=12, LR=1e-6, Train_Loss=0.819, accuracy=0.731, f1=0.652]\n",
            "100%|██████████| 73/73 [00:14<00:00,  4.89it/s, Epoch=12, LR=1e-6, Valid_Loss=0.00929, accuracy=1, f1=1]\n"
          ]
        },
        {
          "name": "stdout",
          "output_type": "stream",
          "text": [
            "Valid Loss : 0.009286143542713907\n"
          ]
        },
        {
          "name": "stderr",
          "output_type": "stream",
          "text": [
            "100%|██████████| 289/289 [03:08<00:00,  1.53it/s, Epoch=13, LR=1e-6, Train_Loss=0.816, accuracy=0.726, f1=0.654]\n",
            "100%|██████████| 73/73 [00:14<00:00,  4.90it/s, Epoch=13, LR=1e-6, Valid_Loss=0.00931, accuracy=1, f1=1]\n"
          ]
        },
        {
          "name": "stdout",
          "output_type": "stream",
          "text": [
            "Valid Loss : 0.009306174071429118\n"
          ]
        },
        {
          "name": "stderr",
          "output_type": "stream",
          "text": [
            "100%|██████████| 289/289 [03:08<00:00,  1.53it/s, Epoch=14, LR=1e-6, Train_Loss=0.833, accuracy=0.72, f1=0.639]\n",
            "100%|██████████| 73/73 [00:14<00:00,  4.89it/s, Epoch=14, LR=1e-6, Valid_Loss=0.0092, accuracy=1, f1=1]\n"
          ]
        },
        {
          "name": "stdout",
          "output_type": "stream",
          "text": [
            "Valid Loss : 0.009195900209605286\n"
          ]
        },
        {
          "name": "stderr",
          "output_type": "stream",
          "text": [
            "100%|██████████| 289/289 [03:08<00:00,  1.53it/s, Epoch=15, LR=1e-6, Train_Loss=0.827, accuracy=0.696, f1=0.608]\n",
            "100%|██████████| 73/73 [00:14<00:00,  4.88it/s, Epoch=15, LR=1e-6, Valid_Loss=0.01, accuracy=1, f1=1]\n"
          ]
        },
        {
          "name": "stdout",
          "output_type": "stream",
          "text": [
            "Valid Loss : 0.010031137258222658\n"
          ]
        },
        {
          "name": "stderr",
          "output_type": "stream",
          "text": [
            "100%|██████████| 289/289 [03:08<00:00,  1.53it/s, Epoch=16, LR=1e-6, Train_Loss=0.811, accuracy=0.726, f1=0.648]\n",
            "100%|██████████| 73/73 [00:14<00:00,  4.90it/s, Epoch=16, LR=1e-6, Valid_Loss=0.00932, accuracy=1, f1=1]\n"
          ]
        },
        {
          "name": "stdout",
          "output_type": "stream",
          "text": [
            "Valid Loss : 0.009321092238828335\n"
          ]
        },
        {
          "name": "stderr",
          "output_type": "stream",
          "text": [
            "100%|██████████| 289/289 [03:08<00:00,  1.53it/s, Epoch=17, LR=1e-6, Train_Loss=0.801, accuracy=0.726, f1=0.646]\n",
            "100%|██████████| 73/73 [00:14<00:00,  4.89it/s, Epoch=17, LR=1e-6, Valid_Loss=0.0102, accuracy=1, f1=1]\n"
          ]
        },
        {
          "name": "stdout",
          "output_type": "stream",
          "text": [
            "Valid Loss : 0.01016216228830896\n"
          ]
        },
        {
          "name": "stderr",
          "output_type": "stream",
          "text": [
            "100%|██████████| 289/289 [03:08<00:00,  1.53it/s, Epoch=18, LR=1e-6, Train_Loss=0.81, accuracy=0.719, f1=0.643]\n",
            "100%|██████████| 73/73 [00:14<00:00,  4.87it/s, Epoch=18, LR=1e-6, Valid_Loss=0.0102, accuracy=1, f1=1]\n"
          ]
        },
        {
          "name": "stdout",
          "output_type": "stream",
          "text": [
            "Valid Loss : 0.010234731032627903\n"
          ]
        },
        {
          "name": "stderr",
          "output_type": "stream",
          "text": [
            "100%|██████████| 289/289 [03:08<00:00,  1.53it/s, Epoch=19, LR=1e-6, Train_Loss=0.791, accuracy=0.74, f1=0.666]\n",
            "100%|██████████| 73/73 [00:14<00:00,  4.90it/s, Epoch=19, LR=1e-6, Valid_Loss=0.0107, accuracy=1, f1=1]\n"
          ]
        },
        {
          "name": "stdout",
          "output_type": "stream",
          "text": [
            "Valid Loss : 0.010747446378769532\n"
          ]
        },
        {
          "name": "stderr",
          "output_type": "stream",
          "text": [
            "100%|██████████| 289/289 [03:08<00:00,  1.53it/s, Epoch=20, LR=1e-6, Train_Loss=0.799, accuracy=0.733, f1=0.652]\n",
            "100%|██████████| 73/73 [00:14<00:00,  4.89it/s, Epoch=20, LR=1e-6, Valid_Loss=0.0116, accuracy=1, f1=1]\n"
          ]
        },
        {
          "name": "stdout",
          "output_type": "stream",
          "text": [
            "Valid Loss : 0.011647433514566454\n"
          ]
        },
        {
          "name": "stderr",
          "output_type": "stream",
          "text": [
            "100%|██████████| 289/289 [03:08<00:00,  1.54it/s, Epoch=21, LR=1e-6, Train_Loss=0.786, accuracy=0.742, f1=0.668]\n",
            "100%|██████████| 73/73 [00:14<00:00,  4.89it/s, Epoch=21, LR=1e-6, Valid_Loss=0.0102, accuracy=1, f1=1]\n"
          ]
        },
        {
          "name": "stdout",
          "output_type": "stream",
          "text": [
            "Valid Loss : 0.01016677380858423\n"
          ]
        },
        {
          "name": "stderr",
          "output_type": "stream",
          "text": [
            "100%|██████████| 289/289 [03:08<00:00,  1.53it/s, Epoch=22, LR=1e-6, Train_Loss=0.807, accuracy=0.733, f1=0.656]\n",
            "100%|██████████| 73/73 [00:14<00:00,  4.88it/s, Epoch=22, LR=1e-6, Valid_Loss=0.0108, accuracy=1, f1=1]\n"
          ]
        },
        {
          "name": "stdout",
          "output_type": "stream",
          "text": [
            "Valid Loss : 0.010811450559492798\n"
          ]
        },
        {
          "name": "stderr",
          "output_type": "stream",
          "text": [
            "100%|██████████| 289/289 [03:09<00:00,  1.53it/s, Epoch=23, LR=1e-6, Train_Loss=0.783, accuracy=0.729, f1=0.657]\n",
            "100%|██████████| 73/73 [00:14<00:00,  4.88it/s, Epoch=23, LR=1e-6, Valid_Loss=0.0107, accuracy=1, f1=1]\n"
          ]
        },
        {
          "name": "stdout",
          "output_type": "stream",
          "text": [
            "Valid Loss : 0.010732565547199282\n"
          ]
        },
        {
          "name": "stderr",
          "output_type": "stream",
          "text": [
            "100%|██████████| 289/289 [03:08<00:00,  1.53it/s, Epoch=24, LR=1e-6, Train_Loss=0.785, accuracy=0.72, f1=0.643]\n",
            "100%|██████████| 73/73 [00:14<00:00,  4.90it/s, Epoch=24, LR=1e-6, Valid_Loss=0.011, accuracy=1, f1=1]\n"
          ]
        },
        {
          "name": "stdout",
          "output_type": "stream",
          "text": [
            "Valid Loss : 0.010956923821813439\n"
          ]
        },
        {
          "name": "stderr",
          "output_type": "stream",
          "text": [
            "100%|██████████| 289/289 [03:08<00:00,  1.53it/s, Epoch=25, LR=1e-6, Train_Loss=0.785, accuracy=0.733, f1=0.653]\n",
            "100%|██████████| 73/73 [00:14<00:00,  4.88it/s, Epoch=25, LR=1e-6, Valid_Loss=0.0109, accuracy=1, f1=1]\n"
          ]
        },
        {
          "name": "stdout",
          "output_type": "stream",
          "text": [
            "Valid Loss : 0.010936528999256352\n"
          ]
        },
        {
          "name": "stderr",
          "output_type": "stream",
          "text": [
            "100%|██████████| 289/289 [03:08<00:00,  1.53it/s, Epoch=26, LR=1e-6, Train_Loss=0.787, accuracy=0.722, f1=0.647]\n",
            "100%|██████████| 73/73 [00:14<00:00,  4.87it/s, Epoch=26, LR=1e-6, Valid_Loss=0.0104, accuracy=1, f1=1]\n"
          ]
        },
        {
          "name": "stdout",
          "output_type": "stream",
          "text": [
            "Valid Loss : 0.010424431547369451\n"
          ]
        },
        {
          "name": "stderr",
          "output_type": "stream",
          "text": [
            "100%|██████████| 289/289 [03:08<00:00,  1.53it/s, Epoch=27, LR=1e-6, Train_Loss=0.772, accuracy=0.737, f1=0.664]\n",
            "100%|██████████| 73/73 [00:14<00:00,  4.87it/s, Epoch=27, LR=1e-6, Valid_Loss=0.0107, accuracy=1, f1=1]\n"
          ]
        },
        {
          "name": "stdout",
          "output_type": "stream",
          "text": [
            "Valid Loss : 0.010685665086422064\n"
          ]
        },
        {
          "name": "stderr",
          "output_type": "stream",
          "text": [
            "100%|██████████| 289/289 [03:08<00:00,  1.53it/s, Epoch=28, LR=1e-6, Train_Loss=0.779, accuracy=0.734, f1=0.655]\n",
            "100%|██████████| 73/73 [00:14<00:00,  4.87it/s, Epoch=28, LR=1e-6, Valid_Loss=0.011, accuracy=1, f1=1]\n"
          ]
        },
        {
          "name": "stdout",
          "output_type": "stream",
          "text": [
            "Valid Loss : 0.010997273053412568\n"
          ]
        },
        {
          "name": "stderr",
          "output_type": "stream",
          "text": [
            "100%|██████████| 289/289 [03:08<00:00,  1.53it/s, Epoch=29, LR=1e-6, Train_Loss=0.775, accuracy=0.727, f1=0.654]\n",
            "100%|██████████| 73/73 [00:14<00:00,  4.89it/s, Epoch=29, LR=1e-6, Valid_Loss=0.0107, accuracy=1, f1=1]\n"
          ]
        },
        {
          "name": "stdout",
          "output_type": "stream",
          "text": [
            "Valid Loss : 0.010748016915909231\n"
          ]
        },
        {
          "name": "stderr",
          "output_type": "stream",
          "text": [
            "100%|██████████| 289/289 [03:08<00:00,  1.53it/s, Epoch=30, LR=1e-6, Train_Loss=0.77, accuracy=0.743, f1=0.67]\n",
            "100%|██████████| 73/73 [00:14<00:00,  4.88it/s, Epoch=30, LR=1e-6, Valid_Loss=0.0114, accuracy=1, f1=1]\n"
          ]
        },
        {
          "name": "stdout",
          "output_type": "stream",
          "text": [
            "Valid Loss : 0.0113798806073833\n"
          ]
        },
        {
          "name": "stderr",
          "output_type": "stream",
          "text": [
            "100%|██████████| 289/289 [03:09<00:00,  1.53it/s, Epoch=31, LR=1e-6, Train_Loss=0.775, accuracy=0.738, f1=0.663]\n",
            "100%|██████████| 73/73 [00:15<00:00,  4.86it/s, Epoch=31, LR=1e-6, Valid_Loss=0.0104, accuracy=1, f1=1]\n"
          ]
        },
        {
          "name": "stdout",
          "output_type": "stream",
          "text": [
            "Valid Loss : 0.010390408171264276\n"
          ]
        },
        {
          "name": "stderr",
          "output_type": "stream",
          "text": [
            "100%|██████████| 289/289 [03:08<00:00,  1.53it/s, Epoch=32, LR=1e-6, Train_Loss=0.761, accuracy=0.744, f1=0.672]\n",
            "100%|██████████| 73/73 [00:15<00:00,  4.86it/s, Epoch=32, LR=1e-6, Valid_Loss=0.0111, accuracy=1, f1=1]\n"
          ]
        },
        {
          "name": "stdout",
          "output_type": "stream",
          "text": [
            "Valid Loss : 0.011091824566741309\n"
          ]
        },
        {
          "name": "stderr",
          "output_type": "stream",
          "text": [
            "100%|██████████| 289/289 [03:09<00:00,  1.53it/s, Epoch=33, LR=1e-6, Train_Loss=0.752, accuracy=0.744, f1=0.671]\n",
            "100%|██████████| 73/73 [00:14<00:00,  4.87it/s, Epoch=33, LR=1e-6, Valid_Loss=0.0111, accuracy=1, f1=1]\n"
          ]
        },
        {
          "name": "stdout",
          "output_type": "stream",
          "text": [
            "Valid Loss : 0.01107134327471052\n"
          ]
        },
        {
          "name": "stderr",
          "output_type": "stream",
          "text": [
            "100%|██████████| 289/289 [03:09<00:00,  1.53it/s, Epoch=34, LR=1e-6, Train_Loss=0.753, accuracy=0.746, f1=0.672]\n",
            "100%|██████████| 73/73 [00:15<00:00,  4.84it/s, Epoch=34, LR=1e-6, Valid_Loss=0.0116, accuracy=1, f1=1]\n"
          ]
        },
        {
          "name": "stdout",
          "output_type": "stream",
          "text": [
            "Valid Loss : 0.01164332345727678\n"
          ]
        },
        {
          "name": "stderr",
          "output_type": "stream",
          "text": [
            "100%|██████████| 289/289 [03:08<00:00,  1.53it/s, Epoch=35, LR=1e-6, Train_Loss=0.75, accuracy=0.765, f1=0.689]\n",
            "100%|██████████| 73/73 [00:14<00:00,  4.92it/s, Epoch=35, LR=1e-6, Valid_Loss=0.0119, accuracy=1, f1=1]\n"
          ]
        },
        {
          "name": "stdout",
          "output_type": "stream",
          "text": [
            "Valid Loss : 0.01191809515736691\n"
          ]
        },
        {
          "name": "stderr",
          "output_type": "stream",
          "text": [
            "100%|██████████| 289/289 [03:08<00:00,  1.53it/s, Epoch=36, LR=1e-6, Train_Loss=0.755, accuracy=0.754, f1=0.677]\n",
            "100%|██████████| 73/73 [00:15<00:00,  4.81it/s, Epoch=36, LR=1e-6, Valid_Loss=0.0107, accuracy=1, f1=1]\n"
          ]
        },
        {
          "name": "stdout",
          "output_type": "stream",
          "text": [
            "Valid Loss : 0.010690403611029256\n"
          ]
        },
        {
          "name": "stderr",
          "output_type": "stream",
          "text": [
            "100%|██████████| 289/289 [03:09<00:00,  1.52it/s, Epoch=37, LR=1e-6, Train_Loss=0.754, accuracy=0.739, f1=0.664]\n",
            "100%|██████████| 73/73 [00:14<00:00,  4.91it/s, Epoch=37, LR=1e-6, Valid_Loss=0.0113, accuracy=0.999, f1=0.998]\n"
          ]
        },
        {
          "name": "stdout",
          "output_type": "stream",
          "text": [
            "Valid Loss : 0.011312952035502212\n"
          ]
        },
        {
          "name": "stderr",
          "output_type": "stream",
          "text": [
            "100%|██████████| 289/289 [03:08<00:00,  1.53it/s, Epoch=38, LR=1e-6, Train_Loss=0.746, accuracy=0.754, f1=0.688]\n",
            "100%|██████████| 73/73 [00:14<00:00,  4.91it/s, Epoch=38, LR=1e-6, Valid_Loss=0.0105, accuracy=1, f1=1]\n"
          ]
        },
        {
          "name": "stdout",
          "output_type": "stream",
          "text": [
            "Valid Loss : 0.010543198082340907\n"
          ]
        },
        {
          "name": "stderr",
          "output_type": "stream",
          "text": [
            "100%|██████████| 289/289 [03:08<00:00,  1.53it/s, Epoch=39, LR=1e-6, Train_Loss=0.745, accuracy=0.76, f1=0.688]\n",
            "100%|██████████| 73/73 [00:14<00:00,  4.88it/s, Epoch=39, LR=1e-6, Valid_Loss=0.0117, accuracy=1, f1=1]\n"
          ]
        },
        {
          "name": "stdout",
          "output_type": "stream",
          "text": [
            "Valid Loss : 0.01173678777269917\n"
          ]
        },
        {
          "name": "stderr",
          "output_type": "stream",
          "text": [
            "100%|██████████| 289/289 [03:08<00:00,  1.53it/s, Epoch=40, LR=1e-6, Train_Loss=0.739, accuracy=0.747, f1=0.672]\n",
            "100%|██████████| 73/73 [00:14<00:00,  4.89it/s, Epoch=40, LR=1e-6, Valid_Loss=0.0115, accuracy=1, f1=1]\n"
          ]
        },
        {
          "name": "stdout",
          "output_type": "stream",
          "text": [
            "Valid Loss : 0.011529787532883147\n"
          ]
        },
        {
          "name": "stderr",
          "output_type": "stream",
          "text": [
            "100%|██████████| 289/289 [03:08<00:00,  1.53it/s, Epoch=41, LR=1e-6, Train_Loss=0.737, accuracy=0.736, f1=0.667]\n",
            "100%|██████████| 73/73 [00:14<00:00,  4.89it/s, Epoch=41, LR=1e-6, Valid_Loss=0.0107, accuracy=1, f1=1]\n"
          ]
        },
        {
          "name": "stdout",
          "output_type": "stream",
          "text": [
            "Valid Loss : 0.010701035755393032\n"
          ]
        },
        {
          "name": "stderr",
          "output_type": "stream",
          "text": [
            "100%|██████████| 289/289 [03:08<00:00,  1.53it/s, Epoch=42, LR=1e-6, Train_Loss=0.733, accuracy=0.761, f1=0.692]\n",
            "100%|██████████| 73/73 [00:14<00:00,  4.87it/s, Epoch=42, LR=1e-6, Valid_Loss=0.0114, accuracy=1, f1=1]\n"
          ]
        },
        {
          "name": "stdout",
          "output_type": "stream",
          "text": [
            "Valid Loss : 0.011387650593349787\n"
          ]
        },
        {
          "name": "stderr",
          "output_type": "stream",
          "text": [
            "100%|██████████| 289/289 [03:08<00:00,  1.53it/s, Epoch=43, LR=1e-6, Train_Loss=0.722, accuracy=0.754, f1=0.684]\n",
            "100%|██████████| 73/73 [00:14<00:00,  4.89it/s, Epoch=43, LR=1e-6, Valid_Loss=0.0111, accuracy=1, f1=1]\n"
          ]
        },
        {
          "name": "stdout",
          "output_type": "stream",
          "text": [
            "Valid Loss : 0.011112690756531202\n"
          ]
        },
        {
          "name": "stderr",
          "output_type": "stream",
          "text": [
            "100%|██████████| 289/289 [03:08<00:00,  1.53it/s, Epoch=44, LR=1e-6, Train_Loss=0.724, accuracy=0.759, f1=0.687]\n",
            "100%|██████████| 73/73 [00:14<00:00,  4.88it/s, Epoch=44, LR=1e-6, Valid_Loss=0.0112, accuracy=1, f1=1]\n"
          ]
        },
        {
          "name": "stdout",
          "output_type": "stream",
          "text": [
            "Valid Loss : 0.011241382203217952\n"
          ]
        },
        {
          "name": "stderr",
          "output_type": "stream",
          "text": [
            "100%|██████████| 289/289 [03:08<00:00,  1.53it/s, Epoch=45, LR=1e-6, Train_Loss=0.727, accuracy=0.757, f1=0.684]\n",
            "100%|██████████| 73/73 [00:15<00:00,  4.85it/s, Epoch=45, LR=1e-6, Valid_Loss=0.0118, accuracy=1, f1=1]\n"
          ]
        },
        {
          "name": "stdout",
          "output_type": "stream",
          "text": [
            "Valid Loss : 0.011784971245143511\n"
          ]
        },
        {
          "name": "stderr",
          "output_type": "stream",
          "text": [
            "100%|██████████| 289/289 [03:08<00:00,  1.53it/s, Epoch=46, LR=1e-6, Train_Loss=0.731, accuracy=0.761, f1=0.687]\n",
            "100%|██████████| 73/73 [00:14<00:00,  4.89it/s, Epoch=46, LR=1e-6, Valid_Loss=0.0108, accuracy=1, f1=1]\n"
          ]
        },
        {
          "name": "stdout",
          "output_type": "stream",
          "text": [
            "Valid Loss : 0.010771336218929046\n"
          ]
        },
        {
          "name": "stderr",
          "output_type": "stream",
          "text": [
            "100%|██████████| 289/289 [03:08<00:00,  1.53it/s, Epoch=47, LR=1e-6, Train_Loss=0.731, accuracy=0.766, f1=0.699]\n",
            "100%|██████████| 73/73 [00:14<00:00,  4.87it/s, Epoch=47, LR=1e-6, Valid_Loss=0.0115, accuracy=1, f1=1]\n"
          ]
        },
        {
          "name": "stdout",
          "output_type": "stream",
          "text": [
            "Valid Loss : 0.011475101448212788\n"
          ]
        },
        {
          "name": "stderr",
          "output_type": "stream",
          "text": [
            "100%|██████████| 289/289 [03:08<00:00,  1.53it/s, Epoch=48, LR=1e-6, Train_Loss=0.732, accuracy=0.752, f1=0.684]\n",
            "100%|██████████| 73/73 [00:14<00:00,  4.88it/s, Epoch=48, LR=1e-6, Valid_Loss=0.0113, accuracy=1, f1=1]\n"
          ]
        },
        {
          "name": "stdout",
          "output_type": "stream",
          "text": [
            "Valid Loss : 0.011349052044065439\n"
          ]
        },
        {
          "name": "stderr",
          "output_type": "stream",
          "text": [
            "100%|██████████| 289/289 [03:08<00:00,  1.53it/s, Epoch=49, LR=1e-6, Train_Loss=0.734, accuracy=0.768, f1=0.699]\n",
            "100%|██████████| 73/73 [00:14<00:00,  4.87it/s, Epoch=49, LR=1e-6, Valid_Loss=0.0113, accuracy=0.999, f1=0.999]\n"
          ]
        },
        {
          "name": "stdout",
          "output_type": "stream",
          "text": [
            "Valid Loss : 0.011301167022232732\n"
          ]
        },
        {
          "name": "stderr",
          "output_type": "stream",
          "text": [
            "100%|██████████| 289/289 [03:08<00:00,  1.54it/s, Epoch=50, LR=1e-6, Train_Loss=0.724, accuracy=0.756, f1=0.683]\n",
            "100%|██████████| 73/73 [00:14<00:00,  4.91it/s, Epoch=50, LR=1e-6, Valid_Loss=0.0119, accuracy=1, f1=1]\n"
          ]
        },
        {
          "name": "stdout",
          "output_type": "stream",
          "text": [
            "Valid Loss : 0.011917379455105083\n"
          ]
        },
        {
          "name": "stderr",
          "output_type": "stream",
          "text": [
            "100%|██████████| 289/289 [03:07<00:00,  1.54it/s, Epoch=51, LR=1e-6, Train_Loss=0.723, accuracy=0.758, f1=0.689]\n",
            "100%|██████████| 73/73 [00:14<00:00,  4.91it/s, Epoch=51, LR=1e-6, Valid_Loss=0.0106, accuracy=1, f1=1]\n"
          ]
        },
        {
          "name": "stdout",
          "output_type": "stream",
          "text": [
            "Valid Loss : 0.010598383199627677\n"
          ]
        },
        {
          "name": "stderr",
          "output_type": "stream",
          "text": [
            "100%|██████████| 289/289 [03:07<00:00,  1.54it/s, Epoch=52, LR=1e-6, Train_Loss=0.735, accuracy=0.753, f1=0.684]\n",
            "100%|██████████| 73/73 [00:14<00:00,  4.90it/s, Epoch=52, LR=1e-6, Valid_Loss=0.012, accuracy=0.999, f1=0.997]\n"
          ]
        },
        {
          "name": "stdout",
          "output_type": "stream",
          "text": [
            "Valid Loss : 0.012039415334185509\n"
          ]
        },
        {
          "name": "stderr",
          "output_type": "stream",
          "text": [
            "100%|██████████| 289/289 [03:07<00:00,  1.54it/s, Epoch=53, LR=1e-6, Train_Loss=0.708, accuracy=0.764, f1=0.697]\n",
            "100%|██████████| 73/73 [00:14<00:00,  4.92it/s, Epoch=53, LR=1e-6, Valid_Loss=0.0107, accuracy=1, f1=1]\n"
          ]
        },
        {
          "name": "stdout",
          "output_type": "stream",
          "text": [
            "Valid Loss : 0.010689497836036226\n"
          ]
        },
        {
          "name": "stderr",
          "output_type": "stream",
          "text": [
            "100%|██████████| 289/289 [03:07<00:00,  1.54it/s, Epoch=54, LR=1e-6, Train_Loss=0.724, accuracy=0.748, f1=0.675]\n",
            "100%|██████████| 73/73 [00:14<00:00,  4.96it/s, Epoch=54, LR=1e-6, Valid_Loss=0.0113, accuracy=1, f1=1]\n"
          ]
        },
        {
          "name": "stdout",
          "output_type": "stream",
          "text": [
            "Valid Loss : 0.011268708542346547\n"
          ]
        },
        {
          "name": "stderr",
          "output_type": "stream",
          "text": [
            "100%|██████████| 289/289 [03:07<00:00,  1.54it/s, Epoch=55, LR=1e-6, Train_Loss=0.712, accuracy=0.757, f1=0.686]\n",
            "100%|██████████| 73/73 [00:14<00:00,  4.91it/s, Epoch=55, LR=1e-6, Valid_Loss=0.0112, accuracy=1, f1=1]\n"
          ]
        },
        {
          "name": "stdout",
          "output_type": "stream",
          "text": [
            "Valid Loss : 0.011247789952903986\n"
          ]
        },
        {
          "name": "stderr",
          "output_type": "stream",
          "text": [
            "100%|██████████| 289/289 [03:08<00:00,  1.54it/s, Epoch=56, LR=1e-6, Train_Loss=0.722, accuracy=0.765, f1=0.696]\n",
            "100%|██████████| 73/73 [00:14<00:00,  4.90it/s, Epoch=56, LR=1e-6, Valid_Loss=0.0105, accuracy=1, f1=1]\n"
          ]
        },
        {
          "name": "stdout",
          "output_type": "stream",
          "text": [
            "Valid Loss : 0.010494643560776564\n"
          ]
        },
        {
          "name": "stderr",
          "output_type": "stream",
          "text": [
            "100%|██████████| 289/289 [03:07<00:00,  1.54it/s, Epoch=57, LR=1e-6, Train_Loss=0.727, accuracy=0.748, f1=0.675]\n",
            "100%|██████████| 73/73 [00:14<00:00,  4.90it/s, Epoch=57, LR=1e-6, Valid_Loss=0.0112, accuracy=1, f1=1]\n"
          ]
        },
        {
          "name": "stdout",
          "output_type": "stream",
          "text": [
            "Valid Loss : 0.01123754092020123\n"
          ]
        },
        {
          "name": "stderr",
          "output_type": "stream",
          "text": [
            "100%|██████████| 289/289 [03:08<00:00,  1.54it/s, Epoch=58, LR=1e-6, Train_Loss=0.723, accuracy=0.756, f1=0.68]\n",
            "100%|██████████| 73/73 [00:14<00:00,  4.91it/s, Epoch=58, LR=1e-6, Valid_Loss=0.0114, accuracy=1, f1=1]\n"
          ]
        },
        {
          "name": "stdout",
          "output_type": "stream",
          "text": [
            "Valid Loss : 0.011407184242334676\n"
          ]
        },
        {
          "name": "stderr",
          "output_type": "stream",
          "text": [
            "100%|██████████| 289/289 [03:07<00:00,  1.54it/s, Epoch=59, LR=1e-6, Train_Loss=0.725, accuracy=0.746, f1=0.673]\n",
            "100%|██████████| 73/73 [00:14<00:00,  4.91it/s, Epoch=59, LR=1e-6, Valid_Loss=0.0108, accuracy=1, f1=1]\n"
          ]
        },
        {
          "name": "stdout",
          "output_type": "stream",
          "text": [
            "Valid Loss : 0.010840756525221753\n"
          ]
        },
        {
          "name": "stderr",
          "output_type": "stream",
          "text": [
            "100%|██████████| 289/289 [03:07<00:00,  1.54it/s, Epoch=60, LR=1e-6, Train_Loss=0.706, accuracy=0.779, f1=0.711]\n",
            "100%|██████████| 73/73 [00:14<00:00,  4.90it/s, Epoch=60, LR=1e-6, Valid_Loss=0.0113, accuracy=0.999, f1=0.999]\n"
          ]
        },
        {
          "name": "stdout",
          "output_type": "stream",
          "text": [
            "Valid Loss : 0.011341793057572555\n"
          ]
        },
        {
          "name": "stderr",
          "output_type": "stream",
          "text": [
            "100%|██████████| 289/289 [03:07<00:00,  1.54it/s, Epoch=61, LR=1e-6, Train_Loss=0.706, accuracy=0.772, f1=0.707]\n",
            "100%|██████████| 73/73 [00:14<00:00,  4.89it/s, Epoch=61, LR=1e-6, Valid_Loss=0.00993, accuracy=1, f1=1]\n"
          ]
        },
        {
          "name": "stdout",
          "output_type": "stream",
          "text": [
            "Valid Loss : 0.009928817765098321\n"
          ]
        },
        {
          "name": "stderr",
          "output_type": "stream",
          "text": [
            "100%|██████████| 289/289 [03:08<00:00,  1.54it/s, Epoch=62, LR=1e-6, Train_Loss=0.714, accuracy=0.763, f1=0.691]\n",
            "100%|██████████| 73/73 [00:14<00:00,  4.89it/s, Epoch=62, LR=1e-6, Valid_Loss=0.011, accuracy=1, f1=1]\n"
          ]
        },
        {
          "name": "stdout",
          "output_type": "stream",
          "text": [
            "Valid Loss : 0.01095888840851106\n"
          ]
        },
        {
          "name": "stderr",
          "output_type": "stream",
          "text": [
            "100%|██████████| 289/289 [03:08<00:00,  1.53it/s, Epoch=63, LR=1e-6, Train_Loss=0.709, accuracy=0.755, f1=0.681]\n",
            "100%|██████████| 73/73 [00:14<00:00,  4.88it/s, Epoch=63, LR=1e-6, Valid_Loss=0.0104, accuracy=1, f1=1]\n"
          ]
        },
        {
          "name": "stdout",
          "output_type": "stream",
          "text": [
            "Valid Loss : 0.010419343582239666\n"
          ]
        },
        {
          "name": "stderr",
          "output_type": "stream",
          "text": [
            "100%|██████████| 289/289 [03:08<00:00,  1.54it/s, Epoch=64, LR=1e-6, Train_Loss=0.726, accuracy=0.751, f1=0.678]\n",
            "100%|██████████| 73/73 [00:14<00:00,  4.89it/s, Epoch=64, LR=1e-6, Valid_Loss=0.0109, accuracy=0.999, f1=0.999]\n"
          ]
        },
        {
          "name": "stdout",
          "output_type": "stream",
          "text": [
            "Valid Loss : 0.010930849248798538\n"
          ]
        },
        {
          "name": "stderr",
          "output_type": "stream",
          "text": [
            "100%|██████████| 289/289 [03:08<00:00,  1.54it/s, Epoch=65, LR=1e-6, Train_Loss=0.707, accuracy=0.767, f1=0.699]\n",
            "100%|██████████| 73/73 [00:14<00:00,  4.90it/s, Epoch=65, LR=1e-6, Valid_Loss=0.0113, accuracy=0.999, f1=0.998]\n"
          ]
        },
        {
          "name": "stdout",
          "output_type": "stream",
          "text": [
            "Valid Loss : 0.011320888498568372\n"
          ]
        },
        {
          "name": "stderr",
          "output_type": "stream",
          "text": [
            "100%|██████████| 289/289 [03:08<00:00,  1.54it/s, Epoch=66, LR=1e-6, Train_Loss=0.697, accuracy=0.771, f1=0.705]\n",
            "100%|██████████| 73/73 [00:14<00:00,  4.88it/s, Epoch=66, LR=1e-6, Valid_Loss=0.00951, accuracy=1, f1=1]\n"
          ]
        },
        {
          "name": "stdout",
          "output_type": "stream",
          "text": [
            "Valid Loss : 0.009510965807337875\n"
          ]
        },
        {
          "name": "stderr",
          "output_type": "stream",
          "text": [
            "100%|██████████| 289/289 [03:08<00:00,  1.54it/s, Epoch=67, LR=1e-6, Train_Loss=0.715, accuracy=0.76, f1=0.693]\n",
            "100%|██████████| 73/73 [00:14<00:00,  4.88it/s, Epoch=67, LR=1e-6, Valid_Loss=0.0107, accuracy=0.999, f1=0.997]\n"
          ]
        },
        {
          "name": "stdout",
          "output_type": "stream",
          "text": [
            "Valid Loss : 0.010719388353395951\n"
          ]
        },
        {
          "name": "stderr",
          "output_type": "stream",
          "text": [
            "100%|██████████| 289/289 [03:08<00:00,  1.53it/s, Epoch=68, LR=1e-6, Train_Loss=0.706, accuracy=0.778, f1=0.71]\n",
            "100%|██████████| 73/73 [00:14<00:00,  4.88it/s, Epoch=68, LR=1e-6, Valid_Loss=0.0098, accuracy=1, f1=1]\n"
          ]
        },
        {
          "name": "stdout",
          "output_type": "stream",
          "text": [
            "Valid Loss : 0.00980403438236003\n"
          ]
        },
        {
          "name": "stderr",
          "output_type": "stream",
          "text": [
            "100%|██████████| 289/289 [03:07<00:00,  1.54it/s, Epoch=69, LR=1e-6, Train_Loss=0.697, accuracy=0.776, f1=0.717]\n",
            "100%|██████████| 73/73 [00:14<00:00,  4.87it/s, Epoch=69, LR=1e-6, Valid_Loss=0.0108, accuracy=0.999, f1=0.998]\n"
          ]
        },
        {
          "name": "stdout",
          "output_type": "stream",
          "text": [
            "Valid Loss : 0.010813827454176259\n"
          ]
        },
        {
          "name": "stderr",
          "output_type": "stream",
          "text": [
            "100%|██████████| 289/289 [03:08<00:00,  1.53it/s, Epoch=70, LR=1e-6, Train_Loss=0.701, accuracy=0.782, f1=0.716]\n",
            "100%|██████████| 73/73 [00:14<00:00,  4.89it/s, Epoch=70, LR=1e-6, Valid_Loss=0.0105, accuracy=1, f1=1]\n"
          ]
        },
        {
          "name": "stdout",
          "output_type": "stream",
          "text": [
            "Valid Loss : 0.01053778358339651\n"
          ]
        },
        {
          "name": "stderr",
          "output_type": "stream",
          "text": [
            "100%|██████████| 289/289 [03:07<00:00,  1.54it/s, Epoch=71, LR=1e-6, Train_Loss=0.696, accuracy=0.778, f1=0.713]\n",
            "100%|██████████| 73/73 [00:14<00:00,  4.90it/s, Epoch=71, LR=1e-6, Valid_Loss=0.00977, accuracy=1, f1=1]\n"
          ]
        },
        {
          "name": "stdout",
          "output_type": "stream",
          "text": [
            "Valid Loss : 0.009767419760664031\n"
          ]
        },
        {
          "name": "stderr",
          "output_type": "stream",
          "text": [
            "100%|██████████| 289/289 [03:07<00:00,  1.54it/s, Epoch=72, LR=1e-6, Train_Loss=0.692, accuracy=0.795, f1=0.728]\n",
            "100%|██████████| 73/73 [00:15<00:00,  4.86it/s, Epoch=72, LR=1e-6, Valid_Loss=0.0102, accuracy=1, f1=1]\n"
          ]
        },
        {
          "name": "stdout",
          "output_type": "stream",
          "text": [
            "Valid Loss : 0.010201074584859283\n"
          ]
        },
        {
          "name": "stderr",
          "output_type": "stream",
          "text": [
            "100%|██████████| 289/289 [03:08<00:00,  1.53it/s, Epoch=73, LR=1e-6, Train_Loss=0.704, accuracy=0.774, f1=0.708]\n",
            "100%|██████████| 73/73 [00:14<00:00,  4.88it/s, Epoch=73, LR=1e-6, Valid_Loss=0.00938, accuracy=1, f1=1]\n"
          ]
        },
        {
          "name": "stdout",
          "output_type": "stream",
          "text": [
            "Valid Loss : 0.009380452462459265\n"
          ]
        },
        {
          "name": "stderr",
          "output_type": "stream",
          "text": [
            "100%|██████████| 289/289 [03:08<00:00,  1.53it/s, Epoch=74, LR=1e-6, Train_Loss=0.699, accuracy=0.772, f1=0.703]\n",
            "100%|██████████| 73/73 [00:15<00:00,  4.85it/s, Epoch=74, LR=1e-6, Valid_Loss=0.0102, accuracy=0.999, f1=0.998]\n"
          ]
        },
        {
          "name": "stdout",
          "output_type": "stream",
          "text": [
            "Valid Loss : 0.010158072410738224\n"
          ]
        },
        {
          "name": "stderr",
          "output_type": "stream",
          "text": [
            "100%|██████████| 289/289 [03:08<00:00,  1.54it/s, Epoch=75, LR=1e-6, Train_Loss=0.694, accuracy=0.766, f1=0.7]\n",
            "100%|██████████| 73/73 [00:14<00:00,  4.88it/s, Epoch=75, LR=1e-6, Valid_Loss=0.0103, accuracy=1, f1=1]\n"
          ]
        },
        {
          "name": "stdout",
          "output_type": "stream",
          "text": [
            "Valid Loss : 0.010283896473096046\n"
          ]
        },
        {
          "name": "stderr",
          "output_type": "stream",
          "text": [
            "100%|██████████| 289/289 [03:08<00:00,  1.54it/s, Epoch=76, LR=1e-6, Train_Loss=0.681, accuracy=0.79, f1=0.725]\n",
            "100%|██████████| 73/73 [00:15<00:00,  4.86it/s, Epoch=76, LR=1e-6, Valid_Loss=0.00909, accuracy=1, f1=1]\n"
          ]
        },
        {
          "name": "stdout",
          "output_type": "stream",
          "text": [
            "Valid Loss : 0.009090203715309705\n"
          ]
        },
        {
          "name": "stderr",
          "output_type": "stream",
          "text": [
            "100%|██████████| 289/289 [03:08<00:00,  1.54it/s, Epoch=77, LR=1e-6, Train_Loss=0.686, accuracy=0.764, f1=0.695]\n",
            "100%|██████████| 73/73 [00:15<00:00,  4.86it/s, Epoch=77, LR=1e-6, Valid_Loss=0.00986, accuracy=0.999, f1=0.997]\n"
          ]
        },
        {
          "name": "stdout",
          "output_type": "stream",
          "text": [
            "Valid Loss : 0.00985804195388233\n"
          ]
        },
        {
          "name": "stderr",
          "output_type": "stream",
          "text": [
            "100%|██████████| 289/289 [03:08<00:00,  1.53it/s, Epoch=78, LR=1e-6, Train_Loss=0.699, accuracy=0.777, f1=0.707]\n",
            "100%|██████████| 73/73 [00:14<00:00,  4.89it/s, Epoch=78, LR=1e-6, Valid_Loss=0.00904, accuracy=1, f1=1]\n"
          ]
        },
        {
          "name": "stdout",
          "output_type": "stream",
          "text": [
            "Valid Loss : 0.009044645870844387\n"
          ]
        },
        {
          "name": "stderr",
          "output_type": "stream",
          "text": [
            "100%|██████████| 289/289 [03:08<00:00,  1.54it/s, Epoch=79, LR=1e-6, Train_Loss=0.684, accuracy=0.79, f1=0.723]\n",
            "100%|██████████| 73/73 [00:14<00:00,  4.88it/s, Epoch=79, LR=1e-6, Valid_Loss=0.00985, accuracy=1, f1=1]\n"
          ]
        },
        {
          "name": "stdout",
          "output_type": "stream",
          "text": [
            "Valid Loss : 0.009846082767344092\n"
          ]
        },
        {
          "name": "stderr",
          "output_type": "stream",
          "text": [
            "100%|██████████| 289/289 [03:07<00:00,  1.54it/s, Epoch=80, LR=1e-6, Train_Loss=0.709, accuracy=0.773, f1=0.704]\n",
            "100%|██████████| 73/73 [00:14<00:00,  4.88it/s, Epoch=80, LR=1e-6, Valid_Loss=0.0107, accuracy=0.998, f1=0.995]\n"
          ]
        },
        {
          "name": "stdout",
          "output_type": "stream",
          "text": [
            "Valid Loss : 0.010654401148937336\n"
          ]
        },
        {
          "name": "stderr",
          "output_type": "stream",
          "text": [
            "100%|██████████| 289/289 [03:07<00:00,  1.54it/s, Epoch=81, LR=1e-6, Train_Loss=0.672, accuracy=0.785, f1=0.72]\n",
            "100%|██████████| 73/73 [00:14<00:00,  4.87it/s, Epoch=81, LR=1e-6, Valid_Loss=0.00941, accuracy=1, f1=1]\n"
          ]
        },
        {
          "name": "stdout",
          "output_type": "stream",
          "text": [
            "Valid Loss : 0.009405879291055137\n"
          ]
        },
        {
          "name": "stderr",
          "output_type": "stream",
          "text": [
            "100%|██████████| 289/289 [03:08<00:00,  1.54it/s, Epoch=82, LR=1e-6, Train_Loss=0.685, accuracy=0.785, f1=0.716]\n",
            "100%|██████████| 73/73 [00:15<00:00,  4.86it/s, Epoch=82, LR=1e-6, Valid_Loss=0.00954, accuracy=1, f1=1]\n"
          ]
        },
        {
          "name": "stdout",
          "output_type": "stream",
          "text": [
            "Valid Loss : 0.009544795812809304\n"
          ]
        },
        {
          "name": "stderr",
          "output_type": "stream",
          "text": [
            "100%|██████████| 289/289 [03:08<00:00,  1.54it/s, Epoch=83, LR=1e-6, Train_Loss=0.674, accuracy=0.786, f1=0.722]\n",
            "100%|██████████| 73/73 [00:14<00:00,  4.87it/s, Epoch=83, LR=1e-6, Valid_Loss=0.00901, accuracy=1, f1=1]\n"
          ]
        },
        {
          "name": "stdout",
          "output_type": "stream",
          "text": [
            "Valid Loss : 0.00901357930995626\n"
          ]
        },
        {
          "name": "stderr",
          "output_type": "stream",
          "text": [
            "100%|██████████| 289/289 [03:08<00:00,  1.54it/s, Epoch=84, LR=1e-6, Train_Loss=0.68, accuracy=0.776, f1=0.714]\n",
            "100%|██████████| 73/73 [00:14<00:00,  4.93it/s, Epoch=84, LR=1e-6, Valid_Loss=0.00957, accuracy=1, f1=1]\n"
          ]
        },
        {
          "name": "stdout",
          "output_type": "stream",
          "text": [
            "Valid Loss : 0.009568556958222634\n"
          ]
        },
        {
          "name": "stderr",
          "output_type": "stream",
          "text": [
            "100%|██████████| 289/289 [03:07<00:00,  1.54it/s, Epoch=85, LR=1e-6, Train_Loss=0.674, accuracy=0.789, f1=0.73]\n",
            "100%|██████████| 73/73 [00:14<00:00,  4.89it/s, Epoch=85, LR=1e-6, Valid_Loss=0.0105, accuracy=0.999, f1=0.998]\n"
          ]
        },
        {
          "name": "stdout",
          "output_type": "stream",
          "text": [
            "Valid Loss : 0.010469795880864744\n"
          ]
        },
        {
          "name": "stderr",
          "output_type": "stream",
          "text": [
            "100%|██████████| 289/289 [03:08<00:00,  1.53it/s, Epoch=86, LR=1e-6, Train_Loss=0.683, accuracy=0.794, f1=0.732]\n",
            "100%|██████████| 73/73 [00:15<00:00,  4.87it/s, Epoch=86, LR=1e-6, Valid_Loss=0.00869, accuracy=1, f1=1]\n"
          ]
        },
        {
          "name": "stdout",
          "output_type": "stream",
          "text": [
            "Valid Loss : 0.008686962862792488\n"
          ]
        },
        {
          "name": "stderr",
          "output_type": "stream",
          "text": [
            "100%|██████████| 289/289 [03:08<00:00,  1.53it/s, Epoch=87, LR=1e-6, Train_Loss=0.677, accuracy=0.79, f1=0.73]\n",
            "100%|██████████| 73/73 [00:15<00:00,  4.86it/s, Epoch=87, LR=1e-6, Valid_Loss=0.00906, accuracy=1, f1=1]\n"
          ]
        },
        {
          "name": "stdout",
          "output_type": "stream",
          "text": [
            "Valid Loss : 0.009059943705286882\n"
          ]
        },
        {
          "name": "stderr",
          "output_type": "stream",
          "text": [
            "100%|██████████| 289/289 [03:08<00:00,  1.53it/s, Epoch=88, LR=1e-6, Train_Loss=0.677, accuracy=0.778, f1=0.716]\n",
            "100%|██████████| 73/73 [00:14<00:00,  4.87it/s, Epoch=88, LR=1e-6, Valid_Loss=0.00818, accuracy=1, f1=1]\n"
          ]
        },
        {
          "name": "stdout",
          "output_type": "stream",
          "text": [
            "Valid Loss : 0.008184042950607326\n"
          ]
        },
        {
          "name": "stderr",
          "output_type": "stream",
          "text": [
            "100%|██████████| 289/289 [03:08<00:00,  1.54it/s, Epoch=89, LR=1e-6, Train_Loss=0.68, accuracy=0.781, f1=0.717]\n",
            "100%|██████████| 73/73 [00:14<00:00,  4.87it/s, Epoch=89, LR=1e-6, Valid_Loss=0.00913, accuracy=1, f1=1]\n"
          ]
        },
        {
          "name": "stdout",
          "output_type": "stream",
          "text": [
            "Valid Loss : 0.009134710268819169\n"
          ]
        },
        {
          "name": "stderr",
          "output_type": "stream",
          "text": [
            "100%|██████████| 289/289 [03:07<00:00,  1.54it/s, Epoch=90, LR=1e-6, Train_Loss=0.676, accuracy=0.774, f1=0.714]\n",
            "100%|██████████| 73/73 [00:15<00:00,  4.87it/s, Epoch=90, LR=1e-6, Valid_Loss=0.00906, accuracy=1, f1=1]\n"
          ]
        },
        {
          "name": "stdout",
          "output_type": "stream",
          "text": [
            "Valid Loss : 0.009064155783861468\n"
          ]
        },
        {
          "name": "stderr",
          "output_type": "stream",
          "text": [
            "100%|██████████| 289/289 [03:08<00:00,  1.53it/s, Epoch=91, LR=1e-6, Train_Loss=0.669, accuracy=0.771, f1=0.709]\n",
            "100%|██████████| 73/73 [00:14<00:00,  4.87it/s, Epoch=91, LR=1e-6, Valid_Loss=0.00869, accuracy=1, f1=1]\n"
          ]
        },
        {
          "name": "stdout",
          "output_type": "stream",
          "text": [
            "Valid Loss : 0.008692989993381174\n"
          ]
        },
        {
          "name": "stderr",
          "output_type": "stream",
          "text": [
            "100%|██████████| 289/289 [03:08<00:00,  1.53it/s, Epoch=92, LR=1e-6, Train_Loss=0.682, accuracy=0.792, f1=0.728]\n",
            "100%|██████████| 73/73 [00:15<00:00,  4.85it/s, Epoch=92, LR=1e-6, Valid_Loss=0.00897, accuracy=1, f1=1]\n"
          ]
        },
        {
          "name": "stdout",
          "output_type": "stream",
          "text": [
            "Valid Loss : 0.008965207455194977\n"
          ]
        },
        {
          "name": "stderr",
          "output_type": "stream",
          "text": [
            "100%|██████████| 289/289 [03:08<00:00,  1.54it/s, Epoch=93, LR=1e-6, Train_Loss=0.682, accuracy=0.776, f1=0.711]\n",
            "100%|██████████| 73/73 [00:15<00:00,  4.86it/s, Epoch=93, LR=1e-6, Valid_Loss=0.00812, accuracy=1, f1=1]\n"
          ]
        },
        {
          "name": "stdout",
          "output_type": "stream",
          "text": [
            "Valid Loss : 0.008123433112154065\n"
          ]
        },
        {
          "name": "stderr",
          "output_type": "stream",
          "text": [
            "100%|██████████| 289/289 [03:09<00:00,  1.53it/s, Epoch=94, LR=1e-6, Train_Loss=0.675, accuracy=0.785, f1=0.725]\n",
            "100%|██████████| 73/73 [00:15<00:00,  4.87it/s, Epoch=94, LR=1e-6, Valid_Loss=0.00917, accuracy=0.999, f1=0.999]\n"
          ]
        },
        {
          "name": "stdout",
          "output_type": "stream",
          "text": [
            "Valid Loss : 0.009173220272290788\n"
          ]
        },
        {
          "name": "stderr",
          "output_type": "stream",
          "text": [
            "100%|██████████| 289/289 [03:08<00:00,  1.53it/s, Epoch=95, LR=1e-6, Train_Loss=0.674, accuracy=0.794, f1=0.723]\n",
            "100%|██████████| 73/73 [00:15<00:00,  4.86it/s, Epoch=95, LR=1e-6, Valid_Loss=0.00919, accuracy=0.999, f1=0.998]\n"
          ]
        },
        {
          "name": "stdout",
          "output_type": "stream",
          "text": [
            "Valid Loss : 0.009186484091851401\n"
          ]
        },
        {
          "name": "stderr",
          "output_type": "stream",
          "text": [
            "100%|██████████| 289/289 [03:08<00:00,  1.54it/s, Epoch=96, LR=1e-6, Train_Loss=0.674, accuracy=0.773, f1=0.709]\n",
            "100%|██████████| 73/73 [00:15<00:00,  4.86it/s, Epoch=96, LR=1e-6, Valid_Loss=0.00829, accuracy=1, f1=1]\n"
          ]
        },
        {
          "name": "stdout",
          "output_type": "stream",
          "text": [
            "Valid Loss : 0.00828903761041695\n"
          ]
        },
        {
          "name": "stderr",
          "output_type": "stream",
          "text": [
            "100%|██████████| 289/289 [03:07<00:00,  1.54it/s, Epoch=97, LR=1e-6, Train_Loss=0.685, accuracy=0.775, f1=0.706]\n",
            "100%|██████████| 73/73 [00:14<00:00,  4.88it/s, Epoch=97, LR=1e-6, Valid_Loss=0.00863, accuracy=1, f1=1]\n"
          ]
        },
        {
          "name": "stdout",
          "output_type": "stream",
          "text": [
            "Valid Loss : 0.008631724025416251\n"
          ]
        },
        {
          "name": "stderr",
          "output_type": "stream",
          "text": [
            "100%|██████████| 289/289 [03:08<00:00,  1.53it/s, Epoch=98, LR=1e-6, Train_Loss=0.681, accuracy=0.774, f1=0.709]\n",
            "100%|██████████| 73/73 [00:14<00:00,  4.88it/s, Epoch=98, LR=1e-6, Valid_Loss=0.0079, accuracy=1, f1=1]\n"
          ]
        },
        {
          "name": "stdout",
          "output_type": "stream",
          "text": [
            "Valid Loss : 0.007898904249225168\n"
          ]
        },
        {
          "name": "stderr",
          "output_type": "stream",
          "text": [
            "100%|██████████| 289/289 [03:08<00:00,  1.53it/s, Epoch=99, LR=1e-6, Train_Loss=0.656, accuracy=0.818, f1=0.759]\n",
            "100%|██████████| 73/73 [00:15<00:00,  4.84it/s, Epoch=99, LR=1e-6, Valid_Loss=0.00898, accuracy=0.999, f1=0.998]\n"
          ]
        },
        {
          "name": "stdout",
          "output_type": "stream",
          "text": [
            "Valid Loss : 0.0089828088330998\n",
            "Training complete in 5h 40m 31s\n",
            "Best Loss: 0.0055\n"
          ]
        }
      ],
      "source": [
        "ic.disable()\n",
        "run_training(\n",
        "    model=model,\n",
        "    optimizer=optimizer,\n",
        "    # scheduler=torch.optim.lr_scheduler.CosineAnnealingLR(\n",
        "    #     optimizer=optimizer, T_max=CONFIG['T_max'], eta_min=CONFIG['min_lr']),\n",
        "    scheduler=None,\n",
        "    device=device,\n",
        "    num_epochs=100,\n",
        "    metric_prefix=\"\",\n",
        "    file_prefix=\"\",\n",
        "    early_stopping=CONFIG['early_stopping'],\n",
        "    early_stopping_step=CONFIG['early_stopping_step'],\n",
        "    START_EPOCH=0,\n",
        ");\n"
      ]
    },
    {
      "cell_type": "markdown",
      "metadata": {
        "id": "huP6G9xqhUcI"
      },
      "source": [
        "# 100 epoch"
      ]
    },
    {
      "cell_type": "code",
      "execution_count": null,
      "metadata": {
        "colab": {
          "base_uri": "https://localhost:8080/"
        },
        "id": "lIdG01Xzjmfv",
        "outputId": "f4f35080-1772-466e-d9be-ce43219237bc"
      },
      "outputs": [
        {
          "data": {
            "text/plain": [
              "<_io.TextIOWrapper name='./convnext_small finecutmix_last.bin' mode='r' encoding='UTF-8'>"
            ]
          },
          "execution_count": 22,
          "metadata": {},
          "output_type": "execute_result"
        }
      ],
      "source": [
        "wandb.restore(f'{CONFIG[\"nickname\"]}_last.bin', 'jiwon7258/lg/2ow4king', root='./')"
      ]
    },
    {
      "cell_type": "code",
      "execution_count": null,
      "metadata": {
        "colab": {
          "base_uri": "https://localhost:8080/"
        },
        "id": "rCcUuuDnhKJk",
        "outputId": "24c9d987-f924-42d6-a604-e44e81e01c15"
      },
      "outputs": [
        {
          "data": {
            "text/plain": [
              "<All keys matched successfully>"
            ]
          },
          "execution_count": 23,
          "metadata": {},
          "output_type": "execute_result"
        }
      ],
      "source": [
        "model.load_state_dict(torch.load(f'{CONFIG[\"nickname\"]}_last.bin',\n",
        "                      map_location=CONFIG['device']))"
      ]
    },
    {
      "cell_type": "code",
      "execution_count": null,
      "metadata": {
        "id": "-tHHfRQPkeyG"
      },
      "outputs": [],
      "source": [
        "optimizer = torch.optim.Adam(\n",
        "    params=model.parameters(), lr=1e-6, weight_decay=CONFIG['weight_decay'])"
      ]
    },
    {
      "cell_type": "code",
      "execution_count": null,
      "metadata": {
        "colab": {
          "base_uri": "https://localhost:8080/"
        },
        "id": "WNzXQcQthY34",
        "outputId": "ee453d1c-bacd-443c-80e2-c38d051fd015"
      },
      "outputs": [
        {
          "name": "stdout",
          "output_type": "stream",
          "text": [
            "[INFO] Using GPU:Tesla P100-PCIE-16GB\n",
            "\n"
          ]
        },
        {
          "name": "stderr",
          "output_type": "stream",
          "text": [
            "100%|██████████| 289/289 [03:07<00:00,  1.54it/s, Epoch=105, LR=1e-6, Train_Loss=0.658, accuracy=0.787, f1=0.729]\n",
            "100%|██████████| 73/73 [00:15<00:00,  4.86it/s, Epoch=105, LR=1e-6, Valid_Loss=0.00867, accuracy=0.999, f1=0.998]\n"
          ]
        },
        {
          "name": "stdout",
          "output_type": "stream",
          "text": [
            "Valid Loss : 0.008668805919077299\n",
            "Validation Loss improved( inf ---> 0.008668805919077299  )\n",
            "Model Saved\n"
          ]
        },
        {
          "name": "stderr",
          "output_type": "stream",
          "text": [
            "100%|██████████| 289/289 [03:08<00:00,  1.53it/s, Epoch=106, LR=1e-6, Train_Loss=0.666, accuracy=0.782, f1=0.716]\n",
            "100%|██████████| 73/73 [00:14<00:00,  4.95it/s, Epoch=106, LR=1e-6, Valid_Loss=0.00829, accuracy=1, f1=1]\n"
          ]
        },
        {
          "name": "stdout",
          "output_type": "stream",
          "text": [
            "Valid Loss : 0.008289728785724673\n",
            "Validation Loss improved( 0.008668805919077299 ---> 0.008289728785724673  )\n",
            "Model Saved\n"
          ]
        },
        {
          "name": "stderr",
          "output_type": "stream",
          "text": [
            "100%|██████████| 289/289 [03:07<00:00,  1.54it/s, Epoch=107, LR=1e-6, Train_Loss=0.672, accuracy=0.786, f1=0.72]\n",
            "100%|██████████| 73/73 [00:14<00:00,  4.95it/s, Epoch=107, LR=1e-6, Valid_Loss=0.00821, accuracy=1, f1=1]\n"
          ]
        },
        {
          "name": "stdout",
          "output_type": "stream",
          "text": [
            "Valid Loss : 0.00820575851296419\n",
            "Validation Loss improved( 0.008289728785724673 ---> 0.00820575851296419  )\n",
            "Model Saved\n"
          ]
        },
        {
          "name": "stderr",
          "output_type": "stream",
          "text": [
            "100%|██████████| 289/289 [03:07<00:00,  1.54it/s, Epoch=108, LR=1e-6, Train_Loss=0.647, accuracy=0.797, f1=0.738]\n",
            "100%|██████████| 73/73 [00:14<00:00,  4.99it/s, Epoch=108, LR=1e-6, Valid_Loss=0.00766, accuracy=1, f1=1]\n"
          ]
        },
        {
          "name": "stdout",
          "output_type": "stream",
          "text": [
            "Valid Loss : 0.007663114302574772\n",
            "Validation Loss improved( 0.00820575851296419 ---> 0.007663114302574772  )\n",
            "Model Saved\n"
          ]
        },
        {
          "name": "stderr",
          "output_type": "stream",
          "text": [
            "100%|██████████| 289/289 [03:08<00:00,  1.54it/s, Epoch=109, LR=1e-6, Train_Loss=0.67, accuracy=0.791, f1=0.728]\n",
            "100%|██████████| 73/73 [00:14<00:00,  4.90it/s, Epoch=109, LR=1e-6, Valid_Loss=0.00822, accuracy=1, f1=1]\n"
          ]
        },
        {
          "name": "stdout",
          "output_type": "stream",
          "text": [
            "Valid Loss : 0.008221551826963686\n"
          ]
        },
        {
          "name": "stderr",
          "output_type": "stream",
          "text": [
            "100%|██████████| 289/289 [03:07<00:00,  1.54it/s, Epoch=110, LR=1e-6, Train_Loss=0.669, accuracy=0.794, f1=0.735]\n",
            "100%|██████████| 73/73 [00:14<00:00,  4.98it/s, Epoch=110, LR=1e-6, Valid_Loss=0.00801, accuracy=1, f1=1]\n"
          ]
        },
        {
          "name": "stdout",
          "output_type": "stream",
          "text": [
            "Valid Loss : 0.008007221702129056\n"
          ]
        },
        {
          "name": "stderr",
          "output_type": "stream",
          "text": [
            "100%|██████████| 289/289 [03:06<00:00,  1.55it/s, Epoch=111, LR=1e-6, Train_Loss=0.662, accuracy=0.795, f1=0.733]\n",
            "100%|██████████| 73/73 [00:14<00:00,  4.99it/s, Epoch=111, LR=1e-6, Valid_Loss=0.00768, accuracy=1, f1=1]\n"
          ]
        },
        {
          "name": "stdout",
          "output_type": "stream",
          "text": [
            "Valid Loss : 0.007683525550855349\n"
          ]
        },
        {
          "name": "stderr",
          "output_type": "stream",
          "text": [
            "100%|██████████| 289/289 [03:07<00:00,  1.54it/s, Epoch=112, LR=1e-6, Train_Loss=0.661, accuracy=0.797, f1=0.731]\n",
            "100%|██████████| 73/73 [00:14<00:00,  4.95it/s, Epoch=112, LR=1e-6, Valid_Loss=0.00792, accuracy=1, f1=1]\n"
          ]
        },
        {
          "name": "stdout",
          "output_type": "stream",
          "text": [
            "Valid Loss : 0.0079177626127964\n"
          ]
        },
        {
          "name": "stderr",
          "output_type": "stream",
          "text": [
            "100%|██████████| 289/289 [03:07<00:00,  1.54it/s, Epoch=113, LR=1e-6, Train_Loss=0.648, accuracy=0.804, f1=0.746]\n",
            "100%|██████████| 73/73 [00:14<00:00,  4.96it/s, Epoch=113, LR=1e-6, Valid_Loss=0.00813, accuracy=1, f1=1]\n"
          ]
        },
        {
          "name": "stdout",
          "output_type": "stream",
          "text": [
            "Valid Loss : 0.008129472066074202\n"
          ]
        },
        {
          "name": "stderr",
          "output_type": "stream",
          "text": [
            "100%|██████████| 289/289 [03:07<00:00,  1.55it/s, Epoch=114, LR=1e-6, Train_Loss=0.676, accuracy=0.783, f1=0.717]\n",
            "100%|██████████| 73/73 [00:14<00:00,  4.99it/s, Epoch=114, LR=1e-6, Valid_Loss=0.00799, accuracy=1, f1=1]\n"
          ]
        },
        {
          "name": "stdout",
          "output_type": "stream",
          "text": [
            "Valid Loss : 0.007987070442751458\n"
          ]
        },
        {
          "name": "stderr",
          "output_type": "stream",
          "text": [
            "100%|██████████| 289/289 [03:07<00:00,  1.54it/s, Epoch=115, LR=1e-6, Train_Loss=0.661, accuracy=0.8, f1=0.741]\n",
            "100%|██████████| 73/73 [00:14<00:00,  5.01it/s, Epoch=115, LR=1e-6, Valid_Loss=0.00831, accuracy=1, f1=1]\n"
          ]
        },
        {
          "name": "stdout",
          "output_type": "stream",
          "text": [
            "Valid Loss : 0.008306117683700095\n"
          ]
        },
        {
          "name": "stderr",
          "output_type": "stream",
          "text": [
            "100%|██████████| 289/289 [03:07<00:00,  1.54it/s, Epoch=116, LR=1e-6, Train_Loss=0.653, accuracy=0.787, f1=0.722]\n",
            "100%|██████████| 73/73 [00:14<00:00,  4.97it/s, Epoch=116, LR=1e-6, Valid_Loss=0.00776, accuracy=1, f1=1]\n"
          ]
        },
        {
          "name": "stdout",
          "output_type": "stream",
          "text": [
            "Valid Loss : 0.007760872994230626\n"
          ]
        },
        {
          "name": "stderr",
          "output_type": "stream",
          "text": [
            "100%|██████████| 289/289 [03:07<00:00,  1.54it/s, Epoch=117, LR=1e-6, Train_Loss=0.661, accuracy=0.793, f1=0.735]\n",
            "100%|██████████| 73/73 [00:14<00:00,  5.02it/s, Epoch=117, LR=1e-6, Valid_Loss=0.00852, accuracy=0.999, f1=0.999]\n"
          ]
        },
        {
          "name": "stdout",
          "output_type": "stream",
          "text": [
            "Valid Loss : 0.008520519450204829\n"
          ]
        },
        {
          "name": "stderr",
          "output_type": "stream",
          "text": [
            "100%|██████████| 289/289 [03:07<00:00,  1.55it/s, Epoch=118, LR=1e-6, Train_Loss=0.664, accuracy=0.795, f1=0.733]\n",
            "100%|██████████| 73/73 [00:14<00:00,  4.98it/s, Epoch=118, LR=1e-6, Valid_Loss=0.00738, accuracy=1, f1=1]\n"
          ]
        },
        {
          "name": "stdout",
          "output_type": "stream",
          "text": [
            "Valid Loss : 0.007381321428573295\n",
            "Validation Loss improved( 0.007663114302574772 ---> 0.007381321428573295  )\n",
            "Model Saved\n"
          ]
        },
        {
          "name": "stderr",
          "output_type": "stream",
          "text": [
            "100%|██████████| 289/289 [03:07<00:00,  1.54it/s, Epoch=119, LR=1e-6, Train_Loss=0.659, accuracy=0.793, f1=0.732]\n",
            "100%|██████████| 73/73 [00:14<00:00,  4.93it/s, Epoch=119, LR=1e-6, Valid_Loss=0.00788, accuracy=1, f1=1]\n"
          ]
        },
        {
          "name": "stdout",
          "output_type": "stream",
          "text": [
            "Valid Loss : 0.007877197604600901\n"
          ]
        },
        {
          "name": "stderr",
          "output_type": "stream",
          "text": [
            "100%|██████████| 289/289 [03:06<00:00,  1.55it/s, Epoch=120, LR=1e-6, Train_Loss=0.668, accuracy=0.788, f1=0.726]\n",
            "100%|██████████| 73/73 [00:14<00:00,  4.98it/s, Epoch=120, LR=1e-6, Valid_Loss=0.00785, accuracy=0.999, f1=0.998]\n"
          ]
        },
        {
          "name": "stdout",
          "output_type": "stream",
          "text": [
            "Valid Loss : 0.007847311147424865\n"
          ]
        },
        {
          "name": "stderr",
          "output_type": "stream",
          "text": [
            "100%|██████████| 289/289 [03:06<00:00,  1.55it/s, Epoch=121, LR=1e-6, Train_Loss=0.645, accuracy=0.791, f1=0.728]\n",
            "100%|██████████| 73/73 [00:14<00:00,  5.00it/s, Epoch=121, LR=1e-6, Valid_Loss=0.00708, accuracy=1, f1=1]\n"
          ]
        },
        {
          "name": "stdout",
          "output_type": "stream",
          "text": [
            "Valid Loss : 0.0070755938259399916\n",
            "Validation Loss improved( 0.007381321428573295 ---> 0.0070755938259399916  )\n",
            "Model Saved\n"
          ]
        },
        {
          "name": "stderr",
          "output_type": "stream",
          "text": [
            "100%|██████████| 289/289 [03:07<00:00,  1.54it/s, Epoch=122, LR=1e-6, Train_Loss=0.653, accuracy=0.813, f1=0.755]\n",
            "100%|██████████| 73/73 [00:14<00:00,  4.98it/s, Epoch=122, LR=1e-6, Valid_Loss=0.00753, accuracy=1, f1=1]\n"
          ]
        },
        {
          "name": "stdout",
          "output_type": "stream",
          "text": [
            "Valid Loss : 0.007527852424560753\n"
          ]
        },
        {
          "name": "stderr",
          "output_type": "stream",
          "text": [
            "100%|██████████| 289/289 [03:06<00:00,  1.55it/s, Epoch=123, LR=1e-6, Train_Loss=0.657, accuracy=0.795, f1=0.732]\n",
            "100%|██████████| 73/73 [00:14<00:00,  5.01it/s, Epoch=123, LR=1e-6, Valid_Loss=0.00693, accuracy=1, f1=1]\n"
          ]
        },
        {
          "name": "stdout",
          "output_type": "stream",
          "text": [
            "Valid Loss : 0.006926242622534094\n",
            "Validation Loss improved( 0.0070755938259399916 ---> 0.006926242622534094  )\n",
            "Model Saved\n"
          ]
        },
        {
          "name": "stderr",
          "output_type": "stream",
          "text": [
            "100%|██████████| 289/289 [03:07<00:00,  1.55it/s, Epoch=124, LR=1e-6, Train_Loss=0.66, accuracy=0.799, f1=0.74]\n",
            "100%|██████████| 73/73 [00:14<00:00,  4.97it/s, Epoch=124, LR=1e-6, Valid_Loss=0.00744, accuracy=1, f1=1]\n"
          ]
        },
        {
          "name": "stdout",
          "output_type": "stream",
          "text": [
            "Valid Loss : 0.007438807473964479\n"
          ]
        },
        {
          "name": "stderr",
          "output_type": "stream",
          "text": [
            "100%|██████████| 289/289 [03:06<00:00,  1.55it/s, Epoch=125, LR=1e-6, Train_Loss=0.654, accuracy=0.798, f1=0.734]\n",
            "100%|██████████| 73/73 [00:14<00:00,  5.00it/s, Epoch=125, LR=1e-6, Valid_Loss=0.00781, accuracy=0.999, f1=0.996]\n"
          ]
        },
        {
          "name": "stdout",
          "output_type": "stream",
          "text": [
            "Valid Loss : 0.0078065021135780505\n"
          ]
        },
        {
          "name": "stderr",
          "output_type": "stream",
          "text": [
            "100%|██████████| 289/289 [03:06<00:00,  1.55it/s, Epoch=126, LR=1e-6, Train_Loss=0.666, accuracy=0.798, f1=0.731]\n",
            "100%|██████████| 73/73 [00:14<00:00,  4.99it/s, Epoch=126, LR=1e-6, Valid_Loss=0.0071, accuracy=1, f1=1]\n"
          ]
        },
        {
          "name": "stdout",
          "output_type": "stream",
          "text": [
            "Valid Loss : 0.007099647706451073\n"
          ]
        },
        {
          "name": "stderr",
          "output_type": "stream",
          "text": [
            "100%|██████████| 289/289 [03:06<00:00,  1.55it/s, Epoch=127, LR=1e-6, Train_Loss=0.649, accuracy=0.803, f1=0.745]\n",
            "100%|██████████| 73/73 [00:14<00:00,  4.97it/s, Epoch=127, LR=1e-6, Valid_Loss=0.00774, accuracy=1, f1=1]\n"
          ]
        },
        {
          "name": "stdout",
          "output_type": "stream",
          "text": [
            "Valid Loss : 0.007742424131919668\n"
          ]
        },
        {
          "name": "stderr",
          "output_type": "stream",
          "text": [
            "100%|██████████| 289/289 [03:06<00:00,  1.55it/s, Epoch=128, LR=1e-6, Train_Loss=0.661, accuracy=0.793, f1=0.731]\n",
            "100%|██████████| 73/73 [00:14<00:00,  4.98it/s, Epoch=128, LR=1e-6, Valid_Loss=0.00677, accuracy=1, f1=1]\n"
          ]
        },
        {
          "name": "stdout",
          "output_type": "stream",
          "text": [
            "Valid Loss : 0.006766212006954298\n",
            "Validation Loss improved( 0.006926242622534094 ---> 0.006766212006954298  )\n",
            "Model Saved\n"
          ]
        },
        {
          "name": "stderr",
          "output_type": "stream",
          "text": [
            "100%|██████████| 289/289 [03:07<00:00,  1.55it/s, Epoch=129, LR=1e-6, Train_Loss=0.654, accuracy=0.804, f1=0.746]\n",
            "100%|██████████| 73/73 [00:14<00:00,  5.01it/s, Epoch=129, LR=1e-6, Valid_Loss=0.00765, accuracy=1, f1=1]\n"
          ]
        },
        {
          "name": "stdout",
          "output_type": "stream",
          "text": [
            "Valid Loss : 0.007653094646329545\n"
          ]
        },
        {
          "name": "stderr",
          "output_type": "stream",
          "text": [
            "100%|██████████| 289/289 [03:06<00:00,  1.55it/s, Epoch=130, LR=1e-6, Train_Loss=0.655, accuracy=0.806, f1=0.74]\n",
            "100%|██████████| 73/73 [00:14<00:00,  4.97it/s, Epoch=130, LR=1e-6, Valid_Loss=0.00731, accuracy=1, f1=1]\n"
          ]
        },
        {
          "name": "stdout",
          "output_type": "stream",
          "text": [
            "Valid Loss : 0.007314620175947474\n"
          ]
        },
        {
          "name": "stderr",
          "output_type": "stream",
          "text": [
            "100%|██████████| 289/289 [03:07<00:00,  1.54it/s, Epoch=131, LR=1e-6, Train_Loss=0.642, accuracy=0.794, f1=0.732]\n",
            "100%|██████████| 73/73 [00:14<00:00,  4.98it/s, Epoch=131, LR=1e-6, Valid_Loss=0.00728, accuracy=1, f1=1]\n"
          ]
        },
        {
          "name": "stdout",
          "output_type": "stream",
          "text": [
            "Valid Loss : 0.007281493092568157\n"
          ]
        },
        {
          "name": "stderr",
          "output_type": "stream",
          "text": [
            "100%|██████████| 289/289 [03:06<00:00,  1.55it/s, Epoch=132, LR=1e-6, Train_Loss=0.656, accuracy=0.797, f1=0.733]\n",
            "100%|██████████| 73/73 [00:14<00:00,  4.95it/s, Epoch=132, LR=1e-6, Valid_Loss=0.00736, accuracy=1, f1=1]\n"
          ]
        },
        {
          "name": "stdout",
          "output_type": "stream",
          "text": [
            "Valid Loss : 0.007363632694524649\n"
          ]
        },
        {
          "name": "stderr",
          "output_type": "stream",
          "text": [
            "100%|██████████| 289/289 [03:06<00:00,  1.55it/s, Epoch=133, LR=1e-6, Train_Loss=0.642, accuracy=0.788, f1=0.722]\n",
            "100%|██████████| 73/73 [00:14<00:00,  4.98it/s, Epoch=133, LR=1e-6, Valid_Loss=0.00674, accuracy=1, f1=1]\n"
          ]
        },
        {
          "name": "stdout",
          "output_type": "stream",
          "text": [
            "Valid Loss : 0.006739251455929998\n",
            "Validation Loss improved( 0.006766212006954298 ---> 0.006739251455929998  )\n",
            "Model Saved\n"
          ]
        },
        {
          "name": "stderr",
          "output_type": "stream",
          "text": [
            "100%|██████████| 289/289 [03:06<00:00,  1.55it/s, Epoch=134, LR=1e-6, Train_Loss=0.642, accuracy=0.815, f1=0.76]\n",
            "100%|██████████| 73/73 [00:14<00:00,  4.98it/s, Epoch=134, LR=1e-6, Valid_Loss=0.00739, accuracy=1, f1=1]\n"
          ]
        },
        {
          "name": "stdout",
          "output_type": "stream",
          "text": [
            "Valid Loss : 0.0073872577647793375\n"
          ]
        },
        {
          "name": "stderr",
          "output_type": "stream",
          "text": [
            "100%|██████████| 289/289 [03:06<00:00,  1.55it/s, Epoch=135, LR=1e-6, Train_Loss=0.662, accuracy=0.804, f1=0.743]\n",
            "100%|██████████| 73/73 [00:14<00:00,  4.96it/s, Epoch=135, LR=1e-6, Valid_Loss=0.00726, accuracy=0.999, f1=0.998]\n"
          ]
        },
        {
          "name": "stdout",
          "output_type": "stream",
          "text": [
            "Valid Loss : 0.007263974289805309\n"
          ]
        },
        {
          "name": "stderr",
          "output_type": "stream",
          "text": [
            "100%|██████████| 289/289 [03:06<00:00,  1.55it/s, Epoch=136, LR=1e-6, Train_Loss=0.645, accuracy=0.788, f1=0.729]\n",
            "100%|██████████| 73/73 [00:14<00:00,  4.98it/s, Epoch=136, LR=1e-6, Valid_Loss=0.00695, accuracy=1, f1=1]\n"
          ]
        },
        {
          "name": "stdout",
          "output_type": "stream",
          "text": [
            "Valid Loss : 0.006949542587852641\n"
          ]
        },
        {
          "name": "stderr",
          "output_type": "stream",
          "text": [
            "100%|██████████| 289/289 [03:06<00:00,  1.55it/s, Epoch=137, LR=1e-6, Train_Loss=0.645, accuracy=0.804, f1=0.741]\n",
            "100%|██████████| 73/73 [00:14<00:00,  4.97it/s, Epoch=137, LR=1e-6, Valid_Loss=0.0069, accuracy=1, f1=1]\n"
          ]
        },
        {
          "name": "stdout",
          "output_type": "stream",
          "text": [
            "Valid Loss : 0.006896395520115756\n"
          ]
        },
        {
          "name": "stderr",
          "output_type": "stream",
          "text": [
            "100%|██████████| 289/289 [03:06<00:00,  1.55it/s, Epoch=138, LR=1e-6, Train_Loss=0.647, accuracy=0.801, f1=0.743]\n",
            "100%|██████████| 73/73 [00:14<00:00,  4.98it/s, Epoch=138, LR=1e-6, Valid_Loss=0.00657, accuracy=1, f1=1]\n"
          ]
        },
        {
          "name": "stdout",
          "output_type": "stream",
          "text": [
            "Valid Loss : 0.006574547855974468\n",
            "Validation Loss improved( 0.006739251455929998 ---> 0.006574547855974468  )\n",
            "Model Saved\n"
          ]
        },
        {
          "name": "stderr",
          "output_type": "stream",
          "text": [
            "100%|██████████| 289/289 [03:07<00:00,  1.54it/s, Epoch=139, LR=1e-6, Train_Loss=0.652, accuracy=0.791, f1=0.727]\n",
            "100%|██████████| 73/73 [00:14<00:00,  4.97it/s, Epoch=139, LR=1e-6, Valid_Loss=0.00709, accuracy=1, f1=1]\n"
          ]
        },
        {
          "name": "stdout",
          "output_type": "stream",
          "text": [
            "Valid Loss : 0.007086561042305133\n"
          ]
        },
        {
          "name": "stderr",
          "output_type": "stream",
          "text": [
            "100%|██████████| 289/289 [03:07<00:00,  1.54it/s, Epoch=140, LR=1e-6, Train_Loss=0.654, accuracy=0.79, f1=0.73]\n",
            "100%|██████████| 73/73 [00:14<00:00,  4.96it/s, Epoch=140, LR=1e-6, Valid_Loss=0.00689, accuracy=1, f1=1]\n"
          ]
        },
        {
          "name": "stdout",
          "output_type": "stream",
          "text": [
            "Valid Loss : 0.0068945350310420745\n"
          ]
        },
        {
          "name": "stderr",
          "output_type": "stream",
          "text": [
            "100%|██████████| 289/289 [03:06<00:00,  1.55it/s, Epoch=141, LR=1e-6, Train_Loss=0.645, accuracy=0.8, f1=0.741]\n",
            "100%|██████████| 73/73 [00:14<00:00,  4.96it/s, Epoch=141, LR=1e-6, Valid_Loss=0.00652, accuracy=1, f1=1]\n"
          ]
        },
        {
          "name": "stdout",
          "output_type": "stream",
          "text": [
            "Valid Loss : 0.006522779659151215\n",
            "Validation Loss improved( 0.006574547855974468 ---> 0.006522779659151215  )\n",
            "Model Saved\n"
          ]
        },
        {
          "name": "stderr",
          "output_type": "stream",
          "text": [
            "100%|██████████| 289/289 [03:07<00:00,  1.54it/s, Epoch=142, LR=1e-6, Train_Loss=0.649, accuracy=0.795, f1=0.731]\n",
            "100%|██████████| 73/73 [00:14<00:00,  4.96it/s, Epoch=142, LR=1e-6, Valid_Loss=0.00688, accuracy=1, f1=1]\n"
          ]
        },
        {
          "name": "stdout",
          "output_type": "stream",
          "text": [
            "Valid Loss : 0.006881233741695138\n"
          ]
        },
        {
          "name": "stderr",
          "output_type": "stream",
          "text": [
            "100%|██████████| 289/289 [03:07<00:00,  1.54it/s, Epoch=143, LR=1e-6, Train_Loss=0.644, accuracy=0.803, f1=0.743]\n",
            "100%|██████████| 73/73 [00:14<00:00,  4.97it/s, Epoch=143, LR=1e-6, Valid_Loss=0.00626, accuracy=1, f1=1]\n"
          ]
        },
        {
          "name": "stdout",
          "output_type": "stream",
          "text": [
            "Valid Loss : 0.00625899292796544\n",
            "Validation Loss improved( 0.006522779659151215 ---> 0.00625899292796544  )\n",
            "Model Saved\n"
          ]
        },
        {
          "name": "stderr",
          "output_type": "stream",
          "text": [
            "100%|██████████| 289/289 [03:07<00:00,  1.54it/s, Epoch=144, LR=1e-6, Train_Loss=0.641, accuracy=0.79, f1=0.733]\n",
            "100%|██████████| 73/73 [00:14<00:00,  5.00it/s, Epoch=144, LR=1e-6, Valid_Loss=0.00693, accuracy=1, f1=1]\n"
          ]
        },
        {
          "name": "stdout",
          "output_type": "stream",
          "text": [
            "Valid Loss : 0.006926638093355992\n"
          ]
        },
        {
          "name": "stderr",
          "output_type": "stream",
          "text": [
            "100%|██████████| 289/289 [03:07<00:00,  1.54it/s, Epoch=145, LR=1e-6, Train_Loss=0.632, accuracy=0.829, f1=0.772]\n",
            "100%|██████████| 73/73 [00:14<00:00,  4.99it/s, Epoch=145, LR=1e-6, Valid_Loss=0.00706, accuracy=0.999, f1=0.998]\n"
          ]
        },
        {
          "name": "stdout",
          "output_type": "stream",
          "text": [
            "Valid Loss : 0.007064333131332716\n"
          ]
        },
        {
          "name": "stderr",
          "output_type": "stream",
          "text": [
            "100%|██████████| 289/289 [03:07<00:00,  1.54it/s, Epoch=146, LR=1e-6, Train_Loss=0.646, accuracy=0.813, f1=0.752]\n",
            "100%|██████████| 73/73 [00:14<00:00,  4.96it/s, Epoch=146, LR=1e-6, Valid_Loss=0.00615, accuracy=1, f1=1]\n"
          ]
        },
        {
          "name": "stdout",
          "output_type": "stream",
          "text": [
            "Valid Loss : 0.006150390924120399\n",
            "Validation Loss improved( 0.00625899292796544 ---> 0.006150390924120399  )\n",
            "Model Saved\n"
          ]
        },
        {
          "name": "stderr",
          "output_type": "stream",
          "text": [
            "100%|██████████| 289/289 [03:07<00:00,  1.54it/s, Epoch=147, LR=1e-6, Train_Loss=0.643, accuracy=0.804, f1=0.746]\n",
            "100%|██████████| 73/73 [00:14<00:00,  4.95it/s, Epoch=147, LR=1e-6, Valid_Loss=0.00666, accuracy=1, f1=1]\n"
          ]
        },
        {
          "name": "stdout",
          "output_type": "stream",
          "text": [
            "Valid Loss : 0.006663871380462222\n"
          ]
        },
        {
          "name": "stderr",
          "output_type": "stream",
          "text": [
            "100%|██████████| 289/289 [03:07<00:00,  1.54it/s, Epoch=148, LR=1e-6, Train_Loss=0.636, accuracy=0.806, f1=0.749]\n",
            "100%|██████████| 73/73 [00:14<00:00,  4.94it/s, Epoch=148, LR=1e-6, Valid_Loss=0.00628, accuracy=1, f1=1]\n"
          ]
        },
        {
          "name": "stdout",
          "output_type": "stream",
          "text": [
            "Valid Loss : 0.006276286159297579\n"
          ]
        },
        {
          "name": "stderr",
          "output_type": "stream",
          "text": [
            "100%|██████████| 289/289 [03:07<00:00,  1.54it/s, Epoch=149, LR=1e-6, Train_Loss=0.636, accuracy=0.804, f1=0.748]\n",
            "100%|██████████| 73/73 [00:14<00:00,  4.98it/s, Epoch=149, LR=1e-6, Valid_Loss=0.00661, accuracy=1, f1=1]\n"
          ]
        },
        {
          "name": "stdout",
          "output_type": "stream",
          "text": [
            "Valid Loss : 0.006608243773321379\n"
          ]
        },
        {
          "name": "stderr",
          "output_type": "stream",
          "text": [
            "100%|██████████| 289/289 [03:07<00:00,  1.54it/s, Epoch=150, LR=1e-6, Train_Loss=0.644, accuracy=0.799, f1=0.739]\n",
            "100%|██████████| 73/73 [00:14<00:00,  4.98it/s, Epoch=150, LR=1e-6, Valid_Loss=0.00715, accuracy=0.999, f1=0.998]\n"
          ]
        },
        {
          "name": "stdout",
          "output_type": "stream",
          "text": [
            "Valid Loss : 0.007154191802702334\n"
          ]
        },
        {
          "name": "stderr",
          "output_type": "stream",
          "text": [
            "100%|██████████| 289/289 [03:07<00:00,  1.54it/s, Epoch=151, LR=1e-6, Train_Loss=0.647, accuracy=0.791, f1=0.727]\n",
            "100%|██████████| 73/73 [00:14<00:00,  4.94it/s, Epoch=151, LR=1e-6, Valid_Loss=0.00635, accuracy=1, f1=1]\n"
          ]
        },
        {
          "name": "stdout",
          "output_type": "stream",
          "text": [
            "Valid Loss : 0.006352309769096031\n"
          ]
        },
        {
          "name": "stderr",
          "output_type": "stream",
          "text": [
            "100%|██████████| 289/289 [03:07<00:00,  1.54it/s, Epoch=152, LR=1e-6, Train_Loss=0.629, accuracy=0.818, f1=0.764]\n",
            "100%|██████████| 73/73 [00:14<00:00,  4.94it/s, Epoch=152, LR=1e-6, Valid_Loss=0.00652, accuracy=1, f1=1]\n"
          ]
        },
        {
          "name": "stdout",
          "output_type": "stream",
          "text": [
            "Valid Loss : 0.006521178144731955\n"
          ]
        },
        {
          "name": "stderr",
          "output_type": "stream",
          "text": [
            "100%|██████████| 289/289 [03:07<00:00,  1.54it/s, Epoch=153, LR=1e-6, Train_Loss=0.631, accuracy=0.799, f1=0.743]\n",
            "100%|██████████| 73/73 [00:14<00:00,  4.97it/s, Epoch=153, LR=1e-6, Valid_Loss=0.00599, accuracy=1, f1=1]\n"
          ]
        },
        {
          "name": "stdout",
          "output_type": "stream",
          "text": [
            "Valid Loss : 0.0059924777054980605\n",
            "Validation Loss improved( 0.006150390924120399 ---> 0.0059924777054980605  )\n",
            "Model Saved\n"
          ]
        },
        {
          "name": "stderr",
          "output_type": "stream",
          "text": [
            "100%|██████████| 289/289 [03:07<00:00,  1.54it/s, Epoch=154, LR=1e-6, Train_Loss=0.632, accuracy=0.813, f1=0.756]\n",
            "100%|██████████| 73/73 [00:14<00:00,  4.94it/s, Epoch=154, LR=1e-6, Valid_Loss=0.00663, accuracy=1, f1=1]\n"
          ]
        },
        {
          "name": "stdout",
          "output_type": "stream",
          "text": [
            "Valid Loss : 0.006634987224123045\n"
          ]
        },
        {
          "name": "stderr",
          "output_type": "stream",
          "text": [
            "100%|██████████| 289/289 [03:07<00:00,  1.54it/s, Epoch=155, LR=1e-6, Train_Loss=0.642, accuracy=0.807, f1=0.749]\n",
            "100%|██████████| 73/73 [00:14<00:00,  4.96it/s, Epoch=155, LR=1e-6, Valid_Loss=0.00657, accuracy=0.999, f1=0.998]\n"
          ]
        },
        {
          "name": "stdout",
          "output_type": "stream",
          "text": [
            "Valid Loss : 0.006573956864822196\n"
          ]
        },
        {
          "name": "stderr",
          "output_type": "stream",
          "text": [
            "100%|██████████| 289/289 [03:07<00:00,  1.54it/s, Epoch=156, LR=1e-6, Train_Loss=0.639, accuracy=0.814, f1=0.754]\n",
            "100%|██████████| 73/73 [00:14<00:00,  4.95it/s, Epoch=156, LR=1e-6, Valid_Loss=0.00629, accuracy=1, f1=1]\n"
          ]
        },
        {
          "name": "stdout",
          "output_type": "stream",
          "text": [
            "Valid Loss : 0.006293626428798657\n"
          ]
        },
        {
          "name": "stderr",
          "output_type": "stream",
          "text": [
            "100%|██████████| 289/289 [03:07<00:00,  1.54it/s, Epoch=157, LR=1e-6, Train_Loss=0.639, accuracy=0.817, f1=0.756]\n",
            "100%|██████████| 73/73 [00:14<00:00,  4.96it/s, Epoch=157, LR=1e-6, Valid_Loss=0.00609, accuracy=1, f1=1]\n"
          ]
        },
        {
          "name": "stdout",
          "output_type": "stream",
          "text": [
            "Valid Loss : 0.006087279275748624\n"
          ]
        },
        {
          "name": "stderr",
          "output_type": "stream",
          "text": [
            "100%|██████████| 289/289 [03:07<00:00,  1.54it/s, Epoch=158, LR=1e-6, Train_Loss=0.625, accuracy=0.814, f1=0.755]\n",
            "100%|██████████| 73/73 [00:14<00:00,  4.93it/s, Epoch=158, LR=1e-6, Valid_Loss=0.00566, accuracy=1, f1=1]\n"
          ]
        },
        {
          "name": "stdout",
          "output_type": "stream",
          "text": [
            "Valid Loss : 0.005656490864691465\n",
            "Validation Loss improved( 0.0059924777054980605 ---> 0.005656490864691465  )\n",
            "Model Saved\n"
          ]
        },
        {
          "name": "stderr",
          "output_type": "stream",
          "text": [
            "100%|██████████| 289/289 [03:07<00:00,  1.54it/s, Epoch=159, LR=1e-6, Train_Loss=0.65, accuracy=0.804, f1=0.747]\n",
            "100%|██████████| 73/73 [00:14<00:00,  5.00it/s, Epoch=159, LR=1e-6, Valid_Loss=0.00607, accuracy=1, f1=1]\n"
          ]
        },
        {
          "name": "stdout",
          "output_type": "stream",
          "text": [
            "Valid Loss : 0.006069233481555361\n"
          ]
        },
        {
          "name": "stderr",
          "output_type": "stream",
          "text": [
            "100%|██████████| 289/289 [03:07<00:00,  1.54it/s, Epoch=160, LR=1e-6, Train_Loss=0.634, accuracy=0.819, f1=0.762]\n",
            "100%|██████████| 73/73 [00:14<00:00,  4.99it/s, Epoch=160, LR=1e-6, Valid_Loss=0.00756, accuracy=0.999, f1=0.999]\n"
          ]
        },
        {
          "name": "stdout",
          "output_type": "stream",
          "text": [
            "Valid Loss : 0.007563501363620162\n"
          ]
        },
        {
          "name": "stderr",
          "output_type": "stream",
          "text": [
            "100%|██████████| 289/289 [03:07<00:00,  1.55it/s, Epoch=161, LR=1e-6, Train_Loss=0.636, accuracy=0.805, f1=0.747]\n",
            "100%|██████████| 73/73 [00:14<00:00,  4.94it/s, Epoch=161, LR=1e-6, Valid_Loss=0.0058, accuracy=1, f1=1]\n"
          ]
        },
        {
          "name": "stdout",
          "output_type": "stream",
          "text": [
            "Valid Loss : 0.0058002280460491985\n"
          ]
        },
        {
          "name": "stderr",
          "output_type": "stream",
          "text": [
            "100%|██████████| 289/289 [03:06<00:00,  1.55it/s, Epoch=162, LR=1e-6, Train_Loss=0.632, accuracy=0.812, f1=0.755]\n",
            "100%|██████████| 73/73 [00:14<00:00,  4.97it/s, Epoch=162, LR=1e-6, Valid_Loss=0.0059, accuracy=1, f1=1]\n"
          ]
        },
        {
          "name": "stdout",
          "output_type": "stream",
          "text": [
            "Valid Loss : 0.005899901119099088\n"
          ]
        },
        {
          "name": "stderr",
          "output_type": "stream",
          "text": [
            "100%|██████████| 289/289 [03:06<00:00,  1.55it/s, Epoch=163, LR=1e-6, Train_Loss=0.637, accuracy=0.813, f1=0.753]\n",
            "100%|██████████| 73/73 [00:14<00:00,  4.99it/s, Epoch=163, LR=1e-6, Valid_Loss=0.00561, accuracy=1, f1=1]\n"
          ]
        },
        {
          "name": "stdout",
          "output_type": "stream",
          "text": [
            "Valid Loss : 0.00560764708135226\n",
            "Validation Loss improved( 0.005656490864691465 ---> 0.00560764708135226  )\n",
            "Model Saved\n"
          ]
        },
        {
          "name": "stderr",
          "output_type": "stream",
          "text": [
            "100%|██████████| 289/289 [03:07<00:00,  1.55it/s, Epoch=164, LR=1e-6, Train_Loss=0.63, accuracy=0.802, f1=0.74]\n",
            "100%|██████████| 73/73 [00:14<00:00,  4.92it/s, Epoch=164, LR=1e-6, Valid_Loss=0.00597, accuracy=1, f1=1]\n"
          ]
        },
        {
          "name": "stdout",
          "output_type": "stream",
          "text": [
            "Valid Loss : 0.005972151414886729\n"
          ]
        },
        {
          "name": "stderr",
          "output_type": "stream",
          "text": [
            "100%|██████████| 289/289 [03:06<00:00,  1.55it/s, Epoch=165, LR=1e-6, Train_Loss=0.643, accuracy=0.795, f1=0.733]\n",
            "100%|██████████| 73/73 [00:14<00:00,  4.99it/s, Epoch=165, LR=1e-6, Valid_Loss=0.00641, accuracy=0.999, f1=0.998]\n"
          ]
        },
        {
          "name": "stdout",
          "output_type": "stream",
          "text": [
            "Valid Loss : 0.00640791830326086\n"
          ]
        },
        {
          "name": "stderr",
          "output_type": "stream",
          "text": [
            "100%|██████████| 289/289 [03:06<00:00,  1.55it/s, Epoch=166, LR=1e-6, Train_Loss=0.633, accuracy=0.802, f1=0.744]\n",
            "100%|██████████| 73/73 [00:14<00:00,  4.98it/s, Epoch=166, LR=1e-6, Valid_Loss=0.00596, accuracy=1, f1=1]\n"
          ]
        },
        {
          "name": "stdout",
          "output_type": "stream",
          "text": [
            "Valid Loss : 0.0059588983151041075\n"
          ]
        },
        {
          "name": "stderr",
          "output_type": "stream",
          "text": [
            "100%|██████████| 289/289 [03:07<00:00,  1.55it/s, Epoch=167, LR=1e-6, Train_Loss=0.638, accuracy=0.802, f1=0.747]\n",
            "100%|██████████| 73/73 [00:14<00:00,  4.95it/s, Epoch=167, LR=1e-6, Valid_Loss=0.00569, accuracy=1, f1=1]\n"
          ]
        },
        {
          "name": "stdout",
          "output_type": "stream",
          "text": [
            "Valid Loss : 0.005689072980838892\n"
          ]
        },
        {
          "name": "stderr",
          "output_type": "stream",
          "text": [
            "100%|██████████| 289/289 [03:06<00:00,  1.55it/s, Epoch=168, LR=1e-6, Train_Loss=0.637, accuracy=0.791, f1=0.734]\n",
            "100%|██████████| 73/73 [00:14<00:00,  4.98it/s, Epoch=168, LR=1e-6, Valid_Loss=0.00569, accuracy=1, f1=1]\n"
          ]
        },
        {
          "name": "stdout",
          "output_type": "stream",
          "text": [
            "Valid Loss : 0.00568639680947343\n"
          ]
        },
        {
          "name": "stderr",
          "output_type": "stream",
          "text": [
            "100%|██████████| 289/289 [03:06<00:00,  1.55it/s, Epoch=169, LR=1e-6, Train_Loss=0.633, accuracy=0.791, f1=0.736]\n",
            "100%|██████████| 73/73 [00:14<00:00,  4.95it/s, Epoch=169, LR=1e-6, Valid_Loss=0.00582, accuracy=1, f1=1]\n"
          ]
        },
        {
          "name": "stdout",
          "output_type": "stream",
          "text": [
            "Valid Loss : 0.005824791544997324\n"
          ]
        },
        {
          "name": "stderr",
          "output_type": "stream",
          "text": [
            "100%|██████████| 289/289 [03:06<00:00,  1.55it/s, Epoch=170, LR=1e-6, Train_Loss=0.633, accuracy=0.819, f1=0.765]\n",
            "100%|██████████| 73/73 [00:14<00:00,  4.98it/s, Epoch=170, LR=1e-6, Valid_Loss=0.00651, accuracy=0.999, f1=0.998]\n"
          ]
        },
        {
          "name": "stdout",
          "output_type": "stream",
          "text": [
            "Valid Loss : 0.006511855634465201\n"
          ]
        },
        {
          "name": "stderr",
          "output_type": "stream",
          "text": [
            "100%|██████████| 289/289 [03:06<00:00,  1.55it/s, Epoch=171, LR=1e-6, Train_Loss=0.645, accuracy=0.805, f1=0.748]\n",
            "100%|██████████| 73/73 [00:14<00:00,  4.95it/s, Epoch=171, LR=1e-6, Valid_Loss=0.00554, accuracy=1, f1=1]\n"
          ]
        },
        {
          "name": "stdout",
          "output_type": "stream",
          "text": [
            "Valid Loss : 0.005538911322667582\n",
            "Validation Loss improved( 0.00560764708135226 ---> 0.005538911322667582  )\n",
            "Model Saved\n"
          ]
        },
        {
          "name": "stderr",
          "output_type": "stream",
          "text": [
            "100%|██████████| 289/289 [03:07<00:00,  1.54it/s, Epoch=172, LR=1e-6, Train_Loss=0.627, accuracy=0.804, f1=0.752]\n",
            "100%|██████████| 73/73 [00:14<00:00,  4.98it/s, Epoch=172, LR=1e-6, Valid_Loss=0.00556, accuracy=1, f1=1]\n"
          ]
        },
        {
          "name": "stdout",
          "output_type": "stream",
          "text": [
            "Valid Loss : 0.0055589147026918525\n"
          ]
        },
        {
          "name": "stderr",
          "output_type": "stream",
          "text": [
            "100%|██████████| 289/289 [03:06<00:00,  1.55it/s, Epoch=173, LR=1e-6, Train_Loss=0.63, accuracy=0.812, f1=0.762]\n",
            "100%|██████████| 73/73 [00:14<00:00,  4.97it/s, Epoch=173, LR=1e-6, Valid_Loss=0.00513, accuracy=1, f1=1]\n"
          ]
        },
        {
          "name": "stdout",
          "output_type": "stream",
          "text": [
            "Valid Loss : 0.005132427018084754\n",
            "Validation Loss improved( 0.005538911322667582 ---> 0.005132427018084754  )\n",
            "Model Saved\n"
          ]
        },
        {
          "name": "stderr",
          "output_type": "stream",
          "text": [
            "100%|██████████| 289/289 [03:07<00:00,  1.54it/s, Epoch=174, LR=1e-6, Train_Loss=0.633, accuracy=0.816, f1=0.761]\n",
            "100%|██████████| 73/73 [00:14<00:00,  4.94it/s, Epoch=174, LR=1e-6, Valid_Loss=0.00576, accuracy=1, f1=1]\n"
          ]
        },
        {
          "name": "stdout",
          "output_type": "stream",
          "text": [
            "Valid Loss : 0.005756738493601753\n"
          ]
        },
        {
          "name": "stderr",
          "output_type": "stream",
          "text": [
            "100%|██████████| 289/289 [03:06<00:00,  1.55it/s, Epoch=175, LR=1e-6, Train_Loss=0.634, accuracy=0.806, f1=0.749]\n",
            "100%|██████████| 73/73 [00:14<00:00,  4.94it/s, Epoch=175, LR=1e-6, Valid_Loss=0.00684, accuracy=0.999, f1=0.998]\n"
          ]
        },
        {
          "name": "stdout",
          "output_type": "stream",
          "text": [
            "Valid Loss : 0.006841092185461766\n"
          ]
        },
        {
          "name": "stderr",
          "output_type": "stream",
          "text": [
            "100%|██████████| 289/289 [03:07<00:00,  1.54it/s, Epoch=176, LR=1e-6, Train_Loss=0.635, accuracy=0.8, f1=0.743]\n",
            "100%|██████████| 73/73 [00:14<00:00,  4.92it/s, Epoch=176, LR=1e-6, Valid_Loss=0.00568, accuracy=1, f1=1]\n"
          ]
        },
        {
          "name": "stdout",
          "output_type": "stream",
          "text": [
            "Valid Loss : 0.005681754549174276\n"
          ]
        },
        {
          "name": "stderr",
          "output_type": "stream",
          "text": [
            "100%|██████████| 289/289 [03:06<00:00,  1.55it/s, Epoch=177, LR=1e-6, Train_Loss=0.632, accuracy=0.809, f1=0.754]\n",
            "100%|██████████| 73/73 [00:14<00:00,  4.93it/s, Epoch=177, LR=1e-6, Valid_Loss=0.00535, accuracy=1, f1=1]\n"
          ]
        },
        {
          "name": "stdout",
          "output_type": "stream",
          "text": [
            "Valid Loss : 0.005354777552595694\n"
          ]
        },
        {
          "name": "stderr",
          "output_type": "stream",
          "text": [
            "100%|██████████| 289/289 [03:07<00:00,  1.54it/s, Epoch=178, LR=1e-6, Train_Loss=0.627, accuracy=0.807, f1=0.749]\n",
            "100%|██████████| 73/73 [00:14<00:00,  4.95it/s, Epoch=178, LR=1e-6, Valid_Loss=0.00533, accuracy=1, f1=1]\n"
          ]
        },
        {
          "name": "stdout",
          "output_type": "stream",
          "text": [
            "Valid Loss : 0.0053278493427046355\n"
          ]
        },
        {
          "name": "stderr",
          "output_type": "stream",
          "text": [
            "100%|██████████| 289/289 [03:07<00:00,  1.54it/s, Epoch=179, LR=1e-6, Train_Loss=0.621, accuracy=0.833, f1=0.779]\n",
            "100%|██████████| 73/73 [00:14<00:00,  4.94it/s, Epoch=179, LR=1e-6, Valid_Loss=0.0057, accuracy=1, f1=1]\n"
          ]
        },
        {
          "name": "stdout",
          "output_type": "stream",
          "text": [
            "Valid Loss : 0.0056957982780335295\n"
          ]
        },
        {
          "name": "stderr",
          "output_type": "stream",
          "text": [
            "100%|██████████| 289/289 [03:07<00:00,  1.54it/s, Epoch=180, LR=1e-6, Train_Loss=0.633, accuracy=0.824, f1=0.767]\n",
            "100%|██████████| 73/73 [00:14<00:00,  4.97it/s, Epoch=180, LR=1e-6, Valid_Loss=0.00598, accuracy=1, f1=1]\n"
          ]
        },
        {
          "name": "stdout",
          "output_type": "stream",
          "text": [
            "Valid Loss : 0.0059834136691403715\n"
          ]
        },
        {
          "name": "stderr",
          "output_type": "stream",
          "text": [
            "100%|██████████| 289/289 [03:07<00:00,  1.54it/s, Epoch=181, LR=1e-6, Train_Loss=0.622, accuracy=0.814, f1=0.765]\n",
            "100%|██████████| 73/73 [00:14<00:00,  4.92it/s, Epoch=181, LR=1e-6, Valid_Loss=0.00517, accuracy=1, f1=1]\n"
          ]
        },
        {
          "name": "stdout",
          "output_type": "stream",
          "text": [
            "Valid Loss : 0.005171692604836944\n"
          ]
        },
        {
          "name": "stderr",
          "output_type": "stream",
          "text": [
            "100%|██████████| 289/289 [03:07<00:00,  1.55it/s, Epoch=182, LR=1e-6, Train_Loss=0.61, accuracy=0.827, f1=0.772]\n",
            "100%|██████████| 73/73 [00:14<00:00,  4.93it/s, Epoch=182, LR=1e-6, Valid_Loss=0.00564, accuracy=1, f1=1]\n"
          ]
        },
        {
          "name": "stdout",
          "output_type": "stream",
          "text": [
            "Valid Loss : 0.005641396632673193\n"
          ]
        },
        {
          "name": "stderr",
          "output_type": "stream",
          "text": [
            "100%|██████████| 289/289 [03:06<00:00,  1.55it/s, Epoch=183, LR=1e-6, Train_Loss=0.611, accuracy=0.817, f1=0.765]\n",
            "100%|██████████| 73/73 [00:14<00:00,  4.96it/s, Epoch=183, LR=1e-6, Valid_Loss=0.00519, accuracy=1, f1=1]\n"
          ]
        },
        {
          "name": "stdout",
          "output_type": "stream",
          "text": [
            "Valid Loss : 0.0051947215265811305\n"
          ]
        },
        {
          "name": "stderr",
          "output_type": "stream",
          "text": [
            "100%|██████████| 289/289 [03:06<00:00,  1.55it/s, Epoch=184, LR=1e-6, Train_Loss=0.637, accuracy=0.809, f1=0.753]\n",
            "100%|██████████| 73/73 [00:14<00:00,  4.96it/s, Epoch=184, LR=1e-6, Valid_Loss=0.0053, accuracy=1, f1=1]\n"
          ]
        },
        {
          "name": "stdout",
          "output_type": "stream",
          "text": [
            "Valid Loss : 0.005304846041899634\n"
          ]
        },
        {
          "name": "stderr",
          "output_type": "stream",
          "text": [
            "100%|██████████| 289/289 [03:07<00:00,  1.54it/s, Epoch=185, LR=1e-6, Train_Loss=0.627, accuracy=0.811, f1=0.76]\n",
            "100%|██████████| 73/73 [00:14<00:00,  4.97it/s, Epoch=185, LR=1e-6, Valid_Loss=0.00631, accuracy=0.999, f1=0.999]\n"
          ]
        },
        {
          "name": "stdout",
          "output_type": "stream",
          "text": [
            "Valid Loss : 0.006306061447814923\n"
          ]
        },
        {
          "name": "stderr",
          "output_type": "stream",
          "text": [
            "100%|██████████| 289/289 [03:06<00:00,  1.55it/s, Epoch=186, LR=1e-6, Train_Loss=0.618, accuracy=0.827, f1=0.77]\n",
            "100%|██████████| 73/73 [00:14<00:00,  4.95it/s, Epoch=186, LR=1e-6, Valid_Loss=0.00529, accuracy=1, f1=1]\n"
          ]
        },
        {
          "name": "stdout",
          "output_type": "stream",
          "text": [
            "Valid Loss : 0.005293524989934816\n"
          ]
        },
        {
          "name": "stderr",
          "output_type": "stream",
          "text": [
            "100%|██████████| 289/289 [03:07<00:00,  1.54it/s, Epoch=187, LR=1e-6, Train_Loss=0.624, accuracy=0.81, f1=0.757]\n",
            "100%|██████████| 73/73 [00:14<00:00,  4.94it/s, Epoch=187, LR=1e-6, Valid_Loss=0.00527, accuracy=1, f1=1]\n"
          ]
        },
        {
          "name": "stdout",
          "output_type": "stream",
          "text": [
            "Valid Loss : 0.005272272505401953\n"
          ]
        },
        {
          "name": "stderr",
          "output_type": "stream",
          "text": [
            "100%|██████████| 289/289 [03:07<00:00,  1.54it/s, Epoch=188, LR=1e-6, Train_Loss=0.613, accuracy=0.827, f1=0.777]\n",
            "100%|██████████| 73/73 [00:14<00:00,  4.98it/s, Epoch=188, LR=1e-6, Valid_Loss=0.00507, accuracy=1, f1=1]\n"
          ]
        },
        {
          "name": "stdout",
          "output_type": "stream",
          "text": [
            "Valid Loss : 0.005068675943407906\n",
            "Validation Loss improved( 0.005132427018084754 ---> 0.005068675943407906  )\n",
            "Model Saved\n"
          ]
        },
        {
          "name": "stderr",
          "output_type": "stream",
          "text": [
            "100%|██████████| 289/289 [03:07<00:00,  1.54it/s, Epoch=189, LR=1e-6, Train_Loss=0.621, accuracy=0.825, f1=0.772]\n",
            "100%|██████████| 73/73 [00:14<00:00,  4.96it/s, Epoch=189, LR=1e-6, Valid_Loss=0.00523, accuracy=1, f1=1]\n"
          ]
        },
        {
          "name": "stdout",
          "output_type": "stream",
          "text": [
            "Valid Loss : 0.005225584634949695\n"
          ]
        },
        {
          "name": "stderr",
          "output_type": "stream",
          "text": [
            "100%|██████████| 289/289 [03:07<00:00,  1.54it/s, Epoch=190, LR=1e-6, Train_Loss=0.645, accuracy=0.8, f1=0.745]\n",
            "100%|██████████| 73/73 [00:14<00:00,  4.97it/s, Epoch=190, LR=1e-6, Valid_Loss=0.00555, accuracy=0.999, f1=0.996]\n"
          ]
        },
        {
          "name": "stdout",
          "output_type": "stream",
          "text": [
            "Valid Loss : 0.0055514261611316305\n"
          ]
        },
        {
          "name": "stderr",
          "output_type": "stream",
          "text": [
            "100%|██████████| 289/289 [03:07<00:00,  1.54it/s, Epoch=191, LR=1e-6, Train_Loss=0.63, accuracy=0.82, f1=0.767]\n",
            "100%|██████████| 73/73 [00:14<00:00,  4.97it/s, Epoch=191, LR=1e-6, Valid_Loss=0.00489, accuracy=1, f1=1]\n"
          ]
        },
        {
          "name": "stdout",
          "output_type": "stream",
          "text": [
            "Valid Loss : 0.00489202617948288\n",
            "Validation Loss improved( 0.005068675943407906 ---> 0.00489202617948288  )\n",
            "Model Saved\n"
          ]
        },
        {
          "name": "stderr",
          "output_type": "stream",
          "text": [
            "100%|██████████| 289/289 [03:07<00:00,  1.54it/s, Epoch=192, LR=1e-6, Train_Loss=0.626, accuracy=0.824, f1=0.769]\n",
            "100%|██████████| 73/73 [00:14<00:00,  4.96it/s, Epoch=192, LR=1e-6, Valid_Loss=0.00512, accuracy=1, f1=1]\n"
          ]
        },
        {
          "name": "stdout",
          "output_type": "stream",
          "text": [
            "Valid Loss : 0.005123372326847421\n"
          ]
        },
        {
          "name": "stderr",
          "output_type": "stream",
          "text": [
            "100%|██████████| 289/289 [03:06<00:00,  1.55it/s, Epoch=193, LR=1e-6, Train_Loss=0.622, accuracy=0.817, f1=0.765]\n",
            "100%|██████████| 73/73 [00:14<00:00,  4.98it/s, Epoch=193, LR=1e-6, Valid_Loss=0.005, accuracy=1, f1=1]\n"
          ]
        },
        {
          "name": "stdout",
          "output_type": "stream",
          "text": [
            "Valid Loss : 0.005000070719788335\n"
          ]
        },
        {
          "name": "stderr",
          "output_type": "stream",
          "text": [
            "100%|██████████| 289/289 [03:08<00:00,  1.54it/s, Epoch=194, LR=1e-6, Train_Loss=0.625, accuracy=0.801, f1=0.744]\n",
            "100%|██████████| 73/73 [00:14<00:00,  4.90it/s, Epoch=194, LR=1e-6, Valid_Loss=0.0052, accuracy=1, f1=1]\n"
          ]
        },
        {
          "name": "stdout",
          "output_type": "stream",
          "text": [
            "Valid Loss : 0.005197289214813954\n"
          ]
        },
        {
          "name": "stderr",
          "output_type": "stream",
          "text": [
            "100%|██████████| 289/289 [03:06<00:00,  1.55it/s, Epoch=195, LR=1e-6, Train_Loss=0.62, accuracy=0.829, f1=0.775]\n",
            "100%|██████████| 73/73 [00:14<00:00,  4.95it/s, Epoch=195, LR=1e-6, Valid_Loss=0.00562, accuracy=0.999, f1=0.998]\n"
          ]
        },
        {
          "name": "stdout",
          "output_type": "stream",
          "text": [
            "Valid Loss : 0.005617011163052018\n"
          ]
        },
        {
          "name": "stderr",
          "output_type": "stream",
          "text": [
            "100%|██████████| 289/289 [03:07<00:00,  1.54it/s, Epoch=196, LR=1e-6, Train_Loss=0.621, accuracy=0.825, f1=0.775]\n",
            "100%|██████████| 73/73 [00:14<00:00,  4.91it/s, Epoch=196, LR=1e-6, Valid_Loss=0.005, accuracy=1, f1=1]\n"
          ]
        },
        {
          "name": "stdout",
          "output_type": "stream",
          "text": [
            "Valid Loss : 0.0050027005674240935\n"
          ]
        },
        {
          "name": "stderr",
          "output_type": "stream",
          "text": [
            "100%|██████████| 289/289 [03:07<00:00,  1.54it/s, Epoch=197, LR=1e-6, Train_Loss=0.619, accuracy=0.819, f1=0.767]\n",
            "100%|██████████| 73/73 [00:14<00:00,  4.92it/s, Epoch=197, LR=1e-6, Valid_Loss=0.00525, accuracy=1, f1=1]\n"
          ]
        },
        {
          "name": "stdout",
          "output_type": "stream",
          "text": [
            "Valid Loss : 0.0052528556512847335\n"
          ]
        },
        {
          "name": "stderr",
          "output_type": "stream",
          "text": [
            "100%|██████████| 289/289 [03:07<00:00,  1.54it/s, Epoch=198, LR=1e-6, Train_Loss=0.613, accuracy=0.81, f1=0.756]\n",
            "100%|██████████| 73/73 [00:14<00:00,  4.94it/s, Epoch=198, LR=1e-6, Valid_Loss=0.00474, accuracy=1, f1=1]\n"
          ]
        },
        {
          "name": "stdout",
          "output_type": "stream",
          "text": [
            "Valid Loss : 0.004743696745383005\n",
            "Validation Loss improved( 0.00489202617948288 ---> 0.004743696745383005  )\n",
            "Model Saved\n"
          ]
        },
        {
          "name": "stderr",
          "output_type": "stream",
          "text": [
            "100%|██████████| 289/289 [03:07<00:00,  1.54it/s, Epoch=199, LR=1e-6, Train_Loss=0.618, accuracy=0.813, f1=0.755]\n",
            "100%|██████████| 73/73 [00:14<00:00,  4.93it/s, Epoch=199, LR=1e-6, Valid_Loss=0.00502, accuracy=1, f1=1]\n"
          ]
        },
        {
          "name": "stdout",
          "output_type": "stream",
          "text": [
            "Valid Loss : 0.0050196837321281025\n"
          ]
        },
        {
          "name": "stderr",
          "output_type": "stream",
          "text": [
            "100%|██████████| 289/289 [03:07<00:00,  1.54it/s, Epoch=200, LR=1e-6, Train_Loss=0.626, accuracy=0.814, f1=0.757]\n",
            "100%|██████████| 73/73 [00:14<00:00,  4.93it/s, Epoch=200, LR=1e-6, Valid_Loss=0.00665, accuracy=0.999, f1=0.997]\n"
          ]
        },
        {
          "name": "stdout",
          "output_type": "stream",
          "text": [
            "Valid Loss : 0.006649096639928956\n"
          ]
        },
        {
          "name": "stderr",
          "output_type": "stream",
          "text": [
            "100%|██████████| 289/289 [03:07<00:00,  1.54it/s, Epoch=201, LR=1e-6, Train_Loss=0.615, accuracy=0.818, f1=0.763]\n",
            "100%|██████████| 73/73 [00:14<00:00,  4.94it/s, Epoch=201, LR=1e-6, Valid_Loss=0.00461, accuracy=1, f1=1]\n"
          ]
        },
        {
          "name": "stdout",
          "output_type": "stream",
          "text": [
            "Valid Loss : 0.004614471626940043\n",
            "Validation Loss improved( 0.004743696745383005 ---> 0.004614471626940043  )\n",
            "Model Saved\n"
          ]
        },
        {
          "name": "stderr",
          "output_type": "stream",
          "text": [
            "100%|██████████| 289/289 [03:07<00:00,  1.54it/s, Epoch=202, LR=1e-6, Train_Loss=0.623, accuracy=0.834, f1=0.786]\n",
            "100%|██████████| 73/73 [00:14<00:00,  4.91it/s, Epoch=202, LR=1e-6, Valid_Loss=0.00483, accuracy=1, f1=1]\n"
          ]
        },
        {
          "name": "stdout",
          "output_type": "stream",
          "text": [
            "Valid Loss : 0.004828258685461462\n"
          ]
        },
        {
          "name": "stderr",
          "output_type": "stream",
          "text": [
            "100%|██████████| 289/289 [03:07<00:00,  1.54it/s, Epoch=203, LR=1e-6, Train_Loss=0.614, accuracy=0.812, f1=0.757]\n",
            "100%|██████████| 73/73 [00:14<00:00,  4.93it/s, Epoch=203, LR=1e-6, Valid_Loss=0.0049, accuracy=1, f1=1]\n"
          ]
        },
        {
          "name": "stdout",
          "output_type": "stream",
          "text": [
            "Valid Loss : 0.004897012923882432\n"
          ]
        },
        {
          "name": "stderr",
          "output_type": "stream",
          "text": [
            "100%|██████████| 289/289 [03:07<00:00,  1.54it/s, Epoch=204, LR=1e-6, Train_Loss=0.618, accuracy=0.83, f1=0.777]\n",
            "100%|██████████| 73/73 [00:14<00:00,  4.93it/s, Epoch=204, LR=1e-6, Valid_Loss=0.00512, accuracy=1, f1=1]\n"
          ]
        },
        {
          "name": "stdout",
          "output_type": "stream",
          "text": [
            "Valid Loss : 0.00511594121790912\n",
            "Training complete in 5h 38m 43s\n",
            "Best Loss: 0.0046\n"
          ]
        }
      ],
      "source": [
        "ic.disable()\n",
        "run_training(\n",
        "    model=model,\n",
        "    optimizer=optimizer,\n",
        "    # scheduler=torch.optim.lr_scheduler.CosineAnnealingLR(\n",
        "    #     optimizer=optimizer, T_max=CONFIG['T_max'], eta_min=CONFIG['min_lr']),\n",
        "    scheduler=None,\n",
        "    device=device,\n",
        "    num_epochs=100,\n",
        "    metric_prefix=\"\",\n",
        "    file_prefix=\"\",\n",
        "    early_stopping=CONFIG['early_stopping'],\n",
        "    early_stopping_step=CONFIG['early_stopping_step'],\n",
        "    START_EPOCH=105,\n",
        ");\n"
      ]
    },
    {
      "cell_type": "markdown",
      "metadata": {
        "id": "xLeXSLHjVJSB"
      },
      "source": [
        "# 200 epoch"
      ]
    },
    {
      "cell_type": "code",
      "execution_count": null,
      "metadata": {
        "colab": {
          "base_uri": "https://localhost:8080/"
        },
        "id": "HT_bbK1QVJSC",
        "outputId": "04de8d21-482d-4b43-bee7-c325092124bf"
      },
      "outputs": [
        {
          "data": {
            "text/plain": [
              "<_io.TextIOWrapper name='./convnext_small finecutmixlast.bin' mode='r' encoding='UTF-8'>"
            ]
          },
          "execution_count": 38,
          "metadata": {},
          "output_type": "execute_result"
        }
      ],
      "source": [
        "wandb.restore(f'{CONFIG[\"nickname\"]}last.bin', 'jiwon7258/lg/2ow4king', root='./')"
      ]
    },
    {
      "cell_type": "code",
      "execution_count": null,
      "metadata": {
        "colab": {
          "base_uri": "https://localhost:8080/"
        },
        "id": "nR2HZLfcVJSC",
        "outputId": "284fa743-f8e2-417a-8c04-863aa124a1ed"
      },
      "outputs": [
        {
          "data": {
            "text/plain": [
              "<All keys matched successfully>"
            ]
          },
          "execution_count": 40,
          "metadata": {},
          "output_type": "execute_result"
        }
      ],
      "source": [
        "model.load_state_dict(torch.load(f'{CONFIG[\"nickname\"]}last.bin',\n",
        "                      map_location=CONFIG['device']))"
      ]
    },
    {
      "cell_type": "code",
      "execution_count": null,
      "metadata": {
        "id": "o19cnoojVJSD"
      },
      "outputs": [],
      "source": [
        "optimizer = torch.optim.Adam(\n",
        "    params=model.parameters(), lr=1e-6, weight_decay=CONFIG['weight_decay'])"
      ]
    },
    {
      "cell_type": "code",
      "execution_count": null,
      "metadata": {
        "colab": {
          "base_uri": "https://localhost:8080/"
        },
        "id": "iYiZsK23VJSD",
        "outputId": "c6b333be-53a1-4110-945c-c8a63adf402c"
      },
      "outputs": [
        {
          "name": "stdout",
          "output_type": "stream",
          "text": [
            "[INFO] Using GPU:Tesla P100-PCIE-16GB\n",
            "\n"
          ]
        },
        {
          "name": "stderr",
          "output_type": "stream",
          "text": [
            "100%|██████████| 145/145 [03:11<00:00,  1.32s/it, Epoch=205, LR=1e-6, Train_Loss=0.635, accuracy=0.824, f1=0.764]\n",
            "100%|██████████| 73/73 [00:16<00:00,  4.38it/s, Epoch=205, LR=1e-6, Valid_Loss=0.00511, accuracy=1, f1=1]\n"
          ]
        },
        {
          "name": "stdout",
          "output_type": "stream",
          "text": [
            "Valid Loss : 0.0051132223093627045\n",
            "Validation Loss improved( inf ---> 0.0051132223093627045  )\n",
            "Model Saved\n"
          ]
        },
        {
          "name": "stderr",
          "output_type": "stream",
          "text": [
            "100%|██████████| 145/145 [03:10<00:00,  1.31s/it, Epoch=206, LR=1e-6, Train_Loss=0.637, accuracy=0.836, f1=0.772]\n",
            "100%|██████████| 73/73 [00:16<00:00,  4.35it/s, Epoch=206, LR=1e-6, Valid_Loss=0.00461, accuracy=1, f1=1]\n"
          ]
        },
        {
          "name": "stdout",
          "output_type": "stream",
          "text": [
            "Valid Loss : 0.004606066313125703\n",
            "Validation Loss improved( 0.0051132223093627045 ---> 0.004606066313125703  )\n",
            "Model Saved\n"
          ]
        },
        {
          "name": "stderr",
          "output_type": "stream",
          "text": [
            "100%|██████████| 145/145 [03:10<00:00,  1.31s/it, Epoch=207, LR=1e-6, Train_Loss=0.648, accuracy=0.83, f1=0.762]\n",
            "100%|██████████| 73/73 [00:16<00:00,  4.40it/s, Epoch=207, LR=1e-6, Valid_Loss=0.00527, accuracy=1, f1=1]\n"
          ]
        },
        {
          "name": "stdout",
          "output_type": "stream",
          "text": [
            "Valid Loss : 0.005266808289141484\n"
          ]
        },
        {
          "name": "stderr",
          "output_type": "stream",
          "text": [
            "100%|██████████| 145/145 [03:09<00:00,  1.31s/it, Epoch=208, LR=1e-6, Train_Loss=0.642, accuracy=0.818, f1=0.763]\n",
            "100%|██████████| 73/73 [00:16<00:00,  4.43it/s, Epoch=208, LR=1e-6, Valid_Loss=0.00482, accuracy=1, f1=1]\n"
          ]
        },
        {
          "name": "stdout",
          "output_type": "stream",
          "text": [
            "Valid Loss : 0.0048245869876740325\n"
          ]
        },
        {
          "name": "stderr",
          "output_type": "stream",
          "text": [
            "100%|██████████| 145/145 [03:10<00:00,  1.31s/it, Epoch=209, LR=1e-6, Train_Loss=0.631, accuracy=0.827, f1=0.768]\n",
            "100%|██████████| 73/73 [00:16<00:00,  4.45it/s, Epoch=209, LR=1e-6, Valid_Loss=0.00501, accuracy=1, f1=1]\n"
          ]
        },
        {
          "name": "stdout",
          "output_type": "stream",
          "text": [
            "Valid Loss : 0.005006370560444688\n"
          ]
        },
        {
          "name": "stderr",
          "output_type": "stream",
          "text": [
            "100%|██████████| 145/145 [03:09<00:00,  1.31s/it, Epoch=210, LR=1e-6, Train_Loss=0.632, accuracy=0.828, f1=0.77]\n",
            "100%|██████████| 73/73 [00:16<00:00,  4.43it/s, Epoch=210, LR=1e-6, Valid_Loss=0.00563, accuracy=0.999, f1=0.999]\n"
          ]
        },
        {
          "name": "stdout",
          "output_type": "stream",
          "text": [
            "Valid Loss : 0.005626959199953365\n"
          ]
        },
        {
          "name": "stderr",
          "output_type": "stream",
          "text": [
            "100%|██████████| 145/145 [03:09<00:00,  1.31s/it, Epoch=211, LR=1e-6, Train_Loss=0.623, accuracy=0.845, f1=0.784]\n",
            "100%|██████████| 73/73 [00:16<00:00,  4.46it/s, Epoch=211, LR=1e-6, Valid_Loss=0.00474, accuracy=1, f1=1]\n"
          ]
        },
        {
          "name": "stdout",
          "output_type": "stream",
          "text": [
            "Valid Loss : 0.004741583143883984\n"
          ]
        },
        {
          "name": "stderr",
          "output_type": "stream",
          "text": [
            "100%|██████████| 145/145 [03:09<00:00,  1.30s/it, Epoch=212, LR=1e-6, Train_Loss=0.644, accuracy=0.828, f1=0.764]\n",
            "100%|██████████| 73/73 [00:16<00:00,  4.46it/s, Epoch=212, LR=1e-6, Valid_Loss=0.00537, accuracy=1, f1=1]\n"
          ]
        },
        {
          "name": "stdout",
          "output_type": "stream",
          "text": [
            "Valid Loss : 0.005372311588223666\n"
          ]
        },
        {
          "name": "stderr",
          "output_type": "stream",
          "text": [
            "100%|██████████| 145/145 [03:09<00:00,  1.31s/it, Epoch=213, LR=1e-6, Train_Loss=0.631, accuracy=0.835, f1=0.785]\n",
            "100%|██████████| 73/73 [00:16<00:00,  4.45it/s, Epoch=213, LR=1e-6, Valid_Loss=0.00482, accuracy=1, f1=1]\n"
          ]
        },
        {
          "name": "stdout",
          "output_type": "stream",
          "text": [
            "Valid Loss : 0.004822072719721353\n"
          ]
        },
        {
          "name": "stderr",
          "output_type": "stream",
          "text": [
            "100%|██████████| 145/145 [03:08<00:00,  1.30s/it, Epoch=214, LR=1e-6, Train_Loss=0.634, accuracy=0.832, f1=0.771]\n",
            "100%|██████████| 73/73 [00:16<00:00,  4.48it/s, Epoch=214, LR=1e-6, Valid_Loss=0.00493, accuracy=1, f1=1]\n"
          ]
        },
        {
          "name": "stdout",
          "output_type": "stream",
          "text": [
            "Valid Loss : 0.004932755682528121\n"
          ]
        },
        {
          "name": "stderr",
          "output_type": "stream",
          "text": [
            "100%|██████████| 145/145 [03:08<00:00,  1.30s/it, Epoch=215, LR=1e-6, Train_Loss=0.629, accuracy=0.84, f1=0.79]\n",
            "100%|██████████| 73/73 [00:16<00:00,  4.48it/s, Epoch=215, LR=1e-6, Valid_Loss=0.00554, accuracy=0.999, f1=0.998]\n"
          ]
        },
        {
          "name": "stdout",
          "output_type": "stream",
          "text": [
            "Valid Loss : 0.0055424044361618695\n"
          ]
        },
        {
          "name": "stderr",
          "output_type": "stream",
          "text": [
            "100%|██████████| 145/145 [03:09<00:00,  1.31s/it, Epoch=216, LR=1e-6, Train_Loss=0.62, accuracy=0.85, f1=0.794]\n",
            "100%|██████████| 73/73 [00:16<00:00,  4.48it/s, Epoch=216, LR=1e-6, Valid_Loss=0.0047, accuracy=1, f1=1]\n"
          ]
        },
        {
          "name": "stdout",
          "output_type": "stream",
          "text": [
            "Valid Loss : 0.004698659953571958\n"
          ]
        },
        {
          "name": "stderr",
          "output_type": "stream",
          "text": [
            "100%|██████████| 145/145 [03:09<00:00,  1.30s/it, Epoch=217, LR=1e-6, Train_Loss=0.62, accuracy=0.832, f1=0.771]\n",
            "100%|██████████| 73/73 [00:16<00:00,  4.41it/s, Epoch=217, LR=1e-6, Valid_Loss=0.00533, accuracy=1, f1=1]\n"
          ]
        },
        {
          "name": "stdout",
          "output_type": "stream",
          "text": [
            "Valid Loss : 0.005325108900513143\n"
          ]
        },
        {
          "name": "stderr",
          "output_type": "stream",
          "text": [
            "100%|██████████| 145/145 [03:09<00:00,  1.31s/it, Epoch=218, LR=1e-6, Train_Loss=0.641, accuracy=0.829, f1=0.766]\n",
            "100%|██████████| 73/73 [00:16<00:00,  4.43it/s, Epoch=218, LR=1e-6, Valid_Loss=0.0048, accuracy=1, f1=1]\n"
          ]
        },
        {
          "name": "stdout",
          "output_type": "stream",
          "text": [
            "Valid Loss : 0.004797178770300664\n"
          ]
        },
        {
          "name": "stderr",
          "output_type": "stream",
          "text": [
            "100%|██████████| 145/145 [03:09<00:00,  1.31s/it, Epoch=219, LR=1e-6, Train_Loss=0.633, accuracy=0.839, f1=0.783]\n",
            "100%|██████████| 73/73 [00:16<00:00,  4.50it/s, Epoch=219, LR=1e-6, Valid_Loss=0.0049, accuracy=1, f1=1]\n"
          ]
        },
        {
          "name": "stdout",
          "output_type": "stream",
          "text": [
            "Valid Loss : 0.004899361368574917\n"
          ]
        },
        {
          "name": "stderr",
          "output_type": "stream",
          "text": [
            "100%|██████████| 145/145 [03:09<00:00,  1.30s/it, Epoch=220, LR=1e-6, Train_Loss=0.636, accuracy=0.828, f1=0.769]\n",
            "100%|██████████| 73/73 [00:16<00:00,  4.50it/s, Epoch=220, LR=1e-6, Valid_Loss=0.00497, accuracy=1, f1=1]\n"
          ]
        },
        {
          "name": "stdout",
          "output_type": "stream",
          "text": [
            "Valid Loss : 0.004966420223553703\n"
          ]
        },
        {
          "name": "stderr",
          "output_type": "stream",
          "text": [
            "100%|██████████| 145/145 [03:08<00:00,  1.30s/it, Epoch=221, LR=1e-6, Train_Loss=0.633, accuracy=0.836, f1=0.782]\n",
            "100%|██████████| 73/73 [00:16<00:00,  4.45it/s, Epoch=221, LR=1e-6, Valid_Loss=0.00465, accuracy=1, f1=1]\n"
          ]
        },
        {
          "name": "stdout",
          "output_type": "stream",
          "text": [
            "Valid Loss : 0.004649217677468511\n"
          ]
        },
        {
          "name": "stderr",
          "output_type": "stream",
          "text": [
            "100%|██████████| 145/145 [03:09<00:00,  1.31s/it, Epoch=222, LR=1e-6, Train_Loss=0.628, accuracy=0.837, f1=0.777]\n",
            "100%|██████████| 73/73 [00:16<00:00,  4.46it/s, Epoch=222, LR=1e-6, Valid_Loss=0.00511, accuracy=1, f1=1]\n"
          ]
        },
        {
          "name": "stdout",
          "output_type": "stream",
          "text": [
            "Valid Loss : 0.005106743284794566\n"
          ]
        },
        {
          "name": "stderr",
          "output_type": "stream",
          "text": [
            "100%|██████████| 145/145 [03:08<00:00,  1.30s/it, Epoch=223, LR=1e-6, Train_Loss=0.631, accuracy=0.846, f1=0.794]\n",
            "100%|██████████| 73/73 [00:16<00:00,  4.51it/s, Epoch=223, LR=1e-6, Valid_Loss=0.00497, accuracy=1, f1=1]\n"
          ]
        },
        {
          "name": "stdout",
          "output_type": "stream",
          "text": [
            "Valid Loss : 0.0049715749823730695\n"
          ]
        },
        {
          "name": "stderr",
          "output_type": "stream",
          "text": [
            "100%|██████████| 145/145 [03:09<00:00,  1.31s/it, Epoch=224, LR=1e-6, Train_Loss=0.624, accuracy=0.827, f1=0.769]\n",
            "100%|██████████| 73/73 [00:16<00:00,  4.51it/s, Epoch=224, LR=1e-6, Valid_Loss=0.00481, accuracy=1, f1=1]\n"
          ]
        },
        {
          "name": "stdout",
          "output_type": "stream",
          "text": [
            "Valid Loss : 0.004809425416568371\n"
          ]
        },
        {
          "name": "stderr",
          "output_type": "stream",
          "text": [
            "100%|██████████| 145/145 [03:08<00:00,  1.30s/it, Epoch=225, LR=1e-6, Train_Loss=0.645, accuracy=0.824, f1=0.761]\n",
            "100%|██████████| 73/73 [00:16<00:00,  4.50it/s, Epoch=225, LR=1e-6, Valid_Loss=0.00526, accuracy=1, f1=1]\n"
          ]
        },
        {
          "name": "stdout",
          "output_type": "stream",
          "text": [
            "Valid Loss : 0.005259511217296327\n"
          ]
        },
        {
          "name": "stderr",
          "output_type": "stream",
          "text": [
            "100%|██████████| 145/145 [03:09<00:00,  1.31s/it, Epoch=226, LR=1e-6, Train_Loss=0.614, accuracy=0.85, f1=0.797]\n",
            "100%|██████████| 73/73 [00:16<00:00,  4.46it/s, Epoch=226, LR=1e-6, Valid_Loss=0.0047, accuracy=1, f1=1]\n"
          ]
        },
        {
          "name": "stdout",
          "output_type": "stream",
          "text": [
            "Valid Loss : 0.004701527390526991\n"
          ]
        },
        {
          "name": "stderr",
          "output_type": "stream",
          "text": [
            "100%|██████████| 145/145 [03:09<00:00,  1.31s/it, Epoch=227, LR=1e-6, Train_Loss=0.621, accuracy=0.846, f1=0.793]\n",
            "100%|██████████| 73/73 [00:16<00:00,  4.49it/s, Epoch=227, LR=1e-6, Valid_Loss=0.00485, accuracy=1, f1=1]\n"
          ]
        },
        {
          "name": "stdout",
          "output_type": "stream",
          "text": [
            "Valid Loss : 0.0048476432016349\n"
          ]
        },
        {
          "name": "stderr",
          "output_type": "stream",
          "text": [
            "100%|██████████| 145/145 [03:08<00:00,  1.30s/it, Epoch=228, LR=1e-6, Train_Loss=0.63, accuracy=0.846, f1=0.789]\n",
            "100%|██████████| 73/73 [00:16<00:00,  4.45it/s, Epoch=228, LR=1e-6, Valid_Loss=0.00472, accuracy=1, f1=1]\n"
          ]
        },
        {
          "name": "stdout",
          "output_type": "stream",
          "text": [
            "Valid Loss : 0.004716866598655917\n"
          ]
        },
        {
          "name": "stderr",
          "output_type": "stream",
          "text": [
            "100%|██████████| 145/145 [03:09<00:00,  1.31s/it, Epoch=229, LR=1e-6, Train_Loss=0.642, accuracy=0.815, f1=0.75]\n",
            "100%|██████████| 73/73 [00:16<00:00,  4.45it/s, Epoch=229, LR=1e-6, Valid_Loss=0.00483, accuracy=1, f1=1]\n"
          ]
        },
        {
          "name": "stdout",
          "output_type": "stream",
          "text": [
            "Valid Loss : 0.004827587501694487\n"
          ]
        },
        {
          "name": "stderr",
          "output_type": "stream",
          "text": [
            "100%|██████████| 145/145 [03:08<00:00,  1.30s/it, Epoch=230, LR=1e-6, Train_Loss=0.645, accuracy=0.813, f1=0.75]\n",
            "100%|██████████| 73/73 [00:16<00:00,  4.53it/s, Epoch=230, LR=1e-6, Valid_Loss=0.00508, accuracy=1, f1=1]\n"
          ]
        },
        {
          "name": "stdout",
          "output_type": "stream",
          "text": [
            "Valid Loss : 0.005082327135749264\n"
          ]
        },
        {
          "name": "stderr",
          "output_type": "stream",
          "text": [
            "100%|██████████| 145/145 [03:09<00:00,  1.30s/it, Epoch=231, LR=1e-6, Train_Loss=0.626, accuracy=0.823, f1=0.773]\n",
            "100%|██████████| 73/73 [00:16<00:00,  4.46it/s, Epoch=231, LR=1e-6, Valid_Loss=0.00455, accuracy=1, f1=1]\n"
          ]
        },
        {
          "name": "stdout",
          "output_type": "stream",
          "text": [
            "Valid Loss : 0.0045456762460685555\n",
            "Validation Loss improved( 0.004606066313125703 ---> 0.0045456762460685555  )\n",
            "Model Saved\n"
          ]
        },
        {
          "name": "stderr",
          "output_type": "stream",
          "text": [
            "100%|██████████| 145/145 [03:09<00:00,  1.31s/it, Epoch=232, LR=1e-6, Train_Loss=0.632, accuracy=0.828, f1=0.771]\n",
            "100%|██████████| 73/73 [00:16<00:00,  4.51it/s, Epoch=232, LR=1e-6, Valid_Loss=0.00502, accuracy=1, f1=1]\n"
          ]
        },
        {
          "name": "stdout",
          "output_type": "stream",
          "text": [
            "Valid Loss : 0.00501975259896725\n"
          ]
        },
        {
          "name": "stderr",
          "output_type": "stream",
          "text": [
            "100%|██████████| 145/145 [03:09<00:00,  1.31s/it, Epoch=233, LR=1e-6, Train_Loss=0.636, accuracy=0.829, f1=0.771]\n",
            "100%|██████████| 73/73 [00:16<00:00,  4.46it/s, Epoch=233, LR=1e-6, Valid_Loss=0.00485, accuracy=1, f1=1]\n"
          ]
        },
        {
          "name": "stdout",
          "output_type": "stream",
          "text": [
            "Valid Loss : 0.004853997953644354\n"
          ]
        },
        {
          "name": "stderr",
          "output_type": "stream",
          "text": [
            "100%|██████████| 145/145 [03:08<00:00,  1.30s/it, Epoch=234, LR=1e-6, Train_Loss=0.622, accuracy=0.831, f1=0.775]\n",
            "100%|██████████| 73/73 [00:16<00:00,  4.48it/s, Epoch=234, LR=1e-6, Valid_Loss=0.00479, accuracy=1, f1=1]\n"
          ]
        },
        {
          "name": "stdout",
          "output_type": "stream",
          "text": [
            "Valid Loss : 0.0047859302179709285\n"
          ]
        },
        {
          "name": "stderr",
          "output_type": "stream",
          "text": [
            "100%|██████████| 145/145 [03:09<00:00,  1.30s/it, Epoch=235, LR=1e-6, Train_Loss=0.607, accuracy=0.852, f1=0.8]\n",
            "100%|██████████| 73/73 [00:16<00:00,  4.46it/s, Epoch=235, LR=1e-6, Valid_Loss=0.00492, accuracy=1, f1=1]\n"
          ]
        },
        {
          "name": "stdout",
          "output_type": "stream",
          "text": [
            "Valid Loss : 0.004919042635377343\n"
          ]
        },
        {
          "name": "stderr",
          "output_type": "stream",
          "text": [
            "100%|██████████| 145/145 [03:09<00:00,  1.31s/it, Epoch=236, LR=1e-6, Train_Loss=0.641, accuracy=0.809, f1=0.748]\n",
            "100%|██████████| 73/73 [00:16<00:00,  4.46it/s, Epoch=236, LR=1e-6, Valid_Loss=0.00469, accuracy=1, f1=1]\n"
          ]
        },
        {
          "name": "stdout",
          "output_type": "stream",
          "text": [
            "Valid Loss : 0.004685230467034733\n"
          ]
        },
        {
          "name": "stderr",
          "output_type": "stream",
          "text": [
            "100%|██████████| 145/145 [03:09<00:00,  1.31s/it, Epoch=237, LR=1e-6, Train_Loss=0.629, accuracy=0.824, f1=0.761]\n",
            "100%|██████████| 73/73 [00:16<00:00,  4.46it/s, Epoch=237, LR=1e-6, Valid_Loss=0.00486, accuracy=1, f1=1]\n"
          ]
        },
        {
          "name": "stdout",
          "output_type": "stream",
          "text": [
            "Valid Loss : 0.004864517758817297\n"
          ]
        },
        {
          "name": "stderr",
          "output_type": "stream",
          "text": [
            "100%|██████████| 145/145 [03:10<00:00,  1.31s/it, Epoch=238, LR=1e-6, Train_Loss=0.628, accuracy=0.825, f1=0.761]\n",
            "100%|██████████| 73/73 [00:16<00:00,  4.37it/s, Epoch=238, LR=1e-6, Valid_Loss=0.00508, accuracy=1, f1=1]\n"
          ]
        },
        {
          "name": "stdout",
          "output_type": "stream",
          "text": [
            "Valid Loss : 0.005084349687708771\n"
          ]
        },
        {
          "name": "stderr",
          "output_type": "stream",
          "text": [
            "100%|██████████| 145/145 [03:09<00:00,  1.31s/it, Epoch=239, LR=1e-6, Train_Loss=0.623, accuracy=0.846, f1=0.788]\n",
            "100%|██████████| 73/73 [00:16<00:00,  4.46it/s, Epoch=239, LR=1e-6, Valid_Loss=0.00468, accuracy=1, f1=1]\n"
          ]
        },
        {
          "name": "stdout",
          "output_type": "stream",
          "text": [
            "Valid Loss : 0.004682322037533844\n"
          ]
        },
        {
          "name": "stderr",
          "output_type": "stream",
          "text": [
            "100%|██████████| 145/145 [03:09<00:00,  1.31s/it, Epoch=240, LR=1e-6, Train_Loss=0.636, accuracy=0.834, f1=0.769]\n",
            "100%|██████████| 73/73 [00:16<00:00,  4.48it/s, Epoch=240, LR=1e-6, Valid_Loss=0.00542, accuracy=0.999, f1=0.999]\n"
          ]
        },
        {
          "name": "stdout",
          "output_type": "stream",
          "text": [
            "Valid Loss : 0.005424358291959722\n"
          ]
        },
        {
          "name": "stderr",
          "output_type": "stream",
          "text": [
            "100%|██████████| 145/145 [03:09<00:00,  1.31s/it, Epoch=241, LR=1e-6, Train_Loss=0.642, accuracy=0.829, f1=0.768]\n",
            "100%|██████████| 73/73 [00:16<00:00,  4.46it/s, Epoch=241, LR=1e-6, Valid_Loss=0.00462, accuracy=1, f1=1]\n"
          ]
        },
        {
          "name": "stdout",
          "output_type": "stream",
          "text": [
            "Valid Loss : 0.004622713919435564\n"
          ]
        },
        {
          "name": "stderr",
          "output_type": "stream",
          "text": [
            "100%|██████████| 145/145 [03:09<00:00,  1.31s/it, Epoch=242, LR=1e-6, Train_Loss=0.627, accuracy=0.847, f1=0.793]\n",
            "100%|██████████| 73/73 [00:16<00:00,  4.45it/s, Epoch=242, LR=1e-6, Valid_Loss=0.00471, accuracy=1, f1=1]\n"
          ]
        },
        {
          "name": "stdout",
          "output_type": "stream",
          "text": [
            "Valid Loss : 0.004711162935215214\n"
          ]
        },
        {
          "name": "stderr",
          "output_type": "stream",
          "text": [
            "100%|██████████| 145/145 [03:09<00:00,  1.31s/it, Epoch=243, LR=1e-6, Train_Loss=0.627, accuracy=0.848, f1=0.789]\n",
            "100%|██████████| 73/73 [00:16<00:00,  4.44it/s, Epoch=243, LR=1e-6, Valid_Loss=0.00475, accuracy=1, f1=1]\n"
          ]
        },
        {
          "name": "stdout",
          "output_type": "stream",
          "text": [
            "Valid Loss : 0.004747439555390036\n"
          ]
        },
        {
          "name": "stderr",
          "output_type": "stream",
          "text": [
            "100%|██████████| 145/145 [03:09<00:00,  1.31s/it, Epoch=244, LR=1e-6, Train_Loss=0.622, accuracy=0.836, f1=0.785]\n",
            "100%|██████████| 73/73 [00:16<00:00,  4.45it/s, Epoch=244, LR=1e-6, Valid_Loss=0.00459, accuracy=1, f1=1]\n"
          ]
        },
        {
          "name": "stdout",
          "output_type": "stream",
          "text": [
            "Valid Loss : 0.0045932128926586\n"
          ]
        },
        {
          "name": "stderr",
          "output_type": "stream",
          "text": [
            "100%|██████████| 145/145 [03:08<00:00,  1.30s/it, Epoch=245, LR=1e-6, Train_Loss=0.626, accuracy=0.834, f1=0.776]\n",
            "100%|██████████| 73/73 [00:16<00:00,  4.48it/s, Epoch=245, LR=1e-6, Valid_Loss=0.00527, accuracy=0.999, f1=0.998]\n"
          ]
        },
        {
          "name": "stdout",
          "output_type": "stream",
          "text": [
            "Valid Loss : 0.005266683890599094\n"
          ]
        },
        {
          "name": "stderr",
          "output_type": "stream",
          "text": [
            "100%|██████████| 145/145 [03:08<00:00,  1.30s/it, Epoch=246, LR=1e-6, Train_Loss=0.621, accuracy=0.837, f1=0.781]\n",
            "100%|██████████| 73/73 [00:16<00:00,  4.46it/s, Epoch=246, LR=1e-6, Valid_Loss=0.00461, accuracy=1, f1=1]\n"
          ]
        },
        {
          "name": "stdout",
          "output_type": "stream",
          "text": [
            "Valid Loss : 0.0046138929853802675\n"
          ]
        },
        {
          "name": "stderr",
          "output_type": "stream",
          "text": [
            "100%|██████████| 145/145 [03:09<00:00,  1.31s/it, Epoch=247, LR=1e-6, Train_Loss=0.624, accuracy=0.832, f1=0.776]\n",
            "100%|██████████| 73/73 [00:16<00:00,  4.50it/s, Epoch=247, LR=1e-6, Valid_Loss=0.00471, accuracy=1, f1=1]\n"
          ]
        },
        {
          "name": "stdout",
          "output_type": "stream",
          "text": [
            "Valid Loss : 0.004714951167929254\n"
          ]
        },
        {
          "name": "stderr",
          "output_type": "stream",
          "text": [
            "100%|██████████| 145/145 [03:08<00:00,  1.30s/it, Epoch=248, LR=1e-6, Train_Loss=0.623, accuracy=0.829, f1=0.781]\n",
            "100%|██████████| 73/73 [00:16<00:00,  4.51it/s, Epoch=248, LR=1e-6, Valid_Loss=0.00458, accuracy=1, f1=1]\n"
          ]
        },
        {
          "name": "stdout",
          "output_type": "stream",
          "text": [
            "Valid Loss : 0.004580361331647185\n"
          ]
        },
        {
          "name": "stderr",
          "output_type": "stream",
          "text": [
            "100%|██████████| 145/145 [03:08<00:00,  1.30s/it, Epoch=249, LR=1e-6, Train_Loss=0.621, accuracy=0.84, f1=0.792]\n",
            "100%|██████████| 73/73 [00:16<00:00,  4.54it/s, Epoch=249, LR=1e-6, Valid_Loss=0.00461, accuracy=1, f1=1]\n"
          ]
        },
        {
          "name": "stdout",
          "output_type": "stream",
          "text": [
            "Valid Loss : 0.004608285986524943\n"
          ]
        },
        {
          "name": "stderr",
          "output_type": "stream",
          "text": [
            "100%|██████████| 145/145 [03:08<00:00,  1.30s/it, Epoch=250, LR=1e-6, Train_Loss=0.614, accuracy=0.855, f1=0.801]\n",
            "100%|██████████| 73/73 [00:16<00:00,  4.51it/s, Epoch=250, LR=1e-6, Valid_Loss=0.00543, accuracy=0.999, f1=0.997]\n"
          ]
        },
        {
          "name": "stdout",
          "output_type": "stream",
          "text": [
            "Valid Loss : 0.005425237884668455\n"
          ]
        },
        {
          "name": "stderr",
          "output_type": "stream",
          "text": [
            "100%|██████████| 145/145 [03:09<00:00,  1.30s/it, Epoch=251, LR=1e-6, Train_Loss=0.616, accuracy=0.846, f1=0.79]\n",
            "100%|██████████| 73/73 [00:16<00:00,  4.38it/s, Epoch=251, LR=1e-6, Valid_Loss=0.00433, accuracy=1, f1=1]\n"
          ]
        },
        {
          "name": "stdout",
          "output_type": "stream",
          "text": [
            "Valid Loss : 0.004333595380072214\n",
            "Validation Loss improved( 0.0045456762460685555 ---> 0.004333595380072214  )\n",
            "Model Saved\n"
          ]
        },
        {
          "name": "stderr",
          "output_type": "stream",
          "text": [
            "100%|██████████| 145/145 [03:10<00:00,  1.32s/it, Epoch=252, LR=1e-6, Train_Loss=0.627, accuracy=0.842, f1=0.784]\n",
            "100%|██████████| 73/73 [00:16<00:00,  4.44it/s, Epoch=252, LR=1e-6, Valid_Loss=0.00464, accuracy=1, f1=1]\n"
          ]
        },
        {
          "name": "stdout",
          "output_type": "stream",
          "text": [
            "Valid Loss : 0.004641258843523795\n"
          ]
        },
        {
          "name": "stderr",
          "output_type": "stream",
          "text": [
            "100%|██████████| 145/145 [03:09<00:00,  1.31s/it, Epoch=253, LR=1e-6, Train_Loss=0.624, accuracy=0.822, f1=0.757]\n",
            "100%|██████████| 73/73 [00:16<00:00,  4.38it/s, Epoch=253, LR=1e-6, Valid_Loss=0.00468, accuracy=1, f1=1]\n"
          ]
        },
        {
          "name": "stdout",
          "output_type": "stream",
          "text": [
            "Valid Loss : 0.004678153241538021\n"
          ]
        },
        {
          "name": "stderr",
          "output_type": "stream",
          "text": [
            "100%|██████████| 145/145 [03:10<00:00,  1.31s/it, Epoch=254, LR=1e-6, Train_Loss=0.63, accuracy=0.844, f1=0.785]\n",
            "100%|██████████| 73/73 [00:16<00:00,  4.43it/s, Epoch=254, LR=1e-6, Valid_Loss=0.00451, accuracy=1, f1=1]\n"
          ]
        },
        {
          "name": "stdout",
          "output_type": "stream",
          "text": [
            "Valid Loss : 0.004506794324348846\n"
          ]
        },
        {
          "name": "stderr",
          "output_type": "stream",
          "text": [
            "100%|██████████| 145/145 [03:09<00:00,  1.31s/it, Epoch=255, LR=1e-6, Train_Loss=0.612, accuracy=0.85, f1=0.793]\n",
            "100%|██████████| 73/73 [00:16<00:00,  4.36it/s, Epoch=255, LR=1e-6, Valid_Loss=0.0051, accuracy=0.999, f1=0.998]\n"
          ]
        },
        {
          "name": "stdout",
          "output_type": "stream",
          "text": [
            "Valid Loss : 0.005104757204320128\n"
          ]
        },
        {
          "name": "stderr",
          "output_type": "stream",
          "text": [
            "100%|██████████| 145/145 [03:11<00:00,  1.32s/it, Epoch=256, LR=1e-6, Train_Loss=0.627, accuracy=0.845, f1=0.786]\n",
            "100%|██████████| 73/73 [00:16<00:00,  4.35it/s, Epoch=256, LR=1e-6, Valid_Loss=0.00444, accuracy=1, f1=1]\n"
          ]
        },
        {
          "name": "stdout",
          "output_type": "stream",
          "text": [
            "Valid Loss : 0.0044398223423105605\n"
          ]
        },
        {
          "name": "stderr",
          "output_type": "stream",
          "text": [
            "100%|██████████| 145/145 [03:10<00:00,  1.31s/it, Epoch=257, LR=1e-6, Train_Loss=0.623, accuracy=0.836, f1=0.781]\n",
            "100%|██████████| 73/73 [00:16<00:00,  4.41it/s, Epoch=257, LR=1e-6, Valid_Loss=0.00481, accuracy=1, f1=1]\n"
          ]
        },
        {
          "name": "stdout",
          "output_type": "stream",
          "text": [
            "Valid Loss : 0.00480775637807299\n"
          ]
        },
        {
          "name": "stderr",
          "output_type": "stream",
          "text": [
            "100%|██████████| 145/145 [03:11<00:00,  1.32s/it, Epoch=258, LR=1e-6, Train_Loss=0.627, accuracy=0.832, f1=0.773]\n",
            "100%|██████████| 73/73 [00:16<00:00,  4.41it/s, Epoch=258, LR=1e-6, Valid_Loss=0.00486, accuracy=1, f1=1]\n"
          ]
        },
        {
          "name": "stdout",
          "output_type": "stream",
          "text": [
            "Valid Loss : 0.004858196741735486\n"
          ]
        },
        {
          "name": "stderr",
          "output_type": "stream",
          "text": [
            "100%|██████████| 145/145 [03:10<00:00,  1.31s/it, Epoch=259, LR=1e-6, Train_Loss=0.63, accuracy=0.825, f1=0.766]\n",
            "100%|██████████| 73/73 [00:16<00:00,  4.37it/s, Epoch=259, LR=1e-6, Valid_Loss=0.00468, accuracy=1, f1=1]\n"
          ]
        },
        {
          "name": "stdout",
          "output_type": "stream",
          "text": [
            "Valid Loss : 0.004676395695503444\n"
          ]
        },
        {
          "name": "stderr",
          "output_type": "stream",
          "text": [
            "100%|██████████| 145/145 [03:10<00:00,  1.32s/it, Epoch=260, LR=1e-6, Train_Loss=0.634, accuracy=0.824, f1=0.77]\n",
            "100%|██████████| 73/73 [00:16<00:00,  4.42it/s, Epoch=260, LR=1e-6, Valid_Loss=0.00567, accuracy=0.999, f1=0.997]\n"
          ]
        },
        {
          "name": "stdout",
          "output_type": "stream",
          "text": [
            "Valid Loss : 0.005671347816768166\n"
          ]
        },
        {
          "name": "stderr",
          "output_type": "stream",
          "text": [
            "100%|██████████| 145/145 [03:10<00:00,  1.32s/it, Epoch=261, LR=1e-6, Train_Loss=0.612, accuracy=0.832, f1=0.781]\n",
            "100%|██████████| 73/73 [00:16<00:00,  4.38it/s, Epoch=261, LR=1e-6, Valid_Loss=0.00436, accuracy=1, f1=1]\n"
          ]
        },
        {
          "name": "stdout",
          "output_type": "stream",
          "text": [
            "Valid Loss : 0.004356276205651564\n"
          ]
        },
        {
          "name": "stderr",
          "output_type": "stream",
          "text": [
            "100%|██████████| 145/145 [03:10<00:00,  1.31s/it, Epoch=262, LR=1e-6, Train_Loss=0.618, accuracy=0.85, f1=0.797]\n",
            "100%|██████████| 73/73 [00:16<00:00,  4.38it/s, Epoch=262, LR=1e-6, Valid_Loss=0.0046, accuracy=1, f1=1]\n"
          ]
        },
        {
          "name": "stdout",
          "output_type": "stream",
          "text": [
            "Valid Loss : 0.004597348873886241\n"
          ]
        },
        {
          "name": "stderr",
          "output_type": "stream",
          "text": [
            "100%|██████████| 145/145 [03:10<00:00,  1.32s/it, Epoch=263, LR=1e-6, Train_Loss=0.618, accuracy=0.846, f1=0.795]\n",
            "100%|██████████| 73/73 [00:16<00:00,  4.37it/s, Epoch=263, LR=1e-6, Valid_Loss=0.00466, accuracy=1, f1=1]\n"
          ]
        },
        {
          "name": "stdout",
          "output_type": "stream",
          "text": [
            "Valid Loss : 0.004658227741769324\n"
          ]
        },
        {
          "name": "stderr",
          "output_type": "stream",
          "text": [
            "100%|██████████| 145/145 [03:11<00:00,  1.32s/it, Epoch=264, LR=1e-6, Train_Loss=0.632, accuracy=0.827, f1=0.764]\n",
            "100%|██████████| 73/73 [00:16<00:00,  4.38it/s, Epoch=264, LR=1e-6, Valid_Loss=0.00444, accuracy=1, f1=1]\n"
          ]
        },
        {
          "name": "stdout",
          "output_type": "stream",
          "text": [
            "Valid Loss : 0.004436140315454096\n"
          ]
        },
        {
          "name": "stderr",
          "output_type": "stream",
          "text": [
            "100%|██████████| 145/145 [03:10<00:00,  1.31s/it, Epoch=265, LR=1e-6, Train_Loss=0.617, accuracy=0.839, f1=0.78]\n",
            "100%|██████████| 73/73 [00:16<00:00,  4.39it/s, Epoch=265, LR=1e-6, Valid_Loss=0.00512, accuracy=0.999, f1=0.998]\n"
          ]
        },
        {
          "name": "stdout",
          "output_type": "stream",
          "text": [
            "Valid Loss : 0.005119366765864296\n"
          ]
        },
        {
          "name": "stderr",
          "output_type": "stream",
          "text": [
            "100%|██████████| 145/145 [03:10<00:00,  1.31s/it, Epoch=266, LR=1e-6, Train_Loss=0.622, accuracy=0.834, f1=0.776]\n",
            "100%|██████████| 73/73 [00:16<00:00,  4.35it/s, Epoch=266, LR=1e-6, Valid_Loss=0.00438, accuracy=1, f1=1]\n"
          ]
        },
        {
          "name": "stdout",
          "output_type": "stream",
          "text": [
            "Valid Loss : 0.004379466198359246\n"
          ]
        },
        {
          "name": "stderr",
          "output_type": "stream",
          "text": [
            "100%|██████████| 145/145 [03:10<00:00,  1.31s/it, Epoch=267, LR=1e-6, Train_Loss=0.616, accuracy=0.823, f1=0.767]\n",
            "100%|██████████| 73/73 [00:16<00:00,  4.37it/s, Epoch=267, LR=1e-6, Valid_Loss=0.00457, accuracy=1, f1=1]\n"
          ]
        },
        {
          "name": "stdout",
          "output_type": "stream",
          "text": [
            "Valid Loss : 0.0045673342243041076\n"
          ]
        },
        {
          "name": "stderr",
          "output_type": "stream",
          "text": [
            "100%|██████████| 145/145 [03:10<00:00,  1.31s/it, Epoch=268, LR=1e-6, Train_Loss=0.636, accuracy=0.804, f1=0.741]\n",
            "100%|██████████| 73/73 [00:16<00:00,  4.37it/s, Epoch=268, LR=1e-6, Valid_Loss=0.00449, accuracy=1, f1=1]\n"
          ]
        },
        {
          "name": "stdout",
          "output_type": "stream",
          "text": [
            "Valid Loss : 0.004492223235676448\n"
          ]
        },
        {
          "name": "stderr",
          "output_type": "stream",
          "text": [
            "100%|██████████| 145/145 [03:10<00:00,  1.32s/it, Epoch=269, LR=1e-6, Train_Loss=0.615, accuracy=0.84, f1=0.789]\n",
            "100%|██████████| 73/73 [00:16<00:00,  4.37it/s, Epoch=269, LR=1e-6, Valid_Loss=0.00448, accuracy=1, f1=1]\n"
          ]
        },
        {
          "name": "stdout",
          "output_type": "stream",
          "text": [
            "Valid Loss : 0.004476706602623406\n"
          ]
        },
        {
          "name": "stderr",
          "output_type": "stream",
          "text": [
            "100%|██████████| 145/145 [03:10<00:00,  1.32s/it, Epoch=270, LR=1e-6, Train_Loss=0.615, accuracy=0.845, f1=0.787]\n",
            "100%|██████████| 73/73 [00:16<00:00,  4.40it/s, Epoch=270, LR=1e-6, Valid_Loss=0.00492, accuracy=1, f1=1]\n"
          ]
        },
        {
          "name": "stdout",
          "output_type": "stream",
          "text": [
            "Valid Loss : 0.00491818820751489\n"
          ]
        },
        {
          "name": "stderr",
          "output_type": "stream",
          "text": [
            "100%|██████████| 145/145 [03:10<00:00,  1.31s/it, Epoch=271, LR=1e-6, Train_Loss=0.629, accuracy=0.817, f1=0.767]\n",
            "100%|██████████| 73/73 [00:16<00:00,  4.39it/s, Epoch=271, LR=1e-6, Valid_Loss=0.00441, accuracy=1, f1=1]\n"
          ]
        },
        {
          "name": "stdout",
          "output_type": "stream",
          "text": [
            "Valid Loss : 0.004410334712863989\n"
          ]
        },
        {
          "name": "stderr",
          "output_type": "stream",
          "text": [
            "100%|██████████| 145/145 [03:10<00:00,  1.31s/it, Epoch=272, LR=1e-6, Train_Loss=0.614, accuracy=0.838, f1=0.785]\n",
            "100%|██████████| 73/73 [00:16<00:00,  4.38it/s, Epoch=272, LR=1e-6, Valid_Loss=0.00441, accuracy=1, f1=1]\n"
          ]
        },
        {
          "name": "stdout",
          "output_type": "stream",
          "text": [
            "Valid Loss : 0.004414420039074061\n"
          ]
        },
        {
          "name": "stderr",
          "output_type": "stream",
          "text": [
            "100%|██████████| 145/145 [03:10<00:00,  1.32s/it, Epoch=273, LR=1e-6, Train_Loss=0.615, accuracy=0.841, f1=0.785]\n",
            "100%|██████████| 73/73 [00:16<00:00,  4.37it/s, Epoch=273, LR=1e-6, Valid_Loss=0.00433, accuracy=1, f1=1]\n"
          ]
        },
        {
          "name": "stdout",
          "output_type": "stream",
          "text": [
            "Valid Loss : 0.004331734285000967\n",
            "Validation Loss improved( 0.004333595380072214 ---> 0.004331734285000967  )\n",
            "Model Saved\n"
          ]
        },
        {
          "name": "stderr",
          "output_type": "stream",
          "text": [
            "100%|██████████| 145/145 [03:10<00:00,  1.32s/it, Epoch=274, LR=1e-6, Train_Loss=0.623, accuracy=0.837, f1=0.781]\n",
            "100%|██████████| 73/73 [00:16<00:00,  4.39it/s, Epoch=274, LR=1e-6, Valid_Loss=0.00441, accuracy=1, f1=1]\n"
          ]
        },
        {
          "name": "stdout",
          "output_type": "stream",
          "text": [
            "Valid Loss : 0.0044106978010896546\n"
          ]
        },
        {
          "name": "stderr",
          "output_type": "stream",
          "text": [
            "100%|██████████| 145/145 [03:10<00:00,  1.31s/it, Epoch=275, LR=1e-6, Train_Loss=0.611, accuracy=0.851, f1=0.798]\n",
            "100%|██████████| 73/73 [00:16<00:00,  4.40it/s, Epoch=275, LR=1e-6, Valid_Loss=0.00452, accuracy=1, f1=1]\n"
          ]
        },
        {
          "name": "stdout",
          "output_type": "stream",
          "text": [
            "Valid Loss : 0.004518473524064438\n"
          ]
        },
        {
          "name": "stderr",
          "output_type": "stream",
          "text": [
            "100%|██████████| 145/145 [03:10<00:00,  1.32s/it, Epoch=276, LR=1e-6, Train_Loss=0.623, accuracy=0.835, f1=0.78]\n",
            "100%|██████████| 73/73 [00:16<00:00,  4.39it/s, Epoch=276, LR=1e-6, Valid_Loss=0.00428, accuracy=1, f1=1]\n"
          ]
        },
        {
          "name": "stdout",
          "output_type": "stream",
          "text": [
            "Valid Loss : 0.004276755307354543\n",
            "Validation Loss improved( 0.004331734285000967 ---> 0.004276755307354543  )\n",
            "Model Saved\n"
          ]
        },
        {
          "name": "stderr",
          "output_type": "stream",
          "text": [
            "100%|██████████| 145/145 [03:11<00:00,  1.32s/it, Epoch=277, LR=1e-6, Train_Loss=0.623, accuracy=0.836, f1=0.782]\n",
            "100%|██████████| 73/73 [00:16<00:00,  4.36it/s, Epoch=277, LR=1e-6, Valid_Loss=0.00442, accuracy=1, f1=1]\n"
          ]
        },
        {
          "name": "stdout",
          "output_type": "stream",
          "text": [
            "Valid Loss : 0.0044202796815039766\n"
          ]
        },
        {
          "name": "stderr",
          "output_type": "stream",
          "text": [
            "100%|██████████| 145/145 [03:11<00:00,  1.32s/it, Epoch=278, LR=1e-6, Train_Loss=0.605, accuracy=0.86, f1=0.816]\n",
            "100%|██████████| 73/73 [00:16<00:00,  4.40it/s, Epoch=278, LR=1e-6, Valid_Loss=0.00436, accuracy=1, f1=1]\n"
          ]
        },
        {
          "name": "stdout",
          "output_type": "stream",
          "text": [
            "Valid Loss : 0.004360489174085733\n"
          ]
        },
        {
          "name": "stderr",
          "output_type": "stream",
          "text": [
            "100%|██████████| 145/145 [03:11<00:00,  1.32s/it, Epoch=279, LR=1e-6, Train_Loss=0.614, accuracy=0.835, f1=0.782]\n",
            "100%|██████████| 73/73 [00:16<00:00,  4.36it/s, Epoch=279, LR=1e-6, Valid_Loss=0.00428, accuracy=1, f1=1]\n"
          ]
        },
        {
          "name": "stdout",
          "output_type": "stream",
          "text": [
            "Valid Loss : 0.004277846527171053\n"
          ]
        },
        {
          "name": "stderr",
          "output_type": "stream",
          "text": [
            "100%|██████████| 145/145 [03:11<00:00,  1.32s/it, Epoch=280, LR=1e-6, Train_Loss=0.626, accuracy=0.822, f1=0.763]\n",
            "100%|██████████| 73/73 [00:16<00:00,  4.37it/s, Epoch=280, LR=1e-6, Valid_Loss=0.00483, accuracy=1, f1=1]\n"
          ]
        },
        {
          "name": "stdout",
          "output_type": "stream",
          "text": [
            "Valid Loss : 0.004829866052541422\n"
          ]
        },
        {
          "name": "stderr",
          "output_type": "stream",
          "text": [
            "100%|██████████| 145/145 [03:10<00:00,  1.32s/it, Epoch=281, LR=1e-6, Train_Loss=0.617, accuracy=0.845, f1=0.793]\n",
            "100%|██████████| 73/73 [00:16<00:00,  4.37it/s, Epoch=281, LR=1e-6, Valid_Loss=0.00415, accuracy=1, f1=1]\n"
          ]
        },
        {
          "name": "stdout",
          "output_type": "stream",
          "text": [
            "Valid Loss : 0.004154071919875194\n",
            "Validation Loss improved( 0.004276755307354543 ---> 0.004154071919875194  )\n",
            "Model Saved\n"
          ]
        },
        {
          "name": "stderr",
          "output_type": "stream",
          "text": [
            "100%|██████████| 145/145 [03:11<00:00,  1.32s/it, Epoch=282, LR=1e-6, Train_Loss=0.611, accuracy=0.838, f1=0.783]\n",
            "100%|██████████| 73/73 [00:16<00:00,  4.36it/s, Epoch=282, LR=1e-6, Valid_Loss=0.00457, accuracy=1, f1=1]\n"
          ]
        },
        {
          "name": "stdout",
          "output_type": "stream",
          "text": [
            "Valid Loss : 0.004566173636903093\n"
          ]
        },
        {
          "name": "stderr",
          "output_type": "stream",
          "text": [
            "100%|██████████| 145/145 [03:10<00:00,  1.31s/it, Epoch=283, LR=1e-6, Train_Loss=0.626, accuracy=0.825, f1=0.765]\n",
            "100%|██████████| 73/73 [00:16<00:00,  4.38it/s, Epoch=283, LR=1e-6, Valid_Loss=0.00447, accuracy=1, f1=1]\n"
          ]
        },
        {
          "name": "stdout",
          "output_type": "stream",
          "text": [
            "Valid Loss : 0.00446744209589207\n"
          ]
        },
        {
          "name": "stderr",
          "output_type": "stream",
          "text": [
            "100%|██████████| 145/145 [03:10<00:00,  1.32s/it, Epoch=284, LR=1e-6, Train_Loss=0.621, accuracy=0.832, f1=0.78]\n",
            "100%|██████████| 73/73 [00:16<00:00,  4.36it/s, Epoch=284, LR=1e-6, Valid_Loss=0.00428, accuracy=1, f1=1]\n"
          ]
        },
        {
          "name": "stdout",
          "output_type": "stream",
          "text": [
            "Valid Loss : 0.004280361723256846\n"
          ]
        },
        {
          "name": "stderr",
          "output_type": "stream",
          "text": [
            "100%|██████████| 145/145 [03:09<00:00,  1.31s/it, Epoch=285, LR=1e-6, Train_Loss=0.605, accuracy=0.851, f1=0.798]\n",
            "100%|██████████| 73/73 [00:16<00:00,  4.40it/s, Epoch=285, LR=1e-6, Valid_Loss=0.00457, accuracy=1, f1=1]\n"
          ]
        },
        {
          "name": "stdout",
          "output_type": "stream",
          "text": [
            "Valid Loss : 0.004567517168590263\n"
          ]
        },
        {
          "name": "stderr",
          "output_type": "stream",
          "text": [
            "100%|██████████| 145/145 [03:10<00:00,  1.31s/it, Epoch=286, LR=1e-6, Train_Loss=0.616, accuracy=0.84, f1=0.786]\n",
            "100%|██████████| 73/73 [00:16<00:00,  4.34it/s, Epoch=286, LR=1e-6, Valid_Loss=0.00416, accuracy=1, f1=1]\n"
          ]
        },
        {
          "name": "stdout",
          "output_type": "stream",
          "text": [
            "Valid Loss : 0.00416188129887291\n"
          ]
        },
        {
          "name": "stderr",
          "output_type": "stream",
          "text": [
            "100%|██████████| 145/145 [03:11<00:00,  1.32s/it, Epoch=287, LR=1e-6, Train_Loss=0.615, accuracy=0.859, f1=0.806]\n",
            "100%|██████████| 73/73 [00:16<00:00,  4.34it/s, Epoch=287, LR=1e-6, Valid_Loss=0.00431, accuracy=1, f1=1]\n"
          ]
        },
        {
          "name": "stdout",
          "output_type": "stream",
          "text": [
            "Valid Loss : 0.0043090937391229685\n"
          ]
        },
        {
          "name": "stderr",
          "output_type": "stream",
          "text": [
            "100%|██████████| 145/145 [03:10<00:00,  1.31s/it, Epoch=288, LR=1e-6, Train_Loss=0.604, accuracy=0.873, f1=0.819]\n",
            "100%|██████████| 73/73 [00:16<00:00,  4.39it/s, Epoch=288, LR=1e-6, Valid_Loss=0.00426, accuracy=1, f1=1]\n"
          ]
        },
        {
          "name": "stdout",
          "output_type": "stream",
          "text": [
            "Valid Loss : 0.004257649550061316\n"
          ]
        },
        {
          "name": "stderr",
          "output_type": "stream",
          "text": [
            "100%|██████████| 145/145 [03:10<00:00,  1.32s/it, Epoch=289, LR=1e-6, Train_Loss=0.611, accuracy=0.848, f1=0.796]\n",
            "100%|██████████| 73/73 [00:16<00:00,  4.38it/s, Epoch=289, LR=1e-6, Valid_Loss=0.00416, accuracy=1, f1=1]\n"
          ]
        },
        {
          "name": "stdout",
          "output_type": "stream",
          "text": [
            "Valid Loss : 0.004163036853304668\n"
          ]
        },
        {
          "name": "stderr",
          "output_type": "stream",
          "text": [
            "100%|██████████| 145/145 [03:10<00:00,  1.31s/it, Epoch=290, LR=1e-6, Train_Loss=0.625, accuracy=0.836, f1=0.783]\n",
            "100%|██████████| 73/73 [00:16<00:00,  4.36it/s, Epoch=290, LR=1e-6, Valid_Loss=0.00441, accuracy=1, f1=1]\n"
          ]
        },
        {
          "name": "stdout",
          "output_type": "stream",
          "text": [
            "Valid Loss : 0.004405480694689163\n"
          ]
        },
        {
          "name": "stderr",
          "output_type": "stream",
          "text": [
            "100%|██████████| 145/145 [03:10<00:00,  1.31s/it, Epoch=291, LR=1e-6, Train_Loss=0.621, accuracy=0.847, f1=0.801]\n",
            "100%|██████████| 73/73 [00:16<00:00,  4.37it/s, Epoch=291, LR=1e-6, Valid_Loss=0.0041, accuracy=1, f1=1]\n"
          ]
        },
        {
          "name": "stdout",
          "output_type": "stream",
          "text": [
            "Valid Loss : 0.004103594759402618\n",
            "Validation Loss improved( 0.004154071919875194 ---> 0.004103594759402618  )\n",
            "Model Saved\n"
          ]
        },
        {
          "name": "stderr",
          "output_type": "stream",
          "text": [
            "100%|██████████| 145/145 [03:10<00:00,  1.32s/it, Epoch=292, LR=1e-6, Train_Loss=0.612, accuracy=0.847, f1=0.794]\n",
            "100%|██████████| 73/73 [00:16<00:00,  4.36it/s, Epoch=292, LR=1e-6, Valid_Loss=0.00439, accuracy=1, f1=1]\n"
          ]
        },
        {
          "name": "stdout",
          "output_type": "stream",
          "text": [
            "Valid Loss : 0.004385734535115835\n"
          ]
        },
        {
          "name": "stderr",
          "output_type": "stream",
          "text": [
            "100%|██████████| 145/145 [03:10<00:00,  1.32s/it, Epoch=293, LR=1e-6, Train_Loss=0.609, accuracy=0.832, f1=0.778]\n",
            "100%|██████████| 73/73 [00:16<00:00,  4.34it/s, Epoch=293, LR=1e-6, Valid_Loss=0.00416, accuracy=1, f1=1]\n"
          ]
        },
        {
          "name": "stdout",
          "output_type": "stream",
          "text": [
            "Valid Loss : 0.004159118989737679\n"
          ]
        },
        {
          "name": "stderr",
          "output_type": "stream",
          "text": [
            "100%|██████████| 145/145 [03:10<00:00,  1.31s/it, Epoch=294, LR=1e-6, Train_Loss=0.606, accuracy=0.844, f1=0.793]\n",
            "100%|██████████| 73/73 [00:16<00:00,  4.38it/s, Epoch=294, LR=1e-6, Valid_Loss=0.00424, accuracy=1, f1=1]\n"
          ]
        },
        {
          "name": "stdout",
          "output_type": "stream",
          "text": [
            "Valid Loss : 0.004239786496028713\n"
          ]
        },
        {
          "name": "stderr",
          "output_type": "stream",
          "text": [
            "100%|██████████| 145/145 [03:10<00:00,  1.31s/it, Epoch=295, LR=1e-6, Train_Loss=0.623, accuracy=0.843, f1=0.786]\n",
            "100%|██████████| 73/73 [00:16<00:00,  4.42it/s, Epoch=295, LR=1e-6, Valid_Loss=0.00462, accuracy=1, f1=1]\n"
          ]
        },
        {
          "name": "stdout",
          "output_type": "stream",
          "text": [
            "Valid Loss : 0.004615179291760472\n"
          ]
        },
        {
          "name": "stderr",
          "output_type": "stream",
          "text": [
            "100%|██████████| 145/145 [03:11<00:00,  1.32s/it, Epoch=296, LR=1e-6, Train_Loss=0.62, accuracy=0.825, f1=0.769]\n",
            "100%|██████████| 73/73 [00:16<00:00,  4.33it/s, Epoch=296, LR=1e-6, Valid_Loss=0.00425, accuracy=1, f1=1]\n"
          ]
        },
        {
          "name": "stdout",
          "output_type": "stream",
          "text": [
            "Valid Loss : 0.004247498542248999\n"
          ]
        },
        {
          "name": "stderr",
          "output_type": "stream",
          "text": [
            "100%|██████████| 145/145 [03:10<00:00,  1.31s/it, Epoch=297, LR=1e-6, Train_Loss=0.625, accuracy=0.844, f1=0.795]\n",
            "100%|██████████| 73/73 [00:16<00:00,  4.32it/s, Epoch=297, LR=1e-6, Valid_Loss=0.00418, accuracy=1, f1=1]\n"
          ]
        },
        {
          "name": "stdout",
          "output_type": "stream",
          "text": [
            "Valid Loss : 0.004180029929258338\n"
          ]
        },
        {
          "name": "stderr",
          "output_type": "stream",
          "text": [
            "100%|██████████| 145/145 [03:10<00:00,  1.32s/it, Epoch=298, LR=1e-6, Train_Loss=0.617, accuracy=0.838, f1=0.783]\n",
            "100%|██████████| 73/73 [00:16<00:00,  4.38it/s, Epoch=298, LR=1e-6, Valid_Loss=0.00413, accuracy=1, f1=1]\n"
          ]
        },
        {
          "name": "stdout",
          "output_type": "stream",
          "text": [
            "Valid Loss : 0.004132971741667349\n"
          ]
        },
        {
          "name": "stderr",
          "output_type": "stream",
          "text": [
            "100%|██████████| 145/145 [03:10<00:00,  1.31s/it, Epoch=299, LR=1e-6, Train_Loss=0.626, accuracy=0.843, f1=0.793]\n",
            "100%|██████████| 73/73 [00:16<00:00,  4.36it/s, Epoch=299, LR=1e-6, Valid_Loss=0.00414, accuracy=1, f1=1]\n"
          ]
        },
        {
          "name": "stdout",
          "output_type": "stream",
          "text": [
            "Valid Loss : 0.004144400635683169\n"
          ]
        },
        {
          "name": "stderr",
          "output_type": "stream",
          "text": [
            "100%|██████████| 145/145 [03:10<00:00,  1.32s/it, Epoch=300, LR=1e-6, Train_Loss=0.607, accuracy=0.856, f1=0.805]\n",
            "100%|██████████| 73/73 [00:16<00:00,  4.39it/s, Epoch=300, LR=1e-6, Valid_Loss=0.00428, accuracy=1, f1=1]\n"
          ]
        },
        {
          "name": "stdout",
          "output_type": "stream",
          "text": [
            "Valid Loss : 0.0042775550295841205\n"
          ]
        },
        {
          "name": "stderr",
          "output_type": "stream",
          "text": [
            "100%|██████████| 145/145 [03:10<00:00,  1.31s/it, Epoch=301, LR=1e-6, Train_Loss=0.614, accuracy=0.852, f1=0.798]\n",
            "100%|██████████| 73/73 [00:16<00:00,  4.35it/s, Epoch=301, LR=1e-6, Valid_Loss=0.00414, accuracy=1, f1=1]\n"
          ]
        },
        {
          "name": "stdout",
          "output_type": "stream",
          "text": [
            "Valid Loss : 0.004138733981151695\n"
          ]
        },
        {
          "name": "stderr",
          "output_type": "stream",
          "text": [
            "100%|██████████| 145/145 [03:10<00:00,  1.32s/it, Epoch=302, LR=1e-6, Train_Loss=0.607, accuracy=0.864, f1=0.815]\n",
            "100%|██████████| 73/73 [00:16<00:00,  4.33it/s, Epoch=302, LR=1e-6, Valid_Loss=0.00423, accuracy=1, f1=1]\n"
          ]
        },
        {
          "name": "stdout",
          "output_type": "stream",
          "text": [
            "Valid Loss : 0.004233600447362621\n"
          ]
        },
        {
          "name": "stderr",
          "output_type": "stream",
          "text": [
            "100%|██████████| 145/145 [03:10<00:00,  1.31s/it, Epoch=303, LR=1e-6, Train_Loss=0.611, accuracy=0.834, f1=0.785]\n",
            "100%|██████████| 73/73 [00:16<00:00,  4.37it/s, Epoch=303, LR=1e-6, Valid_Loss=0.00415, accuracy=1, f1=1]\n"
          ]
        },
        {
          "name": "stdout",
          "output_type": "stream",
          "text": [
            "Valid Loss : 0.004145075487330147\n"
          ]
        },
        {
          "name": "stderr",
          "output_type": "stream",
          "text": [
            "100%|██████████| 145/145 [03:10<00:00,  1.31s/it, Epoch=304, LR=1e-6, Train_Loss=0.63, accuracy=0.83, f1=0.766]\n",
            "100%|██████████| 73/73 [00:16<00:00,  4.41it/s, Epoch=304, LR=1e-6, Valid_Loss=0.00432, accuracy=1, f1=1]\n"
          ]
        },
        {
          "name": "stdout",
          "output_type": "stream",
          "text": [
            "Valid Loss : 0.004315426965460997\n"
          ]
        },
        {
          "name": "stderr",
          "output_type": "stream",
          "text": [
            "100%|██████████| 145/145 [03:10<00:00,  1.31s/it, Epoch=305, LR=1e-6, Train_Loss=0.605, accuracy=0.845, f1=0.791]\n",
            "100%|██████████| 73/73 [00:16<00:00,  4.36it/s, Epoch=305, LR=1e-6, Valid_Loss=0.0044, accuracy=1, f1=1]\n"
          ]
        },
        {
          "name": "stdout",
          "output_type": "stream",
          "text": [
            "Valid Loss : 0.004404679234203411\n"
          ]
        },
        {
          "name": "stderr",
          "output_type": "stream",
          "text": [
            "100%|██████████| 145/145 [03:10<00:00,  1.31s/it, Epoch=306, LR=1e-6, Train_Loss=0.627, accuracy=0.827, f1=0.777]\n",
            "100%|██████████| 73/73 [00:16<00:00,  4.36it/s, Epoch=306, LR=1e-6, Valid_Loss=0.00413, accuracy=1, f1=1]\n"
          ]
        },
        {
          "name": "stdout",
          "output_type": "stream",
          "text": [
            "Valid Loss : 0.0041263821081909\n"
          ]
        },
        {
          "name": "stderr",
          "output_type": "stream",
          "text": [
            "100%|██████████| 145/145 [03:10<00:00,  1.31s/it, Epoch=307, LR=1e-6, Train_Loss=0.619, accuracy=0.843, f1=0.791]\n",
            "100%|██████████| 73/73 [00:16<00:00,  4.36it/s, Epoch=307, LR=1e-6, Valid_Loss=0.00408, accuracy=1, f1=1]\n"
          ]
        },
        {
          "name": "stdout",
          "output_type": "stream",
          "text": [
            "Valid Loss : 0.004080158104954211\n",
            "Validation Loss improved( 0.004103594759402618 ---> 0.004080158104954211  )\n",
            "Model Saved\n"
          ]
        },
        {
          "name": "stderr",
          "output_type": "stream",
          "text": [
            "100%|██████████| 145/145 [03:10<00:00,  1.32s/it, Epoch=308, LR=1e-6, Train_Loss=0.618, accuracy=0.819, f1=0.763]\n",
            "100%|██████████| 73/73 [00:16<00:00,  4.34it/s, Epoch=308, LR=1e-6, Valid_Loss=0.00405, accuracy=1, f1=1]\n"
          ]
        },
        {
          "name": "stdout",
          "output_type": "stream",
          "text": [
            "Valid Loss : 0.004050977961861924\n",
            "Validation Loss improved( 0.004080158104954211 ---> 0.004050977961861924  )\n",
            "Model Saved\n"
          ]
        },
        {
          "name": "stderr",
          "output_type": "stream",
          "text": [
            "100%|██████████| 145/145 [03:11<00:00,  1.32s/it, Epoch=309, LR=1e-6, Train_Loss=0.61, accuracy=0.839, f1=0.785]\n",
            "100%|██████████| 73/73 [00:16<00:00,  4.37it/s, Epoch=309, LR=1e-6, Valid_Loss=0.004, accuracy=1, f1=1]\n"
          ]
        },
        {
          "name": "stdout",
          "output_type": "stream",
          "text": [
            "Valid Loss : 0.004004622040928839\n",
            "Validation Loss improved( 0.004050977961861924 ---> 0.004004622040928839  )\n",
            "Model Saved\n"
          ]
        },
        {
          "name": "stderr",
          "output_type": "stream",
          "text": [
            "100%|██████████| 145/145 [03:10<00:00,  1.32s/it, Epoch=310, LR=1e-6, Train_Loss=0.61, accuracy=0.844, f1=0.798]\n",
            "100%|██████████| 73/73 [00:16<00:00,  4.36it/s, Epoch=310, LR=1e-6, Valid_Loss=0.00436, accuracy=1, f1=1]\n"
          ]
        },
        {
          "name": "stdout",
          "output_type": "stream",
          "text": [
            "Valid Loss : 0.0043562879014045815\n"
          ]
        },
        {
          "name": "stderr",
          "output_type": "stream",
          "text": [
            "100%|██████████| 145/145 [03:10<00:00,  1.31s/it, Epoch=311, LR=1e-6, Train_Loss=0.614, accuracy=0.851, f1=0.799]\n",
            "100%|██████████| 73/73 [00:16<00:00,  4.33it/s, Epoch=311, LR=1e-6, Valid_Loss=0.00394, accuracy=1, f1=1]\n"
          ]
        },
        {
          "name": "stdout",
          "output_type": "stream",
          "text": [
            "Valid Loss : 0.003943754481279278\n",
            "Validation Loss improved( 0.004004622040928839 ---> 0.003943754481279278  )\n",
            "Model Saved\n"
          ]
        },
        {
          "name": "stderr",
          "output_type": "stream",
          "text": [
            "100%|██████████| 145/145 [03:10<00:00,  1.32s/it, Epoch=312, LR=1e-6, Train_Loss=0.599, accuracy=0.856, f1=0.806]\n",
            "100%|██████████| 73/73 [00:16<00:00,  4.35it/s, Epoch=312, LR=1e-6, Valid_Loss=0.00432, accuracy=1, f1=1]\n"
          ]
        },
        {
          "name": "stdout",
          "output_type": "stream",
          "text": [
            "Valid Loss : 0.0043166351204814565\n"
          ]
        },
        {
          "name": "stderr",
          "output_type": "stream",
          "text": [
            "100%|██████████| 145/145 [03:10<00:00,  1.31s/it, Epoch=313, LR=1e-6, Train_Loss=0.602, accuracy=0.856, f1=0.81]\n",
            "100%|██████████| 73/73 [00:16<00:00,  4.38it/s, Epoch=313, LR=1e-6, Valid_Loss=0.004, accuracy=1, f1=1]\n"
          ]
        },
        {
          "name": "stdout",
          "output_type": "stream",
          "text": [
            "Valid Loss : 0.004002487385798603\n"
          ]
        },
        {
          "name": "stderr",
          "output_type": "stream",
          "text": [
            "100%|██████████| 145/145 [03:10<00:00,  1.31s/it, Epoch=314, LR=1e-6, Train_Loss=0.61, accuracy=0.841, f1=0.788]\n",
            "100%|██████████| 73/73 [00:16<00:00,  4.34it/s, Epoch=314, LR=1e-6, Valid_Loss=0.00404, accuracy=1, f1=1]\n"
          ]
        },
        {
          "name": "stdout",
          "output_type": "stream",
          "text": [
            "Valid Loss : 0.004039991197291098\n"
          ]
        },
        {
          "name": "stderr",
          "output_type": "stream",
          "text": [
            "100%|██████████| 145/145 [03:10<00:00,  1.31s/it, Epoch=315, LR=1e-6, Train_Loss=0.609, accuracy=0.839, f1=0.789]\n",
            "100%|██████████| 73/73 [00:16<00:00,  4.37it/s, Epoch=315, LR=1e-6, Valid_Loss=0.00432, accuracy=1, f1=1]\n"
          ]
        },
        {
          "name": "stdout",
          "output_type": "stream",
          "text": [
            "Valid Loss : 0.004323215571500055\n"
          ]
        },
        {
          "name": "stderr",
          "output_type": "stream",
          "text": [
            "100%|██████████| 145/145 [03:10<00:00,  1.31s/it, Epoch=316, LR=1e-6, Train_Loss=0.618, accuracy=0.829, f1=0.777]\n",
            "100%|██████████| 73/73 [00:16<00:00,  4.33it/s, Epoch=316, LR=1e-6, Valid_Loss=0.00401, accuracy=1, f1=1]\n"
          ]
        },
        {
          "name": "stdout",
          "output_type": "stream",
          "text": [
            "Valid Loss : 0.004008752947724233\n"
          ]
        },
        {
          "name": "stderr",
          "output_type": "stream",
          "text": [
            "100%|██████████| 145/145 [03:10<00:00,  1.31s/it, Epoch=317, LR=1e-6, Train_Loss=0.599, accuracy=0.863, f1=0.819]\n",
            "100%|██████████| 73/73 [00:16<00:00,  4.36it/s, Epoch=317, LR=1e-6, Valid_Loss=0.00423, accuracy=1, f1=1]\n"
          ]
        },
        {
          "name": "stdout",
          "output_type": "stream",
          "text": [
            "Valid Loss : 0.004225402987523846\n"
          ]
        },
        {
          "name": "stderr",
          "output_type": "stream",
          "text": [
            "100%|██████████| 145/145 [03:10<00:00,  1.32s/it, Epoch=318, LR=1e-6, Train_Loss=0.614, accuracy=0.863, f1=0.816]\n",
            "100%|██████████| 73/73 [00:16<00:00,  4.33it/s, Epoch=318, LR=1e-6, Valid_Loss=0.00409, accuracy=1, f1=1]\n"
          ]
        },
        {
          "name": "stdout",
          "output_type": "stream",
          "text": [
            "Valid Loss : 0.004087984345036827\n"
          ]
        },
        {
          "name": "stderr",
          "output_type": "stream",
          "text": [
            "100%|██████████| 145/145 [03:10<00:00,  1.31s/it, Epoch=319, LR=1e-6, Train_Loss=0.607, accuracy=0.831, f1=0.784]\n",
            "100%|██████████| 73/73 [00:16<00:00,  4.34it/s, Epoch=319, LR=1e-6, Valid_Loss=0.00393, accuracy=1, f1=1]\n"
          ]
        },
        {
          "name": "stdout",
          "output_type": "stream",
          "text": [
            "Valid Loss : 0.0039294794335808245\n",
            "Validation Loss improved( 0.003943754481279278 ---> 0.0039294794335808245  )\n",
            "Model Saved\n"
          ]
        },
        {
          "name": "stderr",
          "output_type": "stream",
          "text": [
            "100%|██████████| 145/145 [03:10<00:00,  1.32s/it, Epoch=320, LR=1e-6, Train_Loss=0.614, accuracy=0.832, f1=0.778]\n",
            "100%|██████████| 73/73 [00:16<00:00,  4.34it/s, Epoch=320, LR=1e-6, Valid_Loss=0.00454, accuracy=1, f1=1]\n"
          ]
        },
        {
          "name": "stdout",
          "output_type": "stream",
          "text": [
            "Valid Loss : 0.004544162012840787\n"
          ]
        },
        {
          "name": "stderr",
          "output_type": "stream",
          "text": [
            "100%|██████████| 145/145 [03:10<00:00,  1.31s/it, Epoch=321, LR=1e-6, Train_Loss=0.612, accuracy=0.841, f1=0.792]\n",
            "100%|██████████| 73/73 [00:16<00:00,  4.34it/s, Epoch=321, LR=1e-6, Valid_Loss=0.00393, accuracy=1, f1=1]\n"
          ]
        },
        {
          "name": "stdout",
          "output_type": "stream",
          "text": [
            "Valid Loss : 0.003932307627409288\n"
          ]
        },
        {
          "name": "stderr",
          "output_type": "stream",
          "text": [
            "100%|██████████| 145/145 [03:11<00:00,  1.32s/it, Epoch=322, LR=1e-6, Train_Loss=0.62, accuracy=0.843, f1=0.791]\n",
            "100%|██████████| 73/73 [00:16<00:00,  4.29it/s, Epoch=322, LR=1e-6, Valid_Loss=0.00408, accuracy=1, f1=1]\n"
          ]
        },
        {
          "name": "stdout",
          "output_type": "stream",
          "text": [
            "Valid Loss : 0.0040764251551654645\n"
          ]
        },
        {
          "name": "stderr",
          "output_type": "stream",
          "text": [
            "100%|██████████| 145/145 [03:10<00:00,  1.32s/it, Epoch=323, LR=1e-6, Train_Loss=0.601, accuracy=0.866, f1=0.817]\n",
            "100%|██████████| 73/73 [00:16<00:00,  4.36it/s, Epoch=323, LR=1e-6, Valid_Loss=0.00394, accuracy=1, f1=1]\n"
          ]
        },
        {
          "name": "stdout",
          "output_type": "stream",
          "text": [
            "Valid Loss : 0.003937988443147034\n"
          ]
        },
        {
          "name": "stderr",
          "output_type": "stream",
          "text": [
            "100%|██████████| 145/145 [03:10<00:00,  1.31s/it, Epoch=324, LR=1e-6, Train_Loss=0.607, accuracy=0.869, f1=0.818]\n",
            "100%|██████████| 73/73 [00:16<00:00,  4.32it/s, Epoch=324, LR=1e-6, Valid_Loss=0.00378, accuracy=1, f1=1]\n"
          ]
        },
        {
          "name": "stdout",
          "output_type": "stream",
          "text": [
            "Valid Loss : 0.0037806467679393006\n",
            "Validation Loss improved( 0.0039294794335808245 ---> 0.0037806467679393006  )\n",
            "Model Saved\n"
          ]
        },
        {
          "name": "stderr",
          "output_type": "stream",
          "text": [
            "100%|██████████| 145/145 [03:11<00:00,  1.32s/it, Epoch=325, LR=1e-6, Train_Loss=0.619, accuracy=0.838, f1=0.781]\n",
            "100%|██████████| 73/73 [00:16<00:00,  4.35it/s, Epoch=325, LR=1e-6, Valid_Loss=0.0042, accuracy=1, f1=1]\n"
          ]
        },
        {
          "name": "stdout",
          "output_type": "stream",
          "text": [
            "Valid Loss : 0.004202512698885921\n"
          ]
        },
        {
          "name": "stderr",
          "output_type": "stream",
          "text": [
            "100%|██████████| 145/145 [03:10<00:00,  1.31s/it, Epoch=326, LR=1e-6, Train_Loss=0.616, accuracy=0.854, f1=0.806]\n",
            "100%|██████████| 73/73 [00:16<00:00,  4.31it/s, Epoch=326, LR=1e-6, Valid_Loss=0.00387, accuracy=1, f1=1]\n"
          ]
        },
        {
          "name": "stdout",
          "output_type": "stream",
          "text": [
            "Valid Loss : 0.0038689318438354012\n"
          ]
        },
        {
          "name": "stderr",
          "output_type": "stream",
          "text": [
            "100%|██████████| 145/145 [03:10<00:00,  1.31s/it, Epoch=327, LR=1e-6, Train_Loss=0.613, accuracy=0.845, f1=0.791]\n",
            "100%|██████████| 73/73 [00:16<00:00,  4.37it/s, Epoch=327, LR=1e-6, Valid_Loss=0.00389, accuracy=1, f1=1]\n"
          ]
        },
        {
          "name": "stdout",
          "output_type": "stream",
          "text": [
            "Valid Loss : 0.0038854381458655204\n"
          ]
        },
        {
          "name": "stderr",
          "output_type": "stream",
          "text": [
            "100%|██████████| 145/145 [03:10<00:00,  1.31s/it, Epoch=328, LR=1e-6, Train_Loss=0.598, accuracy=0.853, f1=0.806]\n",
            "100%|██████████| 73/73 [00:16<00:00,  4.31it/s, Epoch=328, LR=1e-6, Valid_Loss=0.00388, accuracy=1, f1=1]\n"
          ]
        },
        {
          "name": "stdout",
          "output_type": "stream",
          "text": [
            "Valid Loss : 0.003880394948008534\n"
          ]
        },
        {
          "name": "stderr",
          "output_type": "stream",
          "text": [
            "100%|██████████| 145/145 [03:10<00:00,  1.31s/it, Epoch=329, LR=1e-6, Train_Loss=0.621, accuracy=0.845, f1=0.792]\n",
            "100%|██████████| 73/73 [00:16<00:00,  4.33it/s, Epoch=329, LR=1e-6, Valid_Loss=0.00386, accuracy=1, f1=1]\n"
          ]
        },
        {
          "name": "stdout",
          "output_type": "stream",
          "text": [
            "Valid Loss : 0.0038566092182308028\n"
          ]
        },
        {
          "name": "stderr",
          "output_type": "stream",
          "text": [
            "100%|██████████| 145/145 [03:10<00:00,  1.32s/it, Epoch=330, LR=1e-6, Train_Loss=0.614, accuracy=0.84, f1=0.792]\n",
            "100%|██████████| 73/73 [00:16<00:00,  4.34it/s, Epoch=330, LR=1e-6, Valid_Loss=0.00412, accuracy=1, f1=1]\n"
          ]
        },
        {
          "name": "stdout",
          "output_type": "stream",
          "text": [
            "Valid Loss : 0.004117118108583844\n"
          ]
        },
        {
          "name": "stderr",
          "output_type": "stream",
          "text": [
            "100%|██████████| 145/145 [03:10<00:00,  1.32s/it, Epoch=331, LR=1e-6, Train_Loss=0.61, accuracy=0.84, f1=0.783]\n",
            "100%|██████████| 73/73 [00:16<00:00,  4.32it/s, Epoch=331, LR=1e-6, Valid_Loss=0.00384, accuracy=1, f1=1]\n"
          ]
        },
        {
          "name": "stdout",
          "output_type": "stream",
          "text": [
            "Valid Loss : 0.0038388899546626903\n"
          ]
        },
        {
          "name": "stderr",
          "output_type": "stream",
          "text": [
            "100%|██████████| 145/145 [03:10<00:00,  1.31s/it, Epoch=332, LR=1e-6, Train_Loss=0.62, accuracy=0.83, f1=0.776]\n",
            "100%|██████████| 73/73 [00:16<00:00,  4.34it/s, Epoch=332, LR=1e-6, Valid_Loss=0.0039, accuracy=1, f1=1]\n"
          ]
        },
        {
          "name": "stdout",
          "output_type": "stream",
          "text": [
            "Valid Loss : 0.00389509605983757\n"
          ]
        },
        {
          "name": "stderr",
          "output_type": "stream",
          "text": [
            "100%|██████████| 145/145 [03:10<00:00,  1.31s/it, Epoch=333, LR=1e-6, Train_Loss=0.609, accuracy=0.843, f1=0.787]\n",
            "100%|██████████| 73/73 [00:16<00:00,  4.33it/s, Epoch=333, LR=1e-6, Valid_Loss=0.00393, accuracy=1, f1=1]\n"
          ]
        },
        {
          "name": "stdout",
          "output_type": "stream",
          "text": [
            "Valid Loss : 0.003933966245936\n"
          ]
        },
        {
          "name": "stderr",
          "output_type": "stream",
          "text": [
            "100%|██████████| 145/145 [03:10<00:00,  1.31s/it, Epoch=334, LR=1e-6, Train_Loss=0.614, accuracy=0.832, f1=0.78]\n",
            "100%|██████████| 73/73 [00:16<00:00,  4.35it/s, Epoch=334, LR=1e-6, Valid_Loss=0.00388, accuracy=1, f1=1]\n"
          ]
        },
        {
          "name": "stdout",
          "output_type": "stream",
          "text": [
            "Valid Loss : 0.003877414049172442\n"
          ]
        },
        {
          "name": "stderr",
          "output_type": "stream",
          "text": [
            "100%|██████████| 145/145 [03:09<00:00,  1.31s/it, Epoch=335, LR=1e-6, Train_Loss=0.598, accuracy=0.849, f1=0.799]\n",
            "100%|██████████| 73/73 [00:16<00:00,  4.33it/s, Epoch=335, LR=1e-6, Valid_Loss=0.00407, accuracy=1, f1=1]\n"
          ]
        },
        {
          "name": "stdout",
          "output_type": "stream",
          "text": [
            "Valid Loss : 0.0040714622137124\n"
          ]
        },
        {
          "name": "stderr",
          "output_type": "stream",
          "text": [
            "100%|██████████| 145/145 [03:10<00:00,  1.31s/it, Epoch=336, LR=1e-6, Train_Loss=0.6, accuracy=0.866, f1=0.817]\n",
            "100%|██████████| 73/73 [00:16<00:00,  4.35it/s, Epoch=336, LR=1e-6, Valid_Loss=0.00384, accuracy=1, f1=1]\n"
          ]
        },
        {
          "name": "stdout",
          "output_type": "stream",
          "text": [
            "Valid Loss : 0.0038358362595716567\n"
          ]
        },
        {
          "name": "stderr",
          "output_type": "stream",
          "text": [
            "100%|██████████| 145/145 [03:09<00:00,  1.31s/it, Epoch=337, LR=1e-6, Train_Loss=0.62, accuracy=0.829, f1=0.784]\n",
            "100%|██████████| 73/73 [00:16<00:00,  4.31it/s, Epoch=337, LR=1e-6, Valid_Loss=0.00409, accuracy=1, f1=1]\n"
          ]
        },
        {
          "name": "stdout",
          "output_type": "stream",
          "text": [
            "Valid Loss : 0.004087264856884945\n"
          ]
        },
        {
          "name": "stderr",
          "output_type": "stream",
          "text": [
            "100%|██████████| 145/145 [03:10<00:00,  1.32s/it, Epoch=338, LR=1e-6, Train_Loss=0.596, accuracy=0.857, f1=0.806]\n",
            "100%|██████████| 73/73 [00:16<00:00,  4.37it/s, Epoch=338, LR=1e-6, Valid_Loss=0.00389, accuracy=1, f1=1]\n"
          ]
        },
        {
          "name": "stdout",
          "output_type": "stream",
          "text": [
            "Valid Loss : 0.0038892393549011177\n"
          ]
        },
        {
          "name": "stderr",
          "output_type": "stream",
          "text": [
            "100%|██████████| 145/145 [03:10<00:00,  1.31s/it, Epoch=339, LR=1e-6, Train_Loss=0.6, accuracy=0.857, f1=0.812]\n",
            "100%|██████████| 73/73 [00:16<00:00,  4.35it/s, Epoch=339, LR=1e-6, Valid_Loss=0.00383, accuracy=1, f1=1]\n"
          ]
        },
        {
          "name": "stdout",
          "output_type": "stream",
          "text": [
            "Valid Loss : 0.0038270316507718334\n"
          ]
        },
        {
          "name": "stderr",
          "output_type": "stream",
          "text": [
            "100%|██████████| 145/145 [03:10<00:00,  1.32s/it, Epoch=340, LR=1e-6, Train_Loss=0.603, accuracy=0.853, f1=0.804]\n",
            "100%|██████████| 73/73 [00:16<00:00,  4.35it/s, Epoch=340, LR=1e-6, Valid_Loss=0.00411, accuracy=1, f1=1]\n"
          ]
        },
        {
          "name": "stdout",
          "output_type": "stream",
          "text": [
            "Valid Loss : 0.004111845534269328\n"
          ]
        },
        {
          "name": "stderr",
          "output_type": "stream",
          "text": [
            "100%|██████████| 145/145 [03:10<00:00,  1.31s/it, Epoch=341, LR=1e-6, Train_Loss=0.611, accuracy=0.842, f1=0.796]\n",
            "100%|██████████| 73/73 [00:16<00:00,  4.32it/s, Epoch=341, LR=1e-6, Valid_Loss=0.0038, accuracy=1, f1=1]\n"
          ]
        },
        {
          "name": "stdout",
          "output_type": "stream",
          "text": [
            "Valid Loss : 0.0038034655664065113\n"
          ]
        },
        {
          "name": "stderr",
          "output_type": "stream",
          "text": [
            "100%|██████████| 145/145 [03:10<00:00,  1.31s/it, Epoch=342, LR=1e-6, Train_Loss=0.609, accuracy=0.848, f1=0.801]\n",
            "100%|██████████| 73/73 [00:16<00:00,  4.31it/s, Epoch=342, LR=1e-6, Valid_Loss=0.00393, accuracy=1, f1=1]\n"
          ]
        },
        {
          "name": "stdout",
          "output_type": "stream",
          "text": [
            "Valid Loss : 0.003927648348146922\n"
          ]
        },
        {
          "name": "stderr",
          "output_type": "stream",
          "text": [
            "100%|██████████| 145/145 [03:10<00:00,  1.32s/it, Epoch=343, LR=1e-6, Train_Loss=0.603, accuracy=0.856, f1=0.808]\n",
            "100%|██████████| 73/73 [00:16<00:00,  4.35it/s, Epoch=343, LR=1e-6, Valid_Loss=0.0038, accuracy=1, f1=1]\n"
          ]
        },
        {
          "name": "stdout",
          "output_type": "stream",
          "text": [
            "Valid Loss : 0.003800043692710261\n"
          ]
        },
        {
          "name": "stderr",
          "output_type": "stream",
          "text": [
            "100%|██████████| 145/145 [03:10<00:00,  1.31s/it, Epoch=344, LR=1e-6, Train_Loss=0.613, accuracy=0.848, f1=0.798]\n",
            "100%|██████████| 73/73 [00:16<00:00,  4.38it/s, Epoch=344, LR=1e-6, Valid_Loss=0.00376, accuracy=1, f1=1]\n"
          ]
        },
        {
          "name": "stdout",
          "output_type": "stream",
          "text": [
            "Valid Loss : 0.003759556331939689\n",
            "Validation Loss improved( 0.0037806467679393006 ---> 0.003759556331939689  )\n",
            "Model Saved\n"
          ]
        },
        {
          "name": "stderr",
          "output_type": "stream",
          "text": [
            "100%|██████████| 145/145 [03:10<00:00,  1.31s/it, Epoch=345, LR=1e-6, Train_Loss=0.597, accuracy=0.874, f1=0.827]\n",
            "100%|██████████| 73/73 [00:16<00:00,  4.36it/s, Epoch=345, LR=1e-6, Valid_Loss=0.004, accuracy=1, f1=1]\n"
          ]
        },
        {
          "name": "stdout",
          "output_type": "stream",
          "text": [
            "Valid Loss : 0.004002965064974476\n"
          ]
        },
        {
          "name": "stderr",
          "output_type": "stream",
          "text": [
            "100%|██████████| 145/145 [03:10<00:00,  1.31s/it, Epoch=346, LR=1e-6, Train_Loss=0.608, accuracy=0.869, f1=0.83]\n",
            "100%|██████████| 73/73 [00:16<00:00,  4.30it/s, Epoch=346, LR=1e-6, Valid_Loss=0.00383, accuracy=1, f1=1]\n"
          ]
        },
        {
          "name": "stdout",
          "output_type": "stream",
          "text": [
            "Valid Loss : 0.003825807417679119\n"
          ]
        },
        {
          "name": "stderr",
          "output_type": "stream",
          "text": [
            "100%|██████████| 145/145 [03:10<00:00,  1.31s/it, Epoch=347, LR=1e-6, Train_Loss=0.607, accuracy=0.845, f1=0.796]\n",
            "100%|██████████| 73/73 [00:16<00:00,  4.32it/s, Epoch=347, LR=1e-6, Valid_Loss=0.0038, accuracy=1, f1=1]\n"
          ]
        },
        {
          "name": "stdout",
          "output_type": "stream",
          "text": [
            "Valid Loss : 0.003804363340636945\n"
          ]
        },
        {
          "name": "stderr",
          "output_type": "stream",
          "text": [
            "100%|██████████| 145/145 [03:10<00:00,  1.31s/it, Epoch=348, LR=1e-6, Train_Loss=0.613, accuracy=0.835, f1=0.778]\n",
            "100%|██████████| 73/73 [00:16<00:00,  4.33it/s, Epoch=348, LR=1e-6, Valid_Loss=0.00367, accuracy=1, f1=1]\n"
          ]
        },
        {
          "name": "stdout",
          "output_type": "stream",
          "text": [
            "Valid Loss : 0.003667535070546788\n",
            "Validation Loss improved( 0.003759556331939689 ---> 0.003667535070546788  )\n",
            "Model Saved\n"
          ]
        },
        {
          "name": "stderr",
          "output_type": "stream",
          "text": [
            "100%|██████████| 145/145 [03:10<00:00,  1.31s/it, Epoch=349, LR=1e-6, Train_Loss=0.605, accuracy=0.847, f1=0.796]\n",
            "100%|██████████| 73/73 [00:16<00:00,  4.37it/s, Epoch=349, LR=1e-6, Valid_Loss=0.00369, accuracy=1, f1=1]\n"
          ]
        },
        {
          "name": "stdout",
          "output_type": "stream",
          "text": [
            "Valid Loss : 0.0036912433012095216\n"
          ]
        },
        {
          "name": "stderr",
          "output_type": "stream",
          "text": [
            "100%|██████████| 145/145 [03:10<00:00,  1.31s/it, Epoch=350, LR=1e-6, Train_Loss=0.611, accuracy=0.841, f1=0.795]\n",
            "100%|██████████| 73/73 [00:16<00:00,  4.34it/s, Epoch=350, LR=1e-6, Valid_Loss=0.00383, accuracy=1, f1=1]\n"
          ]
        },
        {
          "name": "stdout",
          "output_type": "stream",
          "text": [
            "Valid Loss : 0.0038289121537124866\n"
          ]
        },
        {
          "name": "stderr",
          "output_type": "stream",
          "text": [
            "100%|██████████| 145/145 [03:10<00:00,  1.31s/it, Epoch=351, LR=1e-6, Train_Loss=0.601, accuracy=0.873, f1=0.824]\n",
            "100%|██████████| 73/73 [00:16<00:00,  4.30it/s, Epoch=351, LR=1e-6, Valid_Loss=0.00362, accuracy=1, f1=1]\n"
          ]
        },
        {
          "name": "stdout",
          "output_type": "stream",
          "text": [
            "Valid Loss : 0.003621519154116307\n",
            "Validation Loss improved( 0.003667535070546788 ---> 0.003621519154116307  )\n",
            "Model Saved\n"
          ]
        },
        {
          "name": "stderr",
          "output_type": "stream",
          "text": [
            "100%|██████████| 145/145 [03:10<00:00,  1.31s/it, Epoch=352, LR=1e-6, Train_Loss=0.613, accuracy=0.843, f1=0.792]\n",
            "100%|██████████| 73/73 [00:17<00:00,  4.29it/s, Epoch=352, LR=1e-6, Valid_Loss=0.00371, accuracy=1, f1=1]\n"
          ]
        },
        {
          "name": "stdout",
          "output_type": "stream",
          "text": [
            "Valid Loss : 0.0037115184775209182\n"
          ]
        },
        {
          "name": "stderr",
          "output_type": "stream",
          "text": [
            "100%|██████████| 145/145 [03:11<00:00,  1.32s/it, Epoch=353, LR=1e-6, Train_Loss=0.602, accuracy=0.849, f1=0.802]\n",
            "100%|██████████| 73/73 [00:16<00:00,  4.32it/s, Epoch=353, LR=1e-6, Valid_Loss=0.00368, accuracy=1, f1=1]\n"
          ]
        },
        {
          "name": "stdout",
          "output_type": "stream",
          "text": [
            "Valid Loss : 0.003678685108403841\n"
          ]
        },
        {
          "name": "stderr",
          "output_type": "stream",
          "text": [
            "100%|██████████| 145/145 [03:10<00:00,  1.31s/it, Epoch=354, LR=1e-6, Train_Loss=0.611, accuracy=0.858, f1=0.811]\n",
            "100%|██████████| 73/73 [00:16<00:00,  4.32it/s, Epoch=354, LR=1e-6, Valid_Loss=0.00366, accuracy=1, f1=1]\n"
          ]
        },
        {
          "name": "stdout",
          "output_type": "stream",
          "text": [
            "Valid Loss : 0.0036594732377474033\n"
          ]
        },
        {
          "name": "stderr",
          "output_type": "stream",
          "text": [
            "100%|██████████| 145/145 [03:09<00:00,  1.31s/it, Epoch=355, LR=1e-6, Train_Loss=0.588, accuracy=0.854, f1=0.807]\n",
            "100%|██████████| 73/73 [00:16<00:00,  4.34it/s, Epoch=355, LR=1e-6, Valid_Loss=0.00391, accuracy=1, f1=1]\n"
          ]
        },
        {
          "name": "stdout",
          "output_type": "stream",
          "text": [
            "Valid Loss : 0.003906128650582204\n"
          ]
        },
        {
          "name": "stderr",
          "output_type": "stream",
          "text": [
            "100%|██████████| 145/145 [03:10<00:00,  1.32s/it, Epoch=356, LR=1e-6, Train_Loss=0.605, accuracy=0.847, f1=0.793]\n",
            "100%|██████████| 73/73 [00:16<00:00,  4.34it/s, Epoch=356, LR=1e-6, Valid_Loss=0.00375, accuracy=1, f1=1]\n"
          ]
        },
        {
          "name": "stdout",
          "output_type": "stream",
          "text": [
            "Valid Loss : 0.0037536849682410695\n"
          ]
        },
        {
          "name": "stderr",
          "output_type": "stream",
          "text": [
            "100%|██████████| 145/145 [03:09<00:00,  1.31s/it, Epoch=357, LR=1e-6, Train_Loss=0.604, accuracy=0.867, f1=0.821]\n",
            "100%|██████████| 73/73 [00:16<00:00,  4.37it/s, Epoch=357, LR=1e-6, Valid_Loss=0.00367, accuracy=1, f1=1]\n"
          ]
        },
        {
          "name": "stdout",
          "output_type": "stream",
          "text": [
            "Valid Loss : 0.0036712310002631927\n"
          ]
        },
        {
          "name": "stderr",
          "output_type": "stream",
          "text": [
            "100%|██████████| 145/145 [03:09<00:00,  1.31s/it, Epoch=358, LR=1e-6, Train_Loss=0.607, accuracy=0.86, f1=0.813]\n",
            "100%|██████████| 73/73 [00:16<00:00,  4.38it/s, Epoch=358, LR=1e-6, Valid_Loss=0.00375, accuracy=1, f1=1]\n"
          ]
        },
        {
          "name": "stdout",
          "output_type": "stream",
          "text": [
            "Valid Loss : 0.0037491822612076386\n"
          ]
        },
        {
          "name": "stderr",
          "output_type": "stream",
          "text": [
            "100%|██████████| 145/145 [03:09<00:00,  1.31s/it, Epoch=359, LR=1e-6, Train_Loss=0.589, accuracy=0.867, f1=0.823]\n",
            "100%|██████████| 73/73 [00:16<00:00,  4.39it/s, Epoch=359, LR=1e-6, Valid_Loss=0.0037, accuracy=1, f1=1]\n"
          ]
        },
        {
          "name": "stdout",
          "output_type": "stream",
          "text": [
            "Valid Loss : 0.0037038165355126745\n"
          ]
        },
        {
          "name": "stderr",
          "output_type": "stream",
          "text": [
            "100%|██████████| 145/145 [03:09<00:00,  1.31s/it, Epoch=360, LR=1e-6, Train_Loss=0.607, accuracy=0.839, f1=0.781]\n",
            "100%|██████████| 73/73 [00:16<00:00,  4.39it/s, Epoch=360, LR=1e-6, Valid_Loss=0.00395, accuracy=1, f1=1]\n"
          ]
        },
        {
          "name": "stdout",
          "output_type": "stream",
          "text": [
            "Valid Loss : 0.003945505645202651\n"
          ]
        },
        {
          "name": "stderr",
          "output_type": "stream",
          "text": [
            "100%|██████████| 145/145 [03:09<00:00,  1.31s/it, Epoch=361, LR=1e-6, Train_Loss=0.607, accuracy=0.845, f1=0.798]\n",
            "100%|██████████| 73/73 [00:16<00:00,  4.39it/s, Epoch=361, LR=1e-6, Valid_Loss=0.00364, accuracy=1, f1=1]\n"
          ]
        },
        {
          "name": "stdout",
          "output_type": "stream",
          "text": [
            "Valid Loss : 0.0036428526190607105\n"
          ]
        },
        {
          "name": "stderr",
          "output_type": "stream",
          "text": [
            "100%|██████████| 145/145 [03:10<00:00,  1.31s/it, Epoch=362, LR=1e-6, Train_Loss=0.6, accuracy=0.846, f1=0.801]\n",
            "100%|██████████| 73/73 [00:16<00:00,  4.38it/s, Epoch=362, LR=1e-6, Valid_Loss=0.00369, accuracy=1, f1=1]\n"
          ]
        },
        {
          "name": "stdout",
          "output_type": "stream",
          "text": [
            "Valid Loss : 0.0036947629669655674\n"
          ]
        },
        {
          "name": "stderr",
          "output_type": "stream",
          "text": [
            "100%|██████████| 145/145 [03:09<00:00,  1.31s/it, Epoch=363, LR=1e-6, Train_Loss=0.603, accuracy=0.855, f1=0.803]\n",
            "100%|██████████| 73/73 [00:16<00:00,  4.37it/s, Epoch=363, LR=1e-6, Valid_Loss=0.00366, accuracy=1, f1=1]\n"
          ]
        },
        {
          "name": "stdout",
          "output_type": "stream",
          "text": [
            "Valid Loss : 0.003663150194955811\n"
          ]
        },
        {
          "name": "stderr",
          "output_type": "stream",
          "text": [
            "100%|██████████| 145/145 [03:09<00:00,  1.31s/it, Epoch=364, LR=1e-6, Train_Loss=0.609, accuracy=0.846, f1=0.791]\n",
            "100%|██████████| 73/73 [00:16<00:00,  4.37it/s, Epoch=364, LR=1e-6, Valid_Loss=0.00381, accuracy=1, f1=1]\n"
          ]
        },
        {
          "name": "stdout",
          "output_type": "stream",
          "text": [
            "Valid Loss : 0.0038103152079227037\n"
          ]
        },
        {
          "name": "stderr",
          "output_type": "stream",
          "text": [
            "100%|██████████| 145/145 [03:09<00:00,  1.31s/it, Epoch=365, LR=1e-6, Train_Loss=0.604, accuracy=0.856, f1=0.807]\n",
            "100%|██████████| 73/73 [00:16<00:00,  4.38it/s, Epoch=365, LR=1e-6, Valid_Loss=0.00393, accuracy=1, f1=1]\n"
          ]
        },
        {
          "name": "stdout",
          "output_type": "stream",
          "text": [
            "Valid Loss : 0.003926306915125006\n"
          ]
        },
        {
          "name": "stderr",
          "output_type": "stream",
          "text": [
            "100%|██████████| 145/145 [03:09<00:00,  1.31s/it, Epoch=366, LR=1e-6, Train_Loss=0.608, accuracy=0.851, f1=0.799]\n",
            "100%|██████████| 73/73 [00:16<00:00,  4.36it/s, Epoch=366, LR=1e-6, Valid_Loss=0.00366, accuracy=1, f1=1]\n"
          ]
        },
        {
          "name": "stdout",
          "output_type": "stream",
          "text": [
            "Valid Loss : 0.003660368918096774\n"
          ]
        },
        {
          "name": "stderr",
          "output_type": "stream",
          "text": [
            "100%|██████████| 145/145 [03:10<00:00,  1.31s/it, Epoch=367, LR=1e-6, Train_Loss=0.597, accuracy=0.868, f1=0.823]\n",
            "100%|██████████| 73/73 [00:16<00:00,  4.33it/s, Epoch=367, LR=1e-6, Valid_Loss=0.00381, accuracy=1, f1=1]\n"
          ]
        },
        {
          "name": "stdout",
          "output_type": "stream",
          "text": [
            "Valid Loss : 0.0038078906387728575\n"
          ]
        },
        {
          "name": "stderr",
          "output_type": "stream",
          "text": [
            "100%|██████████| 145/145 [03:09<00:00,  1.31s/it, Epoch=368, LR=1e-6, Train_Loss=0.597, accuracy=0.85, f1=0.805]\n",
            "100%|██████████| 73/73 [00:16<00:00,  4.37it/s, Epoch=368, LR=1e-6, Valid_Loss=0.00372, accuracy=1, f1=1]\n"
          ]
        },
        {
          "name": "stdout",
          "output_type": "stream",
          "text": [
            "Valid Loss : 0.0037212950378426746\n"
          ]
        },
        {
          "name": "stderr",
          "output_type": "stream",
          "text": [
            "100%|██████████| 145/145 [03:09<00:00,  1.31s/it, Epoch=369, LR=1e-6, Train_Loss=0.596, accuracy=0.838, f1=0.784]\n",
            "100%|██████████| 73/73 [00:16<00:00,  4.38it/s, Epoch=369, LR=1e-6, Valid_Loss=0.00371, accuracy=1, f1=1]\n"
          ]
        },
        {
          "name": "stdout",
          "output_type": "stream",
          "text": [
            "Valid Loss : 0.003711400744951751\n"
          ]
        },
        {
          "name": "stderr",
          "output_type": "stream",
          "text": [
            "100%|██████████| 145/145 [03:09<00:00,  1.31s/it, Epoch=370, LR=1e-6, Train_Loss=0.604, accuracy=0.858, f1=0.809]\n",
            "100%|██████████| 73/73 [00:16<00:00,  4.39it/s, Epoch=370, LR=1e-6, Valid_Loss=0.00401, accuracy=1, f1=1]\n"
          ]
        },
        {
          "name": "stdout",
          "output_type": "stream",
          "text": [
            "Valid Loss : 0.0040072046781647695\n"
          ]
        },
        {
          "name": "stderr",
          "output_type": "stream",
          "text": [
            "100%|██████████| 145/145 [03:09<00:00,  1.31s/it, Epoch=371, LR=1e-6, Train_Loss=0.613, accuracy=0.857, f1=0.808]\n",
            "100%|██████████| 73/73 [00:16<00:00,  4.38it/s, Epoch=371, LR=1e-6, Valid_Loss=0.00364, accuracy=1, f1=1]\n"
          ]
        },
        {
          "name": "stdout",
          "output_type": "stream",
          "text": [
            "Valid Loss : 0.003642169280258352\n"
          ]
        },
        {
          "name": "stderr",
          "output_type": "stream",
          "text": [
            "100%|██████████| 145/145 [03:09<00:00,  1.31s/it, Epoch=372, LR=1e-6, Train_Loss=0.591, accuracy=0.855, f1=0.806]\n",
            "100%|██████████| 73/73 [00:16<00:00,  4.35it/s, Epoch=372, LR=1e-6, Valid_Loss=0.00374, accuracy=1, f1=1]\n"
          ]
        },
        {
          "name": "stdout",
          "output_type": "stream",
          "text": [
            "Valid Loss : 0.0037383588783647097\n"
          ]
        },
        {
          "name": "stderr",
          "output_type": "stream",
          "text": [
            "100%|██████████| 145/145 [03:10<00:00,  1.31s/it, Epoch=373, LR=1e-6, Train_Loss=0.61, accuracy=0.839, f1=0.792]\n",
            "100%|██████████| 73/73 [00:16<00:00,  4.36it/s, Epoch=373, LR=1e-6, Valid_Loss=0.00363, accuracy=1, f1=1]\n"
          ]
        },
        {
          "name": "stdout",
          "output_type": "stream",
          "text": [
            "Valid Loss : 0.0036282967887691234\n"
          ]
        },
        {
          "name": "stderr",
          "output_type": "stream",
          "text": [
            "100%|██████████| 145/145 [03:09<00:00,  1.31s/it, Epoch=374, LR=1e-6, Train_Loss=0.615, accuracy=0.832, f1=0.773]\n",
            "100%|██████████| 73/73 [00:16<00:00,  4.38it/s, Epoch=374, LR=1e-6, Valid_Loss=0.00358, accuracy=1, f1=1]\n"
          ]
        },
        {
          "name": "stdout",
          "output_type": "stream",
          "text": [
            "Valid Loss : 0.0035832586494108586\n",
            "Validation Loss improved( 0.003621519154116307 ---> 0.0035832586494108586  )\n",
            "Model Saved\n"
          ]
        },
        {
          "name": "stderr",
          "output_type": "stream",
          "text": [
            "100%|██████████| 145/145 [03:10<00:00,  1.31s/it, Epoch=375, LR=1e-6, Train_Loss=0.609, accuracy=0.852, f1=0.801]\n",
            "100%|██████████| 73/73 [00:16<00:00,  4.40it/s, Epoch=375, LR=1e-6, Valid_Loss=0.00395, accuracy=1, f1=1]\n"
          ]
        },
        {
          "name": "stdout",
          "output_type": "stream",
          "text": [
            "Valid Loss : 0.003948103336693897\n"
          ]
        },
        {
          "name": "stderr",
          "output_type": "stream",
          "text": [
            "100%|██████████| 145/145 [03:10<00:00,  1.31s/it, Epoch=376, LR=1e-6, Train_Loss=0.616, accuracy=0.83, f1=0.771]\n",
            "100%|██████████| 73/73 [00:16<00:00,  4.39it/s, Epoch=376, LR=1e-6, Valid_Loss=0.00367, accuracy=1, f1=1]\n"
          ]
        },
        {
          "name": "stdout",
          "output_type": "stream",
          "text": [
            "Valid Loss : 0.0036739823217057203\n"
          ]
        },
        {
          "name": "stderr",
          "output_type": "stream",
          "text": [
            "100%|██████████| 145/145 [03:08<00:00,  1.30s/it, Epoch=377, LR=1e-6, Train_Loss=0.61, accuracy=0.845, f1=0.794]\n",
            "100%|██████████| 73/73 [00:16<00:00,  4.38it/s, Epoch=377, LR=1e-6, Valid_Loss=0.00358, accuracy=1, f1=1]\n"
          ]
        },
        {
          "name": "stdout",
          "output_type": "stream",
          "text": [
            "Valid Loss : 0.003581390567825571\n",
            "Validation Loss improved( 0.0035832586494108586 ---> 0.003581390567825571  )\n",
            "Model Saved\n"
          ]
        },
        {
          "name": "stderr",
          "output_type": "stream",
          "text": [
            "100%|██████████| 145/145 [03:09<00:00,  1.31s/it, Epoch=378, LR=1e-6, Train_Loss=0.609, accuracy=0.843, f1=0.792]\n",
            "100%|██████████| 73/73 [00:16<00:00,  4.42it/s, Epoch=378, LR=1e-6, Valid_Loss=0.00367, accuracy=1, f1=1]\n"
          ]
        },
        {
          "name": "stdout",
          "output_type": "stream",
          "text": [
            "Valid Loss : 0.003668542616452052\n"
          ]
        },
        {
          "name": "stderr",
          "output_type": "stream",
          "text": [
            "100%|██████████| 145/145 [03:09<00:00,  1.31s/it, Epoch=379, LR=1e-6, Train_Loss=0.603, accuracy=0.865, f1=0.823]\n",
            "100%|██████████| 73/73 [00:16<00:00,  4.39it/s, Epoch=379, LR=1e-6, Valid_Loss=0.00358, accuracy=1, f1=1]\n"
          ]
        },
        {
          "name": "stdout",
          "output_type": "stream",
          "text": [
            "Valid Loss : 0.0035797197575846763\n",
            "Validation Loss improved( 0.003581390567825571 ---> 0.0035797197575846763  )\n",
            "Model Saved\n"
          ]
        },
        {
          "name": "stderr",
          "output_type": "stream",
          "text": [
            "100%|██████████| 145/145 [03:10<00:00,  1.31s/it, Epoch=380, LR=1e-6, Train_Loss=0.609, accuracy=0.85, f1=0.799]\n",
            "100%|██████████| 73/73 [00:16<00:00,  4.39it/s, Epoch=380, LR=1e-6, Valid_Loss=0.00375, accuracy=1, f1=1]\n"
          ]
        },
        {
          "name": "stdout",
          "output_type": "stream",
          "text": [
            "Valid Loss : 0.0037497135504365783\n"
          ]
        },
        {
          "name": "stderr",
          "output_type": "stream",
          "text": [
            "100%|██████████| 145/145 [03:09<00:00,  1.31s/it, Epoch=381, LR=1e-6, Train_Loss=0.61, accuracy=0.817, f1=0.773]\n",
            "100%|██████████| 73/73 [00:16<00:00,  4.33it/s, Epoch=381, LR=1e-6, Valid_Loss=0.00373, accuracy=1, f1=1]\n"
          ]
        },
        {
          "name": "stdout",
          "output_type": "stream",
          "text": [
            "Valid Loss : 0.0037287474252691824\n"
          ]
        },
        {
          "name": "stderr",
          "output_type": "stream",
          "text": [
            "100%|██████████| 145/145 [03:10<00:00,  1.31s/it, Epoch=382, LR=1e-6, Train_Loss=0.593, accuracy=0.86, f1=0.816]\n",
            "100%|██████████| 73/73 [00:16<00:00,  4.32it/s, Epoch=382, LR=1e-6, Valid_Loss=0.00369, accuracy=1, f1=1]\n"
          ]
        },
        {
          "name": "stdout",
          "output_type": "stream",
          "text": [
            "Valid Loss : 0.0036855887969292392\n"
          ]
        },
        {
          "name": "stderr",
          "output_type": "stream",
          "text": [
            "100%|██████████| 145/145 [03:10<00:00,  1.31s/it, Epoch=383, LR=1e-6, Train_Loss=0.597, accuracy=0.866, f1=0.819]\n",
            "100%|██████████| 73/73 [00:16<00:00,  4.33it/s, Epoch=383, LR=1e-6, Valid_Loss=0.00363, accuracy=1, f1=1]\n"
          ]
        },
        {
          "name": "stdout",
          "output_type": "stream",
          "text": [
            "Valid Loss : 0.0036316144468313822\n"
          ]
        },
        {
          "name": "stderr",
          "output_type": "stream",
          "text": [
            "100%|██████████| 145/145 [03:10<00:00,  1.32s/it, Epoch=384, LR=1e-6, Train_Loss=0.599, accuracy=0.847, f1=0.8]\n",
            "100%|██████████| 73/73 [00:16<00:00,  4.35it/s, Epoch=384, LR=1e-6, Valid_Loss=0.00355, accuracy=1, f1=1]\n"
          ]
        },
        {
          "name": "stdout",
          "output_type": "stream",
          "text": [
            "Valid Loss : 0.0035523055344564864\n",
            "Validation Loss improved( 0.0035797197575846763 ---> 0.0035523055344564864  )\n",
            "Model Saved\n"
          ]
        },
        {
          "name": "stderr",
          "output_type": "stream",
          "text": [
            "100%|██████████| 145/145 [03:09<00:00,  1.31s/it, Epoch=385, LR=1e-6, Train_Loss=0.602, accuracy=0.857, f1=0.817]\n",
            "100%|██████████| 73/73 [00:16<00:00,  4.41it/s, Epoch=385, LR=1e-6, Valid_Loss=0.00369, accuracy=1, f1=1]\n"
          ]
        },
        {
          "name": "stdout",
          "output_type": "stream",
          "text": [
            "Valid Loss : 0.0036869195851254952\n"
          ]
        },
        {
          "name": "stderr",
          "output_type": "stream",
          "text": [
            "100%|██████████| 145/145 [03:08<00:00,  1.30s/it, Epoch=386, LR=1e-6, Train_Loss=0.604, accuracy=0.831, f1=0.789]\n",
            "100%|██████████| 73/73 [00:16<00:00,  4.34it/s, Epoch=386, LR=1e-6, Valid_Loss=0.00347, accuracy=1, f1=1]\n"
          ]
        },
        {
          "name": "stdout",
          "output_type": "stream",
          "text": [
            "Valid Loss : 0.003471703919237607\n",
            "Validation Loss improved( 0.0035523055344564864 ---> 0.003471703919237607  )\n",
            "Model Saved\n"
          ]
        },
        {
          "name": "stderr",
          "output_type": "stream",
          "text": [
            "100%|██████████| 145/145 [03:10<00:00,  1.31s/it, Epoch=387, LR=1e-6, Train_Loss=0.602, accuracy=0.859, f1=0.805]\n",
            "100%|██████████| 73/73 [00:16<00:00,  4.35it/s, Epoch=387, LR=1e-6, Valid_Loss=0.00373, accuracy=1, f1=1]\n"
          ]
        },
        {
          "name": "stdout",
          "output_type": "stream",
          "text": [
            "Valid Loss : 0.0037253534465977183\n"
          ]
        },
        {
          "name": "stderr",
          "output_type": "stream",
          "text": [
            "100%|██████████| 145/145 [03:09<00:00,  1.31s/it, Epoch=388, LR=1e-6, Train_Loss=0.595, accuracy=0.853, f1=0.798]\n",
            "100%|██████████| 73/73 [00:16<00:00,  4.33it/s, Epoch=388, LR=1e-6, Valid_Loss=0.00344, accuracy=1, f1=1]\n"
          ]
        },
        {
          "name": "stdout",
          "output_type": "stream",
          "text": [
            "Valid Loss : 0.003444928296344125\n",
            "Validation Loss improved( 0.003471703919237607 ---> 0.003444928296344125  )\n",
            "Model Saved\n"
          ]
        },
        {
          "name": "stderr",
          "output_type": "stream",
          "text": [
            "100%|██████████| 145/145 [03:11<00:00,  1.32s/it, Epoch=389, LR=1e-6, Train_Loss=0.604, accuracy=0.838, f1=0.782]\n",
            "100%|██████████| 73/73 [00:16<00:00,  4.37it/s, Epoch=389, LR=1e-6, Valid_Loss=0.00343, accuracy=1, f1=1]\n"
          ]
        },
        {
          "name": "stdout",
          "output_type": "stream",
          "text": [
            "Valid Loss : 0.003426144135580079\n",
            "Validation Loss improved( 0.003444928296344125 ---> 0.003426144135580079  )\n",
            "Model Saved\n"
          ]
        },
        {
          "name": "stderr",
          "output_type": "stream",
          "text": [
            "100%|██████████| 145/145 [03:10<00:00,  1.31s/it, Epoch=390, LR=1e-6, Train_Loss=0.608, accuracy=0.833, f1=0.783]\n",
            "100%|██████████| 73/73 [00:16<00:00,  4.34it/s, Epoch=390, LR=1e-6, Valid_Loss=0.00364, accuracy=1, f1=1]\n"
          ]
        },
        {
          "name": "stdout",
          "output_type": "stream",
          "text": [
            "Valid Loss : 0.0036406709098142304\n"
          ]
        },
        {
          "name": "stderr",
          "output_type": "stream",
          "text": [
            "100%|██████████| 145/145 [03:10<00:00,  1.31s/it, Epoch=391, LR=1e-6, Train_Loss=0.598, accuracy=0.841, f1=0.792]\n",
            "100%|██████████| 73/73 [00:16<00:00,  4.32it/s, Epoch=391, LR=1e-6, Valid_Loss=0.00365, accuracy=1, f1=1]\n"
          ]
        },
        {
          "name": "stdout",
          "output_type": "stream",
          "text": [
            "Valid Loss : 0.0036493227721434342\n"
          ]
        },
        {
          "name": "stderr",
          "output_type": "stream",
          "text": [
            "100%|██████████| 145/145 [03:09<00:00,  1.31s/it, Epoch=392, LR=1e-6, Train_Loss=0.596, accuracy=0.845, f1=0.8]\n",
            "100%|██████████| 73/73 [00:16<00:00,  4.35it/s, Epoch=392, LR=1e-6, Valid_Loss=0.00354, accuracy=1, f1=1]\n"
          ]
        },
        {
          "name": "stdout",
          "output_type": "stream",
          "text": [
            "Valid Loss : 0.003544610682619761\n"
          ]
        },
        {
          "name": "stderr",
          "output_type": "stream",
          "text": [
            "100%|██████████| 145/145 [03:09<00:00,  1.31s/it, Epoch=393, LR=1e-6, Train_Loss=0.595, accuracy=0.854, f1=0.812]\n",
            "100%|██████████| 73/73 [00:16<00:00,  4.36it/s, Epoch=393, LR=1e-6, Valid_Loss=0.0035, accuracy=1, f1=1]\n"
          ]
        },
        {
          "name": "stdout",
          "output_type": "stream",
          "text": [
            "Valid Loss : 0.003502713176676978\n"
          ]
        },
        {
          "name": "stderr",
          "output_type": "stream",
          "text": [
            "100%|██████████| 145/145 [03:10<00:00,  1.31s/it, Epoch=394, LR=1e-6, Train_Loss=0.594, accuracy=0.862, f1=0.818]\n",
            "100%|██████████| 73/73 [00:16<00:00,  4.33it/s, Epoch=394, LR=1e-6, Valid_Loss=0.00344, accuracy=1, f1=1]\n"
          ]
        },
        {
          "name": "stdout",
          "output_type": "stream",
          "text": [
            "Valid Loss : 0.003439726180409732\n"
          ]
        },
        {
          "name": "stderr",
          "output_type": "stream",
          "text": [
            "100%|██████████| 145/145 [03:10<00:00,  1.31s/it, Epoch=395, LR=1e-6, Train_Loss=0.604, accuracy=0.84, f1=0.787]\n",
            "100%|██████████| 73/73 [00:16<00:00,  4.39it/s, Epoch=395, LR=1e-6, Valid_Loss=0.00366, accuracy=1, f1=1]\n"
          ]
        },
        {
          "name": "stdout",
          "output_type": "stream",
          "text": [
            "Valid Loss : 0.0036576205182004056\n"
          ]
        },
        {
          "name": "stderr",
          "output_type": "stream",
          "text": [
            "100%|██████████| 145/145 [03:10<00:00,  1.31s/it, Epoch=396, LR=1e-6, Train_Loss=0.599, accuracy=0.858, f1=0.811]\n",
            "100%|██████████| 73/73 [00:16<00:00,  4.38it/s, Epoch=396, LR=1e-6, Valid_Loss=0.00346, accuracy=1, f1=1]\n"
          ]
        },
        {
          "name": "stdout",
          "output_type": "stream",
          "text": [
            "Valid Loss : 0.003462599169411888\n"
          ]
        },
        {
          "name": "stderr",
          "output_type": "stream",
          "text": [
            "100%|██████████| 145/145 [03:09<00:00,  1.31s/it, Epoch=397, LR=1e-6, Train_Loss=0.607, accuracy=0.851, f1=0.802]\n",
            "100%|██████████| 73/73 [00:16<00:00,  4.35it/s, Epoch=397, LR=1e-6, Valid_Loss=0.00345, accuracy=1, f1=1]\n"
          ]
        },
        {
          "name": "stdout",
          "output_type": "stream",
          "text": [
            "Valid Loss : 0.003449751258738441\n"
          ]
        },
        {
          "name": "stderr",
          "output_type": "stream",
          "text": [
            "100%|██████████| 145/145 [03:09<00:00,  1.31s/it, Epoch=398, LR=1e-6, Train_Loss=0.611, accuracy=0.828, f1=0.775]\n",
            "100%|██████████| 73/73 [00:16<00:00,  4.38it/s, Epoch=398, LR=1e-6, Valid_Loss=0.00351, accuracy=1, f1=1]\n"
          ]
        },
        {
          "name": "stdout",
          "output_type": "stream",
          "text": [
            "Valid Loss : 0.0035100631983568\n"
          ]
        },
        {
          "name": "stderr",
          "output_type": "stream",
          "text": [
            "100%|██████████| 145/145 [03:10<00:00,  1.32s/it, Epoch=399, LR=1e-6, Train_Loss=0.611, accuracy=0.846, f1=0.797]\n",
            "100%|██████████| 73/73 [00:16<00:00,  4.31it/s, Epoch=399, LR=1e-6, Valid_Loss=0.00333, accuracy=1, f1=1]\n"
          ]
        },
        {
          "name": "stdout",
          "output_type": "stream",
          "text": [
            "Valid Loss : 0.003332834453194415\n",
            "Validation Loss improved( 0.003426144135580079 ---> 0.003332834453194415  )\n",
            "Model Saved\n"
          ]
        },
        {
          "name": "stderr",
          "output_type": "stream",
          "text": [
            "100%|██████████| 145/145 [03:11<00:00,  1.32s/it, Epoch=400, LR=1e-6, Train_Loss=0.599, accuracy=0.87, f1=0.828]\n",
            "100%|██████████| 73/73 [00:16<00:00,  4.35it/s, Epoch=400, LR=1e-6, Valid_Loss=0.00358, accuracy=1, f1=1]\n"
          ]
        },
        {
          "name": "stdout",
          "output_type": "stream",
          "text": [
            "Valid Loss : 0.0035807875954635337\n"
          ]
        },
        {
          "name": "stderr",
          "output_type": "stream",
          "text": [
            "100%|██████████| 145/145 [03:09<00:00,  1.31s/it, Epoch=401, LR=1e-6, Train_Loss=0.599, accuracy=0.853, f1=0.806]\n",
            "100%|██████████| 73/73 [00:16<00:00,  4.39it/s, Epoch=401, LR=1e-6, Valid_Loss=0.0035, accuracy=1, f1=1]\n"
          ]
        },
        {
          "name": "stdout",
          "output_type": "stream",
          "text": [
            "Valid Loss : 0.0034967193743596745\n"
          ]
        },
        {
          "name": "stderr",
          "output_type": "stream",
          "text": [
            "100%|██████████| 145/145 [03:09<00:00,  1.31s/it, Epoch=402, LR=1e-6, Train_Loss=0.594, accuracy=0.851, f1=0.804]\n",
            "100%|██████████| 73/73 [00:16<00:00,  4.40it/s, Epoch=402, LR=1e-6, Valid_Loss=0.0034, accuracy=1, f1=1]\n"
          ]
        },
        {
          "name": "stdout",
          "output_type": "stream",
          "text": [
            "Valid Loss : 0.0033994035329669714\n"
          ]
        },
        {
          "name": "stderr",
          "output_type": "stream",
          "text": [
            "100%|██████████| 145/145 [03:09<00:00,  1.30s/it, Epoch=403, LR=1e-6, Train_Loss=0.6, accuracy=0.853, f1=0.808]\n",
            "100%|██████████| 73/73 [00:16<00:00,  4.36it/s, Epoch=403, LR=1e-6, Valid_Loss=0.0036, accuracy=1, f1=1]\n"
          ]
        },
        {
          "name": "stdout",
          "output_type": "stream",
          "text": [
            "Valid Loss : 0.0035960386947358714\n"
          ]
        },
        {
          "name": "stderr",
          "output_type": "stream",
          "text": [
            "100%|██████████| 145/145 [03:10<00:00,  1.31s/it, Epoch=404, LR=1e-6, Train_Loss=0.597, accuracy=0.85, f1=0.799]\n",
            "100%|██████████| 73/73 [00:16<00:00,  4.31it/s, Epoch=404, LR=1e-6, Valid_Loss=0.00333, accuracy=1, f1=1]\n"
          ]
        },
        {
          "name": "stdout",
          "output_type": "stream",
          "text": [
            "Valid Loss : 0.0033318421273964317\n",
            "Validation Loss improved( 0.003332834453194415 ---> 0.0033318421273964317  )\n",
            "Model Saved\n",
            "Training complete in 11h 33m 48s\n",
            "Best Loss: 0.0033\n"
          ]
        }
      ],
      "source": [
        "ic.disable()\n",
        "run_training(\n",
        "    model=model,\n",
        "    optimizer=optimizer,\n",
        "    # scheduler=torch.optim.lr_scheduler.CosineAnnealingLR(\n",
        "    #     optimizer=optimizer, T_max=CONFIG['T_max'], eta_min=CONFIG['min_lr']),\n",
        "    scheduler=None,\n",
        "    device=device,\n",
        "    num_epochs=200,\n",
        "    metric_prefix=\"\",\n",
        "    file_prefix=\"\",\n",
        "    early_stopping=CONFIG['early_stopping'],\n",
        "    early_stopping_step=CONFIG['early_stopping_step'],\n",
        "    START_EPOCH=205,\n",
        ");\n"
      ]
    }
  ],
  "metadata": {
    "accelerator": "GPU",
    "colab": {
      "collapsed_sections": [],
      "name": "lg_train_convnextS224_finecutmix.ipynb",
      "provenance": [],
      "toc_visible": true
    },
    "kernelspec": {
      "display_name": "Python 3",
      "language": "python",
      "name": "python3"
    },
    "language_info": {
      "codemirror_mode": {
        "name": "ipython",
        "version": 3
      },
      "file_extension": ".py",
      "mimetype": "text/x-python",
      "name": "python",
      "nbconvert_exporter": "python",
      "pygments_lexer": "ipython3",
      "version": "3.9.7"
    },
    "widgets": {
      "application/vnd.jupyter.widget-state+json": {
        "05f69f538d2b4c63a5ffa609137eb5cb": {
          "model_module": "@jupyter-widgets/base",
          "model_module_version": "1.2.0",
          "model_name": "LayoutModel",
          "state": {
            "_model_module": "@jupyter-widgets/base",
            "_model_module_version": "1.2.0",
            "_model_name": "LayoutModel",
            "_view_count": null,
            "_view_module": "@jupyter-widgets/base",
            "_view_module_version": "1.2.0",
            "_view_name": "LayoutView",
            "align_content": null,
            "align_items": null,
            "align_self": null,
            "border": null,
            "bottom": null,
            "display": null,
            "flex": null,
            "flex_flow": null,
            "grid_area": null,
            "grid_auto_columns": null,
            "grid_auto_flow": null,
            "grid_auto_rows": null,
            "grid_column": null,
            "grid_gap": null,
            "grid_row": null,
            "grid_template_areas": null,
            "grid_template_columns": null,
            "grid_template_rows": null,
            "height": null,
            "justify_content": null,
            "justify_items": null,
            "left": null,
            "margin": null,
            "max_height": null,
            "max_width": null,
            "min_height": null,
            "min_width": null,
            "object_fit": null,
            "object_position": null,
            "order": null,
            "overflow": null,
            "overflow_x": null,
            "overflow_y": null,
            "padding": null,
            "right": null,
            "top": null,
            "visibility": null,
            "width": null
          }
        },
        "15a99c9a09244115b24de021bd8a2d2e": {
          "model_module": "@jupyter-widgets/base",
          "model_module_version": "1.2.0",
          "model_name": "LayoutModel",
          "state": {
            "_model_module": "@jupyter-widgets/base",
            "_model_module_version": "1.2.0",
            "_model_name": "LayoutModel",
            "_view_count": null,
            "_view_module": "@jupyter-widgets/base",
            "_view_module_version": "1.2.0",
            "_view_name": "LayoutView",
            "align_content": null,
            "align_items": null,
            "align_self": null,
            "border": null,
            "bottom": null,
            "display": null,
            "flex": null,
            "flex_flow": null,
            "grid_area": null,
            "grid_auto_columns": null,
            "grid_auto_flow": null,
            "grid_auto_rows": null,
            "grid_column": null,
            "grid_gap": null,
            "grid_row": null,
            "grid_template_areas": null,
            "grid_template_columns": null,
            "grid_template_rows": null,
            "height": null,
            "justify_content": null,
            "justify_items": null,
            "left": null,
            "margin": null,
            "max_height": null,
            "max_width": null,
            "min_height": null,
            "min_width": null,
            "object_fit": null,
            "object_position": null,
            "order": null,
            "overflow": null,
            "overflow_x": null,
            "overflow_y": null,
            "padding": null,
            "right": null,
            "top": null,
            "visibility": null,
            "width": null
          }
        },
        "4cfbbc6aed2e4036b50091e614c70acd": {
          "model_module": "@jupyter-widgets/controls",
          "model_module_version": "1.5.0",
          "model_name": "VBoxModel",
          "state": {
            "_dom_classes": [],
            "_model_module": "@jupyter-widgets/controls",
            "_model_module_version": "1.5.0",
            "_model_name": "VBoxModel",
            "_view_count": null,
            "_view_module": "@jupyter-widgets/controls",
            "_view_module_version": "1.5.0",
            "_view_name": "VBoxView",
            "box_style": "",
            "children": [
              "IPY_MODEL_5b4ea7a3ce684c9a8444d4eb4761460b",
              "IPY_MODEL_aaf252401ff74396bd10ab3da075b808"
            ],
            "layout": "IPY_MODEL_05f69f538d2b4c63a5ffa609137eb5cb"
          }
        },
        "5b4ea7a3ce684c9a8444d4eb4761460b": {
          "model_module": "@jupyter-widgets/controls",
          "model_module_version": "1.5.0",
          "model_name": "LabelModel",
          "state": {
            "_dom_classes": [],
            "_model_module": "@jupyter-widgets/controls",
            "_model_module_version": "1.5.0",
            "_model_name": "LabelModel",
            "_view_count": null,
            "_view_module": "@jupyter-widgets/controls",
            "_view_module_version": "1.5.0",
            "_view_name": "LabelView",
            "description": "",
            "description_tooltip": null,
            "layout": "IPY_MODEL_15a99c9a09244115b24de021bd8a2d2e",
            "placeholder": "​",
            "style": "IPY_MODEL_e30de8b9e0f048a69dfe7d56cc1b328d",
            "value": " 4.21MB of 4.21MB uploaded (0.00MB deduped)\r"
          }
        },
        "73e7dde889c643f18916ec5ba25eae68": {
          "model_module": "@jupyter-widgets/controls",
          "model_module_version": "1.5.0",
          "model_name": "ProgressStyleModel",
          "state": {
            "_model_module": "@jupyter-widgets/controls",
            "_model_module_version": "1.5.0",
            "_model_name": "ProgressStyleModel",
            "_view_count": null,
            "_view_module": "@jupyter-widgets/base",
            "_view_module_version": "1.2.0",
            "_view_name": "StyleView",
            "bar_color": null,
            "description_width": ""
          }
        },
        "aaf252401ff74396bd10ab3da075b808": {
          "model_module": "@jupyter-widgets/controls",
          "model_module_version": "1.5.0",
          "model_name": "FloatProgressModel",
          "state": {
            "_dom_classes": [],
            "_model_module": "@jupyter-widgets/controls",
            "_model_module_version": "1.5.0",
            "_model_name": "FloatProgressModel",
            "_view_count": null,
            "_view_module": "@jupyter-widgets/controls",
            "_view_module_version": "1.5.0",
            "_view_name": "ProgressView",
            "bar_style": "",
            "description": "",
            "description_tooltip": null,
            "layout": "IPY_MODEL_c1e3a909d3324016acc61922c92fd078",
            "max": 1,
            "min": 0,
            "orientation": "horizontal",
            "style": "IPY_MODEL_73e7dde889c643f18916ec5ba25eae68",
            "value": 1
          }
        },
        "c1e3a909d3324016acc61922c92fd078": {
          "model_module": "@jupyter-widgets/base",
          "model_module_version": "1.2.0",
          "model_name": "LayoutModel",
          "state": {
            "_model_module": "@jupyter-widgets/base",
            "_model_module_version": "1.2.0",
            "_model_name": "LayoutModel",
            "_view_count": null,
            "_view_module": "@jupyter-widgets/base",
            "_view_module_version": "1.2.0",
            "_view_name": "LayoutView",
            "align_content": null,
            "align_items": null,
            "align_self": null,
            "border": null,
            "bottom": null,
            "display": null,
            "flex": null,
            "flex_flow": null,
            "grid_area": null,
            "grid_auto_columns": null,
            "grid_auto_flow": null,
            "grid_auto_rows": null,
            "grid_column": null,
            "grid_gap": null,
            "grid_row": null,
            "grid_template_areas": null,
            "grid_template_columns": null,
            "grid_template_rows": null,
            "height": null,
            "justify_content": null,
            "justify_items": null,
            "left": null,
            "margin": null,
            "max_height": null,
            "max_width": null,
            "min_height": null,
            "min_width": null,
            "object_fit": null,
            "object_position": null,
            "order": null,
            "overflow": null,
            "overflow_x": null,
            "overflow_y": null,
            "padding": null,
            "right": null,
            "top": null,
            "visibility": null,
            "width": null
          }
        },
        "e30de8b9e0f048a69dfe7d56cc1b328d": {
          "model_module": "@jupyter-widgets/controls",
          "model_module_version": "1.5.0",
          "model_name": "DescriptionStyleModel",
          "state": {
            "_model_module": "@jupyter-widgets/controls",
            "_model_module_version": "1.5.0",
            "_model_name": "DescriptionStyleModel",
            "_view_count": null,
            "_view_module": "@jupyter-widgets/base",
            "_view_module_version": "1.2.0",
            "_view_name": "StyleView",
            "description_width": ""
          }
        }
      }
    }
  },
  "nbformat": 4,
  "nbformat_minor": 0
}
