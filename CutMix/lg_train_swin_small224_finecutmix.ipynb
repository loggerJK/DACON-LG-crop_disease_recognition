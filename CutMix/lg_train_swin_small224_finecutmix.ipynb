{
  "cells": [
    {
      "cell_type": "markdown",
      "metadata": {
        "id": "XQuUKAHnPGqb"
      },
      "source": [
        "# Library"
      ]
    },
    {
      "cell_type": "code",
      "execution_count": null,
      "metadata": {
        "colab": {
          "base_uri": "https://localhost:8080/"
        },
        "execution": {
          "iopub.execute_input": "2022-01-15T10:25:01.795688Z",
          "iopub.status.busy": "2022-01-15T10:25:01.794986Z",
          "iopub.status.idle": "2022-01-15T10:25:13.001673Z",
          "shell.execute_reply": "2022-01-15T10:25:13.000732Z",
          "shell.execute_reply.started": "2022-01-15T10:25:01.795591Z"
        },
        "id": "EP8Uk0lzPGqi",
        "outputId": "7050efa0-0141-47b6-99db-7e79cf87325d",
        "trusted": true
      },
      "outputs": [
        {
          "output_type": "stream",
          "name": "stdout",
          "text": [
            "\u001b[K     |████████████████████████████████| 1.7 MB 4.2 MB/s \n",
            "\u001b[K     |████████████████████████████████| 21.8 MB 1.3 MB/s \n",
            "\u001b[K     |████████████████████████████████| 102 kB 70.3 MB/s \n",
            "\u001b[K     |████████████████████████████████| 431 kB 72.8 MB/s \n",
            "\u001b[K     |████████████████████████████████| 180 kB 65.1 MB/s \n",
            "\u001b[K     |████████████████████████████████| 143 kB 65.5 MB/s \n",
            "\u001b[K     |████████████████████████████████| 63 kB 2.3 MB/s \n",
            "\u001b[?25h  Building wheel for pathtools (setup.py) ... \u001b[?25l\u001b[?25hdone\n"
          ]
        }
      ],
      "source": [
        "! pip install wandb opencv-python-headless==4.1.2.30 albumentations torch-summary timm==0.5.4 einops joblib icecream  -qq -U"
      ]
    },
    {
      "cell_type": "code",
      "execution_count": null,
      "metadata": {
        "execution": {
          "iopub.execute_input": "2022-01-15T10:25:13.004437Z",
          "iopub.status.busy": "2022-01-15T10:25:13.004166Z",
          "iopub.status.idle": "2022-01-15T10:25:17.843442Z",
          "shell.execute_reply": "2022-01-15T10:25:17.842685Z",
          "shell.execute_reply.started": "2022-01-15T10:25:13.004400Z"
        },
        "id": "V8YpfugSPGqk",
        "trusted": true
      },
      "outputs": [],
      "source": [
        "from sklearn.metrics import f1_score\n",
        "from glob import glob\n",
        "import pathlib\n",
        "from pathlib import Path\n",
        "from torchsummary import summary\n",
        "import torch\n",
        "import torch.nn as nn\n",
        "import torch.nn.functional as F\n",
        "from torch.utils.data import Dataset, DataLoader\n",
        "import pandas as pd\n",
        "from pprint import pprint\n",
        "import urllib.request\n",
        "import csv\n",
        "import numpy as np\n",
        "from einops import rearrange, reduce, repeat\n",
        "from torch.cuda import amp\n",
        "from tqdm import tqdm\n",
        "import wandb\n",
        "import time\n",
        "import copy\n",
        "from collections import defaultdict\n",
        "from sklearn.metrics import mean_squared_error\n",
        "import joblib\n",
        "import gc\n",
        "import os\n",
        "from icecream import ic\n",
        "from sklearn.model_selection import train_test_split\n",
        "import gc\n",
        "import cv2\n",
        "import copy\n",
        "import time\n",
        "import random\n",
        "from PIL import Image\n",
        "\n",
        "# For data manipulation\n",
        "import numpy as np\n",
        "import pandas as pd\n",
        "\n",
        "# Pytorch Imports\n",
        "import torch\n",
        "import torch.nn as nn\n",
        "import torch.optim as optim\n",
        "from torch.optim import lr_scheduler\n",
        "from torch.utils.data import Dataset, DataLoader\n",
        "from torch.cuda import amp\n",
        "\n",
        "# Utils\n",
        "import joblib\n",
        "from tqdm import tqdm\n",
        "from collections import defaultdict\n",
        "\n",
        "# Sklearn Imports\n",
        "from sklearn.metrics import mean_squared_error\n",
        "from sklearn.model_selection import StratifiedKFold, KFold\n",
        "\n",
        "import timm\n",
        "\n",
        "import json\n",
        "\n",
        "# Albumentations for augmentations\n",
        "import albumentations as A\n",
        "from albumentations.pytorch import ToTensorV2\n",
        "\n",
        "# For colored terminal text\n",
        "from colorama import Fore, Back, Style\n",
        "c_ = Fore.CYAN\n",
        "sr_ = Style.RESET_ALL\n",
        "\n",
        "import warnings\n",
        "warnings.filterwarnings(\"ignore\")\n",
        "\n",
        "# For descriptive error messages\n",
        "os.environ['CUDA_LAUNCH_BLOCKING'] = \"1\"\n",
        "\n",
        "\n",
        "from sklearn.metrics import f1_score"
      ]
    },
    {
      "cell_type": "markdown",
      "metadata": {
        "id": "EVCBodi-PGql"
      },
      "source": [
        "# ENV"
      ]
    },
    {
      "cell_type": "code",
      "execution_count": null,
      "metadata": {
        "execution": {
          "iopub.execute_input": "2022-01-15T10:25:17.845495Z",
          "iopub.status.busy": "2022-01-15T10:25:17.845230Z",
          "iopub.status.idle": "2022-01-15T10:25:17.893347Z",
          "shell.execute_reply": "2022-01-15T10:25:17.892018Z",
          "shell.execute_reply.started": "2022-01-15T10:25:17.845458Z"
        },
        "id": "fbOZOG8UPGqm",
        "trusted": true
      },
      "outputs": [],
      "source": [
        "\n",
        "# ENV = 'COLAB'\n",
        "ENV = 'KAGGLE'\n",
        "# ENV = 'SYSTEM'\n",
        "\n",
        "# Option for Mixed Precision\n",
        "# FP16 = True\n",
        "FP16 = False\n",
        "\n",
        "\n",
        "CONFIG = dict(\n",
        "    nickname='swin_small_224 finecutmix',\n",
        "    seed=42,\n",
        "    backbone='swin_small_patch4_window7_224',\n",
        "    embedder=None,\n",
        "    train_batch_size=8,\n",
        "    valid_batch_size=16,\n",
        "    img_size=224,\n",
        "    num_epochs=50,\n",
        "    early_stopping=False,\n",
        "    early_stopping_step=5,\n",
        "    learning_rate=1e-4,\n",
        "    scheduler='CosineAnnealingLR',\n",
        "    min_lr=1e-6,\n",
        "    T_max=100,\n",
        "    num_classes=25,\n",
        "    weight_decay=1e-6,\n",
        "    device=torch.device(\"cuda:0\" if torch.cuda.is_available() else \"cpu\"),\n",
        "    competition='lg',\n",
        "    _wandb_kernel='deb'\n",
        ")\n",
        "\n",
        "\n",
        "device = torch.device(\"cuda\" if torch.cuda.is_available() else \"cpu\")\n"
      ]
    },
    {
      "cell_type": "markdown",
      "metadata": {
        "id": "M6BJH0gaPGqn"
      },
      "source": [
        "# SET SEED "
      ]
    },
    {
      "cell_type": "code",
      "execution_count": null,
      "metadata": {
        "execution": {
          "iopub.execute_input": "2022-01-15T10:25:17.896790Z",
          "iopub.status.busy": "2022-01-15T10:25:17.896189Z",
          "iopub.status.idle": "2022-01-15T10:25:17.909599Z",
          "shell.execute_reply": "2022-01-15T10:25:17.908786Z",
          "shell.execute_reply.started": "2022-01-15T10:25:17.896748Z"
        },
        "id": "Vj7acIAIPGqn",
        "trusted": true
      },
      "outputs": [],
      "source": [
        "def set_seed(seed=42):\n",
        "    '''Sets the seed of the entire notebook so results are the same every time we run.\n",
        "    This is for REPRODUCIBILITY.'''\n",
        "    np.random.seed(seed)\n",
        "    random.seed(seed)\n",
        "    torch.manual_seed(seed)\n",
        "    torch.cuda.manual_seed(seed)\n",
        "    # When running on the CuDNN backend, two further options must be set\n",
        "    torch.backends.cudnn.deterministic = True\n",
        "    torch.backends.cudnn.benchmark = False\n",
        "    # Set a fixed value for the hash seed\n",
        "    os.environ['PYTHONHASHSEED'] = str(seed)\n",
        "\n",
        "\n",
        "set_seed(CONFIG['seed'])\n"
      ]
    },
    {
      "cell_type": "markdown",
      "metadata": {
        "id": "0KA00McmPGqo"
      },
      "source": [
        "# Read the Data\n"
      ]
    },
    {
      "cell_type": "code",
      "execution_count": null,
      "metadata": {
        "colab": {
          "base_uri": "https://localhost:8080/",
          "height": 110
        },
        "execution": {
          "iopub.execute_input": "2022-01-15T10:25:17.911360Z",
          "iopub.status.busy": "2022-01-15T10:25:17.910859Z",
          "iopub.status.idle": "2022-01-15T10:28:30.802857Z",
          "shell.execute_reply": "2022-01-15T10:28:30.801968Z",
          "shell.execute_reply.started": "2022-01-15T10:25:17.911319Z"
        },
        "id": "jKC4FDfyPGqp",
        "outputId": "ec463a48-11aa-48de-e003-362cdc46d4a6",
        "trusted": true
      },
      "outputs": [
        {
          "output_type": "display_data",
          "data": {
            "application/javascript": [
              "\n",
              "        window._wandbApiKey = new Promise((resolve, reject) => {\n",
              "            function loadScript(url) {\n",
              "            return new Promise(function(resolve, reject) {\n",
              "                let newScript = document.createElement(\"script\");\n",
              "                newScript.onerror = reject;\n",
              "                newScript.onload = resolve;\n",
              "                document.body.appendChild(newScript);\n",
              "                newScript.src = url;\n",
              "            });\n",
              "            }\n",
              "            loadScript(\"https://cdn.jsdelivr.net/npm/postmate/build/postmate.min.js\").then(() => {\n",
              "            const iframe = document.createElement('iframe')\n",
              "            iframe.style.cssText = \"width:0;height:0;border:none\"\n",
              "            document.body.appendChild(iframe)\n",
              "            const handshake = new Postmate({\n",
              "                container: iframe,\n",
              "                url: 'https://wandb.ai/authorize'\n",
              "            });\n",
              "            const timeout = setTimeout(() => reject(\"Couldn't auto authenticate\"), 5000)\n",
              "            handshake.then(function(child) {\n",
              "                child.on('authorize', data => {\n",
              "                    clearTimeout(timeout)\n",
              "                    resolve(data)\n",
              "                });\n",
              "            });\n",
              "            })\n",
              "        });\n",
              "    "
            ],
            "text/plain": [
              "<IPython.core.display.Javascript object>"
            ]
          },
          "metadata": {}
        },
        {
          "output_type": "stream",
          "name": "stderr",
          "text": [
            "\u001b[34m\u001b[1mwandb\u001b[0m: Appending key for api.wandb.ai to your netrc file: /root/.netrc\n"
          ]
        },
        {
          "output_type": "display_data",
          "data": {
            "text/html": [
              "\n",
              "                    Syncing run <strong><a href=\"https://wandb.ai/jiwon7258/lg/runs/3199pcx4\" target=\"_blank\">cheerful-lantern-117</a></strong> to <a href=\"https://wandb.ai/jiwon7258/lg\" target=\"_blank\">Weights & Biases</a> (<a href=\"https://docs.wandb.com/integrations/jupyter.html\" target=\"_blank\">docs</a>).<br/>\n",
              "\n",
              "                "
            ],
            "text/plain": [
              "<IPython.core.display.HTML object>"
            ]
          },
          "metadata": {}
        },
        {
          "output_type": "stream",
          "name": "stderr",
          "text": [
            "\u001b[34m\u001b[1mwandb\u001b[0m: Downloading large artifact lg_train:v0, 918.24MB. 17301 files... Done. 0:0:0\n"
          ]
        }
      ],
      "source": [
        "import wandb\n",
        "run = wandb.init(project=\"lg\",\n",
        "                 entity=\"jiwon7258\",\n",
        "                 config=CONFIG,\n",
        "                 job_type='train',\n",
        "                 id='3199pcx4',\n",
        "                 resume='must',\n",
        "                 )\n",
        "dataset = wandb.run.use_artifact(\n",
        "    'jiwon7258/lg/lg_train:v0', type='dataset')\n",
        "\n",
        "run.name = CONFIG['nickname']\n",
        "\n",
        "# Download the artifact's contents\n",
        "dataset_dir = dataset.download()\n",
        "dataset_dir = Path(dataset_dir)\n"
      ]
    },
    {
      "cell_type": "code",
      "execution_count": null,
      "metadata": {
        "execution": {
          "iopub.execute_input": "2022-01-15T10:28:30.804754Z",
          "iopub.status.busy": "2022-01-15T10:28:30.804383Z",
          "iopub.status.idle": "2022-01-15T10:28:30.809944Z",
          "shell.execute_reply": "2022-01-15T10:28:30.809259Z",
          "shell.execute_reply.started": "2022-01-15T10:28:30.804698Z"
        },
        "id": "ca-5DetEPGqq",
        "trusted": true
      },
      "outputs": [],
      "source": [
        "TRAIN_PATH = dataset_dir\n",
        "# TEST_PATH = dataset_dir / 'test'"
      ]
    },
    {
      "cell_type": "markdown",
      "metadata": {
        "id": "n-8x5P--PGqr"
      },
      "source": [
        "# Augmentations"
      ]
    },
    {
      "cell_type": "code",
      "execution_count": null,
      "metadata": {
        "execution": {
          "iopub.execute_input": "2022-01-15T10:28:30.813928Z",
          "iopub.status.busy": "2022-01-15T10:28:30.811190Z",
          "iopub.status.idle": "2022-01-15T10:28:30.822155Z",
          "shell.execute_reply": "2022-01-15T10:28:30.821435Z",
          "shell.execute_reply.started": "2022-01-15T10:28:30.813872Z"
        },
        "id": "Qetw9jGjPGqr",
        "trusted": true
      },
      "outputs": [],
      "source": [
        "data_transforms = {\n",
        "    \"train\": A.Compose([\n",
        "        A.Resize(CONFIG['img_size'], CONFIG['img_size']),\n",
        "        A.ShiftScaleRotate(shift_limit=0.1, scale_limit=0.1,\n",
        "                           rotate_limit=90, p=0.5),\n",
        "        A.RGBShift(r_shift_limit=15, g_shift_limit=15,\n",
        "                   b_shift_limit=15, p=0.5),\n",
        "        A.RandomBrightnessContrast(p=0.5),\n",
        "        A.HorizontalFlip(p=0.5),\n",
        "        A.VerticalFlip(p=0.5),\n",
        "        A.Normalize(),\n",
        "        ToTensorV2()], p=1.),\n",
        "\n",
        "    \"valid\": A.Compose([\n",
        "        A.Resize(CONFIG['img_size'], CONFIG['img_size']),\n",
        "        A.Normalize(),\n",
        "        ToTensorV2()], p=1.)\n",
        "}\n"
      ]
    },
    {
      "cell_type": "markdown",
      "metadata": {
        "id": "lF_SM2DGPGqs"
      },
      "source": [
        "# Dataset"
      ]
    },
    {
      "cell_type": "code",
      "execution_count": null,
      "metadata": {
        "execution": {
          "iopub.execute_input": "2022-01-15T10:28:30.825534Z",
          "iopub.status.busy": "2022-01-15T10:28:30.824486Z",
          "iopub.status.idle": "2022-01-15T10:28:31.525603Z",
          "shell.execute_reply": "2022-01-15T10:28:31.524866Z",
          "shell.execute_reply.started": "2022-01-15T10:28:30.825498Z"
        },
        "id": "XW2BnvG6PGqs",
        "trusted": true
      },
      "outputs": [],
      "source": [
        "train_csv = sorted(glob(str(TRAIN_PATH / '*/*.csv')))\n",
        "train_jpg = sorted(glob(str(TRAIN_PATH / '*/*.jpg')))\n",
        "train_json = sorted(glob(str(TRAIN_PATH / '*/*.json')))\n",
        "\n",
        "\n",
        "crops = []\n",
        "diseases = []\n",
        "risks = []\n",
        "labels = []\n",
        "\n",
        "for i in range(len(train_json)):\n",
        "    with open(train_json[i], 'r') as f:\n",
        "        sample = json.load(f)\n",
        "        crop = sample['annotations']['crop']\n",
        "        disease = sample['annotations']['disease']\n",
        "        risk = sample['annotations']['risk']\n",
        "        label=f\"{crop}_{disease}_{risk}\"\n",
        "    \n",
        "        crops.append(crop)\n",
        "        diseases.append(disease)\n",
        "        risks.append(risk)\n",
        "        labels.append(label)\n",
        "        \n",
        "label_unique = sorted(np.unique(labels))\n",
        "label_unique = {key:value for key,value in zip(label_unique, range(len(label_unique)))}\n",
        "\n",
        "train_labels = [label_unique[k] for k in labels] # len = train_len"
      ]
    },
    {
      "cell_type": "code",
      "execution_count": null,
      "metadata": {
        "id": "AIQNMAQ_PGqt"
      },
      "outputs": [],
      "source": [
        "train_jpg = np.array(train_jpg)\n",
        "train_labels = np.array(train_labels)"
      ]
    },
    {
      "cell_type": "code",
      "execution_count": null,
      "metadata": {
        "execution": {
          "iopub.execute_input": "2022-01-15T10:28:31.562715Z",
          "iopub.status.busy": "2022-01-15T10:28:31.562438Z",
          "iopub.status.idle": "2022-01-15T10:28:31.587681Z",
          "shell.execute_reply": "2022-01-15T10:28:31.586382Z",
          "shell.execute_reply.started": "2022-01-15T10:28:31.562681Z"
        },
        "id": "40-6mAVePGqt",
        "trusted": true
      },
      "outputs": [],
      "source": [
        "class CustomDataset(Dataset):\n",
        "    def __init__(self, train_img, train_label, transforms=None):\n",
        "        self.imgs = train_img\n",
        "        self.labels = train_label\n",
        "        self.transforms = transforms\n",
        "        \n",
        "    def __len__(self):\n",
        "        return len(self.imgs)\n",
        "    \n",
        "    def __getitem__(self, index):\n",
        "        img_path = self.imgs[index]\n",
        "        img = cv2.imread(img_path)\n",
        "        img = cv2.cvtColor(img, cv2.COLOR_BGR2RGB)\n",
        "        target = self.labels[index]\n",
        "        \n",
        "        if self.transforms:\n",
        "            img = self.transforms(image=img)[\"image\"]\n",
        "            \n",
        "        return img, target\n",
        "    \n",
        "# trainDataset = CustomDataset(X_train, y_train, transforms = data_transforms['train'])\n",
        "# trainDataloader = DataLoader(\n",
        "#     trainDataset, batch_size=CONFIG['train_batch_size'], shuffle=True)\n",
        "\n",
        "# validDataset = CustomDataset(X_val, y_val, transforms = data_transforms['valid'])\n",
        "# validDataloader = DataLoader(validDataset, batch_size = CONFIG['valid_batch_size'], shuffle = True)"
      ]
    },
    {
      "cell_type": "code",
      "execution_count": null,
      "metadata": {
        "id": "TucH1uf_PGqu"
      },
      "outputs": [],
      "source": [
        "from sklearn.model_selection import StratifiedKFold\n",
        "train_datasets = []\n",
        "valid_datasets = []\n",
        "train_dataloaders = []\n",
        "valid_dataloaders = []\n",
        "\n",
        "skf = StratifiedKFold(n_splits = 5)\n",
        "\n",
        "for step, (train_index, val_index) in enumerate(skf.split(X = train_jpg, y= train_labels)):\n",
        "    X_train = train_jpg[train_index]\n",
        "    y_train = train_labels[train_index]\n",
        "    X_val = train_jpg[val_index]\n",
        "    y_val = train_labels[val_index]\n",
        "    train_datasets.append(CustomDataset(\n",
        "        X_train, y_train, transforms=data_transforms['train']))\n",
        "    valid_datasets.append(CustomDataset(\n",
        "        X_val, y_val, transforms=data_transforms['valid']))\n",
        "    train_dataloaders.append(DataLoader(\n",
        "        train_datasets[step], batch_size=CONFIG['train_batch_size'], shuffle=True)\n",
        "    )\n",
        "    valid_dataloaders.append(\n",
        "        DataLoader(\n",
        "            valid_datasets[step], batch_size=CONFIG['valid_batch_size'], shuffle=True)\n",
        "    )\n"
      ]
    },
    {
      "cell_type": "markdown",
      "metadata": {
        "id": "qquyNic-PGqu"
      },
      "source": [
        "# Model"
      ]
    },
    {
      "cell_type": "code",
      "execution_count": null,
      "metadata": {
        "colab": {
          "base_uri": "https://localhost:8080/",
          "height": 75
        },
        "execution": {
          "iopub.execute_input": "2022-01-15T10:28:31.595710Z",
          "iopub.status.busy": "2022-01-15T10:28:31.592703Z",
          "iopub.status.idle": "2022-01-15T10:29:04.375344Z",
          "shell.execute_reply": "2022-01-15T10:29:04.374595Z",
          "shell.execute_reply.started": "2022-01-15T10:28:31.595662Z"
        },
        "id": "EeRw9VshPGqv",
        "outputId": "9d677087-e76f-47de-8ece-1e7d7ab59878",
        "trusted": true
      },
      "outputs": [
        {
          "output_type": "stream",
          "name": "stderr",
          "text": [
            "Downloading: \"https://github.com/SwinTransformer/storage/releases/download/v1.0.0/swin_small_patch4_window7_224.pth\" to /root/.cache/torch/hub/checkpoints/swin_small_patch4_window7_224.pth\n"
          ]
        },
        {
          "output_type": "execute_result",
          "data": {
            "application/vnd.google.colaboratory.intrinsic+json": {
              "type": "string"
            },
            "text/plain": [
              "''"
            ]
          },
          "metadata": {},
          "execution_count": 12
        }
      ],
      "source": [
        "class Model(nn.Module):\n",
        "    def __init__(self, backbone, embedder, pretrained=True):\n",
        "        super(Model, self).__init__()\n",
        "        self.backbone = timm.create_model(backbone, pretrained=pretrained)\n",
        "        self.backbone.reset_classifier(0)\n",
        "        self.n_features = self.backbone.num_features\n",
        "        self.fc = nn.Linear(self.n_features, CONFIG['num_classes'])\n",
        "\n",
        "    def forward(self, images):\n",
        "        # features = (bs, embedding_size)\n",
        "        features = self.backbone(images)\n",
        "        # outputs  = (bs, num_classes)\n",
        "        # if isinstance(features, tuple):\n",
        "        #   features = features[0]\n",
        "        output = self.fc(features)\n",
        "        return output\n",
        "\n",
        "\n",
        "model = Model(CONFIG['backbone'], CONFIG['embedder'], pretrained = True)\n",
        "model.to(CONFIG['device'])\n",
        ";"
      ]
    },
    {
      "cell_type": "code",
      "execution_count": null,
      "metadata": {
        "execution": {
          "iopub.execute_input": "2022-01-15T10:29:04.376696Z",
          "iopub.status.busy": "2022-01-15T10:29:04.376445Z",
          "iopub.status.idle": "2022-01-15T10:29:04.383964Z",
          "shell.execute_reply": "2022-01-15T10:29:04.383287Z",
          "shell.execute_reply.started": "2022-01-15T10:29:04.376660Z"
        },
        "id": "5yml5ZPPPGqv",
        "trusted": true
      },
      "outputs": [],
      "source": [
        "optimizer = torch.optim.Adam(\n",
        "    params=model.parameters(), lr=CONFIG['learning_rate'], weight_decay=CONFIG['weight_decay'])\n"
      ]
    },
    {
      "cell_type": "code",
      "execution_count": null,
      "metadata": {
        "execution": {
          "iopub.execute_input": "2022-01-15T10:29:04.385682Z",
          "iopub.status.busy": "2022-01-15T10:29:04.385257Z",
          "iopub.status.idle": "2022-01-15T10:29:05.537793Z",
          "shell.execute_reply": "2022-01-15T10:29:05.536741Z",
          "shell.execute_reply.started": "2022-01-15T10:29:04.385649Z"
        },
        "id": "iIKSttnGPGqv",
        "trusted": true
      },
      "outputs": [],
      "source": [
        "def criterion(logits: torch.tensor, targets: torch.tensor):\n",
        "    return nn.CrossEntropyLoss()(logits.view(-1,CONFIG['num_classes']), targets.view(-1))"
      ]
    },
    {
      "cell_type": "markdown",
      "metadata": {
        "id": "HPYus03_UfvH"
      },
      "source": [
        "# CutMix"
      ]
    },
    {
      "cell_type": "code",
      "execution_count": null,
      "metadata": {
        "id": "l8XzN0C2UfvH"
      },
      "outputs": [],
      "source": [
        "def cutmix(img, target):\n",
        "    \"\"\" \n",
        "    img : (bs, C, H, W)\n",
        "    target\n",
        "        - (bs,)\n",
        "        - integer scalar\n",
        "    \"\"\"\n",
        "    batch_size, C, H, W, = img.shape\n",
        "    # ic(img.shape)\n",
        "\n",
        "    img_a = img\n",
        "    target_a = target\n",
        "    img_b = img\n",
        "    target_b = target\n",
        "\n",
        "    mask = np.arange(batch_size)\n",
        "    mask = np.random.permutation(mask)\n",
        "    # ic(mask)\n",
        "    img_b = img_a[mask]\n",
        "    target_b = target_a[mask]\n",
        "    # ic(target, target_b)\n",
        "\n",
        "    lam = np.random.uniform(low=0.3, high=0.7)\n",
        "    r_x = np.random.uniform(low=0, high=W)\n",
        "    r_y = np.random.uniform(low=0, high=H)\n",
        "    r_w = W * np.sqrt(1 - lam)\n",
        "    r_h = H * np.sqrt(1 - lam)\n",
        "    ic(lam, r_x, r_y, r_w, r_h)\n",
        "    x1 = np.int(np.clip((r_x - r_w) / 2, 0, W))\n",
        "    x2 = np.int(np.clip((r_x + r_w) / 2, 0, W))\n",
        "    y1 = np.int(np.clip((r_y - r_h) / 2, 0, H))\n",
        "    y2 = np.int(np.clip((r_y + r_h) / 2, 0, H))\n",
        "    ic(x1, x2, y1, y2)\n",
        "\n",
        "    img_a[:, :, y1:y2, x1:x2] = img_b[:, :, y1:y2, x1:x2]\n",
        "\n",
        "    # Adjust lambda to exact ratio\n",
        "\n",
        "    lam = 1 - (x2 - x1) * (y2 - y1) / float(W * H)\n",
        "\n",
        "    return img_a, target_b, lam\n"
      ]
    },
    {
      "cell_type": "markdown",
      "metadata": {
        "id": "cTfsj-Y17H0C"
      },
      "source": [
        "   # Training Function"
      ]
    },
    {
      "cell_type": "code",
      "execution_count": null,
      "metadata": {
        "execution": {
          "iopub.execute_input": "2022-01-15T10:33:47.356814Z",
          "iopub.status.busy": "2022-01-15T10:33:47.356540Z",
          "iopub.status.idle": "2022-01-15T10:33:47.375626Z",
          "shell.execute_reply": "2022-01-15T10:33:47.373734Z",
          "shell.execute_reply.started": "2022-01-15T10:33:47.356781Z"
        },
        "id": "iCswmFhy7H0D",
        "trusted": true
      },
      "outputs": [],
      "source": [
        "class AverageMeter(object):\n",
        "    \"\"\"Computes and stores the average and current value\"\"\"\n",
        "\n",
        "    def __init__(self):\n",
        "        self.reset()\n",
        "\n",
        "    def reset(self):\n",
        "        self.val = 0\n",
        "        self.avg = 0\n",
        "        self.sum = 0\n",
        "        self.count = 0\n",
        "\n",
        "    def update(self, val, n=1):\n",
        "        self.val = val\n",
        "        self.sum += val * n\n",
        "        self.count += n\n",
        "        self.avg = self.sum / self.count\n",
        "\n",
        "\n",
        "def train_one_epoch(model, optimizer, scheduler, dataloader, device, epoch):\n",
        "    # train 모드로 변경\n",
        "    model.train()\n",
        "\n",
        "    # for the Mixed Precision\n",
        "    # Pytorch 예제 : https://pytorch.org/docs/stable/notes/amp_examples.html#amp-examples\n",
        "    if(FP16):\n",
        "        scaler = amp.GradScaler()\n",
        "\n",
        "    losses = AverageMeter()\n",
        "    accuracy = AverageMeter()\n",
        "    f1 = AverageMeter()\n",
        "\n",
        "    bar = tqdm(enumerate(dataloader), total=len(dataloader))\n",
        "\n",
        "    for step, (img, target) in bar:\n",
        "        img, target_b, lam = cutmix(img, target)\n",
        "\n",
        "        img = img.to(device)\n",
        "        target = target.to(device)\n",
        "        target_b = target_b.to(device)\n",
        "\n",
        "        batch_size = img.shape[0]\n",
        "\n",
        "        if(FP16):\n",
        "            with amp.autocast(enabled=True):\n",
        "                logits = model(img)\n",
        "                loss = criterion(logits, target) * lam + \\\n",
        "                    criterion(logits, target_b) * (1-lam)\n",
        "\n",
        "                # loss를 Scale\n",
        "                # Scaled Grdients를 계산(call)하기 위해 scaled loss를 backward()\n",
        "                scaler.scale(loss).backward()\n",
        "                # scaler.step() first unscales the gradients of the optimizer's assigned params.\n",
        "                # If these gradients do not contain infs or NaNs, optimizer.step() is then called,\n",
        "                # otherwise, optimizer.step() is skipped.\n",
        "                scaler.step(optimizer)\n",
        "\n",
        "                # Updates the scale for next iteration.\n",
        "                scaler.update()\n",
        "\n",
        "        else:\n",
        "            logits = model(img)\n",
        "            loss = criterion(logits, target) * lam + \\\n",
        "                criterion(logits, target_b) * (1-lam)\n",
        "\n",
        "            loss.backward()\n",
        "            torch.nn.utils.clip_grad_norm_(model.parameters(), 1)\n",
        "            optimizer.step()\n",
        "\n",
        "        # zero the parameter gradients\n",
        "        optimizer.zero_grad()\n",
        "\n",
        "        # change learning rate by Scheduler\n",
        "        if scheduler is not None:\n",
        "            scheduler.step()\n",
        "\n",
        "        # loss.item()은 loss를 Python Float으로 반환\n",
        "        losses.update(loss.item())\n",
        "\n",
        "        # logits\n",
        "        logits = logits.detach().cpu()\n",
        "\n",
        "        # acc, f1\n",
        "        probs = torch.softmax(logits, dim = -1)\n",
        "        output = np.argmax(probs, axis=-1)\n",
        "        output_b = np.argsort(probs)[:,-2]\n",
        "        if (lam >= 0.5):\n",
        "            step_acc = np.mean(\n",
        "                output.view(-1).numpy() == target.view(-1).detach().cpu().numpy())\n",
        "            step_f1 = f1_score(output.view(-1).numpy(),\n",
        "                               target.view(-1).detach().cpu().numpy(), average='macro')\n",
        "            step_acc_b = np.mean(\n",
        "                output_b.view(-1).numpy() == target_b.view(-1).detach().cpu().numpy())\n",
        "            step_f1_b = f1_score(output_b.view(-1).numpy(),\n",
        "                                 target_b.view(-1).detach().cpu().numpy(), average='macro')\n",
        "        else:\n",
        "            step_acc = np.mean(\n",
        "                output.view(-1).numpy() == target_b.view(-1).detach().cpu().numpy())\n",
        "            step_f1 = f1_score(output.view(-1).numpy(),\n",
        "                               target_b.view(-1).detach().cpu().numpy(), average='macro')\n",
        "            step_acc_b = np.mean(\n",
        "                output_b.view(-1).numpy() == target.view(-1).detach().cpu().numpy())\n",
        "            step_f1_b = f1_score(output_b.view(-1).numpy(),\n",
        "                                 target.view(-1).detach().cpu().numpy(), average='macro')\n",
        "\n",
        "                                 \n",
        "        step_acc = step_acc * lam + step_acc_b * (1-lam)\n",
        "        step_f1 = step_f1 * lam + step_f1_b * (1-lam)\n",
        "\n",
        "        accuracy.update(step_acc)\n",
        "        f1.update(step_f1)\n",
        "\n",
        "        # loss\n",
        "        train_loss = losses.avg\n",
        "        train_acc = accuracy.avg\n",
        "        train_f1 = f1.avg\n",
        "\n",
        "        bar.set_postfix(\n",
        "            Epoch=epoch, Train_Loss=train_loss, LR=optimizer.param_groups[\n",
        "                0][\"lr\"], accuracy=train_acc, f1=train_f1\n",
        "        )\n",
        "\n",
        "    # Garbage Collector\n",
        "    gc.collect()\n",
        "\n",
        "    return losses.avg, accuracy.avg, f1.avg\n"
      ]
    },
    {
      "cell_type": "markdown",
      "metadata": {
        "id": "C5PB19nv7H0D"
      },
      "source": [
        "   # Validation Function"
      ]
    },
    {
      "cell_type": "code",
      "execution_count": null,
      "metadata": {
        "execution": {
          "iopub.execute_input": "2022-01-15T10:33:47.378229Z",
          "iopub.status.busy": "2022-01-15T10:33:47.377682Z",
          "iopub.status.idle": "2022-01-15T10:33:47.393570Z",
          "shell.execute_reply": "2022-01-15T10:33:47.392783Z",
          "shell.execute_reply.started": "2022-01-15T10:33:47.378191Z"
        },
        "id": "aJRJrmiG7H0E",
        "trusted": true
      },
      "outputs": [],
      "source": [
        "@torch.no_grad()\n",
        "def valid_one_epoch(model, dataloader, device, epoch):\n",
        "    model.eval()\n",
        "\n",
        "    losses = AverageMeter()\n",
        "    accuracy = AverageMeter()\n",
        "    f1 = AverageMeter()\n",
        "\n",
        "    bar = tqdm(enumerate(dataloader), total=len(dataloader))\n",
        "\n",
        "    for step, (img, target) in bar:\n",
        "        img = img.to(device)\n",
        "        target = target.to(device)\n",
        "\n",
        "        batch_size = img.shape[0]\n",
        "\n",
        "        logits = model(img)\n",
        "        loss = criterion(logits, target)\n",
        "\n",
        "        # loss.item()은 loss를 Python Float으로 반환\n",
        "        losses.update(loss.item())\n",
        "\n",
        "        # logits\n",
        "        logits = logits.detach().cpu()\n",
        "\n",
        "        output = np.argmax(torch.softmax(logits, dim=-1), axis=-1)\n",
        "        step_acc = np.mean(\n",
        "            output.view(-1).numpy() == target.view(-1).detach().cpu().numpy())\n",
        "        step_f1 = f1_score(output.view(-1).numpy(),\n",
        "                           target.view(-1).detach().cpu().numpy(), average='macro')\n",
        "\n",
        "        accuracy.update(step_acc)\n",
        "        f1.update(step_f1)\n",
        "\n",
        "        # loss\n",
        "        val_loss = losses.avg\n",
        "        val_acc = accuracy.avg\n",
        "        val_f1 = f1.avg\n",
        "\n",
        "        bar.set_postfix(\n",
        "            Epoch=epoch, Valid_Loss=val_loss, LR=optimizer.param_groups[\n",
        "                0][\"lr\"], accuracy=val_acc, f1=val_f1\n",
        "        )\n",
        "\n",
        "    gc.collect()\n",
        "\n",
        "    return losses.avg, accuracy.avg, f1.avg\n"
      ]
    },
    {
      "cell_type": "code",
      "execution_count": null,
      "metadata": {
        "execution": {
          "iopub.execute_input": "2022-01-15T10:33:47.395930Z",
          "iopub.status.busy": "2022-01-15T10:33:47.395337Z",
          "iopub.status.idle": "2022-01-15T10:33:47.415192Z",
          "shell.execute_reply": "2022-01-15T10:33:47.414280Z",
          "shell.execute_reply.started": "2022-01-15T10:33:47.395894Z"
        },
        "id": "kZfD8q3s7H0E",
        "trusted": true
      },
      "outputs": [],
      "source": [
        "\n",
        "def run_training(\n",
        "    model,\n",
        "    optimizer,\n",
        "    scheduler,\n",
        "    device,\n",
        "    num_epochs,\n",
        "    metric_prefix=\"\",\n",
        "    file_prefix=\"\",\n",
        "    early_stopping=True,\n",
        "    early_stopping_step=10,\n",
        "    START_EPOCH=0,\n",
        "):\n",
        "    # To automatically log graidents\n",
        "    wandb.watch(model, log_freq=100)\n",
        "\n",
        "    if torch.cuda.is_available():\n",
        "        print(\"[INFO] Using GPU:{}\\n\".format(torch.cuda.get_device_name()))\n",
        "\n",
        "    start = time.time()\n",
        "    best_model_wts = copy.deepcopy(model.state_dict())\n",
        "    best_loss = np.inf\n",
        "    history = defaultdict(list)\n",
        "    early_stop_counter = 0\n",
        "\n",
        "    # num_epochs만큼, train과 val을 실행한다\n",
        "    for epoch in range(START_EPOCH, START_EPOCH + num_epochs):\n",
        "        gc.collect()\n",
        "\n",
        "        fold_num = 5\n",
        "        fold = epoch % fold_num\n",
        "\n",
        "        # for fold in range(fold_num) :\n",
        "\n",
        "        trainDataloader = train_dataloaders[fold]\n",
        "        validDataloader = valid_dataloaders[fold]\n",
        "\n",
        "        train_train_loss, train_accuracy, train_f1 = train_one_epoch(\n",
        "            model,\n",
        "            optimizer,\n",
        "            scheduler,\n",
        "            dataloader=trainDataloader,\n",
        "            device=device,\n",
        "            epoch=epoch,\n",
        "        )\n",
        "\n",
        "        val_loss, val_accuracy, val_f1 = valid_one_epoch(\n",
        "            model, validDataloader, device=device, epoch=epoch\n",
        "        )\n",
        "\n",
        "        history[f\"{metric_prefix}Train Loss\"].append(train_train_loss)\n",
        "        history[f\"{metric_prefix}Train Accuracy\"].append(train_accuracy)\n",
        "        history[f\"{metric_prefix}Train F1\"].append(train_f1)\n",
        "        history[f\"{metric_prefix}Valid Loss\"].append(val_loss)\n",
        "        history[f\"{metric_prefix}Valid Accuracy\"].append(val_accuracy)\n",
        "        history[f\"{metric_prefix}Valid F1\"].append(val_f1)\n",
        "\n",
        "        # Log the metrics\n",
        "        wandb.log(\n",
        "            {\n",
        "                f\"{metric_prefix}Train Loss\": train_train_loss,\n",
        "                f\"{metric_prefix}Valid Loss\": val_loss,\n",
        "                f\"{metric_prefix}Train Accuracy\": train_accuracy,\n",
        "                f\"{metric_prefix}Valid Accuracy\": val_accuracy,\n",
        "                f\"{metric_prefix}Train F1\": train_f1,\n",
        "                f\"{metric_prefix}Valid F1\": val_f1,\n",
        "            }\n",
        "        )\n",
        "\n",
        "        print(f\"Valid Loss : {val_loss}\")\n",
        "\n",
        "        torch.save(model.state_dict(), f'{CONFIG[\"nickname\"]}last.bin')\n",
        "        wandb.save(f'{CONFIG[\"nickname\"]}last.bin')\n",
        "\n",
        "        # deep copy the model\n",
        "        if val_loss <= best_loss:\n",
        "            early_stop_counter = 0\n",
        "\n",
        "            print(\n",
        "                f\"Validation Loss improved( {best_loss} ---> {val_loss}  )\"\n",
        "            )\n",
        "\n",
        "            # Update Best Loss\n",
        "            best_loss = val_loss\n",
        "\n",
        "            # Update Best Model Weight\n",
        "            # run.summary['Best RMSE'] = best_loss\n",
        "            best_model_wts = copy.deepcopy(model.state_dict())\n",
        "\n",
        "            PATH = \"{}epoch{:.0f}_Loss{:.4f}.bin\".format(\n",
        "                file_prefix, epoch, best_loss)\n",
        "            torch.save(model.state_dict(), PATH)\n",
        "            # Save a model file from the current directory\n",
        "            wandb.save(PATH)\n",
        "\n",
        "            print(f\"Model Saved\")\n",
        "\n",
        "        elif early_stopping:\n",
        "            early_stop_counter += 1\n",
        "            if early_stop_counter > early_stopping_step:\n",
        "                break\n",
        "\n",
        "        START_EPOCH = epoch + 1\n",
        "        # break\n",
        "\n",
        "    end = time.time()\n",
        "    time_elapsed = end - start\n",
        "    print(\n",
        "        \"Training complete in {:.0f}h {:.0f}m {:.0f}s\".format(\n",
        "            time_elapsed // 3600,\n",
        "            (time_elapsed % 3600) // 60,\n",
        "            (time_elapsed % 3600) % 60,\n",
        "        )\n",
        "    )\n",
        "    print(\"Best Loss: {:.4f}\".format(best_loss))\n",
        "\n",
        "    return model, history\n"
      ]
    },
    {
      "cell_type": "code",
      "execution_count": null,
      "metadata": {
        "execution": {
          "iopub.execute_input": "2022-01-15T10:33:47.416354Z",
          "iopub.status.busy": "2022-01-15T10:33:47.416056Z",
          "iopub.status.idle": "2022-01-15T10:33:48.692352Z",
          "shell.execute_reply": "2022-01-15T10:33:48.691550Z",
          "shell.execute_reply.started": "2022-01-15T10:33:47.416328Z"
        },
        "id": "eX2s0GMOPGqy",
        "trusted": true,
        "colab": {
          "base_uri": "https://localhost:8080/"
        },
        "outputId": "48e1de5d-6b0e-44bf-e879-0722b9e0ea6d"
      },
      "outputs": [
        {
          "output_type": "execute_result",
          "data": {
            "text/plain": [
              "<All keys matched successfully>"
            ]
          },
          "metadata": {},
          "execution_count": 19
        }
      ],
      "source": [
        "wandb.restore('last.bin', 'jiwon7258/lg/1hwwknlq', root='./')\n",
        "model.load_state_dict(torch.load('last.bin',\n",
        "                      map_location=CONFIG['device']))\n"
      ]
    },
    {
      "cell_type": "markdown",
      "metadata": {
        "id": "AdVDFxn6PGqy"
      },
      "source": [
        "# Fast Start : 5 epoch"
      ]
    },
    {
      "cell_type": "code",
      "execution_count": null,
      "metadata": {
        "id": "vMfEjYQFPGqz"
      },
      "outputs": [],
      "source": [
        "for param in model.backbone.named_parameters():\n",
        "    param[1].requires_grad = False"
      ]
    },
    {
      "cell_type": "code",
      "execution_count": null,
      "metadata": {
        "colab": {
          "base_uri": "https://localhost:8080/"
        },
        "execution": {
          "iopub.execute_input": "2022-01-15T10:33:48.694521Z",
          "iopub.status.busy": "2022-01-15T10:33:48.694198Z"
        },
        "id": "DEZO7sK4PGqz",
        "outputId": "45e683ea-3b3e-41db-f90c-c68fe3e5e4f9",
        "trusted": true
      },
      "outputs": [
        {
          "output_type": "stream",
          "name": "stdout",
          "text": [
            "[INFO] Using GPU:Tesla P100-PCIE-16GB\n",
            "\n"
          ]
        },
        {
          "output_type": "stream",
          "name": "stderr",
          "text": [
            "100%|██████████| 577/577 [01:28<00:00,  6.50it/s, Epoch=0, LR=8.76e-5, Train_Loss=1.98, accuracy=0.743, f1=0.685]\n",
            "100%|██████████| 73/73 [00:15<00:00,  4.59it/s, Epoch=0, LR=8.76e-5, Valid_Loss=0.000113, accuracy=1, f1=1]\n"
          ]
        },
        {
          "output_type": "stream",
          "name": "stdout",
          "text": [
            "Valid Loss : 0.00011332717026223298\n",
            "Validation Loss improved( inf ---> 0.00011332717026223298  )\n",
            "Model Saved\n"
          ]
        },
        {
          "output_type": "stream",
          "name": "stderr",
          "text": [
            "100%|██████████| 577/577 [01:24<00:00,  6.83it/s, Epoch=1, LR=5.67e-5, Train_Loss=1.55, accuracy=0.75, f1=0.694]\n",
            "100%|██████████| 73/73 [00:15<00:00,  4.62it/s, Epoch=1, LR=5.67e-5, Valid_Loss=0.000438, accuracy=1, f1=1]\n"
          ]
        },
        {
          "output_type": "stream",
          "name": "stdout",
          "text": [
            "Valid Loss : 0.0004375369921633623\n"
          ]
        },
        {
          "output_type": "stream",
          "name": "stderr",
          "text": [
            "100%|██████████| 577/577 [01:23<00:00,  6.90it/s, Epoch=2, LR=2.27e-5, Train_Loss=1.19, accuracy=0.754, f1=0.698]\n",
            "100%|██████████| 73/73 [00:15<00:00,  4.65it/s, Epoch=2, LR=2.27e-5, Valid_Loss=0.00312, accuracy=1, f1=1]\n"
          ]
        },
        {
          "output_type": "stream",
          "name": "stdout",
          "text": [
            "Valid Loss : 0.003122846587570639\n"
          ]
        },
        {
          "output_type": "stream",
          "name": "stderr",
          "text": [
            "100%|██████████| 577/577 [01:23<00:00,  6.88it/s, Epoch=3, LR=2.56e-6, Train_Loss=1.01, accuracy=0.752, f1=0.696]\n",
            "100%|██████████| 73/73 [00:15<00:00,  4.67it/s, Epoch=3, LR=2.56e-6, Valid_Loss=0.0108, accuracy=1, f1=1]\n"
          ]
        },
        {
          "output_type": "stream",
          "name": "stdout",
          "text": [
            "Valid Loss : 0.010779628466355475\n"
          ]
        },
        {
          "output_type": "stream",
          "name": "stderr",
          "text": [
            "100%|██████████| 577/577 [01:23<00:00,  6.89it/s, Epoch=4, LR=6.4e-6, Train_Loss=0.934, accuracy=0.738, f1=0.684]\n",
            "100%|██████████| 73/73 [00:15<00:00,  4.66it/s, Epoch=4, LR=6.4e-6, Valid_Loss=0.0152, accuracy=1, f1=1]\n"
          ]
        },
        {
          "output_type": "stream",
          "name": "stdout",
          "text": [
            "Valid Loss : 0.015194534662192406\n",
            "Training complete in 0h 8m 29s\n",
            "Best Loss: 0.0001\n"
          ]
        }
      ],
      "source": [
        "ic.disable()\n",
        "run_training(\n",
        "    model=model,\n",
        "    optimizer=optimizer,\n",
        "    scheduler=torch.optim.lr_scheduler.CosineAnnealingLR(\n",
        "        optimizer=optimizer, T_max=CONFIG['T_max'], eta_min=CONFIG['min_lr']),\n",
        "    device=device,\n",
        "    num_epochs=5,\n",
        "    metric_prefix=\"\",\n",
        "    file_prefix=\"\",\n",
        "    early_stopping=CONFIG['early_stopping'],\n",
        "    early_stopping_step=CONFIG['early_stopping_step'],\n",
        "    START_EPOCH=0,\n",
        ");\n"
      ]
    },
    {
      "cell_type": "markdown",
      "metadata": {
        "id": "pDi14R3uPGqz"
      },
      "source": [
        "# 400 epochs"
      ]
    },
    {
      "cell_type": "code",
      "execution_count": null,
      "metadata": {
        "id": "L5G3qhmFPGqz"
      },
      "outputs": [],
      "source": [
        "optimizer = torch.optim.Adam(\n",
        "    params=model.parameters(), lr=5e-6, weight_decay=CONFIG['weight_decay'])"
      ]
    },
    {
      "cell_type": "code",
      "execution_count": null,
      "metadata": {
        "id": "Ae1QgOXSPGqz"
      },
      "outputs": [],
      "source": [
        "for param in model.backbone.named_parameters():\n",
        "    param[1].requires_grad = True\n"
      ]
    },
    {
      "cell_type": "code",
      "execution_count": null,
      "metadata": {
        "colab": {
          "base_uri": "https://localhost:8080/",
          "height": 1000
        },
        "id": "dKXcxeLEPGq0",
        "outputId": "a3b4166a-d5be-436e-d57e-a08dde8acb55"
      },
      "outputs": [
        {
          "output_type": "stream",
          "name": "stdout",
          "text": [
            "[INFO] Using GPU:Tesla P100-PCIE-16GB\n",
            "\n"
          ]
        },
        {
          "output_type": "stream",
          "name": "stderr",
          "text": [
            "100%|██████████| 577/577 [03:20<00:00,  2.88it/s, Epoch=5, LR=4.5e-6, Train_Loss=0.816, accuracy=0.719, f1=0.658]\n",
            "100%|██████████| 73/73 [00:15<00:00,  4.66it/s, Epoch=5, LR=4.5e-6, Valid_Loss=0.00862, accuracy=1, f1=1]\n"
          ]
        },
        {
          "output_type": "stream",
          "name": "stdout",
          "text": [
            "Valid Loss : 0.008622884112474036\n",
            "Validation Loss improved( inf ---> 0.008622884112474036  )\n",
            "Model Saved\n"
          ]
        },
        {
          "output_type": "stream",
          "name": "stderr",
          "text": [
            "100%|██████████| 577/577 [03:21<00:00,  2.86it/s, Epoch=6, LR=3.25e-6, Train_Loss=0.755, accuracy=0.734, f1=0.675]\n",
            "100%|██████████| 73/73 [00:15<00:00,  4.66it/s, Epoch=6, LR=3.25e-6, Valid_Loss=0.00624, accuracy=1, f1=1]\n"
          ]
        },
        {
          "output_type": "stream",
          "name": "stdout",
          "text": [
            "Valid Loss : 0.006244559536292537\n",
            "Validation Loss improved( 0.008622884112474036 ---> 0.006244559536292537  )\n",
            "Model Saved\n"
          ]
        },
        {
          "output_type": "stream",
          "name": "stderr",
          "text": [
            "100%|██████████| 577/577 [03:21<00:00,  2.86it/s, Epoch=7, LR=1.88e-6, Train_Loss=0.712, accuracy=0.742, f1=0.683]\n",
            "100%|██████████| 73/73 [00:15<00:00,  4.65it/s, Epoch=7, LR=1.88e-6, Valid_Loss=0.00436, accuracy=1, f1=1]\n"
          ]
        },
        {
          "output_type": "stream",
          "name": "stdout",
          "text": [
            "Valid Loss : 0.004361602468160938\n",
            "Validation Loss improved( 0.006244559536292537 ---> 0.004361602468160938  )\n",
            "Model Saved\n"
          ]
        },
        {
          "output_type": "stream",
          "name": "stderr",
          "text": [
            "100%|██████████| 577/577 [03:21<00:00,  2.86it/s, Epoch=8, LR=1.06e-6, Train_Loss=0.692, accuracy=0.751, f1=0.691]\n",
            "100%|██████████| 73/73 [00:15<00:00,  4.63it/s, Epoch=8, LR=1.06e-6, Valid_Loss=0.00424, accuracy=1, f1=1]\n"
          ]
        },
        {
          "output_type": "stream",
          "name": "stdout",
          "text": [
            "Valid Loss : 0.004240636366151579\n",
            "Validation Loss improved( 0.004361602468160938 ---> 0.004240636366151579  )\n",
            "Model Saved\n"
          ]
        },
        {
          "output_type": "stream",
          "name": "stderr",
          "text": [
            "100%|██████████| 577/577 [03:20<00:00,  2.87it/s, Epoch=9, LR=1.22e-6, Train_Loss=0.674, accuracy=0.747, f1=0.685]\n",
            "100%|██████████| 73/73 [00:15<00:00,  4.66it/s, Epoch=9, LR=1.22e-6, Valid_Loss=0.00472, accuracy=1, f1=1]\n"
          ]
        },
        {
          "output_type": "stream",
          "name": "stdout",
          "text": [
            "Valid Loss : 0.004724965647679486\n"
          ]
        },
        {
          "output_type": "stream",
          "name": "stderr",
          "text": [
            "100%|██████████| 577/577 [03:21<00:00,  2.87it/s, Epoch=10, LR=2.26e-6, Train_Loss=0.669, accuracy=0.756, f1=0.699]\n",
            "100%|██████████| 73/73 [00:15<00:00,  4.67it/s, Epoch=10, LR=2.26e-6, Valid_Loss=0.00428, accuracy=1, f1=1]\n"
          ]
        },
        {
          "output_type": "stream",
          "name": "stdout",
          "text": [
            "Valid Loss : 0.004283374462480822\n"
          ]
        },
        {
          "output_type": "stream",
          "name": "stderr",
          "text": [
            "100%|██████████| 577/577 [03:21<00:00,  2.87it/s, Epoch=11, LR=3.68e-6, Train_Loss=0.656, accuracy=0.757, f1=0.701]\n",
            "100%|██████████| 73/73 [00:15<00:00,  4.64it/s, Epoch=11, LR=3.68e-6, Valid_Loss=0.00366, accuracy=1, f1=1]\n"
          ]
        },
        {
          "output_type": "stream",
          "name": "stdout",
          "text": [
            "Valid Loss : 0.0036577201473896636\n",
            "Validation Loss improved( 0.004240636366151579 ---> 0.0036577201473896636  )\n",
            "Model Saved\n"
          ]
        },
        {
          "output_type": "stream",
          "name": "stderr",
          "text": [
            "100%|██████████| 577/577 [03:21<00:00,  2.86it/s, Epoch=12, LR=4.75e-6, Train_Loss=0.666, accuracy=0.76, f1=0.701]\n",
            "100%|██████████| 73/73 [00:15<00:00,  4.64it/s, Epoch=12, LR=4.75e-6, Valid_Loss=0.0033, accuracy=1, f1=1]\n"
          ]
        },
        {
          "output_type": "stream",
          "name": "stdout",
          "text": [
            "Valid Loss : 0.0032952843418931716\n",
            "Validation Loss improved( 0.0036577201473896636 ---> 0.0032952843418931716  )\n",
            "Model Saved\n"
          ]
        },
        {
          "output_type": "stream",
          "name": "stderr",
          "text": [
            "100%|██████████| 577/577 [03:21<00:00,  2.86it/s, Epoch=13, LR=4.95e-6, Train_Loss=0.645, accuracy=0.77, f1=0.711]\n",
            "100%|██████████| 73/73 [00:15<00:00,  4.65it/s, Epoch=13, LR=4.95e-6, Valid_Loss=0.00372, accuracy=1, f1=1]\n"
          ]
        },
        {
          "output_type": "stream",
          "name": "stdout",
          "text": [
            "Valid Loss : 0.0037225095893269125\n"
          ]
        },
        {
          "output_type": "stream",
          "name": "stderr",
          "text": [
            "100%|██████████| 577/577 [03:22<00:00,  2.85it/s, Epoch=14, LR=4.18e-6, Train_Loss=0.634, accuracy=0.759, f1=0.704]\n",
            "100%|██████████| 73/73 [00:15<00:00,  4.64it/s, Epoch=14, LR=4.18e-6, Valid_Loss=0.00315, accuracy=1, f1=1]\n"
          ]
        },
        {
          "output_type": "stream",
          "name": "stdout",
          "text": [
            "Valid Loss : 0.0031533966172639636\n",
            "Validation Loss improved( 0.0032952843418931716 ---> 0.0031533966172639636  )\n",
            "Model Saved\n"
          ]
        },
        {
          "output_type": "stream",
          "name": "stderr",
          "text": [
            "100%|██████████| 577/577 [03:22<00:00,  2.85it/s, Epoch=15, LR=2.81e-6, Train_Loss=0.626, accuracy=0.766, f1=0.71]\n",
            "100%|██████████| 73/73 [00:15<00:00,  4.66it/s, Epoch=15, LR=2.81e-6, Valid_Loss=0.00294, accuracy=1, f1=1]\n"
          ]
        },
        {
          "output_type": "stream",
          "name": "stdout",
          "text": [
            "Valid Loss : 0.0029401399373804055\n",
            "Validation Loss improved( 0.0031533966172639636 ---> 0.0029401399373804055  )\n",
            "Model Saved\n"
          ]
        },
        {
          "output_type": "stream",
          "name": "stderr",
          "text": [
            "100%|██████████| 577/577 [03:22<00:00,  2.85it/s, Epoch=16, LR=1.54e-6, Train_Loss=0.619, accuracy=0.766, f1=0.713]\n",
            "100%|██████████| 73/73 [00:15<00:00,  4.64it/s, Epoch=16, LR=1.54e-6, Valid_Loss=0.00288, accuracy=1, f1=1]\n"
          ]
        },
        {
          "output_type": "stream",
          "name": "stdout",
          "text": [
            "Valid Loss : 0.002879030745769915\n",
            "Validation Loss improved( 0.0029401399373804055 ---> 0.002879030745769915  )\n",
            "Model Saved\n"
          ]
        },
        {
          "output_type": "stream",
          "name": "stderr",
          "text": [
            "100%|██████████| 577/577 [03:22<00:00,  2.85it/s, Epoch=17, LR=1e-6, Train_Loss=0.613, accuracy=0.774, f1=0.719]\n",
            "100%|██████████| 73/73 [00:15<00:00,  4.63it/s, Epoch=17, LR=1e-6, Valid_Loss=0.00263, accuracy=1, f1=1]\n"
          ]
        },
        {
          "output_type": "stream",
          "name": "stdout",
          "text": [
            "Valid Loss : 0.0026297296336788224\n",
            "Validation Loss improved( 0.002879030745769915 ---> 0.0026297296336788224  )\n",
            "Model Saved\n"
          ]
        },
        {
          "output_type": "stream",
          "name": "stderr",
          "text": [
            "100%|██████████| 577/577 [03:22<00:00,  2.85it/s, Epoch=18, LR=1.46e-6, Train_Loss=0.606, accuracy=0.769, f1=0.715]\n",
            "100%|██████████| 73/73 [00:15<00:00,  4.65it/s, Epoch=18, LR=1.46e-6, Valid_Loss=0.00266, accuracy=1, f1=1]\n"
          ]
        },
        {
          "output_type": "stream",
          "name": "stdout",
          "text": [
            "Valid Loss : 0.0026572704608615948\n"
          ]
        },
        {
          "output_type": "stream",
          "name": "stderr",
          "text": [
            "100%|██████████| 577/577 [03:22<00:00,  2.85it/s, Epoch=19, LR=2.69e-6, Train_Loss=0.596, accuracy=0.777, f1=0.722]\n",
            "100%|██████████| 73/73 [00:15<00:00,  4.58it/s, Epoch=19, LR=2.69e-6, Valid_Loss=0.00233, accuracy=1, f1=1]\n"
          ]
        },
        {
          "output_type": "stream",
          "name": "stdout",
          "text": [
            "Valid Loss : 0.002330319648162041\n",
            "Validation Loss improved( 0.0026297296336788224 ---> 0.002330319648162041  )\n",
            "Model Saved\n"
          ]
        },
        {
          "output_type": "stream",
          "name": "stderr",
          "text": [
            "100%|██████████| 577/577 [03:22<00:00,  2.85it/s, Epoch=20, LR=4.07e-6, Train_Loss=0.604, accuracy=0.776, f1=0.72]\n",
            "100%|██████████| 73/73 [00:15<00:00,  4.65it/s, Epoch=20, LR=4.07e-6, Valid_Loss=0.00217, accuracy=1, f1=1]\n"
          ]
        },
        {
          "output_type": "stream",
          "name": "stdout",
          "text": [
            "Valid Loss : 0.0021699236654867866\n",
            "Validation Loss improved( 0.002330319648162041 ---> 0.0021699236654867866  )\n",
            "Model Saved\n"
          ]
        },
        {
          "output_type": "stream",
          "name": "stderr",
          "text": [
            "100%|██████████| 577/577 [03:22<00:00,  2.85it/s, Epoch=21, LR=4.92e-6, Train_Loss=0.598, accuracy=0.777, f1=0.721]\n",
            "100%|██████████| 73/73 [00:15<00:00,  4.63it/s, Epoch=21, LR=4.92e-6, Valid_Loss=0.00193, accuracy=1, f1=1]\n"
          ]
        },
        {
          "output_type": "stream",
          "name": "stdout",
          "text": [
            "Valid Loss : 0.0019349920537884105\n",
            "Validation Loss improved( 0.0021699236654867866 ---> 0.0019349920537884105  )\n",
            "Model Saved\n"
          ]
        },
        {
          "output_type": "stream",
          "name": "stderr",
          "text": [
            "100%|██████████| 577/577 [03:22<00:00,  2.85it/s, Epoch=22, LR=4.81e-6, Train_Loss=0.598, accuracy=0.775, f1=0.721]\n",
            "100%|██████████| 73/73 [00:15<00:00,  4.63it/s, Epoch=22, LR=4.81e-6, Valid_Loss=0.00181, accuracy=1, f1=1]\n"
          ]
        },
        {
          "output_type": "stream",
          "name": "stdout",
          "text": [
            "Valid Loss : 0.001812544013437343\n",
            "Validation Loss improved( 0.0019349920537884105 ---> 0.001812544013437343  )\n",
            "Model Saved\n"
          ]
        },
        {
          "output_type": "stream",
          "name": "stderr",
          "text": [
            "100%|██████████| 577/577 [03:22<00:00,  2.85it/s, Epoch=23, LR=3.79e-6, Train_Loss=0.599, accuracy=0.786, f1=0.734]\n",
            "100%|██████████| 73/73 [00:15<00:00,  4.62it/s, Epoch=23, LR=3.79e-6, Valid_Loss=0.00182, accuracy=1, f1=1]\n"
          ]
        },
        {
          "output_type": "stream",
          "name": "stdout",
          "text": [
            "Valid Loss : 0.0018235828130655884\n"
          ]
        },
        {
          "output_type": "stream",
          "name": "stderr",
          "text": [
            "100%|██████████| 577/577 [03:22<00:00,  2.85it/s, Epoch=24, LR=2.38e-6, Train_Loss=0.575, accuracy=0.784, f1=0.735]\n",
            "100%|██████████| 73/73 [00:15<00:00,  4.64it/s, Epoch=24, LR=2.38e-6, Valid_Loss=0.0017, accuracy=1, f1=1]\n"
          ]
        },
        {
          "output_type": "stream",
          "name": "stdout",
          "text": [
            "Valid Loss : 0.0017048809151101398\n",
            "Validation Loss improved( 0.001812544013437343 ---> 0.0017048809151101398  )\n",
            "Model Saved\n"
          ]
        },
        {
          "output_type": "stream",
          "name": "stderr",
          "text": [
            "100%|██████████| 577/577 [03:22<00:00,  2.84it/s, Epoch=25, LR=1.28e-6, Train_Loss=0.574, accuracy=0.791, f1=0.741]\n",
            "100%|██████████| 73/73 [00:15<00:00,  4.62it/s, Epoch=25, LR=1.28e-6, Valid_Loss=0.0015, accuracy=1, f1=1]\n"
          ]
        },
        {
          "output_type": "stream",
          "name": "stdout",
          "text": [
            "Valid Loss : 0.001495362897339749\n",
            "Validation Loss improved( 0.0017048809151101398 ---> 0.001495362897339749  )\n",
            "Model Saved\n"
          ]
        },
        {
          "output_type": "stream",
          "name": "stderr",
          "text": [
            "100%|██████████| 577/577 [03:21<00:00,  2.86it/s, Epoch=26, LR=1.04e-6, Train_Loss=0.578, accuracy=0.797, f1=0.746]\n",
            "100%|██████████| 73/73 [00:15<00:00,  4.63it/s, Epoch=26, LR=1.04e-6, Valid_Loss=0.00202, accuracy=1, f1=1]\n"
          ]
        },
        {
          "output_type": "stream",
          "name": "stdout",
          "text": [
            "Valid Loss : 0.0020159915877404075\n"
          ]
        },
        {
          "output_type": "stream",
          "name": "stderr",
          "text": [
            "100%|██████████| 577/577 [03:21<00:00,  2.86it/s, Epoch=27, LR=1.77e-6, Train_Loss=0.587, accuracy=0.785, f1=0.734]\n",
            "100%|██████████| 73/73 [00:15<00:00,  4.64it/s, Epoch=27, LR=1.77e-6, Valid_Loss=0.00161, accuracy=1, f1=1]\n"
          ]
        },
        {
          "output_type": "stream",
          "name": "stdout",
          "text": [
            "Valid Loss : 0.001606713581753716\n"
          ]
        },
        {
          "output_type": "stream",
          "name": "stderr",
          "text": [
            "100%|██████████| 577/577 [03:22<00:00,  2.85it/s, Epoch=28, LR=3.13e-6, Train_Loss=0.576, accuracy=0.8, f1=0.751]\n",
            "100%|██████████| 73/73 [00:15<00:00,  4.64it/s, Epoch=28, LR=3.13e-6, Valid_Loss=0.00161, accuracy=1, f1=1]\n"
          ]
        },
        {
          "output_type": "stream",
          "name": "stdout",
          "text": [
            "Valid Loss : 0.0016066045922941642\n"
          ]
        },
        {
          "output_type": "stream",
          "name": "stderr",
          "text": [
            "100%|██████████| 577/577 [03:22<00:00,  2.85it/s, Epoch=29, LR=4.41e-6, Train_Loss=0.574, accuracy=0.797, f1=0.746]\n",
            "100%|██████████| 73/73 [00:15<00:00,  4.63it/s, Epoch=29, LR=4.41e-6, Valid_Loss=0.00145, accuracy=1, f1=1]\n"
          ]
        },
        {
          "output_type": "stream",
          "name": "stdout",
          "text": [
            "Valid Loss : 0.0014450757075356294\n",
            "Validation Loss improved( 0.001495362897339749 ---> 0.0014450757075356294  )\n",
            "Model Saved\n"
          ]
        },
        {
          "output_type": "stream",
          "name": "stderr",
          "text": [
            "100%|██████████| 577/577 [03:22<00:00,  2.85it/s, Epoch=30, LR=5e-6, Train_Loss=0.568, accuracy=0.795, f1=0.743]\n",
            "100%|██████████| 73/73 [00:15<00:00,  4.66it/s, Epoch=30, LR=5e-6, Valid_Loss=0.0012, accuracy=1, f1=1]\n"
          ]
        },
        {
          "output_type": "stream",
          "name": "stdout",
          "text": [
            "Valid Loss : 0.001195323571390536\n",
            "Validation Loss improved( 0.0014450757075356294 ---> 0.001195323571390536  )\n",
            "Model Saved\n"
          ]
        },
        {
          "output_type": "stream",
          "name": "stderr",
          "text": [
            "100%|██████████| 577/577 [03:21<00:00,  2.86it/s, Epoch=31, LR=4.58e-6, Train_Loss=0.568, accuracy=0.806, f1=0.756]\n",
            "100%|██████████| 73/73 [00:15<00:00,  4.65it/s, Epoch=31, LR=4.58e-6, Valid_Loss=0.0014, accuracy=1, f1=1]\n"
          ]
        },
        {
          "output_type": "stream",
          "name": "stdout",
          "text": [
            "Valid Loss : 0.0014023429934216076\n"
          ]
        },
        {
          "output_type": "stream",
          "name": "stderr",
          "text": [
            "100%|██████████| 577/577 [03:21<00:00,  2.86it/s, Epoch=32, LR=3.37e-6, Train_Loss=0.563, accuracy=0.809, f1=0.761]\n",
            "100%|██████████| 73/73 [00:15<00:00,  4.63it/s, Epoch=32, LR=3.37e-6, Valid_Loss=0.00118, accuracy=1, f1=1]\n"
          ]
        },
        {
          "output_type": "stream",
          "name": "stdout",
          "text": [
            "Valid Loss : 0.0011771642634874745\n",
            "Validation Loss improved( 0.001195323571390536 ---> 0.0011771642634874745  )\n",
            "Model Saved\n"
          ]
        },
        {
          "output_type": "stream",
          "name": "stderr",
          "text": [
            "100%|██████████| 577/577 [03:22<00:00,  2.86it/s, Epoch=33, LR=1.98e-6, Train_Loss=0.568, accuracy=0.79, f1=0.738]\n",
            "100%|██████████| 73/73 [00:15<00:00,  4.63it/s, Epoch=33, LR=1.98e-6, Valid_Loss=0.00112, accuracy=1, f1=1]\n"
          ]
        },
        {
          "output_type": "stream",
          "name": "stdout",
          "text": [
            "Valid Loss : 0.001119872213067002\n",
            "Validation Loss improved( 0.0011771642634874745 ---> 0.001119872213067002  )\n",
            "Model Saved\n"
          ]
        },
        {
          "output_type": "stream",
          "name": "stderr",
          "text": [
            "100%|██████████| 577/577 [03:22<00:00,  2.85it/s, Epoch=34, LR=1.1e-6, Train_Loss=0.563, accuracy=0.797, f1=0.749]\n",
            "100%|██████████| 73/73 [00:15<00:00,  4.64it/s, Epoch=34, LR=1.1e-6, Valid_Loss=0.00114, accuracy=1, f1=1]\n"
          ]
        },
        {
          "output_type": "stream",
          "name": "stdout",
          "text": [
            "Valid Loss : 0.0011443402083935088\n"
          ]
        },
        {
          "output_type": "stream",
          "name": "stderr",
          "text": [
            "100%|██████████| 577/577 [03:21<00:00,  2.86it/s, Epoch=35, LR=1.16e-6, Train_Loss=0.557, accuracy=0.814, f1=0.769]\n",
            "100%|██████████| 73/73 [00:15<00:00,  4.65it/s, Epoch=35, LR=1.16e-6, Valid_Loss=0.00099, accuracy=1, f1=1]\n"
          ]
        },
        {
          "output_type": "stream",
          "name": "stdout",
          "text": [
            "Valid Loss : 0.0009897917569678736\n",
            "Validation Loss improved( 0.001119872213067002 ---> 0.0009897917569678736  )\n",
            "Model Saved\n"
          ]
        },
        {
          "output_type": "stream",
          "name": "stderr",
          "text": [
            "100%|██████████| 577/577 [03:22<00:00,  2.84it/s, Epoch=36, LR=2.15e-6, Train_Loss=0.554, accuracy=0.802, f1=0.753]\n",
            "100%|██████████| 73/73 [00:15<00:00,  4.61it/s, Epoch=36, LR=2.15e-6, Valid_Loss=0.00098, accuracy=1, f1=1]\n"
          ]
        },
        {
          "output_type": "stream",
          "name": "stdout",
          "text": [
            "Valid Loss : 0.0009799384311071201\n",
            "Validation Loss improved( 0.0009897917569678736 ---> 0.0009799384311071201  )\n",
            "Model Saved\n"
          ]
        },
        {
          "output_type": "stream",
          "name": "stderr",
          "text": [
            "100%|██████████| 577/577 [03:22<00:00,  2.85it/s, Epoch=37, LR=3.56e-6, Train_Loss=0.556, accuracy=0.81, f1=0.764]\n",
            "100%|██████████| 73/73 [00:15<00:00,  4.63it/s, Epoch=37, LR=3.56e-6, Valid_Loss=0.000895, accuracy=1, f1=1]\n"
          ]
        },
        {
          "output_type": "stream",
          "name": "stdout",
          "text": [
            "Valid Loss : 0.0008947560531788901\n",
            "Validation Loss improved( 0.0009799384311071201 ---> 0.0008947560531788901  )\n",
            "Model Saved\n"
          ]
        },
        {
          "output_type": "stream",
          "name": "stderr",
          "text": [
            "100%|██████████| 577/577 [03:22<00:00,  2.85it/s, Epoch=38, LR=4.69e-6, Train_Loss=0.551, accuracy=0.809, f1=0.762]\n",
            "100%|██████████| 73/73 [00:15<00:00,  4.62it/s, Epoch=38, LR=4.69e-6, Valid_Loss=0.00106, accuracy=1, f1=1]\n"
          ]
        },
        {
          "output_type": "stream",
          "name": "stdout",
          "text": [
            "Valid Loss : 0.0010636954054823273\n"
          ]
        },
        {
          "output_type": "stream",
          "name": "stderr",
          "text": [
            "100%|██████████| 577/577 [03:22<00:00,  2.85it/s, Epoch=39, LR=4.98e-6, Train_Loss=0.554, accuracy=0.822, f1=0.775]\n",
            "100%|██████████| 73/73 [00:15<00:00,  4.64it/s, Epoch=39, LR=4.98e-6, Valid_Loss=0.000869, accuracy=1, f1=1]\n"
          ]
        },
        {
          "output_type": "stream",
          "name": "stdout",
          "text": [
            "Valid Loss : 0.0008693989366292953\n",
            "Validation Loss improved( 0.0008947560531788901 ---> 0.0008693989366292953  )\n",
            "Model Saved\n"
          ]
        },
        {
          "output_type": "stream",
          "name": "stderr",
          "text": [
            "100%|██████████| 577/577 [03:22<00:00,  2.85it/s, Epoch=40, LR=4.27e-6, Train_Loss=0.561, accuracy=0.802, f1=0.755]\n",
            "100%|██████████| 73/73 [00:15<00:00,  4.63it/s, Epoch=40, LR=4.27e-6, Valid_Loss=0.000942, accuracy=1, f1=1]\n"
          ]
        },
        {
          "output_type": "stream",
          "name": "stdout",
          "text": [
            "Valid Loss : 0.0009415273096935492\n"
          ]
        },
        {
          "output_type": "stream",
          "name": "stderr",
          "text": [
            "100%|██████████| 577/577 [03:21<00:00,  2.86it/s, Epoch=41, LR=2.94e-6, Train_Loss=0.55, accuracy=0.818, f1=0.776]\n",
            "100%|██████████| 73/73 [00:15<00:00,  4.63it/s, Epoch=41, LR=2.94e-6, Valid_Loss=0.000858, accuracy=1, f1=1]\n"
          ]
        },
        {
          "output_type": "stream",
          "name": "stdout",
          "text": [
            "Valid Loss : 0.0008581084692021449\n",
            "Validation Loss improved( 0.0008693989366292953 ---> 0.0008581084692021449  )\n",
            "Model Saved\n"
          ]
        },
        {
          "output_type": "stream",
          "name": "stderr",
          "text": [
            "100%|██████████| 577/577 [03:22<00:00,  2.85it/s, Epoch=42, LR=1.63e-6, Train_Loss=0.541, accuracy=0.812, f1=0.768]\n",
            "100%|██████████| 73/73 [00:15<00:00,  4.65it/s, Epoch=42, LR=1.63e-6, Valid_Loss=0.000767, accuracy=1, f1=1]\n"
          ]
        },
        {
          "output_type": "stream",
          "name": "stdout",
          "text": [
            "Valid Loss : 0.000766742584608138\n",
            "Validation Loss improved( 0.0008581084692021449 ---> 0.000766742584608138  )\n",
            "Model Saved\n"
          ]
        },
        {
          "output_type": "stream",
          "name": "stderr",
          "text": [
            "100%|██████████| 577/577 [03:22<00:00,  2.85it/s, Epoch=43, LR=1.01e-6, Train_Loss=0.546, accuracy=0.819, f1=0.772]\n",
            "100%|██████████| 73/73 [00:15<00:00,  4.61it/s, Epoch=43, LR=1.01e-6, Valid_Loss=0.000708, accuracy=1, f1=1]\n"
          ]
        },
        {
          "output_type": "stream",
          "name": "stdout",
          "text": [
            "Valid Loss : 0.0007082129452275495\n",
            "Validation Loss improved( 0.000766742584608138 ---> 0.0007082129452275495  )\n",
            "Model Saved\n"
          ]
        },
        {
          "output_type": "stream",
          "name": "stderr",
          "text": [
            "100%|██████████| 577/577 [03:22<00:00,  2.86it/s, Epoch=44, LR=1.38e-6, Train_Loss=0.548, accuracy=0.826, f1=0.784]\n",
            "100%|██████████| 73/73 [00:15<00:00,  4.61it/s, Epoch=44, LR=1.38e-6, Valid_Loss=0.000764, accuracy=1, f1=1]\n"
          ]
        },
        {
          "output_type": "stream",
          "name": "stdout",
          "text": [
            "Valid Loss : 0.0007638160624917698\n"
          ]
        },
        {
          "output_type": "stream",
          "name": "stderr",
          "text": [
            "100%|██████████| 577/577 [03:22<00:00,  2.85it/s, Epoch=45, LR=2.56e-6, Train_Loss=0.543, accuracy=0.815, f1=0.769]\n",
            "100%|██████████| 73/73 [00:15<00:00,  4.63it/s, Epoch=45, LR=2.56e-6, Valid_Loss=0.000689, accuracy=1, f1=1]\n"
          ]
        },
        {
          "output_type": "stream",
          "name": "stdout",
          "text": [
            "Valid Loss : 0.0006891897004831277\n",
            "Validation Loss improved( 0.0007082129452275495 ---> 0.0006891897004831277  )\n",
            "Model Saved\n"
          ]
        },
        {
          "output_type": "stream",
          "name": "stderr",
          "text": [
            "100%|██████████| 577/577 [03:22<00:00,  2.85it/s, Epoch=46, LR=3.96e-6, Train_Loss=0.536, accuracy=0.831, f1=0.79]\n",
            "100%|██████████| 73/73 [00:15<00:00,  4.61it/s, Epoch=46, LR=3.96e-6, Valid_Loss=0.000882, accuracy=1, f1=1]\n"
          ]
        },
        {
          "output_type": "stream",
          "name": "stdout",
          "text": [
            "Valid Loss : 0.0008821315132081509\n"
          ]
        },
        {
          "output_type": "stream",
          "name": "stderr",
          "text": [
            "100%|██████████| 577/577 [03:21<00:00,  2.86it/s, Epoch=47, LR=4.88e-6, Train_Loss=0.54, accuracy=0.822, f1=0.779]\n",
            "100%|██████████| 73/73 [00:15<00:00,  4.61it/s, Epoch=47, LR=4.88e-6, Valid_Loss=0.000658, accuracy=1, f1=1]\n"
          ]
        },
        {
          "output_type": "stream",
          "name": "stdout",
          "text": [
            "Valid Loss : 0.0006576612897134348\n",
            "Validation Loss improved( 0.0006891897004831277 ---> 0.0006576612897134348  )\n",
            "Model Saved\n"
          ]
        },
        {
          "output_type": "stream",
          "name": "stderr",
          "text": [
            "100%|██████████| 577/577 [03:21<00:00,  2.86it/s, Epoch=48, LR=4.86e-6, Train_Loss=0.541, accuracy=0.813, f1=0.766]\n",
            "100%|██████████| 73/73 [00:15<00:00,  4.63it/s, Epoch=48, LR=4.86e-6, Valid_Loss=0.000701, accuracy=1, f1=1]\n"
          ]
        },
        {
          "output_type": "stream",
          "name": "stdout",
          "text": [
            "Valid Loss : 0.0007010221569830782\n"
          ]
        },
        {
          "output_type": "stream",
          "name": "stderr",
          "text": [
            "100%|██████████| 577/577 [03:22<00:00,  2.85it/s, Epoch=49, LR=3.91e-6, Train_Loss=0.537, accuracy=0.811, f1=0.766]\n",
            "100%|██████████| 73/73 [00:15<00:00,  4.62it/s, Epoch=49, LR=3.91e-6, Valid_Loss=0.000633, accuracy=1, f1=1]\n"
          ]
        },
        {
          "output_type": "stream",
          "name": "stdout",
          "text": [
            "Valid Loss : 0.0006333429283424192\n",
            "Validation Loss improved( 0.0006576612897134348 ---> 0.0006333429283424192  )\n",
            "Model Saved\n"
          ]
        },
        {
          "output_type": "stream",
          "name": "stderr",
          "text": [
            "100%|██████████| 577/577 [03:22<00:00,  2.85it/s, Epoch=50, LR=2.5e-6, Train_Loss=0.528, accuracy=0.813, f1=0.767]\n",
            "100%|██████████| 73/73 [00:15<00:00,  4.61it/s, Epoch=50, LR=2.5e-6, Valid_Loss=0.000573, accuracy=1, f1=1]\n"
          ]
        },
        {
          "output_type": "stream",
          "name": "stdout",
          "text": [
            "Valid Loss : 0.00057297347835903\n",
            "Validation Loss improved( 0.0006333429283424192 ---> 0.00057297347835903  )\n",
            "Model Saved\n"
          ]
        },
        {
          "output_type": "stream",
          "name": "stderr",
          "text": [
            "100%|██████████| 577/577 [03:22<00:00,  2.85it/s, Epoch=51, LR=1.35e-6, Train_Loss=0.543, accuracy=0.82, f1=0.775]\n",
            "100%|██████████| 73/73 [00:15<00:00,  4.61it/s, Epoch=51, LR=1.35e-6, Valid_Loss=0.000627, accuracy=1, f1=1]\n"
          ]
        },
        {
          "output_type": "stream",
          "name": "stdout",
          "text": [
            "Valid Loss : 0.0006265508878915507\n"
          ]
        },
        {
          "output_type": "stream",
          "name": "stderr",
          "text": [
            "100%|██████████| 577/577 [03:22<00:00,  2.85it/s, Epoch=52, LR=1.02e-6, Train_Loss=0.538, accuracy=0.828, f1=0.785]\n",
            "100%|██████████| 73/73 [00:15<00:00,  4.61it/s, Epoch=52, LR=1.02e-6, Valid_Loss=0.000536, accuracy=1, f1=1]\n"
          ]
        },
        {
          "output_type": "stream",
          "name": "stdout",
          "text": [
            "Valid Loss : 0.000535780307597621\n",
            "Validation Loss improved( 0.00057297347835903 ---> 0.000535780307597621  )\n",
            "Model Saved\n"
          ]
        },
        {
          "output_type": "stream",
          "name": "stderr",
          "text": [
            "100%|██████████| 577/577 [03:22<00:00,  2.84it/s, Epoch=53, LR=1.68e-6, Train_Loss=0.532, accuracy=0.833, f1=0.792]\n",
            "100%|██████████| 73/73 [00:15<00:00,  4.61it/s, Epoch=53, LR=1.68e-6, Valid_Loss=0.000518, accuracy=1, f1=1]\n"
          ]
        },
        {
          "output_type": "stream",
          "name": "stdout",
          "text": [
            "Valid Loss : 0.0005179042512294199\n",
            "Validation Loss improved( 0.000535780307597621 ---> 0.0005179042512294199  )\n",
            "Model Saved\n"
          ]
        },
        {
          "output_type": "stream",
          "name": "stderr",
          "text": [
            "100%|██████████| 577/577 [03:23<00:00,  2.84it/s, Epoch=54, LR=3e-6, Train_Loss=0.539, accuracy=0.823, f1=0.78]\n",
            "100%|██████████| 73/73 [00:15<00:00,  4.62it/s, Epoch=54, LR=3e-6, Valid_Loss=0.000563, accuracy=1, f1=1]\n"
          ]
        },
        {
          "output_type": "stream",
          "name": "stdout",
          "text": [
            "Valid Loss : 0.000562668315131753\n"
          ]
        },
        {
          "output_type": "stream",
          "name": "stderr",
          "text": [
            "100%|██████████| 577/577 [03:22<00:00,  2.84it/s, Epoch=55, LR=4.32e-6, Train_Loss=0.543, accuracy=0.818, f1=0.773]\n",
            "100%|██████████| 73/73 [00:15<00:00,  4.61it/s, Epoch=55, LR=4.32e-6, Valid_Loss=0.000463, accuracy=1, f1=1]\n"
          ]
        },
        {
          "output_type": "stream",
          "name": "stdout",
          "text": [
            "Valid Loss : 0.0004625791832900364\n",
            "Validation Loss improved( 0.0005179042512294199 ---> 0.0004625791832900364  )\n",
            "Model Saved\n"
          ]
        },
        {
          "output_type": "stream",
          "name": "stderr",
          "text": [
            "100%|██████████| 577/577 [03:23<00:00,  2.84it/s, Epoch=56, LR=4.98e-6, Train_Loss=0.531, accuracy=0.832, f1=0.787]\n",
            "100%|██████████| 73/73 [00:15<00:00,  4.59it/s, Epoch=56, LR=4.98e-6, Valid_Loss=0.000507, accuracy=1, f1=1]\n"
          ]
        },
        {
          "output_type": "stream",
          "name": "stdout",
          "text": [
            "Valid Loss : 0.0005070784674201492\n"
          ]
        },
        {
          "output_type": "stream",
          "name": "stderr",
          "text": [
            "100%|██████████| 577/577 [03:22<00:00,  2.85it/s, Epoch=57, LR=4.65e-6, Train_Loss=0.529, accuracy=0.828, f1=0.788]\n",
            "100%|██████████| 73/73 [00:15<00:00,  4.61it/s, Epoch=57, LR=4.65e-6, Valid_Loss=0.000456, accuracy=1, f1=1]\n"
          ]
        },
        {
          "output_type": "stream",
          "name": "stdout",
          "text": [
            "Valid Loss : 0.0004556853725249586\n",
            "Validation Loss improved( 0.0004625791832900364 ---> 0.0004556853725249586  )\n",
            "Model Saved\n"
          ]
        },
        {
          "output_type": "stream",
          "name": "stderr",
          "text": [
            "100%|██████████| 577/577 [03:23<00:00,  2.84it/s, Epoch=58, LR=3.5e-6, Train_Loss=0.532, accuracy=0.828, f1=0.787]\n",
            "100%|██████████| 73/73 [00:15<00:00,  4.61it/s, Epoch=58, LR=3.5e-6, Valid_Loss=0.000498, accuracy=1, f1=1]\n"
          ]
        },
        {
          "output_type": "stream",
          "name": "stdout",
          "text": [
            "Valid Loss : 0.0004978401200488618\n"
          ]
        },
        {
          "output_type": "stream",
          "name": "stderr",
          "text": [
            "100%|██████████| 577/577 [03:22<00:00,  2.85it/s, Epoch=59, LR=2.09e-6, Train_Loss=0.538, accuracy=0.824, f1=0.778]\n",
            "100%|██████████| 73/73 [00:15<00:00,  4.63it/s, Epoch=59, LR=2.09e-6, Valid_Loss=0.00051, accuracy=1, f1=1]\n"
          ]
        },
        {
          "output_type": "stream",
          "name": "stdout",
          "text": [
            "Valid Loss : 0.0005095806610706734\n"
          ]
        },
        {
          "output_type": "stream",
          "name": "stderr",
          "text": [
            "100%|██████████| 577/577 [03:22<00:00,  2.85it/s, Epoch=60, LR=1.14e-6, Train_Loss=0.548, accuracy=0.832, f1=0.79]\n",
            "100%|██████████| 73/73 [00:15<00:00,  4.62it/s, Epoch=60, LR=1.14e-6, Valid_Loss=0.000444, accuracy=1, f1=1]\n"
          ]
        },
        {
          "output_type": "stream",
          "name": "stdout",
          "text": [
            "Valid Loss : 0.0004437053853196207\n",
            "Validation Loss improved( 0.0004556853725249586 ---> 0.0004437053853196207  )\n",
            "Model Saved\n"
          ]
        },
        {
          "output_type": "stream",
          "name": "stderr",
          "text": [
            "100%|██████████| 577/577 [03:23<00:00,  2.84it/s, Epoch=61, LR=1.12e-6, Train_Loss=0.525, accuracy=0.842, f1=0.803]\n",
            "100%|██████████| 73/73 [00:15<00:00,  4.61it/s, Epoch=61, LR=1.12e-6, Valid_Loss=0.000478, accuracy=1, f1=1]\n"
          ]
        },
        {
          "output_type": "stream",
          "name": "stdout",
          "text": [
            "Valid Loss : 0.0004781360027527003\n"
          ]
        },
        {
          "output_type": "stream",
          "name": "stderr",
          "text": [
            "100%|██████████| 577/577 [03:22<00:00,  2.84it/s, Epoch=62, LR=2.04e-6, Train_Loss=0.538, accuracy=0.825, f1=0.783]\n",
            "100%|██████████| 73/73 [00:15<00:00,  4.59it/s, Epoch=62, LR=2.04e-6, Valid_Loss=0.000469, accuracy=1, f1=1]\n"
          ]
        },
        {
          "output_type": "stream",
          "name": "stdout",
          "text": [
            "Valid Loss : 0.0004692232967450041\n"
          ]
        },
        {
          "output_type": "stream",
          "name": "stderr",
          "text": [
            "100%|██████████| 577/577 [03:23<00:00,  2.84it/s, Epoch=63, LR=3.44e-6, Train_Loss=0.528, accuracy=0.834, f1=0.792]\n",
            "100%|██████████| 73/73 [00:15<00:00,  4.61it/s, Epoch=63, LR=3.44e-6, Valid_Loss=0.000723, accuracy=1, f1=1]\n"
          ]
        },
        {
          "output_type": "stream",
          "name": "stdout",
          "text": [
            "Valid Loss : 0.0007230285941846414\n"
          ]
        },
        {
          "output_type": "stream",
          "name": "stderr",
          "text": [
            "100%|██████████| 577/577 [03:23<00:00,  2.84it/s, Epoch=64, LR=4.62e-6, Train_Loss=0.528, accuracy=0.833, f1=0.792]\n",
            "100%|██████████| 73/73 [00:15<00:00,  4.62it/s, Epoch=64, LR=4.62e-6, Valid_Loss=0.00048, accuracy=1, f1=1]\n"
          ]
        },
        {
          "output_type": "stream",
          "name": "stdout",
          "text": [
            "Valid Loss : 0.0004802326131962903\n"
          ]
        },
        {
          "output_type": "stream",
          "name": "stderr",
          "text": [
            "100%|██████████| 577/577 [03:23<00:00,  2.84it/s, Epoch=65, LR=4.99e-6, Train_Loss=0.531, accuracy=0.829, f1=0.789]\n",
            "100%|██████████| 73/73 [00:15<00:00,  4.62it/s, Epoch=65, LR=4.99e-6, Valid_Loss=0.000409, accuracy=1, f1=1]\n"
          ]
        },
        {
          "output_type": "stream",
          "name": "stdout",
          "text": [
            "Valid Loss : 0.00040894608038847575\n",
            "Validation Loss improved( 0.0004437053853196207 ---> 0.00040894608038847575  )\n",
            "Model Saved\n"
          ]
        },
        {
          "output_type": "stream",
          "name": "stderr",
          "text": [
            "100%|██████████| 577/577 [03:23<00:00,  2.84it/s, Epoch=66, LR=4.37e-6, Train_Loss=0.524, accuracy=0.831, f1=0.79]\n",
            "100%|██████████| 73/73 [00:15<00:00,  4.58it/s, Epoch=66, LR=4.37e-6, Valid_Loss=0.000559, accuracy=1, f1=1]\n"
          ]
        },
        {
          "output_type": "stream",
          "name": "stdout",
          "text": [
            "Valid Loss : 0.0005594443913376954\n"
          ]
        },
        {
          "output_type": "stream",
          "name": "stderr",
          "text": [
            "100%|██████████| 577/577 [03:22<00:00,  2.85it/s, Epoch=67, LR=3.06e-6, Train_Loss=0.523, accuracy=0.844, f1=0.808]\n",
            "100%|██████████| 73/73 [00:15<00:00,  4.56it/s, Epoch=67, LR=3.06e-6, Valid_Loss=0.000384, accuracy=1, f1=1]\n"
          ]
        },
        {
          "output_type": "stream",
          "name": "stdout",
          "text": [
            "Valid Loss : 0.0003844079811106857\n",
            "Validation Loss improved( 0.00040894608038847575 ---> 0.0003844079811106857  )\n",
            "Model Saved\n"
          ]
        },
        {
          "output_type": "stream",
          "name": "stderr",
          "text": [
            "100%|██████████| 577/577 [03:23<00:00,  2.84it/s, Epoch=68, LR=1.73e-6, Train_Loss=0.519, accuracy=0.837, f1=0.799]\n",
            "100%|██████████| 73/73 [00:15<00:00,  4.59it/s, Epoch=68, LR=1.73e-6, Valid_Loss=0.000348, accuracy=1, f1=1]\n"
          ]
        },
        {
          "output_type": "stream",
          "name": "stdout",
          "text": [
            "Valid Loss : 0.00034757215335920504\n",
            "Validation Loss improved( 0.0003844079811106857 ---> 0.00034757215335920504  )\n",
            "Model Saved\n"
          ]
        },
        {
          "output_type": "stream",
          "name": "stderr",
          "text": [
            "100%|██████████| 577/577 [03:23<00:00,  2.84it/s, Epoch=69, LR=1.02e-6, Train_Loss=0.53, accuracy=0.829, f1=0.785]\n",
            "100%|██████████| 73/73 [00:15<00:00,  4.59it/s, Epoch=69, LR=1.02e-6, Valid_Loss=0.000375, accuracy=1, f1=1]\n"
          ]
        },
        {
          "output_type": "stream",
          "name": "stdout",
          "text": [
            "Valid Loss : 0.000375303913829593\n"
          ]
        },
        {
          "output_type": "stream",
          "name": "stderr",
          "text": [
            "100%|██████████| 577/577 [03:23<00:00,  2.84it/s, Epoch=70, LR=1.31e-6, Train_Loss=0.523, accuracy=0.834, f1=0.797]\n",
            "100%|██████████| 73/73 [00:15<00:00,  4.58it/s, Epoch=70, LR=1.31e-6, Valid_Loss=0.000366, accuracy=1, f1=1]\n"
          ]
        },
        {
          "output_type": "stream",
          "name": "stdout",
          "text": [
            "Valid Loss : 0.0003656989955407095\n"
          ]
        },
        {
          "output_type": "stream",
          "name": "stderr",
          "text": [
            "100%|██████████| 577/577 [03:24<00:00,  2.82it/s, Epoch=71, LR=2.44e-6, Train_Loss=0.532, accuracy=0.837, f1=0.799]\n",
            "100%|██████████| 73/73 [00:15<00:00,  4.59it/s, Epoch=71, LR=2.44e-6, Valid_Loss=0.000496, accuracy=1, f1=1]\n"
          ]
        },
        {
          "output_type": "stream",
          "name": "stdout",
          "text": [
            "Valid Loss : 0.0004957795499151011\n"
          ]
        },
        {
          "output_type": "stream",
          "name": "stderr",
          "text": [
            "100%|██████████| 577/577 [03:23<00:00,  2.84it/s, Epoch=72, LR=3.85e-6, Train_Loss=0.521, accuracy=0.837, f1=0.798]\n",
            "100%|██████████| 73/73 [00:15<00:00,  4.58it/s, Epoch=72, LR=3.85e-6, Valid_Loss=0.000356, accuracy=1, f1=1]\n"
          ]
        },
        {
          "output_type": "stream",
          "name": "stdout",
          "text": [
            "Valid Loss : 0.0003556850988637937\n"
          ]
        },
        {
          "output_type": "stream",
          "name": "stderr",
          "text": [
            "100%|██████████| 577/577 [03:22<00:00,  2.84it/s, Epoch=73, LR=4.84e-6, Train_Loss=0.518, accuracy=0.838, f1=0.798]\n",
            "100%|██████████| 73/73 [00:15<00:00,  4.59it/s, Epoch=73, LR=4.84e-6, Valid_Loss=0.000359, accuracy=1, f1=1]\n"
          ]
        },
        {
          "output_type": "stream",
          "name": "stdout",
          "text": [
            "Valid Loss : 0.0003585913736845226\n"
          ]
        },
        {
          "output_type": "stream",
          "name": "stderr",
          "text": [
            "100%|██████████| 577/577 [03:23<00:00,  2.84it/s, Epoch=74, LR=4.9e-6, Train_Loss=0.535, accuracy=0.832, f1=0.793]\n",
            "100%|██████████| 73/73 [00:15<00:00,  4.60it/s, Epoch=74, LR=4.9e-6, Valid_Loss=0.000365, accuracy=1, f1=1]\n"
          ]
        },
        {
          "output_type": "stream",
          "name": "stdout",
          "text": [
            "Valid Loss : 0.0003650908757875074\n"
          ]
        },
        {
          "output_type": "stream",
          "name": "stderr",
          "text": [
            "100%|██████████| 577/577 [03:21<00:00,  2.86it/s, Epoch=75, LR=4.02e-6, Train_Loss=0.53, accuracy=0.828, f1=0.784]\n",
            "100%|██████████| 73/73 [00:15<00:00,  4.63it/s, Epoch=75, LR=4.02e-6, Valid_Loss=0.000332, accuracy=1, f1=1]\n"
          ]
        },
        {
          "output_type": "stream",
          "name": "stdout",
          "text": [
            "Valid Loss : 0.00033202364622959737\n",
            "Validation Loss improved( 0.00034757215335920504 ---> 0.00033202364622959737  )\n",
            "Model Saved\n"
          ]
        },
        {
          "output_type": "stream",
          "name": "stderr",
          "text": [
            "100%|██████████| 577/577 [03:22<00:00,  2.86it/s, Epoch=76, LR=2.63e-6, Train_Loss=0.527, accuracy=0.837, f1=0.799]\n",
            "100%|██████████| 73/73 [00:15<00:00,  4.61it/s, Epoch=76, LR=2.63e-6, Valid_Loss=0.000318, accuracy=1, f1=1]\n"
          ]
        },
        {
          "output_type": "stream",
          "name": "stdout",
          "text": [
            "Valid Loss : 0.0003183469802622798\n",
            "Validation Loss improved( 0.00033202364622959737 ---> 0.0003183469802622798  )\n",
            "Model Saved\n"
          ]
        },
        {
          "output_type": "stream",
          "name": "stderr",
          "text": [
            "100%|██████████| 577/577 [03:21<00:00,  2.86it/s, Epoch=77, LR=1.42e-6, Train_Loss=0.514, accuracy=0.844, f1=0.805]\n",
            "100%|██████████| 73/73 [00:15<00:00,  4.59it/s, Epoch=77, LR=1.42e-6, Valid_Loss=0.00033, accuracy=1, f1=1]\n"
          ]
        },
        {
          "output_type": "stream",
          "name": "stdout",
          "text": [
            "Valid Loss : 0.00033046822231071557\n"
          ]
        },
        {
          "output_type": "stream",
          "name": "stderr",
          "text": [
            "100%|██████████| 577/577 [03:21<00:00,  2.86it/s, Epoch=78, LR=1e-6, Train_Loss=0.517, accuracy=0.847, f1=0.811]\n",
            "100%|██████████| 73/73 [00:15<00:00,  4.59it/s, Epoch=78, LR=1e-6, Valid_Loss=0.000333, accuracy=1, f1=1]\n"
          ]
        },
        {
          "output_type": "stream",
          "name": "stdout",
          "text": [
            "Valid Loss : 0.00033330358006698014\n"
          ]
        },
        {
          "output_type": "stream",
          "name": "stderr",
          "text": [
            "100%|██████████| 577/577 [03:21<00:00,  2.86it/s, Epoch=79, LR=1.59e-6, Train_Loss=0.518, accuracy=0.836, f1=0.8]\n",
            "100%|██████████| 73/73 [00:15<00:00,  4.62it/s, Epoch=79, LR=1.59e-6, Valid_Loss=0.000333, accuracy=1, f1=1]\n"
          ]
        },
        {
          "output_type": "stream",
          "name": "stdout",
          "text": [
            "Valid Loss : 0.00033322073521621984\n"
          ]
        },
        {
          "output_type": "stream",
          "name": "stderr",
          "text": [
            "100%|██████████| 577/577 [03:23<00:00,  2.84it/s, Epoch=80, LR=2.87e-6, Train_Loss=0.515, accuracy=0.846, f1=0.809]\n",
            "100%|██████████| 73/73 [00:15<00:00,  4.62it/s, Epoch=80, LR=2.87e-6, Valid_Loss=0.00036, accuracy=1, f1=1]\n"
          ]
        },
        {
          "output_type": "stream",
          "name": "stdout",
          "text": [
            "Valid Loss : 0.0003602215725201348\n"
          ]
        },
        {
          "output_type": "stream",
          "name": "stderr",
          "text": [
            "100%|██████████| 577/577 [03:21<00:00,  2.86it/s, Epoch=81, LR=4.23e-6, Train_Loss=0.517, accuracy=0.842, f1=0.803]\n",
            "100%|██████████| 73/73 [00:15<00:00,  4.61it/s, Epoch=81, LR=4.23e-6, Valid_Loss=0.000326, accuracy=1, f1=1]\n"
          ]
        },
        {
          "output_type": "stream",
          "name": "stdout",
          "text": [
            "Valid Loss : 0.0003257591940370095\n"
          ]
        },
        {
          "output_type": "stream",
          "name": "stderr",
          "text": [
            "100%|██████████| 577/577 [03:22<00:00,  2.85it/s, Epoch=82, LR=4.96e-6, Train_Loss=0.515, accuracy=0.841, f1=0.803]\n",
            "100%|██████████| 73/73 [00:15<00:00,  4.61it/s, Epoch=82, LR=4.96e-6, Valid_Loss=0.000299, accuracy=1, f1=1]\n"
          ]
        },
        {
          "output_type": "stream",
          "name": "stdout",
          "text": [
            "Valid Loss : 0.00029922982642733274\n",
            "Validation Loss improved( 0.0003183469802622798 ---> 0.00029922982642733274  )\n",
            "Model Saved\n"
          ]
        },
        {
          "output_type": "stream",
          "name": "stderr",
          "text": [
            "100%|██████████| 577/577 [03:22<00:00,  2.86it/s, Epoch=83, LR=4.72e-6, Train_Loss=0.521, accuracy=0.843, f1=0.805]\n",
            "100%|██████████| 73/73 [00:15<00:00,  4.62it/s, Epoch=83, LR=4.72e-6, Valid_Loss=0.000331, accuracy=1, f1=1]\n"
          ]
        },
        {
          "output_type": "stream",
          "name": "stdout",
          "text": [
            "Valid Loss : 0.00033062153810010074\n"
          ]
        },
        {
          "output_type": "stream",
          "name": "stderr",
          "text": [
            "100%|██████████| 577/577 [03:21<00:00,  2.86it/s, Epoch=84, LR=3.62e-6, Train_Loss=0.522, accuracy=0.846, f1=0.808]\n",
            "100%|██████████| 73/73 [00:15<00:00,  4.62it/s, Epoch=84, LR=3.62e-6, Valid_Loss=0.000283, accuracy=1, f1=1]\n"
          ]
        },
        {
          "output_type": "stream",
          "name": "stdout",
          "text": [
            "Valid Loss : 0.00028315043513031597\n",
            "Validation Loss improved( 0.00029922982642733274 ---> 0.00028315043513031597  )\n",
            "Model Saved\n"
          ]
        },
        {
          "output_type": "stream",
          "name": "stderr",
          "text": [
            "100%|██████████| 577/577 [03:22<00:00,  2.85it/s, Epoch=85, LR=2.21e-6, Train_Loss=0.518, accuracy=0.842, f1=0.806]\n",
            "100%|██████████| 73/73 [00:15<00:00,  4.63it/s, Epoch=85, LR=2.21e-6, Valid_Loss=0.000254, accuracy=1, f1=1]\n"
          ]
        },
        {
          "output_type": "stream",
          "name": "stdout",
          "text": [
            "Valid Loss : 0.00025411996426705067\n",
            "Validation Loss improved( 0.00028315043513031597 ---> 0.00025411996426705067  )\n",
            "Model Saved\n"
          ]
        },
        {
          "output_type": "stream",
          "name": "stderr",
          "text": [
            "100%|██████████| 577/577 [03:22<00:00,  2.85it/s, Epoch=86, LR=1.19e-6, Train_Loss=0.523, accuracy=0.842, f1=0.806]\n",
            "100%|██████████| 73/73 [00:15<00:00,  4.60it/s, Epoch=86, LR=1.19e-6, Valid_Loss=0.000281, accuracy=1, f1=1]\n"
          ]
        },
        {
          "output_type": "stream",
          "name": "stdout",
          "text": [
            "Valid Loss : 0.0002810347798178355\n"
          ]
        },
        {
          "output_type": "stream",
          "name": "stderr",
          "text": [
            "100%|██████████| 577/577 [03:21<00:00,  2.86it/s, Epoch=87, LR=1.08e-6, Train_Loss=0.521, accuracy=0.845, f1=0.806]\n",
            "100%|██████████| 73/73 [00:15<00:00,  4.62it/s, Epoch=87, LR=1.08e-6, Valid_Loss=0.000262, accuracy=1, f1=1]\n"
          ]
        },
        {
          "output_type": "stream",
          "name": "stdout",
          "text": [
            "Valid Loss : 0.0002622384183692478\n"
          ]
        },
        {
          "output_type": "stream",
          "name": "stderr",
          "text": [
            "100%|██████████| 577/577 [03:21<00:00,  2.86it/s, Epoch=88, LR=1.93e-6, Train_Loss=0.509, accuracy=0.843, f1=0.807]\n",
            "100%|██████████| 73/73 [00:15<00:00,  4.61it/s, Epoch=88, LR=1.93e-6, Valid_Loss=0.000262, accuracy=1, f1=1]\n"
          ]
        },
        {
          "output_type": "stream",
          "name": "stdout",
          "text": [
            "Valid Loss : 0.0002618591613710335\n"
          ]
        },
        {
          "output_type": "stream",
          "name": "stderr",
          "text": [
            "100%|██████████| 577/577 [03:21<00:00,  2.86it/s, Epoch=89, LR=3.31e-6, Train_Loss=0.512, accuracy=0.846, f1=0.806]\n",
            "100%|██████████| 73/73 [00:15<00:00,  4.63it/s, Epoch=89, LR=3.31e-6, Valid_Loss=0.000276, accuracy=1, f1=1]\n"
          ]
        },
        {
          "output_type": "stream",
          "name": "stdout",
          "text": [
            "Valid Loss : 0.0002762153579244288\n"
          ]
        },
        {
          "output_type": "stream",
          "name": "stderr",
          "text": [
            "100%|██████████| 577/577 [03:21<00:00,  2.86it/s, Epoch=90, LR=4.54e-6, Train_Loss=0.505, accuracy=0.87, f1=0.84]\n",
            "100%|██████████| 73/73 [00:15<00:00,  4.62it/s, Epoch=90, LR=4.54e-6, Valid_Loss=0.000247, accuracy=1, f1=1]\n"
          ]
        },
        {
          "output_type": "stream",
          "name": "stdout",
          "text": [
            "Valid Loss : 0.00024731897219556245\n",
            "Validation Loss improved( 0.00025411996426705067 ---> 0.00024731897219556245  )\n",
            "Model Saved\n"
          ]
        },
        {
          "output_type": "stream",
          "name": "stderr",
          "text": [
            "100%|██████████| 577/577 [03:21<00:00,  2.86it/s, Epoch=91, LR=5e-6, Train_Loss=0.515, accuracy=0.838, f1=0.802]\n",
            "100%|██████████| 73/73 [00:15<00:00,  4.59it/s, Epoch=91, LR=5e-6, Valid_Loss=0.000261, accuracy=1, f1=1]\n"
          ]
        },
        {
          "output_type": "stream",
          "name": "stdout",
          "text": [
            "Valid Loss : 0.0002609551948023169\n"
          ]
        },
        {
          "output_type": "stream",
          "name": "stderr",
          "text": [
            "100%|██████████| 577/577 [03:21<00:00,  2.86it/s, Epoch=92, LR=4.46e-6, Train_Loss=0.517, accuracy=0.849, f1=0.812]\n",
            "100%|██████████| 73/73 [00:15<00:00,  4.58it/s, Epoch=92, LR=4.46e-6, Valid_Loss=0.000238, accuracy=1, f1=1]\n"
          ]
        },
        {
          "output_type": "stream",
          "name": "stdout",
          "text": [
            "Valid Loss : 0.0002382835925457846\n",
            "Validation Loss improved( 0.00024731897219556245 ---> 0.0002382835925457846  )\n",
            "Model Saved\n"
          ]
        },
        {
          "output_type": "stream",
          "name": "stderr",
          "text": [
            "100%|██████████| 577/577 [03:22<00:00,  2.85it/s, Epoch=93, LR=3.19e-6, Train_Loss=0.524, accuracy=0.853, f1=0.817]\n",
            "100%|██████████| 73/73 [00:15<00:00,  4.61it/s, Epoch=93, LR=3.19e-6, Valid_Loss=0.000295, accuracy=1, f1=1]\n"
          ]
        },
        {
          "output_type": "stream",
          "name": "stdout",
          "text": [
            "Valid Loss : 0.0002954289179984225\n"
          ]
        },
        {
          "output_type": "stream",
          "name": "stderr",
          "text": [
            "100%|██████████| 577/577 [03:22<00:00,  2.86it/s, Epoch=94, LR=1.82e-6, Train_Loss=0.52, accuracy=0.847, f1=0.808]\n",
            "100%|██████████| 73/73 [00:15<00:00,  4.59it/s, Epoch=94, LR=1.82e-6, Valid_Loss=0.000267, accuracy=1, f1=1]\n"
          ]
        },
        {
          "output_type": "stream",
          "name": "stdout",
          "text": [
            "Valid Loss : 0.0002671994515280048\n"
          ]
        },
        {
          "output_type": "stream",
          "name": "stderr",
          "text": [
            "100%|██████████| 577/577 [03:22<00:00,  2.85it/s, Epoch=95, LR=1.05e-6, Train_Loss=0.521, accuracy=0.843, f1=0.807]\n",
            "100%|██████████| 73/73 [00:15<00:00,  4.61it/s, Epoch=95, LR=1.05e-6, Valid_Loss=0.000254, accuracy=1, f1=1]\n"
          ]
        },
        {
          "output_type": "stream",
          "name": "stdout",
          "text": [
            "Valid Loss : 0.0002539787207864072\n"
          ]
        },
        {
          "output_type": "stream",
          "name": "stderr",
          "text": [
            "100%|██████████| 577/577 [03:21<00:00,  2.86it/s, Epoch=96, LR=1.25e-6, Train_Loss=0.517, accuracy=0.848, f1=0.811]\n",
            "100%|██████████| 73/73 [00:15<00:00,  4.62it/s, Epoch=96, LR=1.25e-6, Valid_Loss=0.000232, accuracy=1, f1=1]\n"
          ]
        },
        {
          "output_type": "stream",
          "name": "stdout",
          "text": [
            "Valid Loss : 0.0002323239914154353\n",
            "Validation Loss improved( 0.0002382835925457846 ---> 0.0002323239914154353  )\n",
            "Model Saved\n"
          ]
        },
        {
          "output_type": "stream",
          "name": "stderr",
          "text": [
            "100%|██████████| 577/577 [03:22<00:00,  2.86it/s, Epoch=97, LR=2.32e-6, Train_Loss=0.52, accuracy=0.847, f1=0.811]\n",
            "100%|██████████| 73/73 [00:15<00:00,  4.61it/s, Epoch=97, LR=2.32e-6, Valid_Loss=0.00023, accuracy=1, f1=1]\n"
          ]
        },
        {
          "output_type": "stream",
          "name": "stdout",
          "text": [
            "Valid Loss : 0.00023029336025252658\n",
            "Validation Loss improved( 0.0002323239914154353 ---> 0.00023029336025252658  )\n",
            "Model Saved\n"
          ]
        },
        {
          "output_type": "stream",
          "name": "stderr",
          "text": [
            "100%|██████████| 577/577 [03:22<00:00,  2.86it/s, Epoch=98, LR=3.74e-6, Train_Loss=0.516, accuracy=0.851, f1=0.814]\n",
            "100%|██████████| 73/73 [00:15<00:00,  4.61it/s, Epoch=98, LR=3.74e-6, Valid_Loss=0.000248, accuracy=1, f1=1]\n"
          ]
        },
        {
          "output_type": "stream",
          "name": "stdout",
          "text": [
            "Valid Loss : 0.00024847977528386837\n"
          ]
        },
        {
          "output_type": "stream",
          "name": "stderr",
          "text": [
            "100%|██████████| 577/577 [03:22<00:00,  2.85it/s, Epoch=99, LR=4.78e-6, Train_Loss=0.514, accuracy=0.843, f1=0.805]\n",
            "100%|██████████| 73/73 [00:15<00:00,  4.62it/s, Epoch=99, LR=4.78e-6, Valid_Loss=0.000264, accuracy=1, f1=1]\n"
          ]
        },
        {
          "output_type": "stream",
          "name": "stdout",
          "text": [
            "Valid Loss : 0.0002640042211206579\n"
          ]
        },
        {
          "output_type": "stream",
          "name": "stderr",
          "text": [
            "100%|██████████| 577/577 [03:21<00:00,  2.87it/s, Epoch=100, LR=4.94e-6, Train_Loss=0.514, accuracy=0.841, f1=0.804]\n",
            "100%|██████████| 73/73 [00:15<00:00,  4.63it/s, Epoch=100, LR=4.94e-6, Valid_Loss=0.000219, accuracy=1, f1=1]\n"
          ]
        },
        {
          "output_type": "stream",
          "name": "stdout",
          "text": [
            "Valid Loss : 0.0002191268989644077\n",
            "Validation Loss improved( 0.00023029336025252658 ---> 0.0002191268989644077  )\n",
            "Model Saved\n"
          ]
        },
        {
          "output_type": "stream",
          "name": "stderr",
          "text": [
            "100%|██████████| 577/577 [03:22<00:00,  2.85it/s, Epoch=101, LR=4.12e-6, Train_Loss=0.515, accuracy=0.858, f1=0.823]\n",
            "100%|██████████| 73/73 [00:15<00:00,  4.59it/s, Epoch=101, LR=4.12e-6, Valid_Loss=0.000229, accuracy=1, f1=1]\n"
          ]
        },
        {
          "output_type": "stream",
          "name": "stdout",
          "text": [
            "Valid Loss : 0.00022883223902357564\n"
          ]
        },
        {
          "output_type": "stream",
          "name": "stderr",
          "text": [
            "100%|██████████| 577/577 [03:22<00:00,  2.85it/s, Epoch=102, LR=2.75e-6, Train_Loss=0.513, accuracy=0.847, f1=0.811]\n",
            "100%|██████████| 73/73 [00:15<00:00,  4.61it/s, Epoch=102, LR=2.75e-6, Valid_Loss=0.000224, accuracy=1, f1=1]\n"
          ]
        },
        {
          "output_type": "stream",
          "name": "stdout",
          "text": [
            "Valid Loss : 0.00022362033283969464\n"
          ]
        },
        {
          "output_type": "stream",
          "name": "stderr",
          "text": [
            "100%|██████████| 577/577 [03:21<00:00,  2.86it/s, Epoch=103, LR=1.5e-6, Train_Loss=0.507, accuracy=0.853, f1=0.818]\n",
            "100%|██████████| 73/73 [00:15<00:00,  4.61it/s, Epoch=103, LR=1.5e-6, Valid_Loss=0.000212, accuracy=1, f1=1]\n"
          ]
        },
        {
          "output_type": "stream",
          "name": "stdout",
          "text": [
            "Valid Loss : 0.00021173470364149966\n",
            "Validation Loss improved( 0.0002191268989644077 ---> 0.00021173470364149966  )\n",
            "Model Saved\n"
          ]
        },
        {
          "output_type": "stream",
          "name": "stderr",
          "text": [
            "100%|██████████| 577/577 [03:21<00:00,  2.86it/s, Epoch=104, LR=1e-6, Train_Loss=0.508, accuracy=0.864, f1=0.833]\n",
            "100%|██████████| 73/73 [00:15<00:00,  4.63it/s, Epoch=104, LR=1e-6, Valid_Loss=0.000202, accuracy=1, f1=1]\n"
          ]
        },
        {
          "output_type": "stream",
          "name": "stdout",
          "text": [
            "Valid Loss : 0.0002020336699525328\n",
            "Validation Loss improved( 0.00021173470364149966 ---> 0.0002020336699525328  )\n",
            "Model Saved\n"
          ]
        },
        {
          "output_type": "stream",
          "name": "stderr",
          "text": [
            "100%|██████████| 577/577 [03:21<00:00,  2.86it/s, Epoch=105, LR=1.5e-6, Train_Loss=0.524, accuracy=0.85, f1=0.813]\n",
            "100%|██████████| 73/73 [00:15<00:00,  4.61it/s, Epoch=105, LR=1.5e-6, Valid_Loss=0.000213, accuracy=1, f1=1]\n"
          ]
        },
        {
          "output_type": "stream",
          "name": "stdout",
          "text": [
            "Valid Loss : 0.000212597331209172\n"
          ]
        },
        {
          "output_type": "stream",
          "name": "stderr",
          "text": [
            "100%|██████████| 577/577 [03:22<00:00,  2.85it/s, Epoch=106, LR=2.75e-6, Train_Loss=0.511, accuracy=0.853, f1=0.817]\n",
            "100%|██████████| 73/73 [00:15<00:00,  4.60it/s, Epoch=106, LR=2.75e-6, Valid_Loss=0.000288, accuracy=1, f1=1]\n"
          ]
        },
        {
          "output_type": "stream",
          "name": "stdout",
          "text": [
            "Valid Loss : 0.00028758568745840035\n"
          ]
        },
        {
          "output_type": "stream",
          "name": "stderr",
          "text": [
            "100%|██████████| 577/577 [03:21<00:00,  2.86it/s, Epoch=107, LR=4.12e-6, Train_Loss=0.516, accuracy=0.853, f1=0.819]\n",
            "100%|██████████| 73/73 [00:15<00:00,  4.60it/s, Epoch=107, LR=4.12e-6, Valid_Loss=0.000225, accuracy=1, f1=1]\n"
          ]
        },
        {
          "output_type": "stream",
          "name": "stdout",
          "text": [
            "Valid Loss : 0.0002248918707203439\n"
          ]
        },
        {
          "output_type": "stream",
          "name": "stderr",
          "text": [
            "100%|██████████| 577/577 [03:21<00:00,  2.86it/s, Epoch=108, LR=4.94e-6, Train_Loss=0.507, accuracy=0.854, f1=0.82]\n",
            "100%|██████████| 73/73 [00:15<00:00,  4.61it/s, Epoch=108, LR=4.94e-6, Valid_Loss=0.000187, accuracy=1, f1=1]\n"
          ]
        },
        {
          "output_type": "stream",
          "name": "stdout",
          "text": [
            "Valid Loss : 0.0001868401024744157\n",
            "Validation Loss improved( 0.0002020336699525328 ---> 0.0001868401024744157  )\n",
            "Model Saved\n"
          ]
        },
        {
          "output_type": "stream",
          "name": "stderr",
          "text": [
            "100%|██████████| 577/577 [03:21<00:00,  2.86it/s, Epoch=109, LR=4.78e-6, Train_Loss=0.503, accuracy=0.864, f1=0.83]\n",
            "100%|██████████| 73/73 [00:15<00:00,  4.60it/s, Epoch=109, LR=4.78e-6, Valid_Loss=0.000191, accuracy=1, f1=1]\n"
          ]
        },
        {
          "output_type": "stream",
          "name": "stdout",
          "text": [
            "Valid Loss : 0.00019145446774878296\n"
          ]
        },
        {
          "output_type": "stream",
          "name": "stderr",
          "text": [
            "100%|██████████| 577/577 [03:22<00:00,  2.86it/s, Epoch=110, LR=3.74e-6, Train_Loss=0.514, accuracy=0.85, f1=0.814]\n",
            "100%|██████████| 73/73 [00:15<00:00,  4.62it/s, Epoch=110, LR=3.74e-6, Valid_Loss=0.000189, accuracy=1, f1=1]\n"
          ]
        },
        {
          "output_type": "stream",
          "name": "stdout",
          "text": [
            "Valid Loss : 0.00018895476975172045\n"
          ]
        },
        {
          "output_type": "stream",
          "name": "stderr",
          "text": [
            "100%|██████████| 577/577 [03:22<00:00,  2.85it/s, Epoch=111, LR=2.32e-6, Train_Loss=0.507, accuracy=0.867, f1=0.838]\n",
            "100%|██████████| 73/73 [00:15<00:00,  4.61it/s, Epoch=111, LR=2.32e-6, Valid_Loss=0.000185, accuracy=1, f1=1]\n"
          ]
        },
        {
          "output_type": "stream",
          "name": "stdout",
          "text": [
            "Valid Loss : 0.00018482179997316627\n",
            "Validation Loss improved( 0.0001868401024744157 ---> 0.00018482179997316627  )\n",
            "Model Saved\n"
          ]
        },
        {
          "output_type": "stream",
          "name": "stderr",
          "text": [
            "100%|██████████| 577/577 [03:22<00:00,  2.85it/s, Epoch=112, LR=1.25e-6, Train_Loss=0.507, accuracy=0.855, f1=0.823]\n",
            "100%|██████████| 73/73 [00:15<00:00,  4.60it/s, Epoch=112, LR=1.25e-6, Valid_Loss=0.000176, accuracy=1, f1=1]\n"
          ]
        },
        {
          "output_type": "stream",
          "name": "stdout",
          "text": [
            "Valid Loss : 0.00017636636667167258\n",
            "Validation Loss improved( 0.00018482179997316627 ---> 0.00017636636667167258  )\n",
            "Model Saved\n"
          ]
        },
        {
          "output_type": "stream",
          "name": "stderr",
          "text": [
            "100%|██████████| 577/577 [03:22<00:00,  2.85it/s, Epoch=113, LR=1.05e-6, Train_Loss=0.506, accuracy=0.855, f1=0.82]\n",
            "100%|██████████| 73/73 [00:15<00:00,  4.60it/s, Epoch=113, LR=1.05e-6, Valid_Loss=0.000158, accuracy=1, f1=1]\n"
          ]
        },
        {
          "output_type": "stream",
          "name": "stdout",
          "text": [
            "Valid Loss : 0.000157565123553879\n",
            "Validation Loss improved( 0.00017636636667167258 ---> 0.000157565123553879  )\n",
            "Model Saved\n"
          ]
        },
        {
          "output_type": "stream",
          "name": "stderr",
          "text": [
            "100%|██████████| 577/577 [03:23<00:00,  2.83it/s, Epoch=114, LR=1.82e-6, Train_Loss=0.506, accuracy=0.851, f1=0.817]\n",
            "100%|██████████| 73/73 [00:15<00:00,  4.62it/s, Epoch=114, LR=1.82e-6, Valid_Loss=0.000184, accuracy=1, f1=1]\n"
          ]
        },
        {
          "output_type": "stream",
          "name": "stdout",
          "text": [
            "Valid Loss : 0.00018392137480239474\n"
          ]
        },
        {
          "output_type": "stream",
          "name": "stderr",
          "text": [
            "100%|██████████| 577/577 [03:23<00:00,  2.84it/s, Epoch=115, LR=3.19e-6, Train_Loss=0.504, accuracy=0.857, f1=0.823]\n",
            "100%|██████████| 73/73 [00:16<00:00,  4.56it/s, Epoch=115, LR=3.19e-6, Valid_Loss=0.000182, accuracy=1, f1=1]\n"
          ]
        },
        {
          "output_type": "stream",
          "name": "stdout",
          "text": [
            "Valid Loss : 0.00018185235857756248\n"
          ]
        },
        {
          "output_type": "stream",
          "name": "stderr",
          "text": [
            "100%|██████████| 577/577 [03:23<00:00,  2.84it/s, Epoch=116, LR=4.46e-6, Train_Loss=0.516, accuracy=0.858, f1=0.823]\n",
            "100%|██████████| 73/73 [00:15<00:00,  4.59it/s, Epoch=116, LR=4.46e-6, Valid_Loss=0.000173, accuracy=1, f1=1]\n"
          ]
        },
        {
          "output_type": "stream",
          "name": "stdout",
          "text": [
            "Valid Loss : 0.00017259718271367863\n"
          ]
        },
        {
          "output_type": "stream",
          "name": "stderr",
          "text": [
            "100%|██████████| 577/577 [03:22<00:00,  2.85it/s, Epoch=117, LR=5e-6, Train_Loss=0.511, accuracy=0.86, f1=0.827]\n",
            "100%|██████████| 73/73 [00:15<00:00,  4.59it/s, Epoch=117, LR=5e-6, Valid_Loss=0.000163, accuracy=1, f1=1]\n"
          ]
        },
        {
          "output_type": "stream",
          "name": "stdout",
          "text": [
            "Valid Loss : 0.00016268616787808602\n"
          ]
        },
        {
          "output_type": "stream",
          "name": "stderr",
          "text": [
            "100%|██████████| 577/577 [03:22<00:00,  2.85it/s, Epoch=118, LR=4.54e-6, Train_Loss=0.5, accuracy=0.868, f1=0.837]\n",
            "100%|██████████| 73/73 [00:15<00:00,  4.58it/s, Epoch=118, LR=4.54e-6, Valid_Loss=0.000172, accuracy=1, f1=1]\n"
          ]
        },
        {
          "output_type": "stream",
          "name": "stdout",
          "text": [
            "Valid Loss : 0.00017219576245087697\n"
          ]
        },
        {
          "output_type": "stream",
          "name": "stderr",
          "text": [
            "100%|██████████| 577/577 [03:22<00:00,  2.85it/s, Epoch=119, LR=3.31e-6, Train_Loss=0.495, accuracy=0.864, f1=0.831]\n",
            "100%|██████████| 73/73 [00:15<00:00,  4.61it/s, Epoch=119, LR=3.31e-6, Valid_Loss=0.000162, accuracy=1, f1=1]\n"
          ]
        },
        {
          "output_type": "stream",
          "name": "stdout",
          "text": [
            "Valid Loss : 0.0001624652629276444\n"
          ]
        },
        {
          "output_type": "stream",
          "name": "stderr",
          "text": [
            "100%|██████████| 577/577 [03:22<00:00,  2.85it/s, Epoch=120, LR=1.93e-6, Train_Loss=0.504, accuracy=0.853, f1=0.82]\n",
            "100%|██████████| 73/73 [00:15<00:00,  4.61it/s, Epoch=120, LR=1.93e-6, Valid_Loss=0.000159, accuracy=1, f1=1]\n"
          ]
        },
        {
          "output_type": "stream",
          "name": "stdout",
          "text": [
            "Valid Loss : 0.00015897677345392741\n"
          ]
        },
        {
          "output_type": "stream",
          "name": "stderr",
          "text": [
            "100%|██████████| 577/577 [03:22<00:00,  2.84it/s, Epoch=121, LR=1.08e-6, Train_Loss=0.502, accuracy=0.867, f1=0.835]\n",
            "100%|██████████| 73/73 [00:15<00:00,  4.60it/s, Epoch=121, LR=1.08e-6, Valid_Loss=0.000161, accuracy=1, f1=1]\n"
          ]
        },
        {
          "output_type": "stream",
          "name": "stdout",
          "text": [
            "Valid Loss : 0.00016066710668383166\n"
          ]
        },
        {
          "output_type": "stream",
          "name": "stderr",
          "text": [
            "100%|██████████| 577/577 [03:22<00:00,  2.85it/s, Epoch=122, LR=1.19e-6, Train_Loss=0.504, accuracy=0.845, f1=0.809]\n",
            "100%|██████████| 73/73 [00:15<00:00,  4.59it/s, Epoch=122, LR=1.19e-6, Valid_Loss=0.000143, accuracy=1, f1=1]\n"
          ]
        },
        {
          "output_type": "stream",
          "name": "stdout",
          "text": [
            "Valid Loss : 0.00014332974587139764\n",
            "Validation Loss improved( 0.000157565123553879 ---> 0.00014332974587139764  )\n",
            "Model Saved\n"
          ]
        },
        {
          "output_type": "stream",
          "name": "stderr",
          "text": [
            "100%|██████████| 577/577 [03:23<00:00,  2.84it/s, Epoch=123, LR=2.21e-6, Train_Loss=0.511, accuracy=0.856, f1=0.82]\n",
            "100%|██████████| 73/73 [00:15<00:00,  4.60it/s, Epoch=123, LR=2.21e-6, Valid_Loss=0.000195, accuracy=1, f1=1]\n"
          ]
        },
        {
          "output_type": "stream",
          "name": "stdout",
          "text": [
            "Valid Loss : 0.0001950291705426237\n"
          ]
        },
        {
          "output_type": "stream",
          "name": "stderr",
          "text": [
            "100%|██████████| 577/577 [03:22<00:00,  2.84it/s, Epoch=124, LR=3.62e-6, Train_Loss=0.509, accuracy=0.856, f1=0.823]\n",
            "100%|██████████| 73/73 [00:15<00:00,  4.61it/s, Epoch=124, LR=3.62e-6, Valid_Loss=0.000165, accuracy=1, f1=1]\n"
          ]
        },
        {
          "output_type": "stream",
          "name": "stdout",
          "text": [
            "Valid Loss : 0.00016465228561659612\n"
          ]
        },
        {
          "output_type": "stream",
          "name": "stderr",
          "text": [
            "100%|██████████| 577/577 [03:23<00:00,  2.84it/s, Epoch=125, LR=4.72e-6, Train_Loss=0.504, accuracy=0.858, f1=0.824]\n",
            "100%|██████████| 73/73 [00:15<00:00,  4.59it/s, Epoch=125, LR=4.72e-6, Valid_Loss=0.000148, accuracy=1, f1=1]\n"
          ]
        },
        {
          "output_type": "stream",
          "name": "stdout",
          "text": [
            "Valid Loss : 0.00014762052319695126\n"
          ]
        },
        {
          "output_type": "stream",
          "name": "stderr",
          "text": [
            "100%|██████████| 577/577 [03:22<00:00,  2.85it/s, Epoch=126, LR=4.96e-6, Train_Loss=0.498, accuracy=0.862, f1=0.831]\n",
            "100%|██████████| 73/73 [00:15<00:00,  4.58it/s, Epoch=126, LR=4.96e-6, Valid_Loss=0.000136, accuracy=1, f1=1]\n"
          ]
        },
        {
          "output_type": "stream",
          "name": "stdout",
          "text": [
            "Valid Loss : 0.00013597617501931978\n",
            "Validation Loss improved( 0.00014332974587139764 ---> 0.00013597617501931978  )\n",
            "Model Saved\n"
          ]
        },
        {
          "output_type": "stream",
          "name": "stderr",
          "text": [
            "100%|██████████| 577/577 [03:24<00:00,  2.83it/s, Epoch=127, LR=4.23e-6, Train_Loss=0.498, accuracy=0.851, f1=0.816]\n",
            "100%|██████████| 73/73 [00:15<00:00,  4.58it/s, Epoch=127, LR=4.23e-6, Valid_Loss=0.000122, accuracy=1, f1=1]\n"
          ]
        },
        {
          "output_type": "stream",
          "name": "stdout",
          "text": [
            "Valid Loss : 0.00012228298236214083\n",
            "Validation Loss improved( 0.00013597617501931978 ---> 0.00012228298236214083  )\n",
            "Model Saved\n"
          ]
        },
        {
          "output_type": "stream",
          "name": "stderr",
          "text": [
            "100%|██████████| 577/577 [03:24<00:00,  2.82it/s, Epoch=128, LR=2.87e-6, Train_Loss=0.506, accuracy=0.845, f1=0.809]\n",
            "100%|██████████| 73/73 [00:16<00:00,  4.53it/s, Epoch=128, LR=2.87e-6, Valid_Loss=0.000137, accuracy=1, f1=1]\n"
          ]
        },
        {
          "output_type": "stream",
          "name": "stdout",
          "text": [
            "Valid Loss : 0.00013704377897115654\n"
          ]
        },
        {
          "output_type": "stream",
          "name": "stderr",
          "text": [
            "100%|██████████| 577/577 [03:23<00:00,  2.84it/s, Epoch=129, LR=1.59e-6, Train_Loss=0.51, accuracy=0.858, f1=0.826]\n",
            "100%|██████████| 73/73 [00:15<00:00,  4.57it/s, Epoch=129, LR=1.59e-6, Valid_Loss=0.00015, accuracy=1, f1=1]\n"
          ]
        },
        {
          "output_type": "stream",
          "name": "stdout",
          "text": [
            "Valid Loss : 0.00015027283390661803\n"
          ]
        },
        {
          "output_type": "stream",
          "name": "stderr",
          "text": [
            "100%|██████████| 577/577 [03:23<00:00,  2.84it/s, Epoch=130, LR=1e-6, Train_Loss=0.501, accuracy=0.865, f1=0.833]\n",
            "100%|██████████| 73/73 [00:15<00:00,  4.58it/s, Epoch=130, LR=1e-6, Valid_Loss=0.000128, accuracy=1, f1=1]\n"
          ]
        },
        {
          "output_type": "stream",
          "name": "stdout",
          "text": [
            "Valid Loss : 0.00012836265822231438\n"
          ]
        },
        {
          "output_type": "stream",
          "name": "stderr",
          "text": [
            "100%|██████████| 577/577 [03:21<00:00,  2.86it/s, Epoch=131, LR=1.42e-6, Train_Loss=0.512, accuracy=0.854, f1=0.819]\n",
            "100%|██████████| 73/73 [00:15<00:00,  4.59it/s, Epoch=131, LR=1.42e-6, Valid_Loss=0.000128, accuracy=1, f1=1]\n"
          ]
        },
        {
          "output_type": "stream",
          "name": "stdout",
          "text": [
            "Valid Loss : 0.00012812362696771343\n"
          ]
        },
        {
          "output_type": "stream",
          "name": "stderr",
          "text": [
            "100%|██████████| 577/577 [03:22<00:00,  2.85it/s, Epoch=132, LR=2.63e-6, Train_Loss=0.502, accuracy=0.865, f1=0.833]\n",
            "100%|██████████| 73/73 [00:15<00:00,  4.58it/s, Epoch=132, LR=2.63e-6, Valid_Loss=0.000132, accuracy=1, f1=1]\n"
          ]
        },
        {
          "output_type": "stream",
          "name": "stdout",
          "text": [
            "Valid Loss : 0.0001321408580884988\n"
          ]
        },
        {
          "output_type": "stream",
          "name": "stderr",
          "text": [
            "100%|██████████| 577/577 [03:22<00:00,  2.85it/s, Epoch=133, LR=4.02e-6, Train_Loss=0.508, accuracy=0.859, f1=0.827]\n",
            "100%|██████████| 73/73 [00:15<00:00,  4.59it/s, Epoch=133, LR=4.02e-6, Valid_Loss=0.000151, accuracy=1, f1=1]\n"
          ]
        },
        {
          "output_type": "stream",
          "name": "stdout",
          "text": [
            "Valid Loss : 0.00015140805522630577\n"
          ]
        },
        {
          "output_type": "stream",
          "name": "stderr",
          "text": [
            "100%|██████████| 577/577 [03:22<00:00,  2.84it/s, Epoch=134, LR=4.9e-6, Train_Loss=0.505, accuracy=0.869, f1=0.835]\n",
            "100%|██████████| 73/73 [00:15<00:00,  4.58it/s, Epoch=134, LR=4.9e-6, Valid_Loss=0.000172, accuracy=1, f1=1]\n"
          ]
        },
        {
          "output_type": "stream",
          "name": "stdout",
          "text": [
            "Valid Loss : 0.00017229582989199265\n"
          ]
        },
        {
          "output_type": "stream",
          "name": "stderr",
          "text": [
            "100%|██████████| 577/577 [03:22<00:00,  2.84it/s, Epoch=135, LR=4.84e-6, Train_Loss=0.503, accuracy=0.868, f1=0.837]\n",
            "100%|██████████| 73/73 [00:15<00:00,  4.58it/s, Epoch=135, LR=4.84e-6, Valid_Loss=0.000126, accuracy=1, f1=1]\n"
          ]
        },
        {
          "output_type": "stream",
          "name": "stdout",
          "text": [
            "Valid Loss : 0.00012648960735731798\n"
          ]
        },
        {
          "output_type": "stream",
          "name": "stderr",
          "text": [
            "100%|██████████| 577/577 [03:22<00:00,  2.85it/s, Epoch=136, LR=3.85e-6, Train_Loss=0.504, accuracy=0.867, f1=0.837]\n",
            "100%|██████████| 73/73 [00:15<00:00,  4.57it/s, Epoch=136, LR=3.85e-6, Valid_Loss=0.000138, accuracy=1, f1=1]\n"
          ]
        },
        {
          "output_type": "stream",
          "name": "stdout",
          "text": [
            "Valid Loss : 0.0001378879069680769\n"
          ]
        },
        {
          "output_type": "stream",
          "name": "stderr",
          "text": [
            "100%|██████████| 577/577 [03:23<00:00,  2.83it/s, Epoch=137, LR=2.44e-6, Train_Loss=0.494, accuracy=0.869, f1=0.839]\n",
            "100%|██████████| 73/73 [00:15<00:00,  4.57it/s, Epoch=137, LR=2.44e-6, Valid_Loss=0.00014, accuracy=1, f1=1]\n"
          ]
        },
        {
          "output_type": "stream",
          "name": "stdout",
          "text": [
            "Valid Loss : 0.0001404207537296764\n"
          ]
        },
        {
          "output_type": "stream",
          "name": "stderr",
          "text": [
            "100%|██████████| 577/577 [03:22<00:00,  2.85it/s, Epoch=138, LR=1.31e-6, Train_Loss=0.505, accuracy=0.863, f1=0.829]\n",
            "100%|██████████| 73/73 [00:15<00:00,  4.59it/s, Epoch=138, LR=1.31e-6, Valid_Loss=0.00013, accuracy=1, f1=1]\n"
          ]
        },
        {
          "output_type": "stream",
          "name": "stdout",
          "text": [
            "Valid Loss : 0.00012967644788784116\n"
          ]
        },
        {
          "output_type": "stream",
          "name": "stderr",
          "text": [
            "100%|██████████| 577/577 [03:22<00:00,  2.85it/s, Epoch=139, LR=1.02e-6, Train_Loss=0.497, accuracy=0.864, f1=0.835]\n",
            "100%|██████████| 73/73 [00:15<00:00,  4.58it/s, Epoch=139, LR=1.02e-6, Valid_Loss=0.000138, accuracy=1, f1=1]\n"
          ]
        },
        {
          "output_type": "stream",
          "name": "stdout",
          "text": [
            "Valid Loss : 0.0001383217655430063\n"
          ]
        },
        {
          "output_type": "stream",
          "name": "stderr",
          "text": [
            "100%|██████████| 577/577 [03:22<00:00,  2.85it/s, Epoch=140, LR=1.73e-6, Train_Loss=0.501, accuracy=0.864, f1=0.833]\n",
            "100%|██████████| 73/73 [00:15<00:00,  4.61it/s, Epoch=140, LR=1.73e-6, Valid_Loss=0.000118, accuracy=1, f1=1]\n"
          ]
        },
        {
          "output_type": "stream",
          "name": "stdout",
          "text": [
            "Valid Loss : 0.00011797893418825219\n",
            "Validation Loss improved( 0.00012228298236214083 ---> 0.00011797893418825219  )\n",
            "Model Saved\n"
          ]
        },
        {
          "output_type": "stream",
          "name": "stderr",
          "text": [
            "100%|██████████| 577/577 [03:22<00:00,  2.84it/s, Epoch=141, LR=3.06e-6, Train_Loss=0.506, accuracy=0.867, f1=0.836]\n",
            "100%|██████████| 73/73 [00:15<00:00,  4.57it/s, Epoch=141, LR=3.06e-6, Valid_Loss=0.000132, accuracy=1, f1=1]\n"
          ]
        },
        {
          "output_type": "stream",
          "name": "stdout",
          "text": [
            "Valid Loss : 0.00013158058981675884\n"
          ]
        },
        {
          "output_type": "stream",
          "name": "stderr",
          "text": [
            "100%|██████████| 577/577 [03:22<00:00,  2.85it/s, Epoch=142, LR=4.37e-6, Train_Loss=0.506, accuracy=0.867, f1=0.835]\n",
            "100%|██████████| 73/73 [00:15<00:00,  4.60it/s, Epoch=142, LR=4.37e-6, Valid_Loss=0.000123, accuracy=1, f1=1]\n"
          ]
        },
        {
          "output_type": "stream",
          "name": "stdout",
          "text": [
            "Valid Loss : 0.0001229710971828142\n"
          ]
        },
        {
          "output_type": "stream",
          "name": "stderr",
          "text": [
            "100%|██████████| 577/577 [03:22<00:00,  2.85it/s, Epoch=143, LR=4.99e-6, Train_Loss=0.504, accuracy=0.854, f1=0.818]\n",
            "100%|██████████| 73/73 [00:15<00:00,  4.59it/s, Epoch=143, LR=4.99e-6, Valid_Loss=0.000136, accuracy=1, f1=1]\n"
          ]
        },
        {
          "output_type": "stream",
          "name": "stdout",
          "text": [
            "Valid Loss : 0.00013635668966182417\n"
          ]
        },
        {
          "output_type": "stream",
          "name": "stderr",
          "text": [
            "100%|██████████| 577/577 [03:22<00:00,  2.85it/s, Epoch=144, LR=4.62e-6, Train_Loss=0.508, accuracy=0.868, f1=0.839]\n",
            "100%|██████████| 73/73 [00:15<00:00,  4.59it/s, Epoch=144, LR=4.62e-6, Valid_Loss=0.000114, accuracy=1, f1=1]\n"
          ]
        },
        {
          "output_type": "stream",
          "name": "stdout",
          "text": [
            "Valid Loss : 0.00011426284678012438\n",
            "Validation Loss improved( 0.00011797893418825219 ---> 0.00011426284678012438  )\n",
            "Model Saved\n"
          ]
        },
        {
          "output_type": "stream",
          "name": "stderr",
          "text": [
            "100%|██████████| 577/577 [03:23<00:00,  2.84it/s, Epoch=145, LR=3.44e-6, Train_Loss=0.501, accuracy=0.861, f1=0.829]\n",
            "100%|██████████| 73/73 [00:15<00:00,  4.59it/s, Epoch=145, LR=3.44e-6, Valid_Loss=0.000116, accuracy=1, f1=1]\n"
          ]
        },
        {
          "output_type": "stream",
          "name": "stdout",
          "text": [
            "Valid Loss : 0.00011631322259957302\n"
          ]
        },
        {
          "output_type": "stream",
          "name": "stderr",
          "text": [
            "100%|██████████| 577/577 [03:23<00:00,  2.84it/s, Epoch=146, LR=2.04e-6, Train_Loss=0.5, accuracy=0.865, f1=0.831]\n",
            "100%|██████████| 73/73 [00:15<00:00,  4.61it/s, Epoch=146, LR=2.04e-6, Valid_Loss=0.000117, accuracy=1, f1=1]\n"
          ]
        },
        {
          "output_type": "stream",
          "name": "stdout",
          "text": [
            "Valid Loss : 0.00011732577336696933\n"
          ]
        },
        {
          "output_type": "stream",
          "name": "stderr",
          "text": [
            "100%|██████████| 577/577 [03:22<00:00,  2.84it/s, Epoch=147, LR=1.12e-6, Train_Loss=0.515, accuracy=0.872, f1=0.843]\n",
            "100%|██████████| 73/73 [00:15<00:00,  4.58it/s, Epoch=147, LR=1.12e-6, Valid_Loss=0.000109, accuracy=1, f1=1]\n"
          ]
        },
        {
          "output_type": "stream",
          "name": "stdout",
          "text": [
            "Valid Loss : 0.00010928567943453458\n",
            "Validation Loss improved( 0.00011426284678012438 ---> 0.00010928567943453458  )\n",
            "Model Saved\n"
          ]
        },
        {
          "output_type": "stream",
          "name": "stderr",
          "text": [
            "100%|██████████| 577/577 [03:22<00:00,  2.84it/s, Epoch=148, LR=1.14e-6, Train_Loss=0.49, accuracy=0.874, f1=0.842]\n",
            "100%|██████████| 73/73 [00:15<00:00,  4.58it/s, Epoch=148, LR=1.14e-6, Valid_Loss=0.000122, accuracy=1, f1=1]\n"
          ]
        },
        {
          "output_type": "stream",
          "name": "stdout",
          "text": [
            "Valid Loss : 0.0001223295427099738\n"
          ]
        },
        {
          "output_type": "stream",
          "name": "stderr",
          "text": [
            "100%|██████████| 577/577 [03:22<00:00,  2.85it/s, Epoch=149, LR=2.09e-6, Train_Loss=0.497, accuracy=0.865, f1=0.836]\n",
            "100%|██████████| 73/73 [00:15<00:00,  4.60it/s, Epoch=149, LR=2.09e-6, Valid_Loss=0.000128, accuracy=1, f1=1]\n"
          ]
        },
        {
          "output_type": "stream",
          "name": "stdout",
          "text": [
            "Valid Loss : 0.00012781371941394492\n"
          ]
        },
        {
          "output_type": "stream",
          "name": "stderr",
          "text": [
            "100%|██████████| 577/577 [03:22<00:00,  2.85it/s, Epoch=150, LR=3.5e-6, Train_Loss=0.505, accuracy=0.863, f1=0.831]\n",
            "100%|██████████| 73/73 [00:15<00:00,  4.62it/s, Epoch=150, LR=3.5e-6, Valid_Loss=0.000121, accuracy=1, f1=1]\n"
          ]
        },
        {
          "output_type": "stream",
          "name": "stdout",
          "text": [
            "Valid Loss : 0.00012098288445411352\n"
          ]
        },
        {
          "output_type": "stream",
          "name": "stderr",
          "text": [
            "100%|██████████| 577/577 [03:22<00:00,  2.85it/s, Epoch=151, LR=4.65e-6, Train_Loss=0.504, accuracy=0.868, f1=0.838]\n",
            "100%|██████████| 73/73 [00:15<00:00,  4.58it/s, Epoch=151, LR=4.65e-6, Valid_Loss=0.000127, accuracy=1, f1=1]\n"
          ]
        },
        {
          "output_type": "stream",
          "name": "stdout",
          "text": [
            "Valid Loss : 0.0001269181426223814\n"
          ]
        },
        {
          "output_type": "stream",
          "name": "stderr",
          "text": [
            "100%|██████████| 577/577 [03:21<00:00,  2.86it/s, Epoch=152, LR=4.98e-6, Train_Loss=0.503, accuracy=0.875, f1=0.846]\n",
            "100%|██████████| 73/73 [00:15<00:00,  4.58it/s, Epoch=152, LR=4.98e-6, Valid_Loss=0.000108, accuracy=1, f1=1]\n"
          ]
        },
        {
          "output_type": "stream",
          "name": "stdout",
          "text": [
            "Valid Loss : 0.00010799248860303746\n",
            "Validation Loss improved( 0.00010928567943453458 ---> 0.00010799248860303746  )\n",
            "Model Saved\n"
          ]
        },
        {
          "output_type": "stream",
          "name": "stderr",
          "text": [
            "100%|██████████| 577/577 [03:22<00:00,  2.85it/s, Epoch=153, LR=4.32e-6, Train_Loss=0.499, accuracy=0.864, f1=0.835]\n",
            "100%|██████████| 73/73 [00:15<00:00,  4.60it/s, Epoch=153, LR=4.32e-6, Valid_Loss=0.000123, accuracy=1, f1=1]\n"
          ]
        },
        {
          "output_type": "stream",
          "name": "stdout",
          "text": [
            "Valid Loss : 0.00012295058845105414\n"
          ]
        },
        {
          "output_type": "stream",
          "name": "stderr",
          "text": [
            "100%|██████████| 577/577 [03:23<00:00,  2.83it/s, Epoch=154, LR=3e-6, Train_Loss=0.494, accuracy=0.871, f1=0.842]\n",
            "100%|██████████| 73/73 [00:15<00:00,  4.57it/s, Epoch=154, LR=3e-6, Valid_Loss=0.000122, accuracy=1, f1=1]\n"
          ]
        },
        {
          "output_type": "stream",
          "name": "stdout",
          "text": [
            "Valid Loss : 0.00012177925545735004\n"
          ]
        },
        {
          "output_type": "stream",
          "name": "stderr",
          "text": [
            "100%|██████████| 577/577 [03:23<00:00,  2.83it/s, Epoch=155, LR=1.68e-6, Train_Loss=0.504, accuracy=0.862, f1=0.83]\n",
            "100%|██████████| 73/73 [00:15<00:00,  4.57it/s, Epoch=155, LR=1.68e-6, Valid_Loss=0.000102, accuracy=1, f1=1]\n"
          ]
        },
        {
          "output_type": "stream",
          "name": "stdout",
          "text": [
            "Valid Loss : 0.00010196351450596847\n",
            "Validation Loss improved( 0.00010799248860303746 ---> 0.00010196351450596847  )\n",
            "Model Saved\n"
          ]
        },
        {
          "output_type": "stream",
          "name": "stderr",
          "text": [
            "100%|██████████| 577/577 [03:24<00:00,  2.83it/s, Epoch=156, LR=1.02e-6, Train_Loss=0.505, accuracy=0.863, f1=0.833]\n",
            "100%|██████████| 73/73 [00:16<00:00,  4.52it/s, Epoch=156, LR=1.02e-6, Valid_Loss=0.00011, accuracy=1, f1=1]\n"
          ]
        },
        {
          "output_type": "stream",
          "name": "stdout",
          "text": [
            "Valid Loss : 0.00011024595962275993\n"
          ]
        },
        {
          "output_type": "stream",
          "name": "stderr",
          "text": [
            "100%|██████████| 577/577 [03:23<00:00,  2.84it/s, Epoch=157, LR=1.35e-6, Train_Loss=0.5, accuracy=0.857, f1=0.826]\n",
            "100%|██████████| 73/73 [00:15<00:00,  4.57it/s, Epoch=157, LR=1.35e-6, Valid_Loss=9.5e-5, accuracy=1, f1=1]\n"
          ]
        },
        {
          "output_type": "stream",
          "name": "stdout",
          "text": [
            "Valid Loss : 9.501929899632982e-05\n",
            "Validation Loss improved( 0.00010196351450596847 ---> 9.501929899632982e-05  )\n",
            "Model Saved\n"
          ]
        },
        {
          "output_type": "stream",
          "name": "stderr",
          "text": [
            "100%|██████████| 577/577 [03:23<00:00,  2.83it/s, Epoch=158, LR=2.5e-6, Train_Loss=0.495, accuracy=0.871, f1=0.839]\n",
            "100%|██████████| 73/73 [00:15<00:00,  4.57it/s, Epoch=158, LR=2.5e-6, Valid_Loss=9.59e-5, accuracy=1, f1=1]\n"
          ]
        },
        {
          "output_type": "stream",
          "name": "stdout",
          "text": [
            "Valid Loss : 9.59116398306621e-05\n"
          ]
        },
        {
          "output_type": "stream",
          "name": "stderr",
          "text": [
            "100%|██████████| 577/577 [03:23<00:00,  2.84it/s, Epoch=159, LR=3.91e-6, Train_Loss=0.497, accuracy=0.88, f1=0.852]\n",
            "100%|██████████| 73/73 [00:16<00:00,  4.56it/s, Epoch=159, LR=3.91e-6, Valid_Loss=0.00011, accuracy=1, f1=1]\n"
          ]
        },
        {
          "output_type": "stream",
          "name": "stdout",
          "text": [
            "Valid Loss : 0.00010988026610591563\n"
          ]
        },
        {
          "output_type": "stream",
          "name": "stderr",
          "text": [
            "100%|██████████| 577/577 [03:23<00:00,  2.83it/s, Epoch=160, LR=4.86e-6, Train_Loss=0.502, accuracy=0.871, f1=0.842]\n",
            "100%|██████████| 73/73 [00:15<00:00,  4.58it/s, Epoch=160, LR=4.86e-6, Valid_Loss=9.96e-5, accuracy=1, f1=1]\n"
          ]
        },
        {
          "output_type": "stream",
          "name": "stdout",
          "text": [
            "Valid Loss : 9.960009524485491e-05\n"
          ]
        },
        {
          "output_type": "stream",
          "name": "stderr",
          "text": [
            "100%|██████████| 577/577 [03:23<00:00,  2.83it/s, Epoch=161, LR=4.88e-6, Train_Loss=0.494, accuracy=0.87, f1=0.839]\n",
            "100%|██████████| 73/73 [00:16<00:00,  4.51it/s, Epoch=161, LR=4.88e-6, Valid_Loss=0.000118, accuracy=1, f1=1]\n"
          ]
        },
        {
          "output_type": "stream",
          "name": "stdout",
          "text": [
            "Valid Loss : 0.00011839887864045697\n"
          ]
        },
        {
          "output_type": "stream",
          "name": "stderr",
          "text": [
            "100%|██████████| 577/577 [03:24<00:00,  2.83it/s, Epoch=162, LR=3.96e-6, Train_Loss=0.5, accuracy=0.87, f1=0.84]\n",
            "100%|██████████| 73/73 [00:16<00:00,  4.56it/s, Epoch=162, LR=3.96e-6, Valid_Loss=0.000108, accuracy=1, f1=1]\n"
          ]
        },
        {
          "output_type": "stream",
          "name": "stdout",
          "text": [
            "Valid Loss : 0.00010755984321928723\n"
          ]
        },
        {
          "output_type": "stream",
          "name": "stderr",
          "text": [
            "100%|██████████| 577/577 [03:23<00:00,  2.83it/s, Epoch=163, LR=2.56e-6, Train_Loss=0.502, accuracy=0.868, f1=0.84]\n",
            "100%|██████████| 73/73 [00:16<00:00,  4.55it/s, Epoch=163, LR=2.56e-6, Valid_Loss=0.000121, accuracy=1, f1=1]\n"
          ]
        },
        {
          "output_type": "stream",
          "name": "stdout",
          "text": [
            "Valid Loss : 0.00012100464634498428\n"
          ]
        },
        {
          "output_type": "stream",
          "name": "stderr",
          "text": [
            "100%|██████████| 577/577 [03:24<00:00,  2.82it/s, Epoch=164, LR=1.38e-6, Train_Loss=0.496, accuracy=0.862, f1=0.833]\n",
            "100%|██████████| 73/73 [00:15<00:00,  4.58it/s, Epoch=164, LR=1.38e-6, Valid_Loss=0.000176, accuracy=1, f1=1]\n"
          ]
        },
        {
          "output_type": "stream",
          "name": "stdout",
          "text": [
            "Valid Loss : 0.00017574540893977814\n"
          ]
        },
        {
          "output_type": "stream",
          "name": "stderr",
          "text": [
            "100%|██████████| 577/577 [03:22<00:00,  2.84it/s, Epoch=165, LR=1.01e-6, Train_Loss=0.501, accuracy=0.88, f1=0.851]\n",
            "100%|██████████| 73/73 [00:15<00:00,  4.57it/s, Epoch=165, LR=1.01e-6, Valid_Loss=9.58e-5, accuracy=1, f1=1]\n"
          ]
        },
        {
          "output_type": "stream",
          "name": "stdout",
          "text": [
            "Valid Loss : 9.57734084469649e-05\n"
          ]
        },
        {
          "output_type": "stream",
          "name": "stderr",
          "text": [
            "100%|██████████| 577/577 [03:23<00:00,  2.84it/s, Epoch=166, LR=1.63e-6, Train_Loss=0.499, accuracy=0.868, f1=0.838]\n",
            "100%|██████████| 73/73 [00:16<00:00,  4.54it/s, Epoch=166, LR=1.63e-6, Valid_Loss=0.000119, accuracy=1, f1=1]\n"
          ]
        },
        {
          "output_type": "stream",
          "name": "stdout",
          "text": [
            "Valid Loss : 0.00011937460628472116\n"
          ]
        },
        {
          "output_type": "stream",
          "name": "stderr",
          "text": [
            "100%|██████████| 577/577 [03:23<00:00,  2.84it/s, Epoch=167, LR=2.94e-6, Train_Loss=0.501, accuracy=0.869, f1=0.838]\n",
            "100%|██████████| 73/73 [00:16<00:00,  4.53it/s, Epoch=167, LR=2.94e-6, Valid_Loss=9.02e-5, accuracy=1, f1=1]\n"
          ]
        },
        {
          "output_type": "stream",
          "name": "stdout",
          "text": [
            "Valid Loss : 9.024926794777395e-05\n",
            "Validation Loss improved( 9.501929899632982e-05 ---> 9.024926794777395e-05  )\n",
            "Model Saved\n"
          ]
        },
        {
          "output_type": "stream",
          "name": "stderr",
          "text": [
            "100%|██████████| 577/577 [03:23<00:00,  2.84it/s, Epoch=168, LR=4.27e-6, Train_Loss=0.494, accuracy=0.872, f1=0.846]\n",
            "100%|██████████| 73/73 [00:15<00:00,  4.58it/s, Epoch=168, LR=4.27e-6, Valid_Loss=8.91e-5, accuracy=1, f1=1]\n"
          ]
        },
        {
          "output_type": "stream",
          "name": "stdout",
          "text": [
            "Valid Loss : 8.906608162175111e-05\n",
            "Validation Loss improved( 9.024926794777395e-05 ---> 8.906608162175111e-05  )\n",
            "Model Saved\n"
          ]
        },
        {
          "output_type": "stream",
          "name": "stderr",
          "text": [
            "100%|██████████| 577/577 [03:23<00:00,  2.83it/s, Epoch=169, LR=4.98e-6, Train_Loss=0.504, accuracy=0.863, f1=0.831]\n",
            "100%|██████████| 73/73 [00:15<00:00,  4.58it/s, Epoch=169, LR=4.98e-6, Valid_Loss=9.97e-5, accuracy=1, f1=1]\n"
          ]
        },
        {
          "output_type": "stream",
          "name": "stdout",
          "text": [
            "Valid Loss : 9.96665605694719e-05\n"
          ]
        },
        {
          "output_type": "stream",
          "name": "stderr",
          "text": [
            "100%|██████████| 577/577 [03:22<00:00,  2.84it/s, Epoch=170, LR=4.69e-6, Train_Loss=0.495, accuracy=0.865, f1=0.834]\n",
            "100%|██████████| 73/73 [00:15<00:00,  4.58it/s, Epoch=170, LR=4.69e-6, Valid_Loss=8.8e-5, accuracy=1, f1=1]\n"
          ]
        },
        {
          "output_type": "stream",
          "name": "stdout",
          "text": [
            "Valid Loss : 8.802397113033468e-05\n",
            "Validation Loss improved( 8.906608162175111e-05 ---> 8.802397113033468e-05  )\n",
            "Model Saved\n"
          ]
        },
        {
          "output_type": "stream",
          "name": "stderr",
          "text": [
            "100%|██████████| 577/577 [03:23<00:00,  2.84it/s, Epoch=171, LR=3.56e-6, Train_Loss=0.501, accuracy=0.866, f1=0.837]\n",
            "100%|██████████| 73/73 [00:15<00:00,  4.60it/s, Epoch=171, LR=3.56e-6, Valid_Loss=9.44e-5, accuracy=1, f1=1]\n"
          ]
        },
        {
          "output_type": "stream",
          "name": "stdout",
          "text": [
            "Valid Loss : 9.437685800287298e-05\n"
          ]
        },
        {
          "output_type": "stream",
          "name": "stderr",
          "text": [
            "100%|██████████| 577/577 [03:23<00:00,  2.84it/s, Epoch=172, LR=2.15e-6, Train_Loss=0.504, accuracy=0.877, f1=0.848]\n",
            "100%|██████████| 73/73 [00:15<00:00,  4.57it/s, Epoch=172, LR=2.15e-6, Valid_Loss=8.17e-5, accuracy=1, f1=1]\n"
          ]
        },
        {
          "output_type": "stream",
          "name": "stdout",
          "text": [
            "Valid Loss : 8.171130565181693e-05\n",
            "Validation Loss improved( 8.802397113033468e-05 ---> 8.171130565181693e-05  )\n",
            "Model Saved\n"
          ]
        },
        {
          "output_type": "stream",
          "name": "stderr",
          "text": [
            "100%|██████████| 577/577 [03:23<00:00,  2.83it/s, Epoch=173, LR=1.16e-6, Train_Loss=0.494, accuracy=0.872, f1=0.843]\n",
            "100%|██████████| 73/73 [00:15<00:00,  4.57it/s, Epoch=173, LR=1.16e-6, Valid_Loss=0.000134, accuracy=1, f1=1]\n"
          ]
        },
        {
          "output_type": "stream",
          "name": "stdout",
          "text": [
            "Valid Loss : 0.00013431224628943273\n"
          ]
        },
        {
          "output_type": "stream",
          "name": "stderr",
          "text": [
            "100%|██████████| 577/577 [03:22<00:00,  2.84it/s, Epoch=174, LR=1.1e-6, Train_Loss=0.496, accuracy=0.882, f1=0.855]\n",
            "100%|██████████| 73/73 [00:15<00:00,  4.59it/s, Epoch=174, LR=1.1e-6, Valid_Loss=0.000112, accuracy=1, f1=1]\n"
          ]
        },
        {
          "output_type": "stream",
          "name": "stdout",
          "text": [
            "Valid Loss : 0.00011172486693009874\n"
          ]
        },
        {
          "output_type": "stream",
          "name": "stderr",
          "text": [
            "100%|██████████| 577/577 [03:23<00:00,  2.84it/s, Epoch=175, LR=1.98e-6, Train_Loss=0.5, accuracy=0.878, f1=0.852]\n",
            "100%|██████████| 73/73 [00:15<00:00,  4.57it/s, Epoch=175, LR=1.98e-6, Valid_Loss=9.24e-5, accuracy=1, f1=1]\n"
          ]
        },
        {
          "output_type": "stream",
          "name": "stdout",
          "text": [
            "Valid Loss : 9.241791435857049e-05\n"
          ]
        },
        {
          "output_type": "stream",
          "name": "stderr",
          "text": [
            "100%|██████████| 577/577 [03:23<00:00,  2.84it/s, Epoch=176, LR=3.37e-6, Train_Loss=0.487, accuracy=0.87, f1=0.841]\n",
            "100%|██████████| 73/73 [00:15<00:00,  4.57it/s, Epoch=176, LR=3.37e-6, Valid_Loss=0.000133, accuracy=1, f1=1]\n"
          ]
        },
        {
          "output_type": "stream",
          "name": "stdout",
          "text": [
            "Valid Loss : 0.00013291673097489976\n"
          ]
        },
        {
          "output_type": "stream",
          "name": "stderr",
          "text": [
            "100%|██████████| 577/577 [03:23<00:00,  2.84it/s, Epoch=177, LR=4.58e-6, Train_Loss=0.495, accuracy=0.872, f1=0.844]\n",
            "100%|██████████| 73/73 [00:16<00:00,  4.56it/s, Epoch=177, LR=4.58e-6, Valid_Loss=9.12e-5, accuracy=1, f1=1]\n"
          ]
        },
        {
          "output_type": "stream",
          "name": "stdout",
          "text": [
            "Valid Loss : 9.115837348548517e-05\n"
          ]
        },
        {
          "output_type": "stream",
          "name": "stderr",
          "text": [
            "100%|██████████| 577/577 [03:23<00:00,  2.84it/s, Epoch=178, LR=5e-6, Train_Loss=0.489, accuracy=0.869, f1=0.839]\n",
            "100%|██████████| 73/73 [00:15<00:00,  4.58it/s, Epoch=178, LR=5e-6, Valid_Loss=0.000124, accuracy=1, f1=1]\n"
          ]
        },
        {
          "output_type": "stream",
          "name": "stdout",
          "text": [
            "Valid Loss : 0.0001238804098859761\n"
          ]
        },
        {
          "output_type": "stream",
          "name": "stderr",
          "text": [
            "100%|██████████| 577/577 [03:23<00:00,  2.84it/s, Epoch=179, LR=4.41e-6, Train_Loss=0.495, accuracy=0.874, f1=0.843]\n",
            "100%|██████████| 73/73 [00:15<00:00,  4.57it/s, Epoch=179, LR=4.41e-6, Valid_Loss=0.0001, accuracy=1, f1=1]\n"
          ]
        },
        {
          "output_type": "stream",
          "name": "stdout",
          "text": [
            "Valid Loss : 0.00010037344765980179\n"
          ]
        },
        {
          "output_type": "stream",
          "name": "stderr",
          "text": [
            "100%|██████████| 577/577 [03:23<00:00,  2.84it/s, Epoch=180, LR=3.13e-6, Train_Loss=0.499, accuracy=0.878, f1=0.848]\n",
            "100%|██████████| 73/73 [00:15<00:00,  4.60it/s, Epoch=180, LR=3.13e-6, Valid_Loss=8.11e-5, accuracy=1, f1=1]\n"
          ]
        },
        {
          "output_type": "stream",
          "name": "stdout",
          "text": [
            "Valid Loss : 8.110508661795318e-05\n",
            "Validation Loss improved( 8.171130565181693e-05 ---> 8.110508661795318e-05  )\n",
            "Model Saved\n"
          ]
        },
        {
          "output_type": "stream",
          "name": "stderr",
          "text": [
            "100%|██████████| 577/577 [03:23<00:00,  2.83it/s, Epoch=181, LR=1.77e-6, Train_Loss=0.484, accuracy=0.872, f1=0.844]\n",
            "100%|██████████| 73/73 [00:16<00:00,  4.56it/s, Epoch=181, LR=1.77e-6, Valid_Loss=0.000131, accuracy=1, f1=1]\n"
          ]
        },
        {
          "output_type": "stream",
          "name": "stdout",
          "text": [
            "Valid Loss : 0.00013089801065427608\n"
          ]
        },
        {
          "output_type": "stream",
          "name": "stderr",
          "text": [
            "100%|██████████| 577/577 [03:23<00:00,  2.83it/s, Epoch=182, LR=1.04e-6, Train_Loss=0.49, accuracy=0.878, f1=0.85]\n",
            "100%|██████████| 73/73 [00:15<00:00,  4.58it/s, Epoch=182, LR=1.04e-6, Valid_Loss=7.62e-5, accuracy=1, f1=1]\n"
          ]
        },
        {
          "output_type": "stream",
          "name": "stdout",
          "text": [
            "Valid Loss : 7.6213971823725e-05\n",
            "Validation Loss improved( 8.110508661795318e-05 ---> 7.6213971823725e-05  )\n",
            "Model Saved\n"
          ]
        },
        {
          "output_type": "stream",
          "name": "stderr",
          "text": [
            "100%|██████████| 577/577 [03:23<00:00,  2.84it/s, Epoch=183, LR=1.28e-6, Train_Loss=0.505, accuracy=0.872, f1=0.841]\n",
            "100%|██████████| 73/73 [00:15<00:00,  4.58it/s, Epoch=183, LR=1.28e-6, Valid_Loss=8.79e-5, accuracy=1, f1=1]\n"
          ]
        },
        {
          "output_type": "stream",
          "name": "stdout",
          "text": [
            "Valid Loss : 8.792326933535275e-05\n"
          ]
        },
        {
          "output_type": "stream",
          "name": "stderr",
          "text": [
            "100%|██████████| 577/577 [03:23<00:00,  2.84it/s, Epoch=184, LR=2.38e-6, Train_Loss=0.497, accuracy=0.874, f1=0.846]\n",
            "100%|██████████| 73/73 [00:15<00:00,  4.57it/s, Epoch=184, LR=2.38e-6, Valid_Loss=0.000111, accuracy=1, f1=1]\n"
          ]
        },
        {
          "output_type": "stream",
          "name": "stdout",
          "text": [
            "Valid Loss : 0.00011107343639133893\n"
          ]
        },
        {
          "output_type": "stream",
          "name": "stderr",
          "text": [
            "100%|██████████| 577/577 [03:23<00:00,  2.83it/s, Epoch=185, LR=3.79e-6, Train_Loss=0.498, accuracy=0.872, f1=0.844]\n",
            "100%|██████████| 73/73 [00:15<00:00,  4.57it/s, Epoch=185, LR=3.79e-6, Valid_Loss=8.67e-5, accuracy=1, f1=1]\n"
          ]
        },
        {
          "output_type": "stream",
          "name": "stdout",
          "text": [
            "Valid Loss : 8.672710414617068e-05\n"
          ]
        },
        {
          "output_type": "stream",
          "name": "stderr",
          "text": [
            "100%|██████████| 577/577 [03:23<00:00,  2.84it/s, Epoch=186, LR=4.81e-6, Train_Loss=0.502, accuracy=0.88, f1=0.855]\n",
            "100%|██████████| 73/73 [00:16<00:00,  4.55it/s, Epoch=186, LR=4.81e-6, Valid_Loss=0.000119, accuracy=1, f1=1]\n"
          ]
        },
        {
          "output_type": "stream",
          "name": "stdout",
          "text": [
            "Valid Loss : 0.00011931035903079933\n"
          ]
        },
        {
          "output_type": "stream",
          "name": "stderr",
          "text": [
            "100%|██████████| 577/577 [03:24<00:00,  2.83it/s, Epoch=187, LR=4.92e-6, Train_Loss=0.491, accuracy=0.872, f1=0.842]\n",
            "100%|██████████| 73/73 [00:16<00:00,  4.55it/s, Epoch=187, LR=4.92e-6, Valid_Loss=7.08e-5, accuracy=1, f1=1]\n"
          ]
        },
        {
          "output_type": "stream",
          "name": "stdout",
          "text": [
            "Valid Loss : 7.083782176080491e-05\n",
            "Validation Loss improved( 7.6213971823725e-05 ---> 7.083782176080491e-05  )\n",
            "Model Saved\n"
          ]
        },
        {
          "output_type": "stream",
          "name": "stderr",
          "text": [
            "100%|██████████| 577/577 [03:23<00:00,  2.83it/s, Epoch=188, LR=4.07e-6, Train_Loss=0.492, accuracy=0.88, f1=0.852]\n",
            "100%|██████████| 73/73 [00:15<00:00,  4.57it/s, Epoch=188, LR=4.07e-6, Valid_Loss=9.41e-5, accuracy=1, f1=1]\n"
          ]
        },
        {
          "output_type": "stream",
          "name": "stdout",
          "text": [
            "Valid Loss : 9.409417055406901e-05\n"
          ]
        },
        {
          "output_type": "stream",
          "name": "stderr",
          "text": [
            "100%|██████████| 577/577 [03:23<00:00,  2.84it/s, Epoch=189, LR=2.69e-6, Train_Loss=0.494, accuracy=0.864, f1=0.834]\n",
            "100%|██████████| 73/73 [00:15<00:00,  4.59it/s, Epoch=189, LR=2.69e-6, Valid_Loss=9.3e-5, accuracy=1, f1=1]\n"
          ]
        },
        {
          "output_type": "stream",
          "name": "stdout",
          "text": [
            "Valid Loss : 9.300898883550759e-05\n"
          ]
        },
        {
          "output_type": "stream",
          "name": "stderr",
          "text": [
            "100%|██████████| 577/577 [03:23<00:00,  2.84it/s, Epoch=190, LR=1.46e-6, Train_Loss=0.503, accuracy=0.874, f1=0.842]\n",
            "100%|██████████| 73/73 [00:15<00:00,  4.57it/s, Epoch=190, LR=1.46e-6, Valid_Loss=7.6e-5, accuracy=1, f1=1]\n"
          ]
        },
        {
          "output_type": "stream",
          "name": "stdout",
          "text": [
            "Valid Loss : 7.598122659782011e-05\n"
          ]
        },
        {
          "output_type": "stream",
          "name": "stderr",
          "text": [
            "100%|██████████| 577/577 [03:23<00:00,  2.84it/s, Epoch=191, LR=1e-6, Train_Loss=0.488, accuracy=0.875, f1=0.847]\n",
            "100%|██████████| 73/73 [00:15<00:00,  4.57it/s, Epoch=191, LR=1e-6, Valid_Loss=9.17e-5, accuracy=1, f1=1]\n"
          ]
        },
        {
          "output_type": "stream",
          "name": "stdout",
          "text": [
            "Valid Loss : 9.166968467905288e-05\n"
          ]
        },
        {
          "output_type": "stream",
          "name": "stderr",
          "text": [
            "100%|██████████| 577/577 [03:23<00:00,  2.83it/s, Epoch=192, LR=1.54e-6, Train_Loss=0.493, accuracy=0.886, f1=0.86]\n",
            "100%|██████████| 73/73 [00:15<00:00,  4.57it/s, Epoch=192, LR=1.54e-6, Valid_Loss=7.42e-5, accuracy=1, f1=1]\n"
          ]
        },
        {
          "output_type": "stream",
          "name": "stdout",
          "text": [
            "Valid Loss : 7.424170440597116e-05\n"
          ]
        },
        {
          "output_type": "stream",
          "name": "stderr",
          "text": [
            "100%|██████████| 577/577 [03:23<00:00,  2.84it/s, Epoch=193, LR=2.81e-6, Train_Loss=0.492, accuracy=0.868, f1=0.837]\n",
            "100%|██████████| 73/73 [00:16<00:00,  4.56it/s, Epoch=193, LR=2.81e-6, Valid_Loss=7.54e-5, accuracy=1, f1=1]\n"
          ]
        },
        {
          "output_type": "stream",
          "name": "stdout",
          "text": [
            "Valid Loss : 7.53714700780844e-05\n"
          ]
        },
        {
          "output_type": "stream",
          "name": "stderr",
          "text": [
            "100%|██████████| 577/577 [03:23<00:00,  2.84it/s, Epoch=194, LR=4.18e-6, Train_Loss=0.502, accuracy=0.878, f1=0.849]\n",
            "100%|██████████| 73/73 [00:15<00:00,  4.58it/s, Epoch=194, LR=4.18e-6, Valid_Loss=8.02e-5, accuracy=1, f1=1]\n"
          ]
        },
        {
          "output_type": "stream",
          "name": "stdout",
          "text": [
            "Valid Loss : 8.024374061552744e-05\n"
          ]
        },
        {
          "output_type": "stream",
          "name": "stderr",
          "text": [
            "100%|██████████| 577/577 [03:23<00:00,  2.84it/s, Epoch=195, LR=4.95e-6, Train_Loss=0.487, accuracy=0.881, f1=0.855]\n",
            "100%|██████████| 73/73 [00:16<00:00,  4.56it/s, Epoch=195, LR=4.95e-6, Valid_Loss=6.64e-5, accuracy=1, f1=1]\n"
          ]
        },
        {
          "output_type": "stream",
          "name": "stdout",
          "text": [
            "Valid Loss : 6.637281056673725e-05\n",
            "Validation Loss improved( 7.083782176080491e-05 ---> 6.637281056673725e-05  )\n",
            "Model Saved\n"
          ]
        },
        {
          "output_type": "stream",
          "name": "stderr",
          "text": [
            "100%|██████████| 577/577 [03:23<00:00,  2.84it/s, Epoch=196, LR=4.75e-6, Train_Loss=0.508, accuracy=0.882, f1=0.854]\n",
            "100%|██████████| 73/73 [00:16<00:00,  4.56it/s, Epoch=196, LR=4.75e-6, Valid_Loss=7.22e-5, accuracy=1, f1=1]\n"
          ]
        },
        {
          "output_type": "stream",
          "name": "stdout",
          "text": [
            "Valid Loss : 7.216796817773098e-05\n"
          ]
        },
        {
          "output_type": "stream",
          "name": "stderr",
          "text": [
            "100%|██████████| 577/577 [03:23<00:00,  2.84it/s, Epoch=197, LR=3.68e-6, Train_Loss=0.501, accuracy=0.871, f1=0.842]\n",
            "100%|██████████| 73/73 [00:16<00:00,  4.54it/s, Epoch=197, LR=3.68e-6, Valid_Loss=6.34e-5, accuracy=1, f1=1]\n"
          ]
        },
        {
          "output_type": "stream",
          "name": "stdout",
          "text": [
            "Valid Loss : 6.339664419288492e-05\n",
            "Validation Loss improved( 6.637281056673725e-05 ---> 6.339664419288492e-05  )\n",
            "Model Saved\n"
          ]
        },
        {
          "output_type": "stream",
          "name": "stderr",
          "text": [
            "100%|██████████| 577/577 [03:23<00:00,  2.84it/s, Epoch=198, LR=2.26e-6, Train_Loss=0.498, accuracy=0.877, f1=0.851]\n",
            "100%|██████████| 73/73 [00:16<00:00,  4.47it/s, Epoch=198, LR=2.26e-6, Valid_Loss=6.56e-5, accuracy=1, f1=1]\n"
          ]
        },
        {
          "output_type": "stream",
          "name": "stdout",
          "text": [
            "Valid Loss : 6.561385296115313e-05\n"
          ]
        },
        {
          "output_type": "stream",
          "name": "stderr",
          "text": [
            "100%|██████████| 577/577 [03:23<00:00,  2.83it/s, Epoch=199, LR=1.22e-6, Train_Loss=0.493, accuracy=0.878, f1=0.85]\n",
            "100%|██████████| 73/73 [00:16<00:00,  4.54it/s, Epoch=199, LR=1.22e-6, Valid_Loss=7.42e-5, accuracy=1, f1=1]\n"
          ]
        },
        {
          "output_type": "stream",
          "name": "stdout",
          "text": [
            "Valid Loss : 7.418592397461658e-05\n"
          ]
        },
        {
          "output_type": "stream",
          "name": "stderr",
          "text": [
            "100%|██████████| 577/577 [03:23<00:00,  2.84it/s, Epoch=200, LR=1.06e-6, Train_Loss=0.5, accuracy=0.871, f1=0.841]\n",
            "100%|██████████| 73/73 [00:15<00:00,  4.58it/s, Epoch=200, LR=1.06e-6, Valid_Loss=6.05e-5, accuracy=1, f1=1]\n"
          ]
        },
        {
          "output_type": "stream",
          "name": "stdout",
          "text": [
            "Valid Loss : 6.0526428719079886e-05\n",
            "Validation Loss improved( 6.339664419288492e-05 ---> 6.0526428719079886e-05  )\n",
            "Model Saved\n"
          ]
        },
        {
          "output_type": "stream",
          "name": "stderr",
          "text": [
            "100%|██████████| 577/577 [03:23<00:00,  2.83it/s, Epoch=201, LR=1.88e-6, Train_Loss=0.488, accuracy=0.872, f1=0.843]\n",
            "100%|██████████| 73/73 [00:16<00:00,  4.54it/s, Epoch=201, LR=1.88e-6, Valid_Loss=6.6e-5, accuracy=1, f1=1]\n"
          ]
        },
        {
          "output_type": "stream",
          "name": "stdout",
          "text": [
            "Valid Loss : 6.596023192523966e-05\n"
          ]
        },
        {
          "output_type": "stream",
          "name": "stderr",
          "text": [
            "100%|██████████| 577/577 [03:23<00:00,  2.84it/s, Epoch=202, LR=3.25e-6, Train_Loss=0.493, accuracy=0.883, f1=0.855]\n",
            "100%|██████████| 73/73 [00:16<00:00,  4.54it/s, Epoch=202, LR=3.25e-6, Valid_Loss=5.64e-5, accuracy=1, f1=1]\n"
          ]
        },
        {
          "output_type": "stream",
          "name": "stdout",
          "text": [
            "Valid Loss : 5.641065272606259e-05\n",
            "Validation Loss improved( 6.0526428719079886e-05 ---> 5.641065272606259e-05  )\n",
            "Model Saved\n"
          ]
        },
        {
          "output_type": "stream",
          "name": "stderr",
          "text": [
            "100%|██████████| 577/577 [03:23<00:00,  2.84it/s, Epoch=203, LR=4.5e-6, Train_Loss=0.492, accuracy=0.873, f1=0.844]\n",
            "100%|██████████| 73/73 [00:16<00:00,  4.56it/s, Epoch=203, LR=4.5e-6, Valid_Loss=6.34e-5, accuracy=1, f1=1]\n"
          ]
        },
        {
          "output_type": "stream",
          "name": "stdout",
          "text": [
            "Valid Loss : 6.335603677442821e-05\n"
          ]
        },
        {
          "output_type": "stream",
          "name": "stderr",
          "text": [
            "100%|██████████| 577/577 [03:23<00:00,  2.83it/s, Epoch=204, LR=5e-6, Train_Loss=0.488, accuracy=0.872, f1=0.846]\n",
            "100%|██████████| 73/73 [00:15<00:00,  4.57it/s, Epoch=204, LR=5e-6, Valid_Loss=7.44e-5, accuracy=1, f1=1]\n"
          ]
        },
        {
          "output_type": "stream",
          "name": "stdout",
          "text": [
            "Valid Loss : 7.444492220114725e-05\n"
          ]
        },
        {
          "output_type": "stream",
          "name": "stderr",
          "text": [
            "100%|██████████| 577/577 [03:23<00:00,  2.83it/s, Epoch=205, LR=4.5e-6, Train_Loss=0.492, accuracy=0.881, f1=0.854]\n",
            "100%|██████████| 73/73 [00:15<00:00,  4.57it/s, Epoch=205, LR=4.5e-6, Valid_Loss=6.39e-5, accuracy=1, f1=1]\n"
          ]
        },
        {
          "output_type": "stream",
          "name": "stdout",
          "text": [
            "Valid Loss : 6.391578631025854e-05\n"
          ]
        },
        {
          "output_type": "stream",
          "name": "stderr",
          "text": [
            "100%|██████████| 577/577 [03:23<00:00,  2.83it/s, Epoch=206, LR=3.25e-6, Train_Loss=0.493, accuracy=0.879, f1=0.853]\n",
            "100%|██████████| 73/73 [00:16<00:00,  4.54it/s, Epoch=206, LR=3.25e-6, Valid_Loss=6.29e-5, accuracy=1, f1=1]\n"
          ]
        },
        {
          "output_type": "stream",
          "name": "stdout",
          "text": [
            "Valid Loss : 6.286062828260347e-05\n"
          ]
        },
        {
          "output_type": "stream",
          "name": "stderr",
          "text": [
            "100%|██████████| 577/577 [03:23<00:00,  2.83it/s, Epoch=207, LR=1.88e-6, Train_Loss=0.5, accuracy=0.876, f1=0.848]\n",
            "100%|██████████| 73/73 [00:16<00:00,  4.56it/s, Epoch=207, LR=1.88e-6, Valid_Loss=5.97e-5, accuracy=1, f1=1]\n"
          ]
        },
        {
          "output_type": "stream",
          "name": "stdout",
          "text": [
            "Valid Loss : 5.965994100671657e-05\n"
          ]
        },
        {
          "output_type": "stream",
          "name": "stderr",
          "text": [
            "100%|██████████| 577/577 [03:23<00:00,  2.83it/s, Epoch=208, LR=1.06e-6, Train_Loss=0.497, accuracy=0.882, f1=0.856]\n",
            "100%|██████████| 73/73 [00:16<00:00,  4.56it/s, Epoch=208, LR=1.06e-6, Valid_Loss=9.52e-5, accuracy=1, f1=1]\n"
          ]
        },
        {
          "output_type": "stream",
          "name": "stdout",
          "text": [
            "Valid Loss : 9.521325584301687e-05\n"
          ]
        },
        {
          "output_type": "stream",
          "name": "stderr",
          "text": [
            "100%|██████████| 577/577 [03:24<00:00,  2.82it/s, Epoch=209, LR=1.22e-6, Train_Loss=0.503, accuracy=0.886, f1=0.861]\n",
            "100%|██████████| 73/73 [00:16<00:00,  4.53it/s, Epoch=209, LR=1.22e-6, Valid_Loss=7.02e-5, accuracy=1, f1=1]\n"
          ]
        },
        {
          "output_type": "stream",
          "name": "stdout",
          "text": [
            "Valid Loss : 7.016790321308877e-05\n"
          ]
        },
        {
          "output_type": "stream",
          "name": "stderr",
          "text": [
            "100%|██████████| 577/577 [03:25<00:00,  2.81it/s, Epoch=210, LR=2.26e-6, Train_Loss=0.492, accuracy=0.878, f1=0.85]\n",
            "100%|██████████| 73/73 [00:16<00:00,  4.54it/s, Epoch=210, LR=2.26e-6, Valid_Loss=7.35e-5, accuracy=1, f1=1]\n"
          ]
        },
        {
          "output_type": "stream",
          "name": "stdout",
          "text": [
            "Valid Loss : 7.354811946056107e-05\n"
          ]
        },
        {
          "output_type": "stream",
          "name": "stderr",
          "text": [
            "100%|██████████| 577/577 [03:25<00:00,  2.81it/s, Epoch=211, LR=3.68e-6, Train_Loss=0.499, accuracy=0.884, f1=0.856]\n",
            "100%|██████████| 73/73 [00:16<00:00,  4.49it/s, Epoch=211, LR=3.68e-6, Valid_Loss=6.7e-5, accuracy=1, f1=1]\n"
          ]
        },
        {
          "output_type": "stream",
          "name": "stdout",
          "text": [
            "Valid Loss : 6.699250980714107e-05\n"
          ]
        },
        {
          "output_type": "stream",
          "name": "stderr",
          "text": [
            "100%|██████████| 577/577 [03:25<00:00,  2.81it/s, Epoch=212, LR=4.75e-6, Train_Loss=0.502, accuracy=0.888, f1=0.864]\n",
            "100%|██████████| 73/73 [00:16<00:00,  4.50it/s, Epoch=212, LR=4.75e-6, Valid_Loss=5.85e-5, accuracy=1, f1=1]\n"
          ]
        },
        {
          "output_type": "stream",
          "name": "stdout",
          "text": [
            "Valid Loss : 5.85387433976356e-05\n"
          ]
        },
        {
          "output_type": "stream",
          "name": "stderr",
          "text": [
            "100%|██████████| 577/577 [03:25<00:00,  2.81it/s, Epoch=213, LR=4.95e-6, Train_Loss=0.494, accuracy=0.885, f1=0.858]\n",
            "100%|██████████| 73/73 [00:16<00:00,  4.49it/s, Epoch=213, LR=4.95e-6, Valid_Loss=7.02e-5, accuracy=1, f1=1]\n"
          ]
        },
        {
          "output_type": "stream",
          "name": "stdout",
          "text": [
            "Valid Loss : 7.018251527955577e-05\n"
          ]
        },
        {
          "output_type": "stream",
          "name": "stderr",
          "text": [
            "100%|██████████| 577/577 [03:25<00:00,  2.81it/s, Epoch=214, LR=4.18e-6, Train_Loss=0.484, accuracy=0.879, f1=0.851]\n",
            "100%|██████████| 73/73 [00:16<00:00,  4.52it/s, Epoch=214, LR=4.18e-6, Valid_Loss=5.41e-5, accuracy=1, f1=1]\n"
          ]
        },
        {
          "output_type": "stream",
          "name": "stdout",
          "text": [
            "Valid Loss : 5.4108246705217335e-05\n",
            "Validation Loss improved( 5.641065272606259e-05 ---> 5.4108246705217335e-05  )\n",
            "Model Saved\n"
          ]
        },
        {
          "output_type": "stream",
          "name": "stderr",
          "text": [
            "100%|██████████| 577/577 [03:26<00:00,  2.80it/s, Epoch=215, LR=2.81e-6, Train_Loss=0.492, accuracy=0.873, f1=0.847]\n",
            "100%|██████████| 73/73 [00:16<00:00,  4.48it/s, Epoch=215, LR=2.81e-6, Valid_Loss=5.15e-5, accuracy=1, f1=1]\n"
          ]
        },
        {
          "output_type": "stream",
          "name": "stdout",
          "text": [
            "Valid Loss : 5.145087040907365e-05\n",
            "Validation Loss improved( 5.4108246705217335e-05 ---> 5.145087040907365e-05  )\n",
            "Model Saved\n"
          ]
        },
        {
          "output_type": "stream",
          "name": "stderr",
          "text": [
            "100%|██████████| 577/577 [03:26<00:00,  2.79it/s, Epoch=216, LR=1.54e-6, Train_Loss=0.499, accuracy=0.88, f1=0.853]\n",
            "100%|██████████| 73/73 [00:16<00:00,  4.44it/s, Epoch=216, LR=1.54e-6, Valid_Loss=5.91e-5, accuracy=1, f1=1]\n"
          ]
        },
        {
          "output_type": "stream",
          "name": "stdout",
          "text": [
            "Valid Loss : 5.906919653930905e-05\n"
          ]
        },
        {
          "output_type": "stream",
          "name": "stderr",
          "text": [
            "100%|██████████| 577/577 [03:26<00:00,  2.80it/s, Epoch=217, LR=1e-6, Train_Loss=0.489, accuracy=0.882, f1=0.856]\n",
            "100%|██████████| 73/73 [00:16<00:00,  4.51it/s, Epoch=217, LR=1e-6, Valid_Loss=5.12e-5, accuracy=1, f1=1]\n"
          ]
        },
        {
          "output_type": "stream",
          "name": "stdout",
          "text": [
            "Valid Loss : 5.120639596572975e-05\n",
            "Validation Loss improved( 5.145087040907365e-05 ---> 5.120639596572975e-05  )\n",
            "Model Saved\n"
          ]
        },
        {
          "output_type": "stream",
          "name": "stderr",
          "text": [
            "100%|██████████| 577/577 [03:25<00:00,  2.81it/s, Epoch=218, LR=1.46e-6, Train_Loss=0.486, accuracy=0.884, f1=0.858]\n",
            "100%|██████████| 73/73 [00:16<00:00,  4.45it/s, Epoch=218, LR=1.46e-6, Valid_Loss=5.49e-5, accuracy=1, f1=1]\n"
          ]
        },
        {
          "output_type": "stream",
          "name": "stdout",
          "text": [
            "Valid Loss : 5.4932841197874604e-05\n"
          ]
        },
        {
          "output_type": "stream",
          "name": "stderr",
          "text": [
            "100%|██████████| 577/577 [03:27<00:00,  2.79it/s, Epoch=219, LR=2.69e-6, Train_Loss=0.484, accuracy=0.887, f1=0.861]\n",
            "100%|██████████| 73/73 [00:16<00:00,  4.53it/s, Epoch=219, LR=2.69e-6, Valid_Loss=6.63e-5, accuracy=1, f1=1]\n"
          ]
        },
        {
          "output_type": "stream",
          "name": "stdout",
          "text": [
            "Valid Loss : 6.6284006258173e-05\n"
          ]
        },
        {
          "output_type": "stream",
          "name": "stderr",
          "text": [
            "100%|██████████| 577/577 [03:26<00:00,  2.80it/s, Epoch=220, LR=4.07e-6, Train_Loss=0.489, accuracy=0.879, f1=0.851]\n",
            "100%|██████████| 73/73 [00:16<00:00,  4.50it/s, Epoch=220, LR=4.07e-6, Valid_Loss=5.86e-5, accuracy=1, f1=1]\n"
          ]
        },
        {
          "output_type": "stream",
          "name": "stdout",
          "text": [
            "Valid Loss : 5.8644009261289994e-05\n"
          ]
        },
        {
          "output_type": "stream",
          "name": "stderr",
          "text": [
            "100%|██████████| 577/577 [03:25<00:00,  2.80it/s, Epoch=221, LR=4.92e-6, Train_Loss=0.492, accuracy=0.869, f1=0.842]\n",
            "100%|██████████| 73/73 [00:16<00:00,  4.51it/s, Epoch=221, LR=4.92e-6, Valid_Loss=6.68e-5, accuracy=1, f1=1]\n"
          ]
        },
        {
          "output_type": "stream",
          "name": "stdout",
          "text": [
            "Valid Loss : 6.680442610347312e-05\n"
          ]
        },
        {
          "output_type": "stream",
          "name": "stderr",
          "text": [
            "100%|██████████| 577/577 [03:25<00:00,  2.80it/s, Epoch=222, LR=4.81e-6, Train_Loss=0.487, accuracy=0.884, f1=0.86]\n",
            "100%|██████████| 73/73 [00:16<00:00,  4.49it/s, Epoch=222, LR=4.81e-6, Valid_Loss=5.02e-5, accuracy=1, f1=1]\n"
          ]
        },
        {
          "output_type": "stream",
          "name": "stdout",
          "text": [
            "Valid Loss : 5.020183781285496e-05\n",
            "Validation Loss improved( 5.120639596572975e-05 ---> 5.020183781285496e-05  )\n",
            "Model Saved\n"
          ]
        },
        {
          "output_type": "stream",
          "name": "stderr",
          "text": [
            "100%|██████████| 577/577 [03:26<00:00,  2.80it/s, Epoch=223, LR=3.79e-6, Train_Loss=0.496, accuracy=0.881, f1=0.854]\n",
            "100%|██████████| 73/73 [00:16<00:00,  4.53it/s, Epoch=223, LR=3.79e-6, Valid_Loss=7.94e-5, accuracy=1, f1=1]\n"
          ]
        },
        {
          "output_type": "stream",
          "name": "stdout",
          "text": [
            "Valid Loss : 7.937138003423932e-05\n"
          ]
        },
        {
          "output_type": "stream",
          "name": "stderr",
          "text": [
            "100%|██████████| 577/577 [03:26<00:00,  2.80it/s, Epoch=224, LR=2.38e-6, Train_Loss=0.482, accuracy=0.876, f1=0.848]\n",
            "100%|██████████| 73/73 [00:16<00:00,  4.50it/s, Epoch=224, LR=2.38e-6, Valid_Loss=9.85e-5, accuracy=1, f1=1]\n"
          ]
        },
        {
          "output_type": "stream",
          "name": "stdout",
          "text": [
            "Valid Loss : 9.847193576530266e-05\n"
          ]
        },
        {
          "output_type": "stream",
          "name": "stderr",
          "text": [
            "100%|██████████| 577/577 [03:26<00:00,  2.79it/s, Epoch=225, LR=1.28e-6, Train_Loss=0.494, accuracy=0.869, f1=0.838]\n",
            "100%|██████████| 73/73 [00:16<00:00,  4.42it/s, Epoch=225, LR=1.28e-6, Valid_Loss=6.31e-5, accuracy=1, f1=1]\n"
          ]
        },
        {
          "output_type": "stream",
          "name": "stdout",
          "text": [
            "Valid Loss : 6.311038980553125e-05\n"
          ]
        },
        {
          "output_type": "stream",
          "name": "stderr",
          "text": [
            "100%|██████████| 577/577 [03:26<00:00,  2.80it/s, Epoch=226, LR=1.04e-6, Train_Loss=0.496, accuracy=0.884, f1=0.858]\n",
            "100%|██████████| 73/73 [00:16<00:00,  4.47it/s, Epoch=226, LR=1.04e-6, Valid_Loss=7.81e-5, accuracy=1, f1=1]\n"
          ]
        },
        {
          "output_type": "stream",
          "name": "stdout",
          "text": [
            "Valid Loss : 7.808763982448248e-05\n"
          ]
        },
        {
          "output_type": "stream",
          "name": "stderr",
          "text": [
            "100%|██████████| 577/577 [03:26<00:00,  2.79it/s, Epoch=227, LR=1.77e-6, Train_Loss=0.494, accuracy=0.875, f1=0.846]\n",
            "100%|██████████| 73/73 [00:16<00:00,  4.49it/s, Epoch=227, LR=1.77e-6, Valid_Loss=5.17e-5, accuracy=1, f1=1]\n"
          ]
        },
        {
          "output_type": "stream",
          "name": "stdout",
          "text": [
            "Valid Loss : 5.1695602650559595e-05\n"
          ]
        },
        {
          "output_type": "stream",
          "name": "stderr",
          "text": [
            "100%|██████████| 577/577 [03:26<00:00,  2.79it/s, Epoch=228, LR=3.13e-6, Train_Loss=0.488, accuracy=0.882, f1=0.855]\n",
            "100%|██████████| 73/73 [00:16<00:00,  4.50it/s, Epoch=228, LR=3.13e-6, Valid_Loss=8.33e-5, accuracy=1, f1=1]\n"
          ]
        },
        {
          "output_type": "stream",
          "name": "stdout",
          "text": [
            "Valid Loss : 8.330063209454338e-05\n"
          ]
        },
        {
          "output_type": "stream",
          "name": "stderr",
          "text": [
            "100%|██████████| 577/577 [03:26<00:00,  2.79it/s, Epoch=229, LR=4.41e-6, Train_Loss=0.493, accuracy=0.877, f1=0.853]\n",
            "100%|██████████| 73/73 [00:16<00:00,  4.49it/s, Epoch=229, LR=4.41e-6, Valid_Loss=0.000134, accuracy=1, f1=1]\n"
          ]
        },
        {
          "output_type": "stream",
          "name": "stdout",
          "text": [
            "Valid Loss : 0.0001344283214602412\n"
          ]
        },
        {
          "output_type": "stream",
          "name": "stderr",
          "text": [
            "100%|██████████| 577/577 [03:26<00:00,  2.79it/s, Epoch=230, LR=5e-6, Train_Loss=0.495, accuracy=0.873, f1=0.844]\n",
            "100%|██████████| 73/73 [00:16<00:00,  4.52it/s, Epoch=230, LR=5e-6, Valid_Loss=6.17e-5, accuracy=1, f1=1]\n"
          ]
        },
        {
          "output_type": "stream",
          "name": "stdout",
          "text": [
            "Valid Loss : 6.173760926710563e-05\n"
          ]
        },
        {
          "output_type": "stream",
          "name": "stderr",
          "text": [
            "100%|██████████| 577/577 [03:26<00:00,  2.79it/s, Epoch=231, LR=4.58e-6, Train_Loss=0.492, accuracy=0.882, f1=0.855]\n",
            "100%|██████████| 73/73 [00:16<00:00,  4.46it/s, Epoch=231, LR=4.58e-6, Valid_Loss=5.73e-5, accuracy=1, f1=1]\n"
          ]
        },
        {
          "output_type": "stream",
          "name": "stdout",
          "text": [
            "Valid Loss : 5.731520468543749e-05\n"
          ]
        },
        {
          "output_type": "stream",
          "name": "stderr",
          "text": [
            "100%|██████████| 577/577 [03:26<00:00,  2.79it/s, Epoch=232, LR=3.37e-6, Train_Loss=0.49, accuracy=0.89, f1=0.865]\n",
            "100%|██████████| 73/73 [00:16<00:00,  4.51it/s, Epoch=232, LR=3.37e-6, Valid_Loss=6.84e-5, accuracy=1, f1=1]\n"
          ]
        },
        {
          "output_type": "stream",
          "name": "stdout",
          "text": [
            "Valid Loss : 6.835614698352962e-05\n"
          ]
        },
        {
          "output_type": "stream",
          "name": "stderr",
          "text": [
            "100%|██████████| 577/577 [03:27<00:00,  2.79it/s, Epoch=233, LR=1.98e-6, Train_Loss=0.491, accuracy=0.879, f1=0.854]\n",
            "100%|██████████| 73/73 [00:16<00:00,  4.47it/s, Epoch=233, LR=1.98e-6, Valid_Loss=0.000104, accuracy=1, f1=1]\n"
          ]
        },
        {
          "output_type": "stream",
          "name": "stdout",
          "text": [
            "Valid Loss : 0.00010408134403405711\n"
          ]
        },
        {
          "output_type": "stream",
          "name": "stderr",
          "text": [
            "100%|██████████| 577/577 [03:26<00:00,  2.80it/s, Epoch=234, LR=1.1e-6, Train_Loss=0.487, accuracy=0.884, f1=0.857]\n",
            "100%|██████████| 73/73 [00:16<00:00,  4.48it/s, Epoch=234, LR=1.1e-6, Valid_Loss=6.73e-5, accuracy=1, f1=1]\n"
          ]
        },
        {
          "output_type": "stream",
          "name": "stdout",
          "text": [
            "Valid Loss : 6.734714175041045e-05\n"
          ]
        },
        {
          "output_type": "stream",
          "name": "stderr",
          "text": [
            "100%|██████████| 577/577 [03:26<00:00,  2.79it/s, Epoch=235, LR=1.16e-6, Train_Loss=0.492, accuracy=0.876, f1=0.848]\n",
            "100%|██████████| 73/73 [00:16<00:00,  4.49it/s, Epoch=235, LR=1.16e-6, Valid_Loss=5.43e-5, accuracy=1, f1=1]\n"
          ]
        },
        {
          "output_type": "stream",
          "name": "stdout",
          "text": [
            "Valid Loss : 5.4345057696368776e-05\n"
          ]
        },
        {
          "output_type": "stream",
          "name": "stderr",
          "text": [
            "100%|██████████| 577/577 [03:26<00:00,  2.79it/s, Epoch=236, LR=2.15e-6, Train_Loss=0.495, accuracy=0.884, f1=0.859]\n",
            "100%|██████████| 73/73 [00:16<00:00,  4.52it/s, Epoch=236, LR=2.15e-6, Valid_Loss=6.14e-5, accuracy=1, f1=1]\n"
          ]
        },
        {
          "output_type": "stream",
          "name": "stdout",
          "text": [
            "Valid Loss : 6.138868406670143e-05\n"
          ]
        },
        {
          "output_type": "stream",
          "name": "stderr",
          "text": [
            "100%|██████████| 577/577 [03:26<00:00,  2.79it/s, Epoch=237, LR=3.56e-6, Train_Loss=0.493, accuracy=0.882, f1=0.856]\n",
            "100%|██████████| 73/73 [00:16<00:00,  4.52it/s, Epoch=237, LR=3.56e-6, Valid_Loss=4.77e-5, accuracy=1, f1=1]\n"
          ]
        },
        {
          "output_type": "stream",
          "name": "stdout",
          "text": [
            "Valid Loss : 4.771757600904755e-05\n",
            "Validation Loss improved( 5.020183781285496e-05 ---> 4.771757600904755e-05  )\n",
            "Model Saved\n"
          ]
        },
        {
          "output_type": "stream",
          "name": "stderr",
          "text": [
            "100%|██████████| 577/577 [03:26<00:00,  2.79it/s, Epoch=238, LR=4.69e-6, Train_Loss=0.492, accuracy=0.879, f1=0.851]\n",
            "100%|██████████| 73/73 [00:16<00:00,  4.45it/s, Epoch=238, LR=4.69e-6, Valid_Loss=7.06e-5, accuracy=1, f1=1]\n"
          ]
        },
        {
          "output_type": "stream",
          "name": "stdout",
          "text": [
            "Valid Loss : 7.059225855263234e-05\n"
          ]
        },
        {
          "output_type": "stream",
          "name": "stderr",
          "text": [
            "100%|██████████| 577/577 [03:25<00:00,  2.80it/s, Epoch=239, LR=4.98e-6, Train_Loss=0.487, accuracy=0.887, f1=0.861]\n",
            "100%|██████████| 73/73 [00:16<00:00,  4.50it/s, Epoch=239, LR=4.98e-6, Valid_Loss=6.82e-5, accuracy=1, f1=1]\n"
          ]
        },
        {
          "output_type": "stream",
          "name": "stdout",
          "text": [
            "Valid Loss : 6.8171939297104e-05\n"
          ]
        },
        {
          "output_type": "stream",
          "name": "stderr",
          "text": [
            "100%|██████████| 577/577 [03:26<00:00,  2.79it/s, Epoch=240, LR=4.27e-6, Train_Loss=0.487, accuracy=0.889, f1=0.864]\n",
            "100%|██████████| 73/73 [00:16<00:00,  4.50it/s, Epoch=240, LR=4.27e-6, Valid_Loss=5.02e-5, accuracy=1, f1=1]\n"
          ]
        },
        {
          "output_type": "stream",
          "name": "stdout",
          "text": [
            "Valid Loss : 5.022458268061587e-05\n"
          ]
        },
        {
          "output_type": "stream",
          "name": "stderr",
          "text": [
            "100%|██████████| 577/577 [03:26<00:00,  2.80it/s, Epoch=241, LR=2.94e-6, Train_Loss=0.483, accuracy=0.882, f1=0.858]\n",
            "100%|██████████| 73/73 [00:16<00:00,  4.51it/s, Epoch=241, LR=2.94e-6, Valid_Loss=4.5e-5, accuracy=1, f1=1]\n"
          ]
        },
        {
          "output_type": "stream",
          "name": "stdout",
          "text": [
            "Valid Loss : 4.5025773295193386e-05\n",
            "Validation Loss improved( 4.771757600904755e-05 ---> 4.5025773295193386e-05  )\n",
            "Model Saved\n"
          ]
        },
        {
          "output_type": "stream",
          "name": "stderr",
          "text": [
            "100%|██████████| 577/577 [03:26<00:00,  2.79it/s, Epoch=242, LR=1.63e-6, Train_Loss=0.49, accuracy=0.879, f1=0.852]\n",
            "100%|██████████| 73/73 [00:16<00:00,  4.50it/s, Epoch=242, LR=1.63e-6, Valid_Loss=4.53e-5, accuracy=1, f1=1]\n"
          ]
        },
        {
          "output_type": "stream",
          "name": "stdout",
          "text": [
            "Valid Loss : 4.5281942619436596e-05\n"
          ]
        },
        {
          "output_type": "stream",
          "name": "stderr",
          "text": [
            "100%|██████████| 577/577 [03:25<00:00,  2.80it/s, Epoch=243, LR=1.01e-6, Train_Loss=0.485, accuracy=0.879, f1=0.854]\n",
            "100%|██████████| 73/73 [00:16<00:00,  4.52it/s, Epoch=243, LR=1.01e-6, Valid_Loss=5.74e-5, accuracy=1, f1=1]\n"
          ]
        },
        {
          "output_type": "stream",
          "name": "stdout",
          "text": [
            "Valid Loss : 5.735574649568736e-05\n"
          ]
        },
        {
          "output_type": "stream",
          "name": "stderr",
          "text": [
            "100%|██████████| 577/577 [03:25<00:00,  2.80it/s, Epoch=244, LR=1.38e-6, Train_Loss=0.495, accuracy=0.889, f1=0.862]\n",
            "100%|██████████| 73/73 [00:16<00:00,  4.51it/s, Epoch=244, LR=1.38e-6, Valid_Loss=4.35e-5, accuracy=1, f1=1]\n"
          ]
        },
        {
          "output_type": "stream",
          "name": "stdout",
          "text": [
            "Valid Loss : 4.345091135653329e-05\n",
            "Validation Loss improved( 4.5025773295193386e-05 ---> 4.345091135653329e-05  )\n",
            "Model Saved\n"
          ]
        },
        {
          "output_type": "stream",
          "name": "stderr",
          "text": [
            "100%|██████████| 577/577 [03:26<00:00,  2.80it/s, Epoch=245, LR=2.56e-6, Train_Loss=0.487, accuracy=0.894, f1=0.87]\n",
            "100%|██████████| 73/73 [00:16<00:00,  4.52it/s, Epoch=245, LR=2.56e-6, Valid_Loss=4.24e-5, accuracy=1, f1=1]\n"
          ]
        },
        {
          "output_type": "stream",
          "name": "stdout",
          "text": [
            "Valid Loss : 4.242831538212071e-05\n",
            "Validation Loss improved( 4.345091135653329e-05 ---> 4.242831538212071e-05  )\n",
            "Model Saved\n"
          ]
        },
        {
          "output_type": "stream",
          "name": "stderr",
          "text": [
            "100%|██████████| 577/577 [03:26<00:00,  2.79it/s, Epoch=246, LR=3.96e-6, Train_Loss=0.497, accuracy=0.878, f1=0.852]\n",
            "100%|██████████| 73/73 [00:16<00:00,  4.47it/s, Epoch=246, LR=3.96e-6, Valid_Loss=4.52e-5, accuracy=1, f1=1]\n"
          ]
        },
        {
          "output_type": "stream",
          "name": "stdout",
          "text": [
            "Valid Loss : 4.5249034983125094e-05\n"
          ]
        },
        {
          "output_type": "stream",
          "name": "stderr",
          "text": [
            "100%|██████████| 577/577 [03:25<00:00,  2.81it/s, Epoch=247, LR=4.88e-6, Train_Loss=0.495, accuracy=0.891, f1=0.865]\n",
            "100%|██████████| 73/73 [00:16<00:00,  4.44it/s, Epoch=247, LR=4.88e-6, Valid_Loss=4.53e-5, accuracy=1, f1=1]\n"
          ]
        },
        {
          "output_type": "stream",
          "name": "stdout",
          "text": [
            "Valid Loss : 4.5313188422045495e-05\n"
          ]
        },
        {
          "output_type": "stream",
          "name": "stderr",
          "text": [
            "100%|██████████| 577/577 [03:28<00:00,  2.77it/s, Epoch=248, LR=4.86e-6, Train_Loss=0.487, accuracy=0.89, f1=0.865]\n",
            "100%|██████████| 73/73 [00:16<00:00,  4.45it/s, Epoch=248, LR=4.86e-6, Valid_Loss=4.32e-5, accuracy=1, f1=1]\n"
          ]
        },
        {
          "output_type": "stream",
          "name": "stdout",
          "text": [
            "Valid Loss : 4.320509320329109e-05\n"
          ]
        },
        {
          "output_type": "stream",
          "name": "stderr",
          "text": [
            "100%|██████████| 577/577 [03:28<00:00,  2.76it/s, Epoch=249, LR=3.91e-6, Train_Loss=0.494, accuracy=0.868, f1=0.84]\n",
            "100%|██████████| 73/73 [00:16<00:00,  4.45it/s, Epoch=249, LR=3.91e-6, Valid_Loss=4.07e-5, accuracy=1, f1=1]\n"
          ]
        },
        {
          "output_type": "stream",
          "name": "stdout",
          "text": [
            "Valid Loss : 4.067063960127137e-05\n",
            "Validation Loss improved( 4.242831538212071e-05 ---> 4.067063960127137e-05  )\n",
            "Model Saved\n"
          ]
        },
        {
          "output_type": "stream",
          "name": "stderr",
          "text": [
            "100%|██████████| 577/577 [03:27<00:00,  2.77it/s, Epoch=250, LR=2.5e-6, Train_Loss=0.489, accuracy=0.886, f1=0.863]\n",
            "100%|██████████| 73/73 [00:16<00:00,  4.54it/s, Epoch=250, LR=2.5e-6, Valid_Loss=4.44e-5, accuracy=1, f1=1]\n"
          ]
        },
        {
          "output_type": "stream",
          "name": "stdout",
          "text": [
            "Valid Loss : 4.4357343253915596e-05\n"
          ]
        },
        {
          "output_type": "stream",
          "name": "stderr",
          "text": [
            "100%|██████████| 577/577 [03:25<00:00,  2.81it/s, Epoch=251, LR=1.35e-6, Train_Loss=0.487, accuracy=0.883, f1=0.855]\n",
            "100%|██████████| 73/73 [00:16<00:00,  4.51it/s, Epoch=251, LR=1.35e-6, Valid_Loss=4.59e-5, accuracy=1, f1=1]\n"
          ]
        },
        {
          "output_type": "stream",
          "name": "stdout",
          "text": [
            "Valid Loss : 4.591915997367971e-05\n"
          ]
        },
        {
          "output_type": "stream",
          "name": "stderr",
          "text": [
            "100%|██████████| 577/577 [03:25<00:00,  2.81it/s, Epoch=252, LR=1.02e-6, Train_Loss=0.494, accuracy=0.88, f1=0.854]\n",
            "100%|██████████| 73/73 [00:16<00:00,  4.53it/s, Epoch=252, LR=1.02e-6, Valid_Loss=4.48e-5, accuracy=1, f1=1]\n"
          ]
        },
        {
          "output_type": "stream",
          "name": "stdout",
          "text": [
            "Valid Loss : 4.4795424052097914e-05\n"
          ]
        },
        {
          "output_type": "stream",
          "name": "stderr",
          "text": [
            "100%|██████████| 577/577 [03:26<00:00,  2.80it/s, Epoch=253, LR=1.68e-6, Train_Loss=0.489, accuracy=0.871, f1=0.842]\n",
            "100%|██████████| 73/73 [00:16<00:00,  4.50it/s, Epoch=253, LR=1.68e-6, Valid_Loss=6.98e-5, accuracy=1, f1=1]\n"
          ]
        },
        {
          "output_type": "stream",
          "name": "stdout",
          "text": [
            "Valid Loss : 6.983557649033322e-05\n"
          ]
        },
        {
          "output_type": "stream",
          "name": "stderr",
          "text": [
            "100%|██████████| 577/577 [03:26<00:00,  2.80it/s, Epoch=254, LR=3e-6, Train_Loss=0.489, accuracy=0.885, f1=0.861]\n",
            "100%|██████████| 73/73 [00:16<00:00,  4.52it/s, Epoch=254, LR=3e-6, Valid_Loss=5.5e-5, accuracy=1, f1=1]\n"
          ]
        },
        {
          "output_type": "stream",
          "name": "stdout",
          "text": [
            "Valid Loss : 5.502492305124976e-05\n"
          ]
        },
        {
          "output_type": "stream",
          "name": "stderr",
          "text": [
            "100%|██████████| 577/577 [03:26<00:00,  2.79it/s, Epoch=255, LR=4.32e-6, Train_Loss=0.49, accuracy=0.881, f1=0.857]\n",
            "100%|██████████| 73/73 [00:16<00:00,  4.49it/s, Epoch=255, LR=4.32e-6, Valid_Loss=7.74e-5, accuracy=1, f1=1]\n"
          ]
        },
        {
          "output_type": "stream",
          "name": "stdout",
          "text": [
            "Valid Loss : 7.743749623318452e-05\n"
          ]
        },
        {
          "output_type": "stream",
          "name": "stderr",
          "text": [
            "100%|██████████| 577/577 [03:26<00:00,  2.80it/s, Epoch=256, LR=4.98e-6, Train_Loss=0.488, accuracy=0.877, f1=0.85]\n",
            "100%|██████████| 73/73 [00:16<00:00,  4.49it/s, Epoch=256, LR=4.98e-6, Valid_Loss=4.74e-5, accuracy=1, f1=1]\n"
          ]
        },
        {
          "output_type": "stream",
          "name": "stdout",
          "text": [
            "Valid Loss : 4.739638349485475e-05\n"
          ]
        },
        {
          "output_type": "stream",
          "name": "stderr",
          "text": [
            "100%|██████████| 577/577 [03:25<00:00,  2.81it/s, Epoch=257, LR=4.65e-6, Train_Loss=0.49, accuracy=0.882, f1=0.854]\n",
            "100%|██████████| 73/73 [00:16<00:00,  4.49it/s, Epoch=257, LR=4.65e-6, Valid_Loss=5.32e-5, accuracy=1, f1=1]\n"
          ]
        },
        {
          "output_type": "stream",
          "name": "stdout",
          "text": [
            "Valid Loss : 5.317820350309413e-05\n"
          ]
        },
        {
          "output_type": "stream",
          "name": "stderr",
          "text": [
            "100%|██████████| 577/577 [03:26<00:00,  2.80it/s, Epoch=258, LR=3.5e-6, Train_Loss=0.483, accuracy=0.88, f1=0.853]\n",
            "100%|██████████| 73/73 [00:16<00:00,  4.51it/s, Epoch=258, LR=3.5e-6, Valid_Loss=4.8e-5, accuracy=1, f1=1]\n"
          ]
        },
        {
          "output_type": "stream",
          "name": "stdout",
          "text": [
            "Valid Loss : 4.80054299857815e-05\n"
          ]
        },
        {
          "output_type": "stream",
          "name": "stderr",
          "text": [
            "100%|██████████| 577/577 [03:26<00:00,  2.80it/s, Epoch=259, LR=2.09e-6, Train_Loss=0.48, accuracy=0.887, f1=0.86]\n",
            "100%|██████████| 73/73 [00:16<00:00,  4.48it/s, Epoch=259, LR=2.09e-6, Valid_Loss=4.9e-5, accuracy=1, f1=1]\n"
          ]
        },
        {
          "output_type": "stream",
          "name": "stdout",
          "text": [
            "Valid Loss : 4.898411027344792e-05\n"
          ]
        },
        {
          "output_type": "stream",
          "name": "stderr",
          "text": [
            "100%|██████████| 577/577 [03:26<00:00,  2.80it/s, Epoch=260, LR=1.14e-6, Train_Loss=0.483, accuracy=0.879, f1=0.852]\n",
            "100%|██████████| 73/73 [00:16<00:00,  4.51it/s, Epoch=260, LR=1.14e-6, Valid_Loss=5.18e-5, accuracy=1, f1=1]\n"
          ]
        },
        {
          "output_type": "stream",
          "name": "stdout",
          "text": [
            "Valid Loss : 5.181861430074069e-05\n"
          ]
        },
        {
          "output_type": "stream",
          "name": "stderr",
          "text": [
            "100%|██████████| 577/577 [03:25<00:00,  2.81it/s, Epoch=261, LR=1.12e-6, Train_Loss=0.493, accuracy=0.878, f1=0.848]\n",
            "100%|██████████| 73/73 [00:16<00:00,  4.51it/s, Epoch=261, LR=1.12e-6, Valid_Loss=4.97e-5, accuracy=1, f1=1]\n"
          ]
        },
        {
          "output_type": "stream",
          "name": "stdout",
          "text": [
            "Valid Loss : 4.9708076278887983e-05\n"
          ]
        },
        {
          "output_type": "stream",
          "name": "stderr",
          "text": [
            "100%|██████████| 577/577 [03:25<00:00,  2.80it/s, Epoch=262, LR=2.04e-6, Train_Loss=0.487, accuracy=0.884, f1=0.857]\n",
            "100%|██████████| 73/73 [00:16<00:00,  4.49it/s, Epoch=262, LR=2.04e-6, Valid_Loss=4.61e-5, accuracy=1, f1=1]\n"
          ]
        },
        {
          "output_type": "stream",
          "name": "stdout",
          "text": [
            "Valid Loss : 4.607387643474097e-05\n"
          ]
        },
        {
          "output_type": "stream",
          "name": "stderr",
          "text": [
            "100%|██████████| 577/577 [03:26<00:00,  2.80it/s, Epoch=263, LR=3.44e-6, Train_Loss=0.495, accuracy=0.885, f1=0.859]\n",
            "100%|██████████| 73/73 [00:16<00:00,  4.49it/s, Epoch=263, LR=3.44e-6, Valid_Loss=6.77e-5, accuracy=1, f1=1]\n"
          ]
        },
        {
          "output_type": "stream",
          "name": "stdout",
          "text": [
            "Valid Loss : 6.768873644843601e-05\n"
          ]
        },
        {
          "output_type": "stream",
          "name": "stderr",
          "text": [
            "100%|██████████| 577/577 [03:26<00:00,  2.80it/s, Epoch=264, LR=4.62e-6, Train_Loss=0.488, accuracy=0.885, f1=0.863]\n",
            "100%|██████████| 73/73 [00:16<00:00,  4.49it/s, Epoch=264, LR=4.62e-6, Valid_Loss=4.57e-5, accuracy=1, f1=1]\n"
          ]
        },
        {
          "output_type": "stream",
          "name": "stdout",
          "text": [
            "Valid Loss : 4.571956734963189e-05\n"
          ]
        },
        {
          "output_type": "stream",
          "name": "stderr",
          "text": [
            "100%|██████████| 577/577 [03:25<00:00,  2.81it/s, Epoch=265, LR=4.99e-6, Train_Loss=0.489, accuracy=0.873, f1=0.846]\n",
            "100%|██████████| 73/73 [00:16<00:00,  4.48it/s, Epoch=265, LR=4.99e-6, Valid_Loss=4.65e-5, accuracy=1, f1=1]\n"
          ]
        },
        {
          "output_type": "stream",
          "name": "stdout",
          "text": [
            "Valid Loss : 4.6494710995705655e-05\n"
          ]
        },
        {
          "output_type": "stream",
          "name": "stderr",
          "text": [
            "100%|██████████| 577/577 [03:26<00:00,  2.80it/s, Epoch=266, LR=4.37e-6, Train_Loss=0.483, accuracy=0.888, f1=0.864]\n",
            "100%|██████████| 73/73 [00:16<00:00,  4.47it/s, Epoch=266, LR=4.37e-6, Valid_Loss=4.75e-5, accuracy=1, f1=1]\n"
          ]
        },
        {
          "output_type": "stream",
          "name": "stdout",
          "text": [
            "Valid Loss : 4.754307091177109e-05\n"
          ]
        },
        {
          "output_type": "stream",
          "name": "stderr",
          "text": [
            "100%|██████████| 577/577 [03:26<00:00,  2.80it/s, Epoch=267, LR=3.06e-6, Train_Loss=0.484, accuracy=0.883, f1=0.858]\n",
            "100%|██████████| 73/73 [00:16<00:00,  4.48it/s, Epoch=267, LR=3.06e-6, Valid_Loss=4.84e-5, accuracy=1, f1=1]\n"
          ]
        },
        {
          "output_type": "stream",
          "name": "stdout",
          "text": [
            "Valid Loss : 4.843593073118963e-05\n"
          ]
        },
        {
          "output_type": "stream",
          "name": "stderr",
          "text": [
            "100%|██████████| 577/577 [03:26<00:00,  2.80it/s, Epoch=268, LR=1.73e-6, Train_Loss=0.491, accuracy=0.891, f1=0.865]\n",
            "100%|██████████| 73/73 [00:16<00:00,  4.48it/s, Epoch=268, LR=1.73e-6, Valid_Loss=0.000139, accuracy=1, f1=1]\n"
          ]
        },
        {
          "output_type": "stream",
          "name": "stdout",
          "text": [
            "Valid Loss : 0.0001391245769149439\n"
          ]
        },
        {
          "output_type": "stream",
          "name": "stderr",
          "text": [
            "100%|██████████| 577/577 [03:25<00:00,  2.80it/s, Epoch=269, LR=1.02e-6, Train_Loss=0.484, accuracy=0.885, f1=0.859]\n",
            "100%|██████████| 73/73 [00:16<00:00,  4.50it/s, Epoch=269, LR=1.02e-6, Valid_Loss=0.000114, accuracy=1, f1=1]\n"
          ]
        },
        {
          "output_type": "stream",
          "name": "stdout",
          "text": [
            "Valid Loss : 0.00011442155644619735\n"
          ]
        },
        {
          "output_type": "stream",
          "name": "stderr",
          "text": [
            "100%|██████████| 577/577 [03:25<00:00,  2.80it/s, Epoch=270, LR=1.31e-6, Train_Loss=0.477, accuracy=0.892, f1=0.868]\n",
            "100%|██████████| 73/73 [00:16<00:00,  4.50it/s, Epoch=270, LR=1.31e-6, Valid_Loss=3.86e-5, accuracy=1, f1=1]\n"
          ]
        },
        {
          "output_type": "stream",
          "name": "stdout",
          "text": [
            "Valid Loss : 3.861154324761018e-05\n",
            "Validation Loss improved( 4.067063960127137e-05 ---> 3.861154324761018e-05  )\n",
            "Model Saved\n"
          ]
        },
        {
          "output_type": "stream",
          "name": "stderr",
          "text": [
            " 16%|█▋        | 95/577 [00:35<02:58,  2.70it/s, Epoch=271, LR=4.5e-6, Train_Loss=0.509, accuracy=0.889, f1=0.854]\n"
          ]
        },
        {
          "output_type": "error",
          "ename": "KeyboardInterrupt",
          "evalue": "ignored",
          "traceback": [
            "\u001b[0;31m---------------------------------------------------------------------------\u001b[0m",
            "\u001b[0;31mKeyboardInterrupt\u001b[0m                         Traceback (most recent call last)",
            "\u001b[0;32m<ipython-input-24-a4a7c30cb085>\u001b[0m in \u001b[0;36m<module>\u001b[0;34m()\u001b[0m\n\u001b[1;32m     12\u001b[0m     \u001b[0mearly_stopping\u001b[0m\u001b[0;34m=\u001b[0m\u001b[0mCONFIG\u001b[0m\u001b[0;34m[\u001b[0m\u001b[0;34m'early_stopping'\u001b[0m\u001b[0;34m]\u001b[0m\u001b[0;34m,\u001b[0m\u001b[0;34m\u001b[0m\u001b[0;34m\u001b[0m\u001b[0m\n\u001b[1;32m     13\u001b[0m     \u001b[0mearly_stopping_step\u001b[0m\u001b[0;34m=\u001b[0m\u001b[0mCONFIG\u001b[0m\u001b[0;34m[\u001b[0m\u001b[0;34m'early_stopping_step'\u001b[0m\u001b[0;34m]\u001b[0m\u001b[0;34m,\u001b[0m\u001b[0;34m\u001b[0m\u001b[0;34m\u001b[0m\u001b[0m\n\u001b[0;32m---> 14\u001b[0;31m     \u001b[0mSTART_EPOCH\u001b[0m\u001b[0;34m=\u001b[0m\u001b[0;36m5\u001b[0m\u001b[0;34m,\u001b[0m\u001b[0;34m\u001b[0m\u001b[0;34m\u001b[0m\u001b[0m\n\u001b[0m\u001b[1;32m     15\u001b[0m )\n",
            "\u001b[0;32m<ipython-input-18-48f205fca9a5>\u001b[0m in \u001b[0;36mrun_training\u001b[0;34m(model, optimizer, scheduler, device, num_epochs, metric_prefix, file_prefix, early_stopping, early_stopping_step, START_EPOCH)\u001b[0m\n\u001b[1;32m     42\u001b[0m             \u001b[0mdataloader\u001b[0m\u001b[0;34m=\u001b[0m\u001b[0mtrainDataloader\u001b[0m\u001b[0;34m,\u001b[0m\u001b[0;34m\u001b[0m\u001b[0;34m\u001b[0m\u001b[0m\n\u001b[1;32m     43\u001b[0m             \u001b[0mdevice\u001b[0m\u001b[0;34m=\u001b[0m\u001b[0mdevice\u001b[0m\u001b[0;34m,\u001b[0m\u001b[0;34m\u001b[0m\u001b[0;34m\u001b[0m\u001b[0m\n\u001b[0;32m---> 44\u001b[0;31m             \u001b[0mepoch\u001b[0m\u001b[0;34m=\u001b[0m\u001b[0mepoch\u001b[0m\u001b[0;34m,\u001b[0m\u001b[0;34m\u001b[0m\u001b[0;34m\u001b[0m\u001b[0m\n\u001b[0m\u001b[1;32m     45\u001b[0m         )\n\u001b[1;32m     46\u001b[0m \u001b[0;34m\u001b[0m\u001b[0m\n",
            "\u001b[0;32m<ipython-input-16-ec0040f593cf>\u001b[0m in \u001b[0;36mtrain_one_epoch\u001b[0;34m(model, optimizer, scheduler, dataloader, device, epoch)\u001b[0m\n\u001b[1;32m     63\u001b[0m \u001b[0;34m\u001b[0m\u001b[0m\n\u001b[1;32m     64\u001b[0m             \u001b[0mloss\u001b[0m\u001b[0;34m.\u001b[0m\u001b[0mbackward\u001b[0m\u001b[0;34m(\u001b[0m\u001b[0;34m)\u001b[0m\u001b[0;34m\u001b[0m\u001b[0;34m\u001b[0m\u001b[0m\n\u001b[0;32m---> 65\u001b[0;31m             \u001b[0mtorch\u001b[0m\u001b[0;34m.\u001b[0m\u001b[0mnn\u001b[0m\u001b[0;34m.\u001b[0m\u001b[0mutils\u001b[0m\u001b[0;34m.\u001b[0m\u001b[0mclip_grad_norm_\u001b[0m\u001b[0;34m(\u001b[0m\u001b[0mmodel\u001b[0m\u001b[0;34m.\u001b[0m\u001b[0mparameters\u001b[0m\u001b[0;34m(\u001b[0m\u001b[0;34m)\u001b[0m\u001b[0;34m,\u001b[0m \u001b[0;36m1\u001b[0m\u001b[0;34m)\u001b[0m\u001b[0;34m\u001b[0m\u001b[0;34m\u001b[0m\u001b[0m\n\u001b[0m\u001b[1;32m     66\u001b[0m             \u001b[0moptimizer\u001b[0m\u001b[0;34m.\u001b[0m\u001b[0mstep\u001b[0m\u001b[0;34m(\u001b[0m\u001b[0;34m)\u001b[0m\u001b[0;34m\u001b[0m\u001b[0;34m\u001b[0m\u001b[0m\n\u001b[1;32m     67\u001b[0m \u001b[0;34m\u001b[0m\u001b[0m\n",
            "\u001b[0;32m/usr/local/lib/python3.7/dist-packages/torch/nn/utils/clip_grad.py\u001b[0m in \u001b[0;36mclip_grad_norm_\u001b[0;34m(parameters, max_norm, norm_type, error_if_nonfinite)\u001b[0m\n\u001b[1;32m     30\u001b[0m     \u001b[0;32mif\u001b[0m \u001b[0misinstance\u001b[0m\u001b[0;34m(\u001b[0m\u001b[0mparameters\u001b[0m\u001b[0;34m,\u001b[0m \u001b[0mtorch\u001b[0m\u001b[0;34m.\u001b[0m\u001b[0mTensor\u001b[0m\u001b[0;34m)\u001b[0m\u001b[0;34m:\u001b[0m\u001b[0;34m\u001b[0m\u001b[0;34m\u001b[0m\u001b[0m\n\u001b[1;32m     31\u001b[0m         \u001b[0mparameters\u001b[0m \u001b[0;34m=\u001b[0m \u001b[0;34m[\u001b[0m\u001b[0mparameters\u001b[0m\u001b[0;34m]\u001b[0m\u001b[0;34m\u001b[0m\u001b[0;34m\u001b[0m\u001b[0m\n\u001b[0;32m---> 32\u001b[0;31m     \u001b[0mparameters\u001b[0m \u001b[0;34m=\u001b[0m \u001b[0;34m[\u001b[0m\u001b[0mp\u001b[0m \u001b[0;32mfor\u001b[0m \u001b[0mp\u001b[0m \u001b[0;32min\u001b[0m \u001b[0mparameters\u001b[0m \u001b[0;32mif\u001b[0m \u001b[0mp\u001b[0m\u001b[0;34m.\u001b[0m\u001b[0mgrad\u001b[0m \u001b[0;32mis\u001b[0m \u001b[0;32mnot\u001b[0m \u001b[0;32mNone\u001b[0m\u001b[0;34m]\u001b[0m\u001b[0;34m\u001b[0m\u001b[0;34m\u001b[0m\u001b[0m\n\u001b[0m\u001b[1;32m     33\u001b[0m     \u001b[0mmax_norm\u001b[0m \u001b[0;34m=\u001b[0m \u001b[0mfloat\u001b[0m\u001b[0;34m(\u001b[0m\u001b[0mmax_norm\u001b[0m\u001b[0;34m)\u001b[0m\u001b[0;34m\u001b[0m\u001b[0;34m\u001b[0m\u001b[0m\n\u001b[1;32m     34\u001b[0m     \u001b[0mnorm_type\u001b[0m \u001b[0;34m=\u001b[0m \u001b[0mfloat\u001b[0m\u001b[0;34m(\u001b[0m\u001b[0mnorm_type\u001b[0m\u001b[0;34m)\u001b[0m\u001b[0;34m\u001b[0m\u001b[0;34m\u001b[0m\u001b[0m\n",
            "\u001b[0;32m/usr/local/lib/python3.7/dist-packages/torch/nn/utils/clip_grad.py\u001b[0m in \u001b[0;36m<listcomp>\u001b[0;34m(.0)\u001b[0m\n\u001b[1;32m     30\u001b[0m     \u001b[0;32mif\u001b[0m \u001b[0misinstance\u001b[0m\u001b[0;34m(\u001b[0m\u001b[0mparameters\u001b[0m\u001b[0;34m,\u001b[0m \u001b[0mtorch\u001b[0m\u001b[0;34m.\u001b[0m\u001b[0mTensor\u001b[0m\u001b[0;34m)\u001b[0m\u001b[0;34m:\u001b[0m\u001b[0;34m\u001b[0m\u001b[0;34m\u001b[0m\u001b[0m\n\u001b[1;32m     31\u001b[0m         \u001b[0mparameters\u001b[0m \u001b[0;34m=\u001b[0m \u001b[0;34m[\u001b[0m\u001b[0mparameters\u001b[0m\u001b[0;34m]\u001b[0m\u001b[0;34m\u001b[0m\u001b[0;34m\u001b[0m\u001b[0m\n\u001b[0;32m---> 32\u001b[0;31m     \u001b[0mparameters\u001b[0m \u001b[0;34m=\u001b[0m \u001b[0;34m[\u001b[0m\u001b[0mp\u001b[0m \u001b[0;32mfor\u001b[0m \u001b[0mp\u001b[0m \u001b[0;32min\u001b[0m \u001b[0mparameters\u001b[0m \u001b[0;32mif\u001b[0m \u001b[0mp\u001b[0m\u001b[0;34m.\u001b[0m\u001b[0mgrad\u001b[0m \u001b[0;32mis\u001b[0m \u001b[0;32mnot\u001b[0m \u001b[0;32mNone\u001b[0m\u001b[0;34m]\u001b[0m\u001b[0;34m\u001b[0m\u001b[0;34m\u001b[0m\u001b[0m\n\u001b[0m\u001b[1;32m     33\u001b[0m     \u001b[0mmax_norm\u001b[0m \u001b[0;34m=\u001b[0m \u001b[0mfloat\u001b[0m\u001b[0;34m(\u001b[0m\u001b[0mmax_norm\u001b[0m\u001b[0;34m)\u001b[0m\u001b[0;34m\u001b[0m\u001b[0;34m\u001b[0m\u001b[0m\n\u001b[1;32m     34\u001b[0m     \u001b[0mnorm_type\u001b[0m \u001b[0;34m=\u001b[0m \u001b[0mfloat\u001b[0m\u001b[0;34m(\u001b[0m\u001b[0mnorm_type\u001b[0m\u001b[0;34m)\u001b[0m\u001b[0;34m\u001b[0m\u001b[0;34m\u001b[0m\u001b[0m\n",
            "\u001b[0;32m/usr/local/lib/python3.7/dist-packages/torch/nn/modules/module.py\u001b[0m in \u001b[0;36mparameters\u001b[0;34m(self, recurse)\u001b[0m\n\u001b[1;32m   1518\u001b[0m \u001b[0;34m\u001b[0m\u001b[0m\n\u001b[1;32m   1519\u001b[0m         \"\"\"\n\u001b[0;32m-> 1520\u001b[0;31m         \u001b[0;32mfor\u001b[0m \u001b[0mname\u001b[0m\u001b[0;34m,\u001b[0m \u001b[0mparam\u001b[0m \u001b[0;32min\u001b[0m \u001b[0mself\u001b[0m\u001b[0;34m.\u001b[0m\u001b[0mnamed_parameters\u001b[0m\u001b[0;34m(\u001b[0m\u001b[0mrecurse\u001b[0m\u001b[0;34m=\u001b[0m\u001b[0mrecurse\u001b[0m\u001b[0;34m)\u001b[0m\u001b[0;34m:\u001b[0m\u001b[0;34m\u001b[0m\u001b[0;34m\u001b[0m\u001b[0m\n\u001b[0m\u001b[1;32m   1521\u001b[0m             \u001b[0;32myield\u001b[0m \u001b[0mparam\u001b[0m\u001b[0;34m\u001b[0m\u001b[0;34m\u001b[0m\u001b[0m\n\u001b[1;32m   1522\u001b[0m \u001b[0;34m\u001b[0m\u001b[0m\n",
            "\u001b[0;32m/usr/local/lib/python3.7/dist-packages/torch/nn/modules/module.py\u001b[0m in \u001b[0;36mnamed_parameters\u001b[0;34m(self, prefix, recurse)\u001b[0m\n\u001b[1;32m   1544\u001b[0m             \u001b[0;32mlambda\u001b[0m \u001b[0mmodule\u001b[0m\u001b[0;34m:\u001b[0m \u001b[0mmodule\u001b[0m\u001b[0;34m.\u001b[0m\u001b[0m_parameters\u001b[0m\u001b[0;34m.\u001b[0m\u001b[0mitems\u001b[0m\u001b[0;34m(\u001b[0m\u001b[0;34m)\u001b[0m\u001b[0;34m,\u001b[0m\u001b[0;34m\u001b[0m\u001b[0;34m\u001b[0m\u001b[0m\n\u001b[1;32m   1545\u001b[0m             prefix=prefix, recurse=recurse)\n\u001b[0;32m-> 1546\u001b[0;31m         \u001b[0;32mfor\u001b[0m \u001b[0melem\u001b[0m \u001b[0;32min\u001b[0m \u001b[0mgen\u001b[0m\u001b[0;34m:\u001b[0m\u001b[0;34m\u001b[0m\u001b[0;34m\u001b[0m\u001b[0m\n\u001b[0m\u001b[1;32m   1547\u001b[0m             \u001b[0;32myield\u001b[0m \u001b[0melem\u001b[0m\u001b[0;34m\u001b[0m\u001b[0;34m\u001b[0m\u001b[0m\n\u001b[1;32m   1548\u001b[0m \u001b[0;34m\u001b[0m\u001b[0m\n",
            "\u001b[0;32m/usr/local/lib/python3.7/dist-packages/torch/nn/modules/module.py\u001b[0m in \u001b[0;36m_named_members\u001b[0;34m(self, get_members_fn, prefix, recurse)\u001b[0m\n\u001b[1;32m   1489\u001b[0m         \u001b[0mmodules\u001b[0m \u001b[0;34m=\u001b[0m \u001b[0mself\u001b[0m\u001b[0;34m.\u001b[0m\u001b[0mnamed_modules\u001b[0m\u001b[0;34m(\u001b[0m\u001b[0mprefix\u001b[0m\u001b[0;34m=\u001b[0m\u001b[0mprefix\u001b[0m\u001b[0;34m)\u001b[0m \u001b[0;32mif\u001b[0m \u001b[0mrecurse\u001b[0m \u001b[0;32melse\u001b[0m \u001b[0;34m[\u001b[0m\u001b[0;34m(\u001b[0m\u001b[0mprefix\u001b[0m\u001b[0;34m,\u001b[0m \u001b[0mself\u001b[0m\u001b[0;34m)\u001b[0m\u001b[0;34m]\u001b[0m\u001b[0;34m\u001b[0m\u001b[0;34m\u001b[0m\u001b[0m\n\u001b[1;32m   1490\u001b[0m         \u001b[0;32mfor\u001b[0m \u001b[0mmodule_prefix\u001b[0m\u001b[0;34m,\u001b[0m \u001b[0mmodule\u001b[0m \u001b[0;32min\u001b[0m \u001b[0mmodules\u001b[0m\u001b[0;34m:\u001b[0m\u001b[0;34m\u001b[0m\u001b[0;34m\u001b[0m\u001b[0m\n\u001b[0;32m-> 1491\u001b[0;31m             \u001b[0mmembers\u001b[0m \u001b[0;34m=\u001b[0m \u001b[0mget_members_fn\u001b[0m\u001b[0;34m(\u001b[0m\u001b[0mmodule\u001b[0m\u001b[0;34m)\u001b[0m\u001b[0;34m\u001b[0m\u001b[0;34m\u001b[0m\u001b[0m\n\u001b[0m\u001b[1;32m   1492\u001b[0m             \u001b[0;32mfor\u001b[0m \u001b[0mk\u001b[0m\u001b[0;34m,\u001b[0m \u001b[0mv\u001b[0m \u001b[0;32min\u001b[0m \u001b[0mmembers\u001b[0m\u001b[0;34m:\u001b[0m\u001b[0;34m\u001b[0m\u001b[0;34m\u001b[0m\u001b[0m\n\u001b[1;32m   1493\u001b[0m                 \u001b[0;32mif\u001b[0m \u001b[0mv\u001b[0m \u001b[0;32mis\u001b[0m \u001b[0;32mNone\u001b[0m \u001b[0;32mor\u001b[0m \u001b[0mv\u001b[0m \u001b[0;32min\u001b[0m \u001b[0mmemo\u001b[0m\u001b[0;34m:\u001b[0m\u001b[0;34m\u001b[0m\u001b[0;34m\u001b[0m\u001b[0m\n",
            "\u001b[0;32m/usr/local/lib/python3.7/dist-packages/torch/nn/modules/module.py\u001b[0m in \u001b[0;36m<lambda>\u001b[0;34m(module)\u001b[0m\n\u001b[1;32m   1542\u001b[0m         \"\"\"\n\u001b[1;32m   1543\u001b[0m         gen = self._named_members(\n\u001b[0;32m-> 1544\u001b[0;31m             \u001b[0;32mlambda\u001b[0m \u001b[0mmodule\u001b[0m\u001b[0;34m:\u001b[0m \u001b[0mmodule\u001b[0m\u001b[0;34m.\u001b[0m\u001b[0m_parameters\u001b[0m\u001b[0;34m.\u001b[0m\u001b[0mitems\u001b[0m\u001b[0;34m(\u001b[0m\u001b[0;34m)\u001b[0m\u001b[0;34m,\u001b[0m\u001b[0;34m\u001b[0m\u001b[0;34m\u001b[0m\u001b[0m\n\u001b[0m\u001b[1;32m   1545\u001b[0m             prefix=prefix, recurse=recurse)\n\u001b[1;32m   1546\u001b[0m         \u001b[0;32mfor\u001b[0m \u001b[0melem\u001b[0m \u001b[0;32min\u001b[0m \u001b[0mgen\u001b[0m\u001b[0;34m:\u001b[0m\u001b[0;34m\u001b[0m\u001b[0;34m\u001b[0m\u001b[0m\n",
            "\u001b[0;31mKeyboardInterrupt\u001b[0m: "
          ]
        }
      ],
      "source": [
        "ic.disable()\n",
        "run_training(\n",
        "    model=model,\n",
        "    optimizer=optimizer,\n",
        "    scheduler=torch.optim.lr_scheduler.CosineAnnealingLR(\n",
        "        optimizer=optimizer, T_max=CONFIG['T_max'], eta_min=CONFIG['min_lr']),\n",
        "    # scheduler=None,\n",
        "    device=device,\n",
        "    num_epochs=400,\n",
        "    metric_prefix=\"\",\n",
        "    file_prefix=\"\",\n",
        "    early_stopping=CONFIG['early_stopping'],\n",
        "    early_stopping_step=CONFIG['early_stopping_step'],\n",
        "    START_EPOCH=5,\n",
        ")\n"
      ]
    },
    {
      "cell_type": "code",
      "source": [
        "wandb.finish()"
      ],
      "metadata": {
        "colab": {
          "base_uri": "https://localhost:8080/",
          "height": 658,
          "referenced_widgets": [
            "d3648482e0324ba0b78ff8d3e929b602",
            "f7cc21959f88416e9df7dba0dbc697a7",
            "d9a1782307b0470099c7cd1acf2ec7a5",
            "58a2f137ec4243dfa4d8d822697d6879",
            "5145c5d8b903491e96e04a0b00d89d05",
            "83668cdb190a444db76145e587216759",
            "a3e1ba72ab4a46c69f0b4aa6d8300df0",
            "426fb28ad0d043bbb9613ac62efbd17c"
          ]
        },
        "id": "_lSY1fu15fPu",
        "outputId": "2c4e04ad-567a-421e-8dd3-e80013244ea4"
      },
      "execution_count": null,
      "outputs": [
        {
          "output_type": "display_data",
          "data": {
            "text/html": [
              "<br/>Waiting for W&B process to finish, PID 175... <strong style=\"color:green\">(success).</strong>"
            ],
            "text/plain": [
              "<IPython.core.display.HTML object>"
            ]
          },
          "metadata": {}
        },
        {
          "output_type": "display_data",
          "data": {
            "application/vnd.jupyter.widget-view+json": {
              "model_id": "d3648482e0324ba0b78ff8d3e929b602",
              "version_minor": 0,
              "version_major": 2
            },
            "text/plain": [
              "VBox(children=(Label(value=' 16357.87MB of 16357.87MB uploaded (0.00MB deduped)\\r'), FloatProgress(value=1.0, …"
            ]
          },
          "metadata": {}
        },
        {
          "output_type": "display_data",
          "data": {
            "text/html": [
              "<style>\n",
              "    table.wandb td:nth-child(1) { padding: 0 10px; text-align: right }\n",
              "    .wandb-row { display: flex; flex-direction: row; flex-wrap: wrap; width: 100% }\n",
              "    .wandb-col { display: flex; flex-direction: column; flex-basis: 100%; flex: 1; padding: 10px; }\n",
              "    </style>\n",
              "<div class=\"wandb-row\"><div class=\"wandb-col\">\n",
              "<h3>Run history:</h3><br/><table class=\"wandb\"><tr><td>Train Accuracy</td><td>▁▁▂▃▃▄▅▅▅▅▆▅▆▆▆▆▇▇▆▆▇▆▇▇▇▇▇▇▇█▇█████████</td></tr><tr><td>Train F1</td><td>▂▁▂▃▃▄▅▅▅▅▆▅▆▆▆▆▇▇▆▆▇▆▇▇▇▇▇▇▇█▇█████████</td></tr><tr><td>Train Loss</td><td>█▄▃▃▂▂▂▂▂▂▂▂▂▁▂▁▁▁▁▁▁▁▁▁▁▁▁▁▁▁▁▁▁▁▁▁▁▁▁▁</td></tr><tr><td>Valid Accuracy</td><td>▁▁▁▁▁▁▁▁▁▁▁▁▁▁▁▁▁▁▁▁▁▁▁▁▁▁▁▁▁▁▁▁▁▁▁▁▁▁▁▁</td></tr><tr><td>Valid F1</td><td>▁▁▁▁▁▁▁▁▁▁▁▁▁▁▁▁▁▁▁▁▁▁▁▁▁▁▁▁▁▁▁▁▁▁▁▁▁▁▁▁</td></tr><tr><td>Valid Loss</td><td>█▄▃▂▂▂▁▁▁▁▁▁▁▁▁▁▁▁▁▁▁▁▁▁▁▁▁▁▁▁▁▁▁▁▁▁▁▁▁▁</td></tr></table><br/></div><div class=\"wandb-col\">\n",
              "<h3>Run summary:</h3><br/><table class=\"wandb\"><tr><td>Train Accuracy</td><td>0.89234</td></tr><tr><td>Train F1</td><td>0.86846</td></tr><tr><td>Train Loss</td><td>0.47653</td></tr><tr><td>Valid Accuracy</td><td>1.0</td></tr><tr><td>Valid F1</td><td>1.0</td></tr><tr><td>Valid Loss</td><td>4e-05</td></tr></table>\n",
              "</div></div>\n",
              "Synced 5 W&B file(s), 0 media file(s), 17 artifact file(s) and 88 other file(s)\n",
              "<br/>Synced <strong style=\"color:#cdcd00\">cheerful-lantern-117</strong>: <a href=\"https://wandb.ai/jiwon7258/lg/runs/3199pcx4\" target=\"_blank\">https://wandb.ai/jiwon7258/lg/runs/3199pcx4</a><br/>\n",
              "Find logs at: <code>./wandb/run-20220201_173125-3199pcx4/logs</code><br/>\n"
            ],
            "text/plain": [
              "<IPython.core.display.HTML object>"
            ]
          },
          "metadata": {}
        }
      ]
    }
  ],
  "metadata": {
    "accelerator": "GPU",
    "colab": {
      "collapsed_sections": [],
      "name": "lg_train_swin_small224_finecutmix.ipynb",
      "provenance": []
    },
    "kernelspec": {
      "display_name": "Python 3",
      "language": "python",
      "name": "python3"
    },
    "language_info": {
      "codemirror_mode": {
        "name": "ipython",
        "version": 3
      },
      "file_extension": ".py",
      "mimetype": "text/x-python",
      "name": "python",
      "nbconvert_exporter": "python",
      "pygments_lexer": "ipython3",
      "version": "3.9.7"
    },
    "widgets": {
      "application/vnd.jupyter.widget-state+json": {
        "d3648482e0324ba0b78ff8d3e929b602": {
          "model_module": "@jupyter-widgets/controls",
          "model_name": "VBoxModel",
          "model_module_version": "1.5.0",
          "state": {
            "_view_name": "VBoxView",
            "_dom_classes": [],
            "_model_name": "VBoxModel",
            "_view_module": "@jupyter-widgets/controls",
            "_model_module_version": "1.5.0",
            "_view_count": null,
            "_view_module_version": "1.5.0",
            "box_style": "",
            "layout": "IPY_MODEL_f7cc21959f88416e9df7dba0dbc697a7",
            "_model_module": "@jupyter-widgets/controls",
            "children": [
              "IPY_MODEL_d9a1782307b0470099c7cd1acf2ec7a5",
              "IPY_MODEL_58a2f137ec4243dfa4d8d822697d6879"
            ]
          }
        },
        "f7cc21959f88416e9df7dba0dbc697a7": {
          "model_module": "@jupyter-widgets/base",
          "model_name": "LayoutModel",
          "model_module_version": "1.2.0",
          "state": {
            "_view_name": "LayoutView",
            "grid_template_rows": null,
            "right": null,
            "justify_content": null,
            "_view_module": "@jupyter-widgets/base",
            "overflow": null,
            "_model_module_version": "1.2.0",
            "_view_count": null,
            "flex_flow": null,
            "width": null,
            "min_width": null,
            "border": null,
            "align_items": null,
            "bottom": null,
            "_model_module": "@jupyter-widgets/base",
            "top": null,
            "grid_column": null,
            "overflow_y": null,
            "overflow_x": null,
            "grid_auto_flow": null,
            "grid_area": null,
            "grid_template_columns": null,
            "flex": null,
            "_model_name": "LayoutModel",
            "justify_items": null,
            "grid_row": null,
            "max_height": null,
            "align_content": null,
            "visibility": null,
            "align_self": null,
            "height": null,
            "min_height": null,
            "padding": null,
            "grid_auto_rows": null,
            "grid_gap": null,
            "max_width": null,
            "order": null,
            "_view_module_version": "1.2.0",
            "grid_template_areas": null,
            "object_position": null,
            "object_fit": null,
            "grid_auto_columns": null,
            "margin": null,
            "display": null,
            "left": null
          }
        },
        "d9a1782307b0470099c7cd1acf2ec7a5": {
          "model_module": "@jupyter-widgets/controls",
          "model_name": "LabelModel",
          "model_module_version": "1.5.0",
          "state": {
            "_view_name": "LabelView",
            "style": "IPY_MODEL_5145c5d8b903491e96e04a0b00d89d05",
            "_dom_classes": [],
            "description": "",
            "_model_name": "LabelModel",
            "placeholder": "​",
            "_view_module": "@jupyter-widgets/controls",
            "_model_module_version": "1.5.0",
            "value": " 16361.56MB of 16361.56MB uploaded (0.00MB deduped)\r",
            "_view_count": null,
            "_view_module_version": "1.5.0",
            "description_tooltip": null,
            "_model_module": "@jupyter-widgets/controls",
            "layout": "IPY_MODEL_83668cdb190a444db76145e587216759"
          }
        },
        "58a2f137ec4243dfa4d8d822697d6879": {
          "model_module": "@jupyter-widgets/controls",
          "model_name": "FloatProgressModel",
          "model_module_version": "1.5.0",
          "state": {
            "_view_name": "ProgressView",
            "style": "IPY_MODEL_a3e1ba72ab4a46c69f0b4aa6d8300df0",
            "_dom_classes": [],
            "description": "",
            "_model_name": "FloatProgressModel",
            "bar_style": "",
            "max": 1,
            "_view_module": "@jupyter-widgets/controls",
            "_model_module_version": "1.5.0",
            "value": 1,
            "_view_count": null,
            "_view_module_version": "1.5.0",
            "orientation": "horizontal",
            "min": 0,
            "description_tooltip": null,
            "_model_module": "@jupyter-widgets/controls",
            "layout": "IPY_MODEL_426fb28ad0d043bbb9613ac62efbd17c"
          }
        },
        "5145c5d8b903491e96e04a0b00d89d05": {
          "model_module": "@jupyter-widgets/controls",
          "model_name": "DescriptionStyleModel",
          "model_module_version": "1.5.0",
          "state": {
            "_view_name": "StyleView",
            "_model_name": "DescriptionStyleModel",
            "description_width": "",
            "_view_module": "@jupyter-widgets/base",
            "_model_module_version": "1.5.0",
            "_view_count": null,
            "_view_module_version": "1.2.0",
            "_model_module": "@jupyter-widgets/controls"
          }
        },
        "83668cdb190a444db76145e587216759": {
          "model_module": "@jupyter-widgets/base",
          "model_name": "LayoutModel",
          "model_module_version": "1.2.0",
          "state": {
            "_view_name": "LayoutView",
            "grid_template_rows": null,
            "right": null,
            "justify_content": null,
            "_view_module": "@jupyter-widgets/base",
            "overflow": null,
            "_model_module_version": "1.2.0",
            "_view_count": null,
            "flex_flow": null,
            "width": null,
            "min_width": null,
            "border": null,
            "align_items": null,
            "bottom": null,
            "_model_module": "@jupyter-widgets/base",
            "top": null,
            "grid_column": null,
            "overflow_y": null,
            "overflow_x": null,
            "grid_auto_flow": null,
            "grid_area": null,
            "grid_template_columns": null,
            "flex": null,
            "_model_name": "LayoutModel",
            "justify_items": null,
            "grid_row": null,
            "max_height": null,
            "align_content": null,
            "visibility": null,
            "align_self": null,
            "height": null,
            "min_height": null,
            "padding": null,
            "grid_auto_rows": null,
            "grid_gap": null,
            "max_width": null,
            "order": null,
            "_view_module_version": "1.2.0",
            "grid_template_areas": null,
            "object_position": null,
            "object_fit": null,
            "grid_auto_columns": null,
            "margin": null,
            "display": null,
            "left": null
          }
        },
        "a3e1ba72ab4a46c69f0b4aa6d8300df0": {
          "model_module": "@jupyter-widgets/controls",
          "model_name": "ProgressStyleModel",
          "model_module_version": "1.5.0",
          "state": {
            "_view_name": "StyleView",
            "_model_name": "ProgressStyleModel",
            "description_width": "",
            "_view_module": "@jupyter-widgets/base",
            "_model_module_version": "1.5.0",
            "_view_count": null,
            "_view_module_version": "1.2.0",
            "bar_color": null,
            "_model_module": "@jupyter-widgets/controls"
          }
        },
        "426fb28ad0d043bbb9613ac62efbd17c": {
          "model_module": "@jupyter-widgets/base",
          "model_name": "LayoutModel",
          "model_module_version": "1.2.0",
          "state": {
            "_view_name": "LayoutView",
            "grid_template_rows": null,
            "right": null,
            "justify_content": null,
            "_view_module": "@jupyter-widgets/base",
            "overflow": null,
            "_model_module_version": "1.2.0",
            "_view_count": null,
            "flex_flow": null,
            "width": null,
            "min_width": null,
            "border": null,
            "align_items": null,
            "bottom": null,
            "_model_module": "@jupyter-widgets/base",
            "top": null,
            "grid_column": null,
            "overflow_y": null,
            "overflow_x": null,
            "grid_auto_flow": null,
            "grid_area": null,
            "grid_template_columns": null,
            "flex": null,
            "_model_name": "LayoutModel",
            "justify_items": null,
            "grid_row": null,
            "max_height": null,
            "align_content": null,
            "visibility": null,
            "align_self": null,
            "height": null,
            "min_height": null,
            "padding": null,
            "grid_auto_rows": null,
            "grid_gap": null,
            "max_width": null,
            "order": null,
            "_view_module_version": "1.2.0",
            "grid_template_areas": null,
            "object_position": null,
            "object_fit": null,
            "grid_auto_columns": null,
            "margin": null,
            "display": null,
            "left": null
          }
        }
      }
    }
  },
  "nbformat": 4,
  "nbformat_minor": 0
}