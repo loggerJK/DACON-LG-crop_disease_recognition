{
  "cells": [
    {
      "cell_type": "markdown",
      "metadata": {
        "id": "XQuUKAHnPGqb"
      },
      "source": [
        "# Library"
      ]
    },
    {
      "cell_type": "code",
      "execution_count": null,
      "metadata": {
        "colab": {
          "base_uri": "https://localhost:8080/"
        },
        "id": "EP8Uk0lzPGqi",
        "outputId": "1fc83020-1870-4639-cae4-995012852005"
      },
      "outputs": [
        {
          "name": "stdout",
          "output_type": "stream",
          "text": [
            "\u001b[K     |████████████████████████████████| 21.8 MB 1.3 MB/s \n",
            "\u001b[K     |████████████████████████████████| 102 kB 72.6 MB/s \n",
            "\u001b[K     |████████████████████████████████| 431 kB 73.9 MB/s \n",
            "\u001b[K     |████████████████████████████████| 180 kB 75.2 MB/s \n",
            "\u001b[K     |████████████████████████████████| 143 kB 73.3 MB/s \n",
            "\u001b[K     |████████████████████████████████| 63 kB 2.5 MB/s \n",
            "\u001b[?25h  Building wheel for pathtools (setup.py) ... \u001b[?25l\u001b[?25hdone\n"
          ]
        }
      ],
      "source": [
        "! pip install wandb opencv-python-headless==4.1.2.30 albumentations torch-summary timm==0.5.4 einops joblib icecream  -qq -U"
      ]
    },
    {
      "cell_type": "code",
      "execution_count": null,
      "metadata": {
        "id": "V8YpfugSPGqk"
      },
      "outputs": [],
      "source": [
        "from sklearn.metrics import f1_score\n",
        "from glob import glob\n",
        "import pathlib\n",
        "from pathlib import Path\n",
        "from torchsummary import summary\n",
        "import torch\n",
        "import torch.nn as nn\n",
        "import torch.nn.functional as F\n",
        "from torch.utils.data import Dataset, DataLoader\n",
        "import pandas as pd\n",
        "from pprint import pprint\n",
        "import urllib.request\n",
        "import csv\n",
        "import numpy as np\n",
        "from einops import rearrange, reduce, repeat\n",
        "from torch.cuda import amp\n",
        "from tqdm import tqdm\n",
        "import wandb\n",
        "import time\n",
        "import copy\n",
        "from collections import defaultdict\n",
        "from sklearn.metrics import mean_squared_error\n",
        "import joblib\n",
        "import gc\n",
        "import os\n",
        "from icecream import ic\n",
        "from sklearn.model_selection import train_test_split\n",
        "import gc\n",
        "import cv2\n",
        "import copy\n",
        "import time\n",
        "import random\n",
        "from PIL import Image\n",
        "\n",
        "# For data manipulation\n",
        "import numpy as np\n",
        "import pandas as pd\n",
        "\n",
        "# Pytorch Imports\n",
        "import torch\n",
        "import torch.nn as nn\n",
        "import torch.optim as optim\n",
        "from torch.optim import lr_scheduler\n",
        "from torch.utils.data import Dataset, DataLoader\n",
        "from torch.cuda import amp\n",
        "\n",
        "# Utils\n",
        "import joblib\n",
        "from tqdm import tqdm\n",
        "from collections import defaultdict\n",
        "\n",
        "# Sklearn Imports\n",
        "from sklearn.metrics import mean_squared_error\n",
        "from sklearn.model_selection import StratifiedKFold, KFold\n",
        "\n",
        "import timm\n",
        "\n",
        "import json\n",
        "\n",
        "# Albumentations for augmentations\n",
        "import albumentations as A\n",
        "from albumentations.pytorch import ToTensorV2\n",
        "\n",
        "# For colored terminal text\n",
        "from colorama import Fore, Back, Style\n",
        "c_ = Fore.CYAN\n",
        "sr_ = Style.RESET_ALL\n",
        "\n",
        "import warnings\n",
        "warnings.filterwarnings(\"ignore\")\n",
        "\n",
        "# For descriptive error messages\n",
        "os.environ['CUDA_LAUNCH_BLOCKING'] = \"1\"\n",
        "\n",
        "\n",
        "from sklearn.metrics import f1_score"
      ]
    },
    {
      "cell_type": "markdown",
      "metadata": {
        "id": "EVCBodi-PGql"
      },
      "source": [
        "# ENV"
      ]
    },
    {
      "cell_type": "code",
      "execution_count": null,
      "metadata": {
        "id": "fbOZOG8UPGqm"
      },
      "outputs": [],
      "source": [
        "\n",
        "# ENV = 'COLAB'\n",
        "ENV = 'KAGGLE'\n",
        "# ENV = 'SYSTEM'\n",
        "\n",
        "# Option for Mixed Precision\n",
        "# FP16 = True\n",
        "FP16 = False\n",
        "\n",
        "\n",
        "CONFIG = dict(\n",
        "    seed=42,\n",
        "    nickname='deit finecutmix',\n",
        "    backbone='deit_base_distilled_patch16_384',\n",
        "    embedder=None,\n",
        "    train_batch_size=8,\n",
        "    valid_batch_size=16,\n",
        "    img_size=384,\n",
        "    num_epochs=20,\n",
        "    early_stopping=False,\n",
        "    early_stopping_step=5,\n",
        "    learning_rate=1e-4,\n",
        "    scheduler='CosineAnnealingLR',\n",
        "    min_lr=1e-6,\n",
        "    T_max=100,\n",
        "    num_classes=25,\n",
        "    weight_decay=1e-6,\n",
        "    device=torch.device(\"cuda:0\" if torch.cuda.is_available() else \"cpu\"),\n",
        "    competition='lg',\n",
        "    _wandb_kernel='deb'\n",
        ")\n",
        "\n",
        "\n",
        "device = torch.device(\"cuda\" if torch.cuda.is_available() else \"cpu\")\n"
      ]
    },
    {
      "cell_type": "markdown",
      "metadata": {
        "id": "M6BJH0gaPGqn"
      },
      "source": [
        "# SET SEED "
      ]
    },
    {
      "cell_type": "code",
      "execution_count": null,
      "metadata": {
        "id": "Vj7acIAIPGqn"
      },
      "outputs": [],
      "source": [
        "def set_seed(seed=42):\n",
        "    '''Sets the seed of the entire notebook so results are the same every time we run.\n",
        "    This is for REPRODUCIBILITY.'''\n",
        "    np.random.seed(seed)\n",
        "    random.seed(seed)\n",
        "    torch.manual_seed(seed)\n",
        "    torch.cuda.manual_seed(seed)\n",
        "    # When running on the CuDNN backend, two further options must be set\n",
        "    torch.backends.cudnn.deterministic = True\n",
        "    torch.backends.cudnn.benchmark = False\n",
        "    # Set a fixed value for the hash seed\n",
        "    os.environ['PYTHONHASHSEED'] = str(seed)\n",
        "\n",
        "\n",
        "set_seed(CONFIG['seed'])\n"
      ]
    },
    {
      "cell_type": "markdown",
      "metadata": {
        "id": "0KA00McmPGqo"
      },
      "source": [
        "# Read the Data\n"
      ]
    },
    {
      "cell_type": "code",
      "execution_count": null,
      "metadata": {
        "colab": {
          "base_uri": "https://localhost:8080/",
          "height": 127
        },
        "id": "jKC4FDfyPGqp",
        "outputId": "3416ae36-c501-4dde-b2ac-69d43a53061c"
      },
      "outputs": [
        {
          "data": {
            "application/javascript": [
              "\n",
              "        window._wandbApiKey = new Promise((resolve, reject) => {\n",
              "            function loadScript(url) {\n",
              "            return new Promise(function(resolve, reject) {\n",
              "                let newScript = document.createElement(\"script\");\n",
              "                newScript.onerror = reject;\n",
              "                newScript.onload = resolve;\n",
              "                document.body.appendChild(newScript);\n",
              "                newScript.src = url;\n",
              "            });\n",
              "            }\n",
              "            loadScript(\"https://cdn.jsdelivr.net/npm/postmate/build/postmate.min.js\").then(() => {\n",
              "            const iframe = document.createElement('iframe')\n",
              "            iframe.style.cssText = \"width:0;height:0;border:none\"\n",
              "            document.body.appendChild(iframe)\n",
              "            const handshake = new Postmate({\n",
              "                container: iframe,\n",
              "                url: 'https://wandb.ai/authorize'\n",
              "            });\n",
              "            const timeout = setTimeout(() => reject(\"Couldn't auto authenticate\"), 5000)\n",
              "            handshake.then(function(child) {\n",
              "                child.on('authorize', data => {\n",
              "                    clearTimeout(timeout)\n",
              "                    resolve(data)\n",
              "                });\n",
              "            });\n",
              "            })\n",
              "        });\n",
              "    "
            ],
            "text/plain": [
              "<IPython.core.display.Javascript object>"
            ]
          },
          "metadata": {},
          "output_type": "display_data"
        },
        {
          "name": "stderr",
          "output_type": "stream",
          "text": [
            "\u001b[34m\u001b[1mwandb\u001b[0m: You can find your API key in your browser here: https://wandb.ai/authorize\n"
          ]
        },
        {
          "name": "stdout",
          "output_type": "stream",
          "text": [
            "wandb: Paste an API key from your profile and hit enter, or press ctrl+c to quit: ··········\n"
          ]
        },
        {
          "name": "stderr",
          "output_type": "stream",
          "text": [
            "\u001b[34m\u001b[1mwandb\u001b[0m: Appending key for api.wandb.ai to your netrc file: /root/.netrc\n"
          ]
        },
        {
          "data": {
            "text/html": [
              "\n",
              "                    Syncing run <strong><a href=\"https://wandb.ai/jiwon7258/lg/runs/5ikpl9uv\" target=\"_blank\">flowing-haze-123</a></strong> to <a href=\"https://wandb.ai/jiwon7258/lg\" target=\"_blank\">Weights & Biases</a> (<a href=\"https://docs.wandb.com/integrations/jupyter.html\" target=\"_blank\">docs</a>).<br/>\n",
              "\n",
              "                "
            ],
            "text/plain": [
              "<IPython.core.display.HTML object>"
            ]
          },
          "metadata": {},
          "output_type": "display_data"
        },
        {
          "name": "stderr",
          "output_type": "stream",
          "text": [
            "\u001b[34m\u001b[1mwandb\u001b[0m: Downloading large artifact lg_train:v0, 918.24MB. 17301 files... Done. 0:0:0\n"
          ]
        }
      ],
      "source": [
        "import wandb\n",
        "run = wandb.init(project=\"lg\",\n",
        "                 entity=\"jiwon7258\",\n",
        "                 config=CONFIG,\n",
        "                 job_type='train',\n",
        "                #  id='3199pcx4',\n",
        "                #  resume='must',\n",
        "                 )\n",
        "dataset = wandb.run.use_artifact(\n",
        "    'jiwon7258/lg/lg_train:v0', type='dataset')\n",
        "\n",
        "run.name = CONFIG['nickname']\n",
        "\n",
        "# Download the artifact's contents\n",
        "dataset_dir = dataset.download()\n",
        "dataset_dir = Path(dataset_dir)\n"
      ]
    },
    {
      "cell_type": "code",
      "execution_count": null,
      "metadata": {
        "id": "ca-5DetEPGqq"
      },
      "outputs": [],
      "source": [
        "TRAIN_PATH = dataset_dir\n",
        "# TEST_PATH = dataset_dir / 'test'"
      ]
    },
    {
      "cell_type": "markdown",
      "metadata": {
        "id": "n-8x5P--PGqr"
      },
      "source": [
        "# Augmentations"
      ]
    },
    {
      "cell_type": "code",
      "execution_count": null,
      "metadata": {
        "id": "Qetw9jGjPGqr"
      },
      "outputs": [],
      "source": [
        "data_transforms = {\n",
        "    \"train\": A.Compose([\n",
        "        A.Resize(CONFIG['img_size'], CONFIG['img_size']),\n",
        "        A.ShiftScaleRotate(shift_limit=0.1, scale_limit=0.1,\n",
        "                           rotate_limit=90, p=0.5),\n",
        "        A.RGBShift(r_shift_limit=15, g_shift_limit=15,\n",
        "                   b_shift_limit=15, p=0.5),\n",
        "        A.RandomBrightnessContrast(p=0.5),\n",
        "        A.HorizontalFlip(p=0.5),\n",
        "        A.VerticalFlip(p=0.5),\n",
        "        A.Normalize(),\n",
        "        ToTensorV2()], p=1.),\n",
        "\n",
        "    \"valid\": A.Compose([\n",
        "        A.Resize(CONFIG['img_size'], CONFIG['img_size']),\n",
        "        A.Normalize(),\n",
        "        ToTensorV2()], p=1.)\n",
        "}\n"
      ]
    },
    {
      "cell_type": "markdown",
      "metadata": {
        "id": "lF_SM2DGPGqs"
      },
      "source": [
        "# Dataset"
      ]
    },
    {
      "cell_type": "code",
      "execution_count": null,
      "metadata": {
        "id": "XW2BnvG6PGqs"
      },
      "outputs": [],
      "source": [
        "train_csv = sorted(glob(str(TRAIN_PATH / '*/*.csv')))\n",
        "train_jpg = sorted(glob(str(TRAIN_PATH / '*/*.jpg')))\n",
        "train_json = sorted(glob(str(TRAIN_PATH / '*/*.json')))\n",
        "\n",
        "\n",
        "crops = []\n",
        "diseases = []\n",
        "risks = []\n",
        "labels = []\n",
        "\n",
        "for i in range(len(train_json)):\n",
        "    with open(train_json[i], 'r') as f:\n",
        "        sample = json.load(f)\n",
        "        crop = sample['annotations']['crop']\n",
        "        disease = sample['annotations']['disease']\n",
        "        risk = sample['annotations']['risk']\n",
        "        label=f\"{crop}_{disease}_{risk}\"\n",
        "    \n",
        "        crops.append(crop)\n",
        "        diseases.append(disease)\n",
        "        risks.append(risk)\n",
        "        labels.append(label)\n",
        "        \n",
        "label_unique = sorted(np.unique(labels))\n",
        "label_unique = {key:value for key,value in zip(label_unique, range(len(label_unique)))}\n",
        "\n",
        "train_labels = [label_unique[k] for k in labels] # len = train_len"
      ]
    },
    {
      "cell_type": "code",
      "execution_count": null,
      "metadata": {
        "id": "AIQNMAQ_PGqt"
      },
      "outputs": [],
      "source": [
        "train_jpg = np.array(train_jpg)\n",
        "train_labels = np.array(train_labels)"
      ]
    },
    {
      "cell_type": "code",
      "execution_count": null,
      "metadata": {
        "id": "40-6mAVePGqt"
      },
      "outputs": [],
      "source": [
        "class CustomDataset(Dataset):\n",
        "    def __init__(self, train_img, train_label, transforms=None):\n",
        "        self.imgs = train_img\n",
        "        self.labels = train_label\n",
        "        self.transforms = transforms\n",
        "        \n",
        "    def __len__(self):\n",
        "        return len(self.imgs)\n",
        "    \n",
        "    def __getitem__(self, index):\n",
        "        img_path = self.imgs[index]\n",
        "        img = cv2.imread(img_path)\n",
        "        img = cv2.cvtColor(img, cv2.COLOR_BGR2RGB)\n",
        "        target = self.labels[index]\n",
        "        \n",
        "        if self.transforms:\n",
        "            img = self.transforms(image=img)[\"image\"]\n",
        "            \n",
        "        return img, target\n",
        "    \n",
        "# trainDataset = CustomDataset(X_train, y_train, transforms = data_transforms['train'])\n",
        "# trainDataloader = DataLoader(\n",
        "#     trainDataset, batch_size=CONFIG['train_batch_size'], shuffle=True)\n",
        "\n",
        "# validDataset = CustomDataset(X_val, y_val, transforms = data_transforms['valid'])\n",
        "# validDataloader = DataLoader(validDataset, batch_size = CONFIG['valid_batch_size'], shuffle = True)"
      ]
    },
    {
      "cell_type": "code",
      "execution_count": null,
      "metadata": {
        "id": "TucH1uf_PGqu"
      },
      "outputs": [],
      "source": [
        "from sklearn.model_selection import StratifiedKFold\n",
        "train_datasets = []\n",
        "valid_datasets = []\n",
        "train_dataloaders = []\n",
        "valid_dataloaders = []\n",
        "\n",
        "skf = StratifiedKFold(n_splits = 5)\n",
        "\n",
        "for step, (train_index, val_index) in enumerate(skf.split(X = train_jpg, y= train_labels)):\n",
        "    X_train = train_jpg[train_index]\n",
        "    y_train = train_labels[train_index]\n",
        "    X_val = train_jpg[val_index]\n",
        "    y_val = train_labels[val_index]\n",
        "    train_datasets.append(CustomDataset(\n",
        "        X_train, y_train, transforms=data_transforms['train']))\n",
        "    valid_datasets.append(CustomDataset(\n",
        "        X_val, y_val, transforms=data_transforms['valid']))\n",
        "    train_dataloaders.append(DataLoader(\n",
        "        train_datasets[step], batch_size=CONFIG['train_batch_size'], shuffle=True)\n",
        "    )\n",
        "    valid_dataloaders.append(\n",
        "        DataLoader(\n",
        "            valid_datasets[step], batch_size=CONFIG['valid_batch_size'], shuffle=True)\n",
        "    )\n"
      ]
    },
    {
      "cell_type": "markdown",
      "metadata": {
        "id": "qquyNic-PGqu"
      },
      "source": [
        "# Model"
      ]
    },
    {
      "cell_type": "code",
      "execution_count": null,
      "metadata": {
        "colab": {
          "base_uri": "https://localhost:8080/",
          "height": 36
        },
        "id": "EeRw9VshPGqv",
        "outputId": "1ebd47d8-39d1-483b-e17d-a73a697f3e86"
      },
      "outputs": [
        {
          "data": {
            "application/vnd.google.colaboratory.intrinsic+json": {
              "type": "string"
            },
            "text/plain": [
              "''"
            ]
          },
          "execution_count": 25,
          "metadata": {},
          "output_type": "execute_result"
        }
      ],
      "source": [
        "class Model(nn.Module):\n",
        "    def __init__(self, backbone, embedder, pretrained=True):\n",
        "        super(Model, self).__init__()\n",
        "        self.backbone = timm.create_model(backbone, pretrained=pretrained)\n",
        "        self.backbone.reset_classifier(0)\n",
        "        self.n_features = 768\n",
        "        self.fc = nn.Linear(self.n_features, CONFIG['num_classes'])\n",
        "\n",
        "    def forward(self, images):\n",
        "        # features = (bs, embedding_size)\n",
        "        features = self.backbone(images)\n",
        "        # outputs  = (bs, num_classes)\n",
        "        if isinstance(features, tuple):\n",
        "          features = features[0]\n",
        "        output = self.fc(features)\n",
        "        return output\n",
        "\n",
        "\n",
        "model = Model(CONFIG['backbone'], CONFIG['embedder'], pretrained = True)\n",
        "model.to(CONFIG['device'])\n",
        ";"
      ]
    },
    {
      "cell_type": "code",
      "execution_count": null,
      "metadata": {
        "id": "5yml5ZPPPGqv"
      },
      "outputs": [],
      "source": [
        "optimizer = torch.optim.Adam(\n",
        "    params=model.parameters(), lr=CONFIG['learning_rate'], weight_decay=CONFIG['weight_decay'])\n"
      ]
    },
    {
      "cell_type": "code",
      "execution_count": null,
      "metadata": {
        "id": "iIKSttnGPGqv"
      },
      "outputs": [],
      "source": [
        "def criterion(logits: torch.tensor, targets: torch.tensor):\n",
        "    return nn.CrossEntropyLoss()(logits.view(-1,CONFIG['num_classes']), targets.view(-1))"
      ]
    },
    {
      "cell_type": "markdown",
      "metadata": {
        "id": "HPYus03_UfvH"
      },
      "source": [
        "# CutMix"
      ]
    },
    {
      "cell_type": "code",
      "execution_count": null,
      "metadata": {
        "id": "l8XzN0C2UfvH"
      },
      "outputs": [],
      "source": [
        "def cutmix(img, target):\n",
        "    \"\"\" \n",
        "    img : (bs, C, H, W)\n",
        "    target\n",
        "        - (bs,)\n",
        "        - integer scalar\n",
        "    \"\"\"\n",
        "    batch_size, C, H, W, = img.shape\n",
        "    # ic(img.shape)\n",
        "\n",
        "    img_a = img\n",
        "    target_a = target\n",
        "    img_b = img\n",
        "    target_b = target\n",
        "\n",
        "    mask = np.arange(batch_size)\n",
        "    mask = np.random.permutation(mask)\n",
        "    # ic(mask)\n",
        "    img_b = img_a[mask]\n",
        "    target_b = target_a[mask]\n",
        "    # ic(target, target_b)\n",
        "\n",
        "    lam = np.random.uniform(low=0.3, high=0.7)\n",
        "    r_x = np.random.uniform(low=0, high=W)\n",
        "    r_y = np.random.uniform(low=0, high=H)\n",
        "    r_w = W * np.sqrt(1 - lam)\n",
        "    r_h = H * np.sqrt(1 - lam)\n",
        "    ic(lam, r_x, r_y, r_w, r_h)\n",
        "    x1 = np.int(np.clip((r_x - r_w) / 2, 0, W))\n",
        "    x2 = np.int(np.clip((r_x + r_w) / 2, 0, W))\n",
        "    y1 = np.int(np.clip((r_y - r_h) / 2, 0, H))\n",
        "    y2 = np.int(np.clip((r_y + r_h) / 2, 0, H))\n",
        "    ic(x1, x2, y1, y2)\n",
        "\n",
        "    img_a[:, :, y1:y2, x1:x2] = img_b[:, :, y1:y2, x1:x2]\n",
        "\n",
        "    # Adjust lambda to exact ratio\n",
        "\n",
        "    lam = 1 - (x2 - x1) * (y2 - y1) / float(W * H)\n",
        "\n",
        "    return img_a, target_b, lam\n"
      ]
    },
    {
      "cell_type": "markdown",
      "metadata": {
        "id": "cTfsj-Y17H0C"
      },
      "source": [
        "   # Training Function"
      ]
    },
    {
      "cell_type": "code",
      "execution_count": null,
      "metadata": {
        "id": "iCswmFhy7H0D"
      },
      "outputs": [],
      "source": [
        "class AverageMeter(object):\n",
        "    \"\"\"Computes and stores the average and current value\"\"\"\n",
        "\n",
        "    def __init__(self):\n",
        "        self.reset()\n",
        "\n",
        "    def reset(self):\n",
        "        self.val = 0\n",
        "        self.avg = 0\n",
        "        self.sum = 0\n",
        "        self.count = 0\n",
        "\n",
        "    def update(self, val, n=1):\n",
        "        self.val = val\n",
        "        self.sum += val * n\n",
        "        self.count += n\n",
        "        self.avg = self.sum / self.count\n",
        "\n",
        "\n",
        "def train_one_epoch(model, optimizer, scheduler, dataloader, device, epoch):\n",
        "    # train 모드로 변경\n",
        "    model.train()\n",
        "\n",
        "    # for the Mixed Precision\n",
        "    # Pytorch 예제 : https://pytorch.org/docs/stable/notes/amp_examples.html#amp-examples\n",
        "    if(FP16):\n",
        "        scaler = amp.GradScaler()\n",
        "\n",
        "    losses = AverageMeter()\n",
        "    accuracy = AverageMeter()\n",
        "    f1 = AverageMeter()\n",
        "\n",
        "    bar = tqdm(enumerate(dataloader), total=len(dataloader))\n",
        "\n",
        "    for step, (img, target) in bar:\n",
        "        img, target_b, lam = cutmix(img, target)\n",
        "\n",
        "        img = img.to(device)\n",
        "        target = target.to(device)\n",
        "        target_b = target_b.to(device)\n",
        "\n",
        "        batch_size = img.shape[0]\n",
        "\n",
        "        if(FP16):\n",
        "            with amp.autocast(enabled=True):\n",
        "                logits = model(img)\n",
        "                loss = criterion(logits, target) * lam + \\\n",
        "                    criterion(logits, target_b) * (1-lam)\n",
        "\n",
        "                # loss를 Scale\n",
        "                # Scaled Grdients를 계산(call)하기 위해 scaled loss를 backward()\n",
        "                scaler.scale(loss).backward()\n",
        "                # scaler.step() first unscales the gradients of the optimizer's assigned params.\n",
        "                # If these gradients do not contain infs or NaNs, optimizer.step() is then called,\n",
        "                # otherwise, optimizer.step() is skipped.\n",
        "                scaler.step(optimizer)\n",
        "\n",
        "                # Updates the scale for next iteration.\n",
        "                scaler.update()\n",
        "\n",
        "        else:\n",
        "            logits = model(img)\n",
        "            loss = criterion(logits, target) * lam + \\\n",
        "                criterion(logits, target_b) * (1-lam)\n",
        "\n",
        "            loss.backward()\n",
        "            torch.nn.utils.clip_grad_norm_(model.parameters(), 1)\n",
        "            optimizer.step()\n",
        "\n",
        "        # zero the parameter gradients\n",
        "        optimizer.zero_grad()\n",
        "\n",
        "        # change learning rate by Scheduler\n",
        "        if scheduler is not None:\n",
        "            scheduler.step()\n",
        "\n",
        "        # loss.item()은 loss를 Python Float으로 반환\n",
        "        losses.update(loss.item())\n",
        "\n",
        "        # logits\n",
        "        logits = logits.detach().cpu()\n",
        "\n",
        "        # acc, f1\n",
        "        probs = torch.softmax(logits, dim = -1)\n",
        "        output = np.argmax(probs, axis=-1)\n",
        "        output_b = np.argsort(probs)[:,-2]\n",
        "        if (lam >= 0.5):\n",
        "            step_acc = np.mean(\n",
        "                output.view(-1).numpy() == target.view(-1).detach().cpu().numpy())\n",
        "            step_f1 = f1_score(output.view(-1).numpy(),\n",
        "                               target.view(-1).detach().cpu().numpy(), average='macro')\n",
        "            step_acc_b = np.mean(\n",
        "                output_b.view(-1).numpy() == target_b.view(-1).detach().cpu().numpy())\n",
        "            step_f1_b = f1_score(output_b.view(-1).numpy(),\n",
        "                                 target_b.view(-1).detach().cpu().numpy(), average='macro')\n",
        "        else:\n",
        "            step_acc = np.mean(\n",
        "                output.view(-1).numpy() == target_b.view(-1).detach().cpu().numpy())\n",
        "            step_f1 = f1_score(output.view(-1).numpy(),\n",
        "                               target_b.view(-1).detach().cpu().numpy(), average='macro')\n",
        "            step_acc_b = np.mean(\n",
        "                output_b.view(-1).numpy() == target.view(-1).detach().cpu().numpy())\n",
        "            step_f1_b = f1_score(output_b.view(-1).numpy(),\n",
        "                                 target.view(-1).detach().cpu().numpy(), average='macro')\n",
        "\n",
        "                                 \n",
        "        step_acc = step_acc * lam + step_acc_b * (1-lam)\n",
        "        step_f1 = step_f1 * lam + step_f1_b * (1-lam)\n",
        "\n",
        "        accuracy.update(step_acc)\n",
        "        f1.update(step_f1)\n",
        "\n",
        "        # loss\n",
        "        train_loss = losses.avg\n",
        "        train_acc = accuracy.avg\n",
        "        train_f1 = f1.avg\n",
        "\n",
        "        bar.set_postfix(\n",
        "            Epoch=epoch, Train_Loss=train_loss, LR=optimizer.param_groups[\n",
        "                0][\"lr\"], accuracy=train_acc, f1=train_f1\n",
        "        )\n",
        "\n",
        "    # Garbage Collector\n",
        "    gc.collect()\n",
        "\n",
        "    return losses.avg, accuracy.avg, f1.avg\n"
      ]
    },
    {
      "cell_type": "markdown",
      "metadata": {
        "id": "C5PB19nv7H0D"
      },
      "source": [
        "   # Validation Function"
      ]
    },
    {
      "cell_type": "code",
      "execution_count": null,
      "metadata": {
        "id": "aJRJrmiG7H0E"
      },
      "outputs": [],
      "source": [
        "@torch.no_grad()\n",
        "def valid_one_epoch(model, dataloader, device, epoch):\n",
        "    model.eval()\n",
        "\n",
        "    losses = AverageMeter()\n",
        "    accuracy = AverageMeter()\n",
        "    f1 = AverageMeter()\n",
        "\n",
        "    bar = tqdm(enumerate(dataloader), total=len(dataloader))\n",
        "\n",
        "    for step, (img, target) in bar:\n",
        "        img = img.to(device)\n",
        "        target = target.to(device)\n",
        "\n",
        "        batch_size = img.shape[0]\n",
        "\n",
        "        logits = model(img)\n",
        "        loss = criterion(logits, target)\n",
        "\n",
        "        # loss.item()은 loss를 Python Float으로 반환\n",
        "        losses.update(loss.item())\n",
        "\n",
        "        # logits\n",
        "        logits = logits.detach().cpu()\n",
        "\n",
        "        output = np.argmax(torch.softmax(logits, dim=-1), axis=-1)\n",
        "        step_acc = np.mean(\n",
        "            output.view(-1).numpy() == target.view(-1).detach().cpu().numpy())\n",
        "        step_f1 = f1_score(output.view(-1).numpy(),\n",
        "                           target.view(-1).detach().cpu().numpy(), average='macro')\n",
        "\n",
        "        accuracy.update(step_acc)\n",
        "        f1.update(step_f1)\n",
        "\n",
        "        # loss\n",
        "        val_loss = losses.avg\n",
        "        val_acc = accuracy.avg\n",
        "        val_f1 = f1.avg\n",
        "\n",
        "        bar.set_postfix(\n",
        "            Epoch=epoch, Valid_Loss=val_loss, LR=optimizer.param_groups[\n",
        "                0][\"lr\"], accuracy=val_acc, f1=val_f1\n",
        "        )\n",
        "\n",
        "    gc.collect()\n",
        "\n",
        "    return losses.avg, accuracy.avg, f1.avg\n"
      ]
    },
    {
      "cell_type": "code",
      "execution_count": null,
      "metadata": {
        "id": "kZfD8q3s7H0E"
      },
      "outputs": [],
      "source": [
        "\n",
        "def run_training(\n",
        "    model,\n",
        "    optimizer,\n",
        "    scheduler,\n",
        "    device,\n",
        "    num_epochs,\n",
        "    metric_prefix=\"\",\n",
        "    file_prefix=\"\",\n",
        "    early_stopping=True,\n",
        "    early_stopping_step=10,\n",
        "    START_EPOCH=0,\n",
        "):\n",
        "    # To automatically log graidents\n",
        "    wandb.watch(model, log_freq=100)\n",
        "\n",
        "    if torch.cuda.is_available():\n",
        "        print(\"[INFO] Using GPU:{}\\n\".format(torch.cuda.get_device_name()))\n",
        "\n",
        "    start = time.time()\n",
        "    best_model_wts = copy.deepcopy(model.state_dict())\n",
        "    best_loss = np.inf\n",
        "    history = defaultdict(list)\n",
        "    early_stop_counter = 0\n",
        "\n",
        "    # num_epochs만큼, train과 val을 실행한다\n",
        "    for epoch in range(START_EPOCH, START_EPOCH + num_epochs):\n",
        "        gc.collect()\n",
        "\n",
        "        fold_num = 5\n",
        "        fold = epoch % fold_num\n",
        "\n",
        "        # for fold in range(fold_num) :\n",
        "\n",
        "        trainDataloader = train_dataloaders[fold]\n",
        "        validDataloader = valid_dataloaders[fold]\n",
        "\n",
        "        train_train_loss, train_accuracy, train_f1 = train_one_epoch(\n",
        "            model,\n",
        "            optimizer,\n",
        "            scheduler,\n",
        "            dataloader=trainDataloader,\n",
        "            device=device,\n",
        "            epoch=epoch,\n",
        "        )\n",
        "\n",
        "        val_loss, val_accuracy, val_f1 = valid_one_epoch(\n",
        "            model, validDataloader, device=device, epoch=epoch\n",
        "        )\n",
        "\n",
        "        history[f\"{metric_prefix}Train Loss\"].append(train_train_loss)\n",
        "        history[f\"{metric_prefix}Train Accuracy\"].append(train_accuracy)\n",
        "        history[f\"{metric_prefix}Train F1\"].append(train_f1)\n",
        "        history[f\"{metric_prefix}Valid Loss\"].append(val_loss)\n",
        "        history[f\"{metric_prefix}Valid Accuracy\"].append(val_accuracy)\n",
        "        history[f\"{metric_prefix}Valid F1\"].append(val_f1)\n",
        "\n",
        "        # Log the metrics\n",
        "        wandb.log(\n",
        "            {\n",
        "                f\"{metric_prefix}Train Loss\": train_train_loss,\n",
        "                f\"{metric_prefix}Valid Loss\": val_loss,\n",
        "                f\"{metric_prefix}Train Accuracy\": train_accuracy,\n",
        "                f\"{metric_prefix}Valid Accuracy\": val_accuracy,\n",
        "                f\"{metric_prefix}Train F1\": train_f1,\n",
        "                f\"{metric_prefix}Valid F1\": val_f1,\n",
        "            }\n",
        "        )\n",
        "\n",
        "        print(f\"Valid Loss : {val_loss}\")\n",
        "\n",
        "        torch.save(model.state_dict(), f'{CONFIG[\"nickname\"]}last.bin')\n",
        "        wandb.save(f'{CONFIG[\"nickname\"]}last.bin')\n",
        "\n",
        "        # deep copy the model\n",
        "        if val_loss <= best_loss:\n",
        "            early_stop_counter = 0\n",
        "\n",
        "            print(\n",
        "                f\"Validation Loss improved( {best_loss} ---> {val_loss}  )\"\n",
        "            )\n",
        "\n",
        "            # Update Best Loss\n",
        "            best_loss = val_loss\n",
        "\n",
        "            # Update Best Model Weight\n",
        "            # run.summary['Best RMSE'] = best_loss\n",
        "            best_model_wts = copy.deepcopy(model.state_dict())\n",
        "\n",
        "            # PATH = \"{}epoch{:.0f}_Loss{:.4f}.bin\".format(\n",
        "            #     file_prefix, epoch, best_loss)\n",
        "            # torch.save(model.state_dict(), PATH)\n",
        "            # # Save a model file from the current directory\n",
        "            # wandb.save(PATH)\n",
        "\n",
        "            print(f\"Model Saved\")\n",
        "\n",
        "        elif early_stopping:\n",
        "            early_stop_counter += 1\n",
        "            if early_stop_counter > early_stopping_step:\n",
        "                break\n",
        "\n",
        "        START_EPOCH = epoch + 1\n",
        "        # break\n",
        "\n",
        "    end = time.time()\n",
        "    time_elapsed = end - start\n",
        "    print(\n",
        "        \"Training complete in {:.0f}h {:.0f}m {:.0f}s\".format(\n",
        "            time_elapsed // 3600,\n",
        "            (time_elapsed % 3600) // 60,\n",
        "            (time_elapsed % 3600) % 60,\n",
        "        )\n",
        "    )\n",
        "    print(\"Best Loss: {:.4f}\".format(best_loss))\n",
        "\n",
        "    return model, history\n"
      ]
    },
    {
      "cell_type": "code",
      "execution_count": null,
      "metadata": {
        "colab": {
          "base_uri": "https://localhost:8080/"
        },
        "id": "eX2s0GMOPGqy",
        "outputId": "284e85af-5b6b-4f40-94d4-0baf720d7f70"
      },
      "outputs": [
        {
          "data": {
            "text/plain": [
              "<All keys matched successfully>"
            ]
          },
          "execution_count": 39,
          "metadata": {},
          "output_type": "execute_result"
        }
      ],
      "source": [
        "wandb.restore('epoch19_Loss0.0245.bin', 'jiwon7258/lg/5ikpl9uv', root='./')\n",
        "model.load_state_dict(torch.load('epoch19_Loss0.0245.bin',\n",
        "                      map_location=CONFIG['device']))\n"
      ]
    },
    {
      "cell_type": "markdown",
      "metadata": {
        "id": "AdVDFxn6PGqy"
      },
      "source": [
        "# Fast Start : 5 epoch"
      ]
    },
    {
      "cell_type": "code",
      "execution_count": null,
      "metadata": {
        "id": "vMfEjYQFPGqz"
      },
      "outputs": [],
      "source": [
        "for param in model.backbone.named_parameters():\n",
        "    param[1].requires_grad = False"
      ]
    },
    {
      "cell_type": "code",
      "execution_count": null,
      "metadata": {
        "colab": {
          "base_uri": "https://localhost:8080/"
        },
        "id": "DEZO7sK4PGqz",
        "outputId": "5bd471eb-db3d-4ad6-acfc-e2d402026ff7"
      },
      "outputs": [
        {
          "name": "stdout",
          "output_type": "stream",
          "text": [
            "[INFO] Using GPU:Tesla P100-PCIE-16GB\n",
            "\n"
          ]
        },
        {
          "name": "stderr",
          "output_type": "stream",
          "text": [
            "100%|██████████| 289/289 [02:31<00:00,  1.91it/s, Epoch=0, LR=3.93e-6, Train_Loss=1.55, accuracy=0.729, f1=0.656]\n",
            "100%|██████████| 73/73 [00:34<00:00,  2.09it/s, Epoch=0, LR=3.93e-6, Valid_Loss=0.00742, accuracy=0.998, f1=0.996]\n"
          ]
        },
        {
          "name": "stdout",
          "output_type": "stream",
          "text": [
            "Valid Loss : 0.007423872112979066\n",
            "Validation Loss improved( inf ---> 0.007423872112979066  )\n",
            "Model Saved\n"
          ]
        },
        {
          "name": "stderr",
          "output_type": "stream",
          "text": [
            "100%|██████████| 289/289 [02:34<00:00,  1.88it/s, Epoch=1, LR=8.86e-5, Train_Loss=1.28, accuracy=0.733, f1=0.663]\n",
            "100%|██████████| 73/73 [00:34<00:00,  2.13it/s, Epoch=1, LR=8.86e-5, Valid_Loss=0.0182, accuracy=0.999, f1=0.998]\n"
          ]
        },
        {
          "name": "stdout",
          "output_type": "stream",
          "text": [
            "Valid Loss : 0.018220911982584083\n"
          ]
        },
        {
          "name": "stderr",
          "output_type": "stream",
          "text": [
            "100%|██████████| 289/289 [02:29<00:00,  1.94it/s, Epoch=2, LR=2.53e-5, Train_Loss=1.09, accuracy=0.752, f1=0.684]\n",
            "100%|██████████| 73/73 [00:34<00:00,  2.13it/s, Epoch=2, LR=2.53e-5, Valid_Loss=0.0497, accuracy=1, f1=1]\n"
          ]
        },
        {
          "name": "stdout",
          "output_type": "stream",
          "text": [
            "Valid Loss : 0.04974257264745562\n"
          ]
        },
        {
          "name": "stderr",
          "output_type": "stream",
          "text": [
            "100%|██████████| 289/289 [02:29<00:00,  1.93it/s, Epoch=3, LR=5.98e-5, Train_Loss=0.995, accuracy=0.733, f1=0.667]\n",
            "100%|██████████| 73/73 [00:34<00:00,  2.14it/s, Epoch=3, LR=5.98e-5, Valid_Loss=0.0646, accuracy=0.999, f1=0.998]\n"
          ]
        },
        {
          "name": "stdout",
          "output_type": "stream",
          "text": [
            "Valid Loss : 0.06462013287699386\n"
          ]
        },
        {
          "name": "stderr",
          "output_type": "stream",
          "text": [
            "100%|██████████| 289/289 [02:29<00:00,  1.93it/s, Epoch=4, LR=5.82e-5, Train_Loss=0.972, accuracy=0.749, f1=0.681]\n",
            "100%|██████████| 73/73 [00:34<00:00,  2.13it/s, Epoch=4, LR=5.82e-5, Valid_Loss=0.0812, accuracy=0.999, f1=0.997]\n"
          ]
        },
        {
          "name": "stdout",
          "output_type": "stream",
          "text": [
            "Valid Loss : 0.08117050886766551\n",
            "Training complete in 0h 15m 35s\n",
            "Best Loss: 0.0074\n"
          ]
        }
      ],
      "source": [
        "ic.disable()\n",
        "run_training(\n",
        "    model=model,\n",
        "    optimizer=optimizer,\n",
        "    scheduler=torch.optim.lr_scheduler.CosineAnnealingLR(\n",
        "        optimizer=optimizer, T_max=CONFIG['T_max'], eta_min=CONFIG['min_lr']),\n",
        "    device=device,\n",
        "    num_epochs=5,\n",
        "    metric_prefix=\"\",\n",
        "    file_prefix=\"\",\n",
        "    early_stopping=CONFIG['early_stopping'],\n",
        "    early_stopping_step=CONFIG['early_stopping_step'],\n",
        "    START_EPOCH=0,\n",
        ");\n"
      ]
    },
    {
      "cell_type": "markdown",
      "metadata": {
        "id": "pDi14R3uPGqz"
      },
      "source": [
        "# 400 epochs"
      ]
    },
    {
      "cell_type": "code",
      "execution_count": null,
      "metadata": {
        "id": "L5G3qhmFPGqz"
      },
      "outputs": [],
      "source": [
        "optimizer = torch.optim.Adam(\n",
        "    params=model.parameters(), lr=5e-6, weight_decay=CONFIG['weight_decay'])"
      ]
    },
    {
      "cell_type": "code",
      "execution_count": null,
      "metadata": {
        "id": "Ae1QgOXSPGqz"
      },
      "outputs": [],
      "source": [
        "for param in model.backbone.named_parameters():\n",
        "    param[1].requires_grad = True\n"
      ]
    },
    {
      "cell_type": "code",
      "execution_count": 40,
      "metadata": {
        "colab": {
          "base_uri": "https://localhost:8080/",
          "height": 1000
        },
        "id": "dKXcxeLEPGq0",
        "outputId": "14cc585a-6302-41d4-a57d-e87737016ac2"
      },
      "outputs": [
        {
          "metadata": {
            "tags": null
          },
          "name": "stdout",
          "output_type": "stream",
          "text": [
            "[INFO] Using GPU:Tesla P100-PCIE-16GB\n",
            "\n"
          ]
        },
        {
          "metadata": {
            "tags": null
          },
          "name": "stderr",
          "output_type": "stream",
          "text": [
            "100%|██████████| 289/289 [05:40<00:00,  1.18s/it, Epoch=20, LR=1.12e-6, Train_Loss=0.638, accuracy=0.776, f1=0.715]\n",
            "100%|██████████| 73/73 [00:33<00:00,  2.16it/s, Epoch=20, LR=1.12e-6, Valid_Loss=0.023, accuracy=0.999, f1=0.998]\n"
          ]
        },
        {
          "metadata": {
            "tags": null
          },
          "name": "stdout",
          "output_type": "stream",
          "text": [
            "Valid Loss : 0.022973638716829965\n",
            "Validation Loss improved( inf ---> 0.022973638716829965  )\n",
            "Model Saved\n"
          ]
        },
        {
          "metadata": {
            "tags": null
          },
          "name": "stderr",
          "output_type": "stream",
          "text": [
            "100%|██████████| 289/289 [05:41<00:00,  1.18s/it, Epoch=21, LR=4.54e-6, Train_Loss=0.636, accuracy=0.788, f1=0.729]\n",
            "100%|██████████| 73/73 [00:33<00:00,  2.16it/s, Epoch=21, LR=4.54e-6, Valid_Loss=0.0235, accuracy=0.999, f1=0.998]\n"
          ]
        },
        {
          "metadata": {
            "tags": null
          },
          "name": "stdout",
          "output_type": "stream",
          "text": [
            "Valid Loss : 0.023529678200409836\n"
          ]
        },
        {
          "metadata": {
            "tags": null
          },
          "name": "stderr",
          "output_type": "stream",
          "text": [
            "100%|██████████| 289/289 [05:41<00:00,  1.18s/it, Epoch=22, LR=1.98e-6, Train_Loss=0.628, accuracy=0.794, f1=0.736]\n",
            "100%|██████████| 73/73 [00:33<00:00,  2.15it/s, Epoch=22, LR=1.98e-6, Valid_Loss=0.0205, accuracy=1, f1=1]\n"
          ]
        },
        {
          "metadata": {
            "tags": null
          },
          "name": "stdout",
          "output_type": "stream",
          "text": [
            "Valid Loss : 0.020522750308099268\n",
            "Validation Loss improved( 0.022973638716829965 ---> 0.020522750308099268  )\n",
            "Model Saved\n"
          ]
        },
        {
          "metadata": {
            "tags": null
          },
          "name": "stderr",
          "output_type": "stream",
          "text": [
            "100%|██████████| 289/289 [05:41<00:00,  1.18s/it, Epoch=23, LR=3.37e-6, Train_Loss=0.633, accuracy=0.799, f1=0.739]\n",
            "100%|██████████| 73/73 [00:33<00:00,  2.16it/s, Epoch=23, LR=3.37e-6, Valid_Loss=0.0199, accuracy=1, f1=1]\n"
          ]
        },
        {
          "metadata": {
            "tags": null
          },
          "name": "stdout",
          "output_type": "stream",
          "text": [
            "Valid Loss : 0.019895182265453552\n",
            "Validation Loss improved( 0.020522750308099268 ---> 0.019895182265453552  )\n",
            "Model Saved\n"
          ]
        },
        {
          "metadata": {
            "tags": null
          },
          "name": "stderr",
          "output_type": "stream",
          "text": [
            "100%|██████████| 289/289 [05:41<00:00,  1.18s/it, Epoch=24, LR=3.31e-6, Train_Loss=0.621, accuracy=0.794, f1=0.736]\n",
            "100%|██████████| 73/73 [00:33<00:00,  2.16it/s, Epoch=24, LR=3.31e-6, Valid_Loss=0.0214, accuracy=0.999, f1=0.998]\n"
          ]
        },
        {
          "metadata": {
            "tags": null
          },
          "name": "stdout",
          "output_type": "stream",
          "text": [
            "Valid Loss : 0.021439792735068356\n"
          ]
        },
        {
          "metadata": {
            "tags": null
          },
          "name": "stderr",
          "output_type": "stream",
          "text": [
            "100%|██████████| 289/289 [05:41<00:00,  1.18s/it, Epoch=25, LR=2.04e-6, Train_Loss=0.619, accuracy=0.798, f1=0.743]\n",
            "100%|██████████| 73/73 [00:33<00:00,  2.17it/s, Epoch=25, LR=2.04e-6, Valid_Loss=0.0179, accuracy=1, f1=1]\n"
          ]
        },
        {
          "metadata": {
            "tags": null
          },
          "name": "stdout",
          "output_type": "stream",
          "text": [
            "Valid Loss : 0.01785737929278857\n",
            "Validation Loss improved( 0.019895182265453552 ---> 0.01785737929278857  )\n",
            "Model Saved\n"
          ]
        },
        {
          "metadata": {
            "tags": null
          },
          "name": "stderr",
          "output_type": "stream",
          "text": [
            "100%|██████████| 289/289 [05:40<00:00,  1.18s/it, Epoch=26, LR=4.5e-6, Train_Loss=0.61, accuracy=0.794, f1=0.737]\n",
            "100%|██████████| 73/73 [00:33<00:00,  2.17it/s, Epoch=26, LR=4.5e-6, Valid_Loss=0.0188, accuracy=1, f1=1]\n"
          ]
        },
        {
          "metadata": {
            "tags": null
          },
          "name": "stdout",
          "output_type": "stream",
          "text": [
            "Valid Loss : 0.018753413480948913\n"
          ]
        },
        {
          "metadata": {
            "tags": null
          },
          "name": "stderr",
          "output_type": "stream",
          "text": [
            "100%|██████████| 289/289 [05:41<00:00,  1.18s/it, Epoch=27, LR=1.14e-6, Train_Loss=0.614, accuracy=0.794, f1=0.734]\n",
            "100%|██████████| 73/73 [00:33<00:00,  2.17it/s, Epoch=27, LR=1.14e-6, Valid_Loss=0.0169, accuracy=1, f1=1]\n"
          ]
        },
        {
          "metadata": {
            "tags": null
          },
          "name": "stdout",
          "output_type": "stream",
          "text": [
            "Valid Loss : 0.016933610688333642\n",
            "Validation Loss improved( 0.01785737929278857 ---> 0.016933610688333642  )\n",
            "Model Saved\n"
          ]
        },
        {
          "metadata": {
            "tags": null
          },
          "name": "stderr",
          "output_type": "stream",
          "text": [
            "100%|██████████| 289/289 [05:40<00:00,  1.18s/it, Epoch=28, LR=5e-6, Train_Loss=0.611, accuracy=0.795, f1=0.737]\n",
            "100%|██████████| 73/73 [00:33<00:00,  2.16it/s, Epoch=28, LR=5e-6, Valid_Loss=0.0203, accuracy=1, f1=1]\n"
          ]
        },
        {
          "metadata": {
            "tags": null
          },
          "name": "stdout",
          "output_type": "stream",
          "text": [
            "Valid Loss : 0.02028512613439601\n"
          ]
        },
        {
          "metadata": {
            "tags": null
          },
          "name": "stderr",
          "output_type": "stream",
          "text": [
            "100%|██████████| 289/289 [05:40<00:00,  1.18s/it, Epoch=29, LR=1.1e-6, Train_Loss=0.609, accuracy=0.806, f1=0.746]\n",
            "100%|██████████| 73/73 [00:33<00:00,  2.17it/s, Epoch=29, LR=1.1e-6, Valid_Loss=0.017, accuracy=1, f1=1]\n"
          ]
        },
        {
          "metadata": {
            "tags": null
          },
          "name": "stdout",
          "output_type": "stream",
          "text": [
            "Valid Loss : 0.016991630458107143\n"
          ]
        },
        {
          "metadata": {
            "tags": null
          },
          "name": "stderr",
          "output_type": "stream",
          "text": [
            "100%|██████████| 289/289 [05:40<00:00,  1.18s/it, Epoch=30, LR=4.58e-6, Train_Loss=0.606, accuracy=0.808, f1=0.752]\n",
            "100%|██████████| 73/73 [00:33<00:00,  2.17it/s, Epoch=30, LR=4.58e-6, Valid_Loss=0.0154, accuracy=1, f1=1]\n"
          ]
        },
        {
          "metadata": {
            "tags": null
          },
          "name": "stdout",
          "output_type": "stream",
          "text": [
            "Valid Loss : 0.015375597332285284\n",
            "Validation Loss improved( 0.016933610688333642 ---> 0.015375597332285284  )\n",
            "Model Saved\n"
          ]
        },
        {
          "metadata": {
            "tags": null
          },
          "name": "stderr",
          "output_type": "stream",
          "text": [
            "100%|██████████| 289/289 [05:41<00:00,  1.18s/it, Epoch=31, LR=1.93e-6, Train_Loss=0.604, accuracy=0.789, f1=0.734]\n",
            "100%|██████████| 73/73 [00:33<00:00,  2.16it/s, Epoch=31, LR=1.93e-6, Valid_Loss=0.0163, accuracy=1, f1=1]\n"
          ]
        },
        {
          "metadata": {
            "tags": null
          },
          "name": "stdout",
          "output_type": "stream",
          "text": [
            "Valid Loss : 0.016280516229365785\n"
          ]
        },
        {
          "metadata": {
            "tags": null
          },
          "name": "stderr",
          "output_type": "stream",
          "text": [
            "100%|██████████| 289/289 [05:40<00:00,  1.18s/it, Epoch=32, LR=3.44e-6, Train_Loss=0.599, accuracy=0.826, f1=0.776]\n",
            "100%|██████████| 73/73 [00:33<00:00,  2.17it/s, Epoch=32, LR=3.44e-6, Valid_Loss=0.0146, accuracy=1, f1=1]\n"
          ]
        },
        {
          "metadata": {
            "tags": null
          },
          "name": "stdout",
          "output_type": "stream",
          "text": [
            "Valid Loss : 0.014614989317647398\n",
            "Validation Loss improved( 0.015375597332285284 ---> 0.014614989317647398  )\n",
            "Model Saved\n"
          ]
        },
        {
          "metadata": {
            "tags": null
          },
          "name": "stderr",
          "output_type": "stream",
          "text": [
            "100%|██████████| 289/289 [05:40<00:00,  1.18s/it, Epoch=33, LR=3.25e-6, Train_Loss=0.599, accuracy=0.806, f1=0.75]\n",
            "100%|██████████| 73/73 [00:33<00:00,  2.16it/s, Epoch=33, LR=3.25e-6, Valid_Loss=0.0151, accuracy=1, f1=1]\n"
          ]
        },
        {
          "metadata": {
            "tags": null
          },
          "name": "stdout",
          "output_type": "stream",
          "text": [
            "Valid Loss : 0.015065423085367026\n"
          ]
        },
        {
          "metadata": {
            "tags": null
          },
          "name": "stderr",
          "output_type": "stream",
          "text": [
            "100%|██████████| 289/289 [05:40<00:00,  1.18s/it, Epoch=34, LR=2.09e-6, Train_Loss=0.596, accuracy=0.804, f1=0.752]\n",
            "100%|██████████| 73/73 [00:33<00:00,  2.17it/s, Epoch=34, LR=2.09e-6, Valid_Loss=0.0142, accuracy=1, f1=1]\n"
          ]
        },
        {
          "metadata": {
            "tags": null
          },
          "name": "stdout",
          "output_type": "stream",
          "text": [
            "Valid Loss : 0.014213227392620828\n",
            "Validation Loss improved( 0.014614989317647398 ---> 0.014213227392620828  )\n",
            "Model Saved\n"
          ]
        },
        {
          "metadata": {
            "tags": null
          },
          "name": "stderr",
          "output_type": "stream",
          "text": [
            "100%|██████████| 289/289 [05:40<00:00,  1.18s/it, Epoch=35, LR=4.46e-6, Train_Loss=0.597, accuracy=0.81, f1=0.751]\n",
            "100%|██████████| 73/73 [00:33<00:00,  2.17it/s, Epoch=35, LR=4.46e-6, Valid_Loss=0.0135, accuracy=1, f1=1]\n"
          ]
        },
        {
          "metadata": {
            "tags": null
          },
          "name": "stdout",
          "output_type": "stream",
          "text": [
            "Valid Loss : 0.013509442844772583\n",
            "Validation Loss improved( 0.014213227392620828 ---> 0.013509442844772583  )\n",
            "Model Saved\n"
          ]
        },
        {
          "metadata": {
            "tags": null
          },
          "name": "stderr",
          "output_type": "stream",
          "text": [
            "100%|██████████| 289/289 [05:40<00:00,  1.18s/it, Epoch=36, LR=1.16e-6, Train_Loss=0.585, accuracy=0.816, f1=0.762]\n",
            "100%|██████████| 73/73 [00:33<00:00,  2.16it/s, Epoch=36, LR=1.16e-6, Valid_Loss=0.0122, accuracy=1, f1=1]\n"
          ]
        },
        {
          "metadata": {
            "tags": null
          },
          "name": "stdout",
          "output_type": "stream",
          "text": [
            "Valid Loss : 0.012158141576697768\n",
            "Validation Loss improved( 0.013509442844772583 ---> 0.012158141576697768  )\n",
            "Model Saved\n"
          ]
        },
        {
          "metadata": {
            "tags": null
          },
          "name": "stderr",
          "output_type": "stream",
          "text": [
            "100%|██████████| 289/289 [05:40<00:00,  1.18s/it, Epoch=37, LR=5e-6, Train_Loss=0.594, accuracy=0.822, f1=0.764]\n",
            "100%|██████████| 73/73 [00:33<00:00,  2.15it/s, Epoch=37, LR=5e-6, Valid_Loss=0.0135, accuracy=1, f1=1]\n"
          ]
        },
        {
          "metadata": {
            "tags": null
          },
          "name": "stdout",
          "output_type": "stream",
          "text": [
            "Valid Loss : 0.01351825668387217\n"
          ]
        },
        {
          "metadata": {
            "tags": null
          },
          "name": "stderr",
          "output_type": "stream",
          "text": [
            "100%|██████████| 289/289 [05:40<00:00,  1.18s/it, Epoch=38, LR=1.08e-6, Train_Loss=0.587, accuracy=0.824, f1=0.77]\n",
            "100%|██████████| 73/73 [00:33<00:00,  2.16it/s, Epoch=38, LR=1.08e-6, Valid_Loss=0.0144, accuracy=1, f1=1]\n"
          ]
        },
        {
          "metadata": {
            "tags": null
          },
          "name": "stdout",
          "output_type": "stream",
          "text": [
            "Valid Loss : 0.014436662496922359\n"
          ]
        },
        {
          "metadata": {
            "tags": null
          },
          "name": "stderr",
          "output_type": "stream",
          "text": [
            "100%|██████████| 289/289 [05:40<00:00,  1.18s/it, Epoch=39, LR=4.62e-6, Train_Loss=0.581, accuracy=0.824, f1=0.772]\n",
            "100%|██████████| 73/73 [00:33<00:00,  2.16it/s, Epoch=39, LR=4.62e-6, Valid_Loss=0.013, accuracy=0.999, f1=0.999]\n"
          ]
        },
        {
          "metadata": {
            "tags": null
          },
          "name": "stdout",
          "output_type": "stream",
          "text": [
            "Valid Loss : 0.012989609263046351\n"
          ]
        },
        {
          "metadata": {
            "tags": null
          },
          "name": "stderr",
          "output_type": "stream",
          "text": [
            "100%|██████████| 289/289 [05:40<00:00,  1.18s/it, Epoch=40, LR=1.88e-6, Train_Loss=0.572, accuracy=0.841, f1=0.791]\n",
            "100%|██████████| 73/73 [00:33<00:00,  2.15it/s, Epoch=40, LR=1.88e-6, Valid_Loss=0.0115, accuracy=1, f1=1]\n"
          ]
        },
        {
          "metadata": {
            "tags": null
          },
          "name": "stdout",
          "output_type": "stream",
          "text": [
            "Valid Loss : 0.011516262148825885\n",
            "Validation Loss improved( 0.012158141576697768 ---> 0.011516262148825885  )\n",
            "Model Saved\n"
          ]
        },
        {
          "metadata": {
            "tags": null
          },
          "name": "stderr",
          "output_type": "stream",
          "text": [
            "100%|██████████| 289/289 [05:40<00:00,  1.18s/it, Epoch=41, LR=3.5e-6, Train_Loss=0.571, accuracy=0.837, f1=0.786]\n",
            "100%|██████████| 73/73 [00:33<00:00,  2.16it/s, Epoch=41, LR=3.5e-6, Valid_Loss=0.0107, accuracy=1, f1=1]\n"
          ]
        },
        {
          "metadata": {
            "tags": null
          },
          "name": "stdout",
          "output_type": "stream",
          "text": [
            "Valid Loss : 0.010675399404733556\n",
            "Validation Loss improved( 0.011516262148825885 ---> 0.010675399404733556  )\n",
            "Model Saved\n"
          ]
        },
        {
          "metadata": {
            "tags": null
          },
          "name": "stderr",
          "output_type": "stream",
          "text": [
            "100%|██████████| 289/289 [05:40<00:00,  1.18s/it, Epoch=42, LR=3.19e-6, Train_Loss=0.576, accuracy=0.814, f1=0.765]\n",
            "100%|██████████| 73/73 [00:33<00:00,  2.16it/s, Epoch=42, LR=3.19e-6, Valid_Loss=0.0134, accuracy=1, f1=1]\n"
          ]
        },
        {
          "metadata": {
            "tags": null
          },
          "name": "stdout",
          "output_type": "stream",
          "text": [
            "Valid Loss : 0.013437341452155211\n"
          ]
        },
        {
          "metadata": {
            "tags": null
          },
          "name": "stderr",
          "output_type": "stream",
          "text": [
            "100%|██████████| 289/289 [05:40<00:00,  1.18s/it, Epoch=43, LR=2.15e-6, Train_Loss=0.579, accuracy=0.834, f1=0.787]\n",
            "100%|██████████| 73/73 [00:33<00:00,  2.16it/s, Epoch=43, LR=2.15e-6, Valid_Loss=0.0109, accuracy=1, f1=1]\n"
          ]
        },
        {
          "metadata": {
            "tags": null
          },
          "name": "stdout",
          "output_type": "stream",
          "text": [
            "Valid Loss : 0.010936472395894258\n"
          ]
        },
        {
          "metadata": {
            "tags": null
          },
          "name": "stderr",
          "output_type": "stream",
          "text": [
            "100%|██████████| 289/289 [05:40<00:00,  1.18s/it, Epoch=44, LR=4.41e-6, Train_Loss=0.58, accuracy=0.836, f1=0.787]\n",
            "100%|██████████| 73/73 [00:33<00:00,  2.15it/s, Epoch=44, LR=4.41e-6, Valid_Loss=0.0115, accuracy=1, f1=1]\n"
          ]
        },
        {
          "metadata": {
            "tags": null
          },
          "name": "stdout",
          "output_type": "stream",
          "text": [
            "Valid Loss : 0.011496407687919189\n"
          ]
        },
        {
          "metadata": {
            "tags": null
          },
          "name": "stderr",
          "output_type": "stream",
          "text": [
            "100%|██████████| 289/289 [05:41<00:00,  1.18s/it, Epoch=45, LR=1.19e-6, Train_Loss=0.58, accuracy=0.827, f1=0.776]\n",
            "100%|██████████| 73/73 [00:33<00:00,  2.16it/s, Epoch=45, LR=1.19e-6, Valid_Loss=0.0106, accuracy=1, f1=1]\n"
          ]
        },
        {
          "metadata": {
            "tags": null
          },
          "name": "stdout",
          "output_type": "stream",
          "text": [
            "Valid Loss : 0.010572751754359023\n",
            "Validation Loss improved( 0.010675399404733556 ---> 0.010572751754359023  )\n",
            "Model Saved\n"
          ]
        },
        {
          "metadata": {
            "tags": null
          },
          "name": "stderr",
          "output_type": "stream",
          "text": [
            "100%|██████████| 289/289 [05:40<00:00,  1.18s/it, Epoch=46, LR=4.99e-6, Train_Loss=0.57, accuracy=0.827, f1=0.774]\n",
            "100%|██████████| 73/73 [00:33<00:00,  2.15it/s, Epoch=46, LR=4.99e-6, Valid_Loss=0.0101, accuracy=1, f1=1]\n"
          ]
        },
        {
          "metadata": {
            "tags": null
          },
          "name": "stdout",
          "output_type": "stream",
          "text": [
            "Valid Loss : 0.010058416997733181\n",
            "Validation Loss improved( 0.010572751754359023 ---> 0.010058416997733181  )\n",
            "Model Saved\n"
          ]
        },
        {
          "metadata": {
            "tags": null
          },
          "name": "stderr",
          "output_type": "stream",
          "text": [
            "100%|██████████| 289/289 [05:40<00:00,  1.18s/it, Epoch=47, LR=1.06e-6, Train_Loss=0.561, accuracy=0.84, f1=0.791]\n",
            "100%|██████████| 73/73 [00:33<00:00,  2.16it/s, Epoch=47, LR=1.06e-6, Valid_Loss=0.00951, accuracy=1, f1=1]\n"
          ]
        },
        {
          "metadata": {
            "tags": null
          },
          "name": "stdout",
          "output_type": "stream",
          "text": [
            "Valid Loss : 0.009513977315429955\n",
            "Validation Loss improved( 0.010058416997733181 ---> 0.009513977315429955  )\n",
            "Model Saved\n"
          ]
        },
        {
          "metadata": {
            "tags": null
          },
          "name": "stderr",
          "output_type": "stream",
          "text": [
            "100%|██████████| 289/289 [05:40<00:00,  1.18s/it, Epoch=48, LR=4.65e-6, Train_Loss=0.565, accuracy=0.824, f1=0.774]\n",
            "100%|██████████| 73/73 [00:33<00:00,  2.17it/s, Epoch=48, LR=4.65e-6, Valid_Loss=0.0104, accuracy=1, f1=1]\n"
          ]
        },
        {
          "metadata": {
            "tags": null
          },
          "name": "stdout",
          "output_type": "stream",
          "text": [
            "Valid Loss : 0.010449867816769506\n"
          ]
        },
        {
          "metadata": {
            "tags": null
          },
          "name": "stderr",
          "output_type": "stream",
          "text": [
            "100%|██████████| 289/289 [05:40<00:00,  1.18s/it, Epoch=49, LR=1.82e-6, Train_Loss=0.555, accuracy=0.845, f1=0.798]\n",
            "100%|██████████| 73/73 [00:33<00:00,  2.16it/s, Epoch=49, LR=1.82e-6, Valid_Loss=0.00901, accuracy=1, f1=1]\n"
          ]
        },
        {
          "metadata": {
            "tags": null
          },
          "name": "stdout",
          "output_type": "stream",
          "text": [
            "Valid Loss : 0.009014565398763509\n",
            "Validation Loss improved( 0.009513977315429955 ---> 0.009014565398763509  )\n",
            "Model Saved\n"
          ]
        },
        {
          "metadata": {
            "tags": null
          },
          "name": "stderr",
          "output_type": "stream",
          "text": [
            "100%|██████████| 289/289 [05:40<00:00,  1.18s/it, Epoch=50, LR=3.56e-6, Train_Loss=0.566, accuracy=0.849, f1=0.803]\n",
            "100%|██████████| 73/73 [00:33<00:00,  2.16it/s, Epoch=50, LR=3.56e-6, Valid_Loss=0.00836, accuracy=1, f1=1]\n"
          ]
        },
        {
          "metadata": {
            "tags": null
          },
          "name": "stdout",
          "output_type": "stream",
          "text": [
            "Valid Loss : 0.008360336824919875\n",
            "Validation Loss improved( 0.009014565398763509 ---> 0.008360336824919875  )\n",
            "Model Saved\n"
          ]
        },
        {
          "metadata": {
            "tags": null
          },
          "name": "stderr",
          "output_type": "stream",
          "text": [
            "100%|██████████| 289/289 [05:40<00:00,  1.18s/it, Epoch=51, LR=3.13e-6, Train_Loss=0.572, accuracy=0.842, f1=0.794]\n",
            "100%|██████████| 73/73 [00:33<00:00,  2.15it/s, Epoch=51, LR=3.13e-6, Valid_Loss=0.00825, accuracy=1, f1=1]\n"
          ]
        },
        {
          "metadata": {
            "tags": null
          },
          "name": "stdout",
          "output_type": "stream",
          "text": [
            "Valid Loss : 0.008253980612969154\n",
            "Validation Loss improved( 0.008360336824919875 ---> 0.008253980612969154  )\n",
            "Model Saved\n"
          ]
        },
        {
          "metadata": {
            "tags": null
          },
          "name": "stderr",
          "output_type": "stream",
          "text": [
            "100%|██████████| 289/289 [05:40<00:00,  1.18s/it, Epoch=52, LR=2.21e-6, Train_Loss=0.564, accuracy=0.849, f1=0.802]\n",
            "100%|██████████| 73/73 [00:33<00:00,  2.15it/s, Epoch=52, LR=2.21e-6, Valid_Loss=0.00847, accuracy=1, f1=1]\n"
          ]
        },
        {
          "metadata": {
            "tags": null
          },
          "name": "stdout",
          "output_type": "stream",
          "text": [
            "Valid Loss : 0.00846820648389626\n"
          ]
        },
        {
          "metadata": {
            "tags": null
          },
          "name": "stderr",
          "output_type": "stream",
          "text": [
            "100%|██████████| 289/289 [05:40<00:00,  1.18s/it, Epoch=53, LR=4.37e-6, Train_Loss=0.568, accuracy=0.842, f1=0.796]\n",
            "100%|██████████| 73/73 [00:33<00:00,  2.15it/s, Epoch=53, LR=4.37e-6, Valid_Loss=0.00922, accuracy=1, f1=1]\n"
          ]
        },
        {
          "metadata": {
            "tags": null
          },
          "name": "stdout",
          "output_type": "stream",
          "text": [
            "Valid Loss : 0.00921775303997916\n"
          ]
        },
        {
          "metadata": {
            "tags": null
          },
          "name": "stderr",
          "output_type": "stream",
          "text": [
            "100%|██████████| 289/289 [05:41<00:00,  1.18s/it, Epoch=54, LR=1.22e-6, Train_Loss=0.567, accuracy=0.844, f1=0.8]\n",
            "100%|██████████| 73/73 [00:33<00:00,  2.15it/s, Epoch=54, LR=1.22e-6, Valid_Loss=0.00806, accuracy=1, f1=1]\n"
          ]
        },
        {
          "metadata": {
            "tags": null
          },
          "name": "stdout",
          "output_type": "stream",
          "text": [
            "Valid Loss : 0.008056684250445806\n",
            "Validation Loss improved( 0.008253980612969154 ---> 0.008056684250445806  )\n",
            "Model Saved\n"
          ]
        },
        {
          "metadata": {
            "tags": null
          },
          "name": "stderr",
          "output_type": "stream",
          "text": [
            "100%|██████████| 289/289 [05:41<00:00,  1.18s/it, Epoch=55, LR=4.98e-6, Train_Loss=0.554, accuracy=0.849, f1=0.804]\n",
            "100%|██████████| 73/73 [00:33<00:00,  2.16it/s, Epoch=55, LR=4.98e-6, Valid_Loss=0.0081, accuracy=1, f1=1]\n"
          ]
        },
        {
          "metadata": {
            "tags": null
          },
          "name": "stdout",
          "output_type": "stream",
          "text": [
            "Valid Loss : 0.008102659203035578\n"
          ]
        },
        {
          "metadata": {
            "tags": null
          },
          "name": "stderr",
          "output_type": "stream",
          "text": [
            "100%|██████████| 289/289 [05:40<00:00,  1.18s/it, Epoch=56, LR=1.05e-6, Train_Loss=0.565, accuracy=0.84, f1=0.792]\n",
            "100%|██████████| 73/73 [00:33<00:00,  2.15it/s, Epoch=56, LR=1.05e-6, Valid_Loss=0.00789, accuracy=1, f1=1]\n"
          ]
        },
        {
          "metadata": {
            "tags": null
          },
          "name": "stdout",
          "output_type": "stream",
          "text": [
            "Valid Loss : 0.007887249557326918\n",
            "Validation Loss improved( 0.008056684250445806 ---> 0.007887249557326918  )\n",
            "Model Saved\n"
          ]
        },
        {
          "metadata": {
            "tags": null
          },
          "name": "stderr",
          "output_type": "stream",
          "text": [
            "100%|██████████| 289/289 [05:41<00:00,  1.18s/it, Epoch=57, LR=4.69e-6, Train_Loss=0.56, accuracy=0.855, f1=0.809]\n",
            "100%|██████████| 73/73 [00:34<00:00,  2.14it/s, Epoch=57, LR=4.69e-6, Valid_Loss=0.0071, accuracy=1, f1=1]\n"
          ]
        },
        {
          "metadata": {
            "tags": null
          },
          "name": "stdout",
          "output_type": "stream",
          "text": [
            "Valid Loss : 0.007095725569006515\n",
            "Validation Loss improved( 0.007887249557326918 ---> 0.007095725569006515  )\n",
            "Model Saved\n"
          ]
        },
        {
          "metadata": {
            "tags": null
          },
          "name": "stderr",
          "output_type": "stream",
          "text": [
            "100%|██████████| 289/289 [05:41<00:00,  1.18s/it, Epoch=58, LR=1.77e-6, Train_Loss=0.564, accuracy=0.849, f1=0.806]\n",
            "100%|██████████| 73/73 [00:33<00:00,  2.15it/s, Epoch=58, LR=1.77e-6, Valid_Loss=0.00796, accuracy=1, f1=1]\n"
          ]
        },
        {
          "metadata": {
            "tags": null
          },
          "name": "stdout",
          "output_type": "stream",
          "text": [
            "Valid Loss : 0.007960880819503984\n"
          ]
        },
        {
          "metadata": {
            "tags": null
          },
          "name": "stderr",
          "output_type": "stream",
          "text": [
            "100%|██████████| 289/289 [05:41<00:00,  1.18s/it, Epoch=59, LR=3.62e-6, Train_Loss=0.556, accuracy=0.84, f1=0.794]\n",
            "100%|██████████| 73/73 [00:33<00:00,  2.15it/s, Epoch=59, LR=3.62e-6, Valid_Loss=0.00708, accuracy=1, f1=1]\n"
          ]
        },
        {
          "metadata": {
            "tags": null
          },
          "name": "stdout",
          "output_type": "stream",
          "text": [
            "Valid Loss : 0.007077650163858517\n",
            "Validation Loss improved( 0.007095725569006515 ---> 0.007077650163858517  )\n",
            "Model Saved\n"
          ]
        },
        {
          "metadata": {
            "tags": null
          },
          "name": "stderr",
          "output_type": "stream",
          "text": [
            "100%|██████████| 289/289 [05:41<00:00,  1.18s/it, Epoch=60, LR=3.06e-6, Train_Loss=0.566, accuracy=0.832, f1=0.787]\n",
            "100%|██████████| 73/73 [00:33<00:00,  2.15it/s, Epoch=60, LR=3.06e-6, Valid_Loss=0.0071, accuracy=1, f1=1]\n"
          ]
        },
        {
          "metadata": {
            "tags": null
          },
          "name": "stdout",
          "output_type": "stream",
          "text": [
            "Valid Loss : 0.0070955564956856915\n"
          ]
        },
        {
          "metadata": {
            "tags": null
          },
          "name": "stderr",
          "output_type": "stream",
          "text": [
            "100%|██████████| 289/289 [05:41<00:00,  1.18s/it, Epoch=61, LR=2.26e-6, Train_Loss=0.56, accuracy=0.848, f1=0.803]\n",
            "100%|██████████| 73/73 [00:34<00:00,  2.14it/s, Epoch=61, LR=2.26e-6, Valid_Loss=0.0063, accuracy=1, f1=1]\n"
          ]
        },
        {
          "metadata": {
            "tags": null
          },
          "name": "stdout",
          "output_type": "stream",
          "text": [
            "Valid Loss : 0.006304224758498268\n",
            "Validation Loss improved( 0.007077650163858517 ---> 0.006304224758498268  )\n",
            "Model Saved\n"
          ]
        },
        {
          "metadata": {
            "tags": null
          },
          "name": "stderr",
          "output_type": "stream",
          "text": [
            "100%|██████████| 289/289 [05:41<00:00,  1.18s/it, Epoch=62, LR=4.32e-6, Train_Loss=0.556, accuracy=0.838, f1=0.792]\n",
            "100%|██████████| 73/73 [00:34<00:00,  2.14it/s, Epoch=62, LR=4.32e-6, Valid_Loss=0.00698, accuracy=1, f1=1]\n"
          ]
        },
        {
          "metadata": {
            "tags": null
          },
          "name": "stdout",
          "output_type": "stream",
          "text": [
            "Valid Loss : 0.006976059197818171\n"
          ]
        },
        {
          "metadata": {
            "tags": null
          },
          "name": "stderr",
          "output_type": "stream",
          "text": [
            "100%|██████████| 289/289 [05:41<00:00,  1.18s/it, Epoch=63, LR=1.25e-6, Train_Loss=0.561, accuracy=0.833, f1=0.789]\n",
            "100%|██████████| 73/73 [00:33<00:00,  2.15it/s, Epoch=63, LR=1.25e-6, Valid_Loss=0.00604, accuracy=1, f1=1]\n"
          ]
        },
        {
          "metadata": {
            "tags": null
          },
          "name": "stdout",
          "output_type": "stream",
          "text": [
            "Valid Loss : 0.00603843074330218\n",
            "Validation Loss improved( 0.006304224758498268 ---> 0.00603843074330218  )\n",
            "Model Saved\n"
          ]
        },
        {
          "metadata": {
            "tags": null
          },
          "name": "stderr",
          "output_type": "stream",
          "text": [
            "100%|██████████| 289/289 [05:41<00:00,  1.18s/it, Epoch=64, LR=4.98e-6, Train_Loss=0.55, accuracy=0.838, f1=0.791]\n",
            "100%|██████████| 73/73 [00:34<00:00,  2.14it/s, Epoch=64, LR=4.98e-6, Valid_Loss=0.00716, accuracy=1, f1=1]\n"
          ]
        },
        {
          "metadata": {
            "tags": null
          },
          "name": "stdout",
          "output_type": "stream",
          "text": [
            "Valid Loss : 0.007157413949169321\n"
          ]
        },
        {
          "metadata": {
            "tags": null
          },
          "name": "stderr",
          "output_type": "stream",
          "text": [
            "100%|██████████| 289/289 [05:40<00:00,  1.18s/it, Epoch=65, LR=1.04e-6, Train_Loss=0.555, accuracy=0.853, f1=0.808]\n",
            "100%|██████████| 73/73 [00:33<00:00,  2.15it/s, Epoch=65, LR=1.04e-6, Valid_Loss=0.00686, accuracy=1, f1=1]\n"
          ]
        },
        {
          "metadata": {
            "tags": null
          },
          "name": "stdout",
          "output_type": "stream",
          "text": [
            "Valid Loss : 0.006864278813288228\n"
          ]
        },
        {
          "metadata": {
            "tags": null
          },
          "name": "stderr",
          "output_type": "stream",
          "text": [
            "100%|██████████| 289/289 [05:41<00:00,  1.18s/it, Epoch=66, LR=4.72e-6, Train_Loss=0.563, accuracy=0.845, f1=0.801]\n",
            "100%|██████████| 73/73 [00:33<00:00,  2.15it/s, Epoch=66, LR=4.72e-6, Valid_Loss=0.00611, accuracy=1, f1=1]\n"
          ]
        },
        {
          "metadata": {
            "tags": null
          },
          "name": "stdout",
          "output_type": "stream",
          "text": [
            "Valid Loss : 0.006114473373450543\n"
          ]
        },
        {
          "metadata": {
            "tags": null
          },
          "name": "stderr",
          "output_type": "stream",
          "text": [
            "100%|██████████| 289/289 [05:41<00:00,  1.18s/it, Epoch=67, LR=1.73e-6, Train_Loss=0.553, accuracy=0.846, f1=0.805]\n",
            "100%|██████████| 73/73 [00:33<00:00,  2.15it/s, Epoch=67, LR=1.73e-6, Valid_Loss=0.00636, accuracy=1, f1=1]\n"
          ]
        },
        {
          "metadata": {
            "tags": null
          },
          "name": "stdout",
          "output_type": "stream",
          "text": [
            "Valid Loss : 0.006356013718711799\n"
          ]
        },
        {
          "metadata": {
            "tags": null
          },
          "name": "stderr",
          "output_type": "stream",
          "text": [
            "100%|██████████| 289/289 [05:41<00:00,  1.18s/it, Epoch=68, LR=3.68e-6, Train_Loss=0.549, accuracy=0.856, f1=0.817]\n",
            "100%|██████████| 73/73 [00:34<00:00,  2.14it/s, Epoch=68, LR=3.68e-6, Valid_Loss=0.00516, accuracy=1, f1=1]\n"
          ]
        },
        {
          "metadata": {
            "tags": null
          },
          "name": "stdout",
          "output_type": "stream",
          "text": [
            "Valid Loss : 0.005163114540253396\n",
            "Validation Loss improved( 0.00603843074330218 ---> 0.005163114540253396  )\n",
            "Model Saved\n"
          ]
        },
        {
          "metadata": {
            "tags": null
          },
          "name": "stderr",
          "output_type": "stream",
          "text": [
            "100%|██████████| 289/289 [05:41<00:00,  1.18s/it, Epoch=69, LR=3e-6, Train_Loss=0.56, accuracy=0.861, f1=0.822]\n",
            "100%|██████████| 73/73 [00:33<00:00,  2.15it/s, Epoch=69, LR=3e-6, Valid_Loss=0.00627, accuracy=1, f1=1]\n"
          ]
        },
        {
          "metadata": {
            "tags": null
          },
          "name": "stdout",
          "output_type": "stream",
          "text": [
            "Valid Loss : 0.006266434322915053\n"
          ]
        },
        {
          "metadata": {
            "tags": null
          },
          "name": "stderr",
          "output_type": "stream",
          "text": [
            "100%|██████████| 289/289 [05:41<00:00,  1.18s/it, Epoch=70, LR=2.32e-6, Train_Loss=0.559, accuracy=0.854, f1=0.812]\n",
            "100%|██████████| 73/73 [00:33<00:00,  2.15it/s, Epoch=70, LR=2.32e-6, Valid_Loss=0.00539, accuracy=1, f1=1]\n"
          ]
        },
        {
          "metadata": {
            "tags": null
          },
          "name": "stdout",
          "output_type": "stream",
          "text": [
            "Valid Loss : 0.005389575034775452\n"
          ]
        },
        {
          "metadata": {
            "tags": null
          },
          "name": "stderr",
          "output_type": "stream",
          "text": [
            "100%|██████████| 289/289 [05:41<00:00,  1.18s/it, Epoch=71, LR=4.27e-6, Train_Loss=0.551, accuracy=0.839, f1=0.793]\n",
            "100%|██████████| 73/73 [00:34<00:00,  2.14it/s, Epoch=71, LR=4.27e-6, Valid_Loss=0.00527, accuracy=1, f1=1]\n"
          ]
        },
        {
          "metadata": {
            "tags": null
          },
          "name": "stdout",
          "output_type": "stream",
          "text": [
            "Valid Loss : 0.005268356289191503\n"
          ]
        },
        {
          "metadata": {
            "tags": null
          },
          "name": "stderr",
          "output_type": "stream",
          "text": [
            "100%|██████████| 289/289 [05:41<00:00,  1.18s/it, Epoch=72, LR=1.28e-6, Train_Loss=0.549, accuracy=0.857, f1=0.818]\n",
            "100%|██████████| 73/73 [00:33<00:00,  2.15it/s, Epoch=72, LR=1.28e-6, Valid_Loss=0.00516, accuracy=1, f1=1]\n"
          ]
        },
        {
          "metadata": {
            "tags": null
          },
          "name": "stdout",
          "output_type": "stream",
          "text": [
            "Valid Loss : 0.005156039947656634\n",
            "Validation Loss improved( 0.005163114540253396 ---> 0.005156039947656634  )\n",
            "Model Saved\n"
          ]
        },
        {
          "metadata": {
            "tags": null
          },
          "name": "stderr",
          "output_type": "stream",
          "text": [
            "100%|██████████| 289/289 [05:40<00:00,  1.18s/it, Epoch=73, LR=4.96e-6, Train_Loss=0.554, accuracy=0.857, f1=0.815]\n",
            "100%|██████████| 73/73 [00:33<00:00,  2.15it/s, Epoch=73, LR=4.96e-6, Valid_Loss=0.00562, accuracy=1, f1=1]\n"
          ]
        },
        {
          "metadata": {
            "tags": null
          },
          "name": "stdout",
          "output_type": "stream",
          "text": [
            "Valid Loss : 0.005615905987749463\n"
          ]
        },
        {
          "metadata": {
            "tags": null
          },
          "name": "stderr",
          "output_type": "stream",
          "text": [
            "100%|██████████| 289/289 [05:41<00:00,  1.18s/it, Epoch=74, LR=1.02e-6, Train_Loss=0.547, accuracy=0.869, f1=0.829]\n",
            "100%|██████████| 73/73 [00:33<00:00,  2.15it/s, Epoch=74, LR=1.02e-6, Valid_Loss=0.00505, accuracy=1, f1=1]\n"
          ]
        },
        {
          "metadata": {
            "tags": null
          },
          "name": "stdout",
          "output_type": "stream",
          "text": [
            "Valid Loss : 0.005048592437747611\n",
            "Validation Loss improved( 0.005156039947656634 ---> 0.005048592437747611  )\n",
            "Model Saved\n"
          ]
        },
        {
          "metadata": {
            "tags": null
          },
          "name": "stderr",
          "output_type": "stream",
          "text": [
            "100%|██████████| 289/289 [05:41<00:00,  1.18s/it, Epoch=75, LR=4.75e-6, Train_Loss=0.548, accuracy=0.871, f1=0.835]\n",
            "100%|██████████| 73/73 [00:33<00:00,  2.16it/s, Epoch=75, LR=4.75e-6, Valid_Loss=0.00514, accuracy=1, f1=1]\n"
          ]
        },
        {
          "metadata": {
            "tags": null
          },
          "name": "stdout",
          "output_type": "stream",
          "text": [
            "Valid Loss : 0.00514022084686599\n"
          ]
        },
        {
          "metadata": {
            "tags": null
          },
          "name": "stderr",
          "output_type": "stream",
          "text": [
            "100%|██████████| 289/289 [05:41<00:00,  1.18s/it, Epoch=76, LR=1.68e-6, Train_Loss=0.543, accuracy=0.863, f1=0.823]\n",
            "100%|██████████| 73/73 [00:33<00:00,  2.15it/s, Epoch=76, LR=1.68e-6, Valid_Loss=0.00508, accuracy=1, f1=1]\n"
          ]
        },
        {
          "metadata": {
            "tags": null
          },
          "name": "stdout",
          "output_type": "stream",
          "text": [
            "Valid Loss : 0.005077005649457545\n"
          ]
        },
        {
          "metadata": {
            "tags": null
          },
          "name": "stderr",
          "output_type": "stream",
          "text": [
            "100%|██████████| 289/289 [05:41<00:00,  1.18s/it, Epoch=77, LR=3.74e-6, Train_Loss=0.539, accuracy=0.874, f1=0.837]\n",
            "100%|██████████| 73/73 [00:33<00:00,  2.15it/s, Epoch=77, LR=3.74e-6, Valid_Loss=0.00499, accuracy=1, f1=1]\n"
          ]
        },
        {
          "metadata": {
            "tags": null
          },
          "name": "stdout",
          "output_type": "stream",
          "text": [
            "Valid Loss : 0.00498672718762688\n",
            "Validation Loss improved( 0.005048592437747611 ---> 0.00498672718762688  )\n",
            "Model Saved\n"
          ]
        },
        {
          "metadata": {
            "tags": null
          },
          "name": "stderr",
          "output_type": "stream",
          "text": [
            "100%|██████████| 289/289 [05:41<00:00,  1.18s/it, Epoch=78, LR=2.94e-6, Train_Loss=0.552, accuracy=0.867, f1=0.83]\n",
            "100%|██████████| 73/73 [00:34<00:00,  2.15it/s, Epoch=78, LR=2.94e-6, Valid_Loss=0.00498, accuracy=1, f1=1]\n"
          ]
        },
        {
          "metadata": {
            "tags": null
          },
          "name": "stdout",
          "output_type": "stream",
          "text": [
            "Valid Loss : 0.004976859561818307\n",
            "Validation Loss improved( 0.00498672718762688 ---> 0.004976859561818307  )\n",
            "Model Saved\n"
          ]
        },
        {
          "metadata": {
            "tags": null
          },
          "name": "stderr",
          "output_type": "stream",
          "text": [
            "100%|██████████| 289/289 [05:41<00:00,  1.18s/it, Epoch=79, LR=2.38e-6, Train_Loss=0.54, accuracy=0.85, f1=0.809]\n",
            "100%|██████████| 73/73 [00:33<00:00,  2.16it/s, Epoch=79, LR=2.38e-6, Valid_Loss=0.00492, accuracy=1, f1=1]\n"
          ]
        },
        {
          "metadata": {
            "tags": null
          },
          "name": "stdout",
          "output_type": "stream",
          "text": [
            "Valid Loss : 0.0049236109751365975\n",
            "Validation Loss improved( 0.004976859561818307 ---> 0.0049236109751365975  )\n",
            "Model Saved\n"
          ]
        },
        {
          "metadata": {
            "tags": null
          },
          "name": "stderr",
          "output_type": "stream",
          "text": [
            "100%|██████████| 289/289 [05:41<00:00,  1.18s/it, Epoch=80, LR=4.23e-6, Train_Loss=0.543, accuracy=0.862, f1=0.82]\n",
            "100%|██████████| 73/73 [00:33<00:00,  2.15it/s, Epoch=80, LR=4.23e-6, Valid_Loss=0.0057, accuracy=1, f1=1]\n"
          ]
        },
        {
          "metadata": {
            "tags": null
          },
          "name": "stdout",
          "output_type": "stream",
          "text": [
            "Valid Loss : 0.005695938244334435\n"
          ]
        },
        {
          "metadata": {
            "tags": null
          },
          "name": "stderr",
          "output_type": "stream",
          "text": [
            "100%|██████████| 289/289 [05:41<00:00,  1.18s/it, Epoch=81, LR=1.31e-6, Train_Loss=0.54, accuracy=0.872, f1=0.831]\n",
            "100%|██████████| 73/73 [00:34<00:00,  2.14it/s, Epoch=81, LR=1.31e-6, Valid_Loss=0.00474, accuracy=1, f1=1]\n"
          ]
        },
        {
          "metadata": {
            "tags": null
          },
          "name": "stdout",
          "output_type": "stream",
          "text": [
            "Valid Loss : 0.004737618171979915\n",
            "Validation Loss improved( 0.0049236109751365975 ---> 0.004737618171979915  )\n",
            "Model Saved\n"
          ]
        },
        {
          "metadata": {
            "tags": null
          },
          "name": "stderr",
          "output_type": "stream",
          "text": [
            "100%|██████████| 289/289 [05:41<00:00,  1.18s/it, Epoch=82, LR=4.95e-6, Train_Loss=0.54, accuracy=0.853, f1=0.81]\n",
            "100%|██████████| 73/73 [00:33<00:00,  2.15it/s, Epoch=82, LR=4.95e-6, Valid_Loss=0.00495, accuracy=1, f1=1]\n"
          ]
        },
        {
          "metadata": {
            "tags": null
          },
          "name": "stdout",
          "output_type": "stream",
          "text": [
            "Valid Loss : 0.004952340179492962\n"
          ]
        },
        {
          "metadata": {
            "tags": null
          },
          "name": "stderr",
          "output_type": "stream",
          "text": [
            "100%|██████████| 289/289 [05:41<00:00,  1.18s/it, Epoch=83, LR=1.02e-6, Train_Loss=0.537, accuracy=0.872, f1=0.836]\n",
            "100%|██████████| 73/73 [00:33<00:00,  2.16it/s, Epoch=83, LR=1.02e-6, Valid_Loss=0.00448, accuracy=1, f1=1]\n"
          ]
        },
        {
          "metadata": {
            "tags": null
          },
          "name": "stdout",
          "output_type": "stream",
          "text": [
            "Valid Loss : 0.00447969508280799\n",
            "Validation Loss improved( 0.004737618171979915 ---> 0.00447969508280799  )\n",
            "Model Saved\n"
          ]
        },
        {
          "metadata": {
            "tags": null
          },
          "name": "stderr",
          "output_type": "stream",
          "text": [
            "100%|██████████| 289/289 [05:41<00:00,  1.18s/it, Epoch=84, LR=4.78e-6, Train_Loss=0.536, accuracy=0.866, f1=0.831]\n",
            "100%|██████████| 73/73 [00:33<00:00,  2.15it/s, Epoch=84, LR=4.78e-6, Valid_Loss=0.00424, accuracy=1, f1=1]\n"
          ]
        },
        {
          "metadata": {
            "tags": null
          },
          "name": "stdout",
          "output_type": "stream",
          "text": [
            "Valid Loss : 0.004244814964955392\n",
            "Validation Loss improved( 0.00447969508280799 ---> 0.004244814964955392  )\n",
            "Model Saved\n"
          ]
        },
        {
          "metadata": {
            "tags": null
          },
          "name": "stderr",
          "output_type": "stream",
          "text": [
            "100%|██████████| 289/289 [05:41<00:00,  1.18s/it, Epoch=85, LR=1.63e-6, Train_Loss=0.552, accuracy=0.858, f1=0.82]\n",
            "100%|██████████| 73/73 [00:33<00:00,  2.15it/s, Epoch=85, LR=1.63e-6, Valid_Loss=0.00464, accuracy=1, f1=1]\n"
          ]
        },
        {
          "metadata": {
            "tags": null
          },
          "name": "stdout",
          "output_type": "stream",
          "text": [
            "Valid Loss : 0.004641214813016457\n"
          ]
        },
        {
          "metadata": {
            "tags": null
          },
          "name": "stderr",
          "output_type": "stream",
          "text": [
            "100%|██████████| 289/289 [05:41<00:00,  1.18s/it, Epoch=86, LR=3.79e-6, Train_Loss=0.538, accuracy=0.873, f1=0.838]\n",
            "100%|██████████| 73/73 [00:34<00:00,  2.15it/s, Epoch=86, LR=3.79e-6, Valid_Loss=0.0043, accuracy=1, f1=1]\n"
          ]
        },
        {
          "metadata": {
            "tags": null
          },
          "name": "stdout",
          "output_type": "stream",
          "text": [
            "Valid Loss : 0.004304542033996893\n"
          ]
        },
        {
          "metadata": {
            "tags": null
          },
          "name": "stderr",
          "output_type": "stream",
          "text": [
            "100%|██████████| 289/289 [05:41<00:00,  1.18s/it, Epoch=87, LR=2.87e-6, Train_Loss=0.551, accuracy=0.873, f1=0.836]\n",
            "100%|██████████| 73/73 [00:33<00:00,  2.15it/s, Epoch=87, LR=2.87e-6, Valid_Loss=0.00488, accuracy=1, f1=1]\n"
          ]
        },
        {
          "metadata": {
            "tags": null
          },
          "name": "stdout",
          "output_type": "stream",
          "text": [
            "Valid Loss : 0.004882934871640005\n"
          ]
        },
        {
          "metadata": {
            "tags": null
          },
          "name": "stderr",
          "output_type": "stream",
          "text": [
            "100%|██████████| 289/289 [05:41<00:00,  1.18s/it, Epoch=88, LR=2.44e-6, Train_Loss=0.537, accuracy=0.869, f1=0.834]\n",
            "100%|██████████| 73/73 [00:33<00:00,  2.15it/s, Epoch=88, LR=2.44e-6, Valid_Loss=0.00396, accuracy=1, f1=1]\n"
          ]
        },
        {
          "metadata": {
            "tags": null
          },
          "name": "stdout",
          "output_type": "stream",
          "text": [
            "Valid Loss : 0.00395839438256999\n",
            "Validation Loss improved( 0.004244814964955392 ---> 0.00395839438256999  )\n",
            "Model Saved\n"
          ]
        },
        {
          "metadata": {
            "tags": null
          },
          "name": "stderr",
          "output_type": "stream",
          "text": [
            "100%|██████████| 289/289 [05:41<00:00,  1.18s/it, Epoch=89, LR=4.18e-6, Train_Loss=0.541, accuracy=0.86, f1=0.82]\n",
            "100%|██████████| 73/73 [00:33<00:00,  2.15it/s, Epoch=89, LR=4.18e-6, Valid_Loss=0.00423, accuracy=1, f1=1]\n"
          ]
        },
        {
          "metadata": {
            "tags": null
          },
          "name": "stdout",
          "output_type": "stream",
          "text": [
            "Valid Loss : 0.004231146873255605\n"
          ]
        },
        {
          "metadata": {
            "tags": null
          },
          "name": "stderr",
          "output_type": "stream",
          "text": [
            "100%|██████████| 289/289 [05:41<00:00,  1.18s/it, Epoch=90, LR=1.35e-6, Train_Loss=0.531, accuracy=0.884, f1=0.852]\n",
            "100%|██████████| 73/73 [00:33<00:00,  2.15it/s, Epoch=90, LR=1.35e-6, Valid_Loss=0.00439, accuracy=1, f1=1]\n"
          ]
        },
        {
          "metadata": {
            "tags": null
          },
          "name": "stdout",
          "output_type": "stream",
          "text": [
            "Valid Loss : 0.004386409326163057\n"
          ]
        },
        {
          "metadata": {
            "tags": null
          },
          "name": "stderr",
          "output_type": "stream",
          "text": [
            "100%|██████████| 289/289 [05:41<00:00,  1.18s/it, Epoch=91, LR=4.94e-6, Train_Loss=0.538, accuracy=0.873, f1=0.838]\n",
            "100%|██████████| 73/73 [00:33<00:00,  2.15it/s, Epoch=91, LR=4.94e-6, Valid_Loss=0.00377, accuracy=1, f1=1]\n"
          ]
        },
        {
          "metadata": {
            "tags": null
          },
          "name": "stdout",
          "output_type": "stream",
          "text": [
            "Valid Loss : 0.003770440147092489\n",
            "Validation Loss improved( 0.00395839438256999 ---> 0.003770440147092489  )\n",
            "Model Saved\n"
          ]
        },
        {
          "metadata": {
            "tags": null
          },
          "name": "stderr",
          "output_type": "stream",
          "text": [
            "100%|██████████| 289/289 [05:41<00:00,  1.18s/it, Epoch=92, LR=1.01e-6, Train_Loss=0.531, accuracy=0.862, f1=0.829]\n",
            "100%|██████████| 73/73 [00:34<00:00,  2.15it/s, Epoch=92, LR=1.01e-6, Valid_Loss=0.0038, accuracy=1, f1=1]\n"
          ]
        },
        {
          "metadata": {
            "tags": null
          },
          "name": "stdout",
          "output_type": "stream",
          "text": [
            "Valid Loss : 0.0038037163983673265\n"
          ]
        },
        {
          "metadata": {
            "tags": null
          },
          "name": "stderr",
          "output_type": "stream",
          "text": [
            "100%|██████████| 289/289 [05:41<00:00,  1.18s/it, Epoch=93, LR=4.81e-6, Train_Loss=0.537, accuracy=0.87, f1=0.838]\n",
            "100%|██████████| 73/73 [00:33<00:00,  2.15it/s, Epoch=93, LR=4.81e-6, Valid_Loss=0.00385, accuracy=1, f1=1]\n"
          ]
        },
        {
          "metadata": {
            "tags": null
          },
          "name": "stdout",
          "output_type": "stream",
          "text": [
            "Valid Loss : 0.0038459281172373728\n"
          ]
        },
        {
          "metadata": {
            "tags": null
          },
          "name": "stderr",
          "output_type": "stream",
          "text": [
            "100%|██████████| 289/289 [05:41<00:00,  1.18s/it, Epoch=94, LR=1.59e-6, Train_Loss=0.544, accuracy=0.869, f1=0.831]\n",
            "100%|██████████| 73/73 [00:34<00:00,  2.14it/s, Epoch=94, LR=1.59e-6, Valid_Loss=0.0037, accuracy=1, f1=1]\n"
          ]
        },
        {
          "metadata": {
            "tags": null
          },
          "name": "stdout",
          "output_type": "stream",
          "text": [
            "Valid Loss : 0.003695525907535004\n",
            "Validation Loss improved( 0.003770440147092489 ---> 0.003695525907535004  )\n",
            "Model Saved\n"
          ]
        },
        {
          "metadata": {
            "tags": null
          },
          "name": "stderr",
          "output_type": "stream",
          "text": [
            "100%|██████████| 289/289 [05:41<00:00,  1.18s/it, Epoch=95, LR=3.85e-6, Train_Loss=0.536, accuracy=0.868, f1=0.832]\n",
            "100%|██████████| 73/73 [00:34<00:00,  2.14it/s, Epoch=95, LR=3.85e-6, Valid_Loss=0.00357, accuracy=1, f1=1]\n"
          ]
        },
        {
          "metadata": {
            "tags": null
          },
          "name": "stdout",
          "output_type": "stream",
          "text": [
            "Valid Loss : 0.003567484556697309\n",
            "Validation Loss improved( 0.003695525907535004 ---> 0.003567484556697309  )\n",
            "Model Saved\n"
          ]
        },
        {
          "metadata": {
            "tags": null
          },
          "name": "stderr",
          "output_type": "stream",
          "text": [
            "100%|██████████| 289/289 [05:41<00:00,  1.18s/it, Epoch=96, LR=2.81e-6, Train_Loss=0.534, accuracy=0.872, f1=0.836]\n",
            "100%|██████████| 73/73 [00:34<00:00,  2.14it/s, Epoch=96, LR=2.81e-6, Valid_Loss=0.0037, accuracy=1, f1=1]\n"
          ]
        },
        {
          "metadata": {
            "tags": null
          },
          "name": "stdout",
          "output_type": "stream",
          "text": [
            "Valid Loss : 0.0037020208674470242\n"
          ]
        },
        {
          "metadata": {
            "tags": null
          },
          "name": "stderr",
          "output_type": "stream",
          "text": [
            "100%|██████████| 289/289 [05:41<00:00,  1.18s/it, Epoch=97, LR=2.5e-6, Train_Loss=0.532, accuracy=0.879, f1=0.848]\n",
            "100%|██████████| 73/73 [00:33<00:00,  2.15it/s, Epoch=97, LR=2.5e-6, Valid_Loss=0.00345, accuracy=1, f1=1]\n"
          ]
        },
        {
          "metadata": {
            "tags": null
          },
          "name": "stdout",
          "output_type": "stream",
          "text": [
            "Valid Loss : 0.0034478865404396434\n",
            "Validation Loss improved( 0.003567484556697309 ---> 0.0034478865404396434  )\n",
            "Model Saved\n"
          ]
        },
        {
          "metadata": {
            "tags": null
          },
          "name": "stderr",
          "output_type": "stream",
          "text": [
            "100%|██████████| 289/289 [05:41<00:00,  1.18s/it, Epoch=98, LR=4.12e-6, Train_Loss=0.541, accuracy=0.863, f1=0.828]\n",
            "100%|██████████| 73/73 [00:33<00:00,  2.15it/s, Epoch=98, LR=4.12e-6, Valid_Loss=0.00362, accuracy=1, f1=1]\n"
          ]
        },
        {
          "metadata": {
            "tags": null
          },
          "name": "stdout",
          "output_type": "stream",
          "text": [
            "Valid Loss : 0.0036151105193548824\n"
          ]
        },
        {
          "metadata": {
            "tags": null
          },
          "name": "stderr",
          "output_type": "stream",
          "text": [
            "100%|██████████| 289/289 [05:41<00:00,  1.18s/it, Epoch=99, LR=1.38e-6, Train_Loss=0.536, accuracy=0.883, f1=0.848]\n",
            "100%|██████████| 73/73 [00:34<00:00,  2.15it/s, Epoch=99, LR=1.38e-6, Valid_Loss=0.00347, accuracy=1, f1=1]\n"
          ]
        },
        {
          "metadata": {
            "tags": null
          },
          "name": "stdout",
          "output_type": "stream",
          "text": [
            "Valid Loss : 0.0034660870601639967\n"
          ]
        },
        {
          "metadata": {
            "tags": null
          },
          "name": "stderr",
          "output_type": "stream",
          "text": [
            "100%|██████████| 289/289 [05:41<00:00,  1.18s/it, Epoch=100, LR=4.92e-6, Train_Loss=0.536, accuracy=0.87, f1=0.832]\n",
            "100%|██████████| 73/73 [00:34<00:00,  2.15it/s, Epoch=100, LR=4.92e-6, Valid_Loss=0.00369, accuracy=1, f1=1]\n"
          ]
        },
        {
          "metadata": {
            "tags": null
          },
          "name": "stdout",
          "output_type": "stream",
          "text": [
            "Valid Loss : 0.0036903857572437968\n"
          ]
        },
        {
          "metadata": {
            "tags": null
          },
          "name": "stderr",
          "output_type": "stream",
          "text": [
            "100%|██████████| 289/289 [05:41<00:00,  1.18s/it, Epoch=101, LR=1e-6, Train_Loss=0.534, accuracy=0.866, f1=0.829]\n",
            "100%|██████████| 73/73 [00:34<00:00,  2.15it/s, Epoch=101, LR=1e-6, Valid_Loss=0.00339, accuracy=1, f1=1]\n"
          ]
        },
        {
          "metadata": {
            "tags": null
          },
          "name": "stdout",
          "output_type": "stream",
          "text": [
            "Valid Loss : 0.003389132421221329\n",
            "Validation Loss improved( 0.0034478865404396434 ---> 0.003389132421221329  )\n",
            "Model Saved\n"
          ]
        },
        {
          "metadata": {
            "tags": null
          },
          "name": "stderr",
          "output_type": "stream",
          "text": [
            "100%|██████████| 289/289 [05:41<00:00,  1.18s/it, Epoch=102, LR=4.84e-6, Train_Loss=0.543, accuracy=0.873, f1=0.835]\n",
            "100%|██████████| 73/73 [00:33<00:00,  2.15it/s, Epoch=102, LR=4.84e-6, Valid_Loss=0.00304, accuracy=1, f1=1]\n"
          ]
        },
        {
          "metadata": {
            "tags": null
          },
          "name": "stdout",
          "output_type": "stream",
          "text": [
            "Valid Loss : 0.0030438889468675607\n",
            "Validation Loss improved( 0.003389132421221329 ---> 0.0030438889468675607  )\n",
            "Model Saved\n"
          ]
        },
        {
          "metadata": {
            "tags": null
          },
          "name": "stderr",
          "output_type": "stream",
          "text": [
            "100%|██████████| 289/289 [05:41<00:00,  1.18s/it, Epoch=103, LR=1.54e-6, Train_Loss=0.548, accuracy=0.875, f1=0.839]\n",
            "100%|██████████| 73/73 [00:33<00:00,  2.15it/s, Epoch=103, LR=1.54e-6, Valid_Loss=0.00342, accuracy=1, f1=1]\n"
          ]
        },
        {
          "metadata": {
            "tags": null
          },
          "name": "stdout",
          "output_type": "stream",
          "text": [
            "Valid Loss : 0.0034230622488443984\n"
          ]
        },
        {
          "metadata": {
            "tags": null
          },
          "name": "stderr",
          "output_type": "stream",
          "text": [
            "100%|██████████| 289/289 [05:41<00:00,  1.18s/it, Epoch=104, LR=3.91e-6, Train_Loss=0.523, accuracy=0.897, f1=0.87]\n",
            "100%|██████████| 73/73 [00:33<00:00,  2.15it/s, Epoch=104, LR=3.91e-6, Valid_Loss=0.00324, accuracy=1, f1=1]\n"
          ]
        },
        {
          "metadata": {
            "tags": null
          },
          "name": "stdout",
          "output_type": "stream",
          "text": [
            "Valid Loss : 0.0032397963805124164\n"
          ]
        },
        {
          "metadata": {
            "tags": null
          },
          "name": "stderr",
          "output_type": "stream",
          "text": [
            "100%|██████████| 289/289 [05:41<00:00,  1.18s/it, Epoch=105, LR=2.75e-6, Train_Loss=0.524, accuracy=0.878, f1=0.846]\n",
            "100%|██████████| 73/73 [00:33<00:00,  2.15it/s, Epoch=105, LR=2.75e-6, Valid_Loss=0.00334, accuracy=1, f1=1]\n"
          ]
        },
        {
          "metadata": {
            "tags": null
          },
          "name": "stdout",
          "output_type": "stream",
          "text": [
            "Valid Loss : 0.0033355453960623033\n"
          ]
        },
        {
          "metadata": {
            "tags": null
          },
          "name": "stderr",
          "output_type": "stream",
          "text": [
            "100%|██████████| 289/289 [05:41<00:00,  1.18s/it, Epoch=106, LR=2.56e-6, Train_Loss=0.531, accuracy=0.883, f1=0.851]\n",
            "100%|██████████| 73/73 [00:34<00:00,  2.14it/s, Epoch=106, LR=2.56e-6, Valid_Loss=0.00292, accuracy=1, f1=1]\n"
          ]
        },
        {
          "metadata": {
            "tags": null
          },
          "name": "stdout",
          "output_type": "stream",
          "text": [
            "Valid Loss : 0.0029244530812058953\n",
            "Validation Loss improved( 0.0030438889468675607 ---> 0.0029244530812058953  )\n",
            "Model Saved\n"
          ]
        },
        {
          "metadata": {
            "tags": null
          },
          "name": "stderr",
          "output_type": "stream",
          "text": [
            "100%|██████████| 289/289 [05:41<00:00,  1.18s/it, Epoch=107, LR=4.07e-6, Train_Loss=0.536, accuracy=0.873, f1=0.842]\n",
            "100%|██████████| 73/73 [00:33<00:00,  2.15it/s, Epoch=107, LR=4.07e-6, Valid_Loss=0.00308, accuracy=1, f1=1]\n"
          ]
        },
        {
          "metadata": {
            "tags": null
          },
          "name": "stdout",
          "output_type": "stream",
          "text": [
            "Valid Loss : 0.003077812750396408\n"
          ]
        },
        {
          "metadata": {
            "tags": null
          },
          "name": "stderr",
          "output_type": "stream",
          "text": [
            "100%|██████████| 289/289 [05:41<00:00,  1.18s/it, Epoch=108, LR=1.42e-6, Train_Loss=0.538, accuracy=0.882, f1=0.849]\n",
            "100%|██████████| 73/73 [00:33<00:00,  2.15it/s, Epoch=108, LR=1.42e-6, Valid_Loss=0.00287, accuracy=1, f1=1]\n"
          ]
        },
        {
          "metadata": {
            "tags": null
          },
          "name": "stdout",
          "output_type": "stream",
          "text": [
            "Valid Loss : 0.0028657274390889768\n",
            "Validation Loss improved( 0.0029244530812058953 ---> 0.0028657274390889768  )\n",
            "Model Saved\n"
          ]
        },
        {
          "metadata": {
            "tags": null
          },
          "name": "stderr",
          "output_type": "stream",
          "text": [
            "100%|██████████| 289/289 [05:41<00:00,  1.18s/it, Epoch=109, LR=4.9e-6, Train_Loss=0.52, accuracy=0.902, f1=0.876]\n",
            "100%|██████████| 73/73 [00:34<00:00,  2.15it/s, Epoch=109, LR=4.9e-6, Valid_Loss=0.0031, accuracy=1, f1=1]\n"
          ]
        },
        {
          "metadata": {
            "tags": null
          },
          "name": "stdout",
          "output_type": "stream",
          "text": [
            "Valid Loss : 0.0031000819792396913\n"
          ]
        },
        {
          "metadata": {
            "tags": null
          },
          "name": "stderr",
          "output_type": "stream",
          "text": [
            "100%|██████████| 289/289 [05:41<00:00,  1.18s/it, Epoch=110, LR=1e-6, Train_Loss=0.539, accuracy=0.872, f1=0.833]\n",
            "100%|██████████| 73/73 [00:34<00:00,  2.14it/s, Epoch=110, LR=1e-6, Valid_Loss=0.00312, accuracy=1, f1=1]\n"
          ]
        },
        {
          "metadata": {
            "tags": null
          },
          "name": "stdout",
          "output_type": "stream",
          "text": [
            "Valid Loss : 0.003119408457591007\n"
          ]
        },
        {
          "metadata": {
            "tags": null
          },
          "name": "stderr",
          "output_type": "stream",
          "text": [
            "100%|██████████| 289/289 [05:41<00:00,  1.18s/it, Epoch=111, LR=4.86e-6, Train_Loss=0.522, accuracy=0.88, f1=0.851]\n",
            "100%|██████████| 73/73 [00:34<00:00,  2.14it/s, Epoch=111, LR=4.86e-6, Valid_Loss=0.00295, accuracy=1, f1=1]\n"
          ]
        },
        {
          "metadata": {
            "tags": null
          },
          "name": "stdout",
          "output_type": "stream",
          "text": [
            "Valid Loss : 0.002946918418835083\n"
          ]
        },
        {
          "metadata": {
            "tags": null
          },
          "name": "stderr",
          "output_type": "stream",
          "text": [
            "100%|██████████| 289/289 [05:41<00:00,  1.18s/it, Epoch=112, LR=1.5e-6, Train_Loss=0.538, accuracy=0.871, f1=0.84]\n",
            "100%|██████████| 73/73 [00:33<00:00,  2.15it/s, Epoch=112, LR=1.5e-6, Valid_Loss=0.00275, accuracy=1, f1=1]\n"
          ]
        },
        {
          "metadata": {
            "tags": null
          },
          "name": "stdout",
          "output_type": "stream",
          "text": [
            "Valid Loss : 0.0027462735816785326\n",
            "Validation Loss improved( 0.0028657274390889768 ---> 0.0027462735816785326  )\n",
            "Model Saved\n"
          ]
        },
        {
          "metadata": {
            "tags": null
          },
          "name": "stderr",
          "output_type": "stream",
          "text": [
            "100%|██████████| 289/289 [05:41<00:00,  1.18s/it, Epoch=113, LR=3.96e-6, Train_Loss=0.526, accuracy=0.883, f1=0.853]\n",
            "100%|██████████| 73/73 [00:34<00:00,  2.15it/s, Epoch=113, LR=3.96e-6, Valid_Loss=0.00259, accuracy=1, f1=1]\n"
          ]
        },
        {
          "metadata": {
            "tags": null
          },
          "name": "stdout",
          "output_type": "stream",
          "text": [
            "Valid Loss : 0.0025910661964077654\n",
            "Validation Loss improved( 0.0027462735816785326 ---> 0.0025910661964077654  )\n",
            "Model Saved\n"
          ]
        },
        {
          "metadata": {
            "tags": null
          },
          "name": "stderr",
          "output_type": "stream",
          "text": [
            "100%|██████████| 289/289 [05:41<00:00,  1.18s/it, Epoch=114, LR=2.69e-6, Train_Loss=0.524, accuracy=0.89, f1=0.86]\n",
            "100%|██████████| 73/73 [00:34<00:00,  2.14it/s, Epoch=114, LR=2.69e-6, Valid_Loss=0.00296, accuracy=1, f1=1]\n"
          ]
        },
        {
          "metadata": {
            "tags": null
          },
          "name": "stdout",
          "output_type": "stream",
          "text": [
            "Valid Loss : 0.0029617131604774767\n"
          ]
        },
        {
          "metadata": {
            "tags": null
          },
          "name": "stderr",
          "output_type": "stream",
          "text": [
            "100%|██████████| 289/289 [05:41<00:00,  1.18s/it, Epoch=115, LR=2.63e-6, Train_Loss=0.534, accuracy=0.876, f1=0.844]\n",
            "100%|██████████| 73/73 [00:33<00:00,  2.15it/s, Epoch=115, LR=2.63e-6, Valid_Loss=0.00258, accuracy=1, f1=1]\n"
          ]
        },
        {
          "metadata": {
            "tags": null
          },
          "name": "stdout",
          "output_type": "stream",
          "text": [
            "Valid Loss : 0.0025807994502366916\n",
            "Validation Loss improved( 0.0025910661964077654 ---> 0.0025807994502366916  )\n",
            "Model Saved\n"
          ]
        },
        {
          "metadata": {
            "tags": null
          },
          "name": "stderr",
          "output_type": "stream",
          "text": [
            "100%|██████████| 289/289 [05:41<00:00,  1.18s/it, Epoch=116, LR=4.02e-6, Train_Loss=0.529, accuracy=0.886, f1=0.859]\n",
            "100%|██████████| 73/73 [00:34<00:00,  2.15it/s, Epoch=116, LR=4.02e-6, Valid_Loss=0.0025, accuracy=1, f1=1]\n"
          ]
        },
        {
          "metadata": {
            "tags": null
          },
          "name": "stdout",
          "output_type": "stream",
          "text": [
            "Valid Loss : 0.0024971757259551587\n",
            "Validation Loss improved( 0.0025807994502366916 ---> 0.0024971757259551587  )\n",
            "Model Saved\n"
          ]
        },
        {
          "metadata": {
            "tags": null
          },
          "name": "stderr",
          "output_type": "stream",
          "text": [
            "100%|██████████| 289/289 [05:41<00:00,  1.18s/it, Epoch=117, LR=1.46e-6, Train_Loss=0.53, accuracy=0.891, f1=0.863]\n",
            "100%|██████████| 73/73 [00:33<00:00,  2.15it/s, Epoch=117, LR=1.46e-6, Valid_Loss=0.00259, accuracy=1, f1=1]\n"
          ]
        },
        {
          "metadata": {
            "tags": null
          },
          "name": "stdout",
          "output_type": "stream",
          "text": [
            "Valid Loss : 0.0025893147502171056\n"
          ]
        },
        {
          "metadata": {
            "tags": null
          },
          "name": "stderr",
          "output_type": "stream",
          "text": [
            "100%|██████████| 289/289 [05:41<00:00,  1.18s/it, Epoch=118, LR=4.88e-6, Train_Loss=0.532, accuracy=0.884, f1=0.854]\n",
            "100%|██████████| 73/73 [00:33<00:00,  2.16it/s, Epoch=118, LR=4.88e-6, Valid_Loss=0.00274, accuracy=1, f1=1]\n"
          ]
        },
        {
          "metadata": {
            "tags": null
          },
          "name": "stdout",
          "output_type": "stream",
          "text": [
            "Valid Loss : 0.00274307990752875\n"
          ]
        },
        {
          "metadata": {
            "tags": null
          },
          "name": "stderr",
          "output_type": "stream",
          "text": [
            "100%|██████████| 289/289 [05:41<00:00,  1.18s/it, Epoch=119, LR=1e-6, Train_Loss=0.527, accuracy=0.89, f1=0.864]\n",
            "100%|██████████| 73/73 [00:33<00:00,  2.15it/s, Epoch=119, LR=1e-6, Valid_Loss=0.00269, accuracy=1, f1=1]\n"
          ]
        },
        {
          "metadata": {
            "tags": null
          },
          "name": "stdout",
          "output_type": "stream",
          "text": [
            "Valid Loss : 0.0026907165923908557\n"
          ]
        },
        {
          "metadata": {
            "tags": null
          },
          "name": "stderr",
          "output_type": "stream",
          "text": [
            "100%|██████████| 289/289 [05:40<00:00,  1.18s/it, Epoch=120, LR=4.88e-6, Train_Loss=0.528, accuracy=0.886, f1=0.858]\n",
            "100%|██████████| 73/73 [00:33<00:00,  2.15it/s, Epoch=120, LR=4.88e-6, Valid_Loss=0.00258, accuracy=1, f1=1]\n"
          ]
        },
        {
          "metadata": {
            "tags": null
          },
          "name": "stdout",
          "output_type": "stream",
          "text": [
            "Valid Loss : 0.0025831663938022335\n"
          ]
        },
        {
          "metadata": {
            "tags": null
          },
          "name": "stderr",
          "output_type": "stream",
          "text": [
            "100%|██████████| 289/289 [05:41<00:00,  1.18s/it, Epoch=121, LR=1.46e-6, Train_Loss=0.523, accuracy=0.868, f1=0.834]\n",
            "100%|██████████| 73/73 [00:33<00:00,  2.15it/s, Epoch=121, LR=1.46e-6, Valid_Loss=0.00273, accuracy=1, f1=1]\n"
          ]
        },
        {
          "metadata": {
            "tags": null
          },
          "name": "stdout",
          "output_type": "stream",
          "text": [
            "Valid Loss : 0.002726929901767369\n"
          ]
        },
        {
          "metadata": {
            "tags": null
          },
          "name": "stderr",
          "output_type": "stream",
          "text": [
            "100%|██████████| 289/289 [05:41<00:00,  1.18s/it, Epoch=122, LR=4.02e-6, Train_Loss=0.53, accuracy=0.877, f1=0.846]\n",
            "100%|██████████| 73/73 [00:33<00:00,  2.15it/s, Epoch=122, LR=4.02e-6, Valid_Loss=0.00264, accuracy=1, f1=1]\n"
          ]
        },
        {
          "metadata": {
            "tags": null
          },
          "name": "stdout",
          "output_type": "stream",
          "text": [
            "Valid Loss : 0.0026402127504833554\n"
          ]
        },
        {
          "metadata": {
            "tags": null
          },
          "name": "stderr",
          "output_type": "stream",
          "text": [
            "100%|██████████| 289/289 [05:42<00:00,  1.18s/it, Epoch=123, LR=2.63e-6, Train_Loss=0.534, accuracy=0.89, f1=0.86]\n",
            "100%|██████████| 73/73 [00:34<00:00,  2.13it/s, Epoch=123, LR=2.63e-6, Valid_Loss=0.00256, accuracy=1, f1=1]\n"
          ]
        },
        {
          "metadata": {
            "tags": null
          },
          "name": "stdout",
          "output_type": "stream",
          "text": [
            "Valid Loss : 0.0025638808824810875\n"
          ]
        },
        {
          "metadata": {
            "tags": null
          },
          "name": "stderr",
          "output_type": "stream",
          "text": [
            "100%|██████████| 289/289 [05:42<00:00,  1.18s/it, Epoch=124, LR=2.69e-6, Train_Loss=0.532, accuracy=0.893, f1=0.865]\n",
            "100%|██████████| 73/73 [00:34<00:00,  2.14it/s, Epoch=124, LR=2.69e-6, Valid_Loss=0.0025, accuracy=1, f1=1]\n"
          ]
        },
        {
          "metadata": {
            "tags": null
          },
          "name": "stdout",
          "output_type": "stream",
          "text": [
            "Valid Loss : 0.002499130586391851\n"
          ]
        },
        {
          "metadata": {
            "tags": null
          },
          "name": "stderr",
          "output_type": "stream",
          "text": [
            "100%|██████████| 289/289 [05:42<00:00,  1.19s/it, Epoch=125, LR=3.96e-6, Train_Loss=0.518, accuracy=0.896, f1=0.867]\n",
            "100%|██████████| 73/73 [00:34<00:00,  2.13it/s, Epoch=125, LR=3.96e-6, Valid_Loss=0.00241, accuracy=1, f1=1]\n"
          ]
        },
        {
          "metadata": {
            "tags": null
          },
          "name": "stdout",
          "output_type": "stream",
          "text": [
            "Valid Loss : 0.002413816105778495\n",
            "Validation Loss improved( 0.0024971757259551587 ---> 0.002413816105778495  )\n",
            "Model Saved\n"
          ]
        },
        {
          "metadata": {
            "tags": null
          },
          "name": "stderr",
          "output_type": "stream",
          "text": [
            "100%|██████████| 289/289 [05:43<00:00,  1.19s/it, Epoch=126, LR=1.5e-6, Train_Loss=0.529, accuracy=0.885, f1=0.855]\n",
            "100%|██████████| 73/73 [00:34<00:00,  2.12it/s, Epoch=126, LR=1.5e-6, Valid_Loss=0.00222, accuracy=1, f1=1]\n"
          ]
        },
        {
          "metadata": {
            "tags": null
          },
          "name": "stdout",
          "output_type": "stream",
          "text": [
            "Valid Loss : 0.0022235338389554556\n",
            "Validation Loss improved( 0.002413816105778495 ---> 0.0022235338389554556  )\n",
            "Model Saved\n"
          ]
        },
        {
          "metadata": {
            "tags": null
          },
          "name": "stderr",
          "output_type": "stream",
          "text": [
            "100%|██████████| 289/289 [05:43<00:00,  1.19s/it, Epoch=127, LR=4.86e-6, Train_Loss=0.528, accuracy=0.886, f1=0.857]\n",
            "100%|██████████| 73/73 [00:34<00:00,  2.12it/s, Epoch=127, LR=4.86e-6, Valid_Loss=0.00245, accuracy=1, f1=1]\n"
          ]
        },
        {
          "metadata": {
            "tags": null
          },
          "name": "stdout",
          "output_type": "stream",
          "text": [
            "Valid Loss : 0.0024450976650345407\n"
          ]
        },
        {
          "metadata": {
            "tags": null
          },
          "name": "stderr",
          "output_type": "stream",
          "text": [
            "100%|██████████| 289/289 [05:43<00:00,  1.19s/it, Epoch=128, LR=1e-6, Train_Loss=0.521, accuracy=0.878, f1=0.849]\n",
            "100%|██████████| 73/73 [00:34<00:00,  2.12it/s, Epoch=128, LR=1e-6, Valid_Loss=0.00263, accuracy=1, f1=1]\n"
          ]
        },
        {
          "metadata": {
            "tags": null
          },
          "name": "stdout",
          "output_type": "stream",
          "text": [
            "Valid Loss : 0.002627475869727053\n"
          ]
        },
        {
          "metadata": {
            "tags": null
          },
          "name": "stderr",
          "output_type": "stream",
          "text": [
            "100%|██████████| 289/289 [05:44<00:00,  1.19s/it, Epoch=129, LR=4.9e-6, Train_Loss=0.519, accuracy=0.885, f1=0.855]\n",
            "100%|██████████| 73/73 [00:34<00:00,  2.11it/s, Epoch=129, LR=4.9e-6, Valid_Loss=0.00238, accuracy=1, f1=1]\n"
          ]
        },
        {
          "metadata": {
            "tags": null
          },
          "name": "stdout",
          "output_type": "stream",
          "text": [
            "Valid Loss : 0.002375523287847587\n"
          ]
        },
        {
          "metadata": {
            "tags": null
          },
          "name": "stderr",
          "output_type": "stream",
          "text": [
            "100%|██████████| 289/289 [05:45<00:00,  1.19s/it, Epoch=130, LR=1.42e-6, Train_Loss=0.532, accuracy=0.886, f1=0.855]\n",
            "100%|██████████| 73/73 [00:34<00:00,  2.10it/s, Epoch=130, LR=1.42e-6, Valid_Loss=0.00244, accuracy=1, f1=1]\n"
          ]
        },
        {
          "metadata": {
            "tags": null
          },
          "name": "stdout",
          "output_type": "stream",
          "text": [
            "Valid Loss : 0.0024415954360610817\n"
          ]
        },
        {
          "metadata": {
            "tags": null
          },
          "name": "stderr",
          "output_type": "stream",
          "text": [
            "100%|██████████| 289/289 [05:45<00:00,  1.19s/it, Epoch=131, LR=4.07e-6, Train_Loss=0.52, accuracy=0.892, f1=0.866]\n",
            "100%|██████████| 73/73 [00:34<00:00,  2.11it/s, Epoch=131, LR=4.07e-6, Valid_Loss=0.0022, accuracy=1, f1=1]\n"
          ]
        },
        {
          "metadata": {
            "tags": null
          },
          "name": "stdout",
          "output_type": "stream",
          "text": [
            "Valid Loss : 0.0022046312973643205\n",
            "Validation Loss improved( 0.0022235338389554556 ---> 0.0022046312973643205  )\n",
            "Model Saved\n"
          ]
        },
        {
          "metadata": {
            "tags": null
          },
          "name": "stderr",
          "output_type": "stream",
          "text": [
            "100%|██████████| 289/289 [05:45<00:00,  1.20s/it, Epoch=132, LR=2.56e-6, Train_Loss=0.526, accuracy=0.887, f1=0.858]\n",
            "100%|██████████| 73/73 [00:34<00:00,  2.10it/s, Epoch=132, LR=2.56e-6, Valid_Loss=0.00221, accuracy=1, f1=1]\n"
          ]
        },
        {
          "metadata": {
            "tags": null
          },
          "name": "stdout",
          "output_type": "stream",
          "text": [
            "Valid Loss : 0.002207071659129674\n"
          ]
        },
        {
          "metadata": {
            "tags": null
          },
          "name": "stderr",
          "output_type": "stream",
          "text": [
            "100%|██████████| 289/289 [05:45<00:00,  1.20s/it, Epoch=133, LR=2.75e-6, Train_Loss=0.518, accuracy=0.896, f1=0.869]\n",
            "100%|██████████| 73/73 [00:34<00:00,  2.11it/s, Epoch=133, LR=2.75e-6, Valid_Loss=0.00208, accuracy=1, f1=1]\n"
          ]
        },
        {
          "metadata": {
            "tags": null
          },
          "name": "stdout",
          "output_type": "stream",
          "text": [
            "Valid Loss : 0.0020849061691304285\n",
            "Validation Loss improved( 0.0022046312973643205 ---> 0.0020849061691304285  )\n",
            "Model Saved\n"
          ]
        },
        {
          "metadata": {
            "tags": null
          },
          "name": "stderr",
          "output_type": "stream",
          "text": [
            "100%|██████████| 289/289 [05:45<00:00,  1.20s/it, Epoch=134, LR=3.91e-6, Train_Loss=0.538, accuracy=0.889, f1=0.861]\n",
            "100%|██████████| 73/73 [00:34<00:00,  2.11it/s, Epoch=134, LR=3.91e-6, Valid_Loss=0.00218, accuracy=1, f1=1]\n"
          ]
        },
        {
          "metadata": {
            "tags": null
          },
          "name": "stdout",
          "output_type": "stream",
          "text": [
            "Valid Loss : 0.002176841835759274\n"
          ]
        },
        {
          "metadata": {
            "tags": null
          },
          "name": "stderr",
          "output_type": "stream",
          "text": [
            "100%|██████████| 289/289 [05:45<00:00,  1.20s/it, Epoch=135, LR=1.54e-6, Train_Loss=0.52, accuracy=0.887, f1=0.859]\n",
            "100%|██████████| 73/73 [00:34<00:00,  2.11it/s, Epoch=135, LR=1.54e-6, Valid_Loss=0.00216, accuracy=1, f1=1]\n"
          ]
        },
        {
          "metadata": {
            "tags": null
          },
          "name": "stdout",
          "output_type": "stream",
          "text": [
            "Valid Loss : 0.002155180165722762\n"
          ]
        },
        {
          "metadata": {
            "tags": null
          },
          "name": "stderr",
          "output_type": "stream",
          "text": [
            "100%|██████████| 289/289 [05:45<00:00,  1.20s/it, Epoch=136, LR=4.84e-6, Train_Loss=0.528, accuracy=0.902, f1=0.877]\n",
            "100%|██████████| 73/73 [00:34<00:00,  2.10it/s, Epoch=136, LR=4.84e-6, Valid_Loss=0.00204, accuracy=1, f1=1]\n"
          ]
        },
        {
          "metadata": {
            "tags": null
          },
          "name": "stdout",
          "output_type": "stream",
          "text": [
            "Valid Loss : 0.0020444344064182514\n",
            "Validation Loss improved( 0.0020849061691304285 ---> 0.0020444344064182514  )\n",
            "Model Saved\n"
          ]
        },
        {
          "metadata": {
            "tags": null
          },
          "name": "stderr",
          "output_type": "stream",
          "text": [
            "100%|██████████| 289/289 [05:45<00:00,  1.20s/it, Epoch=137, LR=1e-6, Train_Loss=0.522, accuracy=0.901, f1=0.873]\n",
            "100%|██████████| 73/73 [00:34<00:00,  2.10it/s, Epoch=137, LR=1e-6, Valid_Loss=0.00211, accuracy=1, f1=1]\n"
          ]
        },
        {
          "metadata": {
            "tags": null
          },
          "name": "stdout",
          "output_type": "stream",
          "text": [
            "Valid Loss : 0.002110310881605933\n"
          ]
        },
        {
          "metadata": {
            "tags": null
          },
          "name": "stderr",
          "output_type": "stream",
          "text": [
            "100%|██████████| 289/289 [05:44<00:00,  1.19s/it, Epoch=138, LR=4.92e-6, Train_Loss=0.522, accuracy=0.894, f1=0.869]\n",
            "100%|██████████| 73/73 [00:34<00:00,  2.11it/s, Epoch=138, LR=4.92e-6, Valid_Loss=0.0021, accuracy=1, f1=1]\n"
          ]
        },
        {
          "metadata": {
            "tags": null
          },
          "name": "stdout",
          "output_type": "stream",
          "text": [
            "Valid Loss : 0.002098744325276005\n"
          ]
        },
        {
          "metadata": {
            "tags": null
          },
          "name": "stderr",
          "output_type": "stream",
          "text": [
            "100%|██████████| 289/289 [05:45<00:00,  1.20s/it, Epoch=139, LR=1.38e-6, Train_Loss=0.53, accuracy=0.896, f1=0.868]\n",
            "100%|██████████| 73/73 [00:34<00:00,  2.12it/s, Epoch=139, LR=1.38e-6, Valid_Loss=0.00226, accuracy=1, f1=1]\n"
          ]
        },
        {
          "metadata": {
            "tags": null
          },
          "name": "stdout",
          "output_type": "stream",
          "text": [
            "Valid Loss : 0.0022564059855378145\n"
          ]
        },
        {
          "metadata": {
            "tags": null
          },
          "name": "stderr",
          "output_type": "stream",
          "text": [
            "100%|██████████| 289/289 [05:45<00:00,  1.20s/it, Epoch=140, LR=4.12e-6, Train_Loss=0.515, accuracy=0.895, f1=0.865]\n",
            "100%|██████████| 73/73 [00:34<00:00,  2.12it/s, Epoch=140, LR=4.12e-6, Valid_Loss=0.00193, accuracy=1, f1=1]\n"
          ]
        },
        {
          "metadata": {
            "tags": null
          },
          "name": "stdout",
          "output_type": "stream",
          "text": [
            "Valid Loss : 0.001929395439817685\n",
            "Validation Loss improved( 0.0020444344064182514 ---> 0.001929395439817685  )\n",
            "Model Saved\n"
          ]
        },
        {
          "metadata": {
            "tags": null
          },
          "name": "stderr",
          "output_type": "stream",
          "text": [
            "100%|██████████| 289/289 [05:45<00:00,  1.20s/it, Epoch=141, LR=2.5e-6, Train_Loss=0.528, accuracy=0.89, f1=0.861]\n",
            "100%|██████████| 73/73 [00:34<00:00,  2.11it/s, Epoch=141, LR=2.5e-6, Valid_Loss=0.00199, accuracy=1, f1=1]\n"
          ]
        },
        {
          "metadata": {
            "tags": null
          },
          "name": "stdout",
          "output_type": "stream",
          "text": [
            "Valid Loss : 0.0019938618858497945\n"
          ]
        },
        {
          "metadata": {
            "tags": null
          },
          "name": "stderr",
          "output_type": "stream",
          "text": [
            "100%|██████████| 289/289 [05:45<00:00,  1.20s/it, Epoch=142, LR=2.81e-6, Train_Loss=0.516, accuracy=0.893, f1=0.87]\n",
            "100%|██████████| 73/73 [00:34<00:00,  2.10it/s, Epoch=142, LR=2.81e-6, Valid_Loss=0.00196, accuracy=1, f1=1]\n"
          ]
        },
        {
          "metadata": {
            "tags": null
          },
          "name": "stdout",
          "output_type": "stream",
          "text": [
            "Valid Loss : 0.0019606903086939495\n"
          ]
        },
        {
          "metadata": {
            "tags": null
          },
          "name": "stderr",
          "output_type": "stream",
          "text": [
            "100%|██████████| 289/289 [05:45<00:00,  1.20s/it, Epoch=143, LR=3.85e-6, Train_Loss=0.518, accuracy=0.9, f1=0.874]\n",
            "100%|██████████| 73/73 [00:34<00:00,  2.11it/s, Epoch=143, LR=3.85e-6, Valid_Loss=0.00204, accuracy=1, f1=1]\n"
          ]
        },
        {
          "metadata": {
            "tags": null
          },
          "name": "stdout",
          "output_type": "stream",
          "text": [
            "Valid Loss : 0.0020396497821409815\n"
          ]
        },
        {
          "metadata": {
            "tags": null
          },
          "name": "stderr",
          "output_type": "stream",
          "text": [
            "100%|██████████| 289/289 [05:45<00:00,  1.20s/it, Epoch=144, LR=1.59e-6, Train_Loss=0.522, accuracy=0.9, f1=0.873]\n",
            "100%|██████████| 73/73 [00:34<00:00,  2.10it/s, Epoch=144, LR=1.59e-6, Valid_Loss=0.00193, accuracy=1, f1=1]\n"
          ]
        },
        {
          "metadata": {
            "tags": null
          },
          "name": "stdout",
          "output_type": "stream",
          "text": [
            "Valid Loss : 0.0019289739382108801\n",
            "Validation Loss improved( 0.001929395439817685 ---> 0.0019289739382108801  )\n",
            "Model Saved\n"
          ]
        },
        {
          "metadata": {
            "tags": null
          },
          "name": "stderr",
          "output_type": "stream",
          "text": [
            "100%|██████████| 289/289 [05:45<00:00,  1.20s/it, Epoch=145, LR=4.81e-6, Train_Loss=0.521, accuracy=0.894, f1=0.869]\n",
            "100%|██████████| 73/73 [00:34<00:00,  2.11it/s, Epoch=145, LR=4.81e-6, Valid_Loss=0.00223, accuracy=1, f1=1]\n"
          ]
        },
        {
          "metadata": {
            "tags": null
          },
          "name": "stdout",
          "output_type": "stream",
          "text": [
            "Valid Loss : 0.0022312809174165945\n"
          ]
        },
        {
          "metadata": {
            "tags": null
          },
          "name": "stderr",
          "output_type": "stream",
          "text": [
            "100%|██████████| 289/289 [05:45<00:00,  1.20s/it, Epoch=146, LR=1.01e-6, Train_Loss=0.527, accuracy=0.893, f1=0.864]\n",
            "100%|██████████| 73/73 [00:34<00:00,  2.10it/s, Epoch=146, LR=1.01e-6, Valid_Loss=0.00197, accuracy=1, f1=1]\n"
          ]
        },
        {
          "metadata": {
            "tags": null
          },
          "name": "stdout",
          "output_type": "stream",
          "text": [
            "Valid Loss : 0.001968146557760208\n"
          ]
        },
        {
          "metadata": {
            "tags": null
          },
          "name": "stderr",
          "output_type": "stream",
          "text": [
            "100%|██████████| 289/289 [05:44<00:00,  1.19s/it, Epoch=147, LR=4.94e-6, Train_Loss=0.521, accuracy=0.888, f1=0.856]\n",
            "100%|██████████| 73/73 [00:34<00:00,  2.11it/s, Epoch=147, LR=4.94e-6, Valid_Loss=0.00197, accuracy=1, f1=1]\n"
          ]
        },
        {
          "metadata": {
            "tags": null
          },
          "name": "stdout",
          "output_type": "stream",
          "text": [
            "Valid Loss : 0.00197241396550727\n"
          ]
        },
        {
          "metadata": {
            "tags": null
          },
          "name": "stderr",
          "output_type": "stream",
          "text": [
            "100%|██████████| 289/289 [05:45<00:00,  1.20s/it, Epoch=148, LR=1.35e-6, Train_Loss=0.527, accuracy=0.878, f1=0.85]\n",
            "100%|██████████| 73/73 [00:34<00:00,  2.10it/s, Epoch=148, LR=1.35e-6, Valid_Loss=0.00193, accuracy=1, f1=1]\n"
          ]
        },
        {
          "metadata": {
            "tags": null
          },
          "name": "stdout",
          "output_type": "stream",
          "text": [
            "Valid Loss : 0.0019338887506993871\n"
          ]
        },
        {
          "metadata": {
            "tags": null
          },
          "name": "stderr",
          "output_type": "stream",
          "text": [
            "100%|██████████| 289/289 [05:45<00:00,  1.20s/it, Epoch=149, LR=4.18e-6, Train_Loss=0.519, accuracy=0.899, f1=0.871]\n",
            "100%|██████████| 73/73 [00:34<00:00,  2.11it/s, Epoch=149, LR=4.18e-6, Valid_Loss=0.00194, accuracy=1, f1=1]\n"
          ]
        },
        {
          "metadata": {
            "tags": null
          },
          "name": "stdout",
          "output_type": "stream",
          "text": [
            "Valid Loss : 0.0019447018985623774\n"
          ]
        },
        {
          "metadata": {
            "tags": null
          },
          "name": "stderr",
          "output_type": "stream",
          "text": [
            "100%|██████████| 289/289 [05:45<00:00,  1.20s/it, Epoch=150, LR=2.44e-6, Train_Loss=0.524, accuracy=0.889, f1=0.86]\n",
            "100%|██████████| 73/73 [00:34<00:00,  2.11it/s, Epoch=150, LR=2.44e-6, Valid_Loss=0.00177, accuracy=1, f1=1]\n"
          ]
        },
        {
          "metadata": {
            "tags": null
          },
          "name": "stdout",
          "output_type": "stream",
          "text": [
            "Valid Loss : 0.0017731310759849643\n",
            "Validation Loss improved( 0.0019289739382108801 ---> 0.0017731310759849643  )\n",
            "Model Saved\n"
          ]
        },
        {
          "metadata": {
            "tags": null
          },
          "name": "stderr",
          "output_type": "stream",
          "text": [
            "100%|██████████| 289/289 [05:45<00:00,  1.20s/it, Epoch=151, LR=2.87e-6, Train_Loss=0.526, accuracy=0.909, f1=0.889]\n",
            "100%|██████████| 73/73 [00:34<00:00,  2.10it/s, Epoch=151, LR=2.87e-6, Valid_Loss=0.00173, accuracy=1, f1=1]\n"
          ]
        },
        {
          "metadata": {
            "tags": null
          },
          "name": "stdout",
          "output_type": "stream",
          "text": [
            "Valid Loss : 0.001725670430260672\n",
            "Validation Loss improved( 0.0017731310759849643 ---> 0.001725670430260672  )\n",
            "Model Saved\n"
          ]
        },
        {
          "metadata": {
            "tags": null
          },
          "name": "stderr",
          "output_type": "stream",
          "text": [
            "100%|██████████| 289/289 [05:45<00:00,  1.20s/it, Epoch=152, LR=3.79e-6, Train_Loss=0.524, accuracy=0.893, f1=0.867]\n",
            "100%|██████████| 73/73 [00:34<00:00,  2.10it/s, Epoch=152, LR=3.79e-6, Valid_Loss=0.00173, accuracy=1, f1=1]\n"
          ]
        },
        {
          "metadata": {
            "tags": null
          },
          "name": "stdout",
          "output_type": "stream",
          "text": [
            "Valid Loss : 0.0017327336017967342\n"
          ]
        },
        {
          "metadata": {
            "tags": null
          },
          "name": "stderr",
          "output_type": "stream",
          "text": [
            "100%|██████████| 289/289 [05:46<00:00,  1.20s/it, Epoch=153, LR=1.63e-6, Train_Loss=0.515, accuracy=0.894, f1=0.869]\n",
            "100%|██████████| 73/73 [00:34<00:00,  2.10it/s, Epoch=153, LR=1.63e-6, Valid_Loss=0.00155, accuracy=1, f1=1]\n"
          ]
        },
        {
          "metadata": {
            "tags": null
          },
          "name": "stdout",
          "output_type": "stream",
          "text": [
            "Valid Loss : 0.001552853310697597\n",
            "Validation Loss improved( 0.001725670430260672 ---> 0.001552853310697597  )\n",
            "Model Saved\n"
          ]
        },
        {
          "metadata": {
            "tags": null
          },
          "name": "stderr",
          "output_type": "stream",
          "text": [
            "100%|██████████| 289/289 [05:45<00:00,  1.20s/it, Epoch=154, LR=4.78e-6, Train_Loss=0.517, accuracy=0.905, f1=0.88]\n",
            "100%|██████████| 73/73 [00:34<00:00,  2.11it/s, Epoch=154, LR=4.78e-6, Valid_Loss=0.00187, accuracy=1, f1=1]\n"
          ]
        },
        {
          "metadata": {
            "tags": null
          },
          "name": "stdout",
          "output_type": "stream",
          "text": [
            "Valid Loss : 0.0018671916587252731\n"
          ]
        },
        {
          "metadata": {
            "tags": null
          },
          "name": "stderr",
          "output_type": "stream",
          "text": [
            "100%|██████████| 289/289 [05:45<00:00,  1.20s/it, Epoch=155, LR=1.02e-6, Train_Loss=0.53, accuracy=0.89, f1=0.862]\n",
            "100%|██████████| 73/73 [00:34<00:00,  2.09it/s, Epoch=155, LR=1.02e-6, Valid_Loss=0.00186, accuracy=1, f1=1]\n"
          ]
        },
        {
          "metadata": {
            "tags": null
          },
          "name": "stdout",
          "output_type": "stream",
          "text": [
            "Valid Loss : 0.001860652880405063\n"
          ]
        },
        {
          "metadata": {
            "tags": null
          },
          "name": "stderr",
          "output_type": "stream",
          "text": [
            "100%|██████████| 289/289 [05:45<00:00,  1.19s/it, Epoch=156, LR=4.95e-6, Train_Loss=0.518, accuracy=0.89, f1=0.865]\n",
            "100%|██████████| 73/73 [00:34<00:00,  2.10it/s, Epoch=156, LR=4.95e-6, Valid_Loss=0.00176, accuracy=1, f1=1]\n"
          ]
        },
        {
          "metadata": {
            "tags": null
          },
          "name": "stdout",
          "output_type": "stream",
          "text": [
            "Valid Loss : 0.0017603388895784595\n"
          ]
        },
        {
          "metadata": {
            "tags": null
          },
          "name": "stderr",
          "output_type": "stream",
          "text": [
            "100%|██████████| 289/289 [05:45<00:00,  1.20s/it, Epoch=157, LR=1.31e-6, Train_Loss=0.514, accuracy=0.907, f1=0.885]\n",
            "100%|██████████| 73/73 [00:34<00:00,  2.11it/s, Epoch=157, LR=1.31e-6, Valid_Loss=0.0016, accuracy=1, f1=1]\n"
          ]
        },
        {
          "metadata": {
            "tags": null
          },
          "name": "stdout",
          "output_type": "stream",
          "text": [
            "Valid Loss : 0.0015971014014611097\n"
          ]
        },
        {
          "metadata": {
            "tags": null
          },
          "name": "stderr",
          "output_type": "stream",
          "text": [
            "100%|██████████| 289/289 [05:45<00:00,  1.20s/it, Epoch=158, LR=4.23e-6, Train_Loss=0.516, accuracy=0.899, f1=0.869]\n",
            "100%|██████████| 73/73 [00:34<00:00,  2.11it/s, Epoch=158, LR=4.23e-6, Valid_Loss=0.00148, accuracy=1, f1=1]\n"
          ]
        },
        {
          "metadata": {
            "tags": null
          },
          "name": "stdout",
          "output_type": "stream",
          "text": [
            "Valid Loss : 0.001478062567463757\n",
            "Validation Loss improved( 0.001552853310697597 ---> 0.001478062567463757  )\n",
            "Model Saved\n"
          ]
        },
        {
          "metadata": {
            "tags": null
          },
          "name": "stderr",
          "output_type": "stream",
          "text": [
            "100%|██████████| 289/289 [05:45<00:00,  1.20s/it, Epoch=159, LR=2.38e-6, Train_Loss=0.517, accuracy=0.897, f1=0.872]\n",
            "100%|██████████| 73/73 [00:34<00:00,  2.09it/s, Epoch=159, LR=2.38e-6, Valid_Loss=0.00165, accuracy=1, f1=1]\n"
          ]
        },
        {
          "metadata": {
            "tags": null
          },
          "name": "stdout",
          "output_type": "stream",
          "text": [
            "Valid Loss : 0.0016470223319180921\n"
          ]
        },
        {
          "metadata": {
            "tags": null
          },
          "name": "stderr",
          "output_type": "stream",
          "text": [
            "100%|██████████| 289/289 [05:46<00:00,  1.20s/it, Epoch=160, LR=2.94e-6, Train_Loss=0.525, accuracy=0.893, f1=0.867]\n",
            "100%|██████████| 73/73 [00:34<00:00,  2.10it/s, Epoch=160, LR=2.94e-6, Valid_Loss=0.00156, accuracy=1, f1=1]\n"
          ]
        },
        {
          "metadata": {
            "tags": null
          },
          "name": "stdout",
          "output_type": "stream",
          "text": [
            "Valid Loss : 0.001560445446744306\n"
          ]
        },
        {
          "metadata": {
            "tags": null
          },
          "name": "stderr",
          "output_type": "stream",
          "text": [
            "100%|██████████| 289/289 [05:46<00:00,  1.20s/it, Epoch=161, LR=3.74e-6, Train_Loss=0.524, accuracy=0.896, f1=0.87]\n",
            "100%|██████████| 73/73 [00:34<00:00,  2.10it/s, Epoch=161, LR=3.74e-6, Valid_Loss=0.00209, accuracy=1, f1=1]\n"
          ]
        },
        {
          "metadata": {
            "tags": null
          },
          "name": "stdout",
          "output_type": "stream",
          "text": [
            "Valid Loss : 0.00209309015070624\n"
          ]
        },
        {
          "metadata": {
            "tags": null
          },
          "name": "stderr",
          "output_type": "stream",
          "text": [
            "100%|██████████| 289/289 [05:45<00:00,  1.20s/it, Epoch=162, LR=1.68e-6, Train_Loss=0.524, accuracy=0.892, f1=0.865]\n",
            "100%|██████████| 73/73 [00:34<00:00,  2.11it/s, Epoch=162, LR=1.68e-6, Valid_Loss=0.00145, accuracy=1, f1=1]\n"
          ]
        },
        {
          "metadata": {
            "tags": null
          },
          "name": "stdout",
          "output_type": "stream",
          "text": [
            "Valid Loss : 0.0014479321324783185\n",
            "Validation Loss improved( 0.001478062567463757 ---> 0.0014479321324783185  )\n",
            "Model Saved\n"
          ]
        },
        {
          "metadata": {
            "tags": null
          },
          "name": "stderr",
          "output_type": "stream",
          "text": [
            "100%|██████████| 289/289 [05:45<00:00,  1.20s/it, Epoch=163, LR=4.75e-6, Train_Loss=0.523, accuracy=0.906, f1=0.882]\n",
            "100%|██████████| 73/73 [00:34<00:00,  2.10it/s, Epoch=163, LR=4.75e-6, Valid_Loss=0.0014, accuracy=1, f1=1]\n"
          ]
        },
        {
          "metadata": {
            "tags": null
          },
          "name": "stdout",
          "output_type": "stream",
          "text": [
            "Valid Loss : 0.0014042398774332992\n",
            "Validation Loss improved( 0.0014479321324783185 ---> 0.0014042398774332992  )\n",
            "Model Saved\n"
          ]
        },
        {
          "metadata": {
            "tags": null
          },
          "name": "stderr",
          "output_type": "stream",
          "text": [
            "100%|██████████| 289/289 [05:46<00:00,  1.20s/it, Epoch=164, LR=1.02e-6, Train_Loss=0.521, accuracy=0.893, f1=0.867]\n",
            "100%|██████████| 73/73 [00:34<00:00,  2.10it/s, Epoch=164, LR=1.02e-6, Valid_Loss=0.00147, accuracy=1, f1=1]\n"
          ]
        },
        {
          "metadata": {
            "tags": null
          },
          "name": "stdout",
          "output_type": "stream",
          "text": [
            "Valid Loss : 0.00146564214780595\n"
          ]
        },
        {
          "metadata": {
            "tags": null
          },
          "name": "stderr",
          "output_type": "stream",
          "text": [
            "100%|██████████| 289/289 [05:45<00:00,  1.20s/it, Epoch=165, LR=4.96e-6, Train_Loss=0.524, accuracy=0.892, f1=0.863]\n",
            "100%|██████████| 73/73 [00:34<00:00,  2.14it/s, Epoch=165, LR=4.96e-6, Valid_Loss=0.00151, accuracy=1, f1=1]\n"
          ]
        },
        {
          "metadata": {
            "tags": null
          },
          "name": "stdout",
          "output_type": "stream",
          "text": [
            "Valid Loss : 0.0015127379778128321\n"
          ]
        },
        {
          "metadata": {
            "tags": null
          },
          "name": "stderr",
          "output_type": "stream",
          "text": [
            "100%|██████████| 289/289 [05:46<00:00,  1.20s/it, Epoch=166, LR=1.28e-6, Train_Loss=0.526, accuracy=0.889, f1=0.865]\n",
            "100%|██████████| 73/73 [00:34<00:00,  2.11it/s, Epoch=166, LR=1.28e-6, Valid_Loss=0.00155, accuracy=1, f1=1]\n"
          ]
        },
        {
          "metadata": {
            "tags": null
          },
          "name": "stdout",
          "output_type": "stream",
          "text": [
            "Valid Loss : 0.0015500886800335336\n"
          ]
        },
        {
          "metadata": {
            "tags": null
          },
          "name": "stderr",
          "output_type": "stream",
          "text": [
            "100%|██████████| 289/289 [05:46<00:00,  1.20s/it, Epoch=167, LR=4.27e-6, Train_Loss=0.516, accuracy=0.905, f1=0.881]\n",
            "100%|██████████| 73/73 [00:34<00:00,  2.10it/s, Epoch=167, LR=4.27e-6, Valid_Loss=0.00146, accuracy=1, f1=1]\n"
          ]
        },
        {
          "metadata": {
            "tags": null
          },
          "name": "stdout",
          "output_type": "stream",
          "text": [
            "Valid Loss : 0.0014586816198983524\n"
          ]
        },
        {
          "metadata": {
            "tags": null
          },
          "name": "stderr",
          "output_type": "stream",
          "text": [
            "100%|██████████| 289/289 [05:45<00:00,  1.20s/it, Epoch=168, LR=2.32e-6, Train_Loss=0.513, accuracy=0.895, f1=0.87]\n",
            "100%|██████████| 73/73 [00:34<00:00,  2.11it/s, Epoch=168, LR=2.32e-6, Valid_Loss=0.00156, accuracy=1, f1=1]\n"
          ]
        },
        {
          "metadata": {
            "tags": null
          },
          "name": "stdout",
          "output_type": "stream",
          "text": [
            "Valid Loss : 0.0015561117958883461\n"
          ]
        },
        {
          "metadata": {
            "tags": null
          },
          "name": "stderr",
          "output_type": "stream",
          "text": [
            "100%|██████████| 289/289 [05:45<00:00,  1.20s/it, Epoch=169, LR=3e-6, Train_Loss=0.525, accuracy=0.895, f1=0.869]\n",
            "100%|██████████| 73/73 [00:34<00:00,  2.11it/s, Epoch=169, LR=3e-6, Valid_Loss=0.00126, accuracy=1, f1=1]\n"
          ]
        },
        {
          "metadata": {
            "tags": null
          },
          "name": "stdout",
          "output_type": "stream",
          "text": [
            "Valid Loss : 0.001264444391294191\n",
            "Validation Loss improved( 0.0014042398774332992 ---> 0.001264444391294191  )\n",
            "Model Saved\n"
          ]
        },
        {
          "metadata": {
            "tags": null
          },
          "name": "stderr",
          "output_type": "stream",
          "text": [
            "100%|██████████| 289/289 [05:45<00:00,  1.20s/it, Epoch=170, LR=3.68e-6, Train_Loss=0.504, accuracy=0.895, f1=0.872]\n",
            "100%|██████████| 73/73 [00:34<00:00,  2.11it/s, Epoch=170, LR=3.68e-6, Valid_Loss=0.00142, accuracy=1, f1=1]\n"
          ]
        },
        {
          "metadata": {
            "tags": null
          },
          "name": "stdout",
          "output_type": "stream",
          "text": [
            "Valid Loss : 0.001416349670313911\n"
          ]
        },
        {
          "metadata": {
            "tags": null
          },
          "name": "stderr",
          "output_type": "stream",
          "text": [
            "100%|██████████| 289/289 [05:45<00:00,  1.20s/it, Epoch=171, LR=1.73e-6, Train_Loss=0.512, accuracy=0.904, f1=0.884]\n",
            "100%|██████████| 73/73 [00:34<00:00,  2.10it/s, Epoch=171, LR=1.73e-6, Valid_Loss=0.00121, accuracy=1, f1=1]\n"
          ]
        },
        {
          "metadata": {
            "tags": null
          },
          "name": "stdout",
          "output_type": "stream",
          "text": [
            "Valid Loss : 0.0012131619015198253\n",
            "Validation Loss improved( 0.001264444391294191 ---> 0.0012131619015198253  )\n",
            "Model Saved\n"
          ]
        },
        {
          "metadata": {
            "tags": null
          },
          "name": "stderr",
          "output_type": "stream",
          "text": [
            "100%|██████████| 289/289 [05:46<00:00,  1.20s/it, Epoch=172, LR=4.72e-6, Train_Loss=0.517, accuracy=0.906, f1=0.886]\n",
            "100%|██████████| 73/73 [00:34<00:00,  2.12it/s, Epoch=172, LR=4.72e-6, Valid_Loss=0.00129, accuracy=1, f1=1]\n"
          ]
        },
        {
          "metadata": {
            "tags": null
          },
          "name": "stdout",
          "output_type": "stream",
          "text": [
            "Valid Loss : 0.0012901394419876017\n"
          ]
        },
        {
          "metadata": {
            "tags": null
          },
          "name": "stderr",
          "output_type": "stream",
          "text": [
            "100%|██████████| 289/289 [05:45<00:00,  1.20s/it, Epoch=173, LR=1.04e-6, Train_Loss=0.527, accuracy=0.894, f1=0.871]\n",
            "100%|██████████| 73/73 [00:34<00:00,  2.12it/s, Epoch=173, LR=1.04e-6, Valid_Loss=0.00114, accuracy=1, f1=1]\n"
          ]
        },
        {
          "metadata": {
            "tags": null
          },
          "name": "stdout",
          "output_type": "stream",
          "text": [
            "Valid Loss : 0.001142092021214074\n",
            "Validation Loss improved( 0.0012131619015198253 ---> 0.001142092021214074  )\n",
            "Model Saved\n"
          ]
        },
        {
          "metadata": {
            "tags": null
          },
          "name": "stderr",
          "output_type": "stream",
          "text": [
            "100%|██████████| 289/289 [05:44<00:00,  1.19s/it, Epoch=174, LR=4.98e-6, Train_Loss=0.523, accuracy=0.897, f1=0.874]\n",
            "100%|██████████| 73/73 [00:34<00:00,  2.13it/s, Epoch=174, LR=4.98e-6, Valid_Loss=0.0013, accuracy=1, f1=1]\n"
          ]
        },
        {
          "metadata": {
            "tags": null
          },
          "name": "stdout",
          "output_type": "stream",
          "text": [
            "Valid Loss : 0.001300247888836678\n"
          ]
        },
        {
          "metadata": {
            "tags": null
          },
          "name": "stderr",
          "output_type": "stream",
          "text": [
            "100%|██████████| 289/289 [05:44<00:00,  1.19s/it, Epoch=175, LR=1.25e-6, Train_Loss=0.523, accuracy=0.888, f1=0.861]\n",
            "100%|██████████| 73/73 [00:34<00:00,  2.12it/s, Epoch=175, LR=1.25e-6, Valid_Loss=0.00119, accuracy=1, f1=1]\n"
          ]
        },
        {
          "metadata": {
            "tags": null
          },
          "name": "stdout",
          "output_type": "stream",
          "text": [
            "Valid Loss : 0.0011904866096550878\n"
          ]
        },
        {
          "metadata": {
            "tags": null
          },
          "name": "stderr",
          "output_type": "stream",
          "text": [
            "100%|██████████| 289/289 [05:45<00:00,  1.19s/it, Epoch=176, LR=4.32e-6, Train_Loss=0.519, accuracy=0.896, f1=0.871]\n",
            "100%|██████████| 73/73 [00:34<00:00,  2.12it/s, Epoch=176, LR=4.32e-6, Valid_Loss=0.00112, accuracy=1, f1=1]\n"
          ]
        },
        {
          "metadata": {
            "tags": null
          },
          "name": "stdout",
          "output_type": "stream",
          "text": [
            "Valid Loss : 0.001121025892893133\n",
            "Validation Loss improved( 0.001142092021214074 ---> 0.001121025892893133  )\n",
            "Model Saved\n"
          ]
        },
        {
          "metadata": {
            "tags": null
          },
          "name": "stderr",
          "output_type": "stream",
          "text": [
            "100%|██████████| 289/289 [05:44<00:00,  1.19s/it, Epoch=177, LR=2.26e-6, Train_Loss=0.522, accuracy=0.884, f1=0.856]\n",
            "100%|██████████| 73/73 [00:34<00:00,  2.12it/s, Epoch=177, LR=2.26e-6, Valid_Loss=0.00132, accuracy=1, f1=1]\n"
          ]
        },
        {
          "metadata": {
            "tags": null
          },
          "name": "stdout",
          "output_type": "stream",
          "text": [
            "Valid Loss : 0.0013184635417555037\n"
          ]
        },
        {
          "metadata": {
            "tags": null
          },
          "name": "stderr",
          "output_type": "stream",
          "text": [
            "100%|██████████| 289/289 [05:45<00:00,  1.19s/it, Epoch=178, LR=3.06e-6, Train_Loss=0.519, accuracy=0.901, f1=0.88]\n",
            "100%|██████████| 73/73 [00:34<00:00,  2.12it/s, Epoch=178, LR=3.06e-6, Valid_Loss=0.0011, accuracy=1, f1=1]\n"
          ]
        },
        {
          "metadata": {
            "tags": null
          },
          "name": "stdout",
          "output_type": "stream",
          "text": [
            "Valid Loss : 0.0010951542804234547\n",
            "Validation Loss improved( 0.001121025892893133 ---> 0.0010951542804234547  )\n",
            "Model Saved\n"
          ]
        },
        {
          "metadata": {
            "tags": null
          },
          "name": "stderr",
          "output_type": "stream",
          "text": [
            "100%|██████████| 289/289 [05:45<00:00,  1.19s/it, Epoch=179, LR=3.62e-6, Train_Loss=0.517, accuracy=0.897, f1=0.874]\n",
            "100%|██████████| 73/73 [00:34<00:00,  2.12it/s, Epoch=179, LR=3.62e-6, Valid_Loss=0.00114, accuracy=1, f1=1]\n"
          ]
        },
        {
          "metadata": {
            "tags": null
          },
          "name": "stdout",
          "output_type": "stream",
          "text": [
            "Valid Loss : 0.0011381617024036966\n"
          ]
        },
        {
          "metadata": {
            "tags": null
          },
          "name": "stderr",
          "output_type": "stream",
          "text": [
            "100%|██████████| 289/289 [05:45<00:00,  1.19s/it, Epoch=180, LR=1.77e-6, Train_Loss=0.517, accuracy=0.909, f1=0.892]\n",
            "100%|██████████| 73/73 [00:34<00:00,  2.12it/s, Epoch=180, LR=1.77e-6, Valid_Loss=0.00105, accuracy=1, f1=1]\n"
          ]
        },
        {
          "metadata": {
            "tags": null
          },
          "name": "stdout",
          "output_type": "stream",
          "text": [
            "Valid Loss : 0.0010478207064084453\n",
            "Validation Loss improved( 0.0010951542804234547 ---> 0.0010478207064084453  )\n",
            "Model Saved\n"
          ]
        },
        {
          "output_type": "stream",
          "name": "stderr",
          "text": [
            "100%|██████████| 289/289 [05:46<00:00,  1.20s/it, Epoch=181, LR=4.69e-6, Train_Loss=0.515, accuracy=0.895, f1=0.874]\n",
            "100%|██████████| 73/73 [00:34<00:00,  2.10it/s, Epoch=181, LR=4.69e-6, Valid_Loss=0.00132, accuracy=1, f1=1]\n"
          ]
        },
        {
          "output_type": "stream",
          "name": "stdout",
          "text": [
            "Valid Loss : 0.0013151619956535223\n"
          ]
        },
        {
          "output_type": "stream",
          "name": "stderr",
          "text": [
            "100%|██████████| 289/289 [05:46<00:00,  1.20s/it, Epoch=182, LR=1.05e-6, Train_Loss=0.522, accuracy=0.897, f1=0.872]\n",
            "100%|██████████| 73/73 [00:34<00:00,  2.09it/s, Epoch=182, LR=1.05e-6, Valid_Loss=0.0012, accuracy=1, f1=1]\n"
          ]
        },
        {
          "output_type": "stream",
          "name": "stdout",
          "text": [
            "Valid Loss : 0.001197854059745162\n"
          ]
        },
        {
          "output_type": "stream",
          "name": "stderr",
          "text": [
            "100%|██████████| 289/289 [05:46<00:00,  1.20s/it, Epoch=183, LR=4.98e-6, Train_Loss=0.518, accuracy=0.909, f1=0.888]\n",
            "100%|██████████| 73/73 [00:34<00:00,  2.11it/s, Epoch=183, LR=4.98e-6, Valid_Loss=0.00109, accuracy=1, f1=1]\n"
          ]
        },
        {
          "output_type": "stream",
          "name": "stdout",
          "text": [
            "Valid Loss : 0.001090910267770571\n"
          ]
        },
        {
          "output_type": "stream",
          "name": "stderr",
          "text": [
            "100%|██████████| 289/289 [05:45<00:00,  1.20s/it, Epoch=184, LR=1.22e-6, Train_Loss=0.518, accuracy=0.9, f1=0.879]\n",
            "100%|██████████| 73/73 [00:34<00:00,  2.11it/s, Epoch=184, LR=1.22e-6, Valid_Loss=0.00118, accuracy=1, f1=1]\n"
          ]
        },
        {
          "output_type": "stream",
          "name": "stdout",
          "text": [
            "Valid Loss : 0.001183680667340985\n"
          ]
        },
        {
          "output_type": "stream",
          "name": "stderr",
          "text": [
            "100%|██████████| 289/289 [05:46<00:00,  1.20s/it, Epoch=185, LR=4.37e-6, Train_Loss=0.524, accuracy=0.904, f1=0.885]\n",
            "100%|██████████| 73/73 [00:34<00:00,  2.10it/s, Epoch=185, LR=4.37e-6, Valid_Loss=0.00102, accuracy=1, f1=1]\n"
          ]
        },
        {
          "output_type": "stream",
          "name": "stdout",
          "text": [
            "Valid Loss : 0.0010190863737976816\n",
            "Validation Loss improved( 0.0010478207064084453 ---> 0.0010190863737976816  )\n",
            "Model Saved\n"
          ]
        },
        {
          "output_type": "stream",
          "name": "stderr",
          "text": [
            "100%|██████████| 289/289 [05:45<00:00,  1.20s/it, Epoch=186, LR=2.21e-6, Train_Loss=0.522, accuracy=0.903, f1=0.882]\n",
            "100%|██████████| 73/73 [00:34<00:00,  2.10it/s, Epoch=186, LR=2.21e-6, Valid_Loss=0.0011, accuracy=1, f1=1]\n"
          ]
        },
        {
          "output_type": "stream",
          "name": "stdout",
          "text": [
            "Valid Loss : 0.001098386273952201\n"
          ]
        },
        {
          "output_type": "stream",
          "name": "stderr",
          "text": [
            "100%|██████████| 289/289 [05:46<00:00,  1.20s/it, Epoch=187, LR=3.13e-6, Train_Loss=0.517, accuracy=0.9, f1=0.882]\n",
            "100%|██████████| 73/73 [00:34<00:00,  2.09it/s, Epoch=187, LR=3.13e-6, Valid_Loss=0.00106, accuracy=1, f1=1]\n"
          ]
        },
        {
          "output_type": "stream",
          "name": "stdout",
          "text": [
            "Valid Loss : 0.0010570618164508717\n"
          ]
        },
        {
          "output_type": "stream",
          "name": "stderr",
          "text": [
            "100%|██████████| 289/289 [05:46<00:00,  1.20s/it, Epoch=188, LR=3.56e-6, Train_Loss=0.52, accuracy=0.9, f1=0.878]\n",
            "100%|██████████| 73/73 [00:34<00:00,  2.09it/s, Epoch=188, LR=3.56e-6, Valid_Loss=0.00105, accuracy=1, f1=1]\n"
          ]
        },
        {
          "output_type": "stream",
          "name": "stdout",
          "text": [
            "Valid Loss : 0.001052075740243372\n"
          ]
        },
        {
          "output_type": "stream",
          "name": "stderr",
          "text": [
            "100%|██████████| 289/289 [05:46<00:00,  1.20s/it, Epoch=189, LR=1.82e-6, Train_Loss=0.52, accuracy=0.913, f1=0.894]\n",
            "100%|██████████| 73/73 [00:34<00:00,  2.11it/s, Epoch=189, LR=1.82e-6, Valid_Loss=0.000993, accuracy=1, f1=1]\n"
          ]
        },
        {
          "output_type": "stream",
          "name": "stdout",
          "text": [
            "Valid Loss : 0.0009929127357294145\n",
            "Validation Loss improved( 0.0010190863737976816 ---> 0.0009929127357294145  )\n",
            "Model Saved\n"
          ]
        },
        {
          "output_type": "stream",
          "name": "stderr",
          "text": [
            "100%|██████████| 289/289 [05:45<00:00,  1.20s/it, Epoch=190, LR=4.65e-6, Train_Loss=0.51, accuracy=0.898, f1=0.879]\n",
            "100%|██████████| 73/73 [00:34<00:00,  2.11it/s, Epoch=190, LR=4.65e-6, Valid_Loss=0.00121, accuracy=1, f1=1]\n"
          ]
        },
        {
          "output_type": "stream",
          "name": "stdout",
          "text": [
            "Valid Loss : 0.0012128127891130184\n"
          ]
        },
        {
          "output_type": "stream",
          "name": "stderr",
          "text": [
            "100%|██████████| 289/289 [05:46<00:00,  1.20s/it, Epoch=191, LR=1.06e-6, Train_Loss=0.522, accuracy=0.896, f1=0.871]\n",
            "100%|██████████| 73/73 [00:34<00:00,  2.11it/s, Epoch=191, LR=1.06e-6, Valid_Loss=0.00103, accuracy=1, f1=1]\n"
          ]
        },
        {
          "output_type": "stream",
          "name": "stdout",
          "text": [
            "Valid Loss : 0.0010304730070582655\n"
          ]
        },
        {
          "output_type": "stream",
          "name": "stderr",
          "text": [
            "100%|██████████| 289/289 [05:45<00:00,  1.20s/it, Epoch=192, LR=4.99e-6, Train_Loss=0.515, accuracy=0.905, f1=0.883]\n",
            "100%|██████████| 73/73 [00:34<00:00,  2.10it/s, Epoch=192, LR=4.99e-6, Valid_Loss=0.00103, accuracy=1, f1=1]\n"
          ]
        },
        {
          "output_type": "stream",
          "name": "stdout",
          "text": [
            "Valid Loss : 0.001025164498284153\n"
          ]
        },
        {
          "output_type": "stream",
          "name": "stderr",
          "text": [
            "100%|██████████| 289/289 [05:46<00:00,  1.20s/it, Epoch=193, LR=1.19e-6, Train_Loss=0.514, accuracy=0.902, f1=0.881]\n",
            "100%|██████████| 73/73 [00:34<00:00,  2.11it/s, Epoch=193, LR=1.19e-6, Valid_Loss=0.000956, accuracy=1, f1=1]\n"
          ]
        },
        {
          "output_type": "stream",
          "name": "stdout",
          "text": [
            "Valid Loss : 0.0009561500544755477\n",
            "Validation Loss improved( 0.0009929127357294145 ---> 0.0009561500544755477  )\n",
            "Model Saved\n"
          ]
        },
        {
          "output_type": "stream",
          "name": "stderr",
          "text": [
            "100%|██████████| 289/289 [05:46<00:00,  1.20s/it, Epoch=194, LR=4.41e-6, Train_Loss=0.523, accuracy=0.903, f1=0.88]\n",
            "100%|██████████| 73/73 [00:34<00:00,  2.11it/s, Epoch=194, LR=4.41e-6, Valid_Loss=0.000998, accuracy=1, f1=1]\n"
          ]
        },
        {
          "output_type": "stream",
          "name": "stdout",
          "text": [
            "Valid Loss : 0.000998477928327677\n"
          ]
        },
        {
          "output_type": "stream",
          "name": "stderr",
          "text": [
            "100%|██████████| 289/289 [05:46<00:00,  1.20s/it, Epoch=195, LR=2.15e-6, Train_Loss=0.512, accuracy=0.901, f1=0.877]\n",
            "100%|██████████| 73/73 [00:34<00:00,  2.11it/s, Epoch=195, LR=2.15e-6, Valid_Loss=0.00109, accuracy=1, f1=1]\n"
          ]
        },
        {
          "output_type": "stream",
          "name": "stdout",
          "text": [
            "Valid Loss : 0.0010867062984002524\n"
          ]
        },
        {
          "output_type": "stream",
          "name": "stderr",
          "text": [
            "100%|██████████| 289/289 [05:46<00:00,  1.20s/it, Epoch=196, LR=3.19e-6, Train_Loss=0.525, accuracy=0.902, f1=0.881]\n",
            "100%|██████████| 73/73 [00:34<00:00,  2.10it/s, Epoch=196, LR=3.19e-6, Valid_Loss=0.00101, accuracy=1, f1=1]\n"
          ]
        },
        {
          "output_type": "stream",
          "name": "stdout",
          "text": [
            "Valid Loss : 0.0010116592126145755\n"
          ]
        },
        {
          "output_type": "stream",
          "name": "stderr",
          "text": [
            "100%|██████████| 289/289 [05:46<00:00,  1.20s/it, Epoch=197, LR=3.5e-6, Train_Loss=0.527, accuracy=0.899, f1=0.874]\n",
            "100%|██████████| 73/73 [00:34<00:00,  2.10it/s, Epoch=197, LR=3.5e-6, Valid_Loss=0.00115, accuracy=1, f1=1]\n"
          ]
        },
        {
          "output_type": "stream",
          "name": "stdout",
          "text": [
            "Valid Loss : 0.0011481286320765183\n"
          ]
        },
        {
          "output_type": "stream",
          "name": "stderr",
          "text": [
            "100%|██████████| 289/289 [05:46<00:00,  1.20s/it, Epoch=198, LR=1.88e-6, Train_Loss=0.515, accuracy=0.905, f1=0.885]\n",
            "100%|██████████| 73/73 [00:34<00:00,  2.11it/s, Epoch=198, LR=1.88e-6, Valid_Loss=0.00101, accuracy=1, f1=1]\n"
          ]
        },
        {
          "output_type": "stream",
          "name": "stdout",
          "text": [
            "Valid Loss : 0.0010086407634582728\n"
          ]
        },
        {
          "output_type": "stream",
          "name": "stderr",
          "text": [
            "100%|██████████| 289/289 [05:46<00:00,  1.20s/it, Epoch=199, LR=4.62e-6, Train_Loss=0.524, accuracy=0.897, f1=0.873]\n",
            "100%|██████████| 73/73 [00:34<00:00,  2.11it/s, Epoch=199, LR=4.62e-6, Valid_Loss=0.00104, accuracy=1, f1=1]\n"
          ]
        },
        {
          "output_type": "stream",
          "name": "stdout",
          "text": [
            "Valid Loss : 0.0010368704787066384\n"
          ]
        },
        {
          "output_type": "stream",
          "name": "stderr",
          "text": [
            "100%|██████████| 289/289 [05:46<00:00,  1.20s/it, Epoch=200, LR=1.08e-6, Train_Loss=0.508, accuracy=0.896, f1=0.876]\n",
            "100%|██████████| 73/73 [00:34<00:00,  2.10it/s, Epoch=200, LR=1.08e-6, Valid_Loss=0.000934, accuracy=1, f1=1]\n"
          ]
        },
        {
          "output_type": "stream",
          "name": "stdout",
          "text": [
            "Valid Loss : 0.0009340649340716383\n",
            "Validation Loss improved( 0.0009561500544755477 ---> 0.0009340649340716383  )\n",
            "Model Saved\n"
          ]
        },
        {
          "output_type": "stream",
          "name": "stderr",
          "text": [
            "100%|██████████| 289/289 [05:46<00:00,  1.20s/it, Epoch=201, LR=5e-6, Train_Loss=0.516, accuracy=0.905, f1=0.89]\n",
            "100%|██████████| 73/73 [00:34<00:00,  2.10it/s, Epoch=201, LR=5e-6, Valid_Loss=0.000999, accuracy=1, f1=1]\n"
          ]
        },
        {
          "output_type": "stream",
          "name": "stdout",
          "text": [
            "Valid Loss : 0.0009990072420842894\n"
          ]
        },
        {
          "output_type": "stream",
          "name": "stderr",
          "text": [
            " 18%|█▊        | 53/289 [01:05<04:50,  1.23s/it, Epoch=202, LR=2.94e-6, Train_Loss=0.524, accuracy=0.911, f1=0.888]\n"
          ]
        },
        {
          "output_type": "error",
          "ename": "KeyboardInterrupt",
          "evalue": "ignored",
          "traceback": [
            "\u001b[0;31m---------------------------------------------------------------------------\u001b[0m",
            "\u001b[0;31mKeyboardInterrupt\u001b[0m                         Traceback (most recent call last)",
            "\u001b[0;32m<ipython-input-40-ab920482ecf0>\u001b[0m in \u001b[0;36m<module>\u001b[0;34m()\u001b[0m\n\u001b[1;32m     12\u001b[0m     \u001b[0mearly_stopping\u001b[0m\u001b[0;34m=\u001b[0m\u001b[0mCONFIG\u001b[0m\u001b[0;34m[\u001b[0m\u001b[0;34m'early_stopping'\u001b[0m\u001b[0;34m]\u001b[0m\u001b[0;34m,\u001b[0m\u001b[0;34m\u001b[0m\u001b[0;34m\u001b[0m\u001b[0m\n\u001b[1;32m     13\u001b[0m     \u001b[0mearly_stopping_step\u001b[0m\u001b[0;34m=\u001b[0m\u001b[0mCONFIG\u001b[0m\u001b[0;34m[\u001b[0m\u001b[0;34m'early_stopping_step'\u001b[0m\u001b[0;34m]\u001b[0m\u001b[0;34m,\u001b[0m\u001b[0;34m\u001b[0m\u001b[0;34m\u001b[0m\u001b[0m\n\u001b[0;32m---> 14\u001b[0;31m     \u001b[0mSTART_EPOCH\u001b[0m\u001b[0;34m=\u001b[0m\u001b[0;36m20\u001b[0m\u001b[0;34m,\u001b[0m\u001b[0;34m\u001b[0m\u001b[0;34m\u001b[0m\u001b[0m\n\u001b[0m\u001b[1;32m     15\u001b[0m )\n",
            "\u001b[0;32m<ipython-input-38-a965277e3b75>\u001b[0m in \u001b[0;36mrun_training\u001b[0;34m(model, optimizer, scheduler, device, num_epochs, metric_prefix, file_prefix, early_stopping, early_stopping_step, START_EPOCH)\u001b[0m\n\u001b[1;32m     42\u001b[0m             \u001b[0mdataloader\u001b[0m\u001b[0;34m=\u001b[0m\u001b[0mtrainDataloader\u001b[0m\u001b[0;34m,\u001b[0m\u001b[0;34m\u001b[0m\u001b[0;34m\u001b[0m\u001b[0m\n\u001b[1;32m     43\u001b[0m             \u001b[0mdevice\u001b[0m\u001b[0;34m=\u001b[0m\u001b[0mdevice\u001b[0m\u001b[0;34m,\u001b[0m\u001b[0;34m\u001b[0m\u001b[0;34m\u001b[0m\u001b[0m\n\u001b[0;32m---> 44\u001b[0;31m             \u001b[0mepoch\u001b[0m\u001b[0;34m=\u001b[0m\u001b[0mepoch\u001b[0m\u001b[0;34m,\u001b[0m\u001b[0;34m\u001b[0m\u001b[0;34m\u001b[0m\u001b[0m\n\u001b[0m\u001b[1;32m     45\u001b[0m         )\n\u001b[1;32m     46\u001b[0m \u001b[0;34m\u001b[0m\u001b[0m\n",
            "\u001b[0;32m<ipython-input-29-ec0040f593cf>\u001b[0m in \u001b[0;36mtrain_one_epoch\u001b[0;34m(model, optimizer, scheduler, dataloader, device, epoch)\u001b[0m\n\u001b[1;32m     62\u001b[0m             \u001b[0mloss\u001b[0m \u001b[0;34m=\u001b[0m \u001b[0mcriterion\u001b[0m\u001b[0;34m(\u001b[0m\u001b[0mlogits\u001b[0m\u001b[0;34m,\u001b[0m \u001b[0mtarget\u001b[0m\u001b[0;34m)\u001b[0m \u001b[0;34m*\u001b[0m \u001b[0mlam\u001b[0m \u001b[0;34m+\u001b[0m                 \u001b[0mcriterion\u001b[0m\u001b[0;34m(\u001b[0m\u001b[0mlogits\u001b[0m\u001b[0;34m,\u001b[0m \u001b[0mtarget_b\u001b[0m\u001b[0;34m)\u001b[0m \u001b[0;34m*\u001b[0m \u001b[0;34m(\u001b[0m\u001b[0;36m1\u001b[0m\u001b[0;34m-\u001b[0m\u001b[0mlam\u001b[0m\u001b[0;34m)\u001b[0m\u001b[0;34m\u001b[0m\u001b[0;34m\u001b[0m\u001b[0m\n\u001b[1;32m     63\u001b[0m \u001b[0;34m\u001b[0m\u001b[0m\n\u001b[0;32m---> 64\u001b[0;31m             \u001b[0mloss\u001b[0m\u001b[0;34m.\u001b[0m\u001b[0mbackward\u001b[0m\u001b[0;34m(\u001b[0m\u001b[0;34m)\u001b[0m\u001b[0;34m\u001b[0m\u001b[0;34m\u001b[0m\u001b[0m\n\u001b[0m\u001b[1;32m     65\u001b[0m             \u001b[0mtorch\u001b[0m\u001b[0;34m.\u001b[0m\u001b[0mnn\u001b[0m\u001b[0;34m.\u001b[0m\u001b[0mutils\u001b[0m\u001b[0;34m.\u001b[0m\u001b[0mclip_grad_norm_\u001b[0m\u001b[0;34m(\u001b[0m\u001b[0mmodel\u001b[0m\u001b[0;34m.\u001b[0m\u001b[0mparameters\u001b[0m\u001b[0;34m(\u001b[0m\u001b[0;34m)\u001b[0m\u001b[0;34m,\u001b[0m \u001b[0;36m1\u001b[0m\u001b[0;34m)\u001b[0m\u001b[0;34m\u001b[0m\u001b[0;34m\u001b[0m\u001b[0m\n\u001b[1;32m     66\u001b[0m             \u001b[0moptimizer\u001b[0m\u001b[0;34m.\u001b[0m\u001b[0mstep\u001b[0m\u001b[0;34m(\u001b[0m\u001b[0;34m)\u001b[0m\u001b[0;34m\u001b[0m\u001b[0;34m\u001b[0m\u001b[0m\n",
            "\u001b[0;32m/usr/local/lib/python3.7/dist-packages/torch/_tensor.py\u001b[0m in \u001b[0;36mbackward\u001b[0;34m(self, gradient, retain_graph, create_graph, inputs)\u001b[0m\n\u001b[1;32m    305\u001b[0m                 \u001b[0mcreate_graph\u001b[0m\u001b[0;34m=\u001b[0m\u001b[0mcreate_graph\u001b[0m\u001b[0;34m,\u001b[0m\u001b[0;34m\u001b[0m\u001b[0;34m\u001b[0m\u001b[0m\n\u001b[1;32m    306\u001b[0m                 inputs=inputs)\n\u001b[0;32m--> 307\u001b[0;31m         \u001b[0mtorch\u001b[0m\u001b[0;34m.\u001b[0m\u001b[0mautograd\u001b[0m\u001b[0;34m.\u001b[0m\u001b[0mbackward\u001b[0m\u001b[0;34m(\u001b[0m\u001b[0mself\u001b[0m\u001b[0;34m,\u001b[0m \u001b[0mgradient\u001b[0m\u001b[0;34m,\u001b[0m \u001b[0mretain_graph\u001b[0m\u001b[0;34m,\u001b[0m \u001b[0mcreate_graph\u001b[0m\u001b[0;34m,\u001b[0m \u001b[0minputs\u001b[0m\u001b[0;34m=\u001b[0m\u001b[0minputs\u001b[0m\u001b[0;34m)\u001b[0m\u001b[0;34m\u001b[0m\u001b[0;34m\u001b[0m\u001b[0m\n\u001b[0m\u001b[1;32m    308\u001b[0m \u001b[0;34m\u001b[0m\u001b[0m\n\u001b[1;32m    309\u001b[0m     \u001b[0;32mdef\u001b[0m \u001b[0mregister_hook\u001b[0m\u001b[0;34m(\u001b[0m\u001b[0mself\u001b[0m\u001b[0;34m,\u001b[0m \u001b[0mhook\u001b[0m\u001b[0;34m)\u001b[0m\u001b[0;34m:\u001b[0m\u001b[0;34m\u001b[0m\u001b[0;34m\u001b[0m\u001b[0m\n",
            "\u001b[0;32m/usr/local/lib/python3.7/dist-packages/torch/autograd/__init__.py\u001b[0m in \u001b[0;36mbackward\u001b[0;34m(tensors, grad_tensors, retain_graph, create_graph, grad_variables, inputs)\u001b[0m\n\u001b[1;32m    154\u001b[0m     Variable._execution_engine.run_backward(\n\u001b[1;32m    155\u001b[0m         \u001b[0mtensors\u001b[0m\u001b[0;34m,\u001b[0m \u001b[0mgrad_tensors_\u001b[0m\u001b[0;34m,\u001b[0m \u001b[0mretain_graph\u001b[0m\u001b[0;34m,\u001b[0m \u001b[0mcreate_graph\u001b[0m\u001b[0;34m,\u001b[0m \u001b[0minputs\u001b[0m\u001b[0;34m,\u001b[0m\u001b[0;34m\u001b[0m\u001b[0;34m\u001b[0m\u001b[0m\n\u001b[0;32m--> 156\u001b[0;31m         allow_unreachable=True, accumulate_grad=True)  # allow_unreachable flag\n\u001b[0m\u001b[1;32m    157\u001b[0m \u001b[0;34m\u001b[0m\u001b[0m\n\u001b[1;32m    158\u001b[0m \u001b[0;34m\u001b[0m\u001b[0m\n",
            "\u001b[0;31mKeyboardInterrupt\u001b[0m: "
          ]
        }
      ],
      "source": [
        "ic.disable()\n",
        "run_training(\n",
        "    model=model,\n",
        "    optimizer=optimizer,\n",
        "    scheduler=torch.optim.lr_scheduler.CosineAnnealingLR(\n",
        "        optimizer=optimizer, T_max=CONFIG['T_max'], eta_min=CONFIG['min_lr']),\n",
        "    # scheduler=None,\n",
        "    device=device,\n",
        "    num_epochs=400,\n",
        "    metric_prefix=\"\",\n",
        "    file_prefix=\"\",\n",
        "    early_stopping=CONFIG['early_stopping'],\n",
        "    early_stopping_step=CONFIG['early_stopping_step'],\n",
        "    START_EPOCH=20,\n",
        ")\n"
      ]
    },
    {
      "cell_type": "code",
      "execution_count": 41,
      "metadata": {
        "id": "_lSY1fu15fPu",
        "colab": {
          "base_uri": "https://localhost:8080/",
          "height": 1000
        },
        "outputId": "74ee0698-ff42-407a-896d-1b8fb2a30903"
      },
      "outputs": [
        {
          "output_type": "stream",
          "name": "stdout",
          "text": [
            "Error in callback <bound method _WandbInit._resume_backend of <wandb.sdk.wandb_init._WandbInit object at 0x7fe84b30ead0>> (for pre_run_cell):\n"
          ]
        },
        {
          "output_type": "error",
          "ename": "Exception",
          "evalue": "ignored",
          "traceback": [
            "\u001b[0;31m---------------------------------------------------------------------------\u001b[0m",
            "\u001b[0;31mException\u001b[0m                                 Traceback (most recent call last)",
            "\u001b[0;32m/usr/local/lib/python3.7/dist-packages/wandb/sdk/wandb_init.py\u001b[0m in \u001b[0;36m_resume_backend\u001b[0;34m(self)\u001b[0m\n\u001b[1;32m    307\u001b[0m         \u001b[0;32mif\u001b[0m \u001b[0mself\u001b[0m\u001b[0;34m.\u001b[0m\u001b[0mbackend\u001b[0m \u001b[0;32mis\u001b[0m \u001b[0;32mnot\u001b[0m \u001b[0;32mNone\u001b[0m\u001b[0;34m:\u001b[0m\u001b[0;34m\u001b[0m\u001b[0;34m\u001b[0m\u001b[0m\n\u001b[1;32m    308\u001b[0m             \u001b[0mlogger\u001b[0m\u001b[0;34m.\u001b[0m\u001b[0minfo\u001b[0m\u001b[0;34m(\u001b[0m\u001b[0;34m\"resuming backend\"\u001b[0m\u001b[0;34m)\u001b[0m\u001b[0;34m\u001b[0m\u001b[0;34m\u001b[0m\u001b[0m\n\u001b[0;32m--> 309\u001b[0;31m             \u001b[0mself\u001b[0m\u001b[0;34m.\u001b[0m\u001b[0mbackend\u001b[0m\u001b[0;34m.\u001b[0m\u001b[0minterface\u001b[0m\u001b[0;34m.\u001b[0m\u001b[0mpublish_resume\u001b[0m\u001b[0;34m(\u001b[0m\u001b[0;34m)\u001b[0m\u001b[0;34m\u001b[0m\u001b[0;34m\u001b[0m\u001b[0m\n\u001b[0m\u001b[1;32m    310\u001b[0m \u001b[0;34m\u001b[0m\u001b[0m\n\u001b[1;32m    311\u001b[0m     \u001b[0;32mdef\u001b[0m \u001b[0m_jupyter_teardown\u001b[0m\u001b[0;34m(\u001b[0m\u001b[0mself\u001b[0m\u001b[0;34m)\u001b[0m\u001b[0;34m:\u001b[0m\u001b[0;34m\u001b[0m\u001b[0;34m\u001b[0m\u001b[0m\n",
            "\u001b[0;32m/usr/local/lib/python3.7/dist-packages/wandb/sdk/interface/interface.py\u001b[0m in \u001b[0;36mpublish_resume\u001b[0;34m(self)\u001b[0m\n\u001b[1;32m    548\u001b[0m     \u001b[0;32mdef\u001b[0m \u001b[0mpublish_resume\u001b[0m\u001b[0;34m(\u001b[0m\u001b[0mself\u001b[0m\u001b[0;34m)\u001b[0m \u001b[0;34m->\u001b[0m \u001b[0;32mNone\u001b[0m\u001b[0;34m:\u001b[0m\u001b[0;34m\u001b[0m\u001b[0;34m\u001b[0m\u001b[0m\n\u001b[1;32m    549\u001b[0m         \u001b[0mresume\u001b[0m \u001b[0;34m=\u001b[0m \u001b[0mpb\u001b[0m\u001b[0;34m.\u001b[0m\u001b[0mResumeRequest\u001b[0m\u001b[0;34m(\u001b[0m\u001b[0;34m)\u001b[0m\u001b[0;34m\u001b[0m\u001b[0;34m\u001b[0m\u001b[0m\n\u001b[0;32m--> 550\u001b[0;31m         \u001b[0mself\u001b[0m\u001b[0;34m.\u001b[0m\u001b[0m_publish_resume\u001b[0m\u001b[0;34m(\u001b[0m\u001b[0mresume\u001b[0m\u001b[0;34m)\u001b[0m\u001b[0;34m\u001b[0m\u001b[0;34m\u001b[0m\u001b[0m\n\u001b[0m\u001b[1;32m    551\u001b[0m \u001b[0;34m\u001b[0m\u001b[0m\n\u001b[1;32m    552\u001b[0m     \u001b[0;34m@\u001b[0m\u001b[0mabstractmethod\u001b[0m\u001b[0;34m\u001b[0m\u001b[0;34m\u001b[0m\u001b[0m\n",
            "\u001b[0;32m/usr/local/lib/python3.7/dist-packages/wandb/sdk/interface/interface_shared.py\u001b[0m in \u001b[0;36m_publish_resume\u001b[0;34m(self, resume)\u001b[0m\n\u001b[1;32m    268\u001b[0m     \u001b[0;32mdef\u001b[0m \u001b[0m_publish_resume\u001b[0m\u001b[0;34m(\u001b[0m\u001b[0mself\u001b[0m\u001b[0;34m,\u001b[0m \u001b[0mresume\u001b[0m\u001b[0;34m:\u001b[0m \u001b[0mpb\u001b[0m\u001b[0;34m.\u001b[0m\u001b[0mResumeRequest\u001b[0m\u001b[0;34m)\u001b[0m \u001b[0;34m->\u001b[0m \u001b[0;32mNone\u001b[0m\u001b[0;34m:\u001b[0m\u001b[0;34m\u001b[0m\u001b[0;34m\u001b[0m\u001b[0m\n\u001b[1;32m    269\u001b[0m         \u001b[0mrec\u001b[0m \u001b[0;34m=\u001b[0m \u001b[0mself\u001b[0m\u001b[0;34m.\u001b[0m\u001b[0m_make_request\u001b[0m\u001b[0;34m(\u001b[0m\u001b[0mresume\u001b[0m\u001b[0;34m=\u001b[0m\u001b[0mresume\u001b[0m\u001b[0;34m)\u001b[0m\u001b[0;34m\u001b[0m\u001b[0;34m\u001b[0m\u001b[0m\n\u001b[0;32m--> 270\u001b[0;31m         \u001b[0mself\u001b[0m\u001b[0;34m.\u001b[0m\u001b[0m_publish\u001b[0m\u001b[0;34m(\u001b[0m\u001b[0mrec\u001b[0m\u001b[0;34m)\u001b[0m\u001b[0;34m\u001b[0m\u001b[0;34m\u001b[0m\u001b[0m\n\u001b[0m\u001b[1;32m    271\u001b[0m \u001b[0;34m\u001b[0m\u001b[0m\n\u001b[1;32m    272\u001b[0m     \u001b[0;32mdef\u001b[0m \u001b[0m_publish_run\u001b[0m\u001b[0;34m(\u001b[0m\u001b[0mself\u001b[0m\u001b[0;34m,\u001b[0m \u001b[0mrun\u001b[0m\u001b[0;34m:\u001b[0m \u001b[0mpb\u001b[0m\u001b[0;34m.\u001b[0m\u001b[0mRunRecord\u001b[0m\u001b[0;34m)\u001b[0m \u001b[0;34m->\u001b[0m \u001b[0;32mNone\u001b[0m\u001b[0;34m:\u001b[0m\u001b[0;34m\u001b[0m\u001b[0;34m\u001b[0m\u001b[0m\n",
            "\u001b[0;32m/usr/local/lib/python3.7/dist-packages/wandb/sdk/interface/interface_queue.py\u001b[0m in \u001b[0;36m_publish\u001b[0;34m(self, record, local)\u001b[0m\n\u001b[1;32m     47\u001b[0m     \u001b[0;32mdef\u001b[0m \u001b[0m_publish\u001b[0m\u001b[0;34m(\u001b[0m\u001b[0mself\u001b[0m\u001b[0;34m,\u001b[0m \u001b[0mrecord\u001b[0m\u001b[0;34m:\u001b[0m \u001b[0;34m\"pb.Record\"\u001b[0m\u001b[0;34m,\u001b[0m \u001b[0mlocal\u001b[0m\u001b[0;34m:\u001b[0m \u001b[0mbool\u001b[0m \u001b[0;34m=\u001b[0m \u001b[0;32mNone\u001b[0m\u001b[0;34m)\u001b[0m \u001b[0;34m->\u001b[0m \u001b[0;32mNone\u001b[0m\u001b[0;34m:\u001b[0m\u001b[0;34m\u001b[0m\u001b[0;34m\u001b[0m\u001b[0m\n\u001b[1;32m     48\u001b[0m         \u001b[0;32mif\u001b[0m \u001b[0mself\u001b[0m\u001b[0;34m.\u001b[0m\u001b[0m_process_check\u001b[0m \u001b[0;32mand\u001b[0m \u001b[0mself\u001b[0m\u001b[0;34m.\u001b[0m\u001b[0m_process\u001b[0m \u001b[0;32mand\u001b[0m \u001b[0;32mnot\u001b[0m \u001b[0mself\u001b[0m\u001b[0;34m.\u001b[0m\u001b[0m_process\u001b[0m\u001b[0;34m.\u001b[0m\u001b[0mis_alive\u001b[0m\u001b[0;34m(\u001b[0m\u001b[0;34m)\u001b[0m\u001b[0;34m:\u001b[0m\u001b[0;34m\u001b[0m\u001b[0;34m\u001b[0m\u001b[0m\n\u001b[0;32m---> 49\u001b[0;31m             \u001b[0;32mraise\u001b[0m \u001b[0mException\u001b[0m\u001b[0;34m(\u001b[0m\u001b[0;34m\"The wandb backend process has shutdown\"\u001b[0m\u001b[0;34m)\u001b[0m\u001b[0;34m\u001b[0m\u001b[0;34m\u001b[0m\u001b[0m\n\u001b[0m\u001b[1;32m     50\u001b[0m         \u001b[0;32mif\u001b[0m \u001b[0mlocal\u001b[0m\u001b[0;34m:\u001b[0m\u001b[0;34m\u001b[0m\u001b[0;34m\u001b[0m\u001b[0m\n\u001b[1;32m     51\u001b[0m             \u001b[0mrecord\u001b[0m\u001b[0;34m.\u001b[0m\u001b[0mcontrol\u001b[0m\u001b[0;34m.\u001b[0m\u001b[0mlocal\u001b[0m \u001b[0;34m=\u001b[0m \u001b[0mlocal\u001b[0m\u001b[0;34m\u001b[0m\u001b[0;34m\u001b[0m\u001b[0m\n",
            "\u001b[0;31mException\u001b[0m: The wandb backend process has shutdown"
          ]
        },
        {
          "output_type": "error",
          "ename": "Exception",
          "evalue": "ignored",
          "traceback": [
            "\u001b[0;31m---------------------------------------------------------------------------\u001b[0m",
            "\u001b[0;31mException\u001b[0m                                 Traceback (most recent call last)",
            "\u001b[0;32m<ipython-input-41-a2bce46dc485>\u001b[0m in \u001b[0;36m<module>\u001b[0;34m()\u001b[0m\n\u001b[0;32m----> 1\u001b[0;31m \u001b[0mwandb\u001b[0m\u001b[0;34m.\u001b[0m\u001b[0mfinish\u001b[0m\u001b[0;34m(\u001b[0m\u001b[0;34m)\u001b[0m\u001b[0;34m\u001b[0m\u001b[0;34m\u001b[0m\u001b[0m\n\u001b[0m",
            "\u001b[0;32m/usr/local/lib/python3.7/dist-packages/wandb/sdk/wandb_run.py\u001b[0m in \u001b[0;36mfinish\u001b[0;34m(exit_code, quiet)\u001b[0m\n\u001b[1;32m   2865\u001b[0m     \"\"\"\n\u001b[1;32m   2866\u001b[0m     \u001b[0;32mif\u001b[0m \u001b[0mwandb\u001b[0m\u001b[0;34m.\u001b[0m\u001b[0mrun\u001b[0m\u001b[0;34m:\u001b[0m\u001b[0;34m\u001b[0m\u001b[0;34m\u001b[0m\u001b[0m\n\u001b[0;32m-> 2867\u001b[0;31m         \u001b[0mwandb\u001b[0m\u001b[0;34m.\u001b[0m\u001b[0mrun\u001b[0m\u001b[0;34m.\u001b[0m\u001b[0mfinish\u001b[0m\u001b[0;34m(\u001b[0m\u001b[0mexit_code\u001b[0m\u001b[0;34m=\u001b[0m\u001b[0mexit_code\u001b[0m\u001b[0;34m,\u001b[0m \u001b[0mquiet\u001b[0m\u001b[0;34m=\u001b[0m\u001b[0mquiet\u001b[0m\u001b[0;34m)\u001b[0m\u001b[0;34m\u001b[0m\u001b[0;34m\u001b[0m\u001b[0m\n\u001b[0m\u001b[1;32m   2868\u001b[0m \u001b[0;34m\u001b[0m\u001b[0m\n\u001b[1;32m   2869\u001b[0m \u001b[0;34m\u001b[0m\u001b[0m\n",
            "\u001b[0;32m/usr/local/lib/python3.7/dist-packages/wandb/sdk/wandb_run.py\u001b[0m in \u001b[0;36mfinish\u001b[0;34m(self, exit_code, quiet)\u001b[0m\n\u001b[1;32m   1470\u001b[0m         \u001b[0;32mfor\u001b[0m \u001b[0mhook\u001b[0m \u001b[0;32min\u001b[0m \u001b[0mself\u001b[0m\u001b[0;34m.\u001b[0m\u001b[0m_teardown_hooks\u001b[0m\u001b[0;34m:\u001b[0m\u001b[0;34m\u001b[0m\u001b[0;34m\u001b[0m\u001b[0m\n\u001b[1;32m   1471\u001b[0m             \u001b[0;32mif\u001b[0m \u001b[0mhook\u001b[0m\u001b[0;34m.\u001b[0m\u001b[0mstage\u001b[0m \u001b[0;34m==\u001b[0m \u001b[0mTeardownStage\u001b[0m\u001b[0;34m.\u001b[0m\u001b[0mEARLY\u001b[0m\u001b[0;34m:\u001b[0m\u001b[0;34m\u001b[0m\u001b[0;34m\u001b[0m\u001b[0m\n\u001b[0;32m-> 1472\u001b[0;31m                 \u001b[0mhook\u001b[0m\u001b[0;34m.\u001b[0m\u001b[0mcall\u001b[0m\u001b[0;34m(\u001b[0m\u001b[0;34m)\u001b[0m\u001b[0;34m\u001b[0m\u001b[0;34m\u001b[0m\u001b[0m\n\u001b[0m\u001b[1;32m   1473\u001b[0m \u001b[0;34m\u001b[0m\u001b[0m\n\u001b[1;32m   1474\u001b[0m         \u001b[0mself\u001b[0m\u001b[0;34m.\u001b[0m\u001b[0m_atexit_cleanup\u001b[0m\u001b[0;34m(\u001b[0m\u001b[0mexit_code\u001b[0m\u001b[0;34m=\u001b[0m\u001b[0mexit_code\u001b[0m\u001b[0;34m)\u001b[0m\u001b[0;34m\u001b[0m\u001b[0;34m\u001b[0m\u001b[0m\n",
            "\u001b[0;32m/usr/local/lib/python3.7/dist-packages/wandb/sdk/wandb_init.py\u001b[0m in \u001b[0;36m_jupyter_teardown\u001b[0;34m(self)\u001b[0m\n\u001b[1;32m    312\u001b[0m         \u001b[0;34m\"\"\"Teardown hooks and display saving, called with wandb.finish.\"\"\"\u001b[0m\u001b[0;34m\u001b[0m\u001b[0;34m\u001b[0m\u001b[0m\n\u001b[1;32m    313\u001b[0m         \u001b[0mipython\u001b[0m \u001b[0;34m=\u001b[0m \u001b[0mself\u001b[0m\u001b[0;34m.\u001b[0m\u001b[0mnotebook\u001b[0m\u001b[0;34m.\u001b[0m\u001b[0mshell\u001b[0m\u001b[0;34m\u001b[0m\u001b[0;34m\u001b[0m\u001b[0m\n\u001b[0;32m--> 314\u001b[0;31m         \u001b[0mself\u001b[0m\u001b[0;34m.\u001b[0m\u001b[0mnotebook\u001b[0m\u001b[0;34m.\u001b[0m\u001b[0msave_history\u001b[0m\u001b[0;34m(\u001b[0m\u001b[0;34m)\u001b[0m\u001b[0;34m\u001b[0m\u001b[0;34m\u001b[0m\u001b[0m\n\u001b[0m\u001b[1;32m    315\u001b[0m         \u001b[0;32mif\u001b[0m \u001b[0mself\u001b[0m\u001b[0;34m.\u001b[0m\u001b[0mnotebook\u001b[0m\u001b[0;34m.\u001b[0m\u001b[0msave_ipynb\u001b[0m\u001b[0;34m(\u001b[0m\u001b[0;34m)\u001b[0m\u001b[0;34m:\u001b[0m\u001b[0;34m\u001b[0m\u001b[0;34m\u001b[0m\u001b[0m\n\u001b[1;32m    316\u001b[0m             \u001b[0mres\u001b[0m \u001b[0;34m=\u001b[0m \u001b[0mself\u001b[0m\u001b[0;34m.\u001b[0m\u001b[0mrun\u001b[0m\u001b[0;34m.\u001b[0m\u001b[0mlog_code\u001b[0m\u001b[0;34m(\u001b[0m\u001b[0mroot\u001b[0m\u001b[0;34m=\u001b[0m\u001b[0;32mNone\u001b[0m\u001b[0;34m)\u001b[0m\u001b[0;34m\u001b[0m\u001b[0;34m\u001b[0m\u001b[0m\n",
            "\u001b[0;32m/usr/local/lib/python3.7/dist-packages/wandb/jupyter.py\u001b[0m in \u001b[0;36msave_history\u001b[0;34m(self)\u001b[0m\n\u001b[1;32m    469\u001b[0m             )\n\u001b[1;32m    470\u001b[0m             \u001b[0mstate_path\u001b[0m \u001b[0;34m=\u001b[0m \u001b[0mos\u001b[0m\u001b[0;34m.\u001b[0m\u001b[0mpath\u001b[0m\u001b[0;34m.\u001b[0m\u001b[0mjoin\u001b[0m\u001b[0;34m(\u001b[0m\u001b[0;34m\"code\"\u001b[0m\u001b[0;34m,\u001b[0m \u001b[0;34m\"_session_history.ipynb\"\u001b[0m\u001b[0;34m)\u001b[0m\u001b[0;34m\u001b[0m\u001b[0;34m\u001b[0m\u001b[0m\n\u001b[0;32m--> 471\u001b[0;31m             \u001b[0mwandb\u001b[0m\u001b[0;34m.\u001b[0m\u001b[0mrun\u001b[0m\u001b[0;34m.\u001b[0m\u001b[0m_set_config_wandb\u001b[0m\u001b[0;34m(\u001b[0m\u001b[0;34m\"session_history\"\u001b[0m\u001b[0;34m,\u001b[0m \u001b[0mstate_path\u001b[0m\u001b[0;34m)\u001b[0m\u001b[0;34m\u001b[0m\u001b[0;34m\u001b[0m\u001b[0m\n\u001b[0m\u001b[1;32m    472\u001b[0m             \u001b[0mwandb\u001b[0m\u001b[0;34m.\u001b[0m\u001b[0mutil\u001b[0m\u001b[0;34m.\u001b[0m\u001b[0mmkdir_exists_ok\u001b[0m\u001b[0;34m(\u001b[0m\u001b[0mos\u001b[0m\u001b[0;34m.\u001b[0m\u001b[0mpath\u001b[0m\u001b[0;34m.\u001b[0m\u001b[0mjoin\u001b[0m\u001b[0;34m(\u001b[0m\u001b[0mwandb\u001b[0m\u001b[0;34m.\u001b[0m\u001b[0mrun\u001b[0m\u001b[0;34m.\u001b[0m\u001b[0mdir\u001b[0m\u001b[0;34m,\u001b[0m \u001b[0;34m\"code\"\u001b[0m\u001b[0;34m)\u001b[0m\u001b[0;34m)\u001b[0m\u001b[0;34m\u001b[0m\u001b[0;34m\u001b[0m\u001b[0m\n\u001b[1;32m    473\u001b[0m             with open(\n",
            "\u001b[0;32m/usr/local/lib/python3.7/dist-packages/wandb/sdk/wandb_run.py\u001b[0m in \u001b[0;36m_set_config_wandb\u001b[0;34m(self, key, val)\u001b[0m\n\u001b[1;32m    970\u001b[0m \u001b[0;34m\u001b[0m\u001b[0m\n\u001b[1;32m    971\u001b[0m     \u001b[0;32mdef\u001b[0m \u001b[0m_set_config_wandb\u001b[0m\u001b[0;34m(\u001b[0m\u001b[0mself\u001b[0m\u001b[0;34m,\u001b[0m \u001b[0mkey\u001b[0m\u001b[0;34m:\u001b[0m \u001b[0mstr\u001b[0m\u001b[0;34m,\u001b[0m \u001b[0mval\u001b[0m\u001b[0;34m:\u001b[0m \u001b[0mAny\u001b[0m\u001b[0;34m)\u001b[0m \u001b[0;34m->\u001b[0m \u001b[0;32mNone\u001b[0m\u001b[0;34m:\u001b[0m\u001b[0;34m\u001b[0m\u001b[0;34m\u001b[0m\u001b[0m\n\u001b[0;32m--> 972\u001b[0;31m         \u001b[0mself\u001b[0m\u001b[0;34m.\u001b[0m\u001b[0m_config_callback\u001b[0m\u001b[0;34m(\u001b[0m\u001b[0mkey\u001b[0m\u001b[0;34m=\u001b[0m\u001b[0;34m(\u001b[0m\u001b[0;34m\"_wandb\"\u001b[0m\u001b[0;34m,\u001b[0m \u001b[0mkey\u001b[0m\u001b[0;34m)\u001b[0m\u001b[0;34m,\u001b[0m \u001b[0mval\u001b[0m\u001b[0;34m=\u001b[0m\u001b[0mval\u001b[0m\u001b[0;34m)\u001b[0m\u001b[0;34m\u001b[0m\u001b[0;34m\u001b[0m\u001b[0m\n\u001b[0m\u001b[1;32m    973\u001b[0m \u001b[0;34m\u001b[0m\u001b[0m\n\u001b[1;32m    974\u001b[0m     \u001b[0;32mdef\u001b[0m \u001b[0m_summary_update_callback\u001b[0m\u001b[0;34m(\u001b[0m\u001b[0mself\u001b[0m\u001b[0;34m,\u001b[0m \u001b[0msummary_record\u001b[0m\u001b[0;34m:\u001b[0m \u001b[0mSummaryRecord\u001b[0m\u001b[0;34m)\u001b[0m \u001b[0;34m->\u001b[0m \u001b[0;32mNone\u001b[0m\u001b[0;34m:\u001b[0m\u001b[0;34m\u001b[0m\u001b[0;34m\u001b[0m\u001b[0m\n",
            "\u001b[0;32m/usr/local/lib/python3.7/dist-packages/wandb/sdk/wandb_run.py\u001b[0m in \u001b[0;36m_config_callback\u001b[0;34m(self, key, val, data)\u001b[0m\n\u001b[1;32m    967\u001b[0m         \u001b[0;32mif\u001b[0m \u001b[0;32mnot\u001b[0m \u001b[0mself\u001b[0m\u001b[0;34m.\u001b[0m\u001b[0m_backend\u001b[0m \u001b[0;32mor\u001b[0m \u001b[0;32mnot\u001b[0m \u001b[0mself\u001b[0m\u001b[0;34m.\u001b[0m\u001b[0m_backend\u001b[0m\u001b[0;34m.\u001b[0m\u001b[0minterface\u001b[0m\u001b[0;34m:\u001b[0m\u001b[0;34m\u001b[0m\u001b[0;34m\u001b[0m\u001b[0m\n\u001b[1;32m    968\u001b[0m             \u001b[0;32mreturn\u001b[0m\u001b[0;34m\u001b[0m\u001b[0;34m\u001b[0m\u001b[0m\n\u001b[0;32m--> 969\u001b[0;31m         \u001b[0mself\u001b[0m\u001b[0;34m.\u001b[0m\u001b[0m_backend\u001b[0m\u001b[0;34m.\u001b[0m\u001b[0minterface\u001b[0m\u001b[0;34m.\u001b[0m\u001b[0mpublish_config\u001b[0m\u001b[0;34m(\u001b[0m\u001b[0mkey\u001b[0m\u001b[0;34m=\u001b[0m\u001b[0mkey\u001b[0m\u001b[0;34m,\u001b[0m \u001b[0mval\u001b[0m\u001b[0;34m=\u001b[0m\u001b[0mval\u001b[0m\u001b[0;34m,\u001b[0m \u001b[0mdata\u001b[0m\u001b[0;34m=\u001b[0m\u001b[0mdata\u001b[0m\u001b[0;34m)\u001b[0m\u001b[0;34m\u001b[0m\u001b[0;34m\u001b[0m\u001b[0m\n\u001b[0m\u001b[1;32m    970\u001b[0m \u001b[0;34m\u001b[0m\u001b[0m\n\u001b[1;32m    971\u001b[0m     \u001b[0;32mdef\u001b[0m \u001b[0m_set_config_wandb\u001b[0m\u001b[0;34m(\u001b[0m\u001b[0mself\u001b[0m\u001b[0;34m,\u001b[0m \u001b[0mkey\u001b[0m\u001b[0;34m:\u001b[0m \u001b[0mstr\u001b[0m\u001b[0;34m,\u001b[0m \u001b[0mval\u001b[0m\u001b[0;34m:\u001b[0m \u001b[0mAny\u001b[0m\u001b[0;34m)\u001b[0m \u001b[0;34m->\u001b[0m \u001b[0;32mNone\u001b[0m\u001b[0;34m:\u001b[0m\u001b[0;34m\u001b[0m\u001b[0;34m\u001b[0m\u001b[0m\n",
            "\u001b[0;32m/usr/local/lib/python3.7/dist-packages/wandb/sdk/interface/interface.py\u001b[0m in \u001b[0;36mpublish_config\u001b[0;34m(self, data, key, val)\u001b[0m\n\u001b[1;32m    183\u001b[0m         \u001b[0mcfg\u001b[0m \u001b[0;34m=\u001b[0m \u001b[0mself\u001b[0m\u001b[0;34m.\u001b[0m\u001b[0m_make_config\u001b[0m\u001b[0;34m(\u001b[0m\u001b[0mdata\u001b[0m\u001b[0;34m=\u001b[0m\u001b[0mdata\u001b[0m\u001b[0;34m,\u001b[0m \u001b[0mkey\u001b[0m\u001b[0;34m=\u001b[0m\u001b[0mkey\u001b[0m\u001b[0;34m,\u001b[0m \u001b[0mval\u001b[0m\u001b[0;34m=\u001b[0m\u001b[0mval\u001b[0m\u001b[0;34m)\u001b[0m\u001b[0;34m\u001b[0m\u001b[0;34m\u001b[0m\u001b[0m\n\u001b[1;32m    184\u001b[0m \u001b[0;34m\u001b[0m\u001b[0m\n\u001b[0;32m--> 185\u001b[0;31m         \u001b[0mself\u001b[0m\u001b[0;34m.\u001b[0m\u001b[0m_publish_config\u001b[0m\u001b[0;34m(\u001b[0m\u001b[0mcfg\u001b[0m\u001b[0;34m)\u001b[0m\u001b[0;34m\u001b[0m\u001b[0;34m\u001b[0m\u001b[0m\n\u001b[0m\u001b[1;32m    186\u001b[0m \u001b[0;34m\u001b[0m\u001b[0m\n\u001b[1;32m    187\u001b[0m     \u001b[0;34m@\u001b[0m\u001b[0mabstractmethod\u001b[0m\u001b[0;34m\u001b[0m\u001b[0;34m\u001b[0m\u001b[0m\n",
            "\u001b[0;32m/usr/local/lib/python3.7/dist-packages/wandb/sdk/interface/interface_shared.py\u001b[0m in \u001b[0;36m_publish_config\u001b[0;34m(self, cfg)\u001b[0m\n\u001b[1;32m    276\u001b[0m     \u001b[0;32mdef\u001b[0m \u001b[0m_publish_config\u001b[0m\u001b[0;34m(\u001b[0m\u001b[0mself\u001b[0m\u001b[0;34m,\u001b[0m \u001b[0mcfg\u001b[0m\u001b[0;34m:\u001b[0m \u001b[0mpb\u001b[0m\u001b[0;34m.\u001b[0m\u001b[0mConfigRecord\u001b[0m\u001b[0;34m)\u001b[0m \u001b[0;34m->\u001b[0m \u001b[0;32mNone\u001b[0m\u001b[0;34m:\u001b[0m\u001b[0;34m\u001b[0m\u001b[0;34m\u001b[0m\u001b[0m\n\u001b[1;32m    277\u001b[0m         \u001b[0mrec\u001b[0m \u001b[0;34m=\u001b[0m \u001b[0mself\u001b[0m\u001b[0;34m.\u001b[0m\u001b[0m_make_record\u001b[0m\u001b[0;34m(\u001b[0m\u001b[0mconfig\u001b[0m\u001b[0;34m=\u001b[0m\u001b[0mcfg\u001b[0m\u001b[0;34m)\u001b[0m\u001b[0;34m\u001b[0m\u001b[0;34m\u001b[0m\u001b[0m\n\u001b[0;32m--> 278\u001b[0;31m         \u001b[0mself\u001b[0m\u001b[0;34m.\u001b[0m\u001b[0m_publish\u001b[0m\u001b[0;34m(\u001b[0m\u001b[0mrec\u001b[0m\u001b[0;34m)\u001b[0m\u001b[0;34m\u001b[0m\u001b[0;34m\u001b[0m\u001b[0m\n\u001b[0m\u001b[1;32m    279\u001b[0m \u001b[0;34m\u001b[0m\u001b[0m\n\u001b[1;32m    280\u001b[0m     \u001b[0;32mdef\u001b[0m \u001b[0m_publish_summary\u001b[0m\u001b[0;34m(\u001b[0m\u001b[0mself\u001b[0m\u001b[0;34m,\u001b[0m \u001b[0msummary\u001b[0m\u001b[0;34m:\u001b[0m \u001b[0mpb\u001b[0m\u001b[0;34m.\u001b[0m\u001b[0mSummaryRecord\u001b[0m\u001b[0;34m)\u001b[0m \u001b[0;34m->\u001b[0m \u001b[0;32mNone\u001b[0m\u001b[0;34m:\u001b[0m\u001b[0;34m\u001b[0m\u001b[0;34m\u001b[0m\u001b[0m\n",
            "\u001b[0;32m/usr/local/lib/python3.7/dist-packages/wandb/sdk/interface/interface_queue.py\u001b[0m in \u001b[0;36m_publish\u001b[0;34m(self, record, local)\u001b[0m\n\u001b[1;32m     47\u001b[0m     \u001b[0;32mdef\u001b[0m \u001b[0m_publish\u001b[0m\u001b[0;34m(\u001b[0m\u001b[0mself\u001b[0m\u001b[0;34m,\u001b[0m \u001b[0mrecord\u001b[0m\u001b[0;34m:\u001b[0m \u001b[0;34m\"pb.Record\"\u001b[0m\u001b[0;34m,\u001b[0m \u001b[0mlocal\u001b[0m\u001b[0;34m:\u001b[0m \u001b[0mbool\u001b[0m \u001b[0;34m=\u001b[0m \u001b[0;32mNone\u001b[0m\u001b[0;34m)\u001b[0m \u001b[0;34m->\u001b[0m \u001b[0;32mNone\u001b[0m\u001b[0;34m:\u001b[0m\u001b[0;34m\u001b[0m\u001b[0;34m\u001b[0m\u001b[0m\n\u001b[1;32m     48\u001b[0m         \u001b[0;32mif\u001b[0m \u001b[0mself\u001b[0m\u001b[0;34m.\u001b[0m\u001b[0m_process_check\u001b[0m \u001b[0;32mand\u001b[0m \u001b[0mself\u001b[0m\u001b[0;34m.\u001b[0m\u001b[0m_process\u001b[0m \u001b[0;32mand\u001b[0m \u001b[0;32mnot\u001b[0m \u001b[0mself\u001b[0m\u001b[0;34m.\u001b[0m\u001b[0m_process\u001b[0m\u001b[0;34m.\u001b[0m\u001b[0mis_alive\u001b[0m\u001b[0;34m(\u001b[0m\u001b[0;34m)\u001b[0m\u001b[0;34m:\u001b[0m\u001b[0;34m\u001b[0m\u001b[0;34m\u001b[0m\u001b[0m\n\u001b[0;32m---> 49\u001b[0;31m             \u001b[0;32mraise\u001b[0m \u001b[0mException\u001b[0m\u001b[0;34m(\u001b[0m\u001b[0;34m\"The wandb backend process has shutdown\"\u001b[0m\u001b[0;34m)\u001b[0m\u001b[0;34m\u001b[0m\u001b[0;34m\u001b[0m\u001b[0m\n\u001b[0m\u001b[1;32m     50\u001b[0m         \u001b[0;32mif\u001b[0m \u001b[0mlocal\u001b[0m\u001b[0;34m:\u001b[0m\u001b[0;34m\u001b[0m\u001b[0;34m\u001b[0m\u001b[0m\n\u001b[1;32m     51\u001b[0m             \u001b[0mrecord\u001b[0m\u001b[0;34m.\u001b[0m\u001b[0mcontrol\u001b[0m\u001b[0;34m.\u001b[0m\u001b[0mlocal\u001b[0m \u001b[0;34m=\u001b[0m \u001b[0mlocal\u001b[0m\u001b[0;34m\u001b[0m\u001b[0;34m\u001b[0m\u001b[0m\n",
            "\u001b[0;31mException\u001b[0m: The wandb backend process has shutdown"
          ]
        },
        {
          "output_type": "stream",
          "name": "stdout",
          "text": [
            "Error in callback <bound method _WandbInit._pause_backend of <wandb.sdk.wandb_init._WandbInit object at 0x7fe84b30ead0>> (for post_run_cell):\n"
          ]
        },
        {
          "output_type": "error",
          "ename": "Exception",
          "evalue": "ignored",
          "traceback": [
            "\u001b[0;31m---------------------------------------------------------------------------\u001b[0m",
            "\u001b[0;31mException\u001b[0m                                 Traceback (most recent call last)",
            "\u001b[0;32m/usr/local/lib/python3.7/dist-packages/wandb/sdk/wandb_init.py\u001b[0m in \u001b[0;36m_pause_backend\u001b[0;34m(self)\u001b[0m\n\u001b[1;32m    300\u001b[0m             \u001b[0;31m# Attempt to save the code on every execution\u001b[0m\u001b[0;34m\u001b[0m\u001b[0;34m\u001b[0m\u001b[0;34m\u001b[0m\u001b[0m\n\u001b[1;32m    301\u001b[0m             \u001b[0;32mif\u001b[0m \u001b[0mself\u001b[0m\u001b[0;34m.\u001b[0m\u001b[0mnotebook\u001b[0m\u001b[0;34m.\u001b[0m\u001b[0msave_ipynb\u001b[0m\u001b[0;34m(\u001b[0m\u001b[0;34m)\u001b[0m\u001b[0;34m:\u001b[0m\u001b[0;34m\u001b[0m\u001b[0;34m\u001b[0m\u001b[0m\n\u001b[0;32m--> 302\u001b[0;31m                 \u001b[0mres\u001b[0m \u001b[0;34m=\u001b[0m \u001b[0mself\u001b[0m\u001b[0;34m.\u001b[0m\u001b[0mrun\u001b[0m\u001b[0;34m.\u001b[0m\u001b[0mlog_code\u001b[0m\u001b[0;34m(\u001b[0m\u001b[0mroot\u001b[0m\u001b[0;34m=\u001b[0m\u001b[0;32mNone\u001b[0m\u001b[0;34m)\u001b[0m\u001b[0;34m\u001b[0m\u001b[0;34m\u001b[0m\u001b[0m\n\u001b[0m\u001b[1;32m    303\u001b[0m                 \u001b[0mlogger\u001b[0m\u001b[0;34m.\u001b[0m\u001b[0minfo\u001b[0m\u001b[0;34m(\u001b[0m\u001b[0;34m\"saved code: %s\"\u001b[0m\u001b[0;34m,\u001b[0m \u001b[0mres\u001b[0m\u001b[0;34m)\u001b[0m\u001b[0;34m\u001b[0m\u001b[0;34m\u001b[0m\u001b[0m\n\u001b[1;32m    304\u001b[0m             \u001b[0mself\u001b[0m\u001b[0;34m.\u001b[0m\u001b[0mbackend\u001b[0m\u001b[0;34m.\u001b[0m\u001b[0minterface\u001b[0m\u001b[0;34m.\u001b[0m\u001b[0mpublish_pause\u001b[0m\u001b[0;34m(\u001b[0m\u001b[0;34m)\u001b[0m\u001b[0;34m\u001b[0m\u001b[0;34m\u001b[0m\u001b[0m\n",
            "\u001b[0;32m/usr/local/lib/python3.7/dist-packages/wandb/sdk/wandb_run.py\u001b[0m in \u001b[0;36mlog_code\u001b[0;34m(self, root, name, include_fn, exclude_fn)\u001b[0m\n\u001b[1;32m    806\u001b[0m         \u001b[0;32mif\u001b[0m \u001b[0;32mnot\u001b[0m \u001b[0mfiles_added\u001b[0m\u001b[0;34m:\u001b[0m\u001b[0;34m\u001b[0m\u001b[0;34m\u001b[0m\u001b[0m\n\u001b[1;32m    807\u001b[0m             \u001b[0;32mreturn\u001b[0m \u001b[0;32mNone\u001b[0m\u001b[0;34m\u001b[0m\u001b[0;34m\u001b[0m\u001b[0m\n\u001b[0;32m--> 808\u001b[0;31m         \u001b[0;32mreturn\u001b[0m \u001b[0mself\u001b[0m\u001b[0;34m.\u001b[0m\u001b[0mlog_artifact\u001b[0m\u001b[0;34m(\u001b[0m\u001b[0mart\u001b[0m\u001b[0;34m)\u001b[0m\u001b[0;34m\u001b[0m\u001b[0;34m\u001b[0m\u001b[0m\n\u001b[0m\u001b[1;32m    809\u001b[0m \u001b[0;34m\u001b[0m\u001b[0m\n\u001b[1;32m    810\u001b[0m     \u001b[0;32mdef\u001b[0m \u001b[0mget_url\u001b[0m\u001b[0;34m(\u001b[0m\u001b[0mself\u001b[0m\u001b[0;34m)\u001b[0m \u001b[0;34m->\u001b[0m \u001b[0mOptional\u001b[0m\u001b[0;34m[\u001b[0m\u001b[0mstr\u001b[0m\u001b[0;34m]\u001b[0m\u001b[0;34m:\u001b[0m\u001b[0;34m\u001b[0m\u001b[0;34m\u001b[0m\u001b[0m\n",
            "\u001b[0;32m/usr/local/lib/python3.7/dist-packages/wandb/sdk/wandb_run.py\u001b[0m in \u001b[0;36mlog_artifact\u001b[0;34m(self, artifact_or_path, name, type, aliases)\u001b[0m\n\u001b[1;32m   2502\u001b[0m         \"\"\"\n\u001b[1;32m   2503\u001b[0m         return self._log_artifact(\n\u001b[0;32m-> 2504\u001b[0;31m             \u001b[0martifact_or_path\u001b[0m\u001b[0;34m,\u001b[0m \u001b[0mname\u001b[0m\u001b[0;34m=\u001b[0m\u001b[0mname\u001b[0m\u001b[0;34m,\u001b[0m \u001b[0mtype\u001b[0m\u001b[0;34m=\u001b[0m\u001b[0mtype\u001b[0m\u001b[0;34m,\u001b[0m \u001b[0maliases\u001b[0m\u001b[0;34m=\u001b[0m\u001b[0maliases\u001b[0m\u001b[0;34m\u001b[0m\u001b[0;34m\u001b[0m\u001b[0m\n\u001b[0m\u001b[1;32m   2505\u001b[0m         )\n\u001b[1;32m   2506\u001b[0m \u001b[0;34m\u001b[0m\u001b[0m\n",
            "\u001b[0;32m/usr/local/lib/python3.7/dist-packages/wandb/sdk/wandb_run.py\u001b[0m in \u001b[0;36m_log_artifact\u001b[0;34m(self, artifact_or_path, name, type, aliases, distributed_id, finalize, is_user_created, use_after_commit)\u001b[0m\n\u001b[1;32m   2645\u001b[0m                     \u001b[0mfinalize\u001b[0m\u001b[0;34m=\u001b[0m\u001b[0mfinalize\u001b[0m\u001b[0;34m,\u001b[0m\u001b[0;34m\u001b[0m\u001b[0;34m\u001b[0m\u001b[0m\n\u001b[1;32m   2646\u001b[0m                     \u001b[0mis_user_created\u001b[0m\u001b[0;34m=\u001b[0m\u001b[0mis_user_created\u001b[0m\u001b[0;34m,\u001b[0m\u001b[0;34m\u001b[0m\u001b[0;34m\u001b[0m\u001b[0m\n\u001b[0;32m-> 2647\u001b[0;31m                     \u001b[0muse_after_commit\u001b[0m\u001b[0;34m=\u001b[0m\u001b[0muse_after_commit\u001b[0m\u001b[0;34m,\u001b[0m\u001b[0;34m\u001b[0m\u001b[0;34m\u001b[0m\u001b[0m\n\u001b[0m\u001b[1;32m   2648\u001b[0m                 )\n\u001b[1;32m   2649\u001b[0m                 \u001b[0martifact\u001b[0m\u001b[0;34m.\u001b[0m\u001b[0m_logged_artifact\u001b[0m \u001b[0;34m=\u001b[0m \u001b[0m_LazyArtifact\u001b[0m\u001b[0;34m(\u001b[0m\u001b[0mself\u001b[0m\u001b[0;34m.\u001b[0m\u001b[0m_public_api\u001b[0m\u001b[0;34m(\u001b[0m\u001b[0;34m)\u001b[0m\u001b[0;34m,\u001b[0m \u001b[0mfuture\u001b[0m\u001b[0;34m)\u001b[0m\u001b[0;34m\u001b[0m\u001b[0;34m\u001b[0m\u001b[0m\n",
            "\u001b[0;32m/usr/local/lib/python3.7/dist-packages/wandb/sdk/interface/interface.py\u001b[0m in \u001b[0;36mcommunicate_artifact\u001b[0;34m(self, run, artifact, aliases, is_user_created, use_after_commit, finalize)\u001b[0m\n\u001b[1;32m    423\u001b[0m         \u001b[0mlog_artifact\u001b[0m \u001b[0;34m=\u001b[0m \u001b[0mpb\u001b[0m\u001b[0;34m.\u001b[0m\u001b[0mLogArtifactRequest\u001b[0m\u001b[0;34m(\u001b[0m\u001b[0;34m)\u001b[0m\u001b[0;34m\u001b[0m\u001b[0;34m\u001b[0m\u001b[0m\n\u001b[1;32m    424\u001b[0m         \u001b[0mlog_artifact\u001b[0m\u001b[0;34m.\u001b[0m\u001b[0martifact\u001b[0m\u001b[0;34m.\u001b[0m\u001b[0mCopyFrom\u001b[0m\u001b[0;34m(\u001b[0m\u001b[0mproto_artifact\u001b[0m\u001b[0;34m)\u001b[0m\u001b[0;34m\u001b[0m\u001b[0;34m\u001b[0m\u001b[0m\n\u001b[0;32m--> 425\u001b[0;31m         \u001b[0mresp\u001b[0m \u001b[0;34m=\u001b[0m \u001b[0mself\u001b[0m\u001b[0;34m.\u001b[0m\u001b[0m_communicate_artifact\u001b[0m\u001b[0;34m(\u001b[0m\u001b[0mlog_artifact\u001b[0m\u001b[0;34m)\u001b[0m\u001b[0;34m\u001b[0m\u001b[0;34m\u001b[0m\u001b[0m\n\u001b[0m\u001b[1;32m    426\u001b[0m         \u001b[0;32mreturn\u001b[0m \u001b[0mresp\u001b[0m\u001b[0;34m\u001b[0m\u001b[0;34m\u001b[0m\u001b[0m\n\u001b[1;32m    427\u001b[0m \u001b[0;34m\u001b[0m\u001b[0m\n",
            "\u001b[0;32m/usr/local/lib/python3.7/dist-packages/wandb/sdk/interface/interface_shared.py\u001b[0m in \u001b[0;36m_communicate_artifact\u001b[0;34m(self, log_artifact)\u001b[0m\n\u001b[1;32m    328\u001b[0m     \u001b[0;32mdef\u001b[0m \u001b[0m_communicate_artifact\u001b[0m\u001b[0;34m(\u001b[0m\u001b[0mself\u001b[0m\u001b[0;34m,\u001b[0m \u001b[0mlog_artifact\u001b[0m\u001b[0;34m:\u001b[0m \u001b[0mpb\u001b[0m\u001b[0;34m.\u001b[0m\u001b[0mLogArtifactRequest\u001b[0m\u001b[0;34m)\u001b[0m \u001b[0;34m->\u001b[0m \u001b[0mAny\u001b[0m\u001b[0;34m:\u001b[0m\u001b[0;34m\u001b[0m\u001b[0;34m\u001b[0m\u001b[0m\n\u001b[1;32m    329\u001b[0m         \u001b[0mrec\u001b[0m \u001b[0;34m=\u001b[0m \u001b[0mself\u001b[0m\u001b[0;34m.\u001b[0m\u001b[0m_make_request\u001b[0m\u001b[0;34m(\u001b[0m\u001b[0mlog_artifact\u001b[0m\u001b[0;34m=\u001b[0m\u001b[0mlog_artifact\u001b[0m\u001b[0;34m)\u001b[0m\u001b[0;34m\u001b[0m\u001b[0;34m\u001b[0m\u001b[0m\n\u001b[0;32m--> 330\u001b[0;31m         \u001b[0;32mreturn\u001b[0m \u001b[0mself\u001b[0m\u001b[0;34m.\u001b[0m\u001b[0m_communicate_async\u001b[0m\u001b[0;34m(\u001b[0m\u001b[0mrec\u001b[0m\u001b[0;34m)\u001b[0m\u001b[0;34m\u001b[0m\u001b[0;34m\u001b[0m\u001b[0m\n\u001b[0m\u001b[1;32m    331\u001b[0m \u001b[0;34m\u001b[0m\u001b[0m\n\u001b[1;32m    332\u001b[0m     def _communicate_artifact_send(\n",
            "\u001b[0;32m/usr/local/lib/python3.7/dist-packages/wandb/sdk/interface/interface_shared.py\u001b[0m in \u001b[0;36m_communicate_async\u001b[0;34m(self, rec, local)\u001b[0m\n\u001b[1;32m    216\u001b[0m         \u001b[0;32massert\u001b[0m \u001b[0mself\u001b[0m\u001b[0;34m.\u001b[0m\u001b[0m_router\u001b[0m\u001b[0;34m\u001b[0m\u001b[0;34m\u001b[0m\u001b[0m\n\u001b[1;32m    217\u001b[0m         \u001b[0;32mif\u001b[0m \u001b[0mself\u001b[0m\u001b[0;34m.\u001b[0m\u001b[0m_process_check\u001b[0m \u001b[0;32mand\u001b[0m \u001b[0mself\u001b[0m\u001b[0;34m.\u001b[0m\u001b[0m_process\u001b[0m \u001b[0;32mand\u001b[0m \u001b[0;32mnot\u001b[0m \u001b[0mself\u001b[0m\u001b[0;34m.\u001b[0m\u001b[0m_process\u001b[0m\u001b[0;34m.\u001b[0m\u001b[0mis_alive\u001b[0m\u001b[0;34m(\u001b[0m\u001b[0;34m)\u001b[0m\u001b[0;34m:\u001b[0m\u001b[0;34m\u001b[0m\u001b[0;34m\u001b[0m\u001b[0m\n\u001b[0;32m--> 218\u001b[0;31m             \u001b[0;32mraise\u001b[0m \u001b[0mException\u001b[0m\u001b[0;34m(\u001b[0m\u001b[0;34m\"The wandb backend process has shutdown\"\u001b[0m\u001b[0;34m)\u001b[0m\u001b[0;34m\u001b[0m\u001b[0;34m\u001b[0m\u001b[0m\n\u001b[0m\u001b[1;32m    219\u001b[0m         \u001b[0mfuture\u001b[0m \u001b[0;34m=\u001b[0m \u001b[0mself\u001b[0m\u001b[0;34m.\u001b[0m\u001b[0m_router\u001b[0m\u001b[0;34m.\u001b[0m\u001b[0msend_and_receive\u001b[0m\u001b[0;34m(\u001b[0m\u001b[0mrec\u001b[0m\u001b[0;34m,\u001b[0m \u001b[0mlocal\u001b[0m\u001b[0;34m=\u001b[0m\u001b[0mlocal\u001b[0m\u001b[0;34m)\u001b[0m\u001b[0;34m\u001b[0m\u001b[0;34m\u001b[0m\u001b[0m\n\u001b[1;32m    220\u001b[0m         \u001b[0;32mreturn\u001b[0m \u001b[0mfuture\u001b[0m\u001b[0;34m\u001b[0m\u001b[0;34m\u001b[0m\u001b[0m\n",
            "\u001b[0;31mException\u001b[0m: The wandb backend process has shutdown"
          ]
        },
        {
          "output_type": "stream",
          "name": "stderr",
          "text": [
            "Exception in thread ChkStopThr:\n",
            "Traceback (most recent call last):\n",
            "  File \"/usr/lib/python3.7/threading.py\", line 926, in _bootstrap_inner\n",
            "    self.run()\n",
            "  File \"/usr/lib/python3.7/threading.py\", line 870, in run\n",
            "    self._target(*self._args, **self._kwargs)\n",
            "  File \"/usr/local/lib/python3.7/dist-packages/wandb/sdk/wandb_run.py\", line 166, in check_status\n",
            "    status_response = self._interface.communicate_stop_status()\n",
            "  File \"/usr/local/lib/python3.7/dist-packages/wandb/sdk/interface/interface.py\", line 114, in communicate_stop_status\n",
            "    resp = self._communicate_stop_status(status)\n",
            "  File \"/usr/local/lib/python3.7/dist-packages/wandb/sdk/interface/interface_shared.py\", line 378, in _communicate_stop_status\n",
            "    resp = self._communicate(req, local=True)\n",
            "  File \"/usr/local/lib/python3.7/dist-packages/wandb/sdk/interface/interface_shared.py\", line 213, in _communicate\n",
            "    return self._communicate_async(rec, local=local).get(timeout=timeout)\n",
            "  File \"/usr/local/lib/python3.7/dist-packages/wandb/sdk/interface/interface_shared.py\", line 218, in _communicate_async\n",
            "    raise Exception(\"The wandb backend process has shutdown\")\n",
            "Exception: The wandb backend process has shutdown\n",
            "\n"
          ]
        }
      ],
      "source": [
        "wandb.finish()"
      ]
    }
  ],
  "metadata": {
    "accelerator": "GPU",
    "colab": {
      "collapsed_sections": [],
      "name": "lg_train_deit_finecutmix.ipynb",
      "provenance": [],
      "toc_visible": true
    },
    "kernelspec": {
      "display_name": "Python 3",
      "language": "python",
      "name": "python3"
    },
    "language_info": {
      "codemirror_mode": {
        "name": "ipython",
        "version": 3
      },
      "file_extension": ".py",
      "mimetype": "text/x-python",
      "name": "python",
      "nbconvert_exporter": "python",
      "pygments_lexer": "ipython3",
      "version": "3.9.7"
    }
  },
  "nbformat": 4,
  "nbformat_minor": 0
}