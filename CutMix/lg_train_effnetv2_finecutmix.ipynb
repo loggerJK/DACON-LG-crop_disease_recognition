{
  "cells": [
    {
      "cell_type": "markdown",
      "metadata": {
        "id": "XQuUKAHnPGqb"
      },
      "source": [
        "# Library"
      ]
    },
    {
      "cell_type": "code",
      "execution_count": 1,
      "metadata": {
        "execution": {
          "iopub.execute_input": "2022-01-15T10:25:01.795688Z",
          "iopub.status.busy": "2022-01-15T10:25:01.794986Z",
          "iopub.status.idle": "2022-01-15T10:25:13.001673Z",
          "shell.execute_reply": "2022-01-15T10:25:13.000732Z",
          "shell.execute_reply.started": "2022-01-15T10:25:01.795591Z"
        },
        "id": "EP8Uk0lzPGqi",
        "trusted": true
      },
      "outputs": [],
      "source": [
        "! pip install wandb opencv-python-headless==4.1.2.30 albumentations torch-summary timm==0.5.4 einops joblib icecream  -qq -U"
      ]
    },
    {
      "cell_type": "code",
      "execution_count": 2,
      "metadata": {
        "execution": {
          "iopub.execute_input": "2022-01-15T10:25:13.004437Z",
          "iopub.status.busy": "2022-01-15T10:25:13.004166Z",
          "iopub.status.idle": "2022-01-15T10:25:17.843442Z",
          "shell.execute_reply": "2022-01-15T10:25:17.842685Z",
          "shell.execute_reply.started": "2022-01-15T10:25:13.004400Z"
        },
        "id": "V8YpfugSPGqk",
        "trusted": true
      },
      "outputs": [],
      "source": [
        "from sklearn.metrics import f1_score\n",
        "from glob import glob\n",
        "import pathlib\n",
        "from pathlib import Path\n",
        "from torchsummary import summary\n",
        "import torch\n",
        "import torch.nn as nn\n",
        "import torch.nn.functional as F\n",
        "from torch.utils.data import Dataset, DataLoader\n",
        "import pandas as pd\n",
        "from pprint import pprint\n",
        "import urllib.request\n",
        "import csv\n",
        "import numpy as np\n",
        "from einops import rearrange, reduce, repeat\n",
        "from torch.cuda import amp\n",
        "from tqdm import tqdm\n",
        "import wandb\n",
        "import time\n",
        "import copy\n",
        "from collections import defaultdict\n",
        "from sklearn.metrics import mean_squared_error\n",
        "import joblib\n",
        "import gc\n",
        "import os\n",
        "from icecream import ic\n",
        "from sklearn.model_selection import train_test_split\n",
        "import gc\n",
        "import cv2\n",
        "import copy\n",
        "import time\n",
        "import random\n",
        "from PIL import Image\n",
        "\n",
        "# For data manipulation\n",
        "import numpy as np\n",
        "import pandas as pd\n",
        "\n",
        "# Pytorch Imports\n",
        "import torch\n",
        "import torch.nn as nn\n",
        "import torch.optim as optim\n",
        "from torch.optim import lr_scheduler\n",
        "from torch.utils.data import Dataset, DataLoader\n",
        "from torch.cuda import amp\n",
        "\n",
        "# Utils\n",
        "import joblib\n",
        "from tqdm import tqdm\n",
        "from collections import defaultdict\n",
        "\n",
        "# Sklearn Imports\n",
        "from sklearn.metrics import mean_squared_error\n",
        "from sklearn.model_selection import StratifiedKFold, KFold\n",
        "\n",
        "import timm\n",
        "\n",
        "import json\n",
        "\n",
        "# Albumentations for augmentations\n",
        "import albumentations as A\n",
        "from albumentations.pytorch import ToTensorV2\n",
        "\n",
        "# For colored terminal text\n",
        "from colorama import Fore, Back, Style\n",
        "c_ = Fore.CYAN\n",
        "sr_ = Style.RESET_ALL\n",
        "\n",
        "import warnings\n",
        "warnings.filterwarnings(\"ignore\")\n",
        "\n",
        "# For descriptive error messages\n",
        "os.environ['CUDA_LAUNCH_BLOCKING'] = \"1\"\n",
        "\n",
        "\n",
        "from sklearn.metrics import f1_score"
      ]
    },
    {
      "cell_type": "markdown",
      "metadata": {
        "id": "EVCBodi-PGql"
      },
      "source": [
        "# ENV"
      ]
    },
    {
      "cell_type": "code",
      "execution_count": 3,
      "metadata": {
        "execution": {
          "iopub.execute_input": "2022-01-15T10:25:17.845495Z",
          "iopub.status.busy": "2022-01-15T10:25:17.845230Z",
          "iopub.status.idle": "2022-01-15T10:25:17.893347Z",
          "shell.execute_reply": "2022-01-15T10:25:17.892018Z",
          "shell.execute_reply.started": "2022-01-15T10:25:17.845458Z"
        },
        "id": "fbOZOG8UPGqm",
        "trusted": true
      },
      "outputs": [],
      "source": [
        "\n",
        "ENV = 'COLAB'\n",
        "# ENV = 'KAGGLE'\n",
        "# ENV = 'SYSTEM'\n",
        "\n",
        "# Option for Mixed Precision\n",
        "# FP16 = True\n",
        "FP16 = False\n",
        "\n",
        "\n",
        "CONFIG = dict(\n",
        "    seed=42,\n",
        "    nickname='tf_efficientnetv2_m finecutmix',\n",
        "    backbone='tf_efficientnetv2_m',\n",
        "    embedder=None,\n",
        "    train_batch_size=8,\n",
        "    valid_batch_size=16,\n",
        "    img_size=384,\n",
        "    num_epochs=50,\n",
        "    early_stopping=False,\n",
        "    early_stopping_step=5,\n",
        "    learning_rate=1e-4,\n",
        "    scheduler='CosineAnnealingLR',\n",
        "    min_lr=1e-6,\n",
        "    T_max=100,\n",
        "    num_classes=25,\n",
        "    weight_decay=1e-6,\n",
        "    device=torch.device(\"cuda:0\" if torch.cuda.is_available() else \"cpu\"),\n",
        "    competition='lg',\n",
        "    _wandb_kernel='deb'\n",
        ")\n",
        "\n",
        "\n",
        "device = torch.device(\"cuda\" if torch.cuda.is_available() else \"cpu\")\n"
      ]
    },
    {
      "cell_type": "markdown",
      "metadata": {
        "id": "M6BJH0gaPGqn"
      },
      "source": [
        "# SET SEED "
      ]
    },
    {
      "cell_type": "code",
      "execution_count": 4,
      "metadata": {
        "execution": {
          "iopub.execute_input": "2022-01-15T10:25:17.896790Z",
          "iopub.status.busy": "2022-01-15T10:25:17.896189Z",
          "iopub.status.idle": "2022-01-15T10:25:17.909599Z",
          "shell.execute_reply": "2022-01-15T10:25:17.908786Z",
          "shell.execute_reply.started": "2022-01-15T10:25:17.896748Z"
        },
        "id": "Vj7acIAIPGqn",
        "trusted": true
      },
      "outputs": [],
      "source": [
        "def set_seed(seed=42):\n",
        "    '''Sets the seed of the entire notebook so results are the same every time we run.\n",
        "    This is for REPRODUCIBILITY.'''\n",
        "    np.random.seed(seed)\n",
        "    random.seed(seed)\n",
        "    torch.manual_seed(seed)\n",
        "    torch.cuda.manual_seed(seed)\n",
        "    # When running on the CuDNN backend, two further options must be set\n",
        "    torch.backends.cudnn.deterministic = True\n",
        "    torch.backends.cudnn.benchmark = False\n",
        "    # Set a fixed value for the hash seed\n",
        "    os.environ['PYTHONHASHSEED'] = str(seed)\n",
        "\n",
        "\n",
        "set_seed(CONFIG['seed'])\n"
      ]
    },
    {
      "cell_type": "markdown",
      "metadata": {
        "id": "0KA00McmPGqo"
      },
      "source": [
        "# Read the Data\n"
      ]
    },
    {
      "cell_type": "code",
      "execution_count": 5,
      "metadata": {
        "colab": {
          "base_uri": "https://localhost:8080/",
          "height": 72
        },
        "execution": {
          "iopub.execute_input": "2022-01-15T10:25:17.911360Z",
          "iopub.status.busy": "2022-01-15T10:25:17.910859Z",
          "iopub.status.idle": "2022-01-15T10:28:30.802857Z",
          "shell.execute_reply": "2022-01-15T10:28:30.801968Z",
          "shell.execute_reply.started": "2022-01-15T10:25:17.911319Z"
        },
        "id": "jKC4FDfyPGqp",
        "outputId": "cb69ecc1-30a0-4c97-e452-2ae015e871fc",
        "trusted": true
      },
      "outputs": [
        {
          "output_type": "stream",
          "name": "stderr",
          "text": [
            "\u001b[34m\u001b[1mwandb\u001b[0m: Currently logged in as: \u001b[33mjiwon7258\u001b[0m (use `wandb login --relogin` to force relogin)\n"
          ]
        },
        {
          "output_type": "display_data",
          "data": {
            "text/html": [
              "\n",
              "                    Syncing run <strong><a href=\"https://wandb.ai/jiwon7258/lg/runs/lwda8bn3\" target=\"_blank\">thriving-firecracker-115</a></strong> to <a href=\"https://wandb.ai/jiwon7258/lg\" target=\"_blank\">Weights & Biases</a> (<a href=\"https://docs.wandb.com/integrations/jupyter.html\" target=\"_blank\">docs</a>).<br/>\n",
              "\n",
              "                "
            ],
            "text/plain": [
              "<IPython.core.display.HTML object>"
            ]
          },
          "metadata": {}
        },
        {
          "output_type": "stream",
          "name": "stderr",
          "text": [
            "\u001b[34m\u001b[1mwandb\u001b[0m: Downloading large artifact lg_train:v0, 918.24MB. 17301 files... Done. 0:0:0\n"
          ]
        }
      ],
      "source": [
        "import wandb\n",
        "run = wandb.init(project=\"lg\",\n",
        "                 entity=\"jiwon7258\",\n",
        "                 config=CONFIG,\n",
        "                 job_type='train',\n",
        "                 id='lwda8bn3',\n",
        "                 resume='must',\n",
        "                 )\n",
        "dataset = wandb.run.use_artifact(\n",
        "    'jiwon7258/lg/lg_train:v0', type='dataset')\n",
        "\n",
        "run.name = CONFIG['nickname']\n",
        "\n",
        "# Download the artifact's contents\n",
        "dataset_dir = dataset.download()\n",
        "dataset_dir = Path(dataset_dir)\n"
      ]
    },
    {
      "cell_type": "code",
      "execution_count": 6,
      "metadata": {
        "execution": {
          "iopub.execute_input": "2022-01-15T10:28:30.804754Z",
          "iopub.status.busy": "2022-01-15T10:28:30.804383Z",
          "iopub.status.idle": "2022-01-15T10:28:30.809944Z",
          "shell.execute_reply": "2022-01-15T10:28:30.809259Z",
          "shell.execute_reply.started": "2022-01-15T10:28:30.804698Z"
        },
        "id": "ca-5DetEPGqq",
        "trusted": true
      },
      "outputs": [],
      "source": [
        "TRAIN_PATH = dataset_dir\n",
        "# TEST_PATH = dataset_dir / 'test'"
      ]
    },
    {
      "cell_type": "markdown",
      "metadata": {
        "id": "n-8x5P--PGqr"
      },
      "source": [
        "# Augmentations"
      ]
    },
    {
      "cell_type": "code",
      "execution_count": 7,
      "metadata": {
        "execution": {
          "iopub.execute_input": "2022-01-15T10:28:30.813928Z",
          "iopub.status.busy": "2022-01-15T10:28:30.811190Z",
          "iopub.status.idle": "2022-01-15T10:28:30.822155Z",
          "shell.execute_reply": "2022-01-15T10:28:30.821435Z",
          "shell.execute_reply.started": "2022-01-15T10:28:30.813872Z"
        },
        "id": "Qetw9jGjPGqr",
        "trusted": true
      },
      "outputs": [],
      "source": [
        "data_transforms = {\n",
        "    \"train\": A.Compose([\n",
        "        A.Resize(CONFIG['img_size'], CONFIG['img_size']),\n",
        "        A.ShiftScaleRotate(shift_limit=0.1, scale_limit=0.1,\n",
        "                           rotate_limit=90, p=0.5),\n",
        "        A.RGBShift(r_shift_limit=15, g_shift_limit=15,\n",
        "                   b_shift_limit=15, p=0.5),\n",
        "        A.RandomBrightnessContrast(p=0.5),\n",
        "        A.HorizontalFlip(p=0.5),\n",
        "        A.VerticalFlip(p=0.5),\n",
        "        A.Normalize(),\n",
        "        ToTensorV2()], p=1.),\n",
        "\n",
        "    \"valid\": A.Compose([\n",
        "        A.Resize(CONFIG['img_size'], CONFIG['img_size']),\n",
        "        A.Normalize(),\n",
        "        ToTensorV2()], p=1.)\n",
        "}\n"
      ]
    },
    {
      "cell_type": "markdown",
      "metadata": {
        "id": "lF_SM2DGPGqs"
      },
      "source": [
        "# Dataset"
      ]
    },
    {
      "cell_type": "code",
      "execution_count": 8,
      "metadata": {
        "execution": {
          "iopub.execute_input": "2022-01-15T10:28:30.825534Z",
          "iopub.status.busy": "2022-01-15T10:28:30.824486Z",
          "iopub.status.idle": "2022-01-15T10:28:31.525603Z",
          "shell.execute_reply": "2022-01-15T10:28:31.524866Z",
          "shell.execute_reply.started": "2022-01-15T10:28:30.825498Z"
        },
        "id": "XW2BnvG6PGqs",
        "trusted": true
      },
      "outputs": [],
      "source": [
        "train_csv = sorted(glob(str(TRAIN_PATH / '*/*.csv')))\n",
        "train_jpg = sorted(glob(str(TRAIN_PATH / '*/*.jpg')))\n",
        "train_json = sorted(glob(str(TRAIN_PATH / '*/*.json')))\n",
        "\n",
        "\n",
        "crops = []\n",
        "diseases = []\n",
        "risks = []\n",
        "labels = []\n",
        "\n",
        "for i in range(len(train_json)):\n",
        "    with open(train_json[i], 'r') as f:\n",
        "        sample = json.load(f)\n",
        "        crop = sample['annotations']['crop']\n",
        "        disease = sample['annotations']['disease']\n",
        "        risk = sample['annotations']['risk']\n",
        "        label=f\"{crop}_{disease}_{risk}\"\n",
        "    \n",
        "        crops.append(crop)\n",
        "        diseases.append(disease)\n",
        "        risks.append(risk)\n",
        "        labels.append(label)\n",
        "        \n",
        "label_unique = sorted(np.unique(labels))\n",
        "label_unique = {key:value for key,value in zip(label_unique, range(len(label_unique)))}\n",
        "\n",
        "train_labels = [label_unique[k] for k in labels] # len = train_len"
      ]
    },
    {
      "cell_type": "code",
      "execution_count": 9,
      "metadata": {
        "id": "AIQNMAQ_PGqt"
      },
      "outputs": [],
      "source": [
        "train_jpg = np.array(train_jpg)\n",
        "train_labels = np.array(train_labels)"
      ]
    },
    {
      "cell_type": "code",
      "execution_count": 10,
      "metadata": {
        "execution": {
          "iopub.execute_input": "2022-01-15T10:28:31.562715Z",
          "iopub.status.busy": "2022-01-15T10:28:31.562438Z",
          "iopub.status.idle": "2022-01-15T10:28:31.587681Z",
          "shell.execute_reply": "2022-01-15T10:28:31.586382Z",
          "shell.execute_reply.started": "2022-01-15T10:28:31.562681Z"
        },
        "id": "40-6mAVePGqt",
        "trusted": true
      },
      "outputs": [],
      "source": [
        "class CustomDataset(Dataset):\n",
        "    def __init__(self, train_img, train_label, transforms=None):\n",
        "        self.imgs = train_img\n",
        "        self.labels = train_label\n",
        "        self.transforms = transforms\n",
        "        \n",
        "    def __len__(self):\n",
        "        return len(self.imgs)\n",
        "    \n",
        "    def __getitem__(self, index):\n",
        "        img_path = self.imgs[index]\n",
        "        img = cv2.imread(img_path)\n",
        "        img = cv2.cvtColor(img, cv2.COLOR_BGR2RGB)\n",
        "        target = self.labels[index]\n",
        "        \n",
        "        if self.transforms:\n",
        "            img = self.transforms(image=img)[\"image\"]\n",
        "            \n",
        "        return img, target\n",
        "    \n",
        "# trainDataset = CustomDataset(X_train, y_train, transforms = data_transforms['train'])\n",
        "# trainDataloader = DataLoader(\n",
        "#     trainDataset, batch_size=CONFIG['train_batch_size'], shuffle=True)\n",
        "\n",
        "# validDataset = CustomDataset(X_val, y_val, transforms = data_transforms['valid'])\n",
        "# validDataloader = DataLoader(validDataset, batch_size = CONFIG['valid_batch_size'], shuffle = True)"
      ]
    },
    {
      "cell_type": "code",
      "execution_count": 11,
      "metadata": {
        "id": "TucH1uf_PGqu"
      },
      "outputs": [],
      "source": [
        "from sklearn.model_selection import StratifiedKFold\n",
        "train_datasets = []\n",
        "valid_datasets = []\n",
        "train_dataloaders = []\n",
        "valid_dataloaders = []\n",
        "\n",
        "skf = StratifiedKFold(n_splits = 5)\n",
        "\n",
        "for step, (train_index, val_index) in enumerate(skf.split(X = train_jpg, y= train_labels)):\n",
        "    X_train = train_jpg[train_index]\n",
        "    y_train = train_labels[train_index]\n",
        "    X_val = train_jpg[val_index]\n",
        "    y_val = train_labels[val_index]\n",
        "    train_datasets.append(CustomDataset(\n",
        "        X_train, y_train, transforms=data_transforms['train']))\n",
        "    valid_datasets.append(CustomDataset(\n",
        "        X_val, y_val, transforms=data_transforms['valid']))\n",
        "    train_dataloaders.append(DataLoader(\n",
        "        train_datasets[step], batch_size=CONFIG['train_batch_size'], shuffle=True)\n",
        "    )\n",
        "    valid_dataloaders.append(\n",
        "        DataLoader(\n",
        "            valid_datasets[step], batch_size=CONFIG['valid_batch_size'], shuffle=True)\n",
        "    )\n"
      ]
    },
    {
      "cell_type": "markdown",
      "metadata": {
        "id": "qquyNic-PGqu"
      },
      "source": [
        "# Model"
      ]
    },
    {
      "cell_type": "code",
      "execution_count": 12,
      "metadata": {
        "execution": {
          "iopub.execute_input": "2022-01-15T10:28:31.595710Z",
          "iopub.status.busy": "2022-01-15T10:28:31.592703Z",
          "iopub.status.idle": "2022-01-15T10:29:04.375344Z",
          "shell.execute_reply": "2022-01-15T10:29:04.374595Z",
          "shell.execute_reply.started": "2022-01-15T10:28:31.595662Z"
        },
        "id": "EeRw9VshPGqv",
        "trusted": true
      },
      "outputs": [],
      "source": [
        "class Model(nn.Module):\n",
        "    def __init__(self, backbone, embedder, pretrained=True):\n",
        "        super(Model, self).__init__()\n",
        "        self.backbone = timm.create_model(backbone, pretrained=pretrained)\n",
        "        self.backbone.reset_classifier(0)\n",
        "        self.n_features = self.backbone.num_features\n",
        "        self.fc = nn.Linear(self.n_features, CONFIG['num_classes'])\n",
        "\n",
        "    def forward(self, images):\n",
        "        # features = (bs, embedding_size)\n",
        "        features = self.backbone(images)\n",
        "        # outputs  = (bs, num_classes)\n",
        "        # if isinstance(features, tuple):\n",
        "        #   features = features[0]\n",
        "        output = self.fc(features)\n",
        "        return output\n",
        "\n",
        "\n",
        "model = Model(CONFIG['backbone'], CONFIG['embedder'], pretrained=True)\n",
        "model.to(CONFIG['device']);\n"
      ]
    },
    {
      "cell_type": "code",
      "execution_count": 13,
      "metadata": {
        "execution": {
          "iopub.execute_input": "2022-01-15T10:29:04.376696Z",
          "iopub.status.busy": "2022-01-15T10:29:04.376445Z",
          "iopub.status.idle": "2022-01-15T10:29:04.383964Z",
          "shell.execute_reply": "2022-01-15T10:29:04.383287Z",
          "shell.execute_reply.started": "2022-01-15T10:29:04.376660Z"
        },
        "id": "5yml5ZPPPGqv",
        "trusted": true
      },
      "outputs": [],
      "source": [
        "optimizer = torch.optim.Adam(\n",
        "    params=model.parameters(), lr=CONFIG['learning_rate'], weight_decay=CONFIG['weight_decay'])\n"
      ]
    },
    {
      "cell_type": "code",
      "execution_count": 14,
      "metadata": {
        "execution": {
          "iopub.execute_input": "2022-01-15T10:29:04.385682Z",
          "iopub.status.busy": "2022-01-15T10:29:04.385257Z",
          "iopub.status.idle": "2022-01-15T10:29:05.537793Z",
          "shell.execute_reply": "2022-01-15T10:29:05.536741Z",
          "shell.execute_reply.started": "2022-01-15T10:29:04.385649Z"
        },
        "id": "iIKSttnGPGqv",
        "trusted": true
      },
      "outputs": [],
      "source": [
        "def criterion(logits: torch.tensor, targets: torch.tensor):\n",
        "    return nn.CrossEntropyLoss()(logits.view(-1,CONFIG['num_classes']), targets.view(-1))"
      ]
    },
    {
      "cell_type": "markdown",
      "metadata": {
        "id": "0_zdYN3bJZ1E"
      },
      "source": [
        "# CutMix"
      ]
    },
    {
      "cell_type": "code",
      "execution_count": 15,
      "metadata": {
        "id": "l8XzN0C2UfvH"
      },
      "outputs": [],
      "source": [
        "def cutmix(img, target):\n",
        "    \"\"\" \n",
        "    img : (bs, C, H, W)\n",
        "    target\n",
        "        - (bs,)\n",
        "        - integer scalar\n",
        "    \"\"\"\n",
        "    batch_size, C, H, W, = img.shape\n",
        "    # ic(img.shape)\n",
        "\n",
        "    img_a = img\n",
        "    target_a = target\n",
        "    img_b = img\n",
        "    target_b = target\n",
        "\n",
        "    mask = np.arange(batch_size)\n",
        "    mask = np.random.permutation(mask)\n",
        "    # ic(mask)\n",
        "    img_b = img_a[mask]\n",
        "    target_b = target_a[mask]\n",
        "    # ic(target, target_b)\n",
        "\n",
        "    lam = np.random.uniform(low=0.3, high=0.7)\n",
        "    r_x = np.random.uniform(low=0, high=W)\n",
        "    r_y = np.random.uniform(low=0, high=H)\n",
        "    r_w = W * np.sqrt(1 - lam)\n",
        "    r_h = H * np.sqrt(1 - lam)\n",
        "    ic(lam, r_x, r_y, r_w, r_h)\n",
        "    x1 = np.int(np.clip((r_x - r_w) / 2, 0, W))\n",
        "    x2 = np.int(np.clip((r_x + r_w) / 2, 0, W))\n",
        "    y1 = np.int(np.clip((r_y - r_h) / 2, 0, H))\n",
        "    y2 = np.int(np.clip((r_y + r_h) / 2, 0, H))\n",
        "    ic(x1, x2, y1, y2)\n",
        "\n",
        "    img_a[:, :, y1:y2, x1:x2] = img_b[:, :, y1:y2, x1:x2]\n",
        "\n",
        "    # Adjust lambda to exact ratio\n",
        "\n",
        "    lam = 1 - (x2 - x1) * (y2 - y1) / float(W * H)\n",
        "\n",
        "    return img_a, target_b, lam\n"
      ]
    },
    {
      "cell_type": "markdown",
      "metadata": {
        "id": "cTfsj-Y17H0C"
      },
      "source": [
        "   # Training Function"
      ]
    },
    {
      "cell_type": "code",
      "execution_count": 16,
      "metadata": {
        "execution": {
          "iopub.execute_input": "2022-01-15T10:33:47.356814Z",
          "iopub.status.busy": "2022-01-15T10:33:47.356540Z",
          "iopub.status.idle": "2022-01-15T10:33:47.375626Z",
          "shell.execute_reply": "2022-01-15T10:33:47.373734Z",
          "shell.execute_reply.started": "2022-01-15T10:33:47.356781Z"
        },
        "id": "iCswmFhy7H0D",
        "trusted": true
      },
      "outputs": [],
      "source": [
        "class AverageMeter(object):\n",
        "    \"\"\"Computes and stores the average and current value\"\"\"\n",
        "\n",
        "    def __init__(self):\n",
        "        self.reset()\n",
        "\n",
        "    def reset(self):\n",
        "        self.val = 0\n",
        "        self.avg = 0\n",
        "        self.sum = 0\n",
        "        self.count = 0\n",
        "\n",
        "    def update(self, val, n=1):\n",
        "        self.val = val\n",
        "        self.sum += val * n\n",
        "        self.count += n\n",
        "        self.avg = self.sum / self.count\n",
        "\n",
        "\n",
        "def train_one_epoch(model, optimizer, scheduler, dataloader, device, epoch):\n",
        "    # train 모드로 변경\n",
        "    model.train()\n",
        "\n",
        "    # for the Mixed Precision\n",
        "    # Pytorch 예제 : https://pytorch.org/docs/stable/notes/amp_examples.html#amp-examples\n",
        "    if(FP16):\n",
        "        scaler = amp.GradScaler()\n",
        "\n",
        "    losses = AverageMeter()\n",
        "    accuracy = AverageMeter()\n",
        "    f1 = AverageMeter()\n",
        "\n",
        "    bar = tqdm(enumerate(dataloader), total=len(dataloader))\n",
        "\n",
        "    for step, (img, target) in bar:\n",
        "        img, target_b, lam = cutmix(img, target)\n",
        "\n",
        "        img = img.to(device)\n",
        "        target = target.to(device)\n",
        "        target_b = target_b.to(device)\n",
        "\n",
        "        batch_size = img.shape[0]\n",
        "\n",
        "        if(FP16):\n",
        "            with amp.autocast(enabled=True):\n",
        "                logits = model(img)\n",
        "                loss = criterion(logits, target) * lam + \\\n",
        "                    criterion(logits, target_b) * (1-lam)\n",
        "\n",
        "                # loss를 Scale\n",
        "                # Scaled Grdients를 계산(call)하기 위해 scaled loss를 backward()\n",
        "                scaler.scale(loss).backward()\n",
        "                # scaler.step() first unscales the gradients of the optimizer's assigned params.\n",
        "                # If these gradients do not contain infs or NaNs, optimizer.step() is then called,\n",
        "                # otherwise, optimizer.step() is skipped.\n",
        "                scaler.step(optimizer)\n",
        "\n",
        "                # Updates the scale for next iteration.\n",
        "                scaler.update()\n",
        "\n",
        "        else:\n",
        "            logits = model(img)\n",
        "            loss = criterion(logits, target) * lam + \\\n",
        "                criterion(logits, target_b) * (1-lam)\n",
        "\n",
        "            loss.backward()\n",
        "            torch.nn.utils.clip_grad_norm_(model.parameters(), 1)\n",
        "            optimizer.step()\n",
        "\n",
        "        # zero the parameter gradients\n",
        "        optimizer.zero_grad()\n",
        "\n",
        "        # change learning rate by Scheduler\n",
        "        if scheduler is not None:\n",
        "            scheduler.step()\n",
        "\n",
        "        # loss.item()은 loss를 Python Float으로 반환\n",
        "        losses.update(loss.item())\n",
        "\n",
        "        # logits\n",
        "        logits = logits.detach().cpu()\n",
        "\n",
        "        # acc, f1\n",
        "        probs = torch.softmax(logits, dim = -1)\n",
        "        output = np.argmax(probs, axis=-1)\n",
        "        output_b = np.argsort(probs)[:,-2]\n",
        "        if (lam >= 0.5):\n",
        "            step_acc = np.mean(\n",
        "                output.view(-1).numpy() == target.view(-1).detach().cpu().numpy())\n",
        "            step_f1 = f1_score(output.view(-1).numpy(),\n",
        "                               target.view(-1).detach().cpu().numpy(), average='macro')\n",
        "            step_acc_b = np.mean(\n",
        "                output_b.view(-1).numpy() == target_b.view(-1).detach().cpu().numpy())\n",
        "            step_f1_b = f1_score(output_b.view(-1).numpy(),\n",
        "                                 target_b.view(-1).detach().cpu().numpy(), average='macro')\n",
        "        else:\n",
        "            step_acc = np.mean(\n",
        "                output.view(-1).numpy() == target_b.view(-1).detach().cpu().numpy())\n",
        "            step_f1 = f1_score(output.view(-1).numpy(),\n",
        "                               target_b.view(-1).detach().cpu().numpy(), average='macro')\n",
        "            step_acc_b = np.mean(\n",
        "                output_b.view(-1).numpy() == target.view(-1).detach().cpu().numpy())\n",
        "            step_f1_b = f1_score(output_b.view(-1).numpy(),\n",
        "                                 target.view(-1).detach().cpu().numpy(), average='macro')\n",
        "\n",
        "                                 \n",
        "        step_acc = step_acc * lam + step_acc_b * (1-lam)\n",
        "        step_f1 = step_f1 * lam + step_f1_b * (1-lam)\n",
        "\n",
        "        accuracy.update(step_acc)\n",
        "        f1.update(step_f1)\n",
        "\n",
        "        # loss\n",
        "        train_loss = losses.avg\n",
        "        train_acc = accuracy.avg\n",
        "        train_f1 = f1.avg\n",
        "\n",
        "        bar.set_postfix(\n",
        "            Epoch=epoch, Train_Loss=train_loss, LR=optimizer.param_groups[\n",
        "                0][\"lr\"], accuracy=train_acc, f1=train_f1\n",
        "        )\n",
        "\n",
        "    # Garbage Collector\n",
        "    gc.collect()\n",
        "\n",
        "    return losses.avg, accuracy.avg, f1.avg\n"
      ]
    },
    {
      "cell_type": "markdown",
      "metadata": {
        "id": "C5PB19nv7H0D"
      },
      "source": [
        "   # Validation Function"
      ]
    },
    {
      "cell_type": "code",
      "execution_count": 17,
      "metadata": {
        "execution": {
          "iopub.execute_input": "2022-01-15T10:33:47.378229Z",
          "iopub.status.busy": "2022-01-15T10:33:47.377682Z",
          "iopub.status.idle": "2022-01-15T10:33:47.393570Z",
          "shell.execute_reply": "2022-01-15T10:33:47.392783Z",
          "shell.execute_reply.started": "2022-01-15T10:33:47.378191Z"
        },
        "id": "aJRJrmiG7H0E",
        "trusted": true
      },
      "outputs": [],
      "source": [
        "@torch.no_grad()\n",
        "def valid_one_epoch(model, dataloader, device, epoch):\n",
        "    model.eval()\n",
        "\n",
        "    losses = AverageMeter()\n",
        "    accuracy = AverageMeter()\n",
        "    f1 = AverageMeter()\n",
        "\n",
        "    bar = tqdm(enumerate(dataloader), total=len(dataloader))\n",
        "\n",
        "    for step, (img, target) in bar:\n",
        "        img = img.to(device)\n",
        "        target = target.to(device)\n",
        "\n",
        "        batch_size = img.shape[0]\n",
        "\n",
        "        logits = model(img)\n",
        "        loss = criterion(logits, target)\n",
        "\n",
        "        # loss.item()은 loss를 Python Float으로 반환\n",
        "        losses.update(loss.item())\n",
        "\n",
        "        # logits\n",
        "        logits = logits.detach().cpu()\n",
        "\n",
        "        output = np.argmax(torch.softmax(logits, dim=-1), axis=-1)\n",
        "        step_acc = np.mean(\n",
        "            output.view(-1).numpy() == target.view(-1).detach().cpu().numpy())\n",
        "        step_f1 = f1_score(output.view(-1).numpy(),\n",
        "                           target.view(-1).detach().cpu().numpy(), average='macro')\n",
        "\n",
        "        accuracy.update(step_acc)\n",
        "        f1.update(step_f1)\n",
        "\n",
        "        # loss\n",
        "        val_loss = losses.avg\n",
        "        val_acc = accuracy.avg\n",
        "        val_f1 = f1.avg\n",
        "\n",
        "        bar.set_postfix(\n",
        "            Epoch=epoch, Valid_Loss=val_loss, LR=optimizer.param_groups[\n",
        "                0][\"lr\"], accuracy=val_acc, f1=val_f1\n",
        "        )\n",
        "\n",
        "    gc.collect()\n",
        "\n",
        "    return losses.avg, accuracy.avg, f1.avg\n"
      ]
    },
    {
      "cell_type": "code",
      "execution_count": 18,
      "metadata": {
        "execution": {
          "iopub.execute_input": "2022-01-15T10:33:47.395930Z",
          "iopub.status.busy": "2022-01-15T10:33:47.395337Z",
          "iopub.status.idle": "2022-01-15T10:33:47.415192Z",
          "shell.execute_reply": "2022-01-15T10:33:47.414280Z",
          "shell.execute_reply.started": "2022-01-15T10:33:47.395894Z"
        },
        "id": "kZfD8q3s7H0E",
        "trusted": true
      },
      "outputs": [],
      "source": [
        "\n",
        "def run_training(\n",
        "    model,\n",
        "    optimizer,\n",
        "    scheduler,\n",
        "    device,\n",
        "    num_epochs,\n",
        "    metric_prefix=\"\",\n",
        "    file_prefix=\"\",\n",
        "    early_stopping=True,\n",
        "    early_stopping_step=10,\n",
        "    START_EPOCH = 0,\n",
        "):\n",
        "    # To automatically log graidents\n",
        "    wandb.watch(model, log_freq=100)\n",
        "\n",
        "    if torch.cuda.is_available():\n",
        "        print(\"[INFO] Using GPU:{}\\n\".format(torch.cuda.get_device_name()))\n",
        "\n",
        "    start = time.time()\n",
        "    best_model_wts = copy.deepcopy(model.state_dict())\n",
        "    best_loss = np.inf\n",
        "    history = defaultdict(list)\n",
        "    early_stop_counter = 0\n",
        "\n",
        "    # num_epochs만큼, train과 val을 실행한다\n",
        "    for epoch in range(START_EPOCH, START_EPOCH + num_epochs):\n",
        "        gc.collect()\n",
        "\n",
        "        fold_num = 5\n",
        "        fold = epoch % fold_num\n",
        "\n",
        "        # for fold in range(fold_num) :\n",
        "\n",
        "        trainDataloader = train_dataloaders[fold]\n",
        "        validDataloader = valid_dataloaders[fold]\n",
        "\n",
        "        train_train_loss, train_accuracy, train_f1 = train_one_epoch(\n",
        "            model,\n",
        "            optimizer,\n",
        "            scheduler,\n",
        "            dataloader=trainDataloader,\n",
        "            device=device,\n",
        "            epoch=epoch,\n",
        "        )\n",
        "\n",
        "        val_loss, val_accuracy, val_f1 = valid_one_epoch(\n",
        "            model, validDataloader, device=device, epoch=epoch\n",
        "        )\n",
        "\n",
        "\n",
        "        history[f\"{metric_prefix}Train Loss\"].append(train_train_loss)\n",
        "        history[f\"{metric_prefix}Train Accuracy\"].append(train_accuracy)\n",
        "        history[f\"{metric_prefix}Train F1\"].append(train_f1)\n",
        "        history[f\"{metric_prefix}Valid Loss\"].append(val_loss)\n",
        "        history[f\"{metric_prefix}Valid Accuracy\"].append(val_accuracy)\n",
        "        history[f\"{metric_prefix}Valid F1\"].append(val_f1)\n",
        "\n",
        "        # Log the metrics\n",
        "        wandb.log(\n",
        "            {\n",
        "                f\"{metric_prefix}Train Loss\": train_train_loss,\n",
        "                f\"{metric_prefix}Valid Loss\": val_loss,\n",
        "                f\"{metric_prefix}Train Accuracy\": train_accuracy,\n",
        "                f\"{metric_prefix}Valid Accuracy\": val_accuracy,\n",
        "                f\"{metric_prefix}Train F1\": train_f1,\n",
        "                f\"{metric_prefix}Valid F1\": val_f1,\n",
        "            }\n",
        "        )\n",
        "\n",
        "        print(f\"Valid Loss : {val_loss}\")\n",
        "\n",
        "        torch.save(model.state_dict(), f'{CONFIG[\"nickname\"]}last.bin')\n",
        "        wandb.save(f'{CONFIG[\"nickname\"]}last.bin')\n",
        "\n",
        "        # deep copy the model\n",
        "        if val_loss <= best_loss:\n",
        "            early_stop_counter = 0\n",
        "\n",
        "            print(\n",
        "                f\"Validation Loss improved( {best_loss} ---> {val_loss}  )\"\n",
        "            )\n",
        "\n",
        "            # Update Best Loss\n",
        "            best_loss = val_loss\n",
        "\n",
        "            # Update Best Model Weight\n",
        "            # run.summary['Best RMSE'] = best_loss\n",
        "            best_model_wts = copy.deepcopy(model.state_dict())\n",
        "\n",
        "            PATH = \"{}epoch{:.0f}_Loss{:.4f}.bin\".format(\n",
        "                file_prefix, epoch, best_loss)\n",
        "            torch.save(model.state_dict(), PATH)\n",
        "            # Save a model file from the current directory\n",
        "            wandb.save(PATH)\n",
        "\n",
        "            print(f\"Model Saved\")\n",
        "\n",
        "        elif early_stopping:\n",
        "            early_stop_counter += 1\n",
        "            if early_stop_counter > early_stopping_step:\n",
        "                break\n",
        "\n",
        "        START_EPOCH = epoch + 1\n",
        "        # break\n",
        "\n",
        "    end = time.time()\n",
        "    time_elapsed = end - start\n",
        "    print(\n",
        "        \"Training complete in {:.0f}h {:.0f}m {:.0f}s\".format(\n",
        "            time_elapsed // 3600,\n",
        "            (time_elapsed % 3600) // 60,\n",
        "            (time_elapsed % 3600) % 60,\n",
        "        )\n",
        "    )\n",
        "    print(\"Best Loss: {:.4f}\".format(best_loss))\n",
        "\n",
        "    return model, history\n"
      ]
    },
    {
      "cell_type": "code",
      "execution_count": 19,
      "metadata": {
        "colab": {
          "base_uri": "https://localhost:8080/"
        },
        "execution": {
          "iopub.execute_input": "2022-01-15T10:33:47.416354Z",
          "iopub.status.busy": "2022-01-15T10:33:47.416056Z",
          "iopub.status.idle": "2022-01-15T10:33:48.692352Z",
          "shell.execute_reply": "2022-01-15T10:33:48.691550Z",
          "shell.execute_reply.started": "2022-01-15T10:33:47.416328Z"
        },
        "id": "eX2s0GMOPGqy",
        "outputId": "fafb6d93-66d4-4364-cb01-91c7eb746b00",
        "trusted": true
      },
      "outputs": [
        {
          "output_type": "execute_result",
          "data": {
            "text/plain": [
              "<All keys matched successfully>"
            ]
          },
          "metadata": {},
          "execution_count": 19
        }
      ],
      "source": [
        "MODEL_NAME = 'last.bin'\n",
        "RUN_PATH = 'jiwon7258/lg/koxrlhhf'\n",
        "wandb.restore(MODEL_NAME, RUN_PATH, root='./')\n",
        "model.load_state_dict(torch.load(\n",
        "    MODEL_NAME, map_location=CONFIG['device']))\n"
      ]
    },
    {
      "cell_type": "markdown",
      "metadata": {
        "id": "AdVDFxn6PGqy"
      },
      "source": [
        "# Fast Start : 5 epoch"
      ]
    },
    {
      "cell_type": "code",
      "execution_count": 20,
      "metadata": {
        "id": "vMfEjYQFPGqz"
      },
      "outputs": [],
      "source": [
        "for param in model.backbone.named_parameters():\n",
        "    param[1].requires_grad = False"
      ]
    },
    {
      "cell_type": "code",
      "execution_count": 21,
      "metadata": {
        "colab": {
          "base_uri": "https://localhost:8080/"
        },
        "execution": {
          "iopub.execute_input": "2022-01-15T10:33:48.694521Z",
          "iopub.status.busy": "2022-01-15T10:33:48.694198Z"
        },
        "id": "DEZO7sK4PGqz",
        "outputId": "cd97aefd-ace3-4155-9bf6-3953e4f9a9cd",
        "trusted": true
      },
      "outputs": [
        {
          "output_type": "stream",
          "name": "stdout",
          "text": [
            "[INFO] Using GPU:Tesla P100-PCIE-16GB\n",
            "\n"
          ]
        },
        {
          "output_type": "stream",
          "name": "stderr",
          "text": [
            "100%|██████████| 577/577 [02:28<00:00,  3.89it/s, Epoch=0, LR=8.76e-5, Train_Loss=1.97, accuracy=0.585, f1=0.529]\n",
            "100%|██████████| 73/73 [00:24<00:00,  2.92it/s, Epoch=0, LR=8.76e-5, Valid_Loss=0.00463, accuracy=0.999, f1=0.998]\n"
          ]
        },
        {
          "output_type": "stream",
          "name": "stdout",
          "text": [
            "Valid Loss : 0.0046257363717639435\n",
            "Validation Loss improved( inf ---> 0.0046257363717639435  )\n",
            "Model Saved\n"
          ]
        },
        {
          "output_type": "stream",
          "name": "stderr",
          "text": [
            "100%|██████████| 577/577 [02:22<00:00,  4.04it/s, Epoch=1, LR=5.67e-5, Train_Loss=1.55, accuracy=0.601, f1=0.544]\n",
            "100%|██████████| 73/73 [00:24<00:00,  2.94it/s, Epoch=1, LR=5.67e-5, Valid_Loss=0.0216, accuracy=0.997, f1=0.993]\n"
          ]
        },
        {
          "output_type": "stream",
          "name": "stdout",
          "text": [
            "Valid Loss : 0.02160020579571185\n"
          ]
        },
        {
          "output_type": "stream",
          "name": "stderr",
          "text": [
            "100%|██████████| 577/577 [02:21<00:00,  4.08it/s, Epoch=2, LR=2.27e-5, Train_Loss=1.33, accuracy=0.601, f1=0.546]\n",
            "100%|██████████| 73/73 [00:24<00:00,  3.00it/s, Epoch=2, LR=2.27e-5, Valid_Loss=0.0897, accuracy=0.997, f1=0.99]\n"
          ]
        },
        {
          "output_type": "stream",
          "name": "stdout",
          "text": [
            "Valid Loss : 0.0896594715368462\n"
          ]
        },
        {
          "output_type": "stream",
          "name": "stderr",
          "text": [
            "100%|██████████| 577/577 [02:21<00:00,  4.07it/s, Epoch=3, LR=2.56e-6, Train_Loss=1.26, accuracy=0.609, f1=0.552]\n",
            "100%|██████████| 73/73 [00:24<00:00,  3.00it/s, Epoch=3, LR=2.56e-6, Valid_Loss=0.0839, accuracy=1, f1=1]\n"
          ]
        },
        {
          "output_type": "stream",
          "name": "stdout",
          "text": [
            "Valid Loss : 0.08392594632220594\n"
          ]
        },
        {
          "output_type": "stream",
          "name": "stderr",
          "text": [
            "100%|██████████| 577/577 [02:21<00:00,  4.07it/s, Epoch=4, LR=6.4e-6, Train_Loss=1.29, accuracy=0.583, f1=0.523]\n",
            "100%|██████████| 73/73 [00:24<00:00,  3.01it/s, Epoch=4, LR=6.4e-6, Valid_Loss=0.0811, accuracy=0.999, f1=0.999]\n"
          ]
        },
        {
          "output_type": "stream",
          "name": "stdout",
          "text": [
            "Valid Loss : 0.08105312093888244\n",
            "Training complete in 0h 14m 5s\n",
            "Best Loss: 0.0046\n"
          ]
        }
      ],
      "source": [
        "ic.disable()\n",
        "run_training(\n",
        "    model=model,\n",
        "    optimizer=optimizer,\n",
        "    scheduler=torch.optim.lr_scheduler.CosineAnnealingLR(\n",
        "        optimizer=optimizer, T_max=CONFIG['T_max'], eta_min=CONFIG['min_lr']),\n",
        "    device=device,\n",
        "    num_epochs=5,\n",
        "    metric_prefix=\"\",\n",
        "    file_prefix=\"\",\n",
        "    early_stopping=CONFIG['early_stopping'],\n",
        "    early_stopping_step=CONFIG['early_stopping_step'],\n",
        "    START_EPOCH=0,\n",
        ");\n"
      ]
    },
    {
      "cell_type": "markdown",
      "metadata": {
        "id": "I12CGrl48rI5"
      },
      "source": [
        "# 400 epochs"
      ]
    },
    {
      "cell_type": "code",
      "execution_count": 24,
      "metadata": {
        "id": "o19cnoojVJSD"
      },
      "outputs": [],
      "source": [
        "optimizer = torch.optim.Adam(\n",
        "    params=model.parameters(), lr=1e-6, weight_decay=CONFIG['weight_decay'])"
      ]
    },
    {
      "cell_type": "code",
      "execution_count": 25,
      "metadata": {
        "id": "Ae1QgOXSPGqz"
      },
      "outputs": [],
      "source": [
        "for param in model.backbone.named_parameters():\n",
        "    param[1].requires_grad = True\n"
      ]
    },
    {
      "cell_type": "code",
      "execution_count": null,
      "metadata": {
        "colab": {
          "base_uri": "https://localhost:8080/"
        },
        "id": "iYiZsK23VJSD",
        "outputId": "d687efa1-272f-464b-b37e-67d79eced853"
      },
      "outputs": [
        {
          "output_type": "stream",
          "name": "stdout",
          "text": [
            "[INFO] Using GPU:Tesla P100-PCIE-16GB\n",
            "\n"
          ]
        },
        {
          "output_type": "stream",
          "name": "stderr",
          "text": [
            "100%|██████████| 577/577 [07:00<00:00,  1.37it/s, Epoch=17, LR=1e-6, Train_Loss=1.24, accuracy=0.614, f1=0.56]\n",
            "100%|██████████| 73/73 [00:24<00:00,  2.99it/s, Epoch=17, LR=1e-6, Valid_Loss=0.0914, accuracy=0.997, f1=0.993]\n"
          ]
        },
        {
          "output_type": "stream",
          "name": "stdout",
          "text": [
            "Valid Loss : 0.0913543612887598\n",
            "Validation Loss improved( inf ---> 0.0913543612887598  )\n",
            "Model Saved\n"
          ]
        },
        {
          "output_type": "stream",
          "name": "stderr",
          "text": [
            "100%|██████████| 577/577 [07:00<00:00,  1.37it/s, Epoch=18, LR=1e-6, Train_Loss=1.2, accuracy=0.617, f1=0.562]\n",
            "100%|██████████| 73/73 [00:24<00:00,  2.99it/s, Epoch=18, LR=1e-6, Valid_Loss=0.0842, accuracy=1, f1=1]\n"
          ]
        },
        {
          "output_type": "stream",
          "name": "stdout",
          "text": [
            "Valid Loss : 0.08419596450802015\n",
            "Validation Loss improved( 0.0913543612887598 ---> 0.08419596450802015  )\n",
            "Model Saved\n"
          ]
        },
        {
          "output_type": "stream",
          "name": "stderr",
          "text": [
            "100%|██████████| 577/577 [07:01<00:00,  1.37it/s, Epoch=19, LR=1e-6, Train_Loss=1.2, accuracy=0.612, f1=0.552]\n",
            "100%|██████████| 73/73 [00:24<00:00,  2.99it/s, Epoch=19, LR=1e-6, Valid_Loss=0.0748, accuracy=1, f1=1]\n"
          ]
        },
        {
          "output_type": "stream",
          "name": "stdout",
          "text": [
            "Valid Loss : 0.0747992258059652\n",
            "Validation Loss improved( 0.08419596450802015 ---> 0.0747992258059652  )\n",
            "Model Saved\n"
          ]
        },
        {
          "output_type": "stream",
          "name": "stderr",
          "text": [
            "100%|██████████| 577/577 [07:01<00:00,  1.37it/s, Epoch=20, LR=1e-6, Train_Loss=1.17, accuracy=0.62, f1=0.564]\n",
            "100%|██████████| 73/73 [00:24<00:00,  3.00it/s, Epoch=20, LR=1e-6, Valid_Loss=0.0821, accuracy=0.999, f1=0.997]\n"
          ]
        },
        {
          "output_type": "stream",
          "name": "stdout",
          "text": [
            "Valid Loss : 0.08207957038324173\n"
          ]
        },
        {
          "output_type": "stream",
          "name": "stderr",
          "text": [
            "100%|██████████| 577/577 [07:01<00:00,  1.37it/s, Epoch=21, LR=1e-6, Train_Loss=1.15, accuracy=0.633, f1=0.577]\n",
            "100%|██████████| 73/73 [00:24<00:00,  2.99it/s, Epoch=21, LR=1e-6, Valid_Loss=0.116, accuracy=0.997, f1=0.99]\n"
          ]
        },
        {
          "output_type": "stream",
          "name": "stdout",
          "text": [
            "Valid Loss : 0.11624851475839745\n"
          ]
        },
        {
          "output_type": "stream",
          "name": "stderr",
          "text": [
            "100%|██████████| 577/577 [07:00<00:00,  1.37it/s, Epoch=22, LR=1e-6, Train_Loss=1.16, accuracy=0.635, f1=0.574]\n",
            "100%|██████████| 73/73 [00:24<00:00,  3.00it/s, Epoch=22, LR=1e-6, Valid_Loss=0.112, accuracy=0.997, f1=0.992]\n"
          ]
        },
        {
          "output_type": "stream",
          "name": "stdout",
          "text": [
            "Valid Loss : 0.1117869397140529\n"
          ]
        },
        {
          "output_type": "stream",
          "name": "stderr",
          "text": [
            "100%|██████████| 577/577 [07:03<00:00,  1.36it/s, Epoch=23, LR=1e-6, Train_Loss=1.14, accuracy=0.639, f1=0.579]\n",
            "100%|██████████| 73/73 [00:24<00:00,  2.98it/s, Epoch=23, LR=1e-6, Valid_Loss=0.0834, accuracy=1, f1=1]\n"
          ]
        },
        {
          "output_type": "stream",
          "name": "stdout",
          "text": [
            "Valid Loss : 0.08344332332888695\n"
          ]
        },
        {
          "output_type": "stream",
          "name": "stderr",
          "text": [
            "100%|██████████| 577/577 [07:03<00:00,  1.36it/s, Epoch=24, LR=1e-6, Train_Loss=1.11, accuracy=0.643, f1=0.584]\n",
            "100%|██████████| 73/73 [00:24<00:00,  2.98it/s, Epoch=24, LR=1e-6, Valid_Loss=0.119, accuracy=0.999, f1=0.999]\n"
          ]
        },
        {
          "output_type": "stream",
          "name": "stdout",
          "text": [
            "Valid Loss : 0.11867698156976536\n"
          ]
        },
        {
          "output_type": "stream",
          "name": "stderr",
          "text": [
            "100%|██████████| 577/577 [07:04<00:00,  1.36it/s, Epoch=25, LR=1e-6, Train_Loss=1.11, accuracy=0.65, f1=0.592]\n",
            "100%|██████████| 73/73 [00:24<00:00,  2.97it/s, Epoch=25, LR=1e-6, Valid_Loss=0.111, accuracy=0.999, f1=0.999]\n"
          ]
        },
        {
          "output_type": "stream",
          "name": "stdout",
          "text": [
            "Valid Loss : 0.1107062189138099\n"
          ]
        },
        {
          "output_type": "stream",
          "name": "stderr",
          "text": [
            "100%|██████████| 577/577 [07:04<00:00,  1.36it/s, Epoch=26, LR=1e-6, Train_Loss=1.09, accuracy=0.664, f1=0.606]\n",
            "100%|██████████| 73/73 [00:24<00:00,  2.97it/s, Epoch=26, LR=1e-6, Valid_Loss=0.107, accuracy=0.997, f1=0.994]\n"
          ]
        },
        {
          "output_type": "stream",
          "name": "stdout",
          "text": [
            "Valid Loss : 0.10667512652604547\n"
          ]
        },
        {
          "output_type": "stream",
          "name": "stderr",
          "text": [
            "100%|██████████| 577/577 [07:04<00:00,  1.36it/s, Epoch=27, LR=1e-6, Train_Loss=1.11, accuracy=0.647, f1=0.59]\n",
            "100%|██████████| 73/73 [00:24<00:00,  2.99it/s, Epoch=27, LR=1e-6, Valid_Loss=0.109, accuracy=0.997, f1=0.989]\n"
          ]
        },
        {
          "output_type": "stream",
          "name": "stdout",
          "text": [
            "Valid Loss : 0.1086614359527418\n"
          ]
        },
        {
          "output_type": "stream",
          "name": "stderr",
          "text": [
            "100%|██████████| 577/577 [07:04<00:00,  1.36it/s, Epoch=28, LR=1e-6, Train_Loss=1.1, accuracy=0.643, f1=0.584]\n",
            "100%|██████████| 73/73 [00:24<00:00,  2.97it/s, Epoch=28, LR=1e-6, Valid_Loss=0.11, accuracy=1, f1=1]\n"
          ]
        },
        {
          "output_type": "stream",
          "name": "stdout",
          "text": [
            "Valid Loss : 0.10978255824071087\n"
          ]
        },
        {
          "output_type": "stream",
          "name": "stderr",
          "text": [
            "100%|██████████| 577/577 [07:03<00:00,  1.36it/s, Epoch=29, LR=1e-6, Train_Loss=1.08, accuracy=0.651, f1=0.593]\n",
            "100%|██████████| 73/73 [00:24<00:00,  2.97it/s, Epoch=29, LR=1e-6, Valid_Loss=0.11, accuracy=0.998, f1=0.995]\n"
          ]
        },
        {
          "output_type": "stream",
          "name": "stdout",
          "text": [
            "Valid Loss : 0.11034604641672684\n"
          ]
        },
        {
          "output_type": "stream",
          "name": "stderr",
          "text": [
            "100%|██████████| 577/577 [07:03<00:00,  1.36it/s, Epoch=30, LR=1e-6, Train_Loss=1.09, accuracy=0.643, f1=0.583]\n",
            "100%|██████████| 73/73 [00:24<00:00,  2.98it/s, Epoch=30, LR=1e-6, Valid_Loss=0.108, accuracy=1, f1=1]\n"
          ]
        },
        {
          "output_type": "stream",
          "name": "stdout",
          "text": [
            "Valid Loss : 0.10751546327381918\n"
          ]
        },
        {
          "output_type": "stream",
          "name": "stderr",
          "text": [
            "100%|██████████| 577/577 [07:03<00:00,  1.36it/s, Epoch=31, LR=1e-6, Train_Loss=1.08, accuracy=0.663, f1=0.607]\n",
            "100%|██████████| 73/73 [00:24<00:00,  2.94it/s, Epoch=31, LR=1e-6, Valid_Loss=0.123, accuracy=0.995, f1=0.987]\n"
          ]
        },
        {
          "output_type": "stream",
          "name": "stdout",
          "text": [
            "Valid Loss : 0.12283941470596889\n"
          ]
        },
        {
          "output_type": "stream",
          "name": "stderr",
          "text": [
            "100%|██████████| 577/577 [07:04<00:00,  1.36it/s, Epoch=32, LR=1e-6, Train_Loss=1.07, accuracy=0.666, f1=0.608]\n",
            "100%|██████████| 73/73 [00:24<00:00,  2.98it/s, Epoch=32, LR=1e-6, Valid_Loss=0.103, accuracy=0.997, f1=0.992]\n"
          ]
        },
        {
          "output_type": "stream",
          "name": "stdout",
          "text": [
            "Valid Loss : 0.10283501109440032\n"
          ]
        },
        {
          "output_type": "stream",
          "name": "stderr",
          "text": [
            "100%|██████████| 577/577 [07:04<00:00,  1.36it/s, Epoch=33, LR=1e-6, Train_Loss=1.06, accuracy=0.66, f1=0.6]\n",
            "100%|██████████| 73/73 [00:24<00:00,  2.97it/s, Epoch=33, LR=1e-6, Valid_Loss=0.118, accuracy=1, f1=1]\n"
          ]
        },
        {
          "output_type": "stream",
          "name": "stdout",
          "text": [
            "Valid Loss : 0.11758421106289511\n"
          ]
        },
        {
          "output_type": "stream",
          "name": "stderr",
          "text": [
            "100%|██████████| 577/577 [07:06<00:00,  1.35it/s, Epoch=34, LR=1e-6, Train_Loss=1.05, accuracy=0.657, f1=0.597]\n",
            "100%|██████████| 73/73 [00:24<00:00,  2.96it/s, Epoch=34, LR=1e-6, Valid_Loss=0.111, accuracy=0.998, f1=0.995]\n"
          ]
        },
        {
          "output_type": "stream",
          "name": "stdout",
          "text": [
            "Valid Loss : 0.11148094651225494\n"
          ]
        },
        {
          "output_type": "stream",
          "name": "stderr",
          "text": [
            "100%|██████████| 577/577 [07:04<00:00,  1.36it/s, Epoch=35, LR=1e-6, Train_Loss=1.03, accuracy=0.664, f1=0.603]\n",
            "100%|██████████| 73/73 [00:24<00:00,  2.96it/s, Epoch=35, LR=1e-6, Valid_Loss=0.105, accuracy=0.999, f1=0.997]\n"
          ]
        },
        {
          "output_type": "stream",
          "name": "stdout",
          "text": [
            "Valid Loss : 0.1050451397895813\n"
          ]
        },
        {
          "output_type": "stream",
          "name": "stderr",
          "text": [
            "100%|██████████| 577/577 [07:03<00:00,  1.36it/s, Epoch=36, LR=1e-6, Train_Loss=1.02, accuracy=0.668, f1=0.608]\n",
            "100%|██████████| 73/73 [00:24<00:00,  2.99it/s, Epoch=36, LR=1e-6, Valid_Loss=0.115, accuracy=0.995, f1=0.986]\n"
          ]
        },
        {
          "output_type": "stream",
          "name": "stdout",
          "text": [
            "Valid Loss : 0.11500429173242556\n"
          ]
        },
        {
          "output_type": "stream",
          "name": "stderr",
          "text": [
            "100%|██████████| 577/577 [07:04<00:00,  1.36it/s, Epoch=37, LR=1e-6, Train_Loss=1.04, accuracy=0.668, f1=0.609]\n",
            "100%|██████████| 73/73 [00:24<00:00,  2.97it/s, Epoch=37, LR=1e-6, Valid_Loss=0.121, accuracy=0.996, f1=0.991]\n"
          ]
        },
        {
          "output_type": "stream",
          "name": "stdout",
          "text": [
            "Valid Loss : 0.12103959310748806\n"
          ]
        },
        {
          "output_type": "stream",
          "name": "stderr",
          "text": [
            "100%|██████████| 577/577 [07:05<00:00,  1.36it/s, Epoch=38, LR=1e-6, Train_Loss=1.02, accuracy=0.673, f1=0.613]\n",
            "100%|██████████| 73/73 [00:24<00:00,  2.98it/s, Epoch=38, LR=1e-6, Valid_Loss=0.0767, accuracy=1, f1=1]\n"
          ]
        },
        {
          "output_type": "stream",
          "name": "stdout",
          "text": [
            "Valid Loss : 0.07668992320764555\n"
          ]
        },
        {
          "output_type": "stream",
          "name": "stderr",
          "text": [
            "100%|██████████| 577/577 [07:05<00:00,  1.36it/s, Epoch=39, LR=1e-6, Train_Loss=1.01, accuracy=0.669, f1=0.606]\n",
            "100%|██████████| 73/73 [00:24<00:00,  2.96it/s, Epoch=39, LR=1e-6, Valid_Loss=0.0958, accuracy=0.997, f1=0.992]\n"
          ]
        },
        {
          "output_type": "stream",
          "name": "stdout",
          "text": [
            "Valid Loss : 0.09577062169778837\n"
          ]
        },
        {
          "output_type": "stream",
          "name": "stderr",
          "text": [
            "100%|██████████| 577/577 [07:04<00:00,  1.36it/s, Epoch=40, LR=1e-6, Train_Loss=1.01, accuracy=0.676, f1=0.616]\n",
            "100%|██████████| 73/73 [00:24<00:00,  2.97it/s, Epoch=40, LR=1e-6, Valid_Loss=0.0855, accuracy=1, f1=1]\n"
          ]
        },
        {
          "output_type": "stream",
          "name": "stdout",
          "text": [
            "Valid Loss : 0.08552178219981389\n"
          ]
        },
        {
          "output_type": "stream",
          "name": "stderr",
          "text": [
            "100%|██████████| 577/577 [07:04<00:00,  1.36it/s, Epoch=41, LR=1e-6, Train_Loss=1.01, accuracy=0.668, f1=0.607]\n",
            "100%|██████████| 73/73 [00:24<00:00,  2.97it/s, Epoch=41, LR=1e-6, Valid_Loss=0.0859, accuracy=0.995, f1=0.984]\n"
          ]
        },
        {
          "output_type": "stream",
          "name": "stdout",
          "text": [
            "Valid Loss : 0.0858684115826267\n"
          ]
        },
        {
          "output_type": "stream",
          "name": "stderr",
          "text": [
            "100%|██████████| 577/577 [07:04<00:00,  1.36it/s, Epoch=42, LR=1e-6, Train_Loss=1, accuracy=0.683, f1=0.623]\n",
            "100%|██████████| 73/73 [00:24<00:00,  2.97it/s, Epoch=42, LR=1e-6, Valid_Loss=0.12, accuracy=0.996, f1=0.989]\n"
          ]
        },
        {
          "output_type": "stream",
          "name": "stdout",
          "text": [
            "Valid Loss : 0.12007827689386394\n"
          ]
        },
        {
          "output_type": "stream",
          "name": "stderr",
          "text": [
            "100%|██████████| 577/577 [07:03<00:00,  1.36it/s, Epoch=43, LR=1e-6, Train_Loss=0.984, accuracy=0.681, f1=0.621]\n",
            "100%|██████████| 73/73 [00:24<00:00,  2.98it/s, Epoch=43, LR=1e-6, Valid_Loss=0.0838, accuracy=1, f1=1]\n"
          ]
        },
        {
          "output_type": "stream",
          "name": "stdout",
          "text": [
            "Valid Loss : 0.08384198491295723\n"
          ]
        },
        {
          "output_type": "stream",
          "name": "stderr",
          "text": [
            "100%|██████████| 577/577 [07:05<00:00,  1.36it/s, Epoch=44, LR=1e-6, Train_Loss=0.996, accuracy=0.687, f1=0.627]\n",
            "100%|██████████| 73/73 [00:24<00:00,  2.94it/s, Epoch=44, LR=1e-6, Valid_Loss=0.0701, accuracy=0.998, f1=0.995]\n"
          ]
        },
        {
          "output_type": "stream",
          "name": "stdout",
          "text": [
            "Valid Loss : 0.0700818670097075\n",
            "Validation Loss improved( 0.0747992258059652 ---> 0.0700818670097075  )\n",
            "Model Saved\n"
          ]
        },
        {
          "output_type": "stream",
          "name": "stderr",
          "text": [
            "100%|██████████| 577/577 [07:04<00:00,  1.36it/s, Epoch=45, LR=1e-6, Train_Loss=0.978, accuracy=0.673, f1=0.612]\n",
            "100%|██████████| 73/73 [00:24<00:00,  2.96it/s, Epoch=45, LR=1e-6, Valid_Loss=0.0781, accuracy=0.999, f1=0.997]\n"
          ]
        },
        {
          "output_type": "stream",
          "name": "stdout",
          "text": [
            "Valid Loss : 0.07809016680064267\n"
          ]
        },
        {
          "output_type": "stream",
          "name": "stderr",
          "text": [
            "100%|██████████| 577/577 [07:05<00:00,  1.36it/s, Epoch=46, LR=1e-6, Train_Loss=0.971, accuracy=0.694, f1=0.635]\n",
            "100%|██████████| 73/73 [00:24<00:00,  2.96it/s, Epoch=46, LR=1e-6, Valid_Loss=0.0889, accuracy=0.996, f1=0.988]\n"
          ]
        },
        {
          "output_type": "stream",
          "name": "stdout",
          "text": [
            "Valid Loss : 0.08887619683391428\n"
          ]
        },
        {
          "output_type": "stream",
          "name": "stderr",
          "text": [
            "100%|██████████| 577/577 [07:05<00:00,  1.36it/s, Epoch=47, LR=1e-6, Train_Loss=0.973, accuracy=0.699, f1=0.64]\n",
            "100%|██████████| 73/73 [00:24<00:00,  2.96it/s, Epoch=47, LR=1e-6, Valid_Loss=0.128, accuracy=0.997, f1=0.991]\n"
          ]
        },
        {
          "output_type": "stream",
          "name": "stdout",
          "text": [
            "Valid Loss : 0.1281316402329974\n"
          ]
        },
        {
          "output_type": "stream",
          "name": "stderr",
          "text": [
            "100%|██████████| 577/577 [07:04<00:00,  1.36it/s, Epoch=48, LR=1e-6, Train_Loss=0.962, accuracy=0.688, f1=0.627]\n",
            "100%|██████████| 73/73 [00:24<00:00,  2.99it/s, Epoch=48, LR=1e-6, Valid_Loss=0.0788, accuracy=1, f1=1]\n"
          ]
        },
        {
          "output_type": "stream",
          "name": "stdout",
          "text": [
            "Valid Loss : 0.07879961014100134\n"
          ]
        },
        {
          "output_type": "stream",
          "name": "stderr",
          "text": [
            "100%|██████████| 577/577 [07:03<00:00,  1.36it/s, Epoch=49, LR=1e-6, Train_Loss=0.952, accuracy=0.696, f1=0.637]\n",
            "100%|██████████| 73/73 [00:24<00:00,  2.99it/s, Epoch=49, LR=1e-6, Valid_Loss=0.0905, accuracy=0.997, f1=0.993]\n"
          ]
        },
        {
          "output_type": "stream",
          "name": "stdout",
          "text": [
            "Valid Loss : 0.09045899424650898\n"
          ]
        },
        {
          "output_type": "stream",
          "name": "stderr",
          "text": [
            "100%|██████████| 577/577 [07:03<00:00,  1.36it/s, Epoch=50, LR=1e-6, Train_Loss=0.956, accuracy=0.691, f1=0.629]\n",
            "100%|██████████| 73/73 [00:24<00:00,  2.98it/s, Epoch=50, LR=1e-6, Valid_Loss=0.08, accuracy=0.999, f1=0.997]\n"
          ]
        },
        {
          "output_type": "stream",
          "name": "stdout",
          "text": [
            "Valid Loss : 0.07995206806553554\n"
          ]
        },
        {
          "output_type": "stream",
          "name": "stderr",
          "text": [
            "100%|██████████| 577/577 [07:03<00:00,  1.36it/s, Epoch=51, LR=1e-6, Train_Loss=0.961, accuracy=0.687, f1=0.623]\n",
            "100%|██████████| 73/73 [00:24<00:00,  2.97it/s, Epoch=51, LR=1e-6, Valid_Loss=0.0664, accuracy=0.997, f1=0.992]\n"
          ]
        },
        {
          "output_type": "stream",
          "name": "stdout",
          "text": [
            "Valid Loss : 0.06643219873921512\n",
            "Validation Loss improved( 0.0700818670097075 ---> 0.06643219873921512  )\n",
            "Model Saved\n"
          ]
        },
        {
          "output_type": "stream",
          "name": "stderr",
          "text": [
            "100%|██████████| 577/577 [07:04<00:00,  1.36it/s, Epoch=52, LR=1e-6, Train_Loss=0.948, accuracy=0.694, f1=0.632]\n",
            "100%|██████████| 73/73 [00:24<00:00,  2.97it/s, Epoch=52, LR=1e-6, Valid_Loss=0.103, accuracy=0.995, f1=0.988]\n"
          ]
        },
        {
          "output_type": "stream",
          "name": "stdout",
          "text": [
            "Valid Loss : 0.10285864336645767\n"
          ]
        },
        {
          "output_type": "stream",
          "name": "stderr",
          "text": [
            "100%|██████████| 577/577 [07:03<00:00,  1.36it/s, Epoch=53, LR=1e-6, Train_Loss=0.94, accuracy=0.708, f1=0.647]\n",
            "100%|██████████| 73/73 [00:24<00:00,  2.99it/s, Epoch=53, LR=1e-6, Valid_Loss=0.0614, accuracy=1, f1=1]\n"
          ]
        },
        {
          "output_type": "stream",
          "name": "stdout",
          "text": [
            "Valid Loss : 0.06137495329731131\n",
            "Validation Loss improved( 0.06643219873921512 ---> 0.06137495329731131  )\n",
            "Model Saved\n"
          ]
        },
        {
          "output_type": "stream",
          "name": "stderr",
          "text": [
            "100%|██████████| 577/577 [07:04<00:00,  1.36it/s, Epoch=54, LR=1e-6, Train_Loss=0.946, accuracy=0.69, f1=0.626]\n",
            "100%|██████████| 73/73 [00:24<00:00,  2.96it/s, Epoch=54, LR=1e-6, Valid_Loss=0.0799, accuracy=0.998, f1=0.996]\n"
          ]
        },
        {
          "output_type": "stream",
          "name": "stdout",
          "text": [
            "Valid Loss : 0.07989563445930611\n"
          ]
        },
        {
          "output_type": "stream",
          "name": "stderr",
          "text": [
            "100%|██████████| 577/577 [07:04<00:00,  1.36it/s, Epoch=55, LR=1e-6, Train_Loss=0.916, accuracy=0.705, f1=0.644]\n",
            "100%|██████████| 73/73 [00:24<00:00,  2.98it/s, Epoch=55, LR=1e-6, Valid_Loss=0.0575, accuracy=0.999, f1=0.997]\n"
          ]
        },
        {
          "output_type": "stream",
          "name": "stdout",
          "text": [
            "Valid Loss : 0.05752313489170924\n",
            "Validation Loss improved( 0.06137495329731131 ---> 0.05752313489170924  )\n",
            "Model Saved\n"
          ]
        },
        {
          "output_type": "stream",
          "name": "stderr",
          "text": [
            " 58%|█████▊    | 336/577 [04:08<02:57,  1.36it/s, Epoch=56, LR=1e-6, Train_Loss=0.93, accuracy=0.7, f1=0.639]"
          ]
        }
      ],
      "source": [
        "ic.disable()\n",
        "run_training(\n",
        "    model=model,\n",
        "    optimizer=optimizer,\n",
        "    # scheduler=torch.optim.lr_scheduler.CosineAnnealingLR(\n",
        "    #     optimizer=optimizer, T_max=CONFIG['T_max'], eta_min=CONFIG['min_lr']),\n",
        "    scheduler=None,\n",
        "    device=device,\n",
        "    num_epochs=400,\n",
        "    metric_prefix=\"\",\n",
        "    file_prefix=\"\",\n",
        "    early_stopping=CONFIG['early_stopping'],\n",
        "    early_stopping_step=CONFIG['early_stopping_step'],\n",
        "    START_EPOCH=17,\n",
        ");\n"
      ]
    }
  ],
  "metadata": {
    "accelerator": "GPU",
    "colab": {
      "collapsed_sections": [],
      "name": "lg_train_effnetv2_finecutmix.ipynb",
      "provenance": [],
      "toc_visible": true
    },
    "kernelspec": {
      "display_name": "Python 3",
      "language": "python",
      "name": "python3"
    },
    "language_info": {
      "codemirror_mode": {
        "name": "ipython",
        "version": 3
      },
      "file_extension": ".py",
      "mimetype": "text/x-python",
      "name": "python",
      "nbconvert_exporter": "python",
      "pygments_lexer": "ipython3",
      "version": "3.9.7"
    }
  },
  "nbformat": 4,
  "nbformat_minor": 0
}