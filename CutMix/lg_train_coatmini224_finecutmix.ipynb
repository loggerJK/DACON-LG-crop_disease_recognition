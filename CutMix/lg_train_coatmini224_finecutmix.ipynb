{
  "cells": [
    {
      "cell_type": "markdown",
      "metadata": {
        "id": "XQuUKAHnPGqb"
      },
      "source": [
        "# Library"
      ]
    },
    {
      "cell_type": "code",
      "execution_count": null,
      "metadata": {
        "execution": {
          "iopub.execute_input": "2022-01-15T10:25:01.795688Z",
          "iopub.status.busy": "2022-01-15T10:25:01.794986Z",
          "iopub.status.idle": "2022-01-15T10:25:13.001673Z",
          "shell.execute_reply": "2022-01-15T10:25:13.000732Z",
          "shell.execute_reply.started": "2022-01-15T10:25:01.795591Z"
        },
        "id": "EP8Uk0lzPGqi",
        "trusted": true,
        "colab": {
          "base_uri": "https://localhost:8080/"
        },
        "outputId": "d9a81bd4-6033-47fb-b396-398d9fb85e7d"
      },
      "outputs": [
        {
          "output_type": "stream",
          "name": "stdout",
          "text": [
            "\u001b[K     |████████████████████████████████| 1.7 MB 5.1 MB/s \n",
            "\u001b[K     |████████████████████████████████| 21.8 MB 96.8 MB/s \n",
            "\u001b[K     |████████████████████████████████| 102 kB 67.9 MB/s \n",
            "\u001b[K     |████████████████████████████████| 431 kB 71.5 MB/s \n",
            "\u001b[K     |████████████████████████████████| 143 kB 57.4 MB/s \n",
            "\u001b[K     |████████████████████████████████| 180 kB 49.3 MB/s \n",
            "\u001b[K     |████████████████████████████████| 97 kB 4.7 MB/s \n",
            "\u001b[K     |████████████████████████████████| 63 kB 958 kB/s \n",
            "\u001b[?25h  Building wheel for subprocess32 (setup.py) ... \u001b[?25l\u001b[?25hdone\n",
            "  Building wheel for pathtools (setup.py) ... \u001b[?25l\u001b[?25hdone\n"
          ]
        }
      ],
      "source": [
        "! pip install wandb opencv-python-headless==4.1.2.30 albumentations torch-summary timm==0.5.4 einops joblib icecream  -qq -U"
      ]
    },
    {
      "cell_type": "code",
      "execution_count": null,
      "metadata": {
        "execution": {
          "iopub.execute_input": "2022-01-15T10:25:13.004437Z",
          "iopub.status.busy": "2022-01-15T10:25:13.004166Z",
          "iopub.status.idle": "2022-01-15T10:25:17.843442Z",
          "shell.execute_reply": "2022-01-15T10:25:17.842685Z",
          "shell.execute_reply.started": "2022-01-15T10:25:13.004400Z"
        },
        "id": "V8YpfugSPGqk",
        "trusted": true
      },
      "outputs": [],
      "source": [
        "from sklearn.metrics import f1_score\n",
        "from glob import glob\n",
        "import pathlib\n",
        "from pathlib import Path\n",
        "from torchsummary import summary\n",
        "import torch\n",
        "import torch.nn as nn\n",
        "import torch.nn.functional as F\n",
        "from torch.utils.data import Dataset, DataLoader\n",
        "import pandas as pd\n",
        "from pprint import pprint\n",
        "import urllib.request\n",
        "import csv\n",
        "import numpy as np\n",
        "from einops import rearrange, reduce, repeat\n",
        "from torch.cuda import amp\n",
        "from tqdm import tqdm\n",
        "import wandb\n",
        "import time\n",
        "import copy\n",
        "from collections import defaultdict\n",
        "from sklearn.metrics import mean_squared_error\n",
        "import joblib\n",
        "import gc\n",
        "import os\n",
        "from icecream import ic\n",
        "from sklearn.model_selection import train_test_split\n",
        "import gc\n",
        "import cv2\n",
        "import copy\n",
        "import time\n",
        "import random\n",
        "from PIL import Image\n",
        "\n",
        "# For data manipulation\n",
        "import numpy as np\n",
        "import pandas as pd\n",
        "\n",
        "# Pytorch Imports\n",
        "import torch\n",
        "import torch.nn as nn\n",
        "import torch.optim as optim\n",
        "from torch.optim import lr_scheduler\n",
        "from torch.utils.data import Dataset, DataLoader\n",
        "from torch.cuda import amp\n",
        "\n",
        "# Utils\n",
        "import joblib\n",
        "from tqdm import tqdm\n",
        "from collections import defaultdict\n",
        "\n",
        "# Sklearn Imports\n",
        "from sklearn.metrics import mean_squared_error\n",
        "from sklearn.model_selection import StratifiedKFold, KFold\n",
        "\n",
        "import timm\n",
        "\n",
        "import json\n",
        "\n",
        "# Albumentations for augmentations\n",
        "import albumentations as A\n",
        "from albumentations.pytorch import ToTensorV2\n",
        "\n",
        "# For colored terminal text\n",
        "from colorama import Fore, Back, Style\n",
        "c_ = Fore.CYAN\n",
        "sr_ = Style.RESET_ALL\n",
        "\n",
        "import warnings\n",
        "warnings.filterwarnings(\"ignore\")\n",
        "\n",
        "# For descriptive error messages\n",
        "os.environ['CUDA_LAUNCH_BLOCKING'] = \"1\"\n",
        "\n",
        "\n",
        "from sklearn.metrics import f1_score"
      ]
    },
    {
      "cell_type": "markdown",
      "metadata": {
        "id": "EVCBodi-PGql"
      },
      "source": [
        "# ENV"
      ]
    },
    {
      "cell_type": "code",
      "execution_count": null,
      "metadata": {
        "execution": {
          "iopub.execute_input": "2022-01-15T10:25:17.845495Z",
          "iopub.status.busy": "2022-01-15T10:25:17.845230Z",
          "iopub.status.idle": "2022-01-15T10:25:17.893347Z",
          "shell.execute_reply": "2022-01-15T10:25:17.892018Z",
          "shell.execute_reply.started": "2022-01-15T10:25:17.845458Z"
        },
        "id": "fbOZOG8UPGqm",
        "trusted": true
      },
      "outputs": [],
      "source": [
        "\n",
        "# ENV = 'COLAB'\n",
        "ENV = 'KAGGLE'\n",
        "# ENV = 'SYSTEM'\n",
        "\n",
        "# Option for Mixed Precision\n",
        "# FP16 = True\n",
        "FP16 = False\n",
        "\n",
        "\n",
        "CONFIG = dict(\n",
        "    nickname = 'CoAtNet mini finecutmix',\n",
        "    seed=42,\n",
        "    backbone='coat_mini',\n",
        "    embedder=None,\n",
        "    train_batch_size=16,\n",
        "    valid_batch_size=16,\n",
        "    img_size=224,\n",
        "    num_epochs=50,\n",
        "    early_stopping = False,\n",
        "    early_stopping_step = 5,\n",
        "    learning_rate=1e-4,\n",
        "    scheduler='CosineAnnealingLR',\n",
        "    min_lr=1e-6,\n",
        "    T_max=100,\n",
        "    num_classes = 25,\n",
        "    weight_decay=1e-6,\n",
        "    device=torch.device(\"cuda:0\" if torch.cuda.is_available() else \"cpu\"),\n",
        "    competition='lg',\n",
        "    _wandb_kernel='deb'\n",
        ")\n",
        "\n",
        "\n",
        "device = torch.device(\"cuda\" if torch.cuda.is_available() else \"cpu\")\n"
      ]
    },
    {
      "cell_type": "markdown",
      "metadata": {
        "id": "M6BJH0gaPGqn"
      },
      "source": [
        "# SET SEED "
      ]
    },
    {
      "cell_type": "code",
      "execution_count": null,
      "metadata": {
        "execution": {
          "iopub.execute_input": "2022-01-15T10:25:17.896790Z",
          "iopub.status.busy": "2022-01-15T10:25:17.896189Z",
          "iopub.status.idle": "2022-01-15T10:25:17.909599Z",
          "shell.execute_reply": "2022-01-15T10:25:17.908786Z",
          "shell.execute_reply.started": "2022-01-15T10:25:17.896748Z"
        },
        "id": "Vj7acIAIPGqn",
        "trusted": true
      },
      "outputs": [],
      "source": [
        "def set_seed(seed=42):\n",
        "    '''Sets the seed of the entire notebook so results are the same every time we run.\n",
        "    This is for REPRODUCIBILITY.'''\n",
        "    np.random.seed(seed)\n",
        "    random.seed(seed)\n",
        "    torch.manual_seed(seed)\n",
        "    torch.cuda.manual_seed(seed)\n",
        "    # When running on the CuDNN backend, two further options must be set\n",
        "    torch.backends.cudnn.deterministic = True\n",
        "    torch.backends.cudnn.benchmark = False\n",
        "    # Set a fixed value for the hash seed\n",
        "    os.environ['PYTHONHASHSEED'] = str(seed)\n",
        "\n",
        "\n",
        "set_seed(CONFIG['seed'])\n"
      ]
    },
    {
      "cell_type": "markdown",
      "metadata": {
        "id": "0KA00McmPGqo"
      },
      "source": [
        "# Read the Data\n"
      ]
    },
    {
      "cell_type": "code",
      "execution_count": null,
      "metadata": {
        "colab": {
          "base_uri": "https://localhost:8080/",
          "height": 90
        },
        "execution": {
          "iopub.execute_input": "2022-01-15T10:25:17.911360Z",
          "iopub.status.busy": "2022-01-15T10:25:17.910859Z",
          "iopub.status.idle": "2022-01-15T10:28:30.802857Z",
          "shell.execute_reply": "2022-01-15T10:28:30.801968Z",
          "shell.execute_reply.started": "2022-01-15T10:25:17.911319Z"
        },
        "id": "jKC4FDfyPGqp",
        "outputId": "c57176fb-5e1c-4273-8045-ec060c755ea0",
        "trusted": true
      },
      "outputs": [
        {
          "output_type": "display_data",
          "data": {
            "application/javascript": [
              "\n",
              "        window._wandbApiKey = new Promise((resolve, reject) => {\n",
              "            function loadScript(url) {\n",
              "            return new Promise(function(resolve, reject) {\n",
              "                let newScript = document.createElement(\"script\");\n",
              "                newScript.onerror = reject;\n",
              "                newScript.onload = resolve;\n",
              "                document.body.appendChild(newScript);\n",
              "                newScript.src = url;\n",
              "            });\n",
              "            }\n",
              "            loadScript(\"https://cdn.jsdelivr.net/npm/postmate/build/postmate.min.js\").then(() => {\n",
              "            const iframe = document.createElement('iframe')\n",
              "            iframe.style.cssText = \"width:0;height:0;border:none\"\n",
              "            document.body.appendChild(iframe)\n",
              "            const handshake = new Postmate({\n",
              "                container: iframe,\n",
              "                url: 'https://wandb.ai/authorize'\n",
              "            });\n",
              "            const timeout = setTimeout(() => reject(\"Couldn't auto authenticate\"), 5000)\n",
              "            handshake.then(function(child) {\n",
              "                child.on('authorize', data => {\n",
              "                    clearTimeout(timeout)\n",
              "                    resolve(data)\n",
              "                });\n",
              "            });\n",
              "            })\n",
              "        });\n",
              "    "
            ],
            "text/plain": [
              "<IPython.core.display.Javascript object>"
            ]
          },
          "metadata": {}
        },
        {
          "output_type": "stream",
          "name": "stderr",
          "text": [
            "\u001b[34m\u001b[1mwandb\u001b[0m: Appending key for api.wandb.ai to your netrc file: /root/.netrc\n"
          ]
        },
        {
          "output_type": "display_data",
          "data": {
            "text/html": [
              "\n",
              "                    Resuming run <strong><a href=\"https://wandb.ai/jiwon7258/lg/runs/zwfbinnt\" target=\"_blank\">CoAtNet mini finecutmix</a></strong> to <a href=\"https://wandb.ai/jiwon7258/lg\" target=\"_blank\">Weights & Biases</a> (<a href=\"https://docs.wandb.com/integrations/jupyter.html\" target=\"_blank\">docs</a>).<br/>\n",
              "\n",
              "                "
            ],
            "text/plain": [
              "<IPython.core.display.HTML object>"
            ]
          },
          "metadata": {}
        },
        {
          "output_type": "stream",
          "name": "stderr",
          "text": [
            "\u001b[34m\u001b[1mwandb\u001b[0m: Downloading large artifact lg_train:v0, 918.24MB. 17301 files... Done. 0:0:0\n"
          ]
        }
      ],
      "source": [
        "import wandb\n",
        "run = wandb.init(project=\"lg\", entity=\"jiwon7258\",\n",
        "                 config=CONFIG, job_type='train', \n",
        "                 id = 'zwfbinnt',\n",
        "                 resume='must',\n",
        "                 )\n",
        "dataset = wandb.run.use_artifact(\n",
        "    'jiwon7258/lg/lg_train:v0', type='dataset')\n",
        "\n",
        "run.name = CONFIG['nickname']\n",
        "\n",
        "# Download the artifact's contents\n",
        "dataset_dir = dataset.download()\n",
        "dataset_dir = Path(dataset_dir)\n"
      ]
    },
    {
      "cell_type": "code",
      "execution_count": null,
      "metadata": {
        "execution": {
          "iopub.execute_input": "2022-01-15T10:28:30.804754Z",
          "iopub.status.busy": "2022-01-15T10:28:30.804383Z",
          "iopub.status.idle": "2022-01-15T10:28:30.809944Z",
          "shell.execute_reply": "2022-01-15T10:28:30.809259Z",
          "shell.execute_reply.started": "2022-01-15T10:28:30.804698Z"
        },
        "id": "ca-5DetEPGqq",
        "trusted": true
      },
      "outputs": [],
      "source": [
        "TRAIN_PATH = dataset_dir\n",
        "# TEST_PATH = dataset_dir / 'test'"
      ]
    },
    {
      "cell_type": "markdown",
      "metadata": {
        "id": "n-8x5P--PGqr"
      },
      "source": [
        "# Augmentations"
      ]
    },
    {
      "cell_type": "code",
      "execution_count": null,
      "metadata": {
        "execution": {
          "iopub.execute_input": "2022-01-15T10:28:30.813928Z",
          "iopub.status.busy": "2022-01-15T10:28:30.811190Z",
          "iopub.status.idle": "2022-01-15T10:28:30.822155Z",
          "shell.execute_reply": "2022-01-15T10:28:30.821435Z",
          "shell.execute_reply.started": "2022-01-15T10:28:30.813872Z"
        },
        "id": "Qetw9jGjPGqr",
        "trusted": true
      },
      "outputs": [],
      "source": [
        "data_transforms = {\n",
        "    \"train\": A.Compose([\n",
        "        A.Resize(CONFIG['img_size'], CONFIG['img_size']),\n",
        "        A.ShiftScaleRotate(shift_limit=0.1, scale_limit=0.1,\n",
        "                           rotate_limit=90, p=0.5),\n",
        "        A.RGBShift(r_shift_limit=15, g_shift_limit=15,\n",
        "                   b_shift_limit=15, p=0.5),\n",
        "        A.RandomBrightnessContrast(p=0.5),\n",
        "        A.HorizontalFlip(p=0.5),\n",
        "        A.VerticalFlip(p=0.5),\n",
        "        A.Normalize(),\n",
        "        ToTensorV2()], p=1.),\n",
        "\n",
        "    \"valid\": A.Compose([\n",
        "        A.Resize(CONFIG['img_size'], CONFIG['img_size']),\n",
        "        A.Normalize(),\n",
        "        ToTensorV2()], p=1.)\n",
        "}\n"
      ]
    },
    {
      "cell_type": "markdown",
      "metadata": {
        "id": "lF_SM2DGPGqs"
      },
      "source": [
        "# Dataset"
      ]
    },
    {
      "cell_type": "code",
      "execution_count": null,
      "metadata": {
        "execution": {
          "iopub.execute_input": "2022-01-15T10:28:30.825534Z",
          "iopub.status.busy": "2022-01-15T10:28:30.824486Z",
          "iopub.status.idle": "2022-01-15T10:28:31.525603Z",
          "shell.execute_reply": "2022-01-15T10:28:31.524866Z",
          "shell.execute_reply.started": "2022-01-15T10:28:30.825498Z"
        },
        "id": "XW2BnvG6PGqs",
        "trusted": true
      },
      "outputs": [],
      "source": [
        "train_csv = sorted(glob(str(TRAIN_PATH / '*/*.csv')))\n",
        "train_jpg = sorted(glob(str(TRAIN_PATH / '*/*.jpg')))\n",
        "train_json = sorted(glob(str(TRAIN_PATH / '*/*.json')))\n",
        "\n",
        "\n",
        "crops = []\n",
        "diseases = []\n",
        "risks = []\n",
        "labels = []\n",
        "\n",
        "for i in range(len(train_json)):\n",
        "    with open(train_json[i], 'r') as f:\n",
        "        sample = json.load(f)\n",
        "        crop = sample['annotations']['crop']\n",
        "        disease = sample['annotations']['disease']\n",
        "        risk = sample['annotations']['risk']\n",
        "        label=f\"{crop}_{disease}_{risk}\"\n",
        "    \n",
        "        crops.append(crop)\n",
        "        diseases.append(disease)\n",
        "        risks.append(risk)\n",
        "        labels.append(label)\n",
        "        \n",
        "label_unique = sorted(np.unique(labels))\n",
        "label_unique = {key:value for key,value in zip(label_unique, range(len(label_unique)))}\n",
        "\n",
        "train_labels = [label_unique[k] for k in labels] # len = train_len"
      ]
    },
    {
      "cell_type": "code",
      "execution_count": null,
      "metadata": {
        "id": "AIQNMAQ_PGqt"
      },
      "outputs": [],
      "source": [
        "train_jpg = np.array(train_jpg)\n",
        "train_labels = np.array(train_labels)"
      ]
    },
    {
      "cell_type": "code",
      "execution_count": null,
      "metadata": {
        "execution": {
          "iopub.execute_input": "2022-01-15T10:28:31.562715Z",
          "iopub.status.busy": "2022-01-15T10:28:31.562438Z",
          "iopub.status.idle": "2022-01-15T10:28:31.587681Z",
          "shell.execute_reply": "2022-01-15T10:28:31.586382Z",
          "shell.execute_reply.started": "2022-01-15T10:28:31.562681Z"
        },
        "id": "40-6mAVePGqt",
        "trusted": true
      },
      "outputs": [],
      "source": [
        "class CustomDataset(Dataset):\n",
        "    def __init__(self, train_img, train_label, transforms=None):\n",
        "        self.imgs = train_img\n",
        "        self.labels = train_label\n",
        "        self.transforms = transforms\n",
        "        \n",
        "    def __len__(self):\n",
        "        return len(self.imgs)\n",
        "    \n",
        "    def __getitem__(self, index):\n",
        "        img_path = self.imgs[index]\n",
        "        img = cv2.imread(img_path)\n",
        "        img = cv2.cvtColor(img, cv2.COLOR_BGR2RGB)\n",
        "        target = self.labels[index]\n",
        "        \n",
        "        if self.transforms:\n",
        "            img = self.transforms(image=img)[\"image\"]\n",
        "            \n",
        "        return img, target\n",
        "    \n",
        "# trainDataset = CustomDataset(X_train, y_train, transforms = data_transforms['train'])\n",
        "# trainDataloader = DataLoader(\n",
        "#     trainDataset, batch_size=CONFIG['train_batch_size'], shuffle=True)\n",
        "\n",
        "# validDataset = CustomDataset(X_val, y_val, transforms = data_transforms['valid'])\n",
        "# validDataloader = DataLoader(validDataset, batch_size = CONFIG['valid_batch_size'], shuffle = True)"
      ]
    },
    {
      "cell_type": "code",
      "execution_count": null,
      "metadata": {
        "id": "TucH1uf_PGqu"
      },
      "outputs": [],
      "source": [
        "from sklearn.model_selection import StratifiedKFold\n",
        "train_datasets = []\n",
        "valid_datasets = []\n",
        "train_dataloaders = []\n",
        "valid_dataloaders = []\n",
        "\n",
        "skf = StratifiedKFold(n_splits = 5)\n",
        "\n",
        "for step, (train_index, val_index) in enumerate(skf.split(X = train_jpg, y= train_labels)):\n",
        "    X_train = train_jpg[train_index]\n",
        "    y_train = train_labels[train_index]\n",
        "    X_val = train_jpg[val_index]\n",
        "    y_val = train_labels[val_index]\n",
        "    train_datasets.append(CustomDataset(\n",
        "        X_train, y_train, transforms=data_transforms['train']))\n",
        "    valid_datasets.append(CustomDataset(\n",
        "        X_val, y_val, transforms=data_transforms['valid']))\n",
        "    train_dataloaders.append(DataLoader(\n",
        "        train_datasets[step], batch_size=CONFIG['train_batch_size'], shuffle=True)\n",
        "    )\n",
        "    valid_dataloaders.append(\n",
        "        DataLoader(\n",
        "            valid_datasets[step], batch_size=CONFIG['valid_batch_size'], shuffle=True)\n",
        "    )\n"
      ]
    },
    {
      "cell_type": "markdown",
      "metadata": {
        "id": "qquyNic-PGqu"
      },
      "source": [
        "# Model"
      ]
    },
    {
      "cell_type": "code",
      "execution_count": null,
      "metadata": {
        "colab": {
          "base_uri": "https://localhost:8080/",
          "height": 75
        },
        "execution": {
          "iopub.execute_input": "2022-01-15T10:28:31.595710Z",
          "iopub.status.busy": "2022-01-15T10:28:31.592703Z",
          "iopub.status.idle": "2022-01-15T10:29:04.375344Z",
          "shell.execute_reply": "2022-01-15T10:29:04.374595Z",
          "shell.execute_reply.started": "2022-01-15T10:28:31.595662Z"
        },
        "id": "EeRw9VshPGqv",
        "outputId": "fce75d80-789e-4e5e-9e2b-49521f9824a6",
        "trusted": true
      },
      "outputs": [
        {
          "output_type": "stream",
          "name": "stderr",
          "text": [
            "Downloading: \"https://github.com/rwightman/pytorch-image-models/releases/download/v0.1-coat-weights/coat_mini-2c6baf49.pth\" to /root/.cache/torch/hub/checkpoints/coat_mini-2c6baf49.pth\n"
          ]
        },
        {
          "output_type": "execute_result",
          "data": {
            "application/vnd.google.colaboratory.intrinsic+json": {
              "type": "string"
            },
            "text/plain": [
              "''"
            ]
          },
          "metadata": {},
          "execution_count": 12
        }
      ],
      "source": [
        "class Model(nn.Module):\n",
        "    def __init__(self, backbone, embedder, pretrained=True):\n",
        "        super(Model, self).__init__()\n",
        "        self.backbone = timm.create_model(backbone, pretrained=pretrained)\n",
        "        self.backbone.reset_classifier(0)\n",
        "        self.n_features = self.backbone.num_features\n",
        "        self.fc = nn.Linear(self.n_features, CONFIG['num_classes'])\n",
        "\n",
        "    def forward(self, images):\n",
        "        # features = (bs, embedding_size)\n",
        "        features = self.backbone(images)\n",
        "        # outputs  = (bs, num_classes)\n",
        "        # if isinstance(features, tuple):\n",
        "        #   features = features[0]\n",
        "        output = self.fc(features)\n",
        "        return output\n",
        "\n",
        "\n",
        "model = Model(CONFIG['backbone'], CONFIG['embedder'], pretrained = True)\n",
        "model.to(CONFIG['device'])\n",
        ";"
      ]
    },
    {
      "cell_type": "code",
      "execution_count": null,
      "metadata": {
        "execution": {
          "iopub.execute_input": "2022-01-15T10:29:04.376696Z",
          "iopub.status.busy": "2022-01-15T10:29:04.376445Z",
          "iopub.status.idle": "2022-01-15T10:29:04.383964Z",
          "shell.execute_reply": "2022-01-15T10:29:04.383287Z",
          "shell.execute_reply.started": "2022-01-15T10:29:04.376660Z"
        },
        "id": "5yml5ZPPPGqv",
        "trusted": true
      },
      "outputs": [],
      "source": [
        "optimizer = torch.optim.Adam(\n",
        "    params=model.parameters(), lr=CONFIG['learning_rate'], weight_decay=CONFIG['weight_decay'])\n"
      ]
    },
    {
      "cell_type": "code",
      "execution_count": null,
      "metadata": {
        "execution": {
          "iopub.execute_input": "2022-01-15T10:29:04.385682Z",
          "iopub.status.busy": "2022-01-15T10:29:04.385257Z",
          "iopub.status.idle": "2022-01-15T10:29:05.537793Z",
          "shell.execute_reply": "2022-01-15T10:29:05.536741Z",
          "shell.execute_reply.started": "2022-01-15T10:29:04.385649Z"
        },
        "id": "iIKSttnGPGqv",
        "trusted": true
      },
      "outputs": [],
      "source": [
        "def criterion(logits: torch.tensor, targets: torch.tensor):\n",
        "    return nn.CrossEntropyLoss()(logits.view(-1,CONFIG['num_classes']), targets.view(-1))"
      ]
    },
    {
      "cell_type": "markdown",
      "metadata": {
        "id": "qTs2ScAII8B_"
      },
      "source": [
        "# CutMix"
      ]
    },
    {
      "cell_type": "code",
      "execution_count": null,
      "metadata": {
        "id": "l8XzN0C2UfvH"
      },
      "outputs": [],
      "source": [
        "def cutmix(img, target):\n",
        "    \"\"\" \n",
        "    img : (bs, C, H, W)\n",
        "    target\n",
        "        - (bs,)\n",
        "        - integer scalar\n",
        "    \"\"\"\n",
        "    batch_size, C, H, W, = img.shape\n",
        "    # ic(img.shape)\n",
        "\n",
        "    img_a = img\n",
        "    target_a = target\n",
        "    img_b = img\n",
        "    target_b = target\n",
        "\n",
        "    mask = np.arange(batch_size)\n",
        "    mask = np.random.permutation(mask)\n",
        "    # ic(mask)\n",
        "    img_b = img_a[mask]\n",
        "    target_b = target_a[mask]\n",
        "    # ic(target, target_b)\n",
        "\n",
        "    lam = np.random.uniform(low=0.3, high=0.7)\n",
        "    r_x = np.random.uniform(low=0, high=W)\n",
        "    r_y = np.random.uniform(low=0, high=H)\n",
        "    r_w = W * np.sqrt(1 - lam)\n",
        "    r_h = H * np.sqrt(1 - lam)\n",
        "    ic(lam, r_x, r_y, r_w, r_h)\n",
        "    x1 = np.int(np.clip((r_x - r_w) / 2, 0, W))\n",
        "    x2 = np.int(np.clip((r_x + r_w) / 2, 0, W))\n",
        "    y1 = np.int(np.clip((r_y - r_h) / 2, 0, H))\n",
        "    y2 = np.int(np.clip((r_y + r_h) / 2, 0, H))\n",
        "    ic(x1, x2, y1, y2)\n",
        "\n",
        "    img_a[:, :, y1:y2, x1:x2] = img_b[:, :, y1:y2, x1:x2]\n",
        "\n",
        "    # Adjust lambda to exact ratio\n",
        "\n",
        "    lam = 1 - (x2 - x1) * (y2 - y1) / float(W * H)\n",
        "\n",
        "    return img_a, target_b, lam\n"
      ]
    },
    {
      "cell_type": "markdown",
      "metadata": {
        "id": "cTfsj-Y17H0C"
      },
      "source": [
        "   # Training Function"
      ]
    },
    {
      "cell_type": "code",
      "execution_count": null,
      "metadata": {
        "execution": {
          "iopub.execute_input": "2022-01-15T10:33:47.356814Z",
          "iopub.status.busy": "2022-01-15T10:33:47.356540Z",
          "iopub.status.idle": "2022-01-15T10:33:47.375626Z",
          "shell.execute_reply": "2022-01-15T10:33:47.373734Z",
          "shell.execute_reply.started": "2022-01-15T10:33:47.356781Z"
        },
        "id": "iCswmFhy7H0D",
        "trusted": true
      },
      "outputs": [],
      "source": [
        "class AverageMeter(object):\n",
        "    \"\"\"Computes and stores the average and current value\"\"\"\n",
        "\n",
        "    def __init__(self):\n",
        "        self.reset()\n",
        "\n",
        "    def reset(self):\n",
        "        self.val = 0\n",
        "        self.avg = 0\n",
        "        self.sum = 0\n",
        "        self.count = 0\n",
        "\n",
        "    def update(self, val, n=1):\n",
        "        self.val = val\n",
        "        self.sum += val * n\n",
        "        self.count += n\n",
        "        self.avg = self.sum / self.count\n",
        "\n",
        "\n",
        "def train_one_epoch(model, optimizer, scheduler, dataloader, device, epoch):\n",
        "    # train 모드로 변경\n",
        "    model.train()\n",
        "\n",
        "    # for the Mixed Precision\n",
        "    # Pytorch 예제 : https://pytorch.org/docs/stable/notes/amp_examples.html#amp-examples\n",
        "    if(FP16):\n",
        "        scaler = amp.GradScaler()\n",
        "\n",
        "    losses = AverageMeter()\n",
        "    accuracy = AverageMeter()\n",
        "    f1 = AverageMeter()\n",
        "\n",
        "    bar = tqdm(enumerate(dataloader), total=len(dataloader))\n",
        "\n",
        "    for step, (img, target) in bar:\n",
        "        img, target_b, lam = cutmix(img, target)\n",
        "\n",
        "        img = img.to(device)\n",
        "        target = target.to(device)\n",
        "        target_b = target_b.to(device)\n",
        "\n",
        "        batch_size = img.shape[0]\n",
        "\n",
        "        if(FP16):\n",
        "            with amp.autocast(enabled=True):\n",
        "                logits = model(img)\n",
        "                loss = criterion(logits, target) * lam + \\\n",
        "                    criterion(logits, target_b) * (1-lam)\n",
        "\n",
        "                # loss를 Scale\n",
        "                # Scaled Grdients를 계산(call)하기 위해 scaled loss를 backward()\n",
        "                scaler.scale(loss).backward()\n",
        "                # scaler.step() first unscales the gradients of the optimizer's assigned params.\n",
        "                # If these gradients do not contain infs or NaNs, optimizer.step() is then called,\n",
        "                # otherwise, optimizer.step() is skipped.\n",
        "                scaler.step(optimizer)\n",
        "\n",
        "                # Updates the scale for next iteration.\n",
        "                scaler.update()\n",
        "\n",
        "        else:\n",
        "            logits = model(img)\n",
        "            loss = criterion(logits, target) * lam + \\\n",
        "                criterion(logits, target_b) * (1-lam)\n",
        "\n",
        "            loss.backward()\n",
        "            torch.nn.utils.clip_grad_norm_(model.parameters(), 1)\n",
        "            optimizer.step()\n",
        "\n",
        "        # zero the parameter gradients\n",
        "        optimizer.zero_grad()\n",
        "\n",
        "        # change learning rate by Scheduler\n",
        "        if scheduler is not None:\n",
        "            scheduler.step()\n",
        "\n",
        "        # loss.item()은 loss를 Python Float으로 반환\n",
        "        losses.update(loss.item())\n",
        "\n",
        "        # logits\n",
        "        logits = logits.detach().cpu()\n",
        "\n",
        "        # acc, f1\n",
        "        probs = torch.softmax(logits, dim = -1)\n",
        "        output = np.argmax(probs, axis=-1)\n",
        "        output_b = np.argsort(probs)[:,-2]\n",
        "        if (lam >= 0.5):\n",
        "            step_acc = np.mean(\n",
        "                output.view(-1).numpy() == target.view(-1).detach().cpu().numpy())\n",
        "            step_f1 = f1_score(output.view(-1).numpy(),\n",
        "                               target.view(-1).detach().cpu().numpy(), average='macro')\n",
        "            step_acc_b = np.mean(\n",
        "                output_b.view(-1).numpy() == target_b.view(-1).detach().cpu().numpy())\n",
        "            step_f1_b = f1_score(output_b.view(-1).numpy(),\n",
        "                                 target_b.view(-1).detach().cpu().numpy(), average='macro')\n",
        "        else:\n",
        "            step_acc = np.mean(\n",
        "                output.view(-1).numpy() == target_b.view(-1).detach().cpu().numpy())\n",
        "            step_f1 = f1_score(output.view(-1).numpy(),\n",
        "                               target_b.view(-1).detach().cpu().numpy(), average='macro')\n",
        "            step_acc_b = np.mean(\n",
        "                output_b.view(-1).numpy() == target.view(-1).detach().cpu().numpy())\n",
        "            step_f1_b = f1_score(output_b.view(-1).numpy(),\n",
        "                                 target.view(-1).detach().cpu().numpy(), average='macro')\n",
        "\n",
        "                                 \n",
        "        step_acc = step_acc * lam + step_acc_b * (1-lam)\n",
        "        step_f1 = step_f1 * lam + step_f1_b * (1-lam)\n",
        "\n",
        "        accuracy.update(step_acc)\n",
        "        f1.update(step_f1)\n",
        "\n",
        "        # loss\n",
        "        train_loss = losses.avg\n",
        "        train_acc = accuracy.avg\n",
        "        train_f1 = f1.avg\n",
        "\n",
        "        bar.set_postfix(\n",
        "            Epoch=epoch, Train_Loss=train_loss, LR=optimizer.param_groups[\n",
        "                0][\"lr\"], accuracy=train_acc, f1=train_f1\n",
        "        )\n",
        "\n",
        "    # Garbage Collector\n",
        "    gc.collect()\n",
        "\n",
        "    return losses.avg, accuracy.avg, f1.avg\n"
      ]
    },
    {
      "cell_type": "markdown",
      "metadata": {
        "id": "C5PB19nv7H0D"
      },
      "source": [
        "   # Validation Function"
      ]
    },
    {
      "cell_type": "code",
      "execution_count": null,
      "metadata": {
        "execution": {
          "iopub.execute_input": "2022-01-15T10:33:47.378229Z",
          "iopub.status.busy": "2022-01-15T10:33:47.377682Z",
          "iopub.status.idle": "2022-01-15T10:33:47.393570Z",
          "shell.execute_reply": "2022-01-15T10:33:47.392783Z",
          "shell.execute_reply.started": "2022-01-15T10:33:47.378191Z"
        },
        "id": "aJRJrmiG7H0E",
        "trusted": true
      },
      "outputs": [],
      "source": [
        "@torch.no_grad()\n",
        "def valid_one_epoch(model, dataloader, device, epoch):\n",
        "    model.eval()\n",
        "\n",
        "    losses = AverageMeter()\n",
        "    accuracy = AverageMeter()\n",
        "    f1 = AverageMeter()\n",
        "\n",
        "    bar = tqdm(enumerate(dataloader), total=len(dataloader))\n",
        "\n",
        "    for step, (img, target) in bar:\n",
        "        img = img.to(device)\n",
        "        target = target.to(device)\n",
        "\n",
        "        batch_size = img.shape[0]\n",
        "\n",
        "        logits = model(img)\n",
        "        loss = criterion(logits, target)\n",
        "\n",
        "        # loss.item()은 loss를 Python Float으로 반환\n",
        "        losses.update(loss.item())\n",
        "\n",
        "        # logits\n",
        "        logits = logits.detach().cpu()\n",
        "\n",
        "        output = np.argmax(torch.softmax(logits, dim=-1), axis=-1)\n",
        "        step_acc = np.mean(\n",
        "            output.view(-1).numpy() == target.view(-1).detach().cpu().numpy())\n",
        "        step_f1 = f1_score(output.view(-1).numpy(),\n",
        "                           target.view(-1).detach().cpu().numpy(), average='macro')\n",
        "\n",
        "        accuracy.update(step_acc)\n",
        "        f1.update(step_f1)\n",
        "\n",
        "        # loss\n",
        "        val_loss = losses.avg\n",
        "        val_acc = accuracy.avg\n",
        "        val_f1 = f1.avg\n",
        "\n",
        "        bar.set_postfix(\n",
        "            Epoch=epoch, Valid_Loss=val_loss, LR=optimizer.param_groups[\n",
        "                0][\"lr\"], accuracy=val_acc, f1=val_f1\n",
        "        )\n",
        "\n",
        "    gc.collect()\n",
        "\n",
        "    return losses.avg, accuracy.avg, f1.avg\n"
      ]
    },
    {
      "cell_type": "code",
      "execution_count": null,
      "metadata": {
        "execution": {
          "iopub.execute_input": "2022-01-15T10:33:47.395930Z",
          "iopub.status.busy": "2022-01-15T10:33:47.395337Z",
          "iopub.status.idle": "2022-01-15T10:33:47.415192Z",
          "shell.execute_reply": "2022-01-15T10:33:47.414280Z",
          "shell.execute_reply.started": "2022-01-15T10:33:47.395894Z"
        },
        "id": "kZfD8q3s7H0E",
        "trusted": true
      },
      "outputs": [],
      "source": [
        "\n",
        "def run_training(\n",
        "    model,\n",
        "    optimizer,\n",
        "    scheduler,\n",
        "    device,\n",
        "    num_epochs,\n",
        "    metric_prefix=\"\",\n",
        "    file_prefix=\"\",\n",
        "    early_stopping=True,\n",
        "    early_stopping_step=10,\n",
        "    START_EPOCH = 0,\n",
        "):\n",
        "    # To automatically log graidents\n",
        "    wandb.watch(model, log_freq=100)\n",
        "\n",
        "    if torch.cuda.is_available():\n",
        "        print(\"[INFO] Using GPU:{}\\n\".format(torch.cuda.get_device_name()))\n",
        "\n",
        "    start = time.time()\n",
        "    best_model_wts = copy.deepcopy(model.state_dict())\n",
        "    best_loss = np.inf\n",
        "    history = defaultdict(list)\n",
        "    early_stop_counter = 0\n",
        "\n",
        "    # num_epochs만큼, train과 val을 실행한다\n",
        "    for epoch in range(START_EPOCH, START_EPOCH + num_epochs):\n",
        "        gc.collect()\n",
        "\n",
        "        fold_num = 5\n",
        "        fold = epoch % fold_num\n",
        "\n",
        "        # for fold in range(fold_num) :\n",
        "\n",
        "        trainDataloader = train_dataloaders[fold]\n",
        "        validDataloader = valid_dataloaders[fold]\n",
        "\n",
        "        train_train_loss, train_accuracy, train_f1 = train_one_epoch(\n",
        "            model,\n",
        "            optimizer,\n",
        "            scheduler,\n",
        "            dataloader=trainDataloader,\n",
        "            device=device,\n",
        "            epoch=epoch,\n",
        "        )\n",
        "\n",
        "        val_loss, val_accuracy, val_f1 = valid_one_epoch(\n",
        "            model, validDataloader, device=device, epoch=epoch\n",
        "        )\n",
        "\n",
        "\n",
        "        history[f\"{metric_prefix}Train Loss\"].append(train_train_loss)\n",
        "        history[f\"{metric_prefix}Train Accuracy\"].append(train_accuracy)\n",
        "        history[f\"{metric_prefix}Train F1\"].append(train_f1)\n",
        "        history[f\"{metric_prefix}Valid Loss\"].append(val_loss)\n",
        "        history[f\"{metric_prefix}Valid Accuracy\"].append(val_accuracy)\n",
        "        history[f\"{metric_prefix}Valid F1\"].append(val_f1)\n",
        "\n",
        "        # Log the metrics\n",
        "        wandb.log(\n",
        "            {\n",
        "                f\"{metric_prefix}Train Loss\": train_train_loss,\n",
        "                f\"{metric_prefix}Valid Loss\": val_loss,\n",
        "                f\"{metric_prefix}Train Accuracy\": train_accuracy,\n",
        "                f\"{metric_prefix}Valid Accuracy\": val_accuracy,\n",
        "                f\"{metric_prefix}Train F1\": train_f1,\n",
        "                f\"{metric_prefix}Valid F1\": val_f1,\n",
        "            }\n",
        "        )\n",
        "\n",
        "        print(f\"Valid Loss : {val_loss}\")\n",
        "\n",
        "        torch.save(model.state_dict(), f'{CONFIG[\"nickname\"]}last.bin')\n",
        "        wandb.save(f'{CONFIG[\"nickname\"]}last.bin')\n",
        "\n",
        "        # deep copy the model\n",
        "        if val_loss <= best_loss:\n",
        "            early_stop_counter = 0\n",
        "\n",
        "            print(\n",
        "                f\"Validation Loss improved( {best_loss} ---> {val_loss}  )\"\n",
        "            )\n",
        "\n",
        "            # Update Best Loss\n",
        "            best_loss = val_loss\n",
        "\n",
        "            # Update Best Model Weight\n",
        "            # run.summary['Best RMSE'] = best_loss\n",
        "            best_model_wts = copy.deepcopy(model.state_dict())\n",
        "\n",
        "            PATH = \"{}epoch{:.0f}_Loss{:.4f}.bin\".format(\n",
        "                file_prefix, epoch, best_loss)\n",
        "            torch.save(model.state_dict(), PATH)\n",
        "            # Save a model file from the current directory\n",
        "            wandb.save(PATH)\n",
        "\n",
        "            print(f\"Model Saved\")\n",
        "\n",
        "        elif early_stopping:\n",
        "            early_stop_counter += 1\n",
        "            if early_stop_counter > early_stopping_step:\n",
        "                break\n",
        "\n",
        "        START_EPOCH = epoch + 1\n",
        "        # break\n",
        "\n",
        "    end = time.time()\n",
        "    time_elapsed = end - start\n",
        "    print(\n",
        "        \"Training complete in {:.0f}h {:.0f}m {:.0f}s\".format(\n",
        "            time_elapsed // 3600,\n",
        "            (time_elapsed % 3600) // 60,\n",
        "            (time_elapsed % 3600) % 60,\n",
        "        )\n",
        "    )\n",
        "    print(\"Best Loss: {:.4f}\".format(best_loss))\n",
        "\n",
        "    return model, history\n"
      ]
    },
    {
      "cell_type": "code",
      "execution_count": null,
      "metadata": {
        "execution": {
          "iopub.execute_input": "2022-01-15T10:33:47.416354Z",
          "iopub.status.busy": "2022-01-15T10:33:47.416056Z",
          "iopub.status.idle": "2022-01-15T10:33:48.692352Z",
          "shell.execute_reply": "2022-01-15T10:33:48.691550Z",
          "shell.execute_reply.started": "2022-01-15T10:33:47.416328Z"
        },
        "id": "eX2s0GMOPGqy",
        "trusted": true,
        "colab": {
          "base_uri": "https://localhost:8080/"
        },
        "outputId": "ebf7b2a2-879d-4a39-9e71-66be04c35608"
      },
      "outputs": [
        {
          "output_type": "execute_result",
          "data": {
            "text/plain": [
              "<All keys matched successfully>"
            ]
          },
          "metadata": {},
          "execution_count": 20
        }
      ],
      "source": [
        "wandb.restore('epoch45_Loss0.0005.bin', 'jiwon7258/lg/jlca032j', root='./')\n",
        "model.load_state_dict(torch.load('epoch45_Loss0.0005.bin',\n",
        "                      map_location=CONFIG['device']))\n"
      ]
    },
    {
      "cell_type": "markdown",
      "metadata": {
        "id": "AdVDFxn6PGqy"
      },
      "source": [
        "# Fast Start : 5 epoch"
      ]
    },
    {
      "cell_type": "code",
      "execution_count": null,
      "metadata": {
        "id": "vMfEjYQFPGqz"
      },
      "outputs": [],
      "source": [
        "for param in model.backbone.named_parameters():\n",
        "    param[1].requires_grad = False"
      ]
    },
    {
      "cell_type": "code",
      "execution_count": null,
      "metadata": {
        "colab": {
          "base_uri": "https://localhost:8080/"
        },
        "execution": {
          "iopub.execute_input": "2022-01-15T10:33:48.694521Z",
          "iopub.status.busy": "2022-01-15T10:33:48.694198Z"
        },
        "id": "DEZO7sK4PGqz",
        "outputId": "eb2457ff-3afe-4ebc-87ce-92c349d612cf",
        "trusted": true
      },
      "outputs": [
        {
          "output_type": "stream",
          "name": "stdout",
          "text": [
            "[INFO] Using GPU:Tesla P100-PCIE-16GB\n",
            "\n"
          ]
        },
        {
          "output_type": "stream",
          "name": "stderr",
          "text": [
            "100%|██████████| 289/289 [01:35<00:00,  3.03it/s, Epoch=0, LR=3.93e-6, Train_Loss=1.64, accuracy=0.682, f1=0.597]\n",
            "100%|██████████| 73/73 [00:21<00:00,  3.32it/s, Epoch=0, LR=3.93e-6, Valid_Loss=0.000695, accuracy=1, f1=1]\n"
          ]
        },
        {
          "output_type": "stream",
          "name": "stdout",
          "text": [
            "Valid Loss : 0.0006952332012787499\n",
            "Validation Loss improved( inf ---> 0.0006952332012787499  )\n",
            "Model Saved\n"
          ]
        },
        {
          "output_type": "stream",
          "name": "stderr",
          "text": [
            "100%|██████████| 289/289 [01:34<00:00,  3.06it/s, Epoch=1, LR=8.86e-5, Train_Loss=1.42, accuracy=0.702, f1=0.623]\n",
            "100%|██████████| 73/73 [00:21<00:00,  3.32it/s, Epoch=1, LR=8.86e-5, Valid_Loss=0.00137, accuracy=1, f1=1]\n"
          ]
        },
        {
          "output_type": "stream",
          "name": "stdout",
          "text": [
            "Valid Loss : 0.0013737390045082988\n"
          ]
        },
        {
          "output_type": "stream",
          "name": "stderr",
          "text": [
            "100%|██████████| 289/289 [01:33<00:00,  3.08it/s, Epoch=2, LR=2.53e-5, Train_Loss=1.29, accuracy=0.707, f1=0.628]\n",
            "100%|██████████| 73/73 [00:21<00:00,  3.32it/s, Epoch=2, LR=2.53e-5, Valid_Loss=0.00355, accuracy=1, f1=1]\n"
          ]
        },
        {
          "output_type": "stream",
          "name": "stdout",
          "text": [
            "Valid Loss : 0.0035507830867722427\n"
          ]
        },
        {
          "output_type": "stream",
          "name": "stderr",
          "text": [
            "100%|██████████| 289/289 [01:33<00:00,  3.08it/s, Epoch=3, LR=5.98e-5, Train_Loss=1.19, accuracy=0.699, f1=0.623]\n",
            "100%|██████████| 73/73 [00:21<00:00,  3.33it/s, Epoch=3, LR=5.98e-5, Valid_Loss=0.00657, accuracy=1, f1=1]\n"
          ]
        },
        {
          "output_type": "stream",
          "name": "stdout",
          "text": [
            "Valid Loss : 0.006565324019055418\n"
          ]
        },
        {
          "output_type": "stream",
          "name": "stderr",
          "text": [
            "100%|██████████| 289/289 [01:33<00:00,  3.09it/s, Epoch=4, LR=5.82e-5, Train_Loss=1.16, accuracy=0.703, f1=0.623]\n",
            "100%|██████████| 73/73 [00:22<00:00,  3.31it/s, Epoch=4, LR=5.82e-5, Valid_Loss=0.0134, accuracy=1, f1=1]\n"
          ]
        },
        {
          "output_type": "stream",
          "name": "stdout",
          "text": [
            "Valid Loss : 0.013436932690849859\n",
            "Training complete in 0h 9m 44s\n",
            "Best Loss: 0.0007\n"
          ]
        }
      ],
      "source": [
        "ic.disable()\n",
        "run_training(\n",
        "    model=model,\n",
        "    optimizer=optimizer,\n",
        "    scheduler=torch.optim.lr_scheduler.CosineAnnealingLR(\n",
        "        optimizer=optimizer, T_max=CONFIG['T_max'], eta_min=CONFIG['min_lr']),\n",
        "    device=device,\n",
        "    num_epochs=5,\n",
        "    metric_prefix=\"\",\n",
        "    file_prefix=\"\",\n",
        "    early_stopping=CONFIG['early_stopping'],\n",
        "    early_stopping_step=CONFIG['early_stopping_step'],\n",
        "    START_EPOCH=0,\n",
        ");\n"
      ]
    },
    {
      "cell_type": "markdown",
      "metadata": {
        "id": "pDi14R3uPGqz"
      },
      "source": [
        "# 100 epochs"
      ]
    },
    {
      "cell_type": "code",
      "execution_count": null,
      "metadata": {
        "id": "Ae1QgOXSPGqz"
      },
      "outputs": [],
      "source": [
        "for param in model.backbone.named_parameters():\n",
        "    param[1].requires_grad = True\n"
      ]
    },
    {
      "cell_type": "code",
      "execution_count": null,
      "metadata": {
        "id": "L5G3qhmFPGqz"
      },
      "outputs": [],
      "source": [
        "optimizer = torch.optim.Adam(\n",
        "    params=model.parameters(), lr=1e-6, weight_decay=CONFIG['weight_decay'])"
      ]
    },
    {
      "cell_type": "code",
      "execution_count": null,
      "metadata": {
        "colab": {
          "base_uri": "https://localhost:8080/"
        },
        "id": "dKXcxeLEPGq0",
        "outputId": "593d1aba-936f-465b-f0d9-24388a8acc53"
      },
      "outputs": [
        {
          "metadata": {
            "tags": null
          },
          "name": "stdout",
          "output_type": "stream",
          "text": [
            "[INFO] Using GPU:Tesla P100-PCIE-16GB\n",
            "\n"
          ]
        },
        {
          "metadata": {
            "tags": null
          },
          "name": "stderr",
          "output_type": "stream",
          "text": [
            "100%|██████████| 289/289 [04:18<00:00,  1.12it/s, Epoch=0, LR=1e-6, Train_Loss=1.11, accuracy=0.681, f1=0.592]\n",
            "100%|██████████| 73/73 [00:21<00:00,  3.32it/s, Epoch=0, LR=1e-6, Valid_Loss=0.0136, accuracy=1, f1=1]\n"
          ]
        },
        {
          "metadata": {
            "tags": null
          },
          "name": "stdout",
          "output_type": "stream",
          "text": [
            "Valid Loss : 0.013586904126385304\n",
            "Validation Loss improved( inf ---> 0.013586904126385304  )\n",
            "Model Saved\n"
          ]
        },
        {
          "metadata": {
            "tags": null
          },
          "name": "stderr",
          "output_type": "stream",
          "text": [
            "100%|██████████| 289/289 [04:19<00:00,  1.12it/s, Epoch=1, LR=1e-6, Train_Loss=1.04, accuracy=0.679, f1=0.595]\n",
            "100%|██████████| 73/73 [00:22<00:00,  3.31it/s, Epoch=1, LR=1e-6, Valid_Loss=0.0146, accuracy=1, f1=1]\n"
          ]
        },
        {
          "metadata": {
            "tags": null
          },
          "name": "stdout",
          "output_type": "stream",
          "text": [
            "Valid Loss : 0.014630254409084581\n"
          ]
        },
        {
          "metadata": {
            "tags": null
          },
          "name": "stderr",
          "output_type": "stream",
          "text": [
            "100%|██████████| 289/289 [04:19<00:00,  1.11it/s, Epoch=2, LR=1e-6, Train_Loss=1.04, accuracy=0.678, f1=0.59]\n",
            "100%|██████████| 73/73 [00:22<00:00,  3.30it/s, Epoch=2, LR=1e-6, Valid_Loss=0.0146, accuracy=1, f1=1]\n"
          ]
        },
        {
          "metadata": {
            "tags": null
          },
          "name": "stdout",
          "output_type": "stream",
          "text": [
            "Valid Loss : 0.014608034289965075\n"
          ]
        },
        {
          "metadata": {
            "tags": null
          },
          "name": "stderr",
          "output_type": "stream",
          "text": [
            "100%|██████████| 289/289 [04:18<00:00,  1.12it/s, Epoch=3, LR=1e-6, Train_Loss=0.986, accuracy=0.702, f1=0.62]\n",
            "100%|██████████| 73/73 [00:21<00:00,  3.33it/s, Epoch=3, LR=1e-6, Valid_Loss=0.0149, accuracy=1, f1=1]\n"
          ]
        },
        {
          "metadata": {
            "tags": null
          },
          "name": "stdout",
          "output_type": "stream",
          "text": [
            "Valid Loss : 0.014935592080989522\n"
          ]
        },
        {
          "metadata": {
            "tags": null
          },
          "name": "stderr",
          "output_type": "stream",
          "text": [
            "100%|██████████| 289/289 [04:18<00:00,  1.12it/s, Epoch=4, LR=1e-6, Train_Loss=1.01, accuracy=0.68, f1=0.595]\n",
            "100%|██████████| 73/73 [00:21<00:00,  3.33it/s, Epoch=4, LR=1e-6, Valid_Loss=0.0142, accuracy=1, f1=1]\n"
          ]
        },
        {
          "metadata": {
            "tags": null
          },
          "name": "stdout",
          "output_type": "stream",
          "text": [
            "Valid Loss : 0.014152455838932975\n"
          ]
        },
        {
          "metadata": {
            "tags": null
          },
          "name": "stderr",
          "output_type": "stream",
          "text": [
            "100%|██████████| 289/289 [04:18<00:00,  1.12it/s, Epoch=5, LR=1e-6, Train_Loss=0.993, accuracy=0.689, f1=0.601]\n",
            "100%|██████████| 73/73 [00:21<00:00,  3.34it/s, Epoch=5, LR=1e-6, Valid_Loss=0.0151, accuracy=1, f1=1]\n"
          ]
        },
        {
          "metadata": {
            "tags": null
          },
          "name": "stdout",
          "output_type": "stream",
          "text": [
            "Valid Loss : 0.015055972712803376\n"
          ]
        },
        {
          "metadata": {
            "tags": null
          },
          "name": "stderr",
          "output_type": "stream",
          "text": [
            "100%|██████████| 289/289 [04:18<00:00,  1.12it/s, Epoch=6, LR=1e-6, Train_Loss=0.989, accuracy=0.695, f1=0.612]\n",
            "100%|██████████| 73/73 [00:21<00:00,  3.33it/s, Epoch=6, LR=1e-6, Valid_Loss=0.0156, accuracy=1, f1=1]\n"
          ]
        },
        {
          "metadata": {
            "tags": null
          },
          "name": "stdout",
          "output_type": "stream",
          "text": [
            "Valid Loss : 0.015566863674568394\n"
          ]
        },
        {
          "metadata": {
            "tags": null
          },
          "name": "stderr",
          "output_type": "stream",
          "text": [
            "100%|██████████| 289/289 [04:18<00:00,  1.12it/s, Epoch=7, LR=1e-6, Train_Loss=0.986, accuracy=0.676, f1=0.59]\n",
            "100%|██████████| 73/73 [00:21<00:00,  3.33it/s, Epoch=7, LR=1e-6, Valid_Loss=0.0152, accuracy=1, f1=1]\n"
          ]
        },
        {
          "metadata": {
            "tags": null
          },
          "name": "stdout",
          "output_type": "stream",
          "text": [
            "Valid Loss : 0.015190775747002703\n"
          ]
        },
        {
          "metadata": {
            "tags": null
          },
          "name": "stderr",
          "output_type": "stream",
          "text": [
            "100%|██████████| 289/289 [04:17<00:00,  1.12it/s, Epoch=8, LR=1e-6, Train_Loss=0.974, accuracy=0.687, f1=0.602]\n",
            "100%|██████████| 73/73 [00:21<00:00,  3.32it/s, Epoch=8, LR=1e-6, Valid_Loss=0.0157, accuracy=1, f1=1]\n"
          ]
        },
        {
          "metadata": {
            "tags": null
          },
          "name": "stdout",
          "output_type": "stream",
          "text": [
            "Valid Loss : 0.015656652165040988\n"
          ]
        },
        {
          "metadata": {
            "tags": null
          },
          "name": "stderr",
          "output_type": "stream",
          "text": [
            "100%|██████████| 289/289 [04:17<00:00,  1.12it/s, Epoch=9, LR=1e-6, Train_Loss=0.953, accuracy=0.7, f1=0.613]\n",
            "100%|██████████| 73/73 [00:21<00:00,  3.33it/s, Epoch=9, LR=1e-6, Valid_Loss=0.0157, accuracy=1, f1=1]\n"
          ]
        },
        {
          "metadata": {
            "tags": null
          },
          "name": "stdout",
          "output_type": "stream",
          "text": [
            "Valid Loss : 0.01568296227655182\n"
          ]
        },
        {
          "metadata": {
            "tags": null
          },
          "name": "stderr",
          "output_type": "stream",
          "text": [
            "100%|██████████| 289/289 [04:18<00:00,  1.12it/s, Epoch=10, LR=1e-6, Train_Loss=0.945, accuracy=0.695, f1=0.611]\n",
            "100%|██████████| 73/73 [00:21<00:00,  3.34it/s, Epoch=10, LR=1e-6, Valid_Loss=0.0156, accuracy=1, f1=1]\n"
          ]
        },
        {
          "metadata": {
            "tags": null
          },
          "name": "stdout",
          "output_type": "stream",
          "text": [
            "Valid Loss : 0.015589822415415554\n"
          ]
        },
        {
          "metadata": {
            "tags": null
          },
          "name": "stderr",
          "output_type": "stream",
          "text": [
            "100%|██████████| 289/289 [04:18<00:00,  1.12it/s, Epoch=11, LR=1e-6, Train_Loss=0.947, accuracy=0.7, f1=0.616]\n",
            "100%|██████████| 73/73 [00:22<00:00,  3.31it/s, Epoch=11, LR=1e-6, Valid_Loss=0.0157, accuracy=1, f1=1]\n"
          ]
        },
        {
          "metadata": {
            "tags": null
          },
          "name": "stdout",
          "output_type": "stream",
          "text": [
            "Valid Loss : 0.015702266986035322\n"
          ]
        },
        {
          "metadata": {
            "tags": null
          },
          "name": "stderr",
          "output_type": "stream",
          "text": [
            "100%|██████████| 289/289 [04:17<00:00,  1.12it/s, Epoch=12, LR=1e-6, Train_Loss=0.938, accuracy=0.708, f1=0.628]\n",
            "100%|██████████| 73/73 [00:21<00:00,  3.32it/s, Epoch=12, LR=1e-6, Valid_Loss=0.0149, accuracy=1, f1=1]\n"
          ]
        },
        {
          "metadata": {
            "tags": null
          },
          "name": "stdout",
          "output_type": "stream",
          "text": [
            "Valid Loss : 0.014941763529101105\n"
          ]
        },
        {
          "metadata": {
            "tags": null
          },
          "name": "stderr",
          "output_type": "stream",
          "text": [
            "100%|██████████| 289/289 [04:17<00:00,  1.12it/s, Epoch=13, LR=1e-6, Train_Loss=0.921, accuracy=0.706, f1=0.622]\n",
            "100%|██████████| 73/73 [00:21<00:00,  3.34it/s, Epoch=13, LR=1e-6, Valid_Loss=0.0152, accuracy=1, f1=1]\n"
          ]
        },
        {
          "metadata": {
            "tags": null
          },
          "name": "stdout",
          "output_type": "stream",
          "text": [
            "Valid Loss : 0.015190730694273156\n"
          ]
        },
        {
          "metadata": {
            "tags": null
          },
          "name": "stderr",
          "output_type": "stream",
          "text": [
            "100%|██████████| 289/289 [04:17<00:00,  1.12it/s, Epoch=14, LR=1e-6, Train_Loss=0.95, accuracy=0.704, f1=0.616]\n",
            "100%|██████████| 73/73 [00:21<00:00,  3.33it/s, Epoch=14, LR=1e-6, Valid_Loss=0.0145, accuracy=1, f1=1]\n"
          ]
        },
        {
          "metadata": {
            "tags": null
          },
          "name": "stdout",
          "output_type": "stream",
          "text": [
            "Valid Loss : 0.014486333374444344\n"
          ]
        },
        {
          "metadata": {
            "tags": null
          },
          "name": "stderr",
          "output_type": "stream",
          "text": [
            "100%|██████████| 289/289 [04:17<00:00,  1.12it/s, Epoch=15, LR=1e-6, Train_Loss=0.915, accuracy=0.696, f1=0.609]\n",
            "100%|██████████| 73/73 [00:21<00:00,  3.35it/s, Epoch=15, LR=1e-6, Valid_Loss=0.0147, accuracy=1, f1=1]\n"
          ]
        },
        {
          "metadata": {
            "tags": null
          },
          "name": "stdout",
          "output_type": "stream",
          "text": [
            "Valid Loss : 0.014731466904129477\n"
          ]
        },
        {
          "metadata": {
            "tags": null
          },
          "name": "stderr",
          "output_type": "stream",
          "text": [
            "100%|██████████| 289/289 [04:17<00:00,  1.12it/s, Epoch=16, LR=1e-6, Train_Loss=0.927, accuracy=0.697, f1=0.611]\n",
            "100%|██████████| 73/73 [00:22<00:00,  3.32it/s, Epoch=16, LR=1e-6, Valid_Loss=0.015, accuracy=1, f1=1]\n"
          ]
        },
        {
          "metadata": {
            "tags": null
          },
          "name": "stdout",
          "output_type": "stream",
          "text": [
            "Valid Loss : 0.015001479191833164\n"
          ]
        },
        {
          "metadata": {
            "tags": null
          },
          "name": "stderr",
          "output_type": "stream",
          "text": [
            "100%|██████████| 289/289 [04:17<00:00,  1.12it/s, Epoch=17, LR=1e-6, Train_Loss=0.915, accuracy=0.705, f1=0.624]\n",
            "100%|██████████| 73/73 [00:21<00:00,  3.32it/s, Epoch=17, LR=1e-6, Valid_Loss=0.0148, accuracy=1, f1=1]\n"
          ]
        },
        {
          "metadata": {
            "tags": null
          },
          "name": "stdout",
          "output_type": "stream",
          "text": [
            "Valid Loss : 0.014761059130350612\n"
          ]
        },
        {
          "metadata": {
            "tags": null
          },
          "name": "stderr",
          "output_type": "stream",
          "text": [
            "100%|██████████| 289/289 [04:17<00:00,  1.12it/s, Epoch=18, LR=1e-6, Train_Loss=0.906, accuracy=0.716, f1=0.634]\n",
            "100%|██████████| 73/73 [00:22<00:00,  3.31it/s, Epoch=18, LR=1e-6, Valid_Loss=0.0138, accuracy=1, f1=1]\n"
          ]
        },
        {
          "metadata": {
            "tags": null
          },
          "name": "stdout",
          "output_type": "stream",
          "text": [
            "Valid Loss : 0.013784416603587875\n"
          ]
        },
        {
          "metadata": {
            "tags": null
          },
          "name": "stderr",
          "output_type": "stream",
          "text": [
            "100%|██████████| 289/289 [04:17<00:00,  1.12it/s, Epoch=19, LR=1e-6, Train_Loss=0.895, accuracy=0.719, f1=0.634]\n",
            "100%|██████████| 73/73 [00:21<00:00,  3.33it/s, Epoch=19, LR=1e-6, Valid_Loss=0.0139, accuracy=1, f1=1]\n"
          ]
        },
        {
          "metadata": {
            "tags": null
          },
          "name": "stdout",
          "output_type": "stream",
          "text": [
            "Valid Loss : 0.013948334550025733\n"
          ]
        },
        {
          "metadata": {
            "tags": null
          },
          "name": "stderr",
          "output_type": "stream",
          "text": [
            "100%|██████████| 289/289 [04:17<00:00,  1.12it/s, Epoch=20, LR=1e-6, Train_Loss=0.906, accuracy=0.703, f1=0.612]\n",
            "100%|██████████| 73/73 [00:21<00:00,  3.34it/s, Epoch=20, LR=1e-6, Valid_Loss=0.0137, accuracy=1, f1=1]\n"
          ]
        },
        {
          "metadata": {
            "tags": null
          },
          "name": "stdout",
          "output_type": "stream",
          "text": [
            "Valid Loss : 0.013699913843955896\n"
          ]
        },
        {
          "metadata": {
            "tags": null
          },
          "name": "stderr",
          "output_type": "stream",
          "text": [
            "100%|██████████| 289/289 [04:17<00:00,  1.12it/s, Epoch=21, LR=1e-6, Train_Loss=0.878, accuracy=0.73, f1=0.657]\n",
            "100%|██████████| 73/73 [00:21<00:00,  3.33it/s, Epoch=21, LR=1e-6, Valid_Loss=0.0141, accuracy=1, f1=1]\n"
          ]
        },
        {
          "metadata": {
            "tags": null
          },
          "name": "stdout",
          "output_type": "stream",
          "text": [
            "Valid Loss : 0.01412110478451399\n"
          ]
        },
        {
          "metadata": {
            "tags": null
          },
          "name": "stderr",
          "output_type": "stream",
          "text": [
            "100%|██████████| 289/289 [04:17<00:00,  1.12it/s, Epoch=22, LR=1e-6, Train_Loss=0.906, accuracy=0.703, f1=0.622]\n",
            "100%|██████████| 73/73 [00:21<00:00,  3.32it/s, Epoch=22, LR=1e-6, Valid_Loss=0.0143, accuracy=1, f1=1]\n"
          ]
        },
        {
          "metadata": {
            "tags": null
          },
          "name": "stdout",
          "output_type": "stream",
          "text": [
            "Valid Loss : 0.014305513396808137\n"
          ]
        },
        {
          "metadata": {
            "tags": null
          },
          "name": "stderr",
          "output_type": "stream",
          "text": [
            "100%|██████████| 289/289 [04:17<00:00,  1.12it/s, Epoch=23, LR=1e-6, Train_Loss=0.88, accuracy=0.721, f1=0.638]\n",
            "100%|██████████| 73/73 [00:21<00:00,  3.33it/s, Epoch=23, LR=1e-6, Valid_Loss=0.0133, accuracy=1, f1=1]\n"
          ]
        },
        {
          "metadata": {
            "tags": null
          },
          "name": "stdout",
          "output_type": "stream",
          "text": [
            "Valid Loss : 0.013263304469060816\n",
            "Validation Loss improved( 0.013586904126385304 ---> 0.013263304469060816  )\n",
            "Model Saved\n"
          ]
        },
        {
          "metadata": {
            "tags": null
          },
          "name": "stderr",
          "output_type": "stream",
          "text": [
            "100%|██████████| 289/289 [04:19<00:00,  1.12it/s, Epoch=24, LR=1e-6, Train_Loss=0.902, accuracy=0.701, f1=0.615]\n",
            "100%|██████████| 73/73 [00:22<00:00,  3.31it/s, Epoch=24, LR=1e-6, Valid_Loss=0.013, accuracy=1, f1=1]\n"
          ]
        },
        {
          "metadata": {
            "tags": null
          },
          "name": "stdout",
          "output_type": "stream",
          "text": [
            "Valid Loss : 0.013016673439654382\n",
            "Validation Loss improved( 0.013263304469060816 ---> 0.013016673439654382  )\n",
            "Model Saved\n"
          ]
        },
        {
          "metadata": {
            "tags": null
          },
          "name": "stderr",
          "output_type": "stream",
          "text": [
            "100%|██████████| 289/289 [04:19<00:00,  1.11it/s, Epoch=25, LR=1e-6, Train_Loss=0.875, accuracy=0.722, f1=0.641]\n",
            "100%|██████████| 73/73 [00:22<00:00,  3.28it/s, Epoch=25, LR=1e-6, Valid_Loss=0.0129, accuracy=1, f1=1]\n"
          ]
        },
        {
          "metadata": {
            "tags": null
          },
          "name": "stdout",
          "output_type": "stream",
          "text": [
            "Valid Loss : 0.012884239123955574\n",
            "Validation Loss improved( 0.013016673439654382 ---> 0.012884239123955574  )\n",
            "Model Saved\n"
          ]
        },
        {
          "metadata": {
            "tags": null
          },
          "name": "stderr",
          "output_type": "stream",
          "text": [
            "100%|██████████| 289/289 [04:18<00:00,  1.12it/s, Epoch=26, LR=1e-6, Train_Loss=0.887, accuracy=0.706, f1=0.619]\n",
            "100%|██████████| 73/73 [00:22<00:00,  3.31it/s, Epoch=26, LR=1e-6, Valid_Loss=0.0136, accuracy=1, f1=1]\n"
          ]
        },
        {
          "metadata": {
            "tags": null
          },
          "name": "stdout",
          "output_type": "stream",
          "text": [
            "Valid Loss : 0.013588345596847469\n"
          ]
        },
        {
          "metadata": {
            "tags": null
          },
          "name": "stderr",
          "output_type": "stream",
          "text": [
            "100%|██████████| 289/289 [04:18<00:00,  1.12it/s, Epoch=27, LR=1e-6, Train_Loss=0.865, accuracy=0.722, f1=0.64]\n",
            "100%|██████████| 73/73 [00:22<00:00,  3.25it/s, Epoch=27, LR=1e-6, Valid_Loss=0.0141, accuracy=1, f1=1]\n"
          ]
        },
        {
          "metadata": {
            "tags": null
          },
          "name": "stdout",
          "output_type": "stream",
          "text": [
            "Valid Loss : 0.014129986654813976\n"
          ]
        },
        {
          "metadata": {
            "tags": null
          },
          "name": "stderr",
          "output_type": "stream",
          "text": [
            "100%|██████████| 289/289 [04:20<00:00,  1.11it/s, Epoch=28, LR=1e-6, Train_Loss=0.881, accuracy=0.708, f1=0.622]\n",
            "100%|██████████| 73/73 [00:22<00:00,  3.25it/s, Epoch=28, LR=1e-6, Valid_Loss=0.013, accuracy=1, f1=1]\n"
          ]
        },
        {
          "metadata": {
            "tags": null
          },
          "name": "stdout",
          "output_type": "stream",
          "text": [
            "Valid Loss : 0.012957302729076105\n"
          ]
        },
        {
          "metadata": {
            "tags": null
          },
          "name": "stderr",
          "output_type": "stream",
          "text": [
            "100%|██████████| 289/289 [04:21<00:00,  1.10it/s, Epoch=29, LR=1e-6, Train_Loss=0.872, accuracy=0.711, f1=0.628]\n",
            "100%|██████████| 73/73 [00:22<00:00,  3.25it/s, Epoch=29, LR=1e-6, Valid_Loss=0.0125, accuracy=1, f1=1]\n"
          ]
        },
        {
          "metadata": {
            "tags": null
          },
          "name": "stdout",
          "output_type": "stream",
          "text": [
            "Valid Loss : 0.012493988699981407\n",
            "Validation Loss improved( 0.012884239123955574 ---> 0.012493988699981407  )\n",
            "Model Saved\n"
          ]
        },
        {
          "metadata": {
            "tags": null
          },
          "name": "stderr",
          "output_type": "stream",
          "text": [
            "100%|██████████| 289/289 [04:21<00:00,  1.10it/s, Epoch=30, LR=1e-6, Train_Loss=0.878, accuracy=0.719, f1=0.636]\n",
            "100%|██████████| 73/73 [00:22<00:00,  3.24it/s, Epoch=30, LR=1e-6, Valid_Loss=0.0122, accuracy=1, f1=1]\n"
          ]
        },
        {
          "metadata": {
            "tags": null
          },
          "name": "stdout",
          "output_type": "stream",
          "text": [
            "Valid Loss : 0.01219772393113538\n",
            "Validation Loss improved( 0.012493988699981407 ---> 0.01219772393113538  )\n",
            "Model Saved\n"
          ]
        },
        {
          "metadata": {
            "tags": null
          },
          "name": "stderr",
          "output_type": "stream",
          "text": [
            "100%|██████████| 289/289 [04:21<00:00,  1.10it/s, Epoch=31, LR=1e-6, Train_Loss=0.877, accuracy=0.711, f1=0.631]\n",
            "100%|██████████| 73/73 [00:22<00:00,  3.24it/s, Epoch=31, LR=1e-6, Valid_Loss=0.0125, accuracy=1, f1=1]\n"
          ]
        },
        {
          "metadata": {
            "tags": null
          },
          "name": "stdout",
          "output_type": "stream",
          "text": [
            "Valid Loss : 0.012540383449411148\n"
          ]
        },
        {
          "metadata": {
            "tags": null
          },
          "name": "stderr",
          "output_type": "stream",
          "text": [
            "100%|██████████| 289/289 [04:21<00:00,  1.10it/s, Epoch=32, LR=1e-6, Train_Loss=0.858, accuracy=0.724, f1=0.647]\n",
            "100%|██████████| 73/73 [00:22<00:00,  3.24it/s, Epoch=32, LR=1e-6, Valid_Loss=0.0124, accuracy=1, f1=1]\n"
          ]
        },
        {
          "metadata": {
            "tags": null
          },
          "name": "stdout",
          "output_type": "stream",
          "text": [
            "Valid Loss : 0.012424970610220342\n"
          ]
        },
        {
          "metadata": {
            "tags": null
          },
          "name": "stderr",
          "output_type": "stream",
          "text": [
            "100%|██████████| 289/289 [04:21<00:00,  1.10it/s, Epoch=33, LR=1e-6, Train_Loss=0.846, accuracy=0.732, f1=0.65]\n",
            "100%|██████████| 73/73 [00:22<00:00,  3.25it/s, Epoch=33, LR=1e-6, Valid_Loss=0.0124, accuracy=1, f1=1]\n"
          ]
        },
        {
          "metadata": {
            "tags": null
          },
          "name": "stdout",
          "output_type": "stream",
          "text": [
            "Valid Loss : 0.012358935384003266\n"
          ]
        },
        {
          "metadata": {
            "tags": null
          },
          "name": "stderr",
          "output_type": "stream",
          "text": [
            "100%|██████████| 289/289 [04:21<00:00,  1.10it/s, Epoch=34, LR=1e-6, Train_Loss=0.844, accuracy=0.72, f1=0.637]\n",
            "100%|██████████| 73/73 [00:22<00:00,  3.24it/s, Epoch=34, LR=1e-6, Valid_Loss=0.0122, accuracy=1, f1=1]\n"
          ]
        },
        {
          "metadata": {
            "tags": null
          },
          "name": "stdout",
          "output_type": "stream",
          "text": [
            "Valid Loss : 0.012175544043875311\n",
            "Validation Loss improved( 0.01219772393113538 ---> 0.012175544043875311  )\n",
            "Model Saved\n"
          ]
        },
        {
          "metadata": {
            "tags": null
          },
          "name": "stderr",
          "output_type": "stream",
          "text": [
            "100%|██████████| 289/289 [04:21<00:00,  1.11it/s, Epoch=35, LR=1e-6, Train_Loss=0.84, accuracy=0.739, f1=0.655]\n",
            "100%|██████████| 73/73 [00:22<00:00,  3.25it/s, Epoch=35, LR=1e-6, Valid_Loss=0.0116, accuracy=1, f1=1]\n"
          ]
        },
        {
          "metadata": {
            "tags": null
          },
          "name": "stdout",
          "output_type": "stream",
          "text": [
            "Valid Loss : 0.011634002854307629\n",
            "Validation Loss improved( 0.012175544043875311 ---> 0.011634002854307629  )\n",
            "Model Saved\n"
          ]
        },
        {
          "metadata": {
            "tags": null
          },
          "name": "stderr",
          "output_type": "stream",
          "text": [
            "100%|██████████| 289/289 [04:21<00:00,  1.11it/s, Epoch=36, LR=1e-6, Train_Loss=0.846, accuracy=0.728, f1=0.65]\n",
            "100%|██████████| 73/73 [00:22<00:00,  3.24it/s, Epoch=36, LR=1e-6, Valid_Loss=0.0117, accuracy=1, f1=1]\n"
          ]
        },
        {
          "metadata": {
            "tags": null
          },
          "name": "stdout",
          "output_type": "stream",
          "text": [
            "Valid Loss : 0.011732247913230772\n"
          ]
        },
        {
          "metadata": {
            "tags": null
          },
          "name": "stderr",
          "output_type": "stream",
          "text": [
            "100%|██████████| 289/289 [04:21<00:00,  1.10it/s, Epoch=37, LR=1e-6, Train_Loss=0.843, accuracy=0.72, f1=0.637]\n",
            "100%|██████████| 73/73 [00:22<00:00,  3.23it/s, Epoch=37, LR=1e-6, Valid_Loss=0.0124, accuracy=1, f1=1]\n"
          ]
        },
        {
          "metadata": {
            "tags": null
          },
          "name": "stdout",
          "output_type": "stream",
          "text": [
            "Valid Loss : 0.012355721196835886\n"
          ]
        },
        {
          "metadata": {
            "tags": null
          },
          "name": "stderr",
          "output_type": "stream",
          "text": [
            "100%|██████████| 289/289 [04:21<00:00,  1.10it/s, Epoch=38, LR=1e-6, Train_Loss=0.83, accuracy=0.739, f1=0.66]\n",
            "100%|██████████| 73/73 [00:22<00:00,  3.25it/s, Epoch=38, LR=1e-6, Valid_Loss=0.0122, accuracy=1, f1=1]\n"
          ]
        },
        {
          "metadata": {
            "tags": null
          },
          "name": "stdout",
          "output_type": "stream",
          "text": [
            "Valid Loss : 0.012181730328561508\n"
          ]
        },
        {
          "metadata": {
            "tags": null
          },
          "name": "stderr",
          "output_type": "stream",
          "text": [
            "100%|██████████| 289/289 [04:21<00:00,  1.10it/s, Epoch=39, LR=1e-6, Train_Loss=0.847, accuracy=0.723, f1=0.639]\n",
            "100%|██████████| 73/73 [00:22<00:00,  3.24it/s, Epoch=39, LR=1e-6, Valid_Loss=0.0116, accuracy=1, f1=1]\n"
          ]
        },
        {
          "metadata": {
            "tags": null
          },
          "name": "stdout",
          "output_type": "stream",
          "text": [
            "Valid Loss : 0.011604313065667879\n",
            "Validation Loss improved( 0.011634002854307629 ---> 0.011604313065667879  )\n",
            "Model Saved\n"
          ]
        },
        {
          "metadata": {
            "tags": null
          },
          "name": "stderr",
          "output_type": "stream",
          "text": [
            "100%|██████████| 289/289 [04:21<00:00,  1.10it/s, Epoch=40, LR=1e-6, Train_Loss=0.849, accuracy=0.719, f1=0.638]\n",
            "100%|██████████| 73/73 [00:22<00:00,  3.26it/s, Epoch=40, LR=1e-6, Valid_Loss=0.0111, accuracy=1, f1=1]\n"
          ]
        },
        {
          "metadata": {
            "tags": null
          },
          "name": "stdout",
          "output_type": "stream",
          "text": [
            "Valid Loss : 0.011095823299088706\n",
            "Validation Loss improved( 0.011604313065667879 ---> 0.011095823299088706  )\n",
            "Model Saved\n"
          ]
        },
        {
          "metadata": {
            "tags": null
          },
          "name": "stderr",
          "output_type": "stream",
          "text": [
            "100%|██████████| 289/289 [04:21<00:00,  1.10it/s, Epoch=41, LR=1e-6, Train_Loss=0.842, accuracy=0.72, f1=0.636]\n",
            "100%|██████████| 73/73 [00:22<00:00,  3.25it/s, Epoch=41, LR=1e-6, Valid_Loss=0.0117, accuracy=1, f1=1]\n"
          ]
        },
        {
          "metadata": {
            "tags": null
          },
          "name": "stdout",
          "output_type": "stream",
          "text": [
            "Valid Loss : 0.011675385075736127\n"
          ]
        },
        {
          "metadata": {
            "tags": null
          },
          "name": "stderr",
          "output_type": "stream",
          "text": [
            "100%|██████████| 289/289 [04:21<00:00,  1.10it/s, Epoch=42, LR=1e-6, Train_Loss=0.816, accuracy=0.737, f1=0.662]\n",
            "100%|██████████| 73/73 [00:22<00:00,  3.23it/s, Epoch=42, LR=1e-6, Valid_Loss=0.012, accuracy=1, f1=1]\n"
          ]
        },
        {
          "metadata": {
            "tags": null
          },
          "name": "stdout",
          "output_type": "stream",
          "text": [
            "Valid Loss : 0.0119606318137264\n"
          ]
        },
        {
          "metadata": {
            "tags": null
          },
          "name": "stderr",
          "output_type": "stream",
          "text": [
            "100%|██████████| 289/289 [04:21<00:00,  1.10it/s, Epoch=43, LR=1e-6, Train_Loss=0.819, accuracy=0.739, f1=0.659]\n",
            "100%|██████████| 73/73 [00:22<00:00,  3.23it/s, Epoch=43, LR=1e-6, Valid_Loss=0.0116, accuracy=1, f1=1]\n"
          ]
        },
        {
          "metadata": {
            "tags": null
          },
          "name": "stdout",
          "output_type": "stream",
          "text": [
            "Valid Loss : 0.011582885785921388\n"
          ]
        },
        {
          "metadata": {
            "tags": null
          },
          "name": "stderr",
          "output_type": "stream",
          "text": [
            "100%|██████████| 289/289 [04:22<00:00,  1.10it/s, Epoch=44, LR=1e-6, Train_Loss=0.812, accuracy=0.744, f1=0.663]\n",
            "100%|██████████| 73/73 [00:22<00:00,  3.23it/s, Epoch=44, LR=1e-6, Valid_Loss=0.0111, accuracy=1, f1=1]\n"
          ]
        },
        {
          "metadata": {
            "tags": null
          },
          "name": "stdout",
          "output_type": "stream",
          "text": [
            "Valid Loss : 0.011082635321718168\n",
            "Validation Loss improved( 0.011095823299088706 ---> 0.011082635321718168  )\n",
            "Model Saved\n"
          ]
        },
        {
          "metadata": {
            "tags": null
          },
          "name": "stderr",
          "output_type": "stream",
          "text": [
            "100%|██████████| 289/289 [04:22<00:00,  1.10it/s, Epoch=45, LR=1e-6, Train_Loss=0.822, accuracy=0.73, f1=0.654]\n",
            "100%|██████████| 73/73 [00:22<00:00,  3.25it/s, Epoch=45, LR=1e-6, Valid_Loss=0.0104, accuracy=1, f1=1]\n"
          ]
        },
        {
          "metadata": {
            "tags": null
          },
          "name": "stdout",
          "output_type": "stream",
          "text": [
            "Valid Loss : 0.010378855758997267\n",
            "Validation Loss improved( 0.011082635321718168 ---> 0.010378855758997267  )\n",
            "Model Saved\n"
          ]
        },
        {
          "metadata": {
            "tags": null
          },
          "name": "stderr",
          "output_type": "stream",
          "text": [
            "100%|██████████| 289/289 [04:21<00:00,  1.10it/s, Epoch=46, LR=1e-6, Train_Loss=0.821, accuracy=0.737, f1=0.656]\n",
            "100%|██████████| 73/73 [00:22<00:00,  3.24it/s, Epoch=46, LR=1e-6, Valid_Loss=0.0108, accuracy=1, f1=1]\n"
          ]
        },
        {
          "metadata": {
            "tags": null
          },
          "name": "stdout",
          "output_type": "stream",
          "text": [
            "Valid Loss : 0.010811520861589338\n"
          ]
        },
        {
          "metadata": {
            "tags": null
          },
          "name": "stderr",
          "output_type": "stream",
          "text": [
            "100%|██████████| 289/289 [04:21<00:00,  1.10it/s, Epoch=47, LR=1e-6, Train_Loss=0.823, accuracy=0.736, f1=0.657]\n",
            "100%|██████████| 73/73 [00:22<00:00,  3.30it/s, Epoch=47, LR=1e-6, Valid_Loss=0.0114, accuracy=1, f1=1]\n"
          ]
        },
        {
          "metadata": {
            "tags": null
          },
          "name": "stdout",
          "output_type": "stream",
          "text": [
            "Valid Loss : 0.011383475531658081\n"
          ]
        },
        {
          "metadata": {
            "tags": null
          },
          "name": "stderr",
          "output_type": "stream",
          "text": [
            "100%|██████████| 289/289 [04:18<00:00,  1.12it/s, Epoch=48, LR=1e-6, Train_Loss=0.815, accuracy=0.728, f1=0.645]\n",
            "100%|██████████| 73/73 [00:22<00:00,  3.30it/s, Epoch=48, LR=1e-6, Valid_Loss=0.0103, accuracy=1, f1=1]\n"
          ]
        },
        {
          "metadata": {
            "tags": null
          },
          "name": "stdout",
          "output_type": "stream",
          "text": [
            "Valid Loss : 0.010290760623469744\n",
            "Validation Loss improved( 0.010378855758997267 ---> 0.010290760623469744  )\n",
            "Model Saved\n"
          ]
        },
        {
          "metadata": {
            "tags": null
          },
          "name": "stderr",
          "output_type": "stream",
          "text": [
            "100%|██████████| 289/289 [04:18<00:00,  1.12it/s, Epoch=49, LR=1e-6, Train_Loss=0.819, accuracy=0.755, f1=0.675]\n",
            "100%|██████████| 73/73 [00:22<00:00,  3.30it/s, Epoch=49, LR=1e-6, Valid_Loss=0.0103, accuracy=1, f1=1]\n"
          ]
        },
        {
          "metadata": {
            "tags": null
          },
          "name": "stdout",
          "output_type": "stream",
          "text": [
            "Valid Loss : 0.01034865750969477\n"
          ]
        },
        {
          "metadata": {
            "tags": null
          },
          "name": "stderr",
          "output_type": "stream",
          "text": [
            "100%|██████████| 289/289 [04:18<00:00,  1.12it/s, Epoch=50, LR=1e-6, Train_Loss=0.822, accuracy=0.743, f1=0.662]\n",
            "100%|██████████| 73/73 [00:22<00:00,  3.25it/s, Epoch=50, LR=1e-6, Valid_Loss=0.00971, accuracy=1, f1=1]\n"
          ]
        },
        {
          "metadata": {
            "tags": null
          },
          "name": "stdout",
          "output_type": "stream",
          "text": [
            "Valid Loss : 0.009705056142929483\n",
            "Validation Loss improved( 0.010290760623469744 ---> 0.009705056142929483  )\n",
            "Model Saved\n"
          ]
        },
        {
          "metadata": {
            "tags": null
          },
          "name": "stderr",
          "output_type": "stream",
          "text": [
            "100%|██████████| 289/289 [04:22<00:00,  1.10it/s, Epoch=51, LR=1e-6, Train_Loss=0.813, accuracy=0.723, f1=0.64]\n",
            "100%|██████████| 73/73 [00:22<00:00,  3.31it/s, Epoch=51, LR=1e-6, Valid_Loss=0.0102, accuracy=1, f1=1]\n"
          ]
        },
        {
          "metadata": {
            "tags": null
          },
          "name": "stdout",
          "output_type": "stream",
          "text": [
            "Valid Loss : 0.010151685524910484\n"
          ]
        },
        {
          "metadata": {
            "tags": null
          },
          "name": "stderr",
          "output_type": "stream",
          "text": [
            "100%|██████████| 289/289 [04:18<00:00,  1.12it/s, Epoch=52, LR=1e-6, Train_Loss=0.819, accuracy=0.727, f1=0.644]\n",
            "100%|██████████| 73/73 [00:22<00:00,  3.31it/s, Epoch=52, LR=1e-6, Valid_Loss=0.0109, accuracy=1, f1=1]\n"
          ]
        },
        {
          "metadata": {
            "tags": null
          },
          "name": "stdout",
          "output_type": "stream",
          "text": [
            "Valid Loss : 0.010919515438990234\n"
          ]
        },
        {
          "metadata": {
            "tags": null
          },
          "name": "stderr",
          "output_type": "stream",
          "text": [
            "100%|██████████| 289/289 [04:20<00:00,  1.11it/s, Epoch=53, LR=1e-6, Train_Loss=0.816, accuracy=0.747, f1=0.671]\n",
            "100%|██████████| 73/73 [00:22<00:00,  3.21it/s, Epoch=53, LR=1e-6, Valid_Loss=0.00994, accuracy=1, f1=1]\n"
          ]
        },
        {
          "metadata": {
            "tags": null
          },
          "name": "stdout",
          "output_type": "stream",
          "text": [
            "Valid Loss : 0.00994330652581196\n"
          ]
        },
        {
          "metadata": {
            "tags": null
          },
          "name": "stderr",
          "output_type": "stream",
          "text": [
            "100%|██████████| 289/289 [04:21<00:00,  1.10it/s, Epoch=54, LR=1e-6, Train_Loss=0.804, accuracy=0.734, f1=0.662]\n",
            "100%|██████████| 73/73 [00:22<00:00,  3.29it/s, Epoch=54, LR=1e-6, Valid_Loss=0.0105, accuracy=1, f1=1]\n"
          ]
        },
        {
          "metadata": {
            "tags": null
          },
          "name": "stdout",
          "output_type": "stream",
          "text": [
            "Valid Loss : 0.01046037314179009\n"
          ]
        },
        {
          "metadata": {
            "tags": null
          },
          "name": "stderr",
          "output_type": "stream",
          "text": [
            "100%|██████████| 289/289 [04:19<00:00,  1.11it/s, Epoch=55, LR=1e-6, Train_Loss=0.807, accuracy=0.731, f1=0.65]\n",
            "100%|██████████| 73/73 [00:22<00:00,  3.30it/s, Epoch=55, LR=1e-6, Valid_Loss=0.00949, accuracy=1, f1=1]\n"
          ]
        },
        {
          "metadata": {
            "tags": null
          },
          "name": "stdout",
          "output_type": "stream",
          "text": [
            "Valid Loss : 0.009485484585676291\n",
            "Validation Loss improved( 0.009705056142929483 ---> 0.009485484585676291  )\n",
            "Model Saved\n"
          ]
        },
        {
          "metadata": {
            "tags": null
          },
          "name": "stderr",
          "output_type": "stream",
          "text": [
            "100%|██████████| 289/289 [04:20<00:00,  1.11it/s, Epoch=56, LR=1e-6, Train_Loss=0.811, accuracy=0.741, f1=0.663]\n",
            "100%|██████████| 73/73 [00:22<00:00,  3.28it/s, Epoch=56, LR=1e-6, Valid_Loss=0.0101, accuracy=1, f1=1]\n"
          ]
        },
        {
          "metadata": {
            "tags": null
          },
          "name": "stdout",
          "output_type": "stream",
          "text": [
            "Valid Loss : 0.010146696114121643\n"
          ]
        },
        {
          "metadata": {
            "tags": null
          },
          "name": "stderr",
          "output_type": "stream",
          "text": [
            "100%|██████████| 289/289 [04:22<00:00,  1.10it/s, Epoch=57, LR=1e-6, Train_Loss=0.812, accuracy=0.733, f1=0.656]\n",
            "100%|██████████| 73/73 [00:22<00:00,  3.21it/s, Epoch=57, LR=1e-6, Valid_Loss=0.0104, accuracy=1, f1=1]\n"
          ]
        },
        {
          "metadata": {
            "tags": null
          },
          "name": "stdout",
          "output_type": "stream",
          "text": [
            "Valid Loss : 0.01039336318124647\n"
          ]
        },
        {
          "metadata": {
            "tags": null
          },
          "name": "stderr",
          "output_type": "stream",
          "text": [
            "100%|██████████| 289/289 [04:22<00:00,  1.10it/s, Epoch=58, LR=1e-6, Train_Loss=0.814, accuracy=0.74, f1=0.661]\n",
            "100%|██████████| 73/73 [00:22<00:00,  3.24it/s, Epoch=58, LR=1e-6, Valid_Loss=0.00969, accuracy=1, f1=1]\n"
          ]
        },
        {
          "metadata": {
            "tags": null
          },
          "name": "stdout",
          "output_type": "stream",
          "text": [
            "Valid Loss : 0.009686656484431396\n"
          ]
        },
        {
          "metadata": {
            "tags": null
          },
          "name": "stderr",
          "output_type": "stream",
          "text": [
            "100%|██████████| 289/289 [04:24<00:00,  1.09it/s, Epoch=59, LR=1e-6, Train_Loss=0.805, accuracy=0.72, f1=0.637]\n",
            "100%|██████████| 73/73 [00:22<00:00,  3.18it/s, Epoch=59, LR=1e-6, Valid_Loss=0.00967, accuracy=1, f1=1]\n"
          ]
        },
        {
          "metadata": {
            "tags": null
          },
          "name": "stdout",
          "output_type": "stream",
          "text": [
            "Valid Loss : 0.009673638065179733\n"
          ]
        },
        {
          "metadata": {
            "tags": null
          },
          "name": "stderr",
          "output_type": "stream",
          "text": [
            "100%|██████████| 289/289 [04:22<00:00,  1.10it/s, Epoch=60, LR=1e-6, Train_Loss=0.784, accuracy=0.751, f1=0.676]\n",
            "100%|██████████| 73/73 [00:22<00:00,  3.26it/s, Epoch=60, LR=1e-6, Valid_Loss=0.00892, accuracy=1, f1=1]\n"
          ]
        },
        {
          "metadata": {
            "tags": null
          },
          "name": "stdout",
          "output_type": "stream",
          "text": [
            "Valid Loss : 0.008924827643045008\n",
            "Validation Loss improved( 0.009485484585676291 ---> 0.008924827643045008  )\n",
            "Model Saved\n"
          ]
        },
        {
          "metadata": {
            "tags": null
          },
          "name": "stderr",
          "output_type": "stream",
          "text": [
            "100%|██████████| 289/289 [04:19<00:00,  1.11it/s, Epoch=61, LR=1e-6, Train_Loss=0.806, accuracy=0.734, f1=0.652]\n",
            "100%|██████████| 73/73 [00:22<00:00,  3.26it/s, Epoch=61, LR=1e-6, Valid_Loss=0.00935, accuracy=1, f1=1]\n"
          ]
        },
        {
          "metadata": {
            "tags": null
          },
          "name": "stdout",
          "output_type": "stream",
          "text": [
            "Valid Loss : 0.00935086467596766\n"
          ]
        },
        {
          "metadata": {
            "tags": null
          },
          "name": "stderr",
          "output_type": "stream",
          "text": [
            "100%|██████████| 289/289 [04:20<00:00,  1.11it/s, Epoch=62, LR=1e-6, Train_Loss=0.79, accuracy=0.738, f1=0.66]\n",
            "100%|██████████| 73/73 [00:22<00:00,  3.26it/s, Epoch=62, LR=1e-6, Valid_Loss=0.0106, accuracy=1, f1=1]\n"
          ]
        },
        {
          "metadata": {
            "tags": null
          },
          "name": "stdout",
          "output_type": "stream",
          "text": [
            "Valid Loss : 0.010569475068111126\n"
          ]
        },
        {
          "metadata": {
            "tags": null
          },
          "name": "stderr",
          "output_type": "stream",
          "text": [
            "100%|██████████| 289/289 [04:19<00:00,  1.11it/s, Epoch=63, LR=1e-6, Train_Loss=0.792, accuracy=0.735, f1=0.656]\n",
            "100%|██████████| 73/73 [00:22<00:00,  3.30it/s, Epoch=63, LR=1e-6, Valid_Loss=0.00922, accuracy=1, f1=1]\n"
          ]
        },
        {
          "metadata": {
            "tags": null
          },
          "name": "stdout",
          "output_type": "stream",
          "text": [
            "Valid Loss : 0.0092193939187245\n"
          ]
        },
        {
          "metadata": {
            "tags": null
          },
          "name": "stderr",
          "output_type": "stream",
          "text": [
            "100%|██████████| 289/289 [04:18<00:00,  1.12it/s, Epoch=64, LR=1e-6, Train_Loss=0.811, accuracy=0.729, f1=0.645]\n",
            "100%|██████████| 73/73 [00:22<00:00,  3.30it/s, Epoch=64, LR=1e-6, Valid_Loss=0.00935, accuracy=1, f1=1]\n"
          ]
        },
        {
          "metadata": {
            "tags": null
          },
          "name": "stdout",
          "output_type": "stream",
          "text": [
            "Valid Loss : 0.009353086109949301\n"
          ]
        },
        {
          "metadata": {
            "tags": null
          },
          "name": "stderr",
          "output_type": "stream",
          "text": [
            "100%|██████████| 289/289 [04:19<00:00,  1.11it/s, Epoch=65, LR=1e-6, Train_Loss=0.791, accuracy=0.737, f1=0.657]\n",
            "100%|██████████| 73/73 [00:22<00:00,  3.28it/s, Epoch=65, LR=1e-6, Valid_Loss=0.00881, accuracy=1, f1=1]\n"
          ]
        },
        {
          "metadata": {
            "tags": null
          },
          "name": "stdout",
          "output_type": "stream",
          "text": [
            "Valid Loss : 0.008807690826895302\n",
            "Validation Loss improved( 0.008924827643045008 ---> 0.008807690826895302  )\n",
            "Model Saved\n"
          ]
        },
        {
          "metadata": {
            "tags": null
          },
          "name": "stderr",
          "output_type": "stream",
          "text": [
            "100%|██████████| 289/289 [04:19<00:00,  1.11it/s, Epoch=66, LR=1e-6, Train_Loss=0.783, accuracy=0.742, f1=0.662]\n",
            "100%|██████████| 73/73 [00:22<00:00,  3.30it/s, Epoch=66, LR=1e-6, Valid_Loss=0.00933, accuracy=1, f1=1]\n"
          ]
        },
        {
          "metadata": {
            "tags": null
          },
          "name": "stdout",
          "output_type": "stream",
          "text": [
            "Valid Loss : 0.009327158226618825\n"
          ]
        },
        {
          "metadata": {
            "tags": null
          },
          "name": "stderr",
          "output_type": "stream",
          "text": [
            "100%|██████████| 289/289 [04:19<00:00,  1.11it/s, Epoch=67, LR=1e-6, Train_Loss=0.784, accuracy=0.74, f1=0.664]\n",
            "100%|██████████| 73/73 [00:22<00:00,  3.28it/s, Epoch=67, LR=1e-6, Valid_Loss=0.01, accuracy=1, f1=1]\n"
          ]
        },
        {
          "metadata": {
            "tags": null
          },
          "name": "stdout",
          "output_type": "stream",
          "text": [
            "Valid Loss : 0.01002597228356012\n"
          ]
        },
        {
          "metadata": {
            "tags": null
          },
          "name": "stderr",
          "output_type": "stream",
          "text": [
            "100%|██████████| 289/289 [04:19<00:00,  1.11it/s, Epoch=68, LR=1e-6, Train_Loss=0.795, accuracy=0.744, f1=0.665]\n",
            "100%|██████████| 73/73 [00:22<00:00,  3.28it/s, Epoch=68, LR=1e-6, Valid_Loss=0.00885, accuracy=1, f1=1]\n"
          ]
        },
        {
          "metadata": {
            "tags": null
          },
          "name": "stdout",
          "output_type": "stream",
          "text": [
            "Valid Loss : 0.008854527906706072\n"
          ]
        },
        {
          "metadata": {
            "tags": null
          },
          "name": "stderr",
          "output_type": "stream",
          "text": [
            "100%|██████████| 289/289 [04:20<00:00,  1.11it/s, Epoch=69, LR=1e-6, Train_Loss=0.765, accuracy=0.762, f1=0.688]\n",
            "100%|██████████| 73/73 [00:22<00:00,  3.28it/s, Epoch=69, LR=1e-6, Valid_Loss=0.00911, accuracy=1, f1=1]\n"
          ]
        },
        {
          "metadata": {
            "tags": null
          },
          "name": "stdout",
          "output_type": "stream",
          "text": [
            "Valid Loss : 0.009109109378585669\n"
          ]
        },
        {
          "metadata": {
            "tags": null
          },
          "name": "stderr",
          "output_type": "stream",
          "text": [
            "100%|██████████| 289/289 [04:20<00:00,  1.11it/s, Epoch=70, LR=1e-6, Train_Loss=0.781, accuracy=0.758, f1=0.682]\n",
            "100%|██████████| 73/73 [00:22<00:00,  3.27it/s, Epoch=70, LR=1e-6, Valid_Loss=0.00811, accuracy=1, f1=1]\n"
          ]
        },
        {
          "metadata": {
            "tags": null
          },
          "name": "stdout",
          "output_type": "stream",
          "text": [
            "Valid Loss : 0.008105725630454412\n",
            "Validation Loss improved( 0.008807690826895302 ---> 0.008105725630454412  )\n",
            "Model Saved\n"
          ]
        },
        {
          "metadata": {
            "tags": null
          },
          "name": "stderr",
          "output_type": "stream",
          "text": [
            "100%|██████████| 289/289 [04:21<00:00,  1.11it/s, Epoch=71, LR=1e-6, Train_Loss=0.775, accuracy=0.749, f1=0.675]\n",
            "100%|██████████| 73/73 [00:22<00:00,  3.27it/s, Epoch=71, LR=1e-6, Valid_Loss=0.0091, accuracy=1, f1=1]\n"
          ]
        },
        {
          "metadata": {
            "tags": null
          },
          "name": "stdout",
          "output_type": "stream",
          "text": [
            "Valid Loss : 0.009095793188077538\n"
          ]
        },
        {
          "metadata": {
            "tags": null
          },
          "name": "stderr",
          "output_type": "stream",
          "text": [
            "100%|██████████| 289/289 [04:20<00:00,  1.11it/s, Epoch=72, LR=1e-6, Train_Loss=0.766, accuracy=0.764, f1=0.682]\n",
            "100%|██████████| 73/73 [00:22<00:00,  3.26it/s, Epoch=72, LR=1e-6, Valid_Loss=0.00966, accuracy=1, f1=1]\n"
          ]
        },
        {
          "metadata": {
            "tags": null
          },
          "name": "stdout",
          "output_type": "stream",
          "text": [
            "Valid Loss : 0.009655042793856908\n"
          ]
        },
        {
          "metadata": {
            "tags": null
          },
          "name": "stderr",
          "output_type": "stream",
          "text": [
            "100%|██████████| 289/289 [04:20<00:00,  1.11it/s, Epoch=73, LR=1e-6, Train_Loss=0.789, accuracy=0.744, f1=0.666]\n",
            "100%|██████████| 73/73 [00:22<00:00,  3.27it/s, Epoch=73, LR=1e-6, Valid_Loss=0.00813, accuracy=1, f1=1]\n"
          ]
        },
        {
          "metadata": {
            "tags": null
          },
          "name": "stdout",
          "output_type": "stream",
          "text": [
            "Valid Loss : 0.00813278054486807\n"
          ]
        },
        {
          "metadata": {
            "tags": null
          },
          "name": "stderr",
          "output_type": "stream",
          "text": [
            "100%|██████████| 289/289 [04:20<00:00,  1.11it/s, Epoch=74, LR=1e-6, Train_Loss=0.779, accuracy=0.75, f1=0.666]\n",
            "100%|██████████| 73/73 [00:22<00:00,  3.28it/s, Epoch=74, LR=1e-6, Valid_Loss=0.00908, accuracy=1, f1=1]\n"
          ]
        },
        {
          "metadata": {
            "tags": null
          },
          "name": "stdout",
          "output_type": "stream",
          "text": [
            "Valid Loss : 0.009083207467035071\n"
          ]
        },
        {
          "metadata": {
            "tags": null
          },
          "name": "stderr",
          "output_type": "stream",
          "text": [
            "100%|██████████| 289/289 [04:20<00:00,  1.11it/s, Epoch=75, LR=1e-6, Train_Loss=0.768, accuracy=0.743, f1=0.661]\n",
            "100%|██████████| 73/73 [00:22<00:00,  3.29it/s, Epoch=75, LR=1e-6, Valid_Loss=0.00792, accuracy=1, f1=1]\n"
          ]
        },
        {
          "metadata": {
            "tags": null
          },
          "name": "stdout",
          "output_type": "stream",
          "text": [
            "Valid Loss : 0.00791714788886578\n",
            "Validation Loss improved( 0.008105725630454412 ---> 0.00791714788886578  )\n",
            "Model Saved\n"
          ]
        },
        {
          "metadata": {
            "tags": null
          },
          "name": "stderr",
          "output_type": "stream",
          "text": [
            "100%|██████████| 289/289 [04:20<00:00,  1.11it/s, Epoch=76, LR=1e-6, Train_Loss=0.752, accuracy=0.762, f1=0.685]\n",
            "100%|██████████| 73/73 [00:22<00:00,  3.27it/s, Epoch=76, LR=1e-6, Valid_Loss=0.00834, accuracy=1, f1=1]\n"
          ]
        },
        {
          "metadata": {
            "tags": null
          },
          "name": "stdout",
          "output_type": "stream",
          "text": [
            "Valid Loss : 0.008340882223533236\n"
          ]
        },
        {
          "metadata": {
            "tags": null
          },
          "name": "stderr",
          "output_type": "stream",
          "text": [
            "100%|██████████| 289/289 [04:20<00:00,  1.11it/s, Epoch=77, LR=1e-6, Train_Loss=0.758, accuracy=0.742, f1=0.669]\n",
            "100%|██████████| 73/73 [00:22<00:00,  3.27it/s, Epoch=77, LR=1e-6, Valid_Loss=0.00927, accuracy=1, f1=1]\n"
          ]
        },
        {
          "metadata": {
            "tags": null
          },
          "name": "stdout",
          "output_type": "stream",
          "text": [
            "Valid Loss : 0.009265299631308203\n"
          ]
        },
        {
          "metadata": {
            "tags": null
          },
          "name": "stderr",
          "output_type": "stream",
          "text": [
            "100%|██████████| 289/289 [04:20<00:00,  1.11it/s, Epoch=78, LR=1e-6, Train_Loss=0.759, accuracy=0.756, f1=0.686]\n",
            "100%|██████████| 73/73 [00:22<00:00,  3.27it/s, Epoch=78, LR=1e-6, Valid_Loss=0.00875, accuracy=1, f1=1]\n"
          ]
        },
        {
          "metadata": {
            "tags": null
          },
          "name": "stdout",
          "output_type": "stream",
          "text": [
            "Valid Loss : 0.008753441663280334\n"
          ]
        },
        {
          "metadata": {
            "tags": null
          },
          "name": "stderr",
          "output_type": "stream",
          "text": [
            "100%|██████████| 289/289 [04:20<00:00,  1.11it/s, Epoch=79, LR=1e-6, Train_Loss=0.759, accuracy=0.756, f1=0.679]\n",
            "100%|██████████| 73/73 [00:22<00:00,  3.26it/s, Epoch=79, LR=1e-6, Valid_Loss=0.00803, accuracy=1, f1=1]\n"
          ]
        },
        {
          "metadata": {
            "tags": null
          },
          "name": "stdout",
          "output_type": "stream",
          "text": [
            "Valid Loss : 0.008033425917160022\n"
          ]
        },
        {
          "metadata": {
            "tags": null
          },
          "name": "stderr",
          "output_type": "stream",
          "text": [
            "100%|██████████| 289/289 [04:27<00:00,  1.08it/s, Epoch=80, LR=1e-6, Train_Loss=0.777, accuracy=0.742, f1=0.662]\n",
            "100%|██████████| 73/73 [00:22<00:00,  3.26it/s, Epoch=80, LR=1e-6, Valid_Loss=0.00727, accuracy=1, f1=1]\n"
          ]
        },
        {
          "metadata": {
            "tags": null
          },
          "name": "stdout",
          "output_type": "stream",
          "text": [
            "Valid Loss : 0.007274169800165173\n",
            "Validation Loss improved( 0.00791714788886578 ---> 0.007274169800165173  )\n",
            "Model Saved\n"
          ]
        },
        {
          "metadata": {
            "tags": null
          },
          "name": "stderr",
          "output_type": "stream",
          "text": [
            "100%|██████████| 289/289 [04:20<00:00,  1.11it/s, Epoch=81, LR=1e-6, Train_Loss=0.759, accuracy=0.766, f1=0.69]\n",
            "100%|██████████| 73/73 [00:22<00:00,  3.26it/s, Epoch=81, LR=1e-6, Valid_Loss=0.00808, accuracy=1, f1=1]\n"
          ]
        },
        {
          "metadata": {
            "tags": null
          },
          "name": "stdout",
          "output_type": "stream",
          "text": [
            "Valid Loss : 0.008078405021192276\n"
          ]
        },
        {
          "metadata": {
            "tags": null
          },
          "name": "stderr",
          "output_type": "stream",
          "text": [
            "100%|██████████| 289/289 [04:24<00:00,  1.09it/s, Epoch=82, LR=1e-6, Train_Loss=0.767, accuracy=0.749, f1=0.671]\n",
            "100%|██████████| 73/73 [00:22<00:00,  3.26it/s, Epoch=82, LR=1e-6, Valid_Loss=0.00878, accuracy=1, f1=1]\n"
          ]
        },
        {
          "metadata": {
            "tags": null
          },
          "name": "stdout",
          "output_type": "stream",
          "text": [
            "Valid Loss : 0.008777135284617543\n"
          ]
        },
        {
          "metadata": {
            "tags": null
          },
          "name": "stderr",
          "output_type": "stream",
          "text": [
            "100%|██████████| 289/289 [04:20<00:00,  1.11it/s, Epoch=83, LR=1e-6, Train_Loss=0.753, accuracy=0.754, f1=0.672]\n",
            "100%|██████████| 73/73 [00:22<00:00,  3.21it/s, Epoch=83, LR=1e-6, Valid_Loss=0.00779, accuracy=1, f1=1]\n"
          ]
        },
        {
          "metadata": {
            "tags": null
          },
          "name": "stdout",
          "output_type": "stream",
          "text": [
            "Valid Loss : 0.007791721140838241\n"
          ]
        },
        {
          "metadata": {
            "tags": null
          },
          "name": "stderr",
          "output_type": "stream",
          "text": [
            "100%|██████████| 289/289 [04:20<00:00,  1.11it/s, Epoch=84, LR=1e-6, Train_Loss=0.755, accuracy=0.756, f1=0.678]\n",
            "100%|██████████| 73/73 [00:22<00:00,  3.25it/s, Epoch=84, LR=1e-6, Valid_Loss=0.00816, accuracy=1, f1=1]\n"
          ]
        },
        {
          "metadata": {
            "tags": null
          },
          "name": "stdout",
          "output_type": "stream",
          "text": [
            "Valid Loss : 0.008158038855109313\n"
          ]
        },
        {
          "metadata": {
            "tags": null
          },
          "name": "stderr",
          "output_type": "stream",
          "text": [
            "100%|██████████| 289/289 [04:23<00:00,  1.10it/s, Epoch=85, LR=1e-6, Train_Loss=0.764, accuracy=0.755, f1=0.678]\n",
            "100%|██████████| 73/73 [00:22<00:00,  3.27it/s, Epoch=85, LR=1e-6, Valid_Loss=0.00708, accuracy=1, f1=1]\n"
          ]
        },
        {
          "metadata": {
            "tags": null
          },
          "name": "stdout",
          "output_type": "stream",
          "text": [
            "Valid Loss : 0.007083565286960299\n",
            "Validation Loss improved( 0.007274169800165173 ---> 0.007083565286960299  )\n",
            "Model Saved\n"
          ]
        },
        {
          "metadata": {
            "tags": null
          },
          "name": "stderr",
          "output_type": "stream",
          "text": [
            "100%|██████████| 289/289 [04:21<00:00,  1.11it/s, Epoch=86, LR=1e-6, Train_Loss=0.756, accuracy=0.757, f1=0.679]\n",
            "100%|██████████| 73/73 [00:22<00:00,  3.26it/s, Epoch=86, LR=1e-6, Valid_Loss=0.00794, accuracy=1, f1=1]\n"
          ]
        },
        {
          "metadata": {
            "tags": null
          },
          "name": "stdout",
          "output_type": "stream",
          "text": [
            "Valid Loss : 0.007940754881256248\n"
          ]
        },
        {
          "metadata": {
            "tags": null
          },
          "name": "stderr",
          "output_type": "stream",
          "text": [
            "100%|██████████| 289/289 [04:21<00:00,  1.11it/s, Epoch=87, LR=1e-6, Train_Loss=0.752, accuracy=0.766, f1=0.691]\n",
            "100%|██████████| 73/73 [00:22<00:00,  3.26it/s, Epoch=87, LR=1e-6, Valid_Loss=0.00867, accuracy=1, f1=1]\n"
          ]
        },
        {
          "metadata": {
            "tags": null
          },
          "name": "stdout",
          "output_type": "stream",
          "text": [
            "Valid Loss : 0.008671701892138752\n"
          ]
        },
        {
          "metadata": {
            "tags": null
          },
          "name": "stderr",
          "output_type": "stream",
          "text": [
            "100%|██████████| 289/289 [04:21<00:00,  1.11it/s, Epoch=88, LR=1e-6, Train_Loss=0.75, accuracy=0.745, f1=0.673]\n",
            "100%|██████████| 73/73 [00:22<00:00,  3.26it/s, Epoch=88, LR=1e-6, Valid_Loss=0.00765, accuracy=1, f1=1]\n"
          ]
        },
        {
          "metadata": {
            "tags": null
          },
          "name": "stdout",
          "output_type": "stream",
          "text": [
            "Valid Loss : 0.00765280727271552\n"
          ]
        },
        {
          "metadata": {
            "tags": null
          },
          "name": "stderr",
          "output_type": "stream",
          "text": [
            "100%|██████████| 289/289 [04:20<00:00,  1.11it/s, Epoch=89, LR=1e-6, Train_Loss=0.757, accuracy=0.759, f1=0.682]\n",
            "100%|██████████| 73/73 [00:22<00:00,  3.27it/s, Epoch=89, LR=1e-6, Valid_Loss=0.0076, accuracy=1, f1=1]\n"
          ]
        },
        {
          "metadata": {
            "tags": null
          },
          "name": "stdout",
          "output_type": "stream",
          "text": [
            "Valid Loss : 0.0075985589543076815\n"
          ]
        },
        {
          "metadata": {
            "tags": null
          },
          "name": "stderr",
          "output_type": "stream",
          "text": [
            "100%|██████████| 289/289 [04:21<00:00,  1.10it/s, Epoch=90, LR=1e-6, Train_Loss=0.748, accuracy=0.745, f1=0.67]\n",
            "100%|██████████| 73/73 [00:22<00:00,  3.27it/s, Epoch=90, LR=1e-6, Valid_Loss=0.00681, accuracy=1, f1=1]\n"
          ]
        },
        {
          "metadata": {
            "tags": null
          },
          "name": "stdout",
          "output_type": "stream",
          "text": [
            "Valid Loss : 0.006806803222949782\n",
            "Validation Loss improved( 0.007083565286960299 ---> 0.006806803222949782  )\n",
            "Model Saved\n"
          ]
        },
        {
          "metadata": {
            "tags": null
          },
          "name": "stderr",
          "output_type": "stream",
          "text": [
            "100%|██████████| 289/289 [04:21<00:00,  1.10it/s, Epoch=91, LR=1e-6, Train_Loss=0.742, accuracy=0.748, f1=0.667]\n",
            "100%|██████████| 73/73 [00:22<00:00,  3.28it/s, Epoch=91, LR=1e-6, Valid_Loss=0.00754, accuracy=1, f1=1]\n"
          ]
        },
        {
          "metadata": {
            "tags": null
          },
          "name": "stdout",
          "output_type": "stream",
          "text": [
            "Valid Loss : 0.007542613195255399\n"
          ]
        },
        {
          "metadata": {
            "tags": null
          },
          "name": "stderr",
          "output_type": "stream",
          "text": [
            "100%|██████████| 289/289 [04:21<00:00,  1.10it/s, Epoch=92, LR=1e-6, Train_Loss=0.742, accuracy=0.756, f1=0.683]\n",
            "100%|██████████| 73/73 [00:22<00:00,  3.26it/s, Epoch=92, LR=1e-6, Valid_Loss=0.00791, accuracy=1, f1=1]\n"
          ]
        },
        {
          "metadata": {
            "tags": null
          },
          "name": "stdout",
          "output_type": "stream",
          "text": [
            "Valid Loss : 0.007913007694360328\n"
          ]
        },
        {
          "metadata": {
            "tags": null
          },
          "name": "stderr",
          "output_type": "stream",
          "text": [
            "100%|██████████| 289/289 [04:23<00:00,  1.10it/s, Epoch=93, LR=1e-6, Train_Loss=0.753, accuracy=0.739, f1=0.659]\n",
            "100%|██████████| 73/73 [00:22<00:00,  3.22it/s, Epoch=93, LR=1e-6, Valid_Loss=0.00715, accuracy=1, f1=1]\n"
          ]
        },
        {
          "metadata": {
            "tags": null
          },
          "name": "stdout",
          "output_type": "stream",
          "text": [
            "Valid Loss : 0.007152304872998024\n"
          ]
        },
        {
          "metadata": {
            "tags": null
          },
          "name": "stderr",
          "output_type": "stream",
          "text": [
            "100%|██████████| 289/289 [04:23<00:00,  1.10it/s, Epoch=94, LR=1e-6, Train_Loss=0.744, accuracy=0.758, f1=0.685]\n",
            "100%|██████████| 73/73 [00:22<00:00,  3.21it/s, Epoch=94, LR=1e-6, Valid_Loss=0.00799, accuracy=0.999, f1=0.999]\n"
          ]
        },
        {
          "metadata": {
            "tags": null
          },
          "name": "stdout",
          "output_type": "stream",
          "text": [
            "Valid Loss : 0.007985127244578444\n"
          ]
        },
        {
          "metadata": {
            "tags": null
          },
          "name": "stderr",
          "output_type": "stream",
          "text": [
            "100%|██████████| 289/289 [04:23<00:00,  1.10it/s, Epoch=95, LR=1e-6, Train_Loss=0.748, accuracy=0.769, f1=0.698]\n",
            "100%|██████████| 73/73 [00:22<00:00,  3.21it/s, Epoch=95, LR=1e-6, Valid_Loss=0.00702, accuracy=1, f1=1]\n"
          ]
        },
        {
          "metadata": {
            "tags": null
          },
          "name": "stdout",
          "output_type": "stream",
          "text": [
            "Valid Loss : 0.0070235559761473165\n"
          ]
        },
        {
          "metadata": {
            "tags": null
          },
          "name": "stderr",
          "output_type": "stream",
          "text": [
            "100%|██████████| 289/289 [04:23<00:00,  1.09it/s, Epoch=96, LR=1e-6, Train_Loss=0.749, accuracy=0.752, f1=0.677]\n",
            "100%|██████████| 73/73 [00:22<00:00,  3.20it/s, Epoch=96, LR=1e-6, Valid_Loss=0.00706, accuracy=1, f1=1]\n"
          ]
        },
        {
          "metadata": {
            "tags": null
          },
          "name": "stdout",
          "output_type": "stream",
          "text": [
            "Valid Loss : 0.007062293793240639\n"
          ]
        },
        {
          "metadata": {
            "tags": null
          },
          "name": "stderr",
          "output_type": "stream",
          "text": [
            "100%|██████████| 289/289 [04:23<00:00,  1.10it/s, Epoch=97, LR=1e-6, Train_Loss=0.736, accuracy=0.761, f1=0.681]\n",
            "100%|██████████| 73/73 [00:23<00:00,  3.17it/s, Epoch=97, LR=1e-6, Valid_Loss=0.00799, accuracy=1, f1=1]\n"
          ]
        },
        {
          "metadata": {
            "tags": null
          },
          "name": "stdout",
          "output_type": "stream",
          "text": [
            "Valid Loss : 0.007993110611856188\n"
          ]
        },
        {
          "output_type": "stream",
          "name": "stderr",
          "text": [
            "100%|██████████| 289/289 [04:22<00:00,  1.10it/s, Epoch=98, LR=1e-6, Train_Loss=0.756, accuracy=0.745, f1=0.665]\n",
            "100%|██████████| 73/73 [00:22<00:00,  3.20it/s, Epoch=98, LR=1e-6, Valid_Loss=0.00711, accuracy=1, f1=1]\n"
          ]
        },
        {
          "output_type": "stream",
          "name": "stdout",
          "text": [
            "Valid Loss : 0.007107654404635094\n"
          ]
        },
        {
          "output_type": "stream",
          "name": "stderr",
          "text": [
            "100%|██████████| 289/289 [04:22<00:00,  1.10it/s, Epoch=99, LR=1e-6, Train_Loss=0.731, accuracy=0.781, f1=0.707]\n",
            "100%|██████████| 73/73 [00:22<00:00,  3.22it/s, Epoch=99, LR=1e-6, Valid_Loss=0.00718, accuracy=1, f1=1]\n"
          ]
        },
        {
          "output_type": "stream",
          "name": "stdout",
          "text": [
            "Valid Loss : 0.007179350467807014\n",
            "Training complete in 7h 52m 34s\n",
            "Best Loss: 0.0068\n"
          ]
        }
      ],
      "source": [
        "ic.disable()\n",
        "run_training(\n",
        "    model=model,\n",
        "    optimizer=optimizer,\n",
        "    # scheduler=torch.optim.lr_scheduler.CosineAnnealingLR(\n",
        "    #     optimizer=optimizer, T_max=CONFIG['T_max'], eta_min=CONFIG['min_lr']),\n",
        "    scheduler=None,\n",
        "    device=device,\n",
        "    num_epochs=100,\n",
        "    metric_prefix=\"\",\n",
        "    file_prefix=\"\",\n",
        "    early_stopping=CONFIG['early_stopping'],\n",
        "    early_stopping_step=CONFIG['early_stopping_step'],\n",
        "    START_EPOCH=0,\n",
        ");\n"
      ]
    },
    {
      "cell_type": "markdown",
      "source": [
        "# 100 epochs"
      ],
      "metadata": {
        "id": "nEqqIyxDqIdM"
      }
    },
    {
      "cell_type": "code",
      "source": [
        "wandb.restore(f'{CONFIG[\"nickname\"]}last.bin', 'jiwon7258/lg/zwfbinnt', root='./')"
      ],
      "metadata": {
        "colab": {
          "base_uri": "https://localhost:8080/"
        },
        "id": "lIdG01Xzjmfv",
        "outputId": "e8dde08b-253a-4517-a68f-f4a365f0554d"
      },
      "execution_count": null,
      "outputs": [
        {
          "output_type": "execute_result",
          "data": {
            "text/plain": [
              "<_io.TextIOWrapper name='./CoAtNet mini finecutmixlast.bin' mode='r' encoding='UTF-8'>"
            ]
          },
          "metadata": {},
          "execution_count": 26
        }
      ]
    },
    {
      "cell_type": "code",
      "source": [
        "model.load_state_dict(torch.load(f'{CONFIG[\"nickname\"]}last.bin',\n",
        "                      map_location=CONFIG['device']))"
      ],
      "metadata": {
        "colab": {
          "base_uri": "https://localhost:8080/"
        },
        "id": "rCcUuuDnhKJk",
        "outputId": "2db11e50-752b-42c4-c8bf-286a5a431b94"
      },
      "execution_count": null,
      "outputs": [
        {
          "output_type": "execute_result",
          "data": {
            "text/plain": [
              "<All keys matched successfully>"
            ]
          },
          "metadata": {},
          "execution_count": 27
        }
      ]
    },
    {
      "cell_type": "code",
      "source": [
        "optimizer = torch.optim.Adam(\n",
        "    params=model.parameters(), lr=1e-6, weight_decay=CONFIG['weight_decay'])"
      ],
      "metadata": {
        "id": "-tHHfRQPkeyG"
      },
      "execution_count": null,
      "outputs": []
    },
    {
      "cell_type": "code",
      "source": [
        "ic.disable()\n",
        "run_training(\n",
        "    model=model,\n",
        "    optimizer=optimizer,\n",
        "    # scheduler=torch.optim.lr_scheduler.CosineAnnealingLR(\n",
        "    #     optimizer=optimizer, T_max=CONFIG['T_max'], eta_min=CONFIG['min_lr']),\n",
        "    scheduler=None,\n",
        "    device=device,\n",
        "    num_epochs=100,\n",
        "    metric_prefix=\"\",\n",
        "    file_prefix=\"\",\n",
        "    early_stopping=CONFIG['early_stopping'],\n",
        "    early_stopping_step=CONFIG['early_stopping_step'],\n",
        "    START_EPOCH=106,\n",
        ");\n"
      ],
      "metadata": {
        "colab": {
          "base_uri": "https://localhost:8080/"
        },
        "id": "U2AlCaa7qRw2",
        "outputId": "ff511dba-23c8-4e7a-f38b-975b5561f961"
      },
      "execution_count": null,
      "outputs": [
        {
          "metadata": {
            "tags": null
          },
          "name": "stdout",
          "output_type": "stream",
          "text": [
            "[INFO] Using GPU:Tesla P100-PCIE-16GB\n",
            "\n"
          ]
        },
        {
          "metadata": {
            "tags": null
          },
          "name": "stderr",
          "output_type": "stream",
          "text": [
            "100%|██████████| 289/289 [04:22<00:00,  1.10it/s, Epoch=106, LR=1e-6, Train_Loss=0.745, accuracy=0.758, f1=0.68]\n",
            "100%|██████████| 73/73 [00:22<00:00,  3.23it/s, Epoch=106, LR=1e-6, Valid_Loss=0.00734, accuracy=1, f1=1]\n"
          ]
        },
        {
          "metadata": {
            "tags": null
          },
          "name": "stdout",
          "output_type": "stream",
          "text": [
            "Valid Loss : 0.0073432222914512025\n",
            "Validation Loss improved( inf ---> 0.0073432222914512025  )\n",
            "Model Saved\n"
          ]
        },
        {
          "metadata": {
            "tags": null
          },
          "name": "stderr",
          "output_type": "stream",
          "text": [
            "100%|██████████| 289/289 [04:22<00:00,  1.10it/s, Epoch=107, LR=1e-6, Train_Loss=0.729, accuracy=0.765, f1=0.687]\n",
            "100%|██████████| 73/73 [00:22<00:00,  3.23it/s, Epoch=107, LR=1e-6, Valid_Loss=0.00789, accuracy=1, f1=1]\n"
          ]
        },
        {
          "metadata": {
            "tags": null
          },
          "name": "stdout",
          "output_type": "stream",
          "text": [
            "Valid Loss : 0.007892853487920884\n"
          ]
        },
        {
          "metadata": {
            "tags": null
          },
          "name": "stderr",
          "output_type": "stream",
          "text": [
            "100%|██████████| 289/289 [04:22<00:00,  1.10it/s, Epoch=108, LR=1e-6, Train_Loss=0.743, accuracy=0.758, f1=0.68]\n",
            "100%|██████████| 73/73 [00:22<00:00,  3.24it/s, Epoch=108, LR=1e-6, Valid_Loss=0.00673, accuracy=1, f1=1]\n"
          ]
        },
        {
          "metadata": {
            "tags": null
          },
          "name": "stdout",
          "output_type": "stream",
          "text": [
            "Valid Loss : 0.006730804146484357\n",
            "Validation Loss improved( 0.0073432222914512025 ---> 0.006730804146484357  )\n",
            "Model Saved\n"
          ]
        },
        {
          "metadata": {
            "tags": null
          },
          "name": "stderr",
          "output_type": "stream",
          "text": [
            "100%|██████████| 289/289 [04:22<00:00,  1.10it/s, Epoch=109, LR=1e-6, Train_Loss=0.735, accuracy=0.765, f1=0.69]\n",
            "100%|██████████| 73/73 [00:22<00:00,  3.23it/s, Epoch=109, LR=1e-6, Valid_Loss=0.00721, accuracy=1, f1=1]\n"
          ]
        },
        {
          "metadata": {
            "tags": null
          },
          "name": "stdout",
          "output_type": "stream",
          "text": [
            "Valid Loss : 0.007212914867734868\n"
          ]
        },
        {
          "metadata": {
            "tags": null
          },
          "name": "stderr",
          "output_type": "stream",
          "text": [
            "100%|██████████| 289/289 [04:22<00:00,  1.10it/s, Epoch=110, LR=1e-6, Train_Loss=0.728, accuracy=0.772, f1=0.695]\n",
            "100%|██████████| 73/73 [00:22<00:00,  3.23it/s, Epoch=110, LR=1e-6, Valid_Loss=0.00607, accuracy=1, f1=1]\n"
          ]
        },
        {
          "metadata": {
            "tags": null
          },
          "name": "stdout",
          "output_type": "stream",
          "text": [
            "Valid Loss : 0.006071213817810768\n",
            "Validation Loss improved( 0.006730804146484357 ---> 0.006071213817810768  )\n",
            "Model Saved\n"
          ]
        },
        {
          "metadata": {
            "tags": null
          },
          "name": "stderr",
          "output_type": "stream",
          "text": [
            "100%|██████████| 289/289 [04:22<00:00,  1.10it/s, Epoch=111, LR=1e-6, Train_Loss=0.736, accuracy=0.772, f1=0.7]\n",
            "100%|██████████| 73/73 [00:22<00:00,  3.23it/s, Epoch=111, LR=1e-6, Valid_Loss=0.00707, accuracy=1, f1=1]\n"
          ]
        },
        {
          "metadata": {
            "tags": null
          },
          "name": "stdout",
          "output_type": "stream",
          "text": [
            "Valid Loss : 0.007066207293625155\n"
          ]
        },
        {
          "metadata": {
            "tags": null
          },
          "name": "stderr",
          "output_type": "stream",
          "text": [
            "100%|██████████| 289/289 [04:22<00:00,  1.10it/s, Epoch=112, LR=1e-6, Train_Loss=0.731, accuracy=0.761, f1=0.682]\n",
            "100%|██████████| 73/73 [00:22<00:00,  3.23it/s, Epoch=112, LR=1e-6, Valid_Loss=0.00789, accuracy=1, f1=1]\n"
          ]
        },
        {
          "metadata": {
            "tags": null
          },
          "name": "stdout",
          "output_type": "stream",
          "text": [
            "Valid Loss : 0.007893025482787865\n"
          ]
        },
        {
          "metadata": {
            "tags": null
          },
          "name": "stderr",
          "output_type": "stream",
          "text": [
            "100%|██████████| 289/289 [04:22<00:00,  1.10it/s, Epoch=113, LR=1e-6, Train_Loss=0.741, accuracy=0.761, f1=0.687]\n",
            "100%|██████████| 73/73 [00:22<00:00,  3.24it/s, Epoch=113, LR=1e-6, Valid_Loss=0.00682, accuracy=1, f1=1]\n"
          ]
        },
        {
          "metadata": {
            "tags": null
          },
          "name": "stdout",
          "output_type": "stream",
          "text": [
            "Valid Loss : 0.0068213351482321345\n"
          ]
        },
        {
          "metadata": {
            "tags": null
          },
          "name": "stderr",
          "output_type": "stream",
          "text": [
            "100%|██████████| 289/289 [04:22<00:00,  1.10it/s, Epoch=114, LR=1e-6, Train_Loss=0.727, accuracy=0.756, f1=0.681]\n",
            "100%|██████████| 73/73 [00:22<00:00,  3.25it/s, Epoch=114, LR=1e-6, Valid_Loss=0.00718, accuracy=1, f1=1]\n"
          ]
        },
        {
          "metadata": {
            "tags": null
          },
          "name": "stdout",
          "output_type": "stream",
          "text": [
            "Valid Loss : 0.0071751235359131475\n"
          ]
        },
        {
          "metadata": {
            "tags": null
          },
          "name": "stderr",
          "output_type": "stream",
          "text": [
            "100%|██████████| 289/289 [04:21<00:00,  1.10it/s, Epoch=115, LR=1e-6, Train_Loss=0.721, accuracy=0.78, f1=0.702]\n",
            "100%|██████████| 73/73 [00:22<00:00,  3.26it/s, Epoch=115, LR=1e-6, Valid_Loss=0.00633, accuracy=1, f1=1]\n"
          ]
        },
        {
          "metadata": {
            "tags": null
          },
          "name": "stdout",
          "output_type": "stream",
          "text": [
            "Valid Loss : 0.006331874019377036\n"
          ]
        },
        {
          "metadata": {
            "tags": null
          },
          "name": "stderr",
          "output_type": "stream",
          "text": [
            "100%|██████████| 289/289 [04:21<00:00,  1.10it/s, Epoch=116, LR=1e-6, Train_Loss=0.725, accuracy=0.763, f1=0.686]\n",
            "100%|██████████| 73/73 [00:22<00:00,  3.24it/s, Epoch=116, LR=1e-6, Valid_Loss=0.00647, accuracy=1, f1=1]\n"
          ]
        },
        {
          "metadata": {
            "tags": null
          },
          "name": "stdout",
          "output_type": "stream",
          "text": [
            "Valid Loss : 0.0064748511793193955\n"
          ]
        },
        {
          "metadata": {
            "tags": null
          },
          "name": "stderr",
          "output_type": "stream",
          "text": [
            "100%|██████████| 289/289 [04:22<00:00,  1.10it/s, Epoch=117, LR=1e-6, Train_Loss=0.729, accuracy=0.768, f1=0.697]\n",
            "100%|██████████| 73/73 [00:22<00:00,  3.23it/s, Epoch=117, LR=1e-6, Valid_Loss=0.00743, accuracy=1, f1=1]\n"
          ]
        },
        {
          "metadata": {
            "tags": null
          },
          "name": "stdout",
          "output_type": "stream",
          "text": [
            "Valid Loss : 0.007431565040773521\n"
          ]
        },
        {
          "metadata": {
            "tags": null
          },
          "name": "stderr",
          "output_type": "stream",
          "text": [
            "100%|██████████| 289/289 [04:22<00:00,  1.10it/s, Epoch=118, LR=1e-6, Train_Loss=0.723, accuracy=0.763, f1=0.689]\n",
            "100%|██████████| 73/73 [00:22<00:00,  3.24it/s, Epoch=118, LR=1e-6, Valid_Loss=0.00634, accuracy=1, f1=1]\n"
          ]
        },
        {
          "metadata": {
            "tags": null
          },
          "name": "stdout",
          "output_type": "stream",
          "text": [
            "Valid Loss : 0.006337236686392802\n"
          ]
        },
        {
          "metadata": {
            "tags": null
          },
          "name": "stderr",
          "output_type": "stream",
          "text": [
            "100%|██████████| 289/289 [04:22<00:00,  1.10it/s, Epoch=119, LR=1e-6, Train_Loss=0.73, accuracy=0.757, f1=0.68]\n",
            "100%|██████████| 73/73 [00:22<00:00,  3.24it/s, Epoch=119, LR=1e-6, Valid_Loss=0.0064, accuracy=1, f1=1]\n"
          ]
        },
        {
          "metadata": {
            "tags": null
          },
          "name": "stdout",
          "output_type": "stream",
          "text": [
            "Valid Loss : 0.006399006818816678\n"
          ]
        },
        {
          "metadata": {
            "tags": null
          },
          "name": "stderr",
          "output_type": "stream",
          "text": [
            "100%|██████████| 289/289 [04:22<00:00,  1.10it/s, Epoch=120, LR=1e-6, Train_Loss=0.728, accuracy=0.757, f1=0.681]\n",
            "100%|██████████| 73/73 [00:22<00:00,  3.25it/s, Epoch=120, LR=1e-6, Valid_Loss=0.00587, accuracy=1, f1=1]\n"
          ]
        },
        {
          "metadata": {
            "tags": null
          },
          "name": "stdout",
          "output_type": "stream",
          "text": [
            "Valid Loss : 0.0058672039495296265\n",
            "Validation Loss improved( 0.006071213817810768 ---> 0.0058672039495296265  )\n",
            "Model Saved\n"
          ]
        },
        {
          "metadata": {
            "tags": null
          },
          "name": "stderr",
          "output_type": "stream",
          "text": [
            "100%|██████████| 289/289 [04:22<00:00,  1.10it/s, Epoch=121, LR=1e-6, Train_Loss=0.722, accuracy=0.767, f1=0.694]\n",
            "100%|██████████| 73/73 [00:22<00:00,  3.23it/s, Epoch=121, LR=1e-6, Valid_Loss=0.00649, accuracy=1, f1=1]\n"
          ]
        },
        {
          "metadata": {
            "tags": null
          },
          "name": "stdout",
          "output_type": "stream",
          "text": [
            "Valid Loss : 0.006486016408578582\n"
          ]
        },
        {
          "metadata": {
            "tags": null
          },
          "name": "stderr",
          "output_type": "stream",
          "text": [
            "100%|██████████| 289/289 [04:22<00:00,  1.10it/s, Epoch=122, LR=1e-6, Train_Loss=0.721, accuracy=0.749, f1=0.674]\n",
            "100%|██████████| 73/73 [00:22<00:00,  3.23it/s, Epoch=122, LR=1e-6, Valid_Loss=0.00695, accuracy=1, f1=1]\n"
          ]
        },
        {
          "metadata": {
            "tags": null
          },
          "name": "stdout",
          "output_type": "stream",
          "text": [
            "Valid Loss : 0.006946760548712456\n"
          ]
        },
        {
          "metadata": {
            "tags": null
          },
          "name": "stderr",
          "output_type": "stream",
          "text": [
            "100%|██████████| 289/289 [04:22<00:00,  1.10it/s, Epoch=123, LR=1e-6, Train_Loss=0.722, accuracy=0.762, f1=0.689]\n",
            "100%|██████████| 73/73 [00:22<00:00,  3.23it/s, Epoch=123, LR=1e-6, Valid_Loss=0.00625, accuracy=1, f1=1]\n"
          ]
        },
        {
          "metadata": {
            "tags": null
          },
          "name": "stdout",
          "output_type": "stream",
          "text": [
            "Valid Loss : 0.006249508460065069\n"
          ]
        },
        {
          "metadata": {
            "tags": null
          },
          "name": "stderr",
          "output_type": "stream",
          "text": [
            "100%|██████████| 289/289 [04:22<00:00,  1.10it/s, Epoch=124, LR=1e-6, Train_Loss=0.722, accuracy=0.764, f1=0.686]\n",
            "100%|██████████| 73/73 [00:22<00:00,  3.24it/s, Epoch=124, LR=1e-6, Valid_Loss=0.00638, accuracy=1, f1=1]\n"
          ]
        },
        {
          "metadata": {
            "tags": null
          },
          "name": "stdout",
          "output_type": "stream",
          "text": [
            "Valid Loss : 0.006377463522430969\n"
          ]
        },
        {
          "metadata": {
            "tags": null
          },
          "name": "stderr",
          "output_type": "stream",
          "text": [
            "100%|██████████| 289/289 [04:22<00:00,  1.10it/s, Epoch=125, LR=1e-6, Train_Loss=0.724, accuracy=0.768, f1=0.694]\n",
            "100%|██████████| 73/73 [00:22<00:00,  3.24it/s, Epoch=125, LR=1e-6, Valid_Loss=0.00571, accuracy=1, f1=1]\n"
          ]
        },
        {
          "metadata": {
            "tags": null
          },
          "name": "stdout",
          "output_type": "stream",
          "text": [
            "Valid Loss : 0.0057123755041050585\n",
            "Validation Loss improved( 0.0058672039495296265 ---> 0.0057123755041050585  )\n",
            "Model Saved\n"
          ]
        },
        {
          "metadata": {
            "tags": null
          },
          "name": "stderr",
          "output_type": "stream",
          "text": [
            "100%|██████████| 289/289 [04:22<00:00,  1.10it/s, Epoch=126, LR=1e-6, Train_Loss=0.717, accuracy=0.781, f1=0.71]\n",
            "100%|██████████| 73/73 [00:22<00:00,  3.24it/s, Epoch=126, LR=1e-6, Valid_Loss=0.00616, accuracy=1, f1=1]\n"
          ]
        },
        {
          "metadata": {
            "tags": null
          },
          "name": "stdout",
          "output_type": "stream",
          "text": [
            "Valid Loss : 0.006162084926123896\n"
          ]
        },
        {
          "metadata": {
            "tags": null
          },
          "name": "stderr",
          "output_type": "stream",
          "text": [
            "100%|██████████| 289/289 [04:22<00:00,  1.10it/s, Epoch=127, LR=1e-6, Train_Loss=0.721, accuracy=0.76, f1=0.688]\n",
            "100%|██████████| 73/73 [00:22<00:00,  3.24it/s, Epoch=127, LR=1e-6, Valid_Loss=0.007, accuracy=1, f1=1]\n"
          ]
        },
        {
          "metadata": {
            "tags": null
          },
          "name": "stdout",
          "output_type": "stream",
          "text": [
            "Valid Loss : 0.007000876188737481\n"
          ]
        },
        {
          "metadata": {
            "tags": null
          },
          "name": "stderr",
          "output_type": "stream",
          "text": [
            "100%|██████████| 289/289 [04:22<00:00,  1.10it/s, Epoch=128, LR=1e-6, Train_Loss=0.711, accuracy=0.763, f1=0.69]\n",
            "100%|██████████| 73/73 [00:22<00:00,  3.23it/s, Epoch=128, LR=1e-6, Valid_Loss=0.00641, accuracy=1, f1=1]\n"
          ]
        },
        {
          "metadata": {
            "tags": null
          },
          "name": "stdout",
          "output_type": "stream",
          "text": [
            "Valid Loss : 0.006408078745900564\n"
          ]
        },
        {
          "metadata": {
            "tags": null
          },
          "name": "stderr",
          "output_type": "stream",
          "text": [
            "100%|██████████| 289/289 [04:22<00:00,  1.10it/s, Epoch=129, LR=1e-6, Train_Loss=0.707, accuracy=0.785, f1=0.71]\n",
            "100%|██████████| 73/73 [00:22<00:00,  3.24it/s, Epoch=129, LR=1e-6, Valid_Loss=0.00599, accuracy=1, f1=1]\n"
          ]
        },
        {
          "metadata": {
            "tags": null
          },
          "name": "stdout",
          "output_type": "stream",
          "text": [
            "Valid Loss : 0.005990661798708447\n"
          ]
        },
        {
          "metadata": {
            "tags": null
          },
          "name": "stderr",
          "output_type": "stream",
          "text": [
            "100%|██████████| 289/289 [04:22<00:00,  1.10it/s, Epoch=130, LR=1e-6, Train_Loss=0.702, accuracy=0.769, f1=0.699]\n",
            "100%|██████████| 73/73 [00:22<00:00,  3.24it/s, Epoch=130, LR=1e-6, Valid_Loss=0.00565, accuracy=1, f1=1]\n"
          ]
        },
        {
          "metadata": {
            "tags": null
          },
          "name": "stdout",
          "output_type": "stream",
          "text": [
            "Valid Loss : 0.005648932464369764\n",
            "Validation Loss improved( 0.0057123755041050585 ---> 0.005648932464369764  )\n",
            "Model Saved\n"
          ]
        },
        {
          "metadata": {
            "tags": null
          },
          "name": "stderr",
          "output_type": "stream",
          "text": [
            "100%|██████████| 289/289 [04:22<00:00,  1.10it/s, Epoch=131, LR=1e-6, Train_Loss=0.726, accuracy=0.761, f1=0.685]\n",
            "100%|██████████| 73/73 [00:22<00:00,  3.23it/s, Epoch=131, LR=1e-6, Valid_Loss=0.00593, accuracy=1, f1=1]\n"
          ]
        },
        {
          "metadata": {
            "tags": null
          },
          "name": "stdout",
          "output_type": "stream",
          "text": [
            "Valid Loss : 0.0059287698735317135\n"
          ]
        },
        {
          "metadata": {
            "tags": null
          },
          "name": "stderr",
          "output_type": "stream",
          "text": [
            "100%|██████████| 289/289 [04:22<00:00,  1.10it/s, Epoch=132, LR=1e-6, Train_Loss=0.699, accuracy=0.774, f1=0.705]\n",
            "100%|██████████| 73/73 [00:22<00:00,  3.23it/s, Epoch=132, LR=1e-6, Valid_Loss=0.00695, accuracy=1, f1=1]\n"
          ]
        },
        {
          "metadata": {
            "tags": null
          },
          "name": "stdout",
          "output_type": "stream",
          "text": [
            "Valid Loss : 0.006946816424877472\n"
          ]
        },
        {
          "metadata": {
            "tags": null
          },
          "name": "stderr",
          "output_type": "stream",
          "text": [
            "100%|██████████| 289/289 [04:22<00:00,  1.10it/s, Epoch=133, LR=1e-6, Train_Loss=0.717, accuracy=0.768, f1=0.698]\n",
            "100%|██████████| 73/73 [00:22<00:00,  3.22it/s, Epoch=133, LR=1e-6, Valid_Loss=0.00565, accuracy=1, f1=1]\n"
          ]
        },
        {
          "metadata": {
            "tags": null
          },
          "name": "stdout",
          "output_type": "stream",
          "text": [
            "Valid Loss : 0.005654814764729714\n"
          ]
        },
        {
          "metadata": {
            "tags": null
          },
          "name": "stderr",
          "output_type": "stream",
          "text": [
            "100%|██████████| 289/289 [04:22<00:00,  1.10it/s, Epoch=134, LR=1e-6, Train_Loss=0.708, accuracy=0.786, f1=0.709]\n",
            "100%|██████████| 73/73 [00:22<00:00,  3.25it/s, Epoch=134, LR=1e-6, Valid_Loss=0.00703, accuracy=0.999, f1=0.997]\n"
          ]
        },
        {
          "metadata": {
            "tags": null
          },
          "name": "stdout",
          "output_type": "stream",
          "text": [
            "Valid Loss : 0.007033273153491828\n"
          ]
        },
        {
          "metadata": {
            "tags": null
          },
          "name": "stderr",
          "output_type": "stream",
          "text": [
            "100%|██████████| 289/289 [04:22<00:00,  1.10it/s, Epoch=135, LR=1e-6, Train_Loss=0.714, accuracy=0.762, f1=0.692]\n",
            "100%|██████████| 73/73 [00:22<00:00,  3.25it/s, Epoch=135, LR=1e-6, Valid_Loss=0.00534, accuracy=1, f1=1]\n"
          ]
        },
        {
          "metadata": {
            "tags": null
          },
          "name": "stdout",
          "output_type": "stream",
          "text": [
            "Valid Loss : 0.005340213131491248\n",
            "Validation Loss improved( 0.005648932464369764 ---> 0.005340213131491248  )\n",
            "Model Saved\n"
          ]
        },
        {
          "metadata": {
            "tags": null
          },
          "name": "stderr",
          "output_type": "stream",
          "text": [
            "100%|██████████| 289/289 [04:22<00:00,  1.10it/s, Epoch=136, LR=1e-6, Train_Loss=0.718, accuracy=0.767, f1=0.69]\n",
            "100%|██████████| 73/73 [00:22<00:00,  3.23it/s, Epoch=136, LR=1e-6, Valid_Loss=0.00543, accuracy=1, f1=1]\n"
          ]
        },
        {
          "metadata": {
            "tags": null
          },
          "name": "stdout",
          "output_type": "stream",
          "text": [
            "Valid Loss : 0.005429457892242768\n"
          ]
        },
        {
          "metadata": {
            "tags": null
          },
          "name": "stderr",
          "output_type": "stream",
          "text": [
            "100%|██████████| 289/289 [04:22<00:00,  1.10it/s, Epoch=137, LR=1e-6, Train_Loss=0.711, accuracy=0.775, f1=0.702]\n",
            "100%|██████████| 73/73 [00:22<00:00,  3.23it/s, Epoch=137, LR=1e-6, Valid_Loss=0.00621, accuracy=1, f1=1]\n"
          ]
        },
        {
          "metadata": {
            "tags": null
          },
          "name": "stdout",
          "output_type": "stream",
          "text": [
            "Valid Loss : 0.006213611801958656\n"
          ]
        },
        {
          "metadata": {
            "tags": null
          },
          "name": "stderr",
          "output_type": "stream",
          "text": [
            "100%|██████████| 289/289 [04:22<00:00,  1.10it/s, Epoch=138, LR=1e-6, Train_Loss=0.704, accuracy=0.787, f1=0.709]\n",
            "100%|██████████| 73/73 [00:22<00:00,  3.23it/s, Epoch=138, LR=1e-6, Valid_Loss=0.00582, accuracy=1, f1=1]\n"
          ]
        },
        {
          "metadata": {
            "tags": null
          },
          "name": "stdout",
          "output_type": "stream",
          "text": [
            "Valid Loss : 0.0058157164412104105\n"
          ]
        },
        {
          "metadata": {
            "tags": null
          },
          "name": "stderr",
          "output_type": "stream",
          "text": [
            "100%|██████████| 289/289 [04:21<00:00,  1.10it/s, Epoch=139, LR=1e-6, Train_Loss=0.711, accuracy=0.767, f1=0.691]\n",
            "100%|██████████| 73/73 [00:21<00:00,  3.33it/s, Epoch=139, LR=1e-6, Valid_Loss=0.00571, accuracy=1, f1=1]\n"
          ]
        },
        {
          "metadata": {
            "tags": null
          },
          "name": "stdout",
          "output_type": "stream",
          "text": [
            "Valid Loss : 0.005712515381101059\n"
          ]
        },
        {
          "metadata": {
            "tags": null
          },
          "name": "stderr",
          "output_type": "stream",
          "text": [
            "100%|██████████| 289/289 [04:18<00:00,  1.12it/s, Epoch=140, LR=1e-6, Train_Loss=0.707, accuracy=0.78, f1=0.706]\n",
            "100%|██████████| 73/73 [00:22<00:00,  3.31it/s, Epoch=140, LR=1e-6, Valid_Loss=0.00495, accuracy=1, f1=1]\n"
          ]
        },
        {
          "metadata": {
            "tags": null
          },
          "name": "stdout",
          "output_type": "stream",
          "text": [
            "Valid Loss : 0.004945299112914156\n",
            "Validation Loss improved( 0.005340213131491248 ---> 0.004945299112914156  )\n",
            "Model Saved\n"
          ]
        },
        {
          "metadata": {
            "tags": null
          },
          "name": "stderr",
          "output_type": "stream",
          "text": [
            "100%|██████████| 289/289 [04:18<00:00,  1.12it/s, Epoch=141, LR=1e-6, Train_Loss=0.703, accuracy=0.78, f1=0.705]\n",
            "100%|██████████| 73/73 [00:21<00:00,  3.32it/s, Epoch=141, LR=1e-6, Valid_Loss=0.00528, accuracy=1, f1=1]\n"
          ]
        },
        {
          "metadata": {
            "tags": null
          },
          "name": "stdout",
          "output_type": "stream",
          "text": [
            "Valid Loss : 0.005275798001492473\n"
          ]
        },
        {
          "metadata": {
            "tags": null
          },
          "name": "stderr",
          "output_type": "stream",
          "text": [
            "100%|██████████| 289/289 [04:21<00:00,  1.10it/s, Epoch=142, LR=1e-6, Train_Loss=0.706, accuracy=0.769, f1=0.701]\n",
            "100%|██████████| 73/73 [00:22<00:00,  3.25it/s, Epoch=142, LR=1e-6, Valid_Loss=0.00664, accuracy=1, f1=1]\n"
          ]
        },
        {
          "metadata": {
            "tags": null
          },
          "name": "stdout",
          "output_type": "stream",
          "text": [
            "Valid Loss : 0.006642445019280461\n"
          ]
        },
        {
          "metadata": {
            "tags": null
          },
          "name": "stderr",
          "output_type": "stream",
          "text": [
            "100%|██████████| 289/289 [04:21<00:00,  1.10it/s, Epoch=143, LR=1e-6, Train_Loss=0.698, accuracy=0.763, f1=0.693]\n",
            "100%|██████████| 73/73 [00:22<00:00,  3.24it/s, Epoch=143, LR=1e-6, Valid_Loss=0.00519, accuracy=1, f1=1]\n"
          ]
        },
        {
          "metadata": {
            "tags": null
          },
          "name": "stdout",
          "output_type": "stream",
          "text": [
            "Valid Loss : 0.005191046428828411\n"
          ]
        },
        {
          "metadata": {
            "tags": null
          },
          "name": "stderr",
          "output_type": "stream",
          "text": [
            "100%|██████████| 289/289 [04:22<00:00,  1.10it/s, Epoch=144, LR=1e-6, Train_Loss=0.702, accuracy=0.777, f1=0.705]\n",
            "100%|██████████| 73/73 [00:22<00:00,  3.23it/s, Epoch=144, LR=1e-6, Valid_Loss=0.00554, accuracy=1, f1=1]\n"
          ]
        },
        {
          "metadata": {
            "tags": null
          },
          "name": "stdout",
          "output_type": "stream",
          "text": [
            "Valid Loss : 0.005537968221413967\n"
          ]
        },
        {
          "metadata": {
            "tags": null
          },
          "name": "stderr",
          "output_type": "stream",
          "text": [
            "100%|██████████| 289/289 [04:21<00:00,  1.10it/s, Epoch=145, LR=1e-6, Train_Loss=0.701, accuracy=0.785, f1=0.712]\n",
            "100%|██████████| 73/73 [00:22<00:00,  3.31it/s, Epoch=145, LR=1e-6, Valid_Loss=0.00496, accuracy=1, f1=1]\n"
          ]
        },
        {
          "metadata": {
            "tags": null
          },
          "name": "stdout",
          "output_type": "stream",
          "text": [
            "Valid Loss : 0.004956258044654682\n"
          ]
        },
        {
          "metadata": {
            "tags": null
          },
          "name": "stderr",
          "output_type": "stream",
          "text": [
            "100%|██████████| 289/289 [04:18<00:00,  1.12it/s, Epoch=146, LR=1e-6, Train_Loss=0.688, accuracy=0.778, f1=0.707]\n",
            "100%|██████████| 73/73 [00:22<00:00,  3.30it/s, Epoch=146, LR=1e-6, Valid_Loss=0.00559, accuracy=1, f1=1]\n"
          ]
        },
        {
          "metadata": {
            "tags": null
          },
          "name": "stdout",
          "output_type": "stream",
          "text": [
            "Valid Loss : 0.005585591583066199\n"
          ]
        },
        {
          "metadata": {
            "tags": null
          },
          "name": "stderr",
          "output_type": "stream",
          "text": [
            "100%|██████████| 289/289 [04:19<00:00,  1.11it/s, Epoch=147, LR=1e-6, Train_Loss=0.699, accuracy=0.779, f1=0.707]\n",
            "100%|██████████| 73/73 [00:22<00:00,  3.25it/s, Epoch=147, LR=1e-6, Valid_Loss=0.00598, accuracy=1, f1=1]\n"
          ]
        },
        {
          "metadata": {
            "tags": null
          },
          "name": "stdout",
          "output_type": "stream",
          "text": [
            "Valid Loss : 0.005980048397211486\n"
          ]
        },
        {
          "metadata": {
            "tags": null
          },
          "name": "stderr",
          "output_type": "stream",
          "text": [
            "100%|██████████| 289/289 [04:19<00:00,  1.11it/s, Epoch=148, LR=1e-6, Train_Loss=0.691, accuracy=0.776, f1=0.701]\n",
            "100%|██████████| 73/73 [00:22<00:00,  3.30it/s, Epoch=148, LR=1e-6, Valid_Loss=0.00501, accuracy=1, f1=1]\n"
          ]
        },
        {
          "metadata": {
            "tags": null
          },
          "name": "stdout",
          "output_type": "stream",
          "text": [
            "Valid Loss : 0.005008086935323599\n"
          ]
        },
        {
          "metadata": {
            "tags": null
          },
          "name": "stderr",
          "output_type": "stream",
          "text": [
            "100%|██████████| 289/289 [04:19<00:00,  1.12it/s, Epoch=149, LR=1e-6, Train_Loss=0.708, accuracy=0.76, f1=0.688]\n",
            "100%|██████████| 73/73 [00:22<00:00,  3.32it/s, Epoch=149, LR=1e-6, Valid_Loss=0.00509, accuracy=1, f1=1]\n"
          ]
        },
        {
          "metadata": {
            "tags": null
          },
          "name": "stdout",
          "output_type": "stream",
          "text": [
            "Valid Loss : 0.005088299959387681\n"
          ]
        },
        {
          "metadata": {
            "tags": null
          },
          "name": "stderr",
          "output_type": "stream",
          "text": [
            "100%|██████████| 289/289 [04:19<00:00,  1.12it/s, Epoch=150, LR=1e-6, Train_Loss=0.704, accuracy=0.782, f1=0.714]\n",
            "100%|██████████| 73/73 [00:22<00:00,  3.31it/s, Epoch=150, LR=1e-6, Valid_Loss=0.005, accuracy=1, f1=1]\n"
          ]
        },
        {
          "metadata": {
            "tags": null
          },
          "name": "stdout",
          "output_type": "stream",
          "text": [
            "Valid Loss : 0.004998172097520469\n"
          ]
        },
        {
          "metadata": {
            "tags": null
          },
          "name": "stderr",
          "output_type": "stream",
          "text": [
            "100%|██████████| 289/289 [04:18<00:00,  1.12it/s, Epoch=151, LR=1e-6, Train_Loss=0.693, accuracy=0.785, f1=0.716]\n",
            "100%|██████████| 73/73 [00:22<00:00,  3.23it/s, Epoch=151, LR=1e-6, Valid_Loss=0.00525, accuracy=1, f1=1]\n"
          ]
        },
        {
          "metadata": {
            "tags": null
          },
          "name": "stdout",
          "output_type": "stream",
          "text": [
            "Valid Loss : 0.0052450164316910994\n"
          ]
        },
        {
          "metadata": {
            "tags": null
          },
          "name": "stderr",
          "output_type": "stream",
          "text": [
            "100%|██████████| 289/289 [04:21<00:00,  1.10it/s, Epoch=152, LR=1e-6, Train_Loss=0.695, accuracy=0.788, f1=0.717]\n",
            "100%|██████████| 73/73 [00:22<00:00,  3.25it/s, Epoch=152, LR=1e-6, Valid_Loss=0.0056, accuracy=1, f1=1]\n"
          ]
        },
        {
          "metadata": {
            "tags": null
          },
          "name": "stdout",
          "output_type": "stream",
          "text": [
            "Valid Loss : 0.005604506955061057\n"
          ]
        },
        {
          "metadata": {
            "tags": null
          },
          "name": "stderr",
          "output_type": "stream",
          "text": [
            "100%|██████████| 289/289 [04:19<00:00,  1.11it/s, Epoch=153, LR=1e-6, Train_Loss=0.692, accuracy=0.784, f1=0.71]\n",
            "100%|██████████| 73/73 [00:22<00:00,  3.32it/s, Epoch=153, LR=1e-6, Valid_Loss=0.00517, accuracy=1, f1=1]\n"
          ]
        },
        {
          "metadata": {
            "tags": null
          },
          "name": "stdout",
          "output_type": "stream",
          "text": [
            "Valid Loss : 0.005167447367032403\n"
          ]
        },
        {
          "metadata": {
            "tags": null
          },
          "name": "stderr",
          "output_type": "stream",
          "text": [
            "100%|██████████| 289/289 [04:17<00:00,  1.12it/s, Epoch=154, LR=1e-6, Train_Loss=0.699, accuracy=0.775, f1=0.701]\n",
            "100%|██████████| 73/73 [00:22<00:00,  3.32it/s, Epoch=154, LR=1e-6, Valid_Loss=0.00553, accuracy=1, f1=1]\n"
          ]
        },
        {
          "metadata": {
            "tags": null
          },
          "name": "stdout",
          "output_type": "stream",
          "text": [
            "Valid Loss : 0.005531139466082294\n"
          ]
        },
        {
          "metadata": {
            "tags": null
          },
          "name": "stderr",
          "output_type": "stream",
          "text": [
            "100%|██████████| 289/289 [04:18<00:00,  1.12it/s, Epoch=155, LR=1e-6, Train_Loss=0.692, accuracy=0.781, f1=0.712]\n",
            "100%|██████████| 73/73 [00:21<00:00,  3.32it/s, Epoch=155, LR=1e-6, Valid_Loss=0.00464, accuracy=1, f1=1]\n"
          ]
        },
        {
          "metadata": {
            "tags": null
          },
          "name": "stdout",
          "output_type": "stream",
          "text": [
            "Valid Loss : 0.004637097818649387\n",
            "Validation Loss improved( 0.004945299112914156 ---> 0.004637097818649387  )\n",
            "Model Saved\n"
          ]
        },
        {
          "metadata": {
            "tags": null
          },
          "name": "stderr",
          "output_type": "stream",
          "text": [
            "100%|██████████| 289/289 [04:18<00:00,  1.12it/s, Epoch=156, LR=1e-6, Train_Loss=0.696, accuracy=0.778, f1=0.708]\n",
            "100%|██████████| 73/73 [00:22<00:00,  3.31it/s, Epoch=156, LR=1e-6, Valid_Loss=0.00501, accuracy=1, f1=1]\n"
          ]
        },
        {
          "metadata": {
            "tags": null
          },
          "name": "stdout",
          "output_type": "stream",
          "text": [
            "Valid Loss : 0.005005102346281279\n"
          ]
        },
        {
          "metadata": {
            "tags": null
          },
          "name": "stderr",
          "output_type": "stream",
          "text": [
            "100%|██████████| 289/289 [04:18<00:00,  1.12it/s, Epoch=157, LR=1e-6, Train_Loss=0.69, accuracy=0.785, f1=0.718]\n",
            "100%|██████████| 73/73 [00:21<00:00,  3.32it/s, Epoch=157, LR=1e-6, Valid_Loss=0.00573, accuracy=1, f1=1]\n"
          ]
        },
        {
          "metadata": {
            "tags": null
          },
          "name": "stdout",
          "output_type": "stream",
          "text": [
            "Valid Loss : 0.0057253835001985914\n"
          ]
        },
        {
          "metadata": {
            "tags": null
          },
          "name": "stderr",
          "output_type": "stream",
          "text": [
            "100%|██████████| 289/289 [04:18<00:00,  1.12it/s, Epoch=158, LR=1e-6, Train_Loss=0.686, accuracy=0.781, f1=0.71]\n",
            "100%|██████████| 73/73 [00:22<00:00,  3.30it/s, Epoch=158, LR=1e-6, Valid_Loss=0.00487, accuracy=1, f1=1]\n"
          ]
        },
        {
          "metadata": {
            "tags": null
          },
          "name": "stdout",
          "output_type": "stream",
          "text": [
            "Valid Loss : 0.004873463462987174\n"
          ]
        },
        {
          "metadata": {
            "tags": null
          },
          "name": "stderr",
          "output_type": "stream",
          "text": [
            "100%|██████████| 289/289 [04:18<00:00,  1.12it/s, Epoch=159, LR=1e-6, Train_Loss=0.683, accuracy=0.791, f1=0.718]\n",
            "100%|██████████| 73/73 [00:21<00:00,  3.32it/s, Epoch=159, LR=1e-6, Valid_Loss=0.00492, accuracy=1, f1=1]\n"
          ]
        },
        {
          "metadata": {
            "tags": null
          },
          "name": "stdout",
          "output_type": "stream",
          "text": [
            "Valid Loss : 0.004923319552501995\n"
          ]
        },
        {
          "metadata": {
            "tags": null
          },
          "name": "stderr",
          "output_type": "stream",
          "text": [
            "100%|██████████| 289/289 [04:18<00:00,  1.12it/s, Epoch=160, LR=1e-6, Train_Loss=0.684, accuracy=0.783, f1=0.712]\n",
            "100%|██████████| 73/73 [00:22<00:00,  3.31it/s, Epoch=160, LR=1e-6, Valid_Loss=0.00466, accuracy=1, f1=1]\n"
          ]
        },
        {
          "metadata": {
            "tags": null
          },
          "name": "stdout",
          "output_type": "stream",
          "text": [
            "Valid Loss : 0.0046582421389956994\n"
          ]
        },
        {
          "metadata": {
            "tags": null
          },
          "name": "stderr",
          "output_type": "stream",
          "text": [
            "100%|██████████| 289/289 [04:20<00:00,  1.11it/s, Epoch=161, LR=1e-6, Train_Loss=0.696, accuracy=0.771, f1=0.692]\n",
            "100%|██████████| 73/73 [00:22<00:00,  3.23it/s, Epoch=161, LR=1e-6, Valid_Loss=0.00508, accuracy=1, f1=1]\n"
          ]
        },
        {
          "metadata": {
            "tags": null
          },
          "name": "stdout",
          "output_type": "stream",
          "text": [
            "Valid Loss : 0.0050769437978375855\n"
          ]
        },
        {
          "metadata": {
            "tags": null
          },
          "name": "stderr",
          "output_type": "stream",
          "text": [
            "100%|██████████| 289/289 [04:21<00:00,  1.10it/s, Epoch=162, LR=1e-6, Train_Loss=0.693, accuracy=0.79, f1=0.719]\n",
            "100%|██████████| 73/73 [00:22<00:00,  3.24it/s, Epoch=162, LR=1e-6, Valid_Loss=0.0054, accuracy=1, f1=1]\n"
          ]
        },
        {
          "metadata": {
            "tags": null
          },
          "name": "stdout",
          "output_type": "stream",
          "text": [
            "Valid Loss : 0.0053958503357198545\n"
          ]
        },
        {
          "metadata": {
            "tags": null
          },
          "name": "stderr",
          "output_type": "stream",
          "text": [
            "100%|██████████| 289/289 [04:22<00:00,  1.10it/s, Epoch=163, LR=1e-6, Train_Loss=0.694, accuracy=0.775, f1=0.703]\n",
            "100%|██████████| 73/73 [00:22<00:00,  3.22it/s, Epoch=163, LR=1e-6, Valid_Loss=0.00471, accuracy=1, f1=1]\n"
          ]
        },
        {
          "metadata": {
            "tags": null
          },
          "name": "stdout",
          "output_type": "stream",
          "text": [
            "Valid Loss : 0.004708607543948783\n"
          ]
        },
        {
          "metadata": {
            "tags": null
          },
          "name": "stderr",
          "output_type": "stream",
          "text": [
            "100%|██████████| 289/289 [04:22<00:00,  1.10it/s, Epoch=164, LR=1e-6, Train_Loss=0.693, accuracy=0.778, f1=0.709]\n",
            "100%|██████████| 73/73 [00:22<00:00,  3.23it/s, Epoch=164, LR=1e-6, Valid_Loss=0.00505, accuracy=1, f1=1]\n"
          ]
        },
        {
          "metadata": {
            "tags": null
          },
          "name": "stdout",
          "output_type": "stream",
          "text": [
            "Valid Loss : 0.005051840425226582\n"
          ]
        },
        {
          "metadata": {
            "tags": null
          },
          "name": "stderr",
          "output_type": "stream",
          "text": [
            "100%|██████████| 289/289 [04:22<00:00,  1.10it/s, Epoch=165, LR=1e-6, Train_Loss=0.696, accuracy=0.777, f1=0.704]\n",
            "100%|██████████| 73/73 [00:22<00:00,  3.27it/s, Epoch=165, LR=1e-6, Valid_Loss=0.00456, accuracy=1, f1=1]\n"
          ]
        },
        {
          "metadata": {
            "tags": null
          },
          "name": "stdout",
          "output_type": "stream",
          "text": [
            "Valid Loss : 0.004560370489393603\n",
            "Validation Loss improved( 0.004637097818649387 ---> 0.004560370489393603  )\n",
            "Model Saved\n"
          ]
        },
        {
          "metadata": {
            "tags": null
          },
          "name": "stderr",
          "output_type": "stream",
          "text": [
            "100%|██████████| 289/289 [04:22<00:00,  1.10it/s, Epoch=166, LR=1e-6, Train_Loss=0.704, accuracy=0.764, f1=0.689]\n",
            "100%|██████████| 73/73 [00:22<00:00,  3.23it/s, Epoch=166, LR=1e-6, Valid_Loss=0.00503, accuracy=1, f1=1]\n"
          ]
        },
        {
          "metadata": {
            "tags": null
          },
          "name": "stdout",
          "output_type": "stream",
          "text": [
            "Valid Loss : 0.005032783064812626\n"
          ]
        },
        {
          "metadata": {
            "tags": null
          },
          "name": "stderr",
          "output_type": "stream",
          "text": [
            "100%|██████████| 289/289 [04:22<00:00,  1.10it/s, Epoch=167, LR=1e-6, Train_Loss=0.686, accuracy=0.778, f1=0.708]\n",
            "100%|██████████| 73/73 [00:22<00:00,  3.22it/s, Epoch=167, LR=1e-6, Valid_Loss=0.0053, accuracy=1, f1=1]\n"
          ]
        },
        {
          "metadata": {
            "tags": null
          },
          "name": "stdout",
          "output_type": "stream",
          "text": [
            "Valid Loss : 0.00530250246432444\n"
          ]
        },
        {
          "metadata": {
            "tags": null
          },
          "name": "stderr",
          "output_type": "stream",
          "text": [
            "100%|██████████| 289/289 [04:22<00:00,  1.10it/s, Epoch=168, LR=1e-6, Train_Loss=0.683, accuracy=0.789, f1=0.721]\n",
            "100%|██████████| 73/73 [00:22<00:00,  3.25it/s, Epoch=168, LR=1e-6, Valid_Loss=0.00476, accuracy=1, f1=1]\n"
          ]
        },
        {
          "metadata": {
            "tags": null
          },
          "name": "stdout",
          "output_type": "stream",
          "text": [
            "Valid Loss : 0.004755761550918018\n"
          ]
        },
        {
          "metadata": {
            "tags": null
          },
          "name": "stderr",
          "output_type": "stream",
          "text": [
            "100%|██████████| 289/289 [04:21<00:00,  1.11it/s, Epoch=169, LR=1e-6, Train_Loss=0.686, accuracy=0.782, f1=0.71]\n",
            "100%|██████████| 73/73 [00:22<00:00,  3.24it/s, Epoch=169, LR=1e-6, Valid_Loss=0.0047, accuracy=1, f1=1]\n"
          ]
        },
        {
          "metadata": {
            "tags": null
          },
          "name": "stdout",
          "output_type": "stream",
          "text": [
            "Valid Loss : 0.004696812925617887\n"
          ]
        },
        {
          "metadata": {
            "tags": null
          },
          "name": "stderr",
          "output_type": "stream",
          "text": [
            "100%|██████████| 289/289 [04:22<00:00,  1.10it/s, Epoch=170, LR=1e-6, Train_Loss=0.693, accuracy=0.782, f1=0.705]\n",
            "100%|██████████| 73/73 [00:22<00:00,  3.25it/s, Epoch=170, LR=1e-6, Valid_Loss=0.00406, accuracy=1, f1=1]\n"
          ]
        },
        {
          "metadata": {
            "tags": null
          },
          "name": "stdout",
          "output_type": "stream",
          "text": [
            "Valid Loss : 0.004063590750264081\n",
            "Validation Loss improved( 0.004560370489393603 ---> 0.004063590750264081  )\n",
            "Model Saved\n"
          ]
        },
        {
          "metadata": {
            "tags": null
          },
          "name": "stderr",
          "output_type": "stream",
          "text": [
            "100%|██████████| 289/289 [04:22<00:00,  1.10it/s, Epoch=171, LR=1e-6, Train_Loss=0.675, accuracy=0.787, f1=0.714]\n",
            "100%|██████████| 73/73 [00:22<00:00,  3.23it/s, Epoch=171, LR=1e-6, Valid_Loss=0.00451, accuracy=1, f1=1]\n"
          ]
        },
        {
          "metadata": {
            "tags": null
          },
          "name": "stdout",
          "output_type": "stream",
          "text": [
            "Valid Loss : 0.004510807835063195\n"
          ]
        },
        {
          "metadata": {
            "tags": null
          },
          "name": "stderr",
          "output_type": "stream",
          "text": [
            "100%|██████████| 289/289 [04:22<00:00,  1.10it/s, Epoch=172, LR=1e-6, Train_Loss=0.694, accuracy=0.776, f1=0.704]\n",
            "100%|██████████| 73/73 [00:22<00:00,  3.26it/s, Epoch=172, LR=1e-6, Valid_Loss=0.00492, accuracy=1, f1=1]\n"
          ]
        },
        {
          "metadata": {
            "tags": null
          },
          "name": "stdout",
          "output_type": "stream",
          "text": [
            "Valid Loss : 0.004918273037605702\n"
          ]
        },
        {
          "metadata": {
            "tags": null
          },
          "name": "stderr",
          "output_type": "stream",
          "text": [
            "100%|██████████| 289/289 [04:19<00:00,  1.11it/s, Epoch=173, LR=1e-6, Train_Loss=0.685, accuracy=0.794, f1=0.721]\n",
            "100%|██████████| 73/73 [00:22<00:00,  3.29it/s, Epoch=173, LR=1e-6, Valid_Loss=0.00456, accuracy=1, f1=1]\n"
          ]
        },
        {
          "metadata": {
            "tags": null
          },
          "name": "stdout",
          "output_type": "stream",
          "text": [
            "Valid Loss : 0.004564228459270926\n"
          ]
        },
        {
          "metadata": {
            "tags": null
          },
          "name": "stderr",
          "output_type": "stream",
          "text": [
            "100%|██████████| 289/289 [04:19<00:00,  1.11it/s, Epoch=174, LR=1e-6, Train_Loss=0.684, accuracy=0.781, f1=0.708]\n",
            "100%|██████████| 73/73 [00:22<00:00,  3.28it/s, Epoch=174, LR=1e-6, Valid_Loss=0.00458, accuracy=1, f1=1]\n"
          ]
        },
        {
          "metadata": {
            "tags": null
          },
          "name": "stdout",
          "output_type": "stream",
          "text": [
            "Valid Loss : 0.004580427036135879\n"
          ]
        },
        {
          "metadata": {
            "tags": null
          },
          "name": "stderr",
          "output_type": "stream",
          "text": [
            "100%|██████████| 289/289 [04:19<00:00,  1.11it/s, Epoch=175, LR=1e-6, Train_Loss=0.683, accuracy=0.783, f1=0.717]\n",
            "100%|██████████| 73/73 [00:21<00:00,  3.33it/s, Epoch=175, LR=1e-6, Valid_Loss=0.00416, accuracy=1, f1=1]\n"
          ]
        },
        {
          "metadata": {
            "tags": null
          },
          "name": "stdout",
          "output_type": "stream",
          "text": [
            "Valid Loss : 0.004164588800312517\n"
          ]
        },
        {
          "metadata": {
            "tags": null
          },
          "name": "stderr",
          "output_type": "stream",
          "text": [
            "100%|██████████| 289/289 [04:19<00:00,  1.11it/s, Epoch=176, LR=1e-6, Train_Loss=0.688, accuracy=0.783, f1=0.708]\n",
            "100%|██████████| 73/73 [00:22<00:00,  3.29it/s, Epoch=176, LR=1e-6, Valid_Loss=0.00482, accuracy=1, f1=1]\n"
          ]
        },
        {
          "metadata": {
            "tags": null
          },
          "name": "stdout",
          "output_type": "stream",
          "text": [
            "Valid Loss : 0.004824621038358301\n"
          ]
        },
        {
          "metadata": {
            "tags": null
          },
          "name": "stderr",
          "output_type": "stream",
          "text": [
            "100%|██████████| 289/289 [04:19<00:00,  1.11it/s, Epoch=177, LR=1e-6, Train_Loss=0.684, accuracy=0.781, f1=0.708]\n",
            "100%|██████████| 73/73 [00:21<00:00,  3.38it/s, Epoch=177, LR=1e-6, Valid_Loss=0.00497, accuracy=1, f1=1]\n"
          ]
        },
        {
          "metadata": {
            "tags": null
          },
          "name": "stdout",
          "output_type": "stream",
          "text": [
            "Valid Loss : 0.004969297897083404\n"
          ]
        },
        {
          "metadata": {
            "tags": null
          },
          "name": "stderr",
          "output_type": "stream",
          "text": [
            "100%|██████████| 289/289 [04:17<00:00,  1.12it/s, Epoch=178, LR=1e-6, Train_Loss=0.688, accuracy=0.773, f1=0.703]\n",
            "100%|██████████| 73/73 [00:21<00:00,  3.35it/s, Epoch=178, LR=1e-6, Valid_Loss=0.00449, accuracy=1, f1=1]\n"
          ]
        },
        {
          "metadata": {
            "tags": null
          },
          "name": "stdout",
          "output_type": "stream",
          "text": [
            "Valid Loss : 0.004493635511408522\n"
          ]
        },
        {
          "metadata": {
            "tags": null
          },
          "name": "stderr",
          "output_type": "stream",
          "text": [
            "100%|██████████| 289/289 [04:16<00:00,  1.13it/s, Epoch=179, LR=1e-6, Train_Loss=0.679, accuracy=0.781, f1=0.709]\n",
            "100%|██████████| 73/73 [00:21<00:00,  3.35it/s, Epoch=179, LR=1e-6, Valid_Loss=0.00441, accuracy=1, f1=1]\n"
          ]
        },
        {
          "metadata": {
            "tags": null
          },
          "name": "stdout",
          "output_type": "stream",
          "text": [
            "Valid Loss : 0.004412062116898596\n"
          ]
        },
        {
          "metadata": {
            "tags": null
          },
          "name": "stderr",
          "output_type": "stream",
          "text": [
            "100%|██████████| 289/289 [04:17<00:00,  1.12it/s, Epoch=180, LR=1e-6, Train_Loss=0.694, accuracy=0.771, f1=0.696]\n",
            "100%|██████████| 73/73 [00:21<00:00,  3.35it/s, Epoch=180, LR=1e-6, Valid_Loss=0.00417, accuracy=1, f1=1]\n"
          ]
        },
        {
          "metadata": {
            "tags": null
          },
          "name": "stdout",
          "output_type": "stream",
          "text": [
            "Valid Loss : 0.004171098802519375\n"
          ]
        },
        {
          "metadata": {
            "tags": null
          },
          "name": "stderr",
          "output_type": "stream",
          "text": [
            "100%|██████████| 289/289 [04:16<00:00,  1.13it/s, Epoch=181, LR=1e-6, Train_Loss=0.673, accuracy=0.783, f1=0.713]\n",
            "100%|██████████| 73/73 [00:21<00:00,  3.36it/s, Epoch=181, LR=1e-6, Valid_Loss=0.00456, accuracy=1, f1=1]\n"
          ]
        },
        {
          "metadata": {
            "tags": null
          },
          "name": "stdout",
          "output_type": "stream",
          "text": [
            "Valid Loss : 0.004559756856258601\n"
          ]
        },
        {
          "metadata": {
            "tags": null
          },
          "name": "stderr",
          "output_type": "stream",
          "text": [
            "100%|██████████| 289/289 [04:16<00:00,  1.13it/s, Epoch=182, LR=1e-6, Train_Loss=0.69, accuracy=0.774, f1=0.704]\n",
            "100%|██████████| 73/73 [00:21<00:00,  3.37it/s, Epoch=182, LR=1e-6, Valid_Loss=0.00503, accuracy=1, f1=1]\n"
          ]
        },
        {
          "metadata": {
            "tags": null
          },
          "name": "stdout",
          "output_type": "stream",
          "text": [
            "Valid Loss : 0.005029362898275307\n"
          ]
        },
        {
          "metadata": {
            "tags": null
          },
          "name": "stderr",
          "output_type": "stream",
          "text": [
            "100%|██████████| 289/289 [04:16<00:00,  1.13it/s, Epoch=183, LR=1e-6, Train_Loss=0.684, accuracy=0.78, f1=0.708]\n",
            "100%|██████████| 73/73 [00:21<00:00,  3.35it/s, Epoch=183, LR=1e-6, Valid_Loss=0.00422, accuracy=1, f1=1]\n"
          ]
        },
        {
          "metadata": {
            "tags": null
          },
          "name": "stdout",
          "output_type": "stream",
          "text": [
            "Valid Loss : 0.004222626799449631\n"
          ]
        },
        {
          "output_type": "stream",
          "name": "stderr",
          "text": [
            "100%|██████████| 289/289 [04:16<00:00,  1.13it/s, Epoch=184, LR=1e-6, Train_Loss=0.67, accuracy=0.793, f1=0.727]\n",
            "100%|██████████| 73/73 [00:21<00:00,  3.33it/s, Epoch=184, LR=1e-6, Valid_Loss=0.00461, accuracy=1, f1=1]\n"
          ]
        },
        {
          "output_type": "stream",
          "name": "stdout",
          "text": [
            "Valid Loss : 0.0046102551788040624\n"
          ]
        },
        {
          "output_type": "stream",
          "name": "stderr",
          "text": [
            "100%|██████████| 289/289 [04:17<00:00,  1.12it/s, Epoch=185, LR=1e-6, Train_Loss=0.675, accuracy=0.78, f1=0.71]\n",
            "100%|██████████| 73/73 [00:21<00:00,  3.33it/s, Epoch=185, LR=1e-6, Valid_Loss=0.00393, accuracy=1, f1=1]\n"
          ]
        },
        {
          "output_type": "stream",
          "name": "stdout",
          "text": [
            "Valid Loss : 0.003931733594620472\n",
            "Validation Loss improved( 0.004063590750264081 ---> 0.003931733594620472  )\n",
            "Model Saved\n"
          ]
        },
        {
          "output_type": "stream",
          "name": "stderr",
          "text": [
            "100%|██████████| 289/289 [04:17<00:00,  1.12it/s, Epoch=186, LR=1e-6, Train_Loss=0.671, accuracy=0.784, f1=0.718]\n",
            "100%|██████████| 73/73 [00:22<00:00,  3.30it/s, Epoch=186, LR=1e-6, Valid_Loss=0.00436, accuracy=1, f1=1]\n"
          ]
        },
        {
          "output_type": "stream",
          "name": "stdout",
          "text": [
            "Valid Loss : 0.004360220284992191\n"
          ]
        },
        {
          "output_type": "stream",
          "name": "stderr",
          "text": [
            "100%|██████████| 289/289 [04:17<00:00,  1.12it/s, Epoch=187, LR=1e-6, Train_Loss=0.687, accuracy=0.781, f1=0.707]\n",
            "100%|██████████| 73/73 [00:21<00:00,  3.33it/s, Epoch=187, LR=1e-6, Valid_Loss=0.00466, accuracy=1, f1=1]\n"
          ]
        },
        {
          "output_type": "stream",
          "name": "stdout",
          "text": [
            "Valid Loss : 0.0046561109683514665\n"
          ]
        },
        {
          "output_type": "stream",
          "name": "stderr",
          "text": [
            "100%|██████████| 289/289 [04:17<00:00,  1.12it/s, Epoch=188, LR=1e-6, Train_Loss=0.682, accuracy=0.774, f1=0.705]\n",
            "100%|██████████| 73/73 [00:22<00:00,  3.29it/s, Epoch=188, LR=1e-6, Valid_Loss=0.00413, accuracy=1, f1=1]\n"
          ]
        },
        {
          "output_type": "stream",
          "name": "stdout",
          "text": [
            "Valid Loss : 0.004127041880066877\n"
          ]
        },
        {
          "output_type": "stream",
          "name": "stderr",
          "text": [
            "100%|██████████| 289/289 [04:18<00:00,  1.12it/s, Epoch=189, LR=1e-6, Train_Loss=0.683, accuracy=0.789, f1=0.721]\n",
            "100%|██████████| 73/73 [00:22<00:00,  3.31it/s, Epoch=189, LR=1e-6, Valid_Loss=0.00431, accuracy=1, f1=1]\n"
          ]
        },
        {
          "output_type": "stream",
          "name": "stdout",
          "text": [
            "Valid Loss : 0.004314441407698984\n"
          ]
        },
        {
          "output_type": "stream",
          "name": "stderr",
          "text": [
            "100%|██████████| 289/289 [04:20<00:00,  1.11it/s, Epoch=190, LR=1e-6, Train_Loss=0.68, accuracy=0.787, f1=0.714]\n",
            "100%|██████████| 73/73 [00:22<00:00,  3.24it/s, Epoch=190, LR=1e-6, Valid_Loss=0.00374, accuracy=1, f1=1]\n"
          ]
        },
        {
          "output_type": "stream",
          "name": "stdout",
          "text": [
            "Valid Loss : 0.003744795564434504\n",
            "Validation Loss improved( 0.003931733594620472 ---> 0.003744795564434504  )\n",
            "Model Saved\n"
          ]
        },
        {
          "output_type": "stream",
          "name": "stderr",
          "text": [
            "100%|██████████| 289/289 [04:22<00:00,  1.10it/s, Epoch=191, LR=1e-6, Train_Loss=0.684, accuracy=0.783, f1=0.713]\n",
            "100%|██████████| 73/73 [00:22<00:00,  3.20it/s, Epoch=191, LR=1e-6, Valid_Loss=0.00425, accuracy=1, f1=1]\n"
          ]
        },
        {
          "output_type": "stream",
          "name": "stdout",
          "text": [
            "Valid Loss : 0.004253136368838381\n"
          ]
        },
        {
          "output_type": "stream",
          "name": "stderr",
          "text": [
            "100%|██████████| 289/289 [04:23<00:00,  1.10it/s, Epoch=192, LR=1e-6, Train_Loss=0.665, accuracy=0.792, f1=0.724]\n",
            "100%|██████████| 73/73 [00:22<00:00,  3.23it/s, Epoch=192, LR=1e-6, Valid_Loss=0.00451, accuracy=1, f1=1]\n"
          ]
        },
        {
          "output_type": "stream",
          "name": "stdout",
          "text": [
            "Valid Loss : 0.004509310537872658\n"
          ]
        },
        {
          "output_type": "stream",
          "name": "stderr",
          "text": [
            "100%|██████████| 289/289 [04:21<00:00,  1.10it/s, Epoch=193, LR=1e-6, Train_Loss=0.671, accuracy=0.787, f1=0.719]\n",
            "100%|██████████| 73/73 [00:22<00:00,  3.26it/s, Epoch=193, LR=1e-6, Valid_Loss=0.00421, accuracy=1, f1=1]\n"
          ]
        },
        {
          "output_type": "stream",
          "name": "stdout",
          "text": [
            "Valid Loss : 0.004210632394884445\n"
          ]
        },
        {
          "output_type": "stream",
          "name": "stderr",
          "text": [
            "100%|██████████| 289/289 [04:21<00:00,  1.10it/s, Epoch=194, LR=1e-6, Train_Loss=0.672, accuracy=0.792, f1=0.725]\n",
            "100%|██████████| 73/73 [00:22<00:00,  3.24it/s, Epoch=194, LR=1e-6, Valid_Loss=0.004, accuracy=1, f1=1]\n"
          ]
        },
        {
          "output_type": "stream",
          "name": "stdout",
          "text": [
            "Valid Loss : 0.004004356787820691\n"
          ]
        },
        {
          "output_type": "stream",
          "name": "stderr",
          "text": [
            "100%|██████████| 289/289 [04:22<00:00,  1.10it/s, Epoch=195, LR=1e-6, Train_Loss=0.68, accuracy=0.774, f1=0.702]\n",
            "100%|██████████| 73/73 [00:22<00:00,  3.22it/s, Epoch=195, LR=1e-6, Valid_Loss=0.00373, accuracy=1, f1=1]\n"
          ]
        },
        {
          "output_type": "stream",
          "name": "stdout",
          "text": [
            "Valid Loss : 0.003726961488248653\n",
            "Validation Loss improved( 0.003744795564434504 ---> 0.003726961488248653  )\n",
            "Model Saved\n"
          ]
        },
        {
          "output_type": "stream",
          "name": "stderr",
          "text": [
            "100%|██████████| 289/289 [04:20<00:00,  1.11it/s, Epoch=196, LR=1e-6, Train_Loss=0.671, accuracy=0.79, f1=0.723]\n",
            "100%|██████████| 73/73 [00:22<00:00,  3.23it/s, Epoch=196, LR=1e-6, Valid_Loss=0.00396, accuracy=1, f1=1]\n"
          ]
        },
        {
          "output_type": "stream",
          "name": "stdout",
          "text": [
            "Valid Loss : 0.00396016056885407\n"
          ]
        },
        {
          "output_type": "stream",
          "name": "stderr",
          "text": [
            "100%|██████████| 289/289 [04:18<00:00,  1.12it/s, Epoch=197, LR=1e-6, Train_Loss=0.693, accuracy=0.772, f1=0.7]\n",
            "100%|██████████| 73/73 [00:22<00:00,  3.31it/s, Epoch=197, LR=1e-6, Valid_Loss=0.00426, accuracy=1, f1=1]\n"
          ]
        },
        {
          "output_type": "stream",
          "name": "stdout",
          "text": [
            "Valid Loss : 0.004264929854910667\n"
          ]
        },
        {
          "output_type": "stream",
          "name": "stderr",
          "text": [
            "100%|██████████| 289/289 [04:18<00:00,  1.12it/s, Epoch=198, LR=1e-6, Train_Loss=0.675, accuracy=0.786, f1=0.712]\n",
            "100%|██████████| 73/73 [00:22<00:00,  3.30it/s, Epoch=198, LR=1e-6, Valid_Loss=0.00423, accuracy=1, f1=1]\n"
          ]
        },
        {
          "output_type": "stream",
          "name": "stdout",
          "text": [
            "Valid Loss : 0.00423006485503371\n"
          ]
        },
        {
          "output_type": "stream",
          "name": "stderr",
          "text": [
            "100%|██████████| 289/289 [04:18<00:00,  1.12it/s, Epoch=199, LR=1e-6, Train_Loss=0.674, accuracy=0.779, f1=0.709]\n",
            "100%|██████████| 73/73 [00:22<00:00,  3.30it/s, Epoch=199, LR=1e-6, Valid_Loss=0.00399, accuracy=1, f1=1]\n"
          ]
        },
        {
          "output_type": "stream",
          "name": "stdout",
          "text": [
            "Valid Loss : 0.00398546821527081\n"
          ]
        },
        {
          "output_type": "stream",
          "name": "stderr",
          "text": [
            "100%|██████████| 289/289 [04:18<00:00,  1.12it/s, Epoch=200, LR=1e-6, Train_Loss=0.674, accuracy=0.785, f1=0.712]\n",
            "100%|██████████| 73/73 [00:21<00:00,  3.32it/s, Epoch=200, LR=1e-6, Valid_Loss=0.00376, accuracy=1, f1=1]\n"
          ]
        },
        {
          "output_type": "stream",
          "name": "stdout",
          "text": [
            "Valid Loss : 0.0037582280586333306\n"
          ]
        },
        {
          "output_type": "stream",
          "name": "stderr",
          "text": [
            "100%|██████████| 289/289 [04:18<00:00,  1.12it/s, Epoch=201, LR=1e-6, Train_Loss=0.672, accuracy=0.775, f1=0.702]\n",
            "100%|██████████| 73/73 [00:21<00:00,  3.33it/s, Epoch=201, LR=1e-6, Valid_Loss=0.00397, accuracy=1, f1=1]\n"
          ]
        },
        {
          "output_type": "stream",
          "name": "stdout",
          "text": [
            "Valid Loss : 0.003967831568307665\n"
          ]
        },
        {
          "output_type": "stream",
          "name": "stderr",
          "text": [
            "100%|██████████| 289/289 [04:17<00:00,  1.12it/s, Epoch=202, LR=1e-6, Train_Loss=0.661, accuracy=0.797, f1=0.732]\n",
            "100%|██████████| 73/73 [00:21<00:00,  3.32it/s, Epoch=202, LR=1e-6, Valid_Loss=0.00485, accuracy=1, f1=1]\n"
          ]
        },
        {
          "output_type": "stream",
          "name": "stdout",
          "text": [
            "Valid Loss : 0.004848315670754607\n"
          ]
        },
        {
          "output_type": "stream",
          "name": "stderr",
          "text": [
            "100%|██████████| 289/289 [04:17<00:00,  1.12it/s, Epoch=203, LR=1e-6, Train_Loss=0.668, accuracy=0.793, f1=0.721]\n",
            "100%|██████████| 73/73 [00:21<00:00,  3.32it/s, Epoch=203, LR=1e-6, Valid_Loss=0.00389, accuracy=1, f1=1]\n"
          ]
        },
        {
          "output_type": "stream",
          "name": "stdout",
          "text": [
            "Valid Loss : 0.0038920244902104447\n"
          ]
        },
        {
          "output_type": "stream",
          "name": "stderr",
          "text": [
            "100%|██████████| 289/289 [04:18<00:00,  1.12it/s, Epoch=204, LR=1e-6, Train_Loss=0.667, accuracy=0.795, f1=0.725]\n",
            "100%|██████████| 73/73 [00:22<00:00,  3.30it/s, Epoch=204, LR=1e-6, Valid_Loss=0.00369, accuracy=1, f1=1]\n"
          ]
        },
        {
          "output_type": "stream",
          "name": "stdout",
          "text": [
            "Valid Loss : 0.0036913432445606752\n",
            "Validation Loss improved( 0.003726961488248653 ---> 0.0036913432445606752  )\n",
            "Model Saved\n"
          ]
        },
        {
          "output_type": "stream",
          "name": "stderr",
          "text": [
            "100%|██████████| 289/289 [04:18<00:00,  1.12it/s, Epoch=205, LR=1e-6, Train_Loss=0.657, accuracy=0.791, f1=0.721]\n",
            "100%|██████████| 73/73 [00:22<00:00,  3.31it/s, Epoch=205, LR=1e-6, Valid_Loss=0.00355, accuracy=1, f1=1]\n"
          ]
        },
        {
          "output_type": "stream",
          "name": "stdout",
          "text": [
            "Valid Loss : 0.0035469144525338116\n",
            "Validation Loss improved( 0.0036913432445606752 ---> 0.0035469144525338116  )\n",
            "Model Saved\n",
            "Training complete in 7h 52m 55s\n",
            "Best Loss: 0.0035\n"
          ]
        }
      ]
    },
    {
      "cell_type": "markdown",
      "source": [
        "# 200 epochs"
      ],
      "metadata": {
        "id": "GN38puLddgvc"
      }
    },
    {
      "cell_type": "code",
      "source": [
        "wandb.restore(f'{CONFIG[\"nickname\"]}last.bin', 'jiwon7258/lg/zwfbinnt', root='./')"
      ],
      "metadata": {
        "colab": {
          "base_uri": "https://localhost:8080/"
        },
        "outputId": "d97c577c-d23d-4d1a-d84c-74baa2077063",
        "id": "biB9kAR_dgvd"
      },
      "execution_count": null,
      "outputs": [
        {
          "output_type": "execute_result",
          "data": {
            "text/plain": [
              "<_io.TextIOWrapper name='./CoAtNet mini finecutmixlast.bin' mode='r' encoding='UTF-8'>"
            ]
          },
          "metadata": {},
          "execution_count": 19
        }
      ]
    },
    {
      "cell_type": "code",
      "source": [
        "model.load_state_dict(torch.load(f'{CONFIG[\"nickname\"]}last.bin',\n",
        "                      map_location=CONFIG['device']))"
      ],
      "metadata": {
        "colab": {
          "base_uri": "https://localhost:8080/"
        },
        "outputId": "9923b43c-707b-4aa8-f709-f9377ac6fbae",
        "id": "O06y6Jy_dgve"
      },
      "execution_count": null,
      "outputs": [
        {
          "output_type": "execute_result",
          "data": {
            "text/plain": [
              "<All keys matched successfully>"
            ]
          },
          "metadata": {},
          "execution_count": 20
        }
      ]
    },
    {
      "cell_type": "code",
      "source": [
        "optimizer = torch.optim.Adam(\n",
        "    params=model.parameters(), lr=1e-6, weight_decay=CONFIG['weight_decay'])"
      ],
      "metadata": {
        "id": "2VYsmrZvdgve"
      },
      "execution_count": null,
      "outputs": []
    },
    {
      "cell_type": "code",
      "source": [
        "ic.disable()\n",
        "run_training(\n",
        "    model=model,\n",
        "    optimizer=optimizer,\n",
        "    # scheduler=torch.optim.lr_scheduler.CosineAnnealingLR(\n",
        "    #     optimizer=optimizer, T_max=CONFIG['T_max'], eta_min=CONFIG['min_lr']),\n",
        "    scheduler=None,\n",
        "    device=device,\n",
        "    num_epochs=100,\n",
        "    metric_prefix=\"\",\n",
        "    file_prefix=\"\",\n",
        "    early_stopping=CONFIG['early_stopping'],\n",
        "    early_stopping_step=CONFIG['early_stopping_step'],\n",
        "    START_EPOCH=309,\n",
        ");\n"
      ],
      "metadata": {
        "colab": {
          "base_uri": "https://localhost:8080/"
        },
        "outputId": "582d9234-9e5d-4f79-911b-a5d48aa286be",
        "id": "p2tm-QgVdgve"
      },
      "execution_count": null,
      "outputs": [
        {
          "metadata": {
            "tags": null
          },
          "name": "stdout",
          "output_type": "stream",
          "text": [
            "[INFO] Using GPU:Tesla T4\n",
            "\n"
          ]
        },
        {
          "metadata": {
            "tags": null
          },
          "name": "stderr",
          "output_type": "stream",
          "text": [
            "100%|██████████| 289/289 [04:38<00:00,  1.04it/s, Epoch=309, LR=1e-6, Train_Loss=0.635, accuracy=0.801, f1=0.73]\n",
            "100%|██████████| 73/73 [00:22<00:00,  3.24it/s, Epoch=309, LR=1e-6, Valid_Loss=0.00245, accuracy=1, f1=1]\n"
          ]
        },
        {
          "metadata": {
            "tags": null
          },
          "name": "stdout",
          "output_type": "stream",
          "text": [
            "Valid Loss : 0.00245014566462487\n",
            "Validation Loss improved( inf ---> 0.00245014566462487  )\n",
            "Model Saved\n"
          ]
        },
        {
          "metadata": {
            "tags": null
          },
          "name": "stderr",
          "output_type": "stream",
          "text": [
            "100%|██████████| 289/289 [04:39<00:00,  1.03it/s, Epoch=310, LR=1e-6, Train_Loss=0.621, accuracy=0.801, f1=0.74]\n",
            "100%|██████████| 73/73 [00:22<00:00,  3.24it/s, Epoch=310, LR=1e-6, Valid_Loss=0.00255, accuracy=1, f1=1]\n"
          ]
        },
        {
          "metadata": {
            "tags": null
          },
          "name": "stdout",
          "output_type": "stream",
          "text": [
            "Valid Loss : 0.00254989891593689\n"
          ]
        },
        {
          "metadata": {
            "tags": null
          },
          "name": "stderr",
          "output_type": "stream",
          "text": [
            "100%|██████████| 289/289 [04:38<00:00,  1.04it/s, Epoch=311, LR=1e-6, Train_Loss=0.622, accuracy=0.815, f1=0.753]\n",
            "100%|██████████| 73/73 [00:22<00:00,  3.24it/s, Epoch=311, LR=1e-6, Valid_Loss=0.00243, accuracy=1, f1=1]\n"
          ]
        },
        {
          "metadata": {
            "tags": null
          },
          "name": "stdout",
          "output_type": "stream",
          "text": [
            "Valid Loss : 0.0024265919936412614\n",
            "Validation Loss improved( 0.00245014566462487 ---> 0.0024265919936412614  )\n",
            "Model Saved\n"
          ]
        },
        {
          "metadata": {
            "tags": null
          },
          "name": "stderr",
          "output_type": "stream",
          "text": [
            "100%|██████████| 289/289 [04:39<00:00,  1.04it/s, Epoch=312, LR=1e-6, Train_Loss=0.618, accuracy=0.804, f1=0.739]\n",
            "100%|██████████| 73/73 [00:22<00:00,  3.26it/s, Epoch=312, LR=1e-6, Valid_Loss=0.00251, accuracy=1, f1=1]\n"
          ]
        },
        {
          "metadata": {
            "tags": null
          },
          "name": "stdout",
          "output_type": "stream",
          "text": [
            "Valid Loss : 0.0025077328781201824\n"
          ]
        },
        {
          "metadata": {
            "tags": null
          },
          "name": "stderr",
          "output_type": "stream",
          "text": [
            "100%|██████████| 289/289 [04:38<00:00,  1.04it/s, Epoch=313, LR=1e-6, Train_Loss=0.628, accuracy=0.812, f1=0.748]\n",
            "100%|██████████| 73/73 [00:22<00:00,  3.27it/s, Epoch=313, LR=1e-6, Valid_Loss=0.00232, accuracy=1, f1=1]\n"
          ]
        },
        {
          "metadata": {
            "tags": null
          },
          "name": "stdout",
          "output_type": "stream",
          "text": [
            "Valid Loss : 0.0023227412212155248\n",
            "Validation Loss improved( 0.0024265919936412614 ---> 0.0023227412212155248  )\n",
            "Model Saved\n"
          ]
        },
        {
          "metadata": {
            "tags": null
          },
          "name": "stderr",
          "output_type": "stream",
          "text": [
            "100%|██████████| 289/289 [04:38<00:00,  1.04it/s, Epoch=314, LR=1e-6, Train_Loss=0.63, accuracy=0.809, f1=0.748]\n",
            "100%|██████████| 73/73 [00:22<00:00,  3.28it/s, Epoch=314, LR=1e-6, Valid_Loss=0.00239, accuracy=1, f1=1]\n"
          ]
        },
        {
          "metadata": {
            "tags": null
          },
          "name": "stdout",
          "output_type": "stream",
          "text": [
            "Valid Loss : 0.0023927217547156632\n"
          ]
        },
        {
          "metadata": {
            "tags": null
          },
          "name": "stderr",
          "output_type": "stream",
          "text": [
            "100%|██████████| 289/289 [04:38<00:00,  1.04it/s, Epoch=315, LR=1e-6, Train_Loss=0.628, accuracy=0.814, f1=0.749]\n",
            "100%|██████████| 73/73 [00:22<00:00,  3.28it/s, Epoch=315, LR=1e-6, Valid_Loss=0.00247, accuracy=1, f1=1]\n"
          ]
        },
        {
          "metadata": {
            "tags": null
          },
          "name": "stdout",
          "output_type": "stream",
          "text": [
            "Valid Loss : 0.0024730083708051744\n"
          ]
        },
        {
          "metadata": {
            "tags": null
          },
          "name": "stderr",
          "output_type": "stream",
          "text": [
            "100%|██████████| 289/289 [04:38<00:00,  1.04it/s, Epoch=316, LR=1e-6, Train_Loss=0.626, accuracy=0.811, f1=0.748]\n",
            "100%|██████████| 73/73 [00:22<00:00,  3.27it/s, Epoch=316, LR=1e-6, Valid_Loss=0.00233, accuracy=1, f1=1]\n"
          ]
        },
        {
          "metadata": {
            "tags": null
          },
          "name": "stdout",
          "output_type": "stream",
          "text": [
            "Valid Loss : 0.002334752014825401\n"
          ]
        },
        {
          "metadata": {
            "tags": null
          },
          "name": "stderr",
          "output_type": "stream",
          "text": [
            "100%|██████████| 289/289 [04:38<00:00,  1.04it/s, Epoch=317, LR=1e-6, Train_Loss=0.616, accuracy=0.822, f1=0.76]\n",
            "100%|██████████| 73/73 [00:22<00:00,  3.28it/s, Epoch=317, LR=1e-6, Valid_Loss=0.00252, accuracy=1, f1=1]\n"
          ]
        },
        {
          "metadata": {
            "tags": null
          },
          "name": "stdout",
          "output_type": "stream",
          "text": [
            "Valid Loss : 0.002520810115814515\n"
          ]
        },
        {
          "metadata": {
            "tags": null
          },
          "name": "stderr",
          "output_type": "stream",
          "text": [
            "100%|██████████| 289/289 [04:38<00:00,  1.04it/s, Epoch=318, LR=1e-6, Train_Loss=0.624, accuracy=0.805, f1=0.741]\n",
            "100%|██████████| 73/73 [00:22<00:00,  3.28it/s, Epoch=318, LR=1e-6, Valid_Loss=0.00236, accuracy=1, f1=1]\n"
          ]
        },
        {
          "metadata": {
            "tags": null
          },
          "name": "stdout",
          "output_type": "stream",
          "text": [
            "Valid Loss : 0.002362055517414151\n"
          ]
        },
        {
          "metadata": {
            "tags": null
          },
          "name": "stderr",
          "output_type": "stream",
          "text": [
            "100%|██████████| 289/289 [04:38<00:00,  1.04it/s, Epoch=319, LR=1e-6, Train_Loss=0.621, accuracy=0.808, f1=0.746]\n",
            "100%|██████████| 73/73 [00:22<00:00,  3.28it/s, Epoch=319, LR=1e-6, Valid_Loss=0.00233, accuracy=1, f1=1]\n"
          ]
        },
        {
          "metadata": {
            "tags": null
          },
          "name": "stdout",
          "output_type": "stream",
          "text": [
            "Valid Loss : 0.002331426853556441\n"
          ]
        },
        {
          "metadata": {
            "tags": null
          },
          "name": "stderr",
          "output_type": "stream",
          "text": [
            "100%|██████████| 289/289 [04:38<00:00,  1.04it/s, Epoch=320, LR=1e-6, Train_Loss=0.63, accuracy=0.808, f1=0.742]\n",
            "100%|██████████| 73/73 [00:22<00:00,  3.27it/s, Epoch=320, LR=1e-6, Valid_Loss=0.00229, accuracy=1, f1=1]\n"
          ]
        },
        {
          "metadata": {
            "tags": null
          },
          "name": "stdout",
          "output_type": "stream",
          "text": [
            "Valid Loss : 0.0022945767388143257\n",
            "Validation Loss improved( 0.0023227412212155248 ---> 0.0022945767388143257  )\n",
            "Model Saved\n"
          ]
        },
        {
          "metadata": {
            "tags": null
          },
          "name": "stderr",
          "output_type": "stream",
          "text": [
            "100%|██████████| 289/289 [04:38<00:00,  1.04it/s, Epoch=321, LR=1e-6, Train_Loss=0.632, accuracy=0.805, f1=0.74]\n",
            "100%|██████████| 73/73 [00:22<00:00,  3.26it/s, Epoch=321, LR=1e-6, Valid_Loss=0.00245, accuracy=1, f1=1]\n"
          ]
        },
        {
          "metadata": {
            "tags": null
          },
          "name": "stdout",
          "output_type": "stream",
          "text": [
            "Valid Loss : 0.0024450635601294367\n"
          ]
        },
        {
          "metadata": {
            "tags": null
          },
          "name": "stderr",
          "output_type": "stream",
          "text": [
            "100%|██████████| 289/289 [04:38<00:00,  1.04it/s, Epoch=322, LR=1e-6, Train_Loss=0.629, accuracy=0.812, f1=0.746]\n",
            "100%|██████████| 73/73 [00:22<00:00,  3.28it/s, Epoch=322, LR=1e-6, Valid_Loss=0.00274, accuracy=1, f1=1]\n"
          ]
        },
        {
          "metadata": {
            "tags": null
          },
          "name": "stdout",
          "output_type": "stream",
          "text": [
            "Valid Loss : 0.002737592541363907\n"
          ]
        },
        {
          "output_type": "stream",
          "name": "stderr",
          "text": [
            "100%|██████████| 289/289 [04:38<00:00,  1.04it/s, Epoch=323, LR=1e-6, Train_Loss=0.622, accuracy=0.814, f1=0.748]\n",
            "100%|██████████| 73/73 [00:22<00:00,  3.27it/s, Epoch=323, LR=1e-6, Valid_Loss=0.00226, accuracy=1, f1=1]\n"
          ]
        },
        {
          "output_type": "stream",
          "name": "stdout",
          "text": [
            "Valid Loss : 0.002262699511859005\n",
            "Validation Loss improved( 0.0022945767388143257 ---> 0.002262699511859005  )\n",
            "Model Saved\n"
          ]
        },
        {
          "output_type": "stream",
          "name": "stderr",
          "text": [
            "100%|██████████| 289/289 [04:38<00:00,  1.04it/s, Epoch=324, LR=1e-6, Train_Loss=0.621, accuracy=0.817, f1=0.756]\n",
            "100%|██████████| 73/73 [00:22<00:00,  3.27it/s, Epoch=324, LR=1e-6, Valid_Loss=0.00234, accuracy=1, f1=1]\n"
          ]
        },
        {
          "output_type": "stream",
          "name": "stdout",
          "text": [
            "Valid Loss : 0.0023376165262474487\n"
          ]
        },
        {
          "output_type": "stream",
          "name": "stderr",
          "text": [
            "100%|██████████| 289/289 [04:38<00:00,  1.04it/s, Epoch=325, LR=1e-6, Train_Loss=0.62, accuracy=0.806, f1=0.737]\n",
            "100%|██████████| 73/73 [00:22<00:00,  3.27it/s, Epoch=325, LR=1e-6, Valid_Loss=0.00234, accuracy=1, f1=1]\n"
          ]
        },
        {
          "output_type": "stream",
          "name": "stdout",
          "text": [
            "Valid Loss : 0.0023353033817105303\n"
          ]
        },
        {
          "output_type": "stream",
          "name": "stderr",
          "text": [
            "100%|██████████| 289/289 [04:37<00:00,  1.04it/s, Epoch=326, LR=1e-6, Train_Loss=0.61, accuracy=0.819, f1=0.758]\n",
            "100%|██████████| 73/73 [00:22<00:00,  3.27it/s, Epoch=326, LR=1e-6, Valid_Loss=0.00241, accuracy=1, f1=1]\n"
          ]
        },
        {
          "output_type": "stream",
          "name": "stdout",
          "text": [
            "Valid Loss : 0.0024142345949395064\n"
          ]
        },
        {
          "output_type": "stream",
          "name": "stderr",
          "text": [
            "100%|██████████| 289/289 [04:37<00:00,  1.04it/s, Epoch=327, LR=1e-6, Train_Loss=0.616, accuracy=0.814, f1=0.752]\n",
            "100%|██████████| 73/73 [00:22<00:00,  3.27it/s, Epoch=327, LR=1e-6, Valid_Loss=0.00257, accuracy=1, f1=1]\n"
          ]
        },
        {
          "output_type": "stream",
          "name": "stdout",
          "text": [
            "Valid Loss : 0.0025695210453505588\n"
          ]
        },
        {
          "output_type": "stream",
          "name": "stderr",
          "text": [
            "100%|██████████| 289/289 [04:37<00:00,  1.04it/s, Epoch=328, LR=1e-6, Train_Loss=0.62, accuracy=0.814, f1=0.749]\n",
            "100%|██████████| 73/73 [00:22<00:00,  3.28it/s, Epoch=328, LR=1e-6, Valid_Loss=0.00223, accuracy=1, f1=1]\n"
          ]
        },
        {
          "output_type": "stream",
          "name": "stdout",
          "text": [
            "Valid Loss : 0.002229077746287907\n",
            "Validation Loss improved( 0.002262699511859005 ---> 0.002229077746287907  )\n",
            "Model Saved\n"
          ]
        },
        {
          "output_type": "stream",
          "name": "stderr",
          "text": [
            " 84%|████████▍ | 243/289 [03:54<00:44,  1.04it/s, Epoch=329, LR=1e-6, Train_Loss=0.62, accuracy=0.803, f1=0.739]"
          ]
        }
      ]
    }
  ],
  "metadata": {
    "accelerator": "GPU",
    "colab": {
      "collapsed_sections": [],
      "name": "lg_train_coatmini224_finecutmix.ipynb",
      "provenance": [],
      "toc_visible": true
    },
    "kernelspec": {
      "display_name": "Python 3",
      "language": "python",
      "name": "python3"
    },
    "language_info": {
      "codemirror_mode": {
        "name": "ipython",
        "version": 3
      },
      "file_extension": ".py",
      "mimetype": "text/x-python",
      "name": "python",
      "nbconvert_exporter": "python",
      "pygments_lexer": "ipython3",
      "version": "3.9.7"
    }
  },
  "nbformat": 4,
  "nbformat_minor": 0
}