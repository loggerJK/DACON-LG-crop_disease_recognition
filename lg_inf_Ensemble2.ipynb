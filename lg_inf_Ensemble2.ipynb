{
  "cells": [
    {
      "cell_type": "code",
      "execution_count": 1,
      "metadata": {
        "colab": {
          "base_uri": "https://localhost:8080/"
        },
        "execution": {
          "iopub.execute_input": "2022-01-15T12:46:47.007667Z",
          "iopub.status.busy": "2022-01-15T12:46:47.007157Z",
          "iopub.status.idle": "2022-01-15T12:47:02.666730Z",
          "shell.execute_reply": "2022-01-15T12:47:02.665532Z",
          "shell.execute_reply.started": "2022-01-15T12:46:47.007577Z"
        },
        "id": "rta_-XDLrKRm",
        "outputId": "caaac15d-0970-4432-d184-51f25e2423f3",
        "trusted": true
      },
      "outputs": [
        {
          "name": "stdout",
          "output_type": "stream",
          "text": [
            "\u001b[31mERROR: Could not find a version that satisfies the requirement opencv-python-headless==4.1.2.30 (from versions: 3.4.10.37, 3.4.11.39, 3.4.11.41, 3.4.11.43, 3.4.11.45, 3.4.13.47, 3.4.14.51, 3.4.14.53, 3.4.15.55, 3.4.16.59, 3.4.17.61, 4.3.0.38, 4.4.0.40, 4.4.0.42, 4.4.0.44, 4.4.0.46, 4.5.1.48, 4.5.2.52, 4.5.2.54, 4.5.3.56, 4.5.4.58, 4.5.4.60, 4.5.5.62)\u001b[0m\n",
            "\u001b[31mERROR: No matching distribution found for opencv-python-headless==4.1.2.30\u001b[0m\n"
          ]
        }
      ],
      "source": [
        "! pip install wandb opencv-python-headless==4.1.2.30 albumentations torch-summary timm==0.5.4 einops joblib icecream  -qq -U"
      ]
    },
    {
      "cell_type": "code",
      "execution_count": 2,
      "metadata": {
        "execution": {
          "iopub.execute_input": "2022-01-15T12:47:02.669199Z",
          "iopub.status.busy": "2022-01-15T12:47:02.668915Z",
          "iopub.status.idle": "2022-01-15T12:47:07.445802Z",
          "shell.execute_reply": "2022-01-15T12:47:07.444763Z",
          "shell.execute_reply.started": "2022-01-15T12:47:02.669163Z"
        },
        "id": "CCC9pGxmrKRr",
        "trusted": true
      },
      "outputs": [],
      "source": [
        "import warnings\n",
        "from glob import glob\n",
        "import pathlib\n",
        "from pathlib import Path\n",
        "from torchsummary import summary\n",
        "import torch\n",
        "import torch.nn as nn\n",
        "import torch.nn.functional as F\n",
        "from torch.utils.data import Dataset, DataLoader\n",
        "import pandas as pd\n",
        "from pprint import pprint\n",
        "import urllib.request\n",
        "import csv\n",
        "import numpy as np\n",
        "from einops import rearrange, reduce, repeat\n",
        "from torch.cuda import amp\n",
        "from tqdm import tqdm\n",
        "import wandb\n",
        "import time\n",
        "import copy\n",
        "from collections import defaultdict\n",
        "from sklearn.metrics import mean_squared_error\n",
        "import joblib\n",
        "import gc\n",
        "import os\n",
        "from icecream import ic\n",
        "from sklearn.model_selection import train_test_split\n",
        "import gc\n",
        "import cv2\n",
        "import copy\n",
        "import time\n",
        "import random\n",
        "from PIL import Image\n",
        "\n",
        "# For data manipulation\n",
        "import numpy as np\n",
        "import pandas as pd\n",
        "from einops import rearrange, repeat\n",
        "from scipy import stats\n",
        "\n",
        "# Pytorch Imports\n",
        "import torch\n",
        "import torch.nn as nn\n",
        "import torch.optim as optim\n",
        "from torch.optim import lr_scheduler\n",
        "from torch.utils.data import Dataset, DataLoader\n",
        "from torch.cuda import amp\n",
        "\n",
        "# Utils\n",
        "import joblib\n",
        "from tqdm import tqdm\n",
        "from collections import defaultdict\n",
        "import matplotlib.pyplot as plt\n",
        "\n",
        "# Sklearn Imports\n",
        "from sklearn.metrics import mean_squared_error\n",
        "from sklearn.model_selection import StratifiedKFold, KFold\n",
        "\n",
        "import timm\n",
        "\n",
        "import json\n",
        "\n",
        "# Albumentations for augmentations\n",
        "import albumentations as A\n",
        "from albumentations.pytorch import ToTensorV2\n",
        "\n",
        "# For colored terminal text\n",
        "from colorama import Fore, Back, Style\n",
        "c_ = Fore.CYAN\n",
        "sr_ = Style.RESET_ALL\n",
        "\n",
        "warnings.filterwarnings(\"ignore\")\n",
        "\n",
        "# For descriptive error messages\n",
        "os.environ['CUDA_LAUNCH_BLOCKING'] = \"1\"\n"
      ]
    },
    {
      "cell_type": "markdown",
      "metadata": {},
      "source": [
        "# ENV"
      ]
    },
    {
      "cell_type": "code",
      "execution_count": 3,
      "metadata": {
        "execution": {
          "iopub.execute_input": "2022-01-15T12:47:07.447472Z",
          "iopub.status.busy": "2022-01-15T12:47:07.447211Z",
          "iopub.status.idle": "2022-01-15T12:47:07.457019Z",
          "shell.execute_reply": "2022-01-15T12:47:07.455591Z",
          "shell.execute_reply.started": "2022-01-15T12:47:07.447437Z"
        },
        "id": "_XeMSpQNrKRt",
        "trusted": true
      },
      "outputs": [],
      "source": [
        "\n",
        "# ENV = 'COLAB'\n",
        "ENV = 'KAGGLE'\n",
        "# ENV = 'SYSTEM'\n",
        "\n",
        "# Option for Mixed Precision\n",
        "# FP16 = True\n",
        "FP16 = False\n",
        "\n",
        "\n",
        "CONFIG = dict(\n",
        "    seed=42,\n",
        "    backbone=None,\n",
        "    embedder=None,\n",
        "    train_batch_size=8,\n",
        "    valid_batch_size=16,\n",
        "    img_size=384,\n",
        "    num_epochs=5,\n",
        "    early_stopping=True,\n",
        "    early_stopping_step=10,\n",
        "    learning_rate=1e-4,\n",
        "    scheduler='CosineAnnealingLR',\n",
        "    min_lr=1e-6,\n",
        "    T_max=100,\n",
        "    num_classes=25,\n",
        "    weight_decay=1e-6,\n",
        "    device=torch.device(\"cuda:0\" if torch.cuda.is_available() else \"cpu\"),\n",
        "    competition='lg',\n",
        "    _wandb_kernel='deb'\n",
        ")\n",
        "\n",
        "\n",
        "device = torch.device(\"cuda\" if torch.cuda.is_available() else \"cpu\")\n"
      ]
    },
    {
      "cell_type": "code",
      "execution_count": 4,
      "metadata": {
        "execution": {
          "iopub.execute_input": "2022-01-15T12:47:07.459867Z",
          "iopub.status.busy": "2022-01-15T12:47:07.458923Z",
          "iopub.status.idle": "2022-01-15T12:47:07.475078Z",
          "shell.execute_reply": "2022-01-15T12:47:07.474266Z",
          "shell.execute_reply.started": "2022-01-15T12:47:07.459827Z"
        },
        "id": "dcP2gaN8rKRu",
        "trusted": true
      },
      "outputs": [],
      "source": [
        "def set_seed(seed=42):\n",
        "    '''Sets the seed of the entire notebook so results are the same every time we run.\n",
        "    This is for REPRODUCIBILITY.'''\n",
        "    np.random.seed(seed)\n",
        "    random.seed(seed)\n",
        "    torch.manual_seed(seed)\n",
        "    torch.cuda.manual_seed(seed)\n",
        "    # When running on the CuDNN backend, two further options must be set\n",
        "    torch.backends.cudnn.deterministic = True\n",
        "    torch.backends.cudnn.benchmark = False\n",
        "    # Set a fixed value for the hash seed\n",
        "    os.environ['PYTHONHASHSEED'] = str(seed)\n",
        "\n",
        "\n",
        "set_seed(CONFIG['seed'])\n"
      ]
    },
    {
      "cell_type": "code",
      "execution_count": 5,
      "metadata": {
        "colab": {
          "base_uri": "https://localhost:8080/",
          "height": 260,
          "referenced_widgets": [
            "5fb4bdb7170843628c1b7e7629650358",
            "afabeaf01109403a9eb12062da8b9758",
            "e5c163b89fe94f87a902f9b8ade4ada3",
            "90e02723bc8b41f8806df4816fe5ea6b",
            "e7720e64b8de49dd85cd6b4d5cac1d02",
            "5e13afa287994746aff6d779905935fc",
            "cab72b65895c4b9aa6bd773067793bb4",
            "70e1898784824d1b8b583f889ff90ff8"
          ]
        },
        "execution": {
          "iopub.execute_input": "2022-01-15T12:47:44.198246Z",
          "iopub.status.busy": "2022-01-15T12:47:44.197954Z",
          "iopub.status.idle": "2022-01-15T13:02:57.916054Z",
          "shell.execute_reply": "2022-01-15T13:02:57.913033Z",
          "shell.execute_reply.started": "2022-01-15T12:47:44.198217Z"
        },
        "id": "KZMUcAF9rKRu",
        "outputId": "14424f04-8fb7-4398-cfcd-6f2636941ab6",
        "trusted": true
      },
      "outputs": [],
      "source": [
        "import wandb\n",
        "\n",
        "\n",
        "run = wandb.init(project=\"lg\", entity=\"jiwon7258\", config=CONFIG,\n",
        "                 job_type='inf', id='1l0lpdqx', resume='must')\n",
        "dataset = wandb.run.use_artifact(\n",
        "    'jiwon7258/lg/lg:v1', type='dataset')\n",
        "\n",
        "run.name = 'Ensemble 2'\n",
        "\n",
        "# Download the artifact's contents\n",
        "dataset_dir = dataset.download()\n",
        "dataset_dir = Path(dataset_dir)\n"
      ]
    },
    {
      "cell_type": "markdown",
      "metadata": {
        "id": "4rF6wAN4rKRv"
      },
      "source": [
        "# Augmentation"
      ]
    },
    {
      "cell_type": "code",
      "execution_count": 6,
      "metadata": {
        "execution": {
          "iopub.execute_input": "2022-01-15T13:02:57.925334Z",
          "iopub.status.busy": "2022-01-15T13:02:57.922597Z",
          "iopub.status.idle": "2022-01-15T13:02:57.942778Z",
          "shell.execute_reply": "2022-01-15T13:02:57.941700Z",
          "shell.execute_reply.started": "2022-01-15T13:02:57.925266Z"
        },
        "id": "oYgDFfbOrKRx",
        "trusted": true
      },
      "outputs": [],
      "source": [
        "data_transforms = {\n",
        "    \"train\": A.Compose([\n",
        "        A.Resize(CONFIG['img_size'], CONFIG['img_size']),\n",
        "        A.ShiftScaleRotate(shift_limit=0.05, scale_limit=0.05,\n",
        "                           rotate_limit=15, p=0.5),\n",
        "        A.RGBShift(r_shift_limit=15, g_shift_limit=15,\n",
        "                   b_shift_limit=15, p=0.5),\n",
        "        A.RandomBrightnessContrast(p=0.5),\n",
        "        A.HorizontalFlip(p=0.5),\n",
        "        A.VerticalFlip(p=0.5),\n",
        "        A.Normalize(),\n",
        "        ToTensorV2(),\n",
        "        ], p=1.),\n",
        "}\n",
        "data_transforms_valid = {\n",
        "    224: A.Compose([\n",
        "        A.Resize(224, 224),\n",
        "        A.Normalize(),\n",
        "        ToTensorV2()], p=1.),\n",
        "\n",
        "\n",
        "    384: A.Compose([\n",
        "        A.Resize(384, 384),\n",
        "        A.Normalize(),\n",
        "        ToTensorV2()], p=1.),\n",
        "\n",
        "\n",
        "    512: A.Compose([\n",
        "        A.Resize(512, 512),\n",
        "        A.Normalize(),\n",
        "        ToTensorV2()], p=1.)\n",
        "}\n"
      ]
    },
    {
      "cell_type": "markdown",
      "metadata": {
        "id": "SmOlqkaWrKRz"
      },
      "source": [
        "# Dataset Dataloader"
      ]
    },
    {
      "cell_type": "code",
      "execution_count": 8,
      "metadata": {
        "execution": {
          "iopub.execute_input": "2022-01-15T13:02:57.944980Z",
          "iopub.status.busy": "2022-01-15T13:02:57.944646Z",
          "iopub.status.idle": "2022-01-15T13:02:57.955419Z",
          "shell.execute_reply": "2022-01-15T13:02:57.954212Z",
          "shell.execute_reply.started": "2022-01-15T13:02:57.944931Z"
        },
        "id": "j9-4OTy8rKR0",
        "trusted": true
      },
      "outputs": [],
      "source": [
        "# dataset_dir = Path('./')\n",
        "TEST_PATH =  dataset_dir / 'test'"
      ]
    },
    {
      "cell_type": "code",
      "execution_count": 9,
      "metadata": {
        "execution": {
          "iopub.execute_input": "2022-01-15T13:02:57.958800Z",
          "iopub.status.busy": "2022-01-15T13:02:57.958261Z",
          "iopub.status.idle": "2022-01-15T13:03:01.431853Z",
          "shell.execute_reply": "2022-01-15T13:03:01.431262Z",
          "shell.execute_reply.started": "2022-01-15T13:02:57.958753Z"
        },
        "id": "z-rfoE1VrKR1",
        "trusted": true
      },
      "outputs": [],
      "source": [
        "test_csv = sorted(glob(str(TEST_PATH / '*/*.csv')))\n",
        "test_jpg = sorted(glob(str(TEST_PATH / '*/*.jpg')))"
      ]
    },
    {
      "cell_type": "code",
      "execution_count": null,
      "metadata": {
        "execution": {
          "iopub.execute_input": "2022-01-15T13:06:38.257482Z",
          "iopub.status.busy": "2022-01-15T13:06:38.257175Z",
          "iopub.status.idle": "2022-01-15T13:06:38.267537Z",
          "shell.execute_reply": "2022-01-15T13:06:38.266470Z",
          "shell.execute_reply.started": "2022-01-15T13:06:38.257447Z"
        },
        "id": "8YsRdyfvrKR1",
        "trusted": true
      },
      "outputs": [],
      "source": [
        "# # TTA\n",
        "# class TestDataset(Dataset):\n",
        "#     def __init__ (self, N, test_imgs, transforms = None):\n",
        "#         self.N = N\n",
        "#         self.test_imgs = test_imgs\n",
        "#         self.transforms = transforms\n",
        "\n",
        "\n",
        "#     def __len__ (self):\n",
        "#         return len(self.test_imgs)\n",
        "\n",
        "#     def __getitem__(self, index):\n",
        "#         img_path = self.test_imgs[index]\n",
        "#         img_code = (Path(img_path)).parent.stem\n",
        "#         img = cv2.imread(img_path)\n",
        "#         img = cv2.cvtColor(img, cv2.COLOR_BGR2RGB)\n",
        "        \n",
        "#         imgs = [self.transforms(image=img)['image'] for _ in range(self.N)]\n",
        "#         imgs = np.concatenate(imgs, axis = 0)\n",
        "#         imgs = rearrange(imgs, '(new1 bs) h w -> new1 bs h w', new1=self.N)\n",
        "\n",
        "#         return imgs, img_code\n",
        "\n",
        "# testDataset = TestDataset(8, test_jpg, transforms = data_transforms['train'])\n",
        "# testDataloader = DataLoader(\n",
        "#     testDataset, batch_size=CONFIG['valid_batch_size'], shuffle=False)\n"
      ]
    },
    {
      "cell_type": "code",
      "execution_count": 14,
      "metadata": {
        "id": "GZdAhiO3rKR2"
      },
      "outputs": [],
      "source": [
        "class TestDataset(Dataset):\n",
        "    def __init__(self, test_imgs, transforms=None):\n",
        "        self.test_imgs = test_imgs\n",
        "        self.transforms = transforms\n",
        "\n",
        "    def __len__(self):\n",
        "        return len(self.test_imgs)\n",
        "\n",
        "    def __getitem__(self, index):\n",
        "        img_path = self.test_imgs[index]\n",
        "        img_code = (Path(img_path)).parent.stem\n",
        "        img = cv2.imread(img_path)\n",
        "        img = cv2.cvtColor(img, cv2.COLOR_BGR2RGB)\n",
        "\n",
        "        img_list = [transform(image=img)['image'] for transform in self.transforms.values()]\n",
        "        \n",
        "\n",
        "        return img_list, img_code\n",
        "\n",
        "# 384\n",
        "testDataset = TestDataset(test_jpg, transforms=data_transforms_valid)\n",
        "testDataloader = DataLoader(\n",
        "    testDataset, batch_size=CONFIG['valid_batch_size'], shuffle=False)\n"
      ]
    },
    {
      "cell_type": "code",
      "execution_count": 55,
      "metadata": {
        "execution": {
          "iopub.execute_input": "2022-01-15T13:07:04.778647Z",
          "iopub.status.busy": "2022-01-15T13:07:04.778336Z",
          "iopub.status.idle": "2022-01-15T13:07:04.800418Z",
          "shell.execute_reply": "2022-01-15T13:07:04.799737Z",
          "shell.execute_reply.started": "2022-01-15T13:07:04.778613Z"
        },
        "id": "yzyKYsi7rKR2",
        "trusted": true
      },
      "outputs": [],
      "source": [
        "# for imgs, img_code in testDataset :\n",
        "#     fig, axes = plt.subplots(1,8, figsize = (40,20))\n",
        "#     for i in range(8):\n",
        "#         img = imgs[i, :, :, :]\n",
        "#         axes[i].imshow(img.reshape(384,384,3))\n",
        "#     break"
      ]
    },
    {
      "cell_type": "code",
      "execution_count": 18,
      "metadata": {
        "colab": {
          "base_uri": "https://localhost:8080/"
        },
        "id": "6tj6gB23rKR3",
        "outputId": "789991c3-a84b-4cda-969f-62b66f81cd71"
      },
      "outputs": [
        {
          "name": "stdout",
          "output_type": "stream",
          "text": [
            "torch.Size([2, 3, 224, 224])\n",
            "torch.Size([2, 3, 384, 384])\n",
            "torch.Size([2, 3, 512, 512])\n",
            "<class 'tuple'>\n"
          ]
        }
      ],
      "source": [
        "for img_list, img_code in testDataloader:\n",
        "    for i in range(len(img_list)):\n",
        "        print(img_list[i].shape)\n",
        "    print(type(img_code))\n",
        "    break\n"
      ]
    },
    {
      "cell_type": "markdown",
      "metadata": {
        "id": "OkE-L-9BrKR3"
      },
      "source": [
        "# Key Value Dict"
      ]
    },
    {
      "cell_type": "code",
      "execution_count": 57,
      "metadata": {
        "execution": {
          "iopub.execute_input": "2022-01-15T13:07:08.956085Z",
          "iopub.status.busy": "2022-01-15T13:07:08.955767Z",
          "iopub.status.idle": "2022-01-15T13:07:09.858750Z",
          "shell.execute_reply": "2022-01-15T13:07:09.857847Z",
          "shell.execute_reply.started": "2022-01-15T13:07:08.956047Z"
        },
        "id": "tMbZPaF5rKR4",
        "trusted": true
      },
      "outputs": [],
      "source": [
        "wandb.restore('class_dict', run_path='jiwon7258/lg/1lkvc6n0', root='./')\n",
        "class_dict = joblib.load('class_dict')"
      ]
    },
    {
      "cell_type": "markdown",
      "metadata": {
        "id": "vgPxm-evrKR4"
      },
      "source": [
        "# MODELS"
      ]
    },
    {
      "cell_type": "markdown",
      "metadata": {
        "id": "3vIqZ-eprKR4"
      },
      "source": [
        "## EfficientNet V2 M"
      ]
    },
    {
      "cell_type": "code",
      "execution_count": 58,
      "metadata": {
        "execution": {
          "iopub.execute_input": "2022-01-15T13:12:22.229683Z",
          "iopub.status.busy": "2022-01-15T13:12:22.228637Z",
          "iopub.status.idle": "2022-01-15T13:12:24.139623Z",
          "shell.execute_reply": "2022-01-15T13:12:24.138999Z",
          "shell.execute_reply.started": "2022-01-15T13:12:22.229634Z"
        },
        "id": "bcdXMKymrKR5",
        "trusted": true
      },
      "outputs": [],
      "source": [
        "class Effnet(nn.Module):\n",
        "    def __init__(self, backbone, embedder, pretrained=True):\n",
        "        super().__init__()\n",
        "        self.backbone = timm.create_model(backbone, pretrained=pretrained)\n",
        "        self.backbone.reset_classifier(0)\n",
        "        self.n_features = 1280\n",
        "        self.fc = nn.Linear(self.n_features, CONFIG['num_classes'])\n",
        "\n",
        "    def forward(self, images):\n",
        "        # features = (bs, embedding_size)\n",
        "        features = self.backbone(images)\n",
        "        # outputs  = (bs, num_classes)\n",
        "        output = self.fc(features)\n",
        "        return output\n",
        "\n",
        "\n",
        "effnet = Effnet('tf_efficientnetv2_m',None, pretrained=False)\n",
        "effent = effnet.to(CONFIG['device'])\n",
        ";"
      ]
    },
    {
      "cell_type": "code",
      "execution_count": 59,
      "metadata": {
        "colab": {
          "base_uri": "https://localhost:8080/"
        },
        "execution": {
          "iopub.execute_input": "2022-01-15T13:12:24.141942Z",
          "iopub.status.busy": "2022-01-15T13:12:24.141470Z",
          "iopub.status.idle": "2022-01-15T13:12:26.297276Z",
          "shell.execute_reply": "2022-01-15T13:12:26.296415Z",
          "shell.execute_reply.started": "2022-01-15T13:12:24.141898Z"
        },
        "id": "KcgQHp76rKR5",
        "outputId": "05ebc113-eb4d-42f1-f9df-6e82e208ae40",
        "trusted": true
      },
      "outputs": [
        {
          "data": {
            "text/plain": [
              "<All keys matched successfully>"
            ]
          },
          "execution_count": 59,
          "metadata": {},
          "output_type": "execute_result"
        }
      ],
      "source": [
        "wandb.restore('epoch3_Loss0.0760.bin', 'jiwon7258/lg/koxrlhhf', root='./')\n",
        "effnet.load_state_dict(torch.load('epoch3_Loss0.0760.bin',\n",
        "                      map_location=CONFIG['device']))\n"
      ]
    },
    {
      "cell_type": "markdown",
      "metadata": {
        "id": "nsOQWdHqrKR5"
      },
      "source": [
        "## Swin"
      ]
    },
    {
      "cell_type": "code",
      "execution_count": null,
      "metadata": {
        "colab": {
          "base_uri": "https://localhost:8080/"
        },
        "id": "r4glrKmmrKR5",
        "outputId": "16a25beb-b05d-4287-f5bb-ad615a5a3fcf"
      },
      "outputs": [],
      "source": [
        "class Swin(nn.Module):\n",
        "    def __init__(self, backbone, embedder, pretrained=True):\n",
        "        super(Swin, self).__init__()\n",
        "        self.backbone = timm.create_model(backbone, pretrained=pretrained)\n",
        "        self.n_features = self.backbone.head.in_features\n",
        "        self.backbone.reset_classifier(0)\n",
        "        self.fc = nn.Linear(self.n_features, CONFIG['num_classes'])\n",
        "\n",
        "    def forward(self, images):\n",
        "        # features = (bs, embedding_size)\n",
        "        features = self.backbone(images)\n",
        "        # outputs  = (bs, num_classes)\n",
        "        output = self.fc(features)\n",
        "        return output\n",
        "\n",
        "\n",
        "swin = Swin('swin_base_patch4_window12_384',\n",
        "            None, pretrained=False)\n",
        "swin.to(CONFIG['device'])\n",
        ";"
      ]
    },
    {
      "cell_type": "code",
      "execution_count": 61,
      "metadata": {
        "colab": {
          "base_uri": "https://localhost:8080/"
        },
        "id": "RWtGjfeCrKR6",
        "outputId": "b07d179f-15e7-410c-a88e-41405f82aae6"
      },
      "outputs": [
        {
          "data": {
            "text/plain": [
              "<All keys matched successfully>"
            ]
          },
          "execution_count": 61,
          "metadata": {},
          "output_type": "execute_result"
        }
      ],
      "source": [
        "wandb.restore('epoch3_Loss0.1026.bin', 'jiwon7258/lg/2mzc3731', root='./')\n",
        "swin.load_state_dict(torch.load('epoch3_Loss0.1026.bin',\n",
        "                      map_location=CONFIG['device']))\n"
      ]
    },
    {
      "cell_type": "markdown",
      "metadata": {
        "id": "VdxMNIHErKR6"
      },
      "source": [
        "## DeiT"
      ]
    },
    {
      "cell_type": "code",
      "execution_count": null,
      "metadata": {
        "colab": {
          "base_uri": "https://localhost:8080/"
        },
        "id": "ksIqg6-BrKR6",
        "outputId": "3994c9ab-80f7-4b2f-bf45-bee20a55081b"
      },
      "outputs": [],
      "source": [
        "class Deit(nn.Module):\n",
        "    def __init__(self, backbone, embedder, pretrained=True):\n",
        "        super(Deit, self).__init__()\n",
        "        self.backbone = timm.create_model(backbone, pretrained=pretrained)\n",
        "        self.backbone.reset_classifier(0)\n",
        "        self.n_features = 768\n",
        "        self.fc = nn.Linear(self.n_features, CONFIG['num_classes'])\n",
        "\n",
        "    def forward(self, images):\n",
        "        # features = (bs, embedding_size)\n",
        "        features = self.backbone(images)\n",
        "        # outputs  = (bs, num_classes)\n",
        "        if isinstance(features, tuple):\n",
        "          features = features[0]\n",
        "        output = self.fc(features)\n",
        "        return output\n",
        "\n",
        "\n",
        "deit = Deit('deit_base_distilled_patch16_384',\n",
        "            None, pretrained=False)\n",
        "deit.to(CONFIG['device'])\n",
        ";"
      ]
    },
    {
      "cell_type": "code",
      "execution_count": 63,
      "metadata": {
        "colab": {
          "base_uri": "https://localhost:8080/"
        },
        "id": "HdkIJzBIrKR7",
        "outputId": "d16fa4dc-d069-4fd2-d039-888a819bdd61"
      },
      "outputs": [
        {
          "data": {
            "text/plain": [
              "<All keys matched successfully>"
            ]
          },
          "execution_count": 63,
          "metadata": {},
          "output_type": "execute_result"
        }
      ],
      "source": [
        "wandb.restore('epoch13_Loss0.0081.bin', 'jiwon7258/lg/2g7lsew4', root='./')\n",
        "deit.load_state_dict(torch.load(\n",
        "    'epoch13_Loss0.0081.bin', map_location=CONFIG['device']))\n"
      ]
    },
    {
      "cell_type": "markdown",
      "metadata": {
        "id": "WSaGNEnbrKR7"
      },
      "source": [
        "## EfficientNet B4 NS 512"
      ]
    },
    {
      "cell_type": "code",
      "execution_count": null,
      "metadata": {
        "colab": {
          "base_uri": "https://localhost:8080/"
        },
        "id": "G9yr5bz3rKR7",
        "outputId": "9a36d3bb-008a-4b10-9919-7be08062a21b"
      },
      "outputs": [],
      "source": [
        "class Noisy(nn.Module):\n",
        "    def __init__(self, backbone, embedder, pretrained=True):\n",
        "        super(Noisy, self).__init__()\n",
        "        self.backbone = timm.create_model(backbone, pretrained=pretrained)\n",
        "        self.backbone.reset_classifier(0)\n",
        "        self.n_features = 1792\n",
        "        self.fc = nn.Linear(self.n_features, CONFIG['num_classes'])\n",
        "\n",
        "    def forward(self, images):\n",
        "        # features = (bs, embedding_size)\n",
        "        features = self.backbone(images)\n",
        "        # outputs  = (bs, num_classes)\n",
        "        # if isinstance(features, tuple):\n",
        "        #   features = features[0]\n",
        "        output = self.fc(features)\n",
        "        return output\n",
        "\n",
        "\n",
        "b4ns512 = Noisy('tf_efficientnet_b4_ns', None, pretrained=False)\n",
        "b4ns512.to(CONFIG['device'])\n",
        ";"
      ]
    },
    {
      "cell_type": "code",
      "execution_count": 65,
      "metadata": {
        "colab": {
          "base_uri": "https://localhost:8080/"
        },
        "id": "SJs8BxrtrKR7",
        "outputId": "bf837401-c1da-497e-c0b6-aeb90d39aa2a"
      },
      "outputs": [
        {
          "data": {
            "text/plain": [
              "<All keys matched successfully>"
            ]
          },
          "execution_count": 65,
          "metadata": {},
          "output_type": "execute_result"
        }
      ],
      "source": [
        "wandb.restore('epoch71_Loss0.0003.bin', 'jiwon7258/lg/1v3ffaqb', root='./')\n",
        "b4ns512.load_state_dict(torch.load(\n",
        "    'epoch71_Loss0.0003.bin', map_location=CONFIG['device']))\n"
      ]
    },
    {
      "cell_type": "markdown",
      "metadata": {},
      "source": [
        "## CoAtNet Mini 224"
      ]
    },
    {
      "cell_type": "code",
      "execution_count": null,
      "metadata": {},
      "outputs": [],
      "source": [
        "class Coat(nn.Module):\n",
        "    def __init__(self, backbone, embedder, pretrained=True):\n",
        "        super(Coat, self).__init__()\n",
        "        self.backbone = timm.create_model(backbone, pretrained=pretrained)\n",
        "        self.backbone.reset_classifier(0)\n",
        "        self.n_features = self.backbone.num_features\n",
        "        self.fc = nn.Linear(self.n_features, CONFIG['num_classes'])\n",
        "\n",
        "    def forward(self, images):\n",
        "        # features = (bs, embedding_size)\n",
        "        features = self.backbone(images)\n",
        "        # outputs  = (bs, num_classes)\n",
        "        # if isinstance(features, tuple):\n",
        "        #   features = features[0]\n",
        "        output = self.fc(features)\n",
        "        return output\n",
        "\n",
        "\n",
        "coatmini224 = Coat(CONFIG['backbone'], CONFIG['embedder'], pretrained=True)\n",
        "coatmini224.to(CONFIG['device'])\n",
        ";"
      ]
    },
    {
      "cell_type": "code",
      "execution_count": null,
      "metadata": {},
      "outputs": [],
      "source": [
        "wandb.restore('epoch45_Loss0.0005.bin', 'jiwon7258/lg/jlca032j', root='./')\n",
        "coatmini224.load_state_dict(torch.load(\n",
        "    'epoch45_Loss0.0005.bin', map_location=CONFIG['device']))\n"
      ]
    },
    {
      "cell_type": "code",
      "execution_count": 66,
      "metadata": {
        "id": "7KAeBA4trKR7"
      },
      "outputs": [],
      "source": [
        "models = {\n",
        "    224 : [],\n",
        "    384 : [],\n",
        "    512 : [],\n",
        "}\n",
        "models[224].append(coatmini224)\n",
        "models[384].append(effnet)\n",
        "models[384].append(swin)\n",
        "models[384].append(deit)\n",
        "models[512].append(b4ns512)"
      ]
    },
    {
      "cell_type": "code",
      "execution_count": 67,
      "metadata": {
        "id": "PsIBf2G4rKR8"
      },
      "outputs": [],
      "source": [
        "# # TTA\n",
        "# img_code_list = []\n",
        "# outputs = []\n",
        "# with torch.no_grad():\n",
        "#     model.eval()\n",
        "\n",
        "#     bar = tqdm(enumerate(testDataloader), total=len(testDataloader))\n",
        "\n",
        "#     for step, (imgs, img_codes) in bar:\n",
        "#         # imgs : (bs, N, C, H, W), torch.Tensor\n",
        "#         # img_codes (bs, N), list(str)\n",
        "#         imgs = imgs.to(CONFIG['device'])\n",
        "#         imgs = rearrange(imgs, 'bs N C H W -> (bs N) C H W')\n",
        "#         logits = model(imgs)\n",
        "#         # logits : ( (bs * N), num_classes)\n",
        "#         logits = logits.detach().cpu()\n",
        "#         logits = rearrange(\n",
        "#             logits, '(bs N) num_classes -> bs N num_classes', bs=CONFIG['valid_batch_size'])\n",
        "#         output = np.argmax(torch.softmax(logits, dim=-1), axis=-1)\n",
        "#         output = np.array(output)\n",
        "#         # (bs, N)\n",
        "#         output = stats.mode(output, axis=1)[0].reshape(-1)\n",
        "#         # (bs)\n",
        "#         output = [class_dict[i] for i in output]\n",
        "\n",
        "#         print(img_codes)\n",
        "#         print(output)\n",
        "\n",
        "#         img_code_list.extend(img_codes)\n",
        "#         outputs.extend(output)\n"
      ]
    },
    {
      "cell_type": "markdown",
      "metadata": {},
      "source": [
        "# Inference"
      ]
    },
    {
      "cell_type": "code",
      "execution_count": 68,
      "metadata": {
        "colab": {
          "base_uri": "https://localhost:8080/"
        },
        "execution": {
          "iopub.execute_input": "2022-01-15T13:12:26.298661Z",
          "iopub.status.busy": "2022-01-15T13:12:26.298450Z",
          "iopub.status.idle": "2022-01-15T13:12:52.540238Z",
          "shell.execute_reply": "2022-01-15T13:12:52.539260Z",
          "shell.execute_reply.started": "2022-01-15T13:12:26.298635Z"
        },
        "id": "HL-JTnnLrKR8",
        "outputId": "cb966e56-a1b3-49c0-af10-9e6a16849e53",
        "trusted": true
      },
      "outputs": [
        {
          "name": "stderr",
          "output_type": "stream",
          "text": [
            "100%|██████████| 812/812 [1:00:34<00:00,  4.48s/it]\n"
          ]
        }
      ],
      "source": [
        "# no TTA\n",
        "with torch.no_grad():\n",
        "\n",
        "    for model_list in models.values():\n",
        "        for model in model_list :\n",
        "            model.eval()\n",
        "\n",
        "    img_code_list = []\n",
        "    outputs = []\n",
        "        \n",
        "    bar = tqdm(enumerate(testDataloader), total=len(testDataloader))\n",
        "\n",
        "    for step, (img_list, img_code) in bar:\n",
        "        # img : list of (bs, C, H, W)\n",
        "        # img_code : (bs)\n",
        "        \n",
        "        probs_list = []\n",
        "        # list of (bs, num_classes)\n",
        "\n",
        "        for i, model_list in enumerate(models.values()):\n",
        "            img= img_list[i]\n",
        "            img = img.to(device)\n",
        "            batch_size = img.shape[0]\n",
        "        \n",
        "            for model in model_list:\n",
        "                logits = model(img)\n",
        "                logits = logits.cpu()\n",
        "                # (bs, num_classes)\n",
        "                # 모델들마다 logit들의 값의 크기가 다를 수 있으므로, softmax를 이용해 정규화하는 작업이 필요하다\n",
        "                prob = torch.softmax(logits, dim = -1)\n",
        "                # (bs, num_classes)\n",
        "                probs_list.append(prob)\n",
        "            \n",
        "        probs_list = torch.stack(probs_list)\n",
        "        # (num_model, bs, num_clases)\n",
        "        probs = torch.sum(probs_list, dim = 0)\n",
        "        # (bs, num_classes)\n",
        "\n",
        "        output = np.argmax(torch.softmax(probs, dim=-1), axis=-1) # torch.Tensor, (bs,)\n",
        "        output = np.array(output)\n",
        "        output = [class_dict[i] for i in output]\n",
        "\n",
        "        img_code_list.extend(img_code)\n",
        "        outputs.extend(output)\n",
        "\n",
        "        assert len(img_code_list) == len(outputs)\n",
        "\n",
        "\n"
      ]
    },
    {
      "cell_type": "code",
      "execution_count": 69,
      "metadata": {
        "execution": {
          "iopub.status.busy": "2022-01-15T13:12:52.541065Z",
          "iopub.status.idle": "2022-01-15T13:12:52.542062Z",
          "shell.execute_reply": "2022-01-15T13:12:52.541760Z",
          "shell.execute_reply.started": "2022-01-15T13:12:52.541726Z"
        },
        "id": "wRvZmcZ2rKR8",
        "trusted": true
      },
      "outputs": [],
      "source": [
        "result = pd.DataFrame()\n",
        "result['image'] = img_code_list\n",
        "result['label'] = outputs\n",
        "SUBMIT_FILE_NAME = 'submit_effnetv2m_swin_deit_b4ns512_coatmini224.csv'\n",
        "result.to_csv(SUBMIT_FILE_NAME,index= False, index_label=False)"
      ]
    },
    {
      "cell_type": "code",
      "execution_count": 70,
      "metadata": {
        "colab": {
          "base_uri": "https://localhost:8080/"
        },
        "id": "JoeOAnxBrKR8",
        "outputId": "dcf0c8ba-2194-452e-bde3-a130117753de"
      },
      "outputs": [
        {
          "data": {
            "text/plain": [
              "['/content/wandb/run-20220117_111755-1u5wdz84/files/submit_effnetv2m_swin_deit_noisy.csv']"
            ]
          },
          "execution_count": 70,
          "metadata": {},
          "output_type": "execute_result"
        }
      ],
      "source": [
        "wandb.save(SUBMIT_FILE_NAME)\n"
      ]
    }
  ],
  "metadata": {
    "accelerator": "GPU",
    "colab": {
      "collapsed_sections": [],
      "name": "lg-inf-Ensemble.ipynb",
      "provenance": []
    },
    "kernelspec": {
      "display_name": "Python 3",
      "language": "python",
      "name": "python3"
    },
    "language_info": {
      "codemirror_mode": {
        "name": "ipython",
        "version": 3
      },
      "file_extension": ".py",
      "mimetype": "text/x-python",
      "name": "python",
      "nbconvert_exporter": "python",
      "pygments_lexer": "ipython3",
      "version": "3.9.7"
    },
    "widgets": {
      "application/vnd.jupyter.widget-state+json": {
        "5e13afa287994746aff6d779905935fc": {
          "model_module": "@jupyter-widgets/base",
          "model_module_version": "1.2.0",
          "model_name": "LayoutModel",
          "state": {
            "_model_module": "@jupyter-widgets/base",
            "_model_module_version": "1.2.0",
            "_model_name": "LayoutModel",
            "_view_count": null,
            "_view_module": "@jupyter-widgets/base",
            "_view_module_version": "1.2.0",
            "_view_name": "LayoutView",
            "align_content": null,
            "align_items": null,
            "align_self": null,
            "border": null,
            "bottom": null,
            "display": null,
            "flex": null,
            "flex_flow": null,
            "grid_area": null,
            "grid_auto_columns": null,
            "grid_auto_flow": null,
            "grid_auto_rows": null,
            "grid_column": null,
            "grid_gap": null,
            "grid_row": null,
            "grid_template_areas": null,
            "grid_template_columns": null,
            "grid_template_rows": null,
            "height": null,
            "justify_content": null,
            "justify_items": null,
            "left": null,
            "margin": null,
            "max_height": null,
            "max_width": null,
            "min_height": null,
            "min_width": null,
            "object_fit": null,
            "object_position": null,
            "order": null,
            "overflow": null,
            "overflow_x": null,
            "overflow_y": null,
            "padding": null,
            "right": null,
            "top": null,
            "visibility": null,
            "width": null
          }
        },
        "5fb4bdb7170843628c1b7e7629650358": {
          "model_module": "@jupyter-widgets/controls",
          "model_module_version": "1.5.0",
          "model_name": "VBoxModel",
          "state": {
            "_dom_classes": [],
            "_model_module": "@jupyter-widgets/controls",
            "_model_module_version": "1.5.0",
            "_model_name": "VBoxModel",
            "_view_count": null,
            "_view_module": "@jupyter-widgets/controls",
            "_view_module_version": "1.5.0",
            "_view_name": "VBoxView",
            "box_style": "",
            "children": [
              "IPY_MODEL_e5c163b89fe94f87a902f9b8ade4ada3",
              "IPY_MODEL_90e02723bc8b41f8806df4816fe5ea6b"
            ],
            "layout": "IPY_MODEL_afabeaf01109403a9eb12062da8b9758"
          }
        },
        "70e1898784824d1b8b583f889ff90ff8": {
          "model_module": "@jupyter-widgets/base",
          "model_module_version": "1.2.0",
          "model_name": "LayoutModel",
          "state": {
            "_model_module": "@jupyter-widgets/base",
            "_model_module_version": "1.2.0",
            "_model_name": "LayoutModel",
            "_view_count": null,
            "_view_module": "@jupyter-widgets/base",
            "_view_module_version": "1.2.0",
            "_view_name": "LayoutView",
            "align_content": null,
            "align_items": null,
            "align_self": null,
            "border": null,
            "bottom": null,
            "display": null,
            "flex": null,
            "flex_flow": null,
            "grid_area": null,
            "grid_auto_columns": null,
            "grid_auto_flow": null,
            "grid_auto_rows": null,
            "grid_column": null,
            "grid_gap": null,
            "grid_row": null,
            "grid_template_areas": null,
            "grid_template_columns": null,
            "grid_template_rows": null,
            "height": null,
            "justify_content": null,
            "justify_items": null,
            "left": null,
            "margin": null,
            "max_height": null,
            "max_width": null,
            "min_height": null,
            "min_width": null,
            "object_fit": null,
            "object_position": null,
            "order": null,
            "overflow": null,
            "overflow_x": null,
            "overflow_y": null,
            "padding": null,
            "right": null,
            "top": null,
            "visibility": null,
            "width": null
          }
        },
        "90e02723bc8b41f8806df4816fe5ea6b": {
          "model_module": "@jupyter-widgets/controls",
          "model_module_version": "1.5.0",
          "model_name": "FloatProgressModel",
          "state": {
            "_dom_classes": [],
            "_model_module": "@jupyter-widgets/controls",
            "_model_module_version": "1.5.0",
            "_model_name": "FloatProgressModel",
            "_view_count": null,
            "_view_module": "@jupyter-widgets/controls",
            "_view_module_version": "1.5.0",
            "_view_name": "ProgressView",
            "bar_style": "",
            "description": "",
            "description_tooltip": null,
            "layout": "IPY_MODEL_70e1898784824d1b8b583f889ff90ff8",
            "max": 1,
            "min": 0,
            "orientation": "horizontal",
            "style": "IPY_MODEL_cab72b65895c4b9aa6bd773067793bb4",
            "value": 1
          }
        },
        "afabeaf01109403a9eb12062da8b9758": {
          "model_module": "@jupyter-widgets/base",
          "model_module_version": "1.2.0",
          "model_name": "LayoutModel",
          "state": {
            "_model_module": "@jupyter-widgets/base",
            "_model_module_version": "1.2.0",
            "_model_name": "LayoutModel",
            "_view_count": null,
            "_view_module": "@jupyter-widgets/base",
            "_view_module_version": "1.2.0",
            "_view_name": "LayoutView",
            "align_content": null,
            "align_items": null,
            "align_self": null,
            "border": null,
            "bottom": null,
            "display": null,
            "flex": null,
            "flex_flow": null,
            "grid_area": null,
            "grid_auto_columns": null,
            "grid_auto_flow": null,
            "grid_auto_rows": null,
            "grid_column": null,
            "grid_gap": null,
            "grid_row": null,
            "grid_template_areas": null,
            "grid_template_columns": null,
            "grid_template_rows": null,
            "height": null,
            "justify_content": null,
            "justify_items": null,
            "left": null,
            "margin": null,
            "max_height": null,
            "max_width": null,
            "min_height": null,
            "min_width": null,
            "object_fit": null,
            "object_position": null,
            "order": null,
            "overflow": null,
            "overflow_x": null,
            "overflow_y": null,
            "padding": null,
            "right": null,
            "top": null,
            "visibility": null,
            "width": null
          }
        },
        "cab72b65895c4b9aa6bd773067793bb4": {
          "model_module": "@jupyter-widgets/controls",
          "model_module_version": "1.5.0",
          "model_name": "ProgressStyleModel",
          "state": {
            "_model_module": "@jupyter-widgets/controls",
            "_model_module_version": "1.5.0",
            "_model_name": "ProgressStyleModel",
            "_view_count": null,
            "_view_module": "@jupyter-widgets/base",
            "_view_module_version": "1.2.0",
            "_view_name": "StyleView",
            "bar_color": null,
            "description_width": ""
          }
        },
        "e5c163b89fe94f87a902f9b8ade4ada3": {
          "model_module": "@jupyter-widgets/controls",
          "model_module_version": "1.5.0",
          "model_name": "LabelModel",
          "state": {
            "_dom_classes": [],
            "_model_module": "@jupyter-widgets/controls",
            "_model_module_version": "1.5.0",
            "_model_name": "LabelModel",
            "_view_count": null,
            "_view_module": "@jupyter-widgets/controls",
            "_view_module_version": "1.5.0",
            "_view_name": "LabelView",
            "description": "",
            "description_tooltip": null,
            "layout": "IPY_MODEL_5e13afa287994746aff6d779905935fc",
            "placeholder": "​",
            "style": "IPY_MODEL_e7720e64b8de49dd85cd6b4d5cac1d02",
            "value": " 0.01MB of 0.01MB uploaded (0.00MB deduped)\r"
          }
        },
        "e7720e64b8de49dd85cd6b4d5cac1d02": {
          "model_module": "@jupyter-widgets/controls",
          "model_module_version": "1.5.0",
          "model_name": "DescriptionStyleModel",
          "state": {
            "_model_module": "@jupyter-widgets/controls",
            "_model_module_version": "1.5.0",
            "_model_name": "DescriptionStyleModel",
            "_view_count": null,
            "_view_module": "@jupyter-widgets/base",
            "_view_module_version": "1.2.0",
            "_view_name": "StyleView",
            "description_width": ""
          }
        }
      }
    }
  },
  "nbformat": 4,
  "nbformat_minor": 0
}
